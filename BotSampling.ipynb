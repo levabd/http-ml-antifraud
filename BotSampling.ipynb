{
 "cells": [
  {
   "cell_type": "code",
   "execution_count": 1,
   "metadata": {
    "collapsed": true
   },
   "outputs": [],
   "source": [
    "import pandas as pd\n",
    "import numpy as np\n",
    "\n",
    "import matplotlib.pylab as plt\n",
    "%matplotlib inline\n",
    "\n",
    "from tqdm import tqdm\n",
    "\n",
    "pd.set_option(\"display.max_rows\", 10)\n",
    "pd.set_option('display.max_columns', 1100)"
   ]
  },
  {
   "cell_type": "markdown",
   "metadata": {},
   "source": [
    "## Предположения\n",
    "\n",
    "- Наблюдения в логах получены независимо\n",
    "- Хэдэры ботов получены перемешиванием лейблов существующих корректных юзер-агентов"
   ]
  },
  {
   "cell_type": "markdown",
   "metadata": {},
   "source": [
    "### Посмотрим распределение юзер-агентов\n",
    "\n",
    "на примере одного из лог файлов. Например 35-го по счету"
   ]
  },
  {
   "cell_type": "code",
   "execution_count": 13,
   "metadata": {
    "collapsed": false
   },
   "outputs": [
    {
     "name": "stderr",
     "output_type": "stream",
     "text": [
      "  0%|          | 0/127 [00:00<?, ?it/s]\n"
     ]
    }
   ],
   "source": [
    "from logParser import ParseLogsFromFolder\n",
    "\n",
    "main_data, values_data, order_data = ParseLogsFromFolder('Logs/', 35, 36, only_order=False)"
   ]
  },
  {
   "cell_type": "code",
   "execution_count": 99,
   "metadata": {
    "collapsed": false
   },
   "outputs": [
    {
     "name": "stdout",
     "output_type": "stream",
     "text": [
      "(15214, 3)\n"
     ]
    },
    {
     "data": {
      "text/plain": [
       "Mozilla/5.0 (compatible; YandexBot/3.0; +http://yandex.com/bots)                                                                                                                                       0.130340\n",
       "Mozilla/5.0 (compatible; bingbot/2.0; +http://www.bing.com/bingbot.htm)                                                                                                                                0.049888\n",
       "Mozilla/5.0 (iPhone; CPU iPhone OS 7_0 like Mac OS X) AppleWebKit/537.51.1 (KHTML, like Gecko) Version/7.0 Mobile/11A465 Safari/9537.53 (compatible; bingbot/2.0; +http://www.bing.com/bingbot.htm)    0.035954\n",
       "Mozilla/5.0 (compatible; spbot/5.0.3; +http://OpenLinkProfiler.org/bot )                                                                                                                               0.024385\n",
       "Mozilla/5.0 (Windows NT 5.1; rv:7.0.1) Gecko/20100101 Firefox/7.0.1                                                                                                                                    0.023925\n",
       "Name: User_Agent, dtype: float64"
      ]
     },
     "execution_count": 99,
     "metadata": {},
     "output_type": "execute_result"
    }
   ],
   "source": [
    "df = pd.DataFrame(main_data)\n",
    "# del(main_data)\n",
    "print(df.shape)\n",
    "distribution_frame = df.User_Agent.value_counts() / df.shape[0] \n",
    "distribution_frame.head()"
   ]
  },
  {
   "cell_type": "markdown",
   "metadata": {},
   "source": [
    "### На основе новой выборки получим хэдэры с намешанными лэйблами\n",
    "\n",
    "с полученным выше распределением юзер-агентов"
   ]
  },
  {
   "cell_type": "code",
   "execution_count": 15,
   "metadata": {
    "collapsed": false
   },
   "outputs": [
    {
     "name": "stderr",
     "output_type": "stream",
     "text": [
      "  0%|          | 0/127 [00:00<?, ?it/s]\n"
     ]
    }
   ],
   "source": [
    "from logParser import ParseLogsFromFolder\n",
    "\n",
    "main_data, values_data, order_data = ParseLogsFromFolder('Logs/', 36, 37, only_order=False)"
   ]
  },
  {
   "cell_type": "code",
   "execution_count": 18,
   "metadata": {
    "collapsed": false
   },
   "outputs": [
    {
     "name": "stdout",
     "output_type": "stream",
     "text": [
      "(16775, 3)\n"
     ]
    },
    {
     "data": {
      "text/plain": [
       "0        Mozilla/5.0 (compatible; YandexBot/3.0; +http:...\n",
       "1        Mozilla/5.0 (Macintosh; Intel Mac OS X 10_12_2...\n",
       "2        Mozilla/5.0 (compatible; MJ12bot/v1.4.7; http:...\n",
       "3        Mozilla/5.0 (compatible; YandexBot/3.0; +http:...\n",
       "4        Mozilla/5.0 (iPhone; CPU iPhone OS 10_2_1 like...\n",
       "                               ...                        \n",
       "15209    Mozilla/5.0 (Windows NT 6.3; WOW64) AppleWebKi...\n",
       "15210    Mozilla/5.0 (compatible; YandexMetrika/2.0; +h...\n",
       "15211    Mozilla/5.0 (compatible; AhrefsBot/5.2; +http:...\n",
       "15212    Mozilla/5.0 (iPhone; CPU iPhone OS 7_0 like Ma...\n",
       "15213    Mozilla/5.0 (compatible; Googlebot/2.1; +http:...\n",
       "Name: User_Agent, dtype: object"
      ]
     },
     "execution_count": 18,
     "metadata": {},
     "output_type": "execute_result"
    }
   ],
   "source": [
    "main = pd.DataFrame(main_data)\n",
    "print(df.shape)\n",
    "main.User_Agent"
   ]
  },
  {
   "cell_type": "code",
   "execution_count": 24,
   "metadata": {
    "collapsed": false
   },
   "outputs": [
    {
     "data": {
      "text/plain": [
       "Mozilla/5.0 (compatible; YandexBot/3.0; +http://yandex.com/bots)                                                                                                                       0.127571\n",
       "Mozilla/5.0 (compatible; bingbot/2.0; +http://www.bing.com/bingbot.htm)                                                                                                                0.159523\n",
       "Mozilla/5.0 (compatible; MegaIndex.ru/2.0; +http://megaindex.com/crawler)                                                                                                              0.188137\n",
       "Mozilla/5.0 (compatible; Googlebot/2.1; +http://www.google.com/bot.html)                                                                                                               0.216751\n",
       "Mediapartners-Google                                                                                                                                                                   0.242504\n",
       "                                                                                                                                                                                         ...   \n",
       "Mozilla/5.0 (Linux; Android 6.0.1; SAMSUNG SM-G900F/G900FXXU1CPIH Build/MMB29M) AppleWebKit/537.36 (KHTML, like Gecko) SamsungBrowser/4.0 Chrome/44.0.2403.133 Mobile Safari/537.36    0.994694\n",
       "Mozilla/5.0 (Linux; Android 6.0.1; ZB500KL Build/MMB29M) AppleWebKit/537.36 (KHTML, like Gecko) Chrome/56.0.2924.87 Mobile Safari/537.36                                               0.994754\n",
       "Mozilla/5.0 (Linux; Android 5.1; XT1028 Build/LPBS23.13-33.7-2) AppleWebKit/537.36 (KHTML, like Gecko) Chrome/56.0.2924.87 Mobile Safari/537.36                                        0.994814\n",
       "Mozilla/5.0 (Linux; Android 4.4.2; IQ4409 Quad Build/KOT49H) AppleWebKit/537.36 (KHTML, like Gecko) Chrome/54.0.2840.85 Mobile Safari/537.36                                           0.994873\n",
       "Mozilla/5.0 (Linux; Android 5.1.1; Redmi 3 Build/LMY47V) AppleWebKit/537.36 (KHTML, like Gecko) Chrome/50.0.2661.89 Mobile Safari/537.36                                               0.994933\n",
       "Name: User_Agent, dtype: float64"
      ]
     },
     "execution_count": 24,
     "metadata": {},
     "output_type": "execute_result"
    }
   ],
   "source": [
    "np.cumsum(distribution_frame)"
   ]
  },
  {
   "cell_type": "code",
   "execution_count": 57,
   "metadata": {
    "collapsed": false
   },
   "outputs": [
    {
     "data": {
      "text/plain": [
       "(15214, 3)"
      ]
     },
     "execution_count": 57,
     "metadata": {},
     "output_type": "execute_result"
    }
   ],
   "source": [
    "main.shape"
   ]
  },
  {
   "cell_type": "code",
   "execution_count": 91,
   "metadata": {
    "collapsed": false
   },
   "outputs": [
    {
     "name": "stdout",
     "output_type": "stream",
     "text": [
      "0.99488\n",
      "Mozilla/5.0 (Linux; Android 6.0.1; SAMSUNG SM-G900F/G900FXXU1CPIH Build/MMB29M) AppleWebKit/537.36 (KHTML, like Gecko) SamsungBrowser/4.0 Chrome/44.0.2403.133 Mobile Safari/537.36    False\n",
      "Mozilla/5.0 (Linux; Android 6.0.1; ZB500KL Build/MMB29M) AppleWebKit/537.36 (KHTML, like Gecko) Chrome/56.0.2924.87 Mobile Safari/537.36                                               False\n",
      "Mozilla/5.0 (Linux; Android 5.1; XT1028 Build/LPBS23.13-33.7-2) AppleWebKit/537.36 (KHTML, like Gecko) Chrome/56.0.2924.87 Mobile Safari/537.36                                        False\n",
      "Mozilla/5.0 (Linux; Android 4.4.2; IQ4409 Quad Build/KOT49H) AppleWebKit/537.36 (KHTML, like Gecko) Chrome/54.0.2840.85 Mobile Safari/537.36                                           False\n",
      "Mozilla/5.0 (Linux; Android 5.1.1; Redmi 3 Build/LMY47V) AppleWebKit/537.36 (KHTML, like Gecko) Chrome/50.0.2661.89 Mobile Safari/537.36                                                True\n",
      "Name: User_Agent, dtype: bool\n"
     ]
    },
    {
     "data": {
      "text/plain": [
       "'Mozilla/5.0 (Linux; Android 5.1.1; Redmi 3 Build/LMY47V) AppleWebKit/537.36 (KHTML, like Gecko) Chrome/50.0.2661.89 Mobile Safari/537.36'"
      ]
     },
     "execution_count": 91,
     "metadata": {},
     "output_type": "execute_result"
    }
   ],
   "source": [
    "x = np.random.rand()\n",
    "print(x)\n",
    "print((np.cumsum(distribution_frame) > x).tail())\n",
    "distribution_frame[np.cumsum(distribution_frame) > x].index[0]"
   ]
  },
  {
   "cell_type": "code",
   "execution_count": 103,
   "metadata": {
    "collapsed": false
   },
   "outputs": [
    {
     "data": {
      "text/plain": [
       "0.998422505586937"
      ]
     },
     "execution_count": 103,
     "metadata": {},
     "output_type": "execute_result"
    }
   ],
   "source": [
    "distribution_frame.sum()"
   ]
  },
  {
   "cell_type": "code",
   "execution_count": 106,
   "metadata": {
    "collapsed": false
   },
   "outputs": [
    {
     "data": {
      "text/plain": [
       "Mozilla/5.0 (compatible; YandexBot/3.0; +http://yandex.com/bots)                                                                                                                                                            0.135204\n",
       "Mozilla/5.0 (compatible; bingbot/2.0; +http://www.bing.com/bingbot.htm)                                                                                                                                                     0.048968\n",
       "Mozilla/5.0 (iPhone; CPU iPhone OS 7_0 like Mac OS X) AppleWebKit/537.51.1 (KHTML, like Gecko) Version/7.0 Mobile/11A465 Safari/9537.53 (compatible; bingbot/2.0; +http://www.bing.com/bingbot.htm)                         0.038057\n",
       "Mozilla/5.0 (Windows NT 6.1; WOW64) AppleWebKit/537.36 (KHTML, like Gecko) Chrome/56.0.2924.87 Safari/537.36                                                                                                                0.023991\n",
       "Mozilla/5.0 (compatible; spbot/5.0.3; +http://OpenLinkProfiler.org/bot )                                                                                                                                                    0.023400\n",
       "                                                                                                                                                                                                                              ...   \n",
       "Mozilla/4.0 (compatible; MSIE 7.0; Windows NT 5.1; .NET CLR 1.1.4322; InfoPath.2; .NET CLR 2.0.50727; .NET CLR 3.0.4506.2152; .NET CLR 3.5.30729)                                                                           0.000066\n",
       "Opera/9.80 (J2ME/MIDP; Opera Mini/4.2.13216/28.2555; U; ru) Presto/2.8.119 Version/11.10                                                                                                                                    0.000066\n",
       "Mozilla/5.0 (Mobile; Windows Phone 8.1; Android 4.0; ARM; Trident/7.0; Touch; rv:11.0; IEMobile/11.0; Microsoft; Lumia 430 Dual SIM) like iPhone OS 7_0_3 Mac OS X AppleWebKit/537 (KHTML, like Gecko) Mobile Safari/537    0.000066\n",
       "Mozilla/5.0 (Linux; Android 4.2.2; Lenovo S660 Build/JDQ39) AppleWebKit/537.36 (KHTML, like Gecko) Chrome/55.0.2883.95 YaBrowser/17.1.0.412.00 Mobile Safari/537.36                                                         0.000066\n",
       "Opera/9.80 (J2ME/MIDP; Opera Mini/5.1.21051/28.2725; U; ru) Presto/2.8.119 Version/11.10                                                                                                                                    0.000066\n",
       "dtype: float64"
      ]
     },
     "execution_count": 106,
     "metadata": {},
     "output_type": "execute_result"
    }
   ],
   "source": [
    "sample_user_agents = []\n",
    "norm_koef = distribution_frame.sum()\n",
    "for sample_index in range(main.shape[0]):\n",
    "    uniform_value = np.random.rand() * norm_koef \n",
    "#     print (uniform_value)\n",
    "    sample_user_agents.append(\n",
    "        distribution_frame[np.cumsum(distribution_frame) > uniform_value].index[0])\n",
    "sample_user_agents = pd.Series(sample_user_agents)\n",
    "sample_user_agents.value_counts() / main.shape[0]"
   ]
  },
  {
   "cell_type": "code",
   "execution_count": 109,
   "metadata": {
    "collapsed": false
   },
   "outputs": [
    {
     "data": {
      "text/html": [
       "<div>\n",
       "<table border=\"1\" class=\"dataframe\">\n",
       "  <thead>\n",
       "    <tr style=\"text-align: right;\">\n",
       "      <th></th>\n",
       "      <th>User_Agent</th>\n",
       "      <th>id</th>\n",
       "      <th>ip</th>\n",
       "    </tr>\n",
       "  </thead>\n",
       "  <tbody>\n",
       "    <tr>\n",
       "      <th>0</th>\n",
       "      <td>Mozilla/5.0 (compatible; YandexBot/3.0; +http:...</td>\n",
       "      <td>1490562002</td>\n",
       "      <td>178.154.189.20</td>\n",
       "    </tr>\n",
       "    <tr>\n",
       "      <th>1</th>\n",
       "      <td>Mozilla/5.0 (iPhone; CPU iPhone OS 10_2_1 like...</td>\n",
       "      <td>1490562014</td>\n",
       "      <td>144.76.87.206</td>\n",
       "    </tr>\n",
       "    <tr>\n",
       "      <th>2</th>\n",
       "      <td>Mozilla/4.0 (compatible; MSIE 8.0; Windows NT ...</td>\n",
       "      <td>1490562020</td>\n",
       "      <td>173.234.159.250</td>\n",
       "    </tr>\n",
       "    <tr>\n",
       "      <th>3</th>\n",
       "      <td>Opera/9.80 (J2ME/MIDP; Opera Mini/4.1.15082/59...</td>\n",
       "      <td>1490562020</td>\n",
       "      <td>93.158.152.7</td>\n",
       "    </tr>\n",
       "    <tr>\n",
       "      <th>4</th>\n",
       "      <td>Mozilla/5.0 (compatible; YandexBot/3.0; +http:...</td>\n",
       "      <td>1490562033</td>\n",
       "      <td>62.183.127.125</td>\n",
       "    </tr>\n",
       "  </tbody>\n",
       "</table>\n",
       "</div>"
      ],
      "text/plain": [
       "                                          User_Agent          id  \\\n",
       "0  Mozilla/5.0 (compatible; YandexBot/3.0; +http:...  1490562002   \n",
       "1  Mozilla/5.0 (iPhone; CPU iPhone OS 10_2_1 like...  1490562014   \n",
       "2  Mozilla/4.0 (compatible; MSIE 8.0; Windows NT ...  1490562020   \n",
       "3  Opera/9.80 (J2ME/MIDP; Opera Mini/4.1.15082/59...  1490562020   \n",
       "4  Mozilla/5.0 (compatible; YandexBot/3.0; +http:...  1490562033   \n",
       "\n",
       "                ip  \n",
       "0   178.154.189.20  \n",
       "1    144.76.87.206  \n",
       "2  173.234.159.250  \n",
       "3     93.158.152.7  \n",
       "4   62.183.127.125  "
      ]
     },
     "execution_count": 109,
     "metadata": {},
     "output_type": "execute_result"
    }
   ],
   "source": [
    "main.User_Agent = sample_user_agents\n",
    "main.head()"
   ]
  },
  {
   "cell_type": "markdown",
   "metadata": {},
   "source": [
    "Как видим в целом распределение юзер-агентов как мы и хотели\n",
    "\n",
    "Обобщим в функцию и добавим в logParser"
   ]
  },
  {
   "cell_type": "code",
   "execution_count": 110,
   "metadata": {
    "collapsed": true
   },
   "outputs": [],
   "source": [
    "def GetBotSample(distr_log_index_begin, distr_log_index_end, \n",
    "                 base_log_index_begin, base_log_index_end):\n",
    "    main_data, _, _ = ParseLogsFromFolder(\n",
    "        'Logs/', distr_log_index_begin, distr_log_index_end, only_order=False)\n",
    "    df = pd.DataFrame(main_data)\n",
    "    del(main_data)\n",
    "    distribution_frame = df.User_Agent.value_counts() / df.shape[0] \n",
    "    cumulative_frame = np.cumsum(distribution_frame)\n",
    "    \n",
    "    main_data, values_data, order_data = ParseLogsFromFolder(\n",
    "        'Logs/', base_log_index_begin, base_log_index_end, only_order=False)\n",
    "    main_df = pd.DataFrame(main_data)\n",
    "    \n",
    "    sample_user_agents = []\n",
    "    norm_koef = distribution_frame.sum()\n",
    "    for sample_index in range(main_df.shape[0]):\n",
    "        uniform_value = np.random.rand() * norm_koef \n",
    "        sample_user_agents.append(\n",
    "            distribution_frame[cumulative_frame > uniform_value].index[0])\n",
    "    sample_user_agents = pd.Series(sample_user_agents)\n",
    "    \n",
    "    main_df.User_Agent = sample_user_agents\n",
    "    \n",
    "    return main_df, values_data, order_data"
   ]
  },
  {
   "cell_type": "code",
   "execution_count": 111,
   "metadata": {
    "collapsed": false
   },
   "outputs": [
    {
     "name": "stderr",
     "output_type": "stream",
     "text": [
      "  0%|          | 0/127 [00:00<?, ?it/s]\n",
      "  0%|          | 0/127 [00:00<?, ?it/s]\n"
     ]
    },
    {
     "data": {
      "text/html": [
       "<div>\n",
       "<table border=\"1\" class=\"dataframe\">\n",
       "  <thead>\n",
       "    <tr style=\"text-align: right;\">\n",
       "      <th></th>\n",
       "      <th>User_Agent</th>\n",
       "      <th>id</th>\n",
       "      <th>ip</th>\n",
       "    </tr>\n",
       "  </thead>\n",
       "  <tbody>\n",
       "    <tr>\n",
       "      <th>0</th>\n",
       "      <td>Mozilla/5.0 (iPhone; CPU iPhone OS 8_1 like Ma...</td>\n",
       "      <td>1493326803</td>\n",
       "      <td>37.187.134.116</td>\n",
       "    </tr>\n",
       "    <tr>\n",
       "      <th>1</th>\n",
       "      <td>Mozilla/4.0 (compatible; MSIE 6.0; Windows XP)</td>\n",
       "      <td>1493326826</td>\n",
       "      <td>37.229.253.129</td>\n",
       "    </tr>\n",
       "    <tr>\n",
       "      <th>2</th>\n",
       "      <td>Mozilla/5.0 (compatible; YandexBot/3.0; +http:...</td>\n",
       "      <td>1493326826</td>\n",
       "      <td>37.229.253.129</td>\n",
       "    </tr>\n",
       "    <tr>\n",
       "      <th>3</th>\n",
       "      <td>Mozilla/5.0 (iPhone; CPU iPhone OS 10_2_1 like...</td>\n",
       "      <td>1493326827</td>\n",
       "      <td>37.229.253.129</td>\n",
       "    </tr>\n",
       "    <tr>\n",
       "      <th>4</th>\n",
       "      <td>Mozilla/5.0 (compatible; AhrefsBot/5.2; +http:...</td>\n",
       "      <td>1493326835</td>\n",
       "      <td>95.163.107.73</td>\n",
       "    </tr>\n",
       "    <tr>\n",
       "      <th>...</th>\n",
       "      <td>...</td>\n",
       "      <td>...</td>\n",
       "      <td>...</td>\n",
       "    </tr>\n",
       "    <tr>\n",
       "      <th>16174</th>\n",
       "      <td>Mozilla/5.0 (compatible; YandexBot/3.0; +http:...</td>\n",
       "      <td>1493423201</td>\n",
       "      <td>14.139.38.107</td>\n",
       "    </tr>\n",
       "    <tr>\n",
       "      <th>16175</th>\n",
       "      <td>Mozilla/5.0 (compatible; YandexBot/3.0; +http:...</td>\n",
       "      <td>1493423252</td>\n",
       "      <td>66.249.83.153</td>\n",
       "    </tr>\n",
       "    <tr>\n",
       "      <th>16176</th>\n",
       "      <td>Mozilla/5.0 (Windows NT 6.3; WOW64) AppleWebKi...</td>\n",
       "      <td>1493423358</td>\n",
       "      <td>93.158.152.7</td>\n",
       "    </tr>\n",
       "    <tr>\n",
       "      <th>16177</th>\n",
       "      <td>Mozilla/5.0 (compatible; MJ12bot/v1.4.7; http:...</td>\n",
       "      <td>1493423368</td>\n",
       "      <td>93.158.152.7</td>\n",
       "    </tr>\n",
       "    <tr>\n",
       "      <th>16178</th>\n",
       "      <td>Mozilla/5.0 (compatible; YandexBot/3.0; +http:...</td>\n",
       "      <td>1493423975</td>\n",
       "      <td>31.173.242.196</td>\n",
       "    </tr>\n",
       "  </tbody>\n",
       "</table>\n",
       "<p>16179 rows × 3 columns</p>\n",
       "</div>"
      ],
      "text/plain": [
       "                                              User_Agent          id  \\\n",
       "0      Mozilla/5.0 (iPhone; CPU iPhone OS 8_1 like Ma...  1493326803   \n",
       "1         Mozilla/4.0 (compatible; MSIE 6.0; Windows XP)  1493326826   \n",
       "2      Mozilla/5.0 (compatible; YandexBot/3.0; +http:...  1493326826   \n",
       "3      Mozilla/5.0 (iPhone; CPU iPhone OS 10_2_1 like...  1493326827   \n",
       "4      Mozilla/5.0 (compatible; AhrefsBot/5.2; +http:...  1493326835   \n",
       "...                                                  ...         ...   \n",
       "16174  Mozilla/5.0 (compatible; YandexBot/3.0; +http:...  1493423201   \n",
       "16175  Mozilla/5.0 (compatible; YandexBot/3.0; +http:...  1493423252   \n",
       "16176  Mozilla/5.0 (Windows NT 6.3; WOW64) AppleWebKi...  1493423358   \n",
       "16177  Mozilla/5.0 (compatible; MJ12bot/v1.4.7; http:...  1493423368   \n",
       "16178  Mozilla/5.0 (compatible; YandexBot/3.0; +http:...  1493423975   \n",
       "\n",
       "                   ip  \n",
       "0      37.187.134.116  \n",
       "1      37.229.253.129  \n",
       "2      37.229.253.129  \n",
       "3      37.229.253.129  \n",
       "4       95.163.107.73  \n",
       "...               ...  \n",
       "16174   14.139.38.107  \n",
       "16175   66.249.83.153  \n",
       "16176    93.158.152.7  \n",
       "16177    93.158.152.7  \n",
       "16178  31.173.242.196  \n",
       "\n",
       "[16179 rows x 3 columns]"
      ]
     },
     "execution_count": 111,
     "metadata": {},
     "output_type": "execute_result"
    }
   ],
   "source": [
    "main_bot_data, values_bot_data, order_bot_data = GetBotSample(36, 37, 37, 38)\n",
    "main_bot_data"
   ]
  }
 ],
 "metadata": {
  "kernelspec": {
   "display_name": "Python 3",
   "language": "python",
   "name": "python3"
  },
  "language_info": {
   "codemirror_mode": {
    "name": "ipython",
    "version": 3
   },
   "file_extension": ".py",
   "mimetype": "text/x-python",
   "name": "python",
   "nbconvert_exporter": "python",
   "pygments_lexer": "ipython3",
   "version": "3.6.0"
  }
 },
 "nbformat": 4,
 "nbformat_minor": 2
}

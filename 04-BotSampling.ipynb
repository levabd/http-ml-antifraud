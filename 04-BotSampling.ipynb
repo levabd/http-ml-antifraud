{
 "cells": [
  {
   "cell_type": "code",
   "execution_count": 3,
   "metadata": {
    "collapsed": true
   },
   "outputs": [],
   "source": [
    "import pandas as pd\n",
    "import numpy as np\n",
    "\n",
    "import matplotlib.pylab as plt\n",
    "%matplotlib inline\n",
    "\n",
    "from tqdm import tqdm\n",
    "\n",
    "pd.set_option(\"display.max_rows\", 10)\n",
    "pd.set_option('display.max_columns', 1100)"
   ]
  },
  {
   "cell_type": "markdown",
   "metadata": {},
   "source": [
    "## Предположения\n",
    "\n",
    "- Наблюдения в логах получены независимо\n",
    "- Хэдэры ботов получены перемешиванием лейблов существующих корректных юзер-агентов"
   ]
  },
  {
   "cell_type": "markdown",
   "metadata": {},
   "source": [
    "### Посмотрим распределение юзер-агентов\n",
    "\n",
    "на примере одного из лог файлов. Например 35-го по счету"
   ]
  },
  {
   "cell_type": "code",
   "execution_count": 4,
   "metadata": {},
   "outputs": [
    {
     "name": "stderr",
     "output_type": "stream",
     "text": [
      "  0%|          | 0/127 [00:00<?, ?it/s]\n"
     ]
    }
   ],
   "source": [
    "from logParser import ParseLogsFromFolder\n",
    "\n",
    "main_data, values_data, order_data = ParseLogsFromFolder('Logs/', 35, 36, only_order=False)"
   ]
  },
  {
   "cell_type": "code",
   "execution_count": 5,
   "metadata": {},
   "outputs": [
    {
     "name": "stdout",
     "output_type": "stream",
     "text": [
      "(31300, 3)\n"
     ]
    },
    {
     "data": {
      "text/plain": [
       "Mozilla/5.0 (compatible; YandexBot/3.0; +http://yandex.com/bots)                                                0.119936\n",
       "Mozilla/5.0 (compatible; MJ12bot/v1.4.7; http://mj12bot.com/)                                                   0.063898\n",
       "Mozilla/5.0 (compatible; bingbot/2.0; +http://www.bing.com/bingbot.htm)                                         0.039617\n",
       "Mozilla/5.0 (compatible; spbot/5.0.3; +http://OpenLinkProfiler.org/bot )                                        0.030863\n",
       "Mozilla/5.0 (Windows NT 6.1; WOW64) AppleWebKit/537.36 (KHTML, like Gecko) Chrome/56.0.2924.87 Safari/537.36    0.023514\n",
       "Name: User_Agent, dtype: float64"
      ]
     },
     "execution_count": 5,
     "metadata": {},
     "output_type": "execute_result"
    }
   ],
   "source": [
    "df = pd.DataFrame(main_data)\n",
    "# del(main_data)\n",
    "print(df.shape)\n",
    "distribution_frame = df.User_Agent.value_counts() / df.shape[0] \n",
    "distribution_frame.head()"
   ]
  },
  {
   "cell_type": "markdown",
   "metadata": {},
   "source": [
    "### На основе новой выборки получим хэдэры с намешанными лэйблами\n",
    "\n",
    "с полученным выше распределением юзер-агентов"
   ]
  },
  {
   "cell_type": "code",
   "execution_count": 6,
   "metadata": {},
   "outputs": [
    {
     "name": "stderr",
     "output_type": "stream",
     "text": [
      "  0%|          | 0/127 [00:00<?, ?it/s]\n"
     ]
    }
   ],
   "source": [
    "from logParser import ParseLogsFromFolder\n",
    "\n",
    "main_data, values_data, order_data = ParseLogsFromFolder('Logs/', 36, 37, only_order=False)"
   ]
  },
  {
   "cell_type": "code",
   "execution_count": 7,
   "metadata": {},
   "outputs": [
    {
     "name": "stdout",
     "output_type": "stream",
     "text": [
      "(31300, 3)\n"
     ]
    },
    {
     "data": {
      "text/plain": [
       "0                              Opera/8.01 (Windows NT 5.1)\n",
       "1                              Opera/8.01 (Windows NT 5.1)\n",
       "2                              Opera/8.01 (Windows NT 5.1)\n",
       "3        Mozilla/5.0 (compatible; YandexBot/3.0; +http:...\n",
       "4        Mozilla/5.0 (Windows NT 5.1; rv:7.0.1) Gecko/2...\n",
       "                               ...                        \n",
       "13514    Mozilla/5.0 (Windows NT 10.0; Win64; x64; rv:5...\n",
       "13515    Mozilla/5.0 (compatible; bingbot/2.0; +http://...\n",
       "13516    Mozilla/5.0 (compatible; YandexMetrika/2.0; +h...\n",
       "13517    Mozilla/5.0 (compatible; Googlebot/2.1; +http:...\n",
       "13518    Mozilla/5.0 (compatible; YandexBot/3.0; +http:...\n",
       "Name: User_Agent, Length: 13519, dtype: object"
      ]
     },
     "execution_count": 7,
     "metadata": {},
     "output_type": "execute_result"
    }
   ],
   "source": [
    "main = pd.DataFrame(main_data)\n",
    "print(df.shape)\n",
    "main.User_Agent"
   ]
  },
  {
   "cell_type": "code",
   "execution_count": 8,
   "metadata": {},
   "outputs": [
    {
     "data": {
      "text/plain": [
       "Mozilla/5.0 (compatible; YandexBot/3.0; +http://yandex.com/bots)                                                                                 0.119936\n",
       "Mozilla/5.0 (compatible; MJ12bot/v1.4.7; http://mj12bot.com/)                                                                                    0.183834\n",
       "Mozilla/5.0 (compatible; bingbot/2.0; +http://www.bing.com/bingbot.htm)                                                                          0.223450\n",
       "Mozilla/5.0 (compatible; spbot/5.0.3; +http://OpenLinkProfiler.org/bot )                                                                         0.254313\n",
       "Mozilla/5.0 (Windows NT 6.1; WOW64) AppleWebKit/537.36 (KHTML, like Gecko) Chrome/56.0.2924.87 Safari/537.36                                     0.277827\n",
       "                                                                                                                                                   ...   \n",
       "Mozilla/5.0 (Windows NT 6.1) AppleWebKit/537.4 (KHTML, like Gecko) Chrome/22.0.1104.222 YaBrowser/1.5.1104.222 Safari/537.4                      0.994760\n",
       "Mozilla/5.0 (Linux; Android 4.4.4; Ontario_2 Build/I6) AppleWebKit/537.36 (KHTML, like Gecko) Version/4.0 Chrome/33.0.0.0 Safari/537.36          0.994792\n",
       "Mozilla/5.0 (Linux; Android 5.0.1; K019 Build/LRX22C) AppleWebKit/537.36 (KHTML, like Gecko) Chrome/55.0.2883.91 Safari/537.36                   0.994824\n",
       "Mozilla/5.0 (Linux; Android 4.1.2; LG-P765 Build/JZO54K) AppleWebKit/537.36 (KHTML, like Gecko) Chrome/56.0.2924.87 Mobile Safari/537.36         0.994856\n",
       "Mozilla/5.0 (Linux; Android 5.1; ZTE Blade A476 Build/LMY47D) AppleWebKit/537.36 (KHTML, like Gecko) Chrome/55.0.2883.91 Mobile Safari/537.36    0.994888\n",
       "Name: User_Agent, Length: 4206, dtype: float64"
      ]
     },
     "execution_count": 8,
     "metadata": {},
     "output_type": "execute_result"
    }
   ],
   "source": [
    "np.cumsum(distribution_frame)"
   ]
  },
  {
   "cell_type": "code",
   "execution_count": 9,
   "metadata": {},
   "outputs": [
    {
     "data": {
      "text/plain": [
       "(13519, 3)"
      ]
     },
     "execution_count": 9,
     "metadata": {},
     "output_type": "execute_result"
    }
   ],
   "source": [
    "main.shape"
   ]
  },
  {
   "cell_type": "code",
   "execution_count": 10,
   "metadata": {},
   "outputs": [
    {
     "name": "stdout",
     "output_type": "stream",
     "text": [
      "0.83382209303744\n",
      "Mozilla/5.0 (Windows NT 6.1) AppleWebKit/537.4 (KHTML, like Gecko) Chrome/22.0.1104.222 YaBrowser/1.5.1104.222 Safari/537.4                      True\n",
      "Mozilla/5.0 (Linux; Android 4.4.4; Ontario_2 Build/I6) AppleWebKit/537.36 (KHTML, like Gecko) Version/4.0 Chrome/33.0.0.0 Safari/537.36          True\n",
      "Mozilla/5.0 (Linux; Android 5.0.1; K019 Build/LRX22C) AppleWebKit/537.36 (KHTML, like Gecko) Chrome/55.0.2883.91 Safari/537.36                   True\n",
      "Mozilla/5.0 (Linux; Android 4.1.2; LG-P765 Build/JZO54K) AppleWebKit/537.36 (KHTML, like Gecko) Chrome/56.0.2924.87 Mobile Safari/537.36         True\n",
      "Mozilla/5.0 (Linux; Android 5.1; ZTE Blade A476 Build/LMY47D) AppleWebKit/537.36 (KHTML, like Gecko) Chrome/55.0.2883.91 Mobile Safari/537.36    True\n",
      "Name: User_Agent, dtype: bool\n"
     ]
    },
    {
     "data": {
      "text/plain": [
       "'Mozilla/5.0 (Linux; Android 5.0.2; Lenovo S90-A Build/LRX22G) AppleWebKit/537.36 (KHTML, like Gecko) Chrome/56.0.2924.87 Mobile Safari/537.36'"
      ]
     },
     "execution_count": 10,
     "metadata": {},
     "output_type": "execute_result"
    }
   ],
   "source": [
    "x = np.random.rand()\n",
    "print(x)\n",
    "print((np.cumsum(distribution_frame) > x).tail())\n",
    "distribution_frame[np.cumsum(distribution_frame) > x].index[0]"
   ]
  },
  {
   "cell_type": "code",
   "execution_count": 11,
   "metadata": {},
   "outputs": [
    {
     "data": {
      "text/plain": [
       "0.9948881789137841"
      ]
     },
     "execution_count": 11,
     "metadata": {},
     "output_type": "execute_result"
    }
   ],
   "source": [
    "distribution_frame.sum()"
   ]
  },
  {
   "cell_type": "code",
   "execution_count": 12,
   "metadata": {},
   "outputs": [
    {
     "data": {
      "text/plain": [
       "Mozilla/5.0 (compatible; YandexBot/3.0; +http://yandex.com/bots)                                                                                             0.122642\n",
       "Mozilla/5.0 (compatible; MJ12bot/v1.4.7; http://mj12bot.com/)                                                                                                0.060507\n",
       "Mozilla/5.0 (compatible; bingbot/2.0; +http://www.bing.com/bingbot.htm)                                                                                      0.037207\n",
       "Mozilla/5.0 (compatible; spbot/5.0.3; +http://OpenLinkProfiler.org/bot )                                                                                     0.032843\n",
       "Mozilla/5.0 (compatible; Googlebot/2.1; +http://www.google.com/bot.html)                                                                                     0.023301\n",
       "                                                                                                                                                               ...   \n",
       "Mozilla/5.0 (iPhone; CPU iPhone OS 10_0_2 like Mac OS X) AppleWebKit/602.1.50 (KHTML, like Gecko) CriOS/56.0.2924.79 Mobile/14A456 Safari/602.1              0.000074\n",
       "Mozilla/5.0 (Linux; Android 4.4.2; HTC Desire 820G dual sim Build/KOT49H) AppleWebKit/537.36 (KHTML, like Gecko) Chrome/56.0.2924.87 Mobile Safari/537.36    0.000074\n",
       "Mozilla/5.0 (Linux; Android 4.4.2; FS501 Build/KOT49H) AppleWebKit/537.36 (KHTML, like Gecko) Chrome/40.0.2214.109 Mobile Safari/537.36                      0.000074\n",
       "Mozilla/5.0 (Linux; Android 6.0.1; 5056D Build/MMB29M) AppleWebKit/537.36 (KHTML, like Gecko) Chrome/55.0.2883.91 Mobile Safari/537.36                       0.000074\n",
       "Mozilla/5.0 (Linux; U; Android 4.1.2; ru-ru; SonyST26i Build/11.2.A.0.31) AppleWebKit/534.30 (KHTML, like Gecko) Version/4.0 Mobile Safari/534.30            0.000074\n",
       "Length: 2187, dtype: float64"
      ]
     },
     "execution_count": 12,
     "metadata": {},
     "output_type": "execute_result"
    }
   ],
   "source": [
    "sample_user_agents = []\n",
    "norm_koef = distribution_frame.sum()\n",
    "for sample_index in range(main.shape[0]):\n",
    "    uniform_value = np.random.rand() * norm_koef \n",
    "#     print (uniform_value)\n",
    "    sample_user_agents.append(\n",
    "        distribution_frame[np.cumsum(distribution_frame) > uniform_value].index[0])\n",
    "sample_user_agents = pd.Series(sample_user_agents)\n",
    "sample_user_agents.value_counts() / main.shape[0]"
   ]
  },
  {
   "cell_type": "code",
   "execution_count": 13,
   "metadata": {},
   "outputs": [
    {
     "data": {
      "text/html": [
       "<div>\n",
       "<style>\n",
       "    .dataframe thead tr:only-child th {\n",
       "        text-align: right;\n",
       "    }\n",
       "\n",
       "    .dataframe thead th {\n",
       "        text-align: left;\n",
       "    }\n",
       "\n",
       "    .dataframe tbody tr th {\n",
       "        vertical-align: top;\n",
       "    }\n",
       "</style>\n",
       "<table border=\"1\" class=\"dataframe\">\n",
       "  <thead>\n",
       "    <tr style=\"text-align: right;\">\n",
       "      <th></th>\n",
       "      <th>User_Agent</th>\n",
       "      <th>id</th>\n",
       "      <th>ip</th>\n",
       "    </tr>\n",
       "  </thead>\n",
       "  <tbody>\n",
       "    <tr>\n",
       "      <th>0</th>\n",
       "      <td>Mozilla/5.0 (Windows NT 5.1) AppleWebKit/537.3...</td>\n",
       "      <td>1489183203</td>\n",
       "      <td>37.115.191.193</td>\n",
       "    </tr>\n",
       "    <tr>\n",
       "      <th>1</th>\n",
       "      <td>Mozilla/5.0 (Windows NT 6.2; WOW64) AppleWebKi...</td>\n",
       "      <td>1489183204</td>\n",
       "      <td>37.115.191.193</td>\n",
       "    </tr>\n",
       "    <tr>\n",
       "      <th>2</th>\n",
       "      <td>Mozilla/4.0 (compatible; MSIE 6.0; America Onl...</td>\n",
       "      <td>1489183205</td>\n",
       "      <td>37.115.191.193</td>\n",
       "    </tr>\n",
       "    <tr>\n",
       "      <th>3</th>\n",
       "      <td>Mozilla/5.0 (Windows NT 6.1) AppleWebKit/537.3...</td>\n",
       "      <td>1489183220</td>\n",
       "      <td>93.158.152.7</td>\n",
       "    </tr>\n",
       "    <tr>\n",
       "      <th>4</th>\n",
       "      <td>Mozilla/5.0 (compatible; Googlebot/2.1; +http:...</td>\n",
       "      <td>1489183229</td>\n",
       "      <td>45.62.243.135</td>\n",
       "    </tr>\n",
       "  </tbody>\n",
       "</table>\n",
       "</div>"
      ],
      "text/plain": [
       "                                          User_Agent          id  \\\n",
       "0  Mozilla/5.0 (Windows NT 5.1) AppleWebKit/537.3...  1489183203   \n",
       "1  Mozilla/5.0 (Windows NT 6.2; WOW64) AppleWebKi...  1489183204   \n",
       "2  Mozilla/4.0 (compatible; MSIE 6.0; America Onl...  1489183205   \n",
       "3  Mozilla/5.0 (Windows NT 6.1) AppleWebKit/537.3...  1489183220   \n",
       "4  Mozilla/5.0 (compatible; Googlebot/2.1; +http:...  1489183229   \n",
       "\n",
       "               ip  \n",
       "0  37.115.191.193  \n",
       "1  37.115.191.193  \n",
       "2  37.115.191.193  \n",
       "3    93.158.152.7  \n",
       "4   45.62.243.135  "
      ]
     },
     "execution_count": 13,
     "metadata": {},
     "output_type": "execute_result"
    }
   ],
   "source": [
    "main.User_Agent = sample_user_agents\n",
    "main.head()"
   ]
  },
  {
   "cell_type": "markdown",
   "metadata": {},
   "source": [
    "Как видим в целом распределение юзер-агентов как мы и хотели\n",
    "\n",
    "Обобщим в функцию и добавим в logParser"
   ]
  },
  {
   "cell_type": "code",
   "execution_count": 14,
   "metadata": {
    "collapsed": true
   },
   "outputs": [],
   "source": [
    "def GetBotSample(distr_log_index_begin, distr_log_index_end, \n",
    "                 base_log_index_begin, base_log_index_end):\n",
    "    main_data, _, _ = ParseLogsFromFolder(\n",
    "        'Logs/', distr_log_index_begin, distr_log_index_end, only_order=False)\n",
    "    df = pd.DataFrame(main_data)\n",
    "    del(main_data)\n",
    "    distribution_frame = df.User_Agent.value_counts() / df.shape[0] \n",
    "    cumulative_frame = np.cumsum(distribution_frame)\n",
    "    \n",
    "    main_data, values_data, order_data = ParseLogsFromFolder(\n",
    "        'Logs/', base_log_index_begin, base_log_index_end, only_order=False)\n",
    "    main_df = pd.DataFrame(main_data)\n",
    "    \n",
    "    sample_user_agents = []\n",
    "    norm_koef = distribution_frame.sum()\n",
    "    for sample_index in range(main_df.shape[0]):\n",
    "        uniform_value = np.random.rand() * norm_koef \n",
    "        sample_user_agents.append(\n",
    "            distribution_frame[cumulative_frame > uniform_value].index[0])\n",
    "    sample_user_agents = pd.Series(sample_user_agents)\n",
    "    \n",
    "    main_df.User_Agent = sample_user_agents\n",
    "    \n",
    "    return main_df, values_data, order_data"
   ]
  },
  {
   "cell_type": "code",
   "execution_count": 15,
   "metadata": {},
   "outputs": [
    {
     "name": "stderr",
     "output_type": "stream",
     "text": [
      "  0%|          | 0/127 [00:00<?, ?it/s]\n",
      "  0%|          | 0/127 [00:00<?, ?it/s]\n"
     ]
    },
    {
     "data": {
      "text/html": [
       "<div>\n",
       "<style>\n",
       "    .dataframe thead tr:only-child th {\n",
       "        text-align: right;\n",
       "    }\n",
       "\n",
       "    .dataframe thead th {\n",
       "        text-align: left;\n",
       "    }\n",
       "\n",
       "    .dataframe tbody tr th {\n",
       "        vertical-align: top;\n",
       "    }\n",
       "</style>\n",
       "<table border=\"1\" class=\"dataframe\">\n",
       "  <thead>\n",
       "    <tr style=\"text-align: right;\">\n",
       "      <th></th>\n",
       "      <th>User_Agent</th>\n",
       "      <th>id</th>\n",
       "      <th>ip</th>\n",
       "    </tr>\n",
       "  </thead>\n",
       "  <tbody>\n",
       "    <tr>\n",
       "      <th>0</th>\n",
       "      <td>Mozilla/4.0 (compatible; MSIE 6.0; Windows NT ...</td>\n",
       "      <td>1489269605</td>\n",
       "      <td>42.236.99.58</td>\n",
       "    </tr>\n",
       "    <tr>\n",
       "      <th>1</th>\n",
       "      <td>Mozilla/5.0 (Windows NT 5.1; rv:7.0.1) Gecko/2...</td>\n",
       "      <td>1489269610</td>\n",
       "      <td>2.94.54.222</td>\n",
       "    </tr>\n",
       "    <tr>\n",
       "      <th>2</th>\n",
       "      <td>Mozilla/5.0 (Windows NT 6.1; WOW64) AppleWebKi...</td>\n",
       "      <td>1489269637</td>\n",
       "      <td>95.56.103.103</td>\n",
       "    </tr>\n",
       "    <tr>\n",
       "      <th>3</th>\n",
       "      <td>Mozilla/4.0 (compatible; MSIE 7.0; Windows NT ...</td>\n",
       "      <td>1489269668</td>\n",
       "      <td>165.231.0.242</td>\n",
       "    </tr>\n",
       "    <tr>\n",
       "      <th>4</th>\n",
       "      <td>Mozilla/5.0 (compatible; Googlebot/2.1; +http:...</td>\n",
       "      <td>1489269713</td>\n",
       "      <td>66.102.9.142</td>\n",
       "    </tr>\n",
       "    <tr>\n",
       "      <th>...</th>\n",
       "      <td>...</td>\n",
       "      <td>...</td>\n",
       "      <td>...</td>\n",
       "    </tr>\n",
       "    <tr>\n",
       "      <th>16770</th>\n",
       "      <td>Mozilla/5.0 (Windows NT 10.0; Win64; x64) Appl...</td>\n",
       "      <td>1489362932</td>\n",
       "      <td>93.158.152.7</td>\n",
       "    </tr>\n",
       "    <tr>\n",
       "      <th>16771</th>\n",
       "      <td>Mozilla/5.0 (compatible; YandexBot/3.0; +http:...</td>\n",
       "      <td>1489362985</td>\n",
       "      <td>46.229.168.71</td>\n",
       "    </tr>\n",
       "    <tr>\n",
       "      <th>16772</th>\n",
       "      <td>Mozilla/5.0 (compatible; bingbot/2.0; +http://...</td>\n",
       "      <td>1489363048</td>\n",
       "      <td>93.158.152.7</td>\n",
       "    </tr>\n",
       "    <tr>\n",
       "      <th>16773</th>\n",
       "      <td>Mozilla/5.0 (compatible; AhrefsBot/5.2; +http:...</td>\n",
       "      <td>1489363153</td>\n",
       "      <td>46.229.168.74</td>\n",
       "    </tr>\n",
       "    <tr>\n",
       "      <th>16774</th>\n",
       "      <td>Mozilla/5.0 (Windows NT 5.1; rv:7.0.1) Gecko/2...</td>\n",
       "      <td>1489363197</td>\n",
       "      <td>46.229.168.65</td>\n",
       "    </tr>\n",
       "  </tbody>\n",
       "</table>\n",
       "<p>16775 rows × 3 columns</p>\n",
       "</div>"
      ],
      "text/plain": [
       "                                              User_Agent          id  \\\n",
       "0      Mozilla/4.0 (compatible; MSIE 6.0; Windows NT ...  1489269605   \n",
       "1      Mozilla/5.0 (Windows NT 5.1; rv:7.0.1) Gecko/2...  1489269610   \n",
       "2      Mozilla/5.0 (Windows NT 6.1; WOW64) AppleWebKi...  1489269637   \n",
       "3      Mozilla/4.0 (compatible; MSIE 7.0; Windows NT ...  1489269668   \n",
       "4      Mozilla/5.0 (compatible; Googlebot/2.1; +http:...  1489269713   \n",
       "...                                                  ...         ...   \n",
       "16770  Mozilla/5.0 (Windows NT 10.0; Win64; x64) Appl...  1489362932   \n",
       "16771  Mozilla/5.0 (compatible; YandexBot/3.0; +http:...  1489362985   \n",
       "16772  Mozilla/5.0 (compatible; bingbot/2.0; +http://...  1489363048   \n",
       "16773  Mozilla/5.0 (compatible; AhrefsBot/5.2; +http:...  1489363153   \n",
       "16774  Mozilla/5.0 (Windows NT 5.1; rv:7.0.1) Gecko/2...  1489363197   \n",
       "\n",
       "                  ip  \n",
       "0       42.236.99.58  \n",
       "1        2.94.54.222  \n",
       "2      95.56.103.103  \n",
       "3      165.231.0.242  \n",
       "4       66.102.9.142  \n",
       "...              ...  \n",
       "16770   93.158.152.7  \n",
       "16771  46.229.168.71  \n",
       "16772   93.158.152.7  \n",
       "16773  46.229.168.74  \n",
       "16774  46.229.168.65  \n",
       "\n",
       "[16775 rows x 3 columns]"
      ]
     },
     "execution_count": 15,
     "metadata": {},
     "output_type": "execute_result"
    }
   ],
   "source": [
    "main_bot_data, values_bot_data, order_bot_data = GetBotSample(36, 37, 37, 38)\n",
    "main_bot_data"
   ]
  },
  {
   "cell_type": "code",
   "execution_count": null,
   "metadata": {
    "collapsed": true
   },
   "outputs": [],
   "source": []
  }
 ],
 "metadata": {
  "kernelspec": {
   "display_name": "Python 3",
   "language": "python",
   "name": "python3"
  },
  "language_info": {
   "codemirror_mode": {
    "name": "ipython",
    "version": 3
   },
   "file_extension": ".py",
   "mimetype": "text/x-python",
   "name": "python",
   "nbconvert_exporter": "python",
   "pygments_lexer": "ipython3",
   "version": "3.6.1"
  }
 },
 "nbformat": 4,
 "nbformat_minor": 2
}

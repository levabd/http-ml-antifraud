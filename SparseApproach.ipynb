{
 "cells": [
  {
   "cell_type": "markdown",
   "metadata": {},
   "source": [
    "## Примеры источников разреженных признаков\n",
    "\n",
    "* Результат one-hot-encoding для большого количества категориальных признаков\n",
    "* Тексты и любые последовательности, которые можно интерпретировать как \"bag of words\"\n",
    "\n",
    "## Разреженные матрицы\n",
    "\n",
    "Существует много типов разреженных матриц, каждый из которых предоставляет разные гарантии на операции.\n",
    "\n",
    "* ```scipy.sparse.bsr_matrix```\n",
    "* ```scipy.sparse.coo_matrix```\n",
    "* ```scipy.sparse.csc_matrix```\n",
    "* ```scipy.sparse.csr_matrix```\n",
    "* ```scipy.sparse.dia_matrix```\n",
    "* ```scipy.sparse.dok_matrix```\n",
    "* ```scipy.sparse.lil_matrix```\n",
    "\n",
    "Подробнее про [устройство разреженых матрицы](http://www.netlib.org/utk/people/JackDongarra/etemplates/node372.html)\n",
    "\n",
    "\n",
    "## scipy.sparse.coo_matrix\n",
    "\n",
    "* Используется как хранилище данных\n",
    "* Поддерживает быструю конвертацию в любой формат\n",
    "* Не поддерживает индексацию\n",
    "* Поддерживает ограниченый набор арифметических операций\n",
    "\n",
    "\n",
    "## scipy.sparse.csr_matrix\n",
    "\n",
    "* Хранит данные построчно\n",
    "* Быстрое получение значений отдельных строк\n",
    "\n",
    "\n",
    "## scipy.sparse.csc_matrix\n",
    "\n",
    "* Хранит данные поколоночно\n",
    "* Быстрое получение значений отдельных колонок\n",
    "\n",
    "\n",
    "## scipy.sparse.lil_matrix\n",
    "\n",
    "* Отлично подходит для создания разреженных матриц поэлементно\n",
    "* Для последующих матричных операций лучше сконвертировать в ```csr_matrix``` или ```csc_matrix```\n",
    "\n",
    "\n",
    "## Работа с разреженными данными\n",
    "\n",
    "Библиотека ```scipy.sparse``` содержит методы, позволяющие работать с разреженными матрицами.\n",
    "\n",
    "Например, специальные ```hstack``` и ```vstack``` для конкатенации.\n",
    "\n",
    "Подробнее про операции с разрежеными матрицами на сайте [scipy](https://docs.scipy.org/doc/scipy/reference/sparse.html).\n",
    "\n",
    "\n",
    "### Что можно использовать?\n",
    "\n",
    "Подходят почти все модели\n",
    "* LogisticRegression\n",
    "* LinearSVC\n",
    "* MultinomialNB\n",
    "* RandomForestClassifier\n",
    "* KNeighborsClassifier\n",
    "\n",
    "Не подходят\n",
    "* GradientBoostingClassifier"
   ]
  },
  {
   "cell_type": "code",
   "execution_count": 1,
   "metadata": {
    "collapsed": true
   },
   "outputs": [],
   "source": [
    "import pandas as pd\n",
    "import numpy as np\n",
    "\n",
    "import scipy.sparse\n",
    "import sklearn.feature_extraction\n",
    "\n",
    "import matplotlib.pylab as plt\n",
    "%matplotlib inline\n",
    "\n",
    "from tqdm import tqdm\n",
    "import platform\n",
    "\n",
    "pd.set_option(\"display.max_rows\", 10)\n",
    "pd.set_option('display.max_columns', 1100)\n",
    "\n",
    "import os"
   ]
  },
  {
   "cell_type": "code",
   "execution_count": 2,
   "metadata": {},
   "outputs": [
    {
     "name": "stdout",
     "output_type": "stream",
     "text": [
      "x86_64\n",
      "cpu\t\t: 4\n"
     ]
    }
   ],
   "source": [
    "print(platform.processor())\n",
    "print('cpu\\t\\t: {}'.format(os.cpu_count()))"
   ]
  },
  {
   "cell_type": "markdown",
   "metadata": {},
   "source": [
    "План - создание **csr-matrix** порядковых дамми-признаков для дальнейшего анализа.\n",
    "\n",
    "На входе - 3 **dense matrixes** - main_data, values_data, order_data."
   ]
  },
  {
   "cell_type": "code",
   "execution_count": 3,
   "metadata": {},
   "outputs": [
    {
     "name": "stderr",
     "output_type": "stream",
     "text": [
      "  7%|▋         | 9/127 [00:06<01:20,  1.46it/s]\n"
     ]
    }
   ],
   "source": [
    "from logParser import ParseLogsFromFolder\n",
    "\n",
    "main_data, values_data, order_data = ParseLogsFromFolder('Logs/', 10, only_order=False)"
   ]
  },
  {
   "cell_type": "markdown",
   "metadata": {},
   "source": [
    "### В матрице Main table всего 3 столбца, которые глобально характеризуют хэдэр"
   ]
  },
  {
   "cell_type": "code",
   "execution_count": 4,
   "metadata": {},
   "outputs": [
    {
     "data": {
      "text/html": [
       "<div>\n",
       "<style>\n",
       "    .dataframe thead tr:only-child th {\n",
       "        text-align: right;\n",
       "    }\n",
       "\n",
       "    .dataframe thead th {\n",
       "        text-align: left;\n",
       "    }\n",
       "\n",
       "    .dataframe tbody tr th {\n",
       "        vertical-align: top;\n",
       "    }\n",
       "</style>\n",
       "<table border=\"1\" class=\"dataframe\">\n",
       "  <thead>\n",
       "    <tr style=\"text-align: right;\">\n",
       "      <th></th>\n",
       "      <th>User_Agent</th>\n",
       "      <th>id</th>\n",
       "      <th>ip</th>\n",
       "    </tr>\n",
       "  </thead>\n",
       "  <tbody>\n",
       "    <tr>\n",
       "      <th>0</th>\n",
       "      <td>Mozilla/5.0 (Windows NT 6.1) AppleWebKit/537.3...</td>\n",
       "      <td>1485900038</td>\n",
       "      <td>95.181.252.91</td>\n",
       "    </tr>\n",
       "    <tr>\n",
       "      <th>1</th>\n",
       "      <td>Mozilla/5.0 (compatible; bingbot/2.0; +http://...</td>\n",
       "      <td>1485900047</td>\n",
       "      <td>40.77.167.74</td>\n",
       "    </tr>\n",
       "    <tr>\n",
       "      <th>2</th>\n",
       "      <td>Mozilla/5.0 (Linux; Android 4.4.2; Zera S Buil...</td>\n",
       "      <td>1485900079</td>\n",
       "      <td>31.148.3.19</td>\n",
       "    </tr>\n",
       "    <tr>\n",
       "      <th>3</th>\n",
       "      <td>Mozilla/5.0 (Windows NT 6.1; WOW64; rv:51.0) G...</td>\n",
       "      <td>1485900103</td>\n",
       "      <td>188.162.183.66</td>\n",
       "    </tr>\n",
       "    <tr>\n",
       "      <th>4</th>\n",
       "      <td>Mozilla/4.0 (compatible; MSIE 8.0; Windows NT ...</td>\n",
       "      <td>1485900105</td>\n",
       "      <td>37.144.52.103</td>\n",
       "    </tr>\n",
       "  </tbody>\n",
       "</table>\n",
       "</div>"
      ],
      "text/plain": [
       "                                          User_Agent          id  \\\n",
       "0  Mozilla/5.0 (Windows NT 6.1) AppleWebKit/537.3...  1485900038   \n",
       "1  Mozilla/5.0 (compatible; bingbot/2.0; +http://...  1485900047   \n",
       "2  Mozilla/5.0 (Linux; Android 4.4.2; Zera S Buil...  1485900079   \n",
       "3  Mozilla/5.0 (Windows NT 6.1; WOW64; rv:51.0) G...  1485900103   \n",
       "4  Mozilla/4.0 (compatible; MSIE 8.0; Windows NT ...  1485900105   \n",
       "\n",
       "               ip  \n",
       "0   95.181.252.91  \n",
       "1    40.77.167.74  \n",
       "2     31.148.3.19  \n",
       "3  188.162.183.66  \n",
       "4   37.144.52.103  "
      ]
     },
     "execution_count": 4,
     "metadata": {},
     "output_type": "execute_result"
    }
   ],
   "source": [
    "main = pd.DataFrame(main_data)\n",
    "del(main_data)\n",
    "print('В матрице Main table всего 3 столбца, которые глобально характеризуют хэдэр')\n",
    "main.head()"
   ]
  },
  {
   "cell_type": "code",
   "execution_count": 5,
   "metadata": {},
   "outputs": [
    {
     "data": {
      "text/plain": [
       "(289269, 3)"
      ]
     },
     "execution_count": 5,
     "metadata": {},
     "output_type": "execute_result"
    }
   ],
   "source": [
    "main.shape"
   ]
  },
  {
   "cell_type": "code",
   "execution_count": 6,
   "metadata": {},
   "outputs": [
    {
     "data": {
      "text/html": [
       "<div>\n",
       "<style>\n",
       "    .dataframe thead tr:only-child th {\n",
       "        text-align: right;\n",
       "    }\n",
       "\n",
       "    .dataframe thead th {\n",
       "        text-align: left;\n",
       "    }\n",
       "\n",
       "    .dataframe tbody tr th {\n",
       "        vertical-align: top;\n",
       "    }\n",
       "</style>\n",
       "<table border=\"1\" class=\"dataframe\">\n",
       "  <thead>\n",
       "    <tr style=\"text-align: right;\">\n",
       "      <th></th>\n",
       "      <th>index</th>\n",
       "      <th>User_Agent</th>\n",
       "    </tr>\n",
       "  </thead>\n",
       "  <tbody>\n",
       "    <tr>\n",
       "      <th>0</th>\n",
       "      <td>Mozilla/5.0 (compatible; bingbot/2.0; +http://...</td>\n",
       "      <td>13375</td>\n",
       "    </tr>\n",
       "    <tr>\n",
       "      <th>1</th>\n",
       "      <td>Mozilla/5.0 (compatible; MJ12bot/v1.4.7; http:...</td>\n",
       "      <td>11263</td>\n",
       "    </tr>\n",
       "    <tr>\n",
       "      <th>2</th>\n",
       "      <td>Mozilla/5.0 (compatible; YandexBot/3.0; +http:...</td>\n",
       "      <td>10950</td>\n",
       "    </tr>\n",
       "    <tr>\n",
       "      <th>3</th>\n",
       "      <td>Mozilla/5.0 (Windows NT 5.1; rv:7.0.1) Gecko/2...</td>\n",
       "      <td>9980</td>\n",
       "    </tr>\n",
       "    <tr>\n",
       "      <th>4</th>\n",
       "      <td>Mozilla/5.0 (compatible; Googlebot/2.1; +http:...</td>\n",
       "      <td>5346</td>\n",
       "    </tr>\n",
       "    <tr>\n",
       "      <th>...</th>\n",
       "      <td>...</td>\n",
       "      <td>...</td>\n",
       "    </tr>\n",
       "    <tr>\n",
       "      <th>95</th>\n",
       "      <td>Mozilla/5.0 (compatible; archive.org_bot +http...</td>\n",
       "      <td>315</td>\n",
       "    </tr>\n",
       "    <tr>\n",
       "      <th>96</th>\n",
       "      <td>Mozilla/5.0 (Windows NT 6.1; WOW64) AppleWebKi...</td>\n",
       "      <td>314</td>\n",
       "    </tr>\n",
       "    <tr>\n",
       "      <th>97</th>\n",
       "      <td>Mozilla/5.0 (Linux; Android 5.1.1; SM-J120F Bu...</td>\n",
       "      <td>308</td>\n",
       "    </tr>\n",
       "    <tr>\n",
       "      <th>98</th>\n",
       "      <td>Mozilla/5.0 (Windows NT 6.1) AppleWebKit/537.3...</td>\n",
       "      <td>305</td>\n",
       "    </tr>\n",
       "    <tr>\n",
       "      <th>99</th>\n",
       "      <td>Mozilla/5.0 (Windows NT 6.2; WOW64) AppleWebKi...</td>\n",
       "      <td>301</td>\n",
       "    </tr>\n",
       "  </tbody>\n",
       "</table>\n",
       "<p>100 rows × 2 columns</p>\n",
       "</div>"
      ],
      "text/plain": [
       "                                                index  User_Agent\n",
       "0   Mozilla/5.0 (compatible; bingbot/2.0; +http://...       13375\n",
       "1   Mozilla/5.0 (compatible; MJ12bot/v1.4.7; http:...       11263\n",
       "2   Mozilla/5.0 (compatible; YandexBot/3.0; +http:...       10950\n",
       "3   Mozilla/5.0 (Windows NT 5.1; rv:7.0.1) Gecko/2...        9980\n",
       "4   Mozilla/5.0 (compatible; Googlebot/2.1; +http:...        5346\n",
       "..                                                ...         ...\n",
       "95  Mozilla/5.0 (compatible; archive.org_bot +http...         315\n",
       "96  Mozilla/5.0 (Windows NT 6.1; WOW64) AppleWebKi...         314\n",
       "97  Mozilla/5.0 (Linux; Android 5.1.1; SM-J120F Bu...         308\n",
       "98  Mozilla/5.0 (Windows NT 6.1) AppleWebKit/537.3...         305\n",
       "99  Mozilla/5.0 (Windows NT 6.2; WOW64) AppleWebKi...         301\n",
       "\n",
       "[100 rows x 2 columns]"
      ]
     },
     "execution_count": 6,
     "metadata": {},
     "output_type": "execute_result"
    }
   ],
   "source": [
    "main.User_Agent.value_counts().reset_index()[:100]"
   ]
  },
  {
   "cell_type": "code",
   "execution_count": 7,
   "metadata": {},
   "outputs": [
    {
     "name": "stdout",
     "output_type": "stream",
     "text": [
      "Хэдэры первых 100 юзер-агентов составляют: 62.87%\n"
     ]
    }
   ],
   "source": [
    "print('Хэдэры первых 100 юзер-агентов составляют: {:.2%}'.format(\n",
    "    main.User_Agent.value_counts()[:100].sum() / main.shape[0]))"
   ]
  },
  {
   "cell_type": "code",
   "execution_count": 8,
   "metadata": {},
   "outputs": [
    {
     "data": {
      "text/plain": [
       "<matplotlib.text.Text at 0x7fa4d8fa2908>"
      ]
     },
     "execution_count": 8,
     "metadata": {},
     "output_type": "execute_result"
    },
    {
     "data": {
      "image/png": "[encoded data removed]",
      "text/plain": [
       "<matplotlib.figure.Figure at 0x7fa5286ef2e8>"
      ]
     },
     "metadata": {},
     "output_type": "display_data"
    }
   ],
   "source": [
    "main.User_Agent.value_counts().hist(bins=100, figsize=(12,4))\n",
    "plt.xlabel('Число хэдэров юзер-агента')\n",
    "plt.ylabel('Количество таких юзер-агентов')"
   ]
  },
  {
   "cell_type": "code",
   "execution_count": 9,
   "metadata": {},
   "outputs": [
    {
     "data": {
      "text/plain": [
       "<matplotlib.text.Text at 0x7fa4d4c04b38>"
      ]
     },
     "execution_count": 9,
     "metadata": {},
     "output_type": "execute_result"
    },
    {
     "data": {
      "image/png": "[encoded data removed]",
      "text/plain": [
       "<matplotlib.figure.Figure at 0x7fa52e3e9e10>"
      ]
     },
     "metadata": {},
     "output_type": "display_data"
    }
   ],
   "source": [
    "main.User_Agent.value_counts()[main.User_Agent.value_counts() < 30].hist(bins=60, figsize=(12,4))\n",
    "plt.xlabel('Число хэдэров юзер-агента')\n",
    "plt.ylabel('Количество таких юзер-агентов')\n",
    "plt.title('Левая часть этого распределения')"
   ]
  },
  {
   "cell_type": "markdown",
   "metadata": {},
   "source": [
    "Схороним индексы понравившихся нам хэдэров из топ-100"
   ]
  },
  {
   "cell_type": "code",
   "execution_count": 10,
   "metadata": {},
   "outputs": [
    {
     "data": {
      "text/html": [
       "<div>\n",
       "<style>\n",
       "    .dataframe thead tr:only-child th {\n",
       "        text-align: right;\n",
       "    }\n",
       "\n",
       "    .dataframe thead th {\n",
       "        text-align: left;\n",
       "    }\n",
       "\n",
       "    .dataframe tbody tr th {\n",
       "        vertical-align: top;\n",
       "    }\n",
       "</style>\n",
       "<table border=\"1\" class=\"dataframe\">\n",
       "  <thead>\n",
       "    <tr style=\"text-align: right;\">\n",
       "      <th></th>\n",
       "      <th>User_Agent</th>\n",
       "      <th>id</th>\n",
       "      <th>ip</th>\n",
       "    </tr>\n",
       "  </thead>\n",
       "  <tbody>\n",
       "    <tr>\n",
       "      <th>0</th>\n",
       "      <td>Mozilla/5.0 (Windows NT 6.1) AppleWebKit/537.3...</td>\n",
       "      <td>1485900038</td>\n",
       "      <td>95.181.252.91</td>\n",
       "    </tr>\n",
       "    <tr>\n",
       "      <th>1</th>\n",
       "      <td>Mozilla/5.0 (compatible; bingbot/2.0; +http://...</td>\n",
       "      <td>1485900047</td>\n",
       "      <td>40.77.167.74</td>\n",
       "    </tr>\n",
       "    <tr>\n",
       "      <th>3</th>\n",
       "      <td>Mozilla/5.0 (Windows NT 6.1; WOW64; rv:51.0) G...</td>\n",
       "      <td>1485900103</td>\n",
       "      <td>188.162.183.66</td>\n",
       "    </tr>\n",
       "    <tr>\n",
       "      <th>8</th>\n",
       "      <td>Mozilla/5.0 (Windows NT 5.1; rv:7.0.1) Gecko/2...</td>\n",
       "      <td>1485900171</td>\n",
       "      <td>46.166.148.153</td>\n",
       "    </tr>\n",
       "    <tr>\n",
       "      <th>13</th>\n",
       "      <td>Mozilla/5.0 (Windows NT 5.1; rv:7.0.1) Gecko/2...</td>\n",
       "      <td>1485900228</td>\n",
       "      <td>204.85.191.30</td>\n",
       "    </tr>\n",
       "  </tbody>\n",
       "</table>\n",
       "</div>"
      ],
      "text/plain": [
       "                                           User_Agent          id  \\\n",
       "0   Mozilla/5.0 (Windows NT 6.1) AppleWebKit/537.3...  1485900038   \n",
       "1   Mozilla/5.0 (compatible; bingbot/2.0; +http://...  1485900047   \n",
       "3   Mozilla/5.0 (Windows NT 6.1; WOW64; rv:51.0) G...  1485900103   \n",
       "8   Mozilla/5.0 (Windows NT 5.1; rv:7.0.1) Gecko/2...  1485900171   \n",
       "13  Mozilla/5.0 (Windows NT 5.1; rv:7.0.1) Gecko/2...  1485900228   \n",
       "\n",
       "                ip  \n",
       "0    95.181.252.91  \n",
       "1     40.77.167.74  \n",
       "3   188.162.183.66  \n",
       "8   46.166.148.153  \n",
       "13   204.85.191.30  "
      ]
     },
     "execution_count": 10,
     "metadata": {},
     "output_type": "execute_result"
    }
   ],
   "source": [
    "main_top_100 = main[main.User_Agent.isin(main.User_Agent.value_counts()[:100].index)]\n",
    "del(main)\n",
    "main_top_100.head()"
   ]
  },
  {
   "cell_type": "markdown",
   "metadata": {},
   "source": [
    "## Order_data\n",
    "\n",
    "В данной матрице содержится информация о взаимном расположении ключей.\n",
    "\n",
    "Сразу переведем ее к типу **csr** с помощью DictVectorizer и проверим,что операция проведена корректно"
   ]
  },
  {
   "cell_type": "code",
   "execution_count": 11,
   "metadata": {},
   "outputs": [
    {
     "data": {
      "text/plain": [
       "[{'Accept': 3,\n",
       "  'Accept-Encoding': 5,\n",
       "  'Accept-Language': 6,\n",
       "  'Referer': 4,\n",
       "  'Upgrade-Insecure-Requests': 1,\n",
       "  'User-Agent': 2},\n",
       " {'Accept': 2,\n",
       "  'Accept-Encoding': 3,\n",
       "  'From': 4,\n",
       "  'Host': 5,\n",
       "  'Pragma': 1,\n",
       "  'User-Agent': 6},\n",
       " {'Accept': 1,\n",
       "  'Accept-Encoding': 4,\n",
       "  'Accept-Language': 5,\n",
       "  'Cookie': 6,\n",
       "  'Upgrade-Insecure-Requests': 2,\n",
       "  'User-Agent': 3}]"
      ]
     },
     "execution_count": 11,
     "metadata": {},
     "output_type": "execute_result"
    }
   ],
   "source": [
    "order_data[:3]"
   ]
  },
  {
   "cell_type": "code",
   "execution_count": 12,
   "metadata": {},
   "outputs": [
    {
     "name": "stdout",
     "output_type": "stream",
     "text": [
      "Sparse orders: \n",
      "  (0, 0)\t3\n",
      "  (0, 2)\t5\n",
      "  (0, 3)\t6\n",
      "  (0, 48)\t4\n",
      "  (0, 59)\t1\n",
      "  (0, 60)\t2\n",
      "  (1, 0)\t2\n",
      "  (1, 2)\t3\n",
      "  (1, 26)\t4\n",
      "  (1, 28)\t5\n",
      "  (1, 40)\t1\n",
      "  (1, 60)\t6\n",
      "  (2, 0)\t1\n",
      "  (2, 2)\t4\n",
      "  (2, 3)\t5\n",
      "  (2, 17)\t6\n",
      "  (2, 59)\t2\n",
      "  (2, 60)\t3\n",
      "<class 'scipy.sparse.csr.csr_matrix'>\n"
     ]
    }
   ],
   "source": [
    "orders_vectorizer = sklearn.feature_extraction.DictVectorizer(sparse=True, dtype=float)\n",
    "sparse_orders = orders_vectorizer.fit_transform(order_data).astype(np.int8)\n",
    "del(order_data)\n",
    "print('Sparse orders: \\n{0}'.format(sparse_orders[:3]))\n",
    "print(type(sparse_orders))"
   ]
  },
  {
   "cell_type": "code",
   "execution_count": 13,
   "metadata": {},
   "outputs": [
    {
     "data": {
      "text/plain": [
       "(['Accept-Charset', 'Accept-Encoding', 'Accept-Language', 'Authorization'],\n",
       " 'Te')"
      ]
     },
     "execution_count": 13,
     "metadata": {},
     "output_type": "execute_result"
    }
   ],
   "source": [
    "orders_vectorizer.feature_names_[1:5], orders_vectorizer.feature_names_[56]"
   ]
  },
  {
   "cell_type": "markdown",
   "metadata": {},
   "source": [
    "### Еще немного полюбуемся на то что получилось\n",
    "\n",
    "и осознаем как этим пользоваться.\n",
    "\n",
    "Также замечу, что похожим образом можно получить векторизацию матрицы values_data. Вся разница - в том, что нам придется кодировать категориальные признаки. Тем не менее, пока не будем распыляться, чтобы хоть что-то до конца довести."
   ]
  },
  {
   "cell_type": "code",
   "execution_count": 14,
   "metadata": {},
   "outputs": [
    {
     "data": {
      "text/plain": [
       "array([3, 5, 6, 4, 1, 2], dtype=int8)"
      ]
     },
     "execution_count": 14,
     "metadata": {},
     "output_type": "execute_result"
    }
   ],
   "source": [
    "sparse_orders[0].data"
   ]
  },
  {
   "cell_type": "code",
   "execution_count": 15,
   "metadata": {},
   "outputs": [
    {
     "data": {
      "text/plain": [
       "array([ 0,  2,  3, 48, 59, 60], dtype=int32)"
      ]
     },
     "execution_count": 15,
     "metadata": {},
     "output_type": "execute_result"
    }
   ],
   "source": [
    "sparse_orders[0].indices"
   ]
  },
  {
   "cell_type": "code",
   "execution_count": 16,
   "metadata": {},
   "outputs": [
    {
     "data": {
      "text/plain": [
       "array(['Accept', 'Accept-Encoding', 'Accept-Language', 'Referer',\n",
       "       'Upgrade-Insecure-Requests', 'User-Agent'], \n",
       "      dtype='<U29')"
      ]
     },
     "execution_count": 16,
     "metadata": {},
     "output_type": "execute_result"
    }
   ],
   "source": [
    "np.array(orders_vectorizer.feature_names_)[sparse_orders[0].indices]"
   ]
  },
  {
   "cell_type": "code",
   "execution_count": 17,
   "metadata": {},
   "outputs": [
    {
     "data": {
      "text/plain": [
       "array([ 0,  6, 12, 18, 25, 31, 35], dtype=int32)"
      ]
     },
     "execution_count": 17,
     "metadata": {},
     "output_type": "execute_result"
    }
   ],
   "source": [
    "sparse_orders[0:6].indptr"
   ]
  },
  {
   "cell_type": "code",
   "execution_count": 18,
   "metadata": {},
   "outputs": [
    {
     "name": "stdout",
     "output_type": "stream",
     "text": [
      "Sparse orders: \n",
      "  (0, 0)\t3\n",
      "  (0, 2)\t5\n",
      "  (0, 3)\t6\n",
      "  (0, 48)\t4\n",
      "  (0, 59)\t1\n",
      "  (0, 60)\t2\n",
      "  (1, 0)\t2\n",
      "  (1, 2)\t3\n",
      "  (1, 26)\t4\n",
      "  (1, 28)\t5\n",
      "  (1, 40)\t1\n",
      "  (1, 60)\t6\n",
      "  (2, 0)\t1\n",
      "  (2, 2)\t4\n",
      "  (2, 3)\t5\n",
      "  (2, 17)\t6\n",
      "  (2, 59)\t2\n",
      "  (2, 60)\t3\n",
      "  (3, 0)\t1\n",
      "  (3, 2)\t3\n",
      "  (3, 3)\t2\n",
      "  (3, 13)\t6\n",
      "  (3, 17)\t5\n",
      "  (3, 48)\t4\n",
      "  (3, 59)\t7\n",
      "  (4, 2)\t3\n",
      "  (4, 13)\t6\n",
      "  (4, 28)\t4\n",
      "  (4, 40)\t5\n",
      "  (4, 48)\t1\n",
      "  (4, 60)\t2\n",
      "  (5, 0)\t1\n",
      "  (5, 1)\t4\n",
      "  (5, 2)\t2\n",
      "  (5, 3)\t3\n"
     ]
    }
   ],
   "source": [
    "print('Sparse orders: \\n{0}'.format(sparse_orders[:6]))"
   ]
  },
  {
   "cell_type": "markdown",
   "metadata": {},
   "source": [
    "### Creating Dummy-features"
   ]
  },
  {
   "cell_type": "markdown",
   "metadata": {},
   "source": [
    "Можно было бы сразу создать нужную нам спарс матрицу с признаками  попарным сравнением порядков. Однако в этом случае придется думать, как бы запомнить какой признак, что значит.\n",
    "\n",
    "Так что я решил не думать и сделать по аналогии с вышеприведенным преобразованием: с созданием соответствующего списка словарей и **DictVectorizer-a**\n",
    "\n",
    "Но для начала сделаем срез по топ-100 юзер агентам"
   ]
  },
  {
   "cell_type": "code",
   "execution_count": 19,
   "metadata": {},
   "outputs": [
    {
     "name": "stdout",
     "output_type": "stream",
     "text": [
      "  (0, 0)\t3\n",
      "  (0, 2)\t5\n",
      "  (0, 3)\t6\n",
      "  (0, 48)\t4\n",
      "  (0, 59)\t1\n",
      "  (0, 60)\t2\n",
      "  (1, 0)\t2\n",
      "  (1, 2)\t3\n",
      "  (1, 26)\t4\n",
      "  (1, 28)\t5\n",
      "  (1, 40)\t1\n",
      "  (1, 60)\t6\n",
      "  (2, 0)\t1\n",
      "  (2, 2)\t3\n",
      "  (2, 3)\t2\n",
      "  (2, 13)\t6\n",
      "  (2, 17)\t5\n",
      "  (2, 48)\t4\n",
      "  (2, 59)\t7\n",
      "  (3, 0)\t3\n",
      "  (3, 1)\t4\n",
      "  (3, 2)\t1\n",
      "  (3, 3)\t2\n"
     ]
    }
   ],
   "source": [
    "sparse_orders_top_100 = sparse_orders[main_top_100.index]\n",
    "print(sparse_orders_top_100[:4])"
   ]
  },
  {
   "cell_type": "code",
   "execution_count": 20,
   "metadata": {},
   "outputs": [
    {
     "data": {
      "text/plain": [
       "(181851, 174)"
      ]
     },
     "execution_count": 20,
     "metadata": {},
     "output_type": "execute_result"
    }
   ],
   "source": [
    "sparse_orders_top_100.shape"
   ]
  },
  {
   "cell_type": "code",
   "execution_count": 21,
   "metadata": {},
   "outputs": [
    {
     "name": "stderr",
     "output_type": "stream",
     "text": [
      "100%|██████████| 181851/181851 [02:40<00:00, 1135.10it/s]\n"
     ]
    }
   ],
   "source": [
    "from itertools import combinations\n",
    "\n",
    "pairs_dict_list = []\n",
    "for row_index in tqdm(range(sparse_orders_top_100.shape[0]), mininterval=2):\n",
    "    pairs_dict = {}\n",
    "    for pair_first, pair_second in combinations(sparse_orders_top_100[row_index].indices, 2):\n",
    "        name_first = orders_vectorizer.feature_names_[pair_first]\n",
    "        name_second = orders_vectorizer.feature_names_[pair_second]\n",
    "        if sparse_orders_top_100[row_index, pair_first] < sparse_orders_top_100[row_index, pair_second]:\n",
    "            pairs_dict['{0} < {1}'.format(name_first, name_second)] = 1\n",
    "        else:\n",
    "            pairs_dict['{0} < {1}'.format(name_second, name_first)] = 1\n",
    "    pairs_dict_list.append(pairs_dict)"
   ]
  },
  {
   "cell_type": "code",
   "execution_count": 22,
   "metadata": {},
   "outputs": [
    {
     "name": "stdout",
     "output_type": "stream",
     "text": [
      "Sparse dummy: \n",
      "  (0, 1)\t1\n",
      "  (0, 2)\t1\n",
      "  (0, 23)\t1\n",
      "  (0, 71)\t1\n",
      "  (0, 535)\t1\n",
      "  (0, 536)\t1\n",
      "  (0, 645)\t1\n",
      "  (0, 646)\t1\n",
      "  (0, 647)\t1\n",
      "  (0, 660)\t1\n",
      "  (0, 663)\t1\n",
      "  (0, 684)\t1\n",
      "  (0, 686)\t1\n",
      "  (0, 687)\t1\n",
      "  (0, 706)\t1\n",
      "  (1, 1)\t1\n",
      "  (1, 11)\t1\n",
      "  (1, 12)\t1\n",
      "  (1, 27)\t1\n",
      "  (1, 80)\t1\n",
      "  (1, 81)\t1\n",
      "  (1, 97)\t1\n",
      "  (1, 393)\t1\n",
      "  (1, 395)\t1\n",
      "  (1, 415)\t1\n",
      "  :\t:\n",
      "  (1, 494)\t1\n",
      "  (1, 499)\t1\n",
      "  (1, 500)\t1\n",
      "  (1, 504)\t1\n",
      "  (2, 1)\t1\n",
      "  (2, 2)\t1\n",
      "  (2, 5)\t1\n",
      "  (2, 8)\t1\n",
      "  (2, 23)\t1\n",
      "  (2, 26)\t1\n",
      "  (2, 74)\t1\n",
      "  (2, 77)\t1\n",
      "  (2, 92)\t1\n",
      "  (2, 96)\t1\n",
      "  (2, 126)\t1\n",
      "  (2, 129)\t1\n",
      "  (2, 132)\t1\n",
      "  (2, 148)\t1\n",
      "  (2, 154)\t1\n",
      "  (2, 249)\t1\n",
      "  (2, 302)\t1\n",
      "  (2, 316)\t1\n",
      "  (2, 540)\t1\n",
      "  (2, 543)\t1\n",
      "  (2, 559)\t1\n",
      "<class 'scipy.sparse.csr.csr_matrix'>\n"
     ]
    }
   ],
   "source": [
    "dummy_vectorizer = sklearn.feature_extraction.DictVectorizer(sparse=True, dtype=float)\n",
    "sparse_dummy = dummy_vectorizer.fit_transform(pairs_dict_list).astype(np.int8)\n",
    "print('Sparse dummy: \\n{0}'.format(sparse_dummy[:3]))\n",
    "print(type(sparse_dummy))"
   ]
  },
  {
   "cell_type": "code",
   "execution_count": 23,
   "metadata": {},
   "outputs": [
    {
     "data": {
      "text/plain": [
       "(181851, 1042)"
      ]
     },
     "execution_count": 23,
     "metadata": {},
     "output_type": "execute_result"
    }
   ],
   "source": [
    "sparse_dummy.shape"
   ]
  },
  {
   "cell_type": "code",
   "execution_count": 24,
   "metadata": {},
   "outputs": [
    {
     "data": {
      "text/plain": [
       "(181851,)"
      ]
     },
     "execution_count": 24,
     "metadata": {},
     "output_type": "execute_result"
    }
   ],
   "source": [
    "main_top_100.User_Agent.shape"
   ]
  },
  {
   "cell_type": "markdown",
   "metadata": {},
   "source": [
    "# ЧЕРТ ВОЗЬМИ! МЫ ПОЛУЧИЛИ ГРЕБАНЫЕ ПРИЗНАКИ!\n",
    "\n",
    "## КАЙФ\n",
    "\n",
    "Теперь возникает задача многоклассовой классификации\n",
    "\n",
    "## Оценка качества\n",
    "\n",
    "* Для начала будем использовать обычную метрику accuracy\n",
    "\n",
    "* В дальнейшем имеет смысл использовать обобщение $F1$-меры на несколько классов\n",
    "\n",
    "\n",
    "$$\n",
    "F1 = 2\\frac{p * r}{p + r},\\ \\ \\mathrm{где}\\ \\ p = \\frac{tp}{tp+fp},\\ \\  r = \\frac{tp}{tp+fn}\n",
    "$$\n",
    "\n",
    "\n",
    "$tp$, $fp$ и $fp$ считаются по всем тегам одного объекта\n",
    "\n",
    "## Выбор модели и оценка\n",
    "\n",
    "* Для получения предсказаний будем использоваться обертку OneVsRestClassifier над следующими классификаторами:\n",
    "- Ridge, Lasso\n",
    "- LogisticRegression\n",
    "- RandomForest\n",
    "- XGBoost\n",
    "- SVM"
   ]
  },
  {
   "cell_type": "code",
   "execution_count": 25,
   "metadata": {
    "collapsed": true
   },
   "outputs": [],
   "source": [
    "from sklearn.model_selection import GridSearchCV, cross_val_score, train_test_split, KFold\n",
    "from sklearn.linear_model import LogisticRegression\n",
    "from sklearn.metrics import roc_auc_score, roc_curve, f1_score, make_scorer\n",
    "from sklearn.multiclass import OneVsRestClassifier"
   ]
  },
  {
   "cell_type": "markdown",
   "metadata": {},
   "source": [
    "Для простоты для начала попробуем **hold-out** валидацию."
   ]
  },
  {
   "cell_type": "code",
   "execution_count": 26,
   "metadata": {
    "collapsed": true
   },
   "outputs": [],
   "source": [
    "y = main_top_100.User_Agent\n",
    "\n",
    "X_train, X_test, y_train, y_test = train_test_split(sparse_dummy, y, test_size=0.33, random_state=42)"
   ]
  },
  {
   "cell_type": "markdown",
   "metadata": {},
   "source": [
    "### Логистическая регрессия с hold-out валидацией"
   ]
  },
  {
   "cell_type": "code",
   "execution_count": 27,
   "metadata": {},
   "outputs": [
    {
     "name": "stdout",
     "output_type": "stream",
     "text": [
      "CPU times: user 2min 9s, sys: 84 ms, total: 2min 9s\n",
      "Wall time: 2min 10s\n"
     ]
    }
   ],
   "source": [
    "%%time\n",
    "clf = OneVsRestClassifier(LogisticRegression(random_state=42), n_jobs=1)\n",
    "clf.fit(X_train, y_train)\n",
    "answer = clf.predict(X_test)"
   ]
  },
  {
   "cell_type": "code",
   "execution_count": 28,
   "metadata": {},
   "outputs": [
    {
     "data": {
      "text/plain": [
       "OneVsRestClassifier(estimator=LogisticRegression(C=1.0, class_weight=None, dual=False, fit_intercept=True,\n",
       "          intercept_scaling=1, max_iter=100, multi_class='ovr', n_jobs=1,\n",
       "          penalty='l2', random_state=42, solver='liblinear', tol=0.0001,\n",
       "          verbose=0, warm_start=False),\n",
       "          n_jobs=1)"
      ]
     },
     "execution_count": 28,
     "metadata": {},
     "output_type": "execute_result"
    }
   ],
   "source": [
    "clf"
   ]
  },
  {
   "cell_type": "code",
   "execution_count": 29,
   "metadata": {},
   "outputs": [
    {
     "data": {
      "text/plain": [
       "array([ 'Mozilla/5.0 (compatible; SMTBot/1.0; +http://www.similartech.com/smtbot)',\n",
       "       'Mozilla/5.0 (Windows NT 6.1; WOW64) AppleWebKit/537.36 (KHTML, like Gecko) Chrome/55.0.2883.87 Safari/537.36',\n",
       "       'Mozilla/5.0 (Windows NT 6.1; WOW64) AppleWebKit/537.36 (KHTML, like Gecko) Chrome/55.0.2883.95 YaBrowser/17.1.0.2034 Yowser/2.5 Safari/537.36',\n",
       "       ...,\n",
       "       'Mozilla/5.0 (compatible; MJ12bot/v1.4.7; http://mj12bot.com/)',\n",
       "       'Mozilla/5.0 (compatible; bingbot/2.0; +http://www.bing.com/bingbot.htm)',\n",
       "       'Mozilla/5.0 (Windows NT 6.1; WOW64; rv:51.0) Gecko/20100101 Firefox/51.0'], \n",
       "      dtype='<U198')"
      ]
     },
     "execution_count": 29,
     "metadata": {},
     "output_type": "execute_result"
    }
   ],
   "source": [
    "answer"
   ]
  },
  {
   "cell_type": "code",
   "execution_count": 30,
   "metadata": {},
   "outputs": [
    {
     "data": {
      "text/plain": [
       "0.64306543800303273"
      ]
     },
     "execution_count": 30,
     "metadata": {},
     "output_type": "execute_result"
    }
   ],
   "source": [
    "from sklearn.metrics import accuracy_score\n",
    "\n",
    "accuracy_score(y_true=y_test, y_pred=answer)"
   ]
  },
  {
   "cell_type": "markdown",
   "metadata": {},
   "source": [
    "### Мне кажется, или ненастроенный baseline дал 67% качества?"
   ]
  },
  {
   "cell_type": "code",
   "execution_count": 31,
   "metadata": {},
   "outputs": [
    {
     "data": {
      "text/html": [
       "<div>\n",
       "<style>\n",
       "    .dataframe thead tr:only-child th {\n",
       "        text-align: right;\n",
       "    }\n",
       "\n",
       "    .dataframe thead th {\n",
       "        text-align: left;\n",
       "    }\n",
       "\n",
       "    .dataframe tbody tr th {\n",
       "        vertical-align: top;\n",
       "    }\n",
       "</style>\n",
       "<table border=\"1\" class=\"dataframe\">\n",
       "  <thead>\n",
       "    <tr style=\"text-align: right;\">\n",
       "      <th></th>\n",
       "      <th>User_Agent</th>\n",
       "      <th>Predicted</th>\n",
       "      <th>Success</th>\n",
       "    </tr>\n",
       "  </thead>\n",
       "  <tbody>\n",
       "    <tr>\n",
       "      <th>17222</th>\n",
       "      <td>Mozilla/5.0 (compatible; SMTBot/1.0; +http://w...</td>\n",
       "      <td>Mozilla/5.0 (compatible; SMTBot/1.0; +http://w...</td>\n",
       "      <td>True</td>\n",
       "    </tr>\n",
       "    <tr>\n",
       "      <th>177010</th>\n",
       "      <td>Mozilla/5.0 (Windows NT 6.1; WOW64) AppleWebKi...</td>\n",
       "      <td>Mozilla/5.0 (Windows NT 6.1; WOW64) AppleWebKi...</td>\n",
       "      <td>True</td>\n",
       "    </tr>\n",
       "    <tr>\n",
       "      <th>46816</th>\n",
       "      <td>Mozilla/5.0 (Windows NT 10.0; WOW64) AppleWebK...</td>\n",
       "      <td>Mozilla/5.0 (Windows NT 6.1; WOW64) AppleWebKi...</td>\n",
       "      <td>False</td>\n",
       "    </tr>\n",
       "    <tr>\n",
       "      <th>12659</th>\n",
       "      <td>Mediapartners-Google</td>\n",
       "      <td>Mediapartners-Google</td>\n",
       "      <td>True</td>\n",
       "    </tr>\n",
       "    <tr>\n",
       "      <th>198363</th>\n",
       "      <td>Mozilla/5.0 (Windows NT 10.0; WOW64) AppleWebK...</td>\n",
       "      <td>Mozilla/5.0 (Windows NT 6.1; WOW64) AppleWebKi...</td>\n",
       "      <td>False</td>\n",
       "    </tr>\n",
       "    <tr>\n",
       "      <th>...</th>\n",
       "      <td>...</td>\n",
       "      <td>...</td>\n",
       "      <td>...</td>\n",
       "    </tr>\n",
       "    <tr>\n",
       "      <th>164742</th>\n",
       "      <td>Mozilla/5.0 (Windows NT 6.1; WOW64; Trident/7....</td>\n",
       "      <td>Mozilla/5.0 (Windows NT 6.1; WOW64; Trident/7....</td>\n",
       "      <td>True</td>\n",
       "    </tr>\n",
       "    <tr>\n",
       "      <th>32464</th>\n",
       "      <td>Mozilla/5.0 (compatible; MJ12bot/v1.4.7; http:...</td>\n",
       "      <td>Mozilla/5.0 (compatible; MJ12bot/v1.4.7; http:...</td>\n",
       "      <td>True</td>\n",
       "    </tr>\n",
       "    <tr>\n",
       "      <th>198969</th>\n",
       "      <td>Mozilla/5.0 (compatible; MJ12bot/v1.4.7; http:...</td>\n",
       "      <td>Mozilla/5.0 (compatible; MJ12bot/v1.4.7; http:...</td>\n",
       "      <td>True</td>\n",
       "    </tr>\n",
       "    <tr>\n",
       "      <th>273543</th>\n",
       "      <td>Mozilla/5.0 (compatible; bingbot/2.0; +http://...</td>\n",
       "      <td>Mozilla/5.0 (compatible; bingbot/2.0; +http://...</td>\n",
       "      <td>True</td>\n",
       "    </tr>\n",
       "    <tr>\n",
       "      <th>242542</th>\n",
       "      <td>Mozilla/5.0 (Windows NT 6.1; WOW64; rv:51.0) G...</td>\n",
       "      <td>Mozilla/5.0 (Windows NT 6.1; WOW64; rv:51.0) G...</td>\n",
       "      <td>True</td>\n",
       "    </tr>\n",
       "  </tbody>\n",
       "</table>\n",
       "<p>60011 rows × 3 columns</p>\n",
       "</div>"
      ],
      "text/plain": [
       "                                               User_Agent  \\\n",
       "17222   Mozilla/5.0 (compatible; SMTBot/1.0; +http://w...   \n",
       "177010  Mozilla/5.0 (Windows NT 6.1; WOW64) AppleWebKi...   \n",
       "46816   Mozilla/5.0 (Windows NT 10.0; WOW64) AppleWebK...   \n",
       "12659                                Mediapartners-Google   \n",
       "198363  Mozilla/5.0 (Windows NT 10.0; WOW64) AppleWebK...   \n",
       "...                                                   ...   \n",
       "164742  Mozilla/5.0 (Windows NT 6.1; WOW64; Trident/7....   \n",
       "32464   Mozilla/5.0 (compatible; MJ12bot/v1.4.7; http:...   \n",
       "198969  Mozilla/5.0 (compatible; MJ12bot/v1.4.7; http:...   \n",
       "273543  Mozilla/5.0 (compatible; bingbot/2.0; +http://...   \n",
       "242542  Mozilla/5.0 (Windows NT 6.1; WOW64; rv:51.0) G...   \n",
       "\n",
       "                                                Predicted  Success  \n",
       "17222   Mozilla/5.0 (compatible; SMTBot/1.0; +http://w...     True  \n",
       "177010  Mozilla/5.0 (Windows NT 6.1; WOW64) AppleWebKi...     True  \n",
       "46816   Mozilla/5.0 (Windows NT 6.1; WOW64) AppleWebKi...    False  \n",
       "12659                                Mediapartners-Google     True  \n",
       "198363  Mozilla/5.0 (Windows NT 6.1; WOW64) AppleWebKi...    False  \n",
       "...                                                   ...      ...  \n",
       "164742  Mozilla/5.0 (Windows NT 6.1; WOW64; Trident/7....     True  \n",
       "32464   Mozilla/5.0 (compatible; MJ12bot/v1.4.7; http:...     True  \n",
       "198969  Mozilla/5.0 (compatible; MJ12bot/v1.4.7; http:...     True  \n",
       "273543  Mozilla/5.0 (compatible; bingbot/2.0; +http://...     True  \n",
       "242542  Mozilla/5.0 (Windows NT 6.1; WOW64; rv:51.0) G...     True  \n",
       "\n",
       "[60011 rows x 3 columns]"
      ]
     },
     "execution_count": 31,
     "metadata": {},
     "output_type": "execute_result"
    }
   ],
   "source": [
    "compare_frame = pd.DataFrame(y_test)\n",
    "compare_frame['Predicted'] = answer\n",
    "compare_frame['Success'] = compare_frame.Predicted == compare_frame.User_Agent\n",
    "compare_frame"
   ]
  },
  {
   "cell_type": "markdown",
   "metadata": {},
   "source": [
    "### Пространство для маневра:\n",
    "  \n",
    "- подбор параметров логистической регрессии\n",
    "- работать с вероятностями\n",
    "- аккуратный выбор порога классификации\n",
    "- tf-idf\n",
    "- хорошая метрика мультиклассификации\n",
    "- другая модель классификации\n",
    "- кластеризация юзер-агентов\n",
    "\n",
    "Также как видно на вышеприведенном примере, некоторые метки юзер агента несут схожую смысловую и как видимо логическую нагрузку, стало быть ошибка между такими юзер-агентами не так уж и важна. Для отработки таких кейсов имеет смысл провести предварительную кластеризацию юзер агентов. Например, хороших результатов может уже дать k-means, ведь объектов у нас много, обычная близость в эвклидовом пространстве вышевыведенных признаков может уже очень многое дать.\n",
    "Ну или обощенная гауссова модель."
   ]
  },
  {
   "cell_type": "code",
   "execution_count": 32,
   "metadata": {},
   "outputs": [
    {
     "data": {
      "text/plain": [
       "[0.0018907776234598579,\n",
       " 0.0019503870746214625,\n",
       " 0.0020427000136824243,\n",
       " 0.0025997480251251891,\n",
       " 0.97500571235992506]"
      ]
     },
     "execution_count": 32,
     "metadata": {},
     "output_type": "execute_result"
    }
   ],
   "source": [
    "sorted(clf.predict_proba(X_test)[0])[-5:]"
   ]
  },
  {
   "cell_type": "code",
   "execution_count": 33,
   "metadata": {},
   "outputs": [
    {
     "data": {
      "text/plain": [
       "[0.043856579892799855,\n",
       " 0.056245272886010361,\n",
       " 0.11305819800744212,\n",
       " 0.17952474825419895,\n",
       " 0.41676702123141063]"
      ]
     },
     "execution_count": 33,
     "metadata": {},
     "output_type": "execute_result"
    }
   ],
   "source": [
    "sorted(clf.predict_proba(X_test)[1])[-5:]"
   ]
  },
  {
   "cell_type": "code",
   "execution_count": 34,
   "metadata": {},
   "outputs": [
    {
     "data": {
      "text/plain": [
       "[4.2766314044475195e-05,\n",
       " 4.694296457430169e-05,\n",
       " 4.7025882181276791e-05,\n",
       " 0.27003448701340954,\n",
       " 0.72901106426393059]"
      ]
     },
     "execution_count": 34,
     "metadata": {},
     "output_type": "execute_result"
    }
   ],
   "source": [
    "sorted(clf.predict_proba(X_test)[-2])[-5:]"
   ]
  },
  {
   "cell_type": "markdown",
   "metadata": {},
   "source": [
    "### Оценим качество вышеприведенной модели на кросс-валидации по точности"
   ]
  },
  {
   "cell_type": "code",
   "execution_count": 35,
   "metadata": {},
   "outputs": [
    {
     "name": "stdout",
     "output_type": "stream",
     "text": [
      "CPU times: user 10.5 s, sys: 228 ms, total: 10.7 s\n",
      "Wall time: 6min 13s\n"
     ]
    }
   ],
   "source": [
    "%%time\n",
    "\n",
    "clf = OneVsRestClassifier(LogisticRegression())\n",
    "cv_report = cross_val_score(\n",
    "    X=sparse_dummy, y=y, estimator=clf, \n",
    "    cv=5, n_jobs=-1, scoring='accuracy')"
   ]
  },
  {
   "cell_type": "code",
   "execution_count": 38,
   "metadata": {},
   "outputs": [
    {
     "data": {
      "text/plain": [
       "array([ 0.6362488 ,  0.64209948,  0.63883848,  0.6427864 ,  0.63596829])"
      ]
     },
     "execution_count": 38,
     "metadata": {},
     "output_type": "execute_result"
    }
   ],
   "source": [
    "cv_report"
   ]
  },
  {
   "cell_type": "markdown",
   "metadata": {},
   "source": [
    "### Настроим коэффициент регуляризации в логистической регрессии на точность \n",
    "\n",
    "Настраивать будем на кросс-валидации по 5 фолдам"
   ]
  },
  {
   "cell_type": "code",
   "execution_count": 39,
   "metadata": {},
   "outputs": [
    {
     "name": "stdout",
     "output_type": "stream",
     "text": [
      "CPU times: user 9min 34s, sys: 1.96 s, total: 9min 36s\n",
      "Wall time: 1h 33min 10s\n"
     ]
    }
   ],
   "source": [
    "%%time\n",
    "\n",
    "params = {'estimator__C': np.logspace(-5, 5, 11)}\n",
    "\n",
    "model = OneVsRestClassifier(LogisticRegression())\n",
    "gs = GridSearchCV(model, params, n_jobs=-1, scoring='accuracy', cv=5)\n",
    "gs.fit(sparse_dummy, y)"
   ]
  },
  {
   "cell_type": "code",
   "execution_count": 40,
   "metadata": {},
   "outputs": [
    {
     "data": {
      "text/plain": [
       "{'estimator__C': 10000.0}"
      ]
     },
     "execution_count": 40,
     "metadata": {},
     "output_type": "execute_result"
    }
   ],
   "source": [
    "gs.best_params_"
   ]
  },
  {
   "cell_type": "code",
   "execution_count": 41,
   "metadata": {},
   "outputs": [
    {
     "data": {
      "text/plain": [
       "0.63933659974374624"
      ]
     },
     "execution_count": 41,
     "metadata": {},
     "output_type": "execute_result"
    }
   ],
   "source": [
    "gs.best_score_"
   ]
  },
  {
   "cell_type": "markdown",
   "metadata": {},
   "source": [
    "### Попробуем DecisionTree"
   ]
  },
  {
   "cell_type": "code",
   "execution_count": null,
   "metadata": {
    "collapsed": true
   },
   "outputs": [],
   "source": []
  },
  {
   "cell_type": "markdown",
   "metadata": {},
   "source": [
    "### Попробуем RandomForest\n",
    "\n",
    "Попробуем интуитивно выбрать параметры и посмотреть что из этого выйдет"
   ]
  },
  {
   "cell_type": "code",
   "execution_count": 42,
   "metadata": {},
   "outputs": [
    {
     "name": "stdout",
     "output_type": "stream",
     "text": [
      "CPU times: user 1h 37min 6s, sys: 38.9 s, total: 1h 37min 45s\n",
      "Wall time: 27min 12s\n"
     ]
    }
   ],
   "source": [
    "%%time\n",
    "from sklearn.ensemble import RandomForestClassifier\n",
    "\n",
    "forest_clf = OneVsRestClassifier(RandomForestClassifier(\n",
    "    n_estimators=1000, max_depth=20, max_features=4,  \n",
    "    random_state=42, n_jobs=-1\n",
    "))\n",
    "forest_clf.fit(X_train, y_train)\n",
    "forest_answer = forest_clf.predict(X_test)"
   ]
  },
  {
   "cell_type": "code",
   "execution_count": 43,
   "metadata": {},
   "outputs": [
    {
     "data": {
      "text/plain": [
       "0.53055273199913344"
      ]
     },
     "execution_count": 43,
     "metadata": {},
     "output_type": "execute_result"
    }
   ],
   "source": [
    "accuracy_score(y_true=y_test, y_pred=forest_answer)"
   ]
  },
  {
   "cell_type": "markdown",
   "metadata": {},
   "source": [
    "Результаты печальные, что в общем-то ожидаемо, ведь эти модели не так уж хороши на столь разреженных пространствах\n",
    "Подбор параметров по сетке в принципе мог бы и улучшить результат, однако в целом порядок понятен\n",
    "\n",
    "### Попробуем Ridge"
   ]
  },
  {
   "cell_type": "code",
   "execution_count": 44,
   "metadata": {},
   "outputs": [
    {
     "name": "stdout",
     "output_type": "stream",
     "text": [
      "CPU times: user 4.22 s, sys: 252 ms, total: 4.47 s\n",
      "Wall time: 6min 50s\n"
     ]
    }
   ],
   "source": [
    "%%time\n",
    "\n",
    "from sklearn.linear_model import Ridge, Lasso\n",
    "\n",
    "ridge_clf = OneVsRestClassifier(Ridge(\n",
    "    alpha=0.01, max_iter=4000,\n",
    "    random_state=42\n",
    "), n_jobs=-1)\n",
    "ridge_clf.fit(X_train, y_train)\n",
    "ridge_answer = ridge_clf.predict(X_test)"
   ]
  },
  {
   "cell_type": "code",
   "execution_count": 45,
   "metadata": {},
   "outputs": [
    {
     "data": {
      "text/plain": [
       "0.63595007581943308"
      ]
     },
     "execution_count": 45,
     "metadata": {},
     "output_type": "execute_result"
    }
   ],
   "source": [
    "accuracy_score(y_true=y_test, y_pred=ridge_answer)"
   ]
  },
  {
   "cell_type": "markdown",
   "metadata": {},
   "source": [
    "### Попробуем Lasso.\n",
    "\n",
    "Также посмотрим на зануленные классификатором веса - их вполне можно рассматривать как кандидатов на выкидывание."
   ]
  },
  {
   "cell_type": "markdown",
   "metadata": {},
   "source": [
    "### Попробуем NaiveBayes"
   ]
  },
  {
   "cell_type": "code",
   "execution_count": 46,
   "metadata": {},
   "outputs": [
    {
     "name": "stdout",
     "output_type": "stream",
     "text": [
      "CPU times: user 4.01 s, sys: 176 ms, total: 4.18 s\n",
      "Wall time: 4.71 s\n"
     ]
    }
   ],
   "source": [
    "%%time\n",
    "from sklearn.naive_bayes import MultinomialNB\n",
    "\n",
    "nb_clf = OneVsRestClassifier(MultinomialNB(), n_jobs=-1)\n",
    "nb_clf.fit(X_train, y_train)\n",
    "nb_answer = nb_clf.predict(X_test)"
   ]
  },
  {
   "cell_type": "code",
   "execution_count": 47,
   "metadata": {},
   "outputs": [
    {
     "data": {
      "text/plain": [
       "0.60492243088767061"
      ]
     },
     "execution_count": 47,
     "metadata": {},
     "output_type": "execute_result"
    }
   ],
   "source": [
    "accuracy_score(y_true=y_test, y_pred=nb_answer)"
   ]
  },
  {
   "cell_type": "markdown",
   "metadata": {},
   "source": [
    "**Результат не самый лучший, зато вычисления ну очень быстрые**"
   ]
  },
  {
   "cell_type": "markdown",
   "metadata": {},
   "source": [
    "### Попробуем xgBoost"
   ]
  },
  {
   "cell_type": "markdown",
   "metadata": {},
   "source": [
    "## Tf-Idf\n",
    "\n",
    "Значение Tf-Idf для каждого пары документ-слово состоит из двух компонент:\n",
    "* Term frequency — логарифм встречаемости слова в документе\n",
    "$$tf(t, d) = \\log n_{t,d}$$\n",
    "\n",
    "* Inverse Document frequency — логарифм обратной доли документов в которых встретилось данное слово\n",
    "$$idf(t, D) = \\log \\frac{ \\mid D \\mid}{\\mid \\{ d_i \\in D \\mid t \\in d_i \\} \\mid}$$\n",
    "\n",
    "* Tf-Idf — кобминация tf и idf\n",
    "$$ TfIdf(t, d, D) = tf(t, d) * idf(t, D)$$"
   ]
  },
  {
   "cell_type": "code",
   "execution_count": 48,
   "metadata": {},
   "outputs": [
    {
     "name": "stdout",
     "output_type": "stream",
     "text": [
      "(181851, 1042)\n",
      "<class 'scipy.sparse.csr.csr_matrix'>\n"
     ]
    }
   ],
   "source": [
    "tf_idf_vectorizer = sklearn.feature_extraction.text.TfidfTransformer()\n",
    "tf_idf = tf_idf_vectorizer.fit_transform(sparse_dummy)\n",
    "print(tf_idf.shape)\n",
    "print(type(tf_idf))"
   ]
  },
  {
   "cell_type": "code",
   "execution_count": 49,
   "metadata": {},
   "outputs": [
    {
     "name": "stdout",
     "output_type": "stream",
     "text": [
      "  (0, 1)\t1\n",
      "  (0, 2)\t1\n",
      "  (0, 23)\t1\n",
      "  (0, 71)\t1\n",
      "  (0, 535)\t1\n",
      "  (0, 536)\t1\n",
      "  (0, 645)\t1\n",
      "  (0, 646)\t1\n",
      "  (0, 647)\t1\n",
      "  (0, 660)\t1\n",
      "  (0, 663)\t1\n",
      "  (0, 684)\t1\n",
      "  (0, 686)\t1\n",
      "  (0, 687)\t1\n",
      "  (0, 706)\t1\n",
      "  (1, 1)\t1\n",
      "  (1, 11)\t1\n",
      "  (1, 12)\t1\n",
      "  (1, 27)\t1\n",
      "  (1, 80)\t1\n",
      "  (1, 81)\t1\n",
      "  (1, 97)\t1\n",
      "  (1, 393)\t1\n",
      "  (1, 395)\t1\n",
      "  (1, 415)\t1\n",
      "  :\t:\n",
      "  (1, 494)\t1\n",
      "  (1, 499)\t1\n",
      "  (1, 500)\t1\n",
      "  (1, 504)\t1\n",
      "  (2, 1)\t1\n",
      "  (2, 2)\t1\n",
      "  (2, 5)\t1\n",
      "  (2, 8)\t1\n",
      "  (2, 23)\t1\n",
      "  (2, 26)\t1\n",
      "  (2, 74)\t1\n",
      "  (2, 77)\t1\n",
      "  (2, 92)\t1\n",
      "  (2, 96)\t1\n",
      "  (2, 126)\t1\n",
      "  (2, 129)\t1\n",
      "  (2, 132)\t1\n",
      "  (2, 148)\t1\n",
      "  (2, 154)\t1\n",
      "  (2, 249)\t1\n",
      "  (2, 302)\t1\n",
      "  (2, 316)\t1\n",
      "  (2, 540)\t1\n",
      "  (2, 543)\t1\n",
      "  (2, 559)\t1\n"
     ]
    }
   ],
   "source": [
    "print(sparse_dummy[:3])"
   ]
  },
  {
   "cell_type": "code",
   "execution_count": 50,
   "metadata": {},
   "outputs": [
    {
     "name": "stdout",
     "output_type": "stream",
     "text": [
      "  (0, 706)\t0.27615587655\n",
      "  (0, 687)\t0.243136142345\n",
      "  (0, 686)\t0.220008834592\n",
      "  (0, 684)\t0.264015084982\n",
      "  (0, 663)\t0.277554936539\n",
      "  (0, 660)\t0.286043115875\n",
      "  (0, 647)\t0.277650955254\n",
      "  (0, 646)\t0.281143440928\n",
      "  (0, 645)\t0.286671249375\n",
      "  (0, 536)\t0.277057295913\n",
      "  (0, 535)\t0.267453235376\n",
      "  (0, 71)\t0.218371154508\n",
      "  (0, 23)\t0.252327164808\n",
      "  (0, 2)\t0.228119132158\n",
      "  (0, 1)\t0.194062155613\n",
      "  (1, 504)\t0.279612444694\n",
      "  (1, 500)\t0.283433513504\n",
      "  (1, 499)\t0.281481063379\n",
      "  (1, 494)\t0.279603450251\n",
      "  (1, 493)\t0.279612444694\n",
      "  (1, 415)\t0.274437410468\n",
      "  (1, 395)\t0.262570355154\n",
      "  (1, 393)\t0.285465037053\n",
      "  (1, 97)\t0.241390988821\n",
      "  (1, 81)\t0.218073139539\n",
      "  :\t:\n",
      "  (1, 27)\t0.20633662871\n",
      "  (1, 12)\t0.266375161986\n",
      "  (1, 11)\t0.256421645061\n",
      "  (1, 1)\t0.134001090876\n",
      "  (2, 559)\t0.25892033934\n",
      "  (2, 543)\t0.216237669806\n",
      "  (2, 540)\t0.226744576866\n",
      "  (2, 316)\t0.342313127447\n",
      "  (2, 302)\t0.279557658413\n",
      "  (2, 249)\t0.246823296787\n",
      "  (2, 154)\t0.255791616464\n",
      "  (2, 148)\t0.214889707085\n",
      "  (2, 132)\t0.205868683147\n",
      "  (2, 129)\t0.182826776664\n",
      "  (2, 126)\t0.167921665568\n",
      "  (2, 96)\t0.25634417511\n",
      "  (2, 92)\t0.243464559154\n",
      "  (2, 77)\t0.203470223502\n",
      "  (2, 74)\t0.171342936938\n",
      "  (2, 26)\t0.234343320373\n",
      "  (2, 23)\t0.119975721543\n",
      "  (2, 8)\t0.203990285526\n",
      "  (2, 5)\t0.189673466415\n",
      "  (2, 2)\t0.108465362813\n",
      "  (2, 1)\t0.0922720594172\n"
     ]
    }
   ],
   "source": [
    "print(tf_idf[:3])"
   ]
  },
  {
   "cell_type": "markdown",
   "metadata": {},
   "source": [
    "** Логистическая регрессия по tf-idf**"
   ]
  },
  {
   "cell_type": "code",
   "execution_count": 51,
   "metadata": {},
   "outputs": [
    {
     "name": "stdout",
     "output_type": "stream",
     "text": [
      "CPU times: user 5.69 s, sys: 252 ms, total: 5.94 s\n",
      "Wall time: 27.5 s\n"
     ]
    }
   ],
   "source": [
    "%%time\n",
    "X_train, X_test, y_train, y_test = train_test_split(tf_idf, y, test_size=0.33, random_state=42)\n",
    "tf_clf = OneVsRestClassifier(LogisticRegression(random_state=42), n_jobs=-1)\n",
    "tf_clf.fit(X_train, y_train)\n",
    "tf_answer = tf_clf.predict(X_test)"
   ]
  },
  {
   "cell_type": "code",
   "execution_count": 52,
   "metadata": {},
   "outputs": [
    {
     "data": {
      "text/plain": [
       "0.64043258735898423"
      ]
     },
     "execution_count": 52,
     "metadata": {},
     "output_type": "execute_result"
    }
   ],
   "source": [
    "accuracy_score(y_true=y_test, y_pred=tf_answer)"
   ]
  },
  {
   "cell_type": "markdown",
   "metadata": {},
   "source": [
    "**Наивный Байес по tf-idf**"
   ]
  },
  {
   "cell_type": "code",
   "execution_count": 53,
   "metadata": {},
   "outputs": [
    {
     "name": "stdout",
     "output_type": "stream",
     "text": [
      "CPU times: user 4.42 s, sys: 220 ms, total: 4.64 s\n",
      "Wall time: 4.91 s\n"
     ]
    }
   ],
   "source": [
    "%%time\n",
    "from sklearn.naive_bayes import MultinomialNB\n",
    "\n",
    "nb_clf = OneVsRestClassifier(MultinomialNB(), n_jobs=-1)\n",
    "nb_clf.fit(X_train, y_train)\n",
    "nb_tf_answer = nb_clf.predict(X_test)"
   ]
  },
  {
   "cell_type": "code",
   "execution_count": 54,
   "metadata": {},
   "outputs": [
    {
     "data": {
      "text/plain": [
       "0.60905500658212663"
      ]
     },
     "execution_count": 54,
     "metadata": {},
     "output_type": "execute_result"
    }
   ],
   "source": [
    "accuracy_score(y_true=y_test, y_pred=nb_tf_answer)"
   ]
  },
  {
   "cell_type": "markdown",
   "metadata": {},
   "source": [
    "### Переход к новой парадигме многоклассовой классификации\n",
    "\n",
    "Как видим лучше не стало. Однако закапывать tf/idf не стоит - ведь так произошло лишь в текущей постановке задачи.\n",
    "\n",
    "Я веду к тому, что так произошло при решении задачи о многоклассовой классификации хэдэров на юзер-агенты.\n",
    "Решая данную задачу, неявно мы предпологаем, что каждый хэдэр принадлежит ровно одному юзер-агенту, а несовпадение фактического и предсказанного классов говорит о том, что данный хэдэр является ботом. Ввиду строгости этого правила, ошибка первого рода становится очень большой, что недопустимо с точки зрения бизнеса.\n",
    "\n",
    "Решить эту проблему можно, если разрешить хэдэрам принадлежать сразу нескольким классам. Целевая переменная в этом случае у нас будет не просто юзер агентом, а некоторым вектором принадлежности определенного хэдэра ко всем юзер-агентом. В частности, в нашем случае этот вектор будет размерности (1, 100), а на всех тренировочных объектах у нас будет ровно одна единица и 99 нулей.\n",
    "\n",
    "В такой постановке задачи, наши модели должны выдавать некоторый вектор вероятностей принадлежности объекта к определенному классу, затем для окончательного ответа нужно подобрать некоторые пороги для каждого элемента вектора.\n",
    "\n",
    "И уже на такой задаче, TF-IDF, судя по аналогичным задачам из анализа текстов, сыграет намного более лучшим образом, чем просто порядковые признаки."
   ]
  },
  {
   "cell_type": "markdown",
   "metadata": {},
   "source": [
    "Однако перед тем, как обновить модель\n",
    "### Добавим значения ключей в модель"
   ]
  },
  {
   "cell_type": "markdown",
   "metadata": {},
   "source": [
    "**Согласно README удалим неинформативные ключи**"
   ]
  },
  {
   "cell_type": "code",
   "execution_count": 55,
   "metadata": {
    "collapsed": true
   },
   "outputs": [],
   "source": [
    "exception_keys_set = {\n",
    "    'User-Agent', 'Referer', 'Accept-Language', 'Host', 'X-Host','X-Forwarded-For',\n",
    "    'Forwarded-For' ,'X-Network-Type','Cookie','X-Wap-Profile','X-Gateway','Ua-Cpu',\n",
    "    'Rvbd-Csh','Dris-Orig-Src','X-Proxy-Id','Rvbd-Ssh','X-Requested-With'}"
   ]
  },
  {
   "cell_type": "code",
   "execution_count": 56,
   "metadata": {},
   "outputs": [
    {
     "name": "stderr",
     "output_type": "stream",
     "text": [
      "100%|██████████| 289269/289269 [00:01<00:00, 213996.97it/s]\n"
     ]
    }
   ],
   "source": [
    "for row_index in tqdm(range(len(values_data))):\n",
    "    for key in exception_keys_set:\n",
    "        values_data[row_index].pop(key, -1)"
   ]
  },
  {
   "cell_type": "code",
   "execution_count": 57,
   "metadata": {},
   "outputs": [
    {
     "data": {
      "text/plain": [
       "[{'Accept': 'text/html,application/xhtml+xml,application/xml;q=0.9,image/webp,*/*;q=0.8',\n",
       "  'Accept-Encoding': 'gzip, deflate, sdch',\n",
       "  'Connection': 'keep-alive',\n",
       "  'Upgrade-Insecure-Requests': '1'},\n",
       " {'Accept': '*/*',\n",
       "  'Accept-Encoding': 'gzip, deflate',\n",
       "  'Cache-Control': 'no-cache',\n",
       "  'Connection': 'Keep-Alive',\n",
       "  'From': 'bingbot(at)microsoft.com',\n",
       "  'Pragma': 'no-cache'},\n",
       " {'Accept': 'text/html,application/xhtml+xml,application/xml;q=0.9,image/webp,*/*;q=0.8',\n",
       "  'Accept-Encoding': 'gzip, deflate, sdch',\n",
       "  'Connection': 'keep-alive',\n",
       "  'Upgrade-Insecure-Requests': '1'}]"
      ]
     },
     "execution_count": 57,
     "metadata": {},
     "output_type": "execute_result"
    }
   ],
   "source": [
    "values_data[:3]"
   ]
  },
  {
   "cell_type": "code",
   "execution_count": 58,
   "metadata": {},
   "outputs": [
    {
     "data": {
      "text/html": [
       "<div>\n",
       "<style>\n",
       "    .dataframe thead tr:only-child th {\n",
       "        text-align: right;\n",
       "    }\n",
       "\n",
       "    .dataframe thead th {\n",
       "        text-align: left;\n",
       "    }\n",
       "\n",
       "    .dataframe tbody tr th {\n",
       "        vertical-align: top;\n",
       "    }\n",
       "</style>\n",
       "<table border=\"1\" class=\"dataframe\">\n",
       "  <thead>\n",
       "    <tr style=\"text-align: right;\">\n",
       "      <th></th>\n",
       "      <th>Accept</th>\n",
       "      <th>Accept-Charset</th>\n",
       "      <th>Accept-Encoding</th>\n",
       "      <th>Authorization</th>\n",
       "      <th>Cache-Control</th>\n",
       "      <th>Cdn-Src-Ip</th>\n",
       "      <th>Charset</th>\n",
       "      <th>Chrome-Proxy</th>\n",
       "      <th>Chrome-Proxy-Accept-Transform</th>\n",
       "      <th>Client-Ip</th>\n",
       "      <th>Clientip</th>\n",
       "      <th>Cmd</th>\n",
       "      <th>Connection</th>\n",
       "      <th>Content-Length</th>\n",
       "      <th>Content-Range</th>\n",
       "      <th>Content-Type</th>\n",
       "      <th>Cookie2</th>\n",
       "      <th>Date</th>\n",
       "      <th>Device-Stock-Ua</th>\n",
       "      <th>Dnt</th>\n",
       "      <th>Drm-Version</th>\n",
       "      <th>F5-User-Ip</th>\n",
       "      <th>Forwarded</th>\n",
       "      <th>From</th>\n",
       "      <th>Giga-Transport</th>\n",
       "      <th>Http-Version</th>\n",
       "      <th>Http2-Settings</th>\n",
       "      <th>Https</th>\n",
       "      <th>If-Modified-Since</th>\n",
       "      <th>If-None-Match</th>\n",
       "      <th>Inter-Pro-Client</th>\n",
       "      <th>Keep-Alive</th>\n",
       "      <th>O2gw-Id</th>\n",
       "      <th>Origin</th>\n",
       "      <th>Oxpry-Connection</th>\n",
       "      <th>Ping-From</th>\n",
       "      <th>Ping-To</th>\n",
       "      <th>Pragma</th>\n",
       "      <th>Prefer</th>\n",
       "      <th>Proxy-Authorization</th>\n",
       "      <th>Proxy-Connection</th>\n",
       "      <th>Purpose</th>\n",
       "      <th>Q-Refer</th>\n",
       "      <th>Q-Ua</th>\n",
       "      <th>Range</th>\n",
       "      <th>Refresh-Cache</th>\n",
       "      <th>Rmch-Securitycookie</th>\n",
       "      <th>Save-Data</th>\n",
       "      <th>Scheme</th>\n",
       "      <th>Surrogate-Capability</th>\n",
       "      <th>Te</th>\n",
       "      <th>Upgrade</th>\n",
       "      <th>Upgrade-Insecure-Requests</th>\n",
       "      <th>Useragent</th>\n",
       "      <th>Version</th>\n",
       "      <th>Via</th>\n",
       "      <th>Wap-Connection</th>\n",
       "      <th>Wapconnection</th>\n",
       "      <th>Wshost</th>\n",
       "      <th>Wsip</th>\n",
       "      <th>X--------------</th>\n",
       "      <th>X-Accept-Encoding-Wn-Proxy-2</th>\n",
       "      <th>X-Agent-Client-Id</th>\n",
       "      <th>X-Agent-Session-Id</th>\n",
       "      <th>X-Att-Deviceid</th>\n",
       "      <th>X-Authenticated-User</th>\n",
       "      <th>X-B3-Flags</th>\n",
       "      <th>X-B3-Parentspanid</th>\n",
       "      <th>X-B3-Sampled</th>\n",
       "      <th>X-B3-Spanid</th>\n",
       "      <th>X-B3-Traceid</th>\n",
       "      <th>X-Bluecoat-Via</th>\n",
       "      <th>X-Busid</th>\n",
       "      <th>X-Categories</th>\n",
       "      <th>X-Chrome-Connected</th>\n",
       "      <th>X-Chrome-Uma-Enabled</th>\n",
       "      <th>X-Citrio-Timestamp</th>\n",
       "      <th>X-Client-Data</th>\n",
       "      <th>X-Cloud-Trace-Context</th>\n",
       "      <th>X-Compress</th>\n",
       "      <th>X-Content-Check</th>\n",
       "      <th>X-Content-Opt</th>\n",
       "      <th>X-D-Forwarder</th>\n",
       "      <th>X-Ebo-Ua</th>\n",
       "      <th>X-Fb-Http-Engine</th>\n",
       "      <th>X-Fb-Net-Hni</th>\n",
       "      <th>X-Fb-Sim-Hni</th>\n",
       "      <th>X-Featureversion</th>\n",
       "      <th>X-Firephp</th>\n",
       "      <th>X-Firephp-Version</th>\n",
       "      <th>X-Forwarded-Proto</th>\n",
       "      <th>X-Fuck</th>\n",
       "      <th>X-Getzip</th>\n",
       "      <th>X-Gfe-Ssl</th>\n",
       "      <th>X-Gfe-Tls-Channelid</th>\n",
       "      <th>X-Icap-Http-Stream</th>\n",
       "      <th>X-Icm</th>\n",
       "      <th>X-Imforwards</th>\n",
       "      <th>X-Iws-Via</th>\n",
       "      <th>X-Lb-Local</th>\n",
       "      <th>X-Liveinternetapplications</th>\n",
       "      <th>X-Loop-Control</th>\n",
       "      <th>X-Mcproxyfilter</th>\n",
       "      <th>X-Mfe-Response</th>\n",
       "      <th>X-Miorigin</th>\n",
       "      <th>X-Moz</th>\n",
       "      <th>X-Ms-Cookieuri-Requested</th>\n",
       "      <th>X-Msisdn</th>\n",
       "      <th>X-Mwg-Via</th>\n",
       "      <th>X-Newrelic-Id</th>\n",
       "      <th>X-Newrelic-Transaction</th>\n",
       "      <th>X-Nokia-Bearer</th>\n",
       "      <th>X-Nokia-Gateway-Id</th>\n",
       "      <th>X-Nokia-Maxdownlinkbitrate</th>\n",
       "      <th>X-Nokia-Maxuplinkbitrate</th>\n",
       "      <th>X-Nokia-Musicshop-Bearer</th>\n",
       "      <th>X-Nokia-Musicshop-Version</th>\n",
       "      <th>X-Ob</th>\n",
       "      <th>X-Office-Major-Version</th>\n",
       "      <th>X-Onv-Icap</th>\n",
       "      <th>X-Openfrequencylimit</th>\n",
       "      <th>X-Openshield</th>\n",
       "      <th>X-Opera-Id</th>\n",
       "      <th>X-Opera-Info</th>\n",
       "      <th>X-Operamini-Fb</th>\n",
       "      <th>X-Operamini-Features</th>\n",
       "      <th>X-Operamini-Phone</th>\n",
       "      <th>X-Operamini-Phone-Ua</th>\n",
       "      <th>X-Operamini-Route</th>\n",
       "      <th>X-Org-Request</th>\n",
       "      <th>X-Original-Url</th>\n",
       "      <th>X-P2p-Peerdist</th>\n",
       "      <th>X-P2p-Peerdistex</th>\n",
       "      <th>X-Pocket-Parser</th>\n",
       "      <th>X-Ps3-Browser</th>\n",
       "      <th>X-Psa-Client-Features</th>\n",
       "      <th>X-Psa-Client-Options</th>\n",
       "      <th>X-Psp-Browser</th>\n",
       "      <th>X-Psp-Productcode</th>\n",
       "      <th>X-Puffin-Ua</th>\n",
       "      <th>X-Purpose</th>\n",
       "      <th>X-Rbt-Optimized-By</th>\n",
       "      <th>X-Real-Ip</th>\n",
       "      <th>X-Requestfrom</th>\n",
       "      <th>X-Server-Ip</th>\n",
       "      <th>X-Time</th>\n",
       "      <th>X-Turbo-Compression</th>\n",
       "      <th>X-Turbo-Id</th>\n",
       "      <th>X-Ucbrowser-Device</th>\n",
       "      <th>X-Ucbrowser-Device-Ua</th>\n",
       "      <th>X-Ucbrowser-Ua</th>\n",
       "      <th>X-Up-Vfza-Id</th>\n",
       "      <th>X-User</th>\n",
       "      <th>X-Vermeer-Content-Type</th>\n",
       "      <th>X-Wap-Client-Ip</th>\n",
       "      <th>X-Wap-Profile-Diff</th>\n",
       "      <th>X-Wap-Proxy-Cookie</th>\n",
       "      <th>X-Wapipaddr</th>\n",
       "      <th>X-Wf-Max-Combined-Size</th>\n",
       "      <th>X-Wisp</th>\n",
       "      <th>X-Xorwarded-For</th>\n",
       "      <th>X-Xuthenticated-User</th>\n",
       "      <th>X-Yandex-Turbo</th>\n",
       "      <th>X-Youtube-Edu-Filter</th>\n",
       "      <th>X3</th>\n",
       "      <th>Xroxy-Connection</th>\n",
       "    </tr>\n",
       "  </thead>\n",
       "  <tbody>\n",
       "    <tr>\n",
       "      <th>0</th>\n",
       "      <td>text/html,application/xhtml+xml,application/xm...</td>\n",
       "      <td>NaN</td>\n",
       "      <td>gzip, deflate, sdch</td>\n",
       "      <td>NaN</td>\n",
       "      <td>NaN</td>\n",
       "      <td>NaN</td>\n",
       "      <td>NaN</td>\n",
       "      <td>NaN</td>\n",
       "      <td>NaN</td>\n",
       "      <td>NaN</td>\n",
       "      <td>NaN</td>\n",
       "      <td>NaN</td>\n",
       "      <td>keep-alive</td>\n",
       "      <td>NaN</td>\n",
       "      <td>NaN</td>\n",
       "      <td>NaN</td>\n",
       "      <td>NaN</td>\n",
       "      <td>NaN</td>\n",
       "      <td>NaN</td>\n",
       "      <td>NaN</td>\n",
       "      <td>NaN</td>\n",
       "      <td>NaN</td>\n",
       "      <td>NaN</td>\n",
       "      <td>NaN</td>\n",
       "      <td>NaN</td>\n",
       "      <td>NaN</td>\n",
       "      <td>NaN</td>\n",
       "      <td>NaN</td>\n",
       "      <td>NaN</td>\n",
       "      <td>NaN</td>\n",
       "      <td>NaN</td>\n",
       "      <td>NaN</td>\n",
       "      <td>NaN</td>\n",
       "      <td>NaN</td>\n",
       "      <td>NaN</td>\n",
       "      <td>NaN</td>\n",
       "      <td>NaN</td>\n",
       "      <td>NaN</td>\n",
       "      <td>NaN</td>\n",
       "      <td>NaN</td>\n",
       "      <td>NaN</td>\n",
       "      <td>NaN</td>\n",
       "      <td>NaN</td>\n",
       "      <td>NaN</td>\n",
       "      <td>NaN</td>\n",
       "      <td>NaN</td>\n",
       "      <td>NaN</td>\n",
       "      <td>NaN</td>\n",
       "      <td>NaN</td>\n",
       "      <td>NaN</td>\n",
       "      <td>NaN</td>\n",
       "      <td>NaN</td>\n",
       "      <td>1</td>\n",
       "      <td>NaN</td>\n",
       "      <td>NaN</td>\n",
       "      <td>NaN</td>\n",
       "      <td>NaN</td>\n",
       "      <td>NaN</td>\n",
       "      <td>NaN</td>\n",
       "      <td>NaN</td>\n",
       "      <td>NaN</td>\n",
       "      <td>NaN</td>\n",
       "      <td>NaN</td>\n",
       "      <td>NaN</td>\n",
       "      <td>NaN</td>\n",
       "      <td>NaN</td>\n",
       "      <td>NaN</td>\n",
       "      <td>NaN</td>\n",
       "      <td>NaN</td>\n",
       "      <td>NaN</td>\n",
       "      <td>NaN</td>\n",
       "      <td>NaN</td>\n",
       "      <td>NaN</td>\n",
       "      <td>NaN</td>\n",
       "      <td>NaN</td>\n",
       "      <td>NaN</td>\n",
       "      <td>NaN</td>\n",
       "      <td>NaN</td>\n",
       "      <td>NaN</td>\n",
       "      <td>NaN</td>\n",
       "      <td>NaN</td>\n",
       "      <td>NaN</td>\n",
       "      <td>NaN</td>\n",
       "      <td>NaN</td>\n",
       "      <td>NaN</td>\n",
       "      <td>NaN</td>\n",
       "      <td>NaN</td>\n",
       "      <td>NaN</td>\n",
       "      <td>NaN</td>\n",
       "      <td>NaN</td>\n",
       "      <td>NaN</td>\n",
       "      <td>NaN</td>\n",
       "      <td>NaN</td>\n",
       "      <td>NaN</td>\n",
       "      <td>NaN</td>\n",
       "      <td>NaN</td>\n",
       "      <td>NaN</td>\n",
       "      <td>NaN</td>\n",
       "      <td>NaN</td>\n",
       "      <td>NaN</td>\n",
       "      <td>NaN</td>\n",
       "      <td>NaN</td>\n",
       "      <td>NaN</td>\n",
       "      <td>NaN</td>\n",
       "      <td>NaN</td>\n",
       "      <td>NaN</td>\n",
       "      <td>NaN</td>\n",
       "      <td>NaN</td>\n",
       "      <td>NaN</td>\n",
       "      <td>NaN</td>\n",
       "      <td>NaN</td>\n",
       "      <td>NaN</td>\n",
       "      <td>NaN</td>\n",
       "      <td>NaN</td>\n",
       "      <td>NaN</td>\n",
       "      <td>NaN</td>\n",
       "      <td>NaN</td>\n",
       "      <td>NaN</td>\n",
       "      <td>NaN</td>\n",
       "      <td>NaN</td>\n",
       "      <td>NaN</td>\n",
       "      <td>NaN</td>\n",
       "      <td>NaN</td>\n",
       "      <td>NaN</td>\n",
       "      <td>NaN</td>\n",
       "      <td>NaN</td>\n",
       "      <td>NaN</td>\n",
       "      <td>NaN</td>\n",
       "      <td>NaN</td>\n",
       "      <td>NaN</td>\n",
       "      <td>NaN</td>\n",
       "      <td>NaN</td>\n",
       "      <td>NaN</td>\n",
       "      <td>NaN</td>\n",
       "      <td>NaN</td>\n",
       "      <td>NaN</td>\n",
       "      <td>NaN</td>\n",
       "      <td>NaN</td>\n",
       "      <td>NaN</td>\n",
       "      <td>NaN</td>\n",
       "      <td>NaN</td>\n",
       "      <td>NaN</td>\n",
       "      <td>NaN</td>\n",
       "      <td>NaN</td>\n",
       "      <td>NaN</td>\n",
       "      <td>NaN</td>\n",
       "      <td>NaN</td>\n",
       "      <td>NaN</td>\n",
       "      <td>NaN</td>\n",
       "      <td>NaN</td>\n",
       "      <td>NaN</td>\n",
       "      <td>NaN</td>\n",
       "      <td>NaN</td>\n",
       "      <td>NaN</td>\n",
       "      <td>NaN</td>\n",
       "      <td>NaN</td>\n",
       "      <td>NaN</td>\n",
       "      <td>NaN</td>\n",
       "      <td>NaN</td>\n",
       "      <td>NaN</td>\n",
       "      <td>NaN</td>\n",
       "      <td>NaN</td>\n",
       "      <td>NaN</td>\n",
       "      <td>NaN</td>\n",
       "      <td>NaN</td>\n",
       "      <td>NaN</td>\n",
       "    </tr>\n",
       "    <tr>\n",
       "      <th>1</th>\n",
       "      <td>*/*</td>\n",
       "      <td>NaN</td>\n",
       "      <td>gzip, deflate</td>\n",
       "      <td>NaN</td>\n",
       "      <td>no-cache</td>\n",
       "      <td>NaN</td>\n",
       "      <td>NaN</td>\n",
       "      <td>NaN</td>\n",
       "      <td>NaN</td>\n",
       "      <td>NaN</td>\n",
       "      <td>NaN</td>\n",
       "      <td>NaN</td>\n",
       "      <td>Keep-Alive</td>\n",
       "      <td>NaN</td>\n",
       "      <td>NaN</td>\n",
       "      <td>NaN</td>\n",
       "      <td>NaN</td>\n",
       "      <td>NaN</td>\n",
       "      <td>NaN</td>\n",
       "      <td>NaN</td>\n",
       "      <td>NaN</td>\n",
       "      <td>NaN</td>\n",
       "      <td>NaN</td>\n",
       "      <td>bingbot(at)microsoft.com</td>\n",
       "      <td>NaN</td>\n",
       "      <td>NaN</td>\n",
       "      <td>NaN</td>\n",
       "      <td>NaN</td>\n",
       "      <td>NaN</td>\n",
       "      <td>NaN</td>\n",
       "      <td>NaN</td>\n",
       "      <td>NaN</td>\n",
       "      <td>NaN</td>\n",
       "      <td>NaN</td>\n",
       "      <td>NaN</td>\n",
       "      <td>NaN</td>\n",
       "      <td>NaN</td>\n",
       "      <td>no-cache</td>\n",
       "      <td>NaN</td>\n",
       "      <td>NaN</td>\n",
       "      <td>NaN</td>\n",
       "      <td>NaN</td>\n",
       "      <td>NaN</td>\n",
       "      <td>NaN</td>\n",
       "      <td>NaN</td>\n",
       "      <td>NaN</td>\n",
       "      <td>NaN</td>\n",
       "      <td>NaN</td>\n",
       "      <td>NaN</td>\n",
       "      <td>NaN</td>\n",
       "      <td>NaN</td>\n",
       "      <td>NaN</td>\n",
       "      <td>NaN</td>\n",
       "      <td>NaN</td>\n",
       "      <td>NaN</td>\n",
       "      <td>NaN</td>\n",
       "      <td>NaN</td>\n",
       "      <td>NaN</td>\n",
       "      <td>NaN</td>\n",
       "      <td>NaN</td>\n",
       "      <td>NaN</td>\n",
       "      <td>NaN</td>\n",
       "      <td>NaN</td>\n",
       "      <td>NaN</td>\n",
       "      <td>NaN</td>\n",
       "      <td>NaN</td>\n",
       "      <td>NaN</td>\n",
       "      <td>NaN</td>\n",
       "      <td>NaN</td>\n",
       "      <td>NaN</td>\n",
       "      <td>NaN</td>\n",
       "      <td>NaN</td>\n",
       "      <td>NaN</td>\n",
       "      <td>NaN</td>\n",
       "      <td>NaN</td>\n",
       "      <td>NaN</td>\n",
       "      <td>NaN</td>\n",
       "      <td>NaN</td>\n",
       "      <td>NaN</td>\n",
       "      <td>NaN</td>\n",
       "      <td>NaN</td>\n",
       "      <td>NaN</td>\n",
       "      <td>NaN</td>\n",
       "      <td>NaN</td>\n",
       "      <td>NaN</td>\n",
       "      <td>NaN</td>\n",
       "      <td>NaN</td>\n",
       "      <td>NaN</td>\n",
       "      <td>NaN</td>\n",
       "      <td>NaN</td>\n",
       "      <td>NaN</td>\n",
       "      <td>NaN</td>\n",
       "      <td>NaN</td>\n",
       "      <td>NaN</td>\n",
       "      <td>NaN</td>\n",
       "      <td>NaN</td>\n",
       "      <td>NaN</td>\n",
       "      <td>NaN</td>\n",
       "      <td>NaN</td>\n",
       "      <td>NaN</td>\n",
       "      <td>NaN</td>\n",
       "      <td>NaN</td>\n",
       "      <td>NaN</td>\n",
       "      <td>NaN</td>\n",
       "      <td>NaN</td>\n",
       "      <td>NaN</td>\n",
       "      <td>NaN</td>\n",
       "      <td>NaN</td>\n",
       "      <td>NaN</td>\n",
       "      <td>NaN</td>\n",
       "      <td>NaN</td>\n",
       "      <td>NaN</td>\n",
       "      <td>NaN</td>\n",
       "      <td>NaN</td>\n",
       "      <td>NaN</td>\n",
       "      <td>NaN</td>\n",
       "      <td>NaN</td>\n",
       "      <td>NaN</td>\n",
       "      <td>NaN</td>\n",
       "      <td>NaN</td>\n",
       "      <td>NaN</td>\n",
       "      <td>NaN</td>\n",
       "      <td>NaN</td>\n",
       "      <td>NaN</td>\n",
       "      <td>NaN</td>\n",
       "      <td>NaN</td>\n",
       "      <td>NaN</td>\n",
       "      <td>NaN</td>\n",
       "      <td>NaN</td>\n",
       "      <td>NaN</td>\n",
       "      <td>NaN</td>\n",
       "      <td>NaN</td>\n",
       "      <td>NaN</td>\n",
       "      <td>NaN</td>\n",
       "      <td>NaN</td>\n",
       "      <td>NaN</td>\n",
       "      <td>NaN</td>\n",
       "      <td>NaN</td>\n",
       "      <td>NaN</td>\n",
       "      <td>NaN</td>\n",
       "      <td>NaN</td>\n",
       "      <td>NaN</td>\n",
       "      <td>NaN</td>\n",
       "      <td>NaN</td>\n",
       "      <td>NaN</td>\n",
       "      <td>NaN</td>\n",
       "      <td>NaN</td>\n",
       "      <td>NaN</td>\n",
       "      <td>NaN</td>\n",
       "      <td>NaN</td>\n",
       "      <td>NaN</td>\n",
       "      <td>NaN</td>\n",
       "      <td>NaN</td>\n",
       "      <td>NaN</td>\n",
       "      <td>NaN</td>\n",
       "      <td>NaN</td>\n",
       "      <td>NaN</td>\n",
       "      <td>NaN</td>\n",
       "      <td>NaN</td>\n",
       "      <td>NaN</td>\n",
       "      <td>NaN</td>\n",
       "      <td>NaN</td>\n",
       "      <td>NaN</td>\n",
       "      <td>NaN</td>\n",
       "      <td>NaN</td>\n",
       "      <td>NaN</td>\n",
       "    </tr>\n",
       "    <tr>\n",
       "      <th>2</th>\n",
       "      <td>text/html,application/xhtml+xml,application/xm...</td>\n",
       "      <td>NaN</td>\n",
       "      <td>gzip, deflate, sdch</td>\n",
       "      <td>NaN</td>\n",
       "      <td>NaN</td>\n",
       "      <td>NaN</td>\n",
       "      <td>NaN</td>\n",
       "      <td>NaN</td>\n",
       "      <td>NaN</td>\n",
       "      <td>NaN</td>\n",
       "      <td>NaN</td>\n",
       "      <td>NaN</td>\n",
       "      <td>keep-alive</td>\n",
       "      <td>NaN</td>\n",
       "      <td>NaN</td>\n",
       "      <td>NaN</td>\n",
       "      <td>NaN</td>\n",
       "      <td>NaN</td>\n",
       "      <td>NaN</td>\n",
       "      <td>NaN</td>\n",
       "      <td>NaN</td>\n",
       "      <td>NaN</td>\n",
       "      <td>NaN</td>\n",
       "      <td>NaN</td>\n",
       "      <td>NaN</td>\n",
       "      <td>NaN</td>\n",
       "      <td>NaN</td>\n",
       "      <td>NaN</td>\n",
       "      <td>NaN</td>\n",
       "      <td>NaN</td>\n",
       "      <td>NaN</td>\n",
       "      <td>NaN</td>\n",
       "      <td>NaN</td>\n",
       "      <td>NaN</td>\n",
       "      <td>NaN</td>\n",
       "      <td>NaN</td>\n",
       "      <td>NaN</td>\n",
       "      <td>NaN</td>\n",
       "      <td>NaN</td>\n",
       "      <td>NaN</td>\n",
       "      <td>NaN</td>\n",
       "      <td>NaN</td>\n",
       "      <td>NaN</td>\n",
       "      <td>NaN</td>\n",
       "      <td>NaN</td>\n",
       "      <td>NaN</td>\n",
       "      <td>NaN</td>\n",
       "      <td>NaN</td>\n",
       "      <td>NaN</td>\n",
       "      <td>NaN</td>\n",
       "      <td>NaN</td>\n",
       "      <td>NaN</td>\n",
       "      <td>1</td>\n",
       "      <td>NaN</td>\n",
       "      <td>NaN</td>\n",
       "      <td>NaN</td>\n",
       "      <td>NaN</td>\n",
       "      <td>NaN</td>\n",
       "      <td>NaN</td>\n",
       "      <td>NaN</td>\n",
       "      <td>NaN</td>\n",
       "      <td>NaN</td>\n",
       "      <td>NaN</td>\n",
       "      <td>NaN</td>\n",
       "      <td>NaN</td>\n",
       "      <td>NaN</td>\n",
       "      <td>NaN</td>\n",
       "      <td>NaN</td>\n",
       "      <td>NaN</td>\n",
       "      <td>NaN</td>\n",
       "      <td>NaN</td>\n",
       "      <td>NaN</td>\n",
       "      <td>NaN</td>\n",
       "      <td>NaN</td>\n",
       "      <td>NaN</td>\n",
       "      <td>NaN</td>\n",
       "      <td>NaN</td>\n",
       "      <td>NaN</td>\n",
       "      <td>NaN</td>\n",
       "      <td>NaN</td>\n",
       "      <td>NaN</td>\n",
       "      <td>NaN</td>\n",
       "      <td>NaN</td>\n",
       "      <td>NaN</td>\n",
       "      <td>NaN</td>\n",
       "      <td>NaN</td>\n",
       "      <td>NaN</td>\n",
       "      <td>NaN</td>\n",
       "      <td>NaN</td>\n",
       "      <td>NaN</td>\n",
       "      <td>NaN</td>\n",
       "      <td>NaN</td>\n",
       "      <td>NaN</td>\n",
       "      <td>NaN</td>\n",
       "      <td>NaN</td>\n",
       "      <td>NaN</td>\n",
       "      <td>NaN</td>\n",
       "      <td>NaN</td>\n",
       "      <td>NaN</td>\n",
       "      <td>NaN</td>\n",
       "      <td>NaN</td>\n",
       "      <td>NaN</td>\n",
       "      <td>NaN</td>\n",
       "      <td>NaN</td>\n",
       "      <td>NaN</td>\n",
       "      <td>NaN</td>\n",
       "      <td>NaN</td>\n",
       "      <td>NaN</td>\n",
       "      <td>NaN</td>\n",
       "      <td>NaN</td>\n",
       "      <td>NaN</td>\n",
       "      <td>NaN</td>\n",
       "      <td>NaN</td>\n",
       "      <td>NaN</td>\n",
       "      <td>NaN</td>\n",
       "      <td>NaN</td>\n",
       "      <td>NaN</td>\n",
       "      <td>NaN</td>\n",
       "      <td>NaN</td>\n",
       "      <td>NaN</td>\n",
       "      <td>NaN</td>\n",
       "      <td>NaN</td>\n",
       "      <td>NaN</td>\n",
       "      <td>NaN</td>\n",
       "      <td>NaN</td>\n",
       "      <td>NaN</td>\n",
       "      <td>NaN</td>\n",
       "      <td>NaN</td>\n",
       "      <td>NaN</td>\n",
       "      <td>NaN</td>\n",
       "      <td>NaN</td>\n",
       "      <td>NaN</td>\n",
       "      <td>NaN</td>\n",
       "      <td>NaN</td>\n",
       "      <td>NaN</td>\n",
       "      <td>NaN</td>\n",
       "      <td>NaN</td>\n",
       "      <td>NaN</td>\n",
       "      <td>NaN</td>\n",
       "      <td>NaN</td>\n",
       "      <td>NaN</td>\n",
       "      <td>NaN</td>\n",
       "      <td>NaN</td>\n",
       "      <td>NaN</td>\n",
       "      <td>NaN</td>\n",
       "      <td>NaN</td>\n",
       "      <td>NaN</td>\n",
       "      <td>NaN</td>\n",
       "      <td>NaN</td>\n",
       "      <td>NaN</td>\n",
       "      <td>NaN</td>\n",
       "      <td>NaN</td>\n",
       "      <td>NaN</td>\n",
       "      <td>NaN</td>\n",
       "      <td>NaN</td>\n",
       "      <td>NaN</td>\n",
       "      <td>NaN</td>\n",
       "      <td>NaN</td>\n",
       "      <td>NaN</td>\n",
       "      <td>NaN</td>\n",
       "      <td>NaN</td>\n",
       "      <td>NaN</td>\n",
       "      <td>NaN</td>\n",
       "      <td>NaN</td>\n",
       "      <td>NaN</td>\n",
       "      <td>NaN</td>\n",
       "    </tr>\n",
       "    <tr>\n",
       "      <th>3</th>\n",
       "      <td>text/html,application/xhtml+xml,application/xm...</td>\n",
       "      <td>NaN</td>\n",
       "      <td>gzip, deflate</td>\n",
       "      <td>NaN</td>\n",
       "      <td>NaN</td>\n",
       "      <td>NaN</td>\n",
       "      <td>NaN</td>\n",
       "      <td>NaN</td>\n",
       "      <td>NaN</td>\n",
       "      <td>NaN</td>\n",
       "      <td>NaN</td>\n",
       "      <td>NaN</td>\n",
       "      <td>keep-alive</td>\n",
       "      <td>NaN</td>\n",
       "      <td>NaN</td>\n",
       "      <td>NaN</td>\n",
       "      <td>NaN</td>\n",
       "      <td>NaN</td>\n",
       "      <td>NaN</td>\n",
       "      <td>NaN</td>\n",
       "      <td>NaN</td>\n",
       "      <td>NaN</td>\n",
       "      <td>NaN</td>\n",
       "      <td>NaN</td>\n",
       "      <td>NaN</td>\n",
       "      <td>NaN</td>\n",
       "      <td>NaN</td>\n",
       "      <td>NaN</td>\n",
       "      <td>NaN</td>\n",
       "      <td>NaN</td>\n",
       "      <td>NaN</td>\n",
       "      <td>NaN</td>\n",
       "      <td>NaN</td>\n",
       "      <td>NaN</td>\n",
       "      <td>NaN</td>\n",
       "      <td>NaN</td>\n",
       "      <td>NaN</td>\n",
       "      <td>NaN</td>\n",
       "      <td>NaN</td>\n",
       "      <td>NaN</td>\n",
       "      <td>NaN</td>\n",
       "      <td>NaN</td>\n",
       "      <td>NaN</td>\n",
       "      <td>NaN</td>\n",
       "      <td>NaN</td>\n",
       "      <td>NaN</td>\n",
       "      <td>NaN</td>\n",
       "      <td>NaN</td>\n",
       "      <td>NaN</td>\n",
       "      <td>NaN</td>\n",
       "      <td>NaN</td>\n",
       "      <td>NaN</td>\n",
       "      <td>1</td>\n",
       "      <td>NaN</td>\n",
       "      <td>NaN</td>\n",
       "      <td>NaN</td>\n",
       "      <td>NaN</td>\n",
       "      <td>NaN</td>\n",
       "      <td>NaN</td>\n",
       "      <td>NaN</td>\n",
       "      <td>NaN</td>\n",
       "      <td>NaN</td>\n",
       "      <td>NaN</td>\n",
       "      <td>NaN</td>\n",
       "      <td>NaN</td>\n",
       "      <td>NaN</td>\n",
       "      <td>NaN</td>\n",
       "      <td>NaN</td>\n",
       "      <td>NaN</td>\n",
       "      <td>NaN</td>\n",
       "      <td>NaN</td>\n",
       "      <td>NaN</td>\n",
       "      <td>NaN</td>\n",
       "      <td>NaN</td>\n",
       "      <td>NaN</td>\n",
       "      <td>NaN</td>\n",
       "      <td>NaN</td>\n",
       "      <td>NaN</td>\n",
       "      <td>NaN</td>\n",
       "      <td>NaN</td>\n",
       "      <td>NaN</td>\n",
       "      <td>NaN</td>\n",
       "      <td>NaN</td>\n",
       "      <td>NaN</td>\n",
       "      <td>NaN</td>\n",
       "      <td>NaN</td>\n",
       "      <td>NaN</td>\n",
       "      <td>NaN</td>\n",
       "      <td>NaN</td>\n",
       "      <td>NaN</td>\n",
       "      <td>NaN</td>\n",
       "      <td>NaN</td>\n",
       "      <td>NaN</td>\n",
       "      <td>NaN</td>\n",
       "      <td>NaN</td>\n",
       "      <td>NaN</td>\n",
       "      <td>NaN</td>\n",
       "      <td>NaN</td>\n",
       "      <td>NaN</td>\n",
       "      <td>NaN</td>\n",
       "      <td>NaN</td>\n",
       "      <td>NaN</td>\n",
       "      <td>NaN</td>\n",
       "      <td>NaN</td>\n",
       "      <td>NaN</td>\n",
       "      <td>NaN</td>\n",
       "      <td>NaN</td>\n",
       "      <td>NaN</td>\n",
       "      <td>NaN</td>\n",
       "      <td>NaN</td>\n",
       "      <td>NaN</td>\n",
       "      <td>NaN</td>\n",
       "      <td>NaN</td>\n",
       "      <td>NaN</td>\n",
       "      <td>NaN</td>\n",
       "      <td>NaN</td>\n",
       "      <td>NaN</td>\n",
       "      <td>NaN</td>\n",
       "      <td>NaN</td>\n",
       "      <td>NaN</td>\n",
       "      <td>NaN</td>\n",
       "      <td>NaN</td>\n",
       "      <td>NaN</td>\n",
       "      <td>NaN</td>\n",
       "      <td>NaN</td>\n",
       "      <td>NaN</td>\n",
       "      <td>NaN</td>\n",
       "      <td>NaN</td>\n",
       "      <td>NaN</td>\n",
       "      <td>NaN</td>\n",
       "      <td>NaN</td>\n",
       "      <td>NaN</td>\n",
       "      <td>NaN</td>\n",
       "      <td>NaN</td>\n",
       "      <td>NaN</td>\n",
       "      <td>NaN</td>\n",
       "      <td>NaN</td>\n",
       "      <td>NaN</td>\n",
       "      <td>NaN</td>\n",
       "      <td>NaN</td>\n",
       "      <td>NaN</td>\n",
       "      <td>NaN</td>\n",
       "      <td>NaN</td>\n",
       "      <td>NaN</td>\n",
       "      <td>NaN</td>\n",
       "      <td>NaN</td>\n",
       "      <td>NaN</td>\n",
       "      <td>NaN</td>\n",
       "      <td>NaN</td>\n",
       "      <td>NaN</td>\n",
       "      <td>NaN</td>\n",
       "      <td>NaN</td>\n",
       "      <td>NaN</td>\n",
       "      <td>NaN</td>\n",
       "      <td>NaN</td>\n",
       "      <td>NaN</td>\n",
       "      <td>NaN</td>\n",
       "      <td>NaN</td>\n",
       "      <td>NaN</td>\n",
       "      <td>NaN</td>\n",
       "      <td>NaN</td>\n",
       "      <td>NaN</td>\n",
       "      <td>NaN</td>\n",
       "      <td>NaN</td>\n",
       "      <td>NaN</td>\n",
       "      <td>NaN</td>\n",
       "    </tr>\n",
       "    <tr>\n",
       "      <th>4</th>\n",
       "      <td>*/*</td>\n",
       "      <td>NaN</td>\n",
       "      <td>gzip, deflate</td>\n",
       "      <td>NaN</td>\n",
       "      <td>NaN</td>\n",
       "      <td>NaN</td>\n",
       "      <td>NaN</td>\n",
       "      <td>NaN</td>\n",
       "      <td>NaN</td>\n",
       "      <td>NaN</td>\n",
       "      <td>NaN</td>\n",
       "      <td>NaN</td>\n",
       "      <td>close</td>\n",
       "      <td>NaN</td>\n",
       "      <td>NaN</td>\n",
       "      <td>NaN</td>\n",
       "      <td>NaN</td>\n",
       "      <td>NaN</td>\n",
       "      <td>NaN</td>\n",
       "      <td>NaN</td>\n",
       "      <td>NaN</td>\n",
       "      <td>NaN</td>\n",
       "      <td>NaN</td>\n",
       "      <td>NaN</td>\n",
       "      <td>NaN</td>\n",
       "      <td>NaN</td>\n",
       "      <td>NaN</td>\n",
       "      <td>NaN</td>\n",
       "      <td>NaN</td>\n",
       "      <td>NaN</td>\n",
       "      <td>NaN</td>\n",
       "      <td>NaN</td>\n",
       "      <td>NaN</td>\n",
       "      <td>NaN</td>\n",
       "      <td>NaN</td>\n",
       "      <td>NaN</td>\n",
       "      <td>NaN</td>\n",
       "      <td>no-cache</td>\n",
       "      <td>NaN</td>\n",
       "      <td>NaN</td>\n",
       "      <td>NaN</td>\n",
       "      <td>NaN</td>\n",
       "      <td>NaN</td>\n",
       "      <td>NaN</td>\n",
       "      <td>NaN</td>\n",
       "      <td>NaN</td>\n",
       "      <td>NaN</td>\n",
       "      <td>NaN</td>\n",
       "      <td>NaN</td>\n",
       "      <td>NaN</td>\n",
       "      <td>NaN</td>\n",
       "      <td>NaN</td>\n",
       "      <td>NaN</td>\n",
       "      <td>NaN</td>\n",
       "      <td>NaN</td>\n",
       "      <td>NaN</td>\n",
       "      <td>NaN</td>\n",
       "      <td>NaN</td>\n",
       "      <td>NaN</td>\n",
       "      <td>NaN</td>\n",
       "      <td>NaN</td>\n",
       "      <td>NaN</td>\n",
       "      <td>NaN</td>\n",
       "      <td>NaN</td>\n",
       "      <td>NaN</td>\n",
       "      <td>NaN</td>\n",
       "      <td>NaN</td>\n",
       "      <td>NaN</td>\n",
       "      <td>NaN</td>\n",
       "      <td>NaN</td>\n",
       "      <td>NaN</td>\n",
       "      <td>NaN</td>\n",
       "      <td>NaN</td>\n",
       "      <td>NaN</td>\n",
       "      <td>NaN</td>\n",
       "      <td>NaN</td>\n",
       "      <td>NaN</td>\n",
       "      <td>NaN</td>\n",
       "      <td>NaN</td>\n",
       "      <td>NaN</td>\n",
       "      <td>NaN</td>\n",
       "      <td>NaN</td>\n",
       "      <td>NaN</td>\n",
       "      <td>NaN</td>\n",
       "      <td>NaN</td>\n",
       "      <td>NaN</td>\n",
       "      <td>NaN</td>\n",
       "      <td>NaN</td>\n",
       "      <td>NaN</td>\n",
       "      <td>NaN</td>\n",
       "      <td>NaN</td>\n",
       "      <td>NaN</td>\n",
       "      <td>NaN</td>\n",
       "      <td>NaN</td>\n",
       "      <td>NaN</td>\n",
       "      <td>NaN</td>\n",
       "      <td>NaN</td>\n",
       "      <td>NaN</td>\n",
       "      <td>NaN</td>\n",
       "      <td>NaN</td>\n",
       "      <td>NaN</td>\n",
       "      <td>NaN</td>\n",
       "      <td>NaN</td>\n",
       "      <td>NaN</td>\n",
       "      <td>NaN</td>\n",
       "      <td>NaN</td>\n",
       "      <td>NaN</td>\n",
       "      <td>NaN</td>\n",
       "      <td>NaN</td>\n",
       "      <td>NaN</td>\n",
       "      <td>NaN</td>\n",
       "      <td>NaN</td>\n",
       "      <td>NaN</td>\n",
       "      <td>NaN</td>\n",
       "      <td>NaN</td>\n",
       "      <td>NaN</td>\n",
       "      <td>NaN</td>\n",
       "      <td>NaN</td>\n",
       "      <td>NaN</td>\n",
       "      <td>NaN</td>\n",
       "      <td>NaN</td>\n",
       "      <td>NaN</td>\n",
       "      <td>NaN</td>\n",
       "      <td>NaN</td>\n",
       "      <td>NaN</td>\n",
       "      <td>NaN</td>\n",
       "      <td>NaN</td>\n",
       "      <td>NaN</td>\n",
       "      <td>NaN</td>\n",
       "      <td>NaN</td>\n",
       "      <td>NaN</td>\n",
       "      <td>NaN</td>\n",
       "      <td>NaN</td>\n",
       "      <td>NaN</td>\n",
       "      <td>NaN</td>\n",
       "      <td>NaN</td>\n",
       "      <td>NaN</td>\n",
       "      <td>NaN</td>\n",
       "      <td>NaN</td>\n",
       "      <td>NaN</td>\n",
       "      <td>NaN</td>\n",
       "      <td>NaN</td>\n",
       "      <td>NaN</td>\n",
       "      <td>NaN</td>\n",
       "      <td>NaN</td>\n",
       "      <td>NaN</td>\n",
       "      <td>NaN</td>\n",
       "      <td>NaN</td>\n",
       "      <td>NaN</td>\n",
       "      <td>NaN</td>\n",
       "      <td>NaN</td>\n",
       "      <td>NaN</td>\n",
       "      <td>NaN</td>\n",
       "      <td>NaN</td>\n",
       "      <td>NaN</td>\n",
       "      <td>NaN</td>\n",
       "      <td>NaN</td>\n",
       "      <td>NaN</td>\n",
       "      <td>NaN</td>\n",
       "      <td>NaN</td>\n",
       "      <td>NaN</td>\n",
       "      <td>NaN</td>\n",
       "      <td>NaN</td>\n",
       "      <td>NaN</td>\n",
       "      <td>NaN</td>\n",
       "      <td>NaN</td>\n",
       "    </tr>\n",
       "  </tbody>\n",
       "</table>\n",
       "</div>"
      ],
      "text/plain": [
       "                                              Accept Accept-Charset  \\\n",
       "0  text/html,application/xhtml+xml,application/xm...            NaN   \n",
       "1                                                */*            NaN   \n",
       "2  text/html,application/xhtml+xml,application/xm...            NaN   \n",
       "3  text/html,application/xhtml+xml,application/xm...            NaN   \n",
       "4                                                */*            NaN   \n",
       "\n",
       "       Accept-Encoding Authorization Cache-Control Cdn-Src-Ip Charset  \\\n",
       "0  gzip, deflate, sdch           NaN           NaN        NaN     NaN   \n",
       "1        gzip, deflate           NaN      no-cache        NaN     NaN   \n",
       "2  gzip, deflate, sdch           NaN           NaN        NaN     NaN   \n",
       "3        gzip, deflate           NaN           NaN        NaN     NaN   \n",
       "4        gzip, deflate           NaN           NaN        NaN     NaN   \n",
       "\n",
       "  Chrome-Proxy Chrome-Proxy-Accept-Transform Client-Ip Clientip  Cmd  \\\n",
       "0          NaN                           NaN       NaN      NaN  NaN   \n",
       "1          NaN                           NaN       NaN      NaN  NaN   \n",
       "2          NaN                           NaN       NaN      NaN  NaN   \n",
       "3          NaN                           NaN       NaN      NaN  NaN   \n",
       "4          NaN                           NaN       NaN      NaN  NaN   \n",
       "\n",
       "   Connection Content-Length Content-Range Content-Type Cookie2 Date  \\\n",
       "0  keep-alive            NaN           NaN          NaN     NaN  NaN   \n",
       "1  Keep-Alive            NaN           NaN          NaN     NaN  NaN   \n",
       "2  keep-alive            NaN           NaN          NaN     NaN  NaN   \n",
       "3  keep-alive            NaN           NaN          NaN     NaN  NaN   \n",
       "4       close            NaN           NaN          NaN     NaN  NaN   \n",
       "\n",
       "  Device-Stock-Ua  Dnt Drm-Version F5-User-Ip Forwarded  \\\n",
       "0             NaN  NaN         NaN        NaN       NaN   \n",
       "1             NaN  NaN         NaN        NaN       NaN   \n",
       "2             NaN  NaN         NaN        NaN       NaN   \n",
       "3             NaN  NaN         NaN        NaN       NaN   \n",
       "4             NaN  NaN         NaN        NaN       NaN   \n",
       "\n",
       "                       From Giga-Transport Http-Version Http2-Settings Https  \\\n",
       "0                       NaN            NaN          NaN            NaN   NaN   \n",
       "1  bingbot(at)microsoft.com            NaN          NaN            NaN   NaN   \n",
       "2                       NaN            NaN          NaN            NaN   NaN   \n",
       "3                       NaN            NaN          NaN            NaN   NaN   \n",
       "4                       NaN            NaN          NaN            NaN   NaN   \n",
       "\n",
       "  If-Modified-Since If-None-Match Inter-Pro-Client Keep-Alive O2gw-Id Origin  \\\n",
       "0               NaN           NaN              NaN        NaN     NaN    NaN   \n",
       "1               NaN           NaN              NaN        NaN     NaN    NaN   \n",
       "2               NaN           NaN              NaN        NaN     NaN    NaN   \n",
       "3               NaN           NaN              NaN        NaN     NaN    NaN   \n",
       "4               NaN           NaN              NaN        NaN     NaN    NaN   \n",
       "\n",
       "  Oxpry-Connection Ping-From Ping-To    Pragma Prefer Proxy-Authorization  \\\n",
       "0              NaN       NaN     NaN       NaN    NaN                 NaN   \n",
       "1              NaN       NaN     NaN  no-cache    NaN                 NaN   \n",
       "2              NaN       NaN     NaN       NaN    NaN                 NaN   \n",
       "3              NaN       NaN     NaN       NaN    NaN                 NaN   \n",
       "4              NaN       NaN     NaN  no-cache    NaN                 NaN   \n",
       "\n",
       "  Proxy-Connection Purpose Q-Refer Q-Ua Range Refresh-Cache  \\\n",
       "0              NaN     NaN     NaN  NaN   NaN           NaN   \n",
       "1              NaN     NaN     NaN  NaN   NaN           NaN   \n",
       "2              NaN     NaN     NaN  NaN   NaN           NaN   \n",
       "3              NaN     NaN     NaN  NaN   NaN           NaN   \n",
       "4              NaN     NaN     NaN  NaN   NaN           NaN   \n",
       "\n",
       "  Rmch-Securitycookie Save-Data Scheme Surrogate-Capability   Te Upgrade  \\\n",
       "0                 NaN       NaN    NaN                  NaN  NaN     NaN   \n",
       "1                 NaN       NaN    NaN                  NaN  NaN     NaN   \n",
       "2                 NaN       NaN    NaN                  NaN  NaN     NaN   \n",
       "3                 NaN       NaN    NaN                  NaN  NaN     NaN   \n",
       "4                 NaN       NaN    NaN                  NaN  NaN     NaN   \n",
       "\n",
       "  Upgrade-Insecure-Requests Useragent Version  Via Wap-Connection  \\\n",
       "0                         1       NaN     NaN  NaN            NaN   \n",
       "1                       NaN       NaN     NaN  NaN            NaN   \n",
       "2                         1       NaN     NaN  NaN            NaN   \n",
       "3                         1       NaN     NaN  NaN            NaN   \n",
       "4                       NaN       NaN     NaN  NaN            NaN   \n",
       "\n",
       "  Wapconnection Wshost Wsip X-------------- X-Accept-Encoding-Wn-Proxy-2  \\\n",
       "0           NaN    NaN  NaN             NaN                          NaN   \n",
       "1           NaN    NaN  NaN             NaN                          NaN   \n",
       "2           NaN    NaN  NaN             NaN                          NaN   \n",
       "3           NaN    NaN  NaN             NaN                          NaN   \n",
       "4           NaN    NaN  NaN             NaN                          NaN   \n",
       "\n",
       "  X-Agent-Client-Id X-Agent-Session-Id X-Att-Deviceid X-Authenticated-User  \\\n",
       "0               NaN                NaN            NaN                  NaN   \n",
       "1               NaN                NaN            NaN                  NaN   \n",
       "2               NaN                NaN            NaN                  NaN   \n",
       "3               NaN                NaN            NaN                  NaN   \n",
       "4               NaN                NaN            NaN                  NaN   \n",
       "\n",
       "  X-B3-Flags X-B3-Parentspanid X-B3-Sampled X-B3-Spanid X-B3-Traceid  \\\n",
       "0        NaN               NaN          NaN         NaN          NaN   \n",
       "1        NaN               NaN          NaN         NaN          NaN   \n",
       "2        NaN               NaN          NaN         NaN          NaN   \n",
       "3        NaN               NaN          NaN         NaN          NaN   \n",
       "4        NaN               NaN          NaN         NaN          NaN   \n",
       "\n",
       "  X-Bluecoat-Via X-Busid X-Categories X-Chrome-Connected X-Chrome-Uma-Enabled  \\\n",
       "0            NaN     NaN          NaN                NaN                  NaN   \n",
       "1            NaN     NaN          NaN                NaN                  NaN   \n",
       "2            NaN     NaN          NaN                NaN                  NaN   \n",
       "3            NaN     NaN          NaN                NaN                  NaN   \n",
       "4            NaN     NaN          NaN                NaN                  NaN   \n",
       "\n",
       "  X-Citrio-Timestamp X-Client-Data X-Cloud-Trace-Context X-Compress  \\\n",
       "0                NaN           NaN                   NaN        NaN   \n",
       "1                NaN           NaN                   NaN        NaN   \n",
       "2                NaN           NaN                   NaN        NaN   \n",
       "3                NaN           NaN                   NaN        NaN   \n",
       "4                NaN           NaN                   NaN        NaN   \n",
       "\n",
       "  X-Content-Check X-Content-Opt X-D-Forwarder X-Ebo-Ua X-Fb-Http-Engine  \\\n",
       "0             NaN           NaN           NaN      NaN              NaN   \n",
       "1             NaN           NaN           NaN      NaN              NaN   \n",
       "2             NaN           NaN           NaN      NaN              NaN   \n",
       "3             NaN           NaN           NaN      NaN              NaN   \n",
       "4             NaN           NaN           NaN      NaN              NaN   \n",
       "\n",
       "  X-Fb-Net-Hni X-Fb-Sim-Hni X-Featureversion X-Firephp X-Firephp-Version  \\\n",
       "0          NaN          NaN              NaN       NaN               NaN   \n",
       "1          NaN          NaN              NaN       NaN               NaN   \n",
       "2          NaN          NaN              NaN       NaN               NaN   \n",
       "3          NaN          NaN              NaN       NaN               NaN   \n",
       "4          NaN          NaN              NaN       NaN               NaN   \n",
       "\n",
       "  X-Forwarded-Proto X-Fuck X-Getzip X-Gfe-Ssl X-Gfe-Tls-Channelid  \\\n",
       "0               NaN    NaN      NaN       NaN                 NaN   \n",
       "1               NaN    NaN      NaN       NaN                 NaN   \n",
       "2               NaN    NaN      NaN       NaN                 NaN   \n",
       "3               NaN    NaN      NaN       NaN                 NaN   \n",
       "4               NaN    NaN      NaN       NaN                 NaN   \n",
       "\n",
       "  X-Icap-Http-Stream X-Icm X-Imforwards X-Iws-Via X-Lb-Local  \\\n",
       "0                NaN   NaN          NaN       NaN        NaN   \n",
       "1                NaN   NaN          NaN       NaN        NaN   \n",
       "2                NaN   NaN          NaN       NaN        NaN   \n",
       "3                NaN   NaN          NaN       NaN        NaN   \n",
       "4                NaN   NaN          NaN       NaN        NaN   \n",
       "\n",
       "  X-Liveinternetapplications X-Loop-Control X-Mcproxyfilter X-Mfe-Response  \\\n",
       "0                        NaN            NaN             NaN            NaN   \n",
       "1                        NaN            NaN             NaN            NaN   \n",
       "2                        NaN            NaN             NaN            NaN   \n",
       "3                        NaN            NaN             NaN            NaN   \n",
       "4                        NaN            NaN             NaN            NaN   \n",
       "\n",
       "  X-Miorigin X-Moz X-Ms-Cookieuri-Requested X-Msisdn X-Mwg-Via X-Newrelic-Id  \\\n",
       "0        NaN   NaN                      NaN      NaN       NaN           NaN   \n",
       "1        NaN   NaN                      NaN      NaN       NaN           NaN   \n",
       "2        NaN   NaN                      NaN      NaN       NaN           NaN   \n",
       "3        NaN   NaN                      NaN      NaN       NaN           NaN   \n",
       "4        NaN   NaN                      NaN      NaN       NaN           NaN   \n",
       "\n",
       "  X-Newrelic-Transaction X-Nokia-Bearer X-Nokia-Gateway-Id  \\\n",
       "0                    NaN            NaN                NaN   \n",
       "1                    NaN            NaN                NaN   \n",
       "2                    NaN            NaN                NaN   \n",
       "3                    NaN            NaN                NaN   \n",
       "4                    NaN            NaN                NaN   \n",
       "\n",
       "  X-Nokia-Maxdownlinkbitrate X-Nokia-Maxuplinkbitrate  \\\n",
       "0                        NaN                      NaN   \n",
       "1                        NaN                      NaN   \n",
       "2                        NaN                      NaN   \n",
       "3                        NaN                      NaN   \n",
       "4                        NaN                      NaN   \n",
       "\n",
       "  X-Nokia-Musicshop-Bearer X-Nokia-Musicshop-Version X-Ob  \\\n",
       "0                      NaN                       NaN  NaN   \n",
       "1                      NaN                       NaN  NaN   \n",
       "2                      NaN                       NaN  NaN   \n",
       "3                      NaN                       NaN  NaN   \n",
       "4                      NaN                       NaN  NaN   \n",
       "\n",
       "  X-Office-Major-Version X-Onv-Icap X-Openfrequencylimit X-Openshield  \\\n",
       "0                    NaN        NaN                  NaN          NaN   \n",
       "1                    NaN        NaN                  NaN          NaN   \n",
       "2                    NaN        NaN                  NaN          NaN   \n",
       "3                    NaN        NaN                  NaN          NaN   \n",
       "4                    NaN        NaN                  NaN          NaN   \n",
       "\n",
       "  X-Opera-Id X-Opera-Info X-Operamini-Fb X-Operamini-Features  \\\n",
       "0        NaN          NaN            NaN                  NaN   \n",
       "1        NaN          NaN            NaN                  NaN   \n",
       "2        NaN          NaN            NaN                  NaN   \n",
       "3        NaN          NaN            NaN                  NaN   \n",
       "4        NaN          NaN            NaN                  NaN   \n",
       "\n",
       "  X-Operamini-Phone X-Operamini-Phone-Ua X-Operamini-Route X-Org-Request  \\\n",
       "0               NaN                  NaN               NaN           NaN   \n",
       "1               NaN                  NaN               NaN           NaN   \n",
       "2               NaN                  NaN               NaN           NaN   \n",
       "3               NaN                  NaN               NaN           NaN   \n",
       "4               NaN                  NaN               NaN           NaN   \n",
       "\n",
       "  X-Original-Url X-P2p-Peerdist X-P2p-Peerdistex X-Pocket-Parser  \\\n",
       "0            NaN            NaN              NaN             NaN   \n",
       "1            NaN            NaN              NaN             NaN   \n",
       "2            NaN            NaN              NaN             NaN   \n",
       "3            NaN            NaN              NaN             NaN   \n",
       "4            NaN            NaN              NaN             NaN   \n",
       "\n",
       "  X-Ps3-Browser X-Psa-Client-Features X-Psa-Client-Options X-Psp-Browser  \\\n",
       "0           NaN                   NaN                  NaN           NaN   \n",
       "1           NaN                   NaN                  NaN           NaN   \n",
       "2           NaN                   NaN                  NaN           NaN   \n",
       "3           NaN                   NaN                  NaN           NaN   \n",
       "4           NaN                   NaN                  NaN           NaN   \n",
       "\n",
       "  X-Psp-Productcode X-Puffin-Ua X-Purpose X-Rbt-Optimized-By X-Real-Ip  \\\n",
       "0               NaN         NaN       NaN                NaN       NaN   \n",
       "1               NaN         NaN       NaN                NaN       NaN   \n",
       "2               NaN         NaN       NaN                NaN       NaN   \n",
       "3               NaN         NaN       NaN                NaN       NaN   \n",
       "4               NaN         NaN       NaN                NaN       NaN   \n",
       "\n",
       "  X-Requestfrom X-Server-Ip X-Time X-Turbo-Compression X-Turbo-Id  \\\n",
       "0           NaN         NaN    NaN                 NaN        NaN   \n",
       "1           NaN         NaN    NaN                 NaN        NaN   \n",
       "2           NaN         NaN    NaN                 NaN        NaN   \n",
       "3           NaN         NaN    NaN                 NaN        NaN   \n",
       "4           NaN         NaN    NaN                 NaN        NaN   \n",
       "\n",
       "  X-Ucbrowser-Device X-Ucbrowser-Device-Ua X-Ucbrowser-Ua X-Up-Vfza-Id X-User  \\\n",
       "0                NaN                   NaN            NaN          NaN    NaN   \n",
       "1                NaN                   NaN            NaN          NaN    NaN   \n",
       "2                NaN                   NaN            NaN          NaN    NaN   \n",
       "3                NaN                   NaN            NaN          NaN    NaN   \n",
       "4                NaN                   NaN            NaN          NaN    NaN   \n",
       "\n",
       "  X-Vermeer-Content-Type X-Wap-Client-Ip X-Wap-Profile-Diff  \\\n",
       "0                    NaN             NaN                NaN   \n",
       "1                    NaN             NaN                NaN   \n",
       "2                    NaN             NaN                NaN   \n",
       "3                    NaN             NaN                NaN   \n",
       "4                    NaN             NaN                NaN   \n",
       "\n",
       "  X-Wap-Proxy-Cookie X-Wapipaddr X-Wf-Max-Combined-Size X-Wisp  \\\n",
       "0                NaN         NaN                    NaN    NaN   \n",
       "1                NaN         NaN                    NaN    NaN   \n",
       "2                NaN         NaN                    NaN    NaN   \n",
       "3                NaN         NaN                    NaN    NaN   \n",
       "4                NaN         NaN                    NaN    NaN   \n",
       "\n",
       "  X-Xorwarded-For X-Xuthenticated-User X-Yandex-Turbo X-Youtube-Edu-Filter  \\\n",
       "0             NaN                  NaN            NaN                  NaN   \n",
       "1             NaN                  NaN            NaN                  NaN   \n",
       "2             NaN                  NaN            NaN                  NaN   \n",
       "3             NaN                  NaN            NaN                  NaN   \n",
       "4             NaN                  NaN            NaN                  NaN   \n",
       "\n",
       "    X3 Xroxy-Connection  \n",
       "0  NaN              NaN  \n",
       "1  NaN              NaN  \n",
       "2  NaN              NaN  \n",
       "3  NaN              NaN  \n",
       "4  NaN              NaN  "
      ]
     },
     "execution_count": 58,
     "metadata": {},
     "output_type": "execute_result"
    }
   ],
   "source": [
    "values_df = pd.DataFrame(values_data)\n",
    "values_df.head()"
   ]
  },
  {
   "cell_type": "code",
   "execution_count": 59,
   "metadata": {},
   "outputs": [
    {
     "name": "stdout",
     "output_type": "stream",
     "text": [
      "(289269, 166)\n",
      "Accept (255,) (275910,)\n",
      "Accept-Charset (66,) (21277,)\n",
      "Accept-Encoding (43,) (271181,)\n",
      "Authorization (3,) (9,)\n",
      "Cache-Control (76,) (27250,)\n",
      "Cdn-Src-Ip (2,) (1,)\n",
      "Charset (2,) (3,)\n",
      "Chrome-Proxy (10,) (12,)\n",
      "Chrome-Proxy-Accept-Transform (2,) (4,)\n",
      "Client-Ip (8,) (9,)\n",
      "Clientip (724,) (856,)\n",
      "Cmd (43,) (42,)\n",
      "Connection (15,) (233711,)\n",
      "Content-Length (638,) (1587,)\n",
      "Content-Range (2,) (12,)\n",
      "Content-Type (15,) (2702,)\n",
      "Cookie2 (4,) (22,)\n",
      "Date (9,) (8,)\n",
      "Device-Stock-Ua (579,) (1208,)\n",
      "Dnt (3,) (16536,)\n",
      "Drm-Version (4,) (9,)\n",
      "F5-User-Ip (14,) (15,)\n",
      "Forwarded (6248,) (7682,)\n",
      "From (18,) (37298,)\n",
      "Giga-Transport (50,) (49,)\n",
      "Http-Version (2,) (2,)\n",
      "Http2-Settings (2,) (2,)\n",
      "Https (2,) (19,)\n",
      "If-Modified-Since (10880,) (11255,)\n",
      "If-None-Match (4,) (21,)\n",
      "Inter-Pro-Client (3,) (8,)\n",
      "Keep-Alive (6,) (836,)\n",
      "O2gw-Id (4,) (3,)\n",
      "Origin (8,) (176,)\n",
      "Oxpry-Connection (2,) (3,)\n",
      "Ping-From (45,) (46,)\n",
      "Ping-To (37,) (46,)\n",
      "Pragma (2,) (22310,)\n",
      "Prefer (2,) (50,)\n",
      "Proxy-Authorization (222,) (336,)\n",
      "Proxy-Connection (5,) (346,)\n",
      "Purpose (2,) (1,)\n",
      "Q-Refer (2,) (1,)\n",
      "Q-Ua (3,) (3,)\n",
      "Range (10,) (483,)\n",
      "Refresh-Cache (2,) (2,)\n",
      "Rmch-Securitycookie (2,) (1,)\n",
      "Save-Data (3,) (8824,)\n",
      "Scheme (2,) (4849,)\n",
      "Surrogate-Capability (74,) (317,)\n",
      "Te (4,) (892,)\n",
      "Upgrade (3,) (2,)\n",
      "Upgrade-Insecure-Requests (2,) (111716,)\n",
      "Useragent (2,) (1,)\n",
      "Version (2,) (38,)\n",
      "Via (1590,) (11229,)\n",
      "Wap-Connection (2,) (13,)\n",
      "Wapconnection (2,) (4,)\n",
      "Wshost (16,) (15,)\n",
      "Wsip (2,) (15,)\n",
      "X-------------- (3,) (2,)\n",
      "X-Accept-Encoding-Wn-Proxy-2 (2,) (2,)\n",
      "X-Agent-Client-Id (2,) (1,)\n",
      "X-Agent-Session-Id (2,) (1,)\n",
      "X-Att-Deviceid (4,) (12,)\n",
      "X-Authenticated-User (3,) (2,)\n",
      "X-B3-Flags (2,) (14,)\n",
      "X-B3-Parentspanid (15,) (14,)\n",
      "X-B3-Sampled (2,) (14,)\n",
      "X-B3-Spanid (15,) (14,)\n",
      "X-B3-Traceid (15,) (14,)\n",
      "X-Bluecoat-Via (58,) (164,)\n",
      "X-Busid (2,) (1,)\n",
      "X-Categories (2,) (7,)\n",
      "X-Chrome-Connected (6,) (5,)\n",
      "X-Chrome-Uma-Enabled (2,) (13,)\n",
      "X-Citrio-Timestamp (5,) (4,)\n",
      "X-Client-Data (53,) (59,)\n",
      "X-Cloud-Trace-Context (16,) (15,)\n",
      "X-Compress (5,) (1337,)\n",
      "X-Content-Check (2,) (1,)\n",
      "X-Content-Opt (4,) (104,)\n",
      "X-D-Forwarder (2,) (1,)\n",
      "X-Ebo-Ua (58,) (69,)\n",
      "X-Fb-Http-Engine (2,) (2,)\n",
      "X-Fb-Net-Hni (2,) (1,)\n",
      "X-Fb-Sim-Hni (3,) (2,)\n",
      "X-Featureversion (2,) (5,)\n",
      "X-Firephp (2,) (1,)\n",
      "X-Firephp-Version (2,) (1,)\n",
      "X-Forwarded-Proto (2,) (1395,)\n",
      "X-Fuck (2,) (1,)\n",
      "X-Getzip (2,) (283,)\n",
      "X-Gfe-Ssl (2,) (2,)\n",
      "X-Gfe-Tls-Channelid (2,) (2,)\n",
      "X-Icap-Http-Stream (2,) (1,)\n",
      "X-Icm (2,) (2,)\n",
      "X-Imforwards (2,) (66,)\n",
      "X-Iws-Via (5,) (4,)\n",
      "X-Lb-Local (3,) (47,)\n",
      "X-Liveinternetapplications (2,) (16,)\n",
      "X-Loop-Control (3,) (2,)\n",
      "X-Mcproxyfilter (3,) (2,)\n",
      "X-Mfe-Response (2,) (1,)\n",
      "X-Miorigin (4,) (60,)\n",
      "X-Moz (2,) (1982,)\n",
      "X-Ms-Cookieuri-Requested (2,) (5,)\n",
      "X-Msisdn (6,) (10,)\n",
      "X-Mwg-Via (3,) (2,)\n",
      "X-Newrelic-Id (3,) (164,)\n",
      "X-Newrelic-Transaction (164,) (164,)\n",
      "X-Nokia-Bearer (3,) (11,)\n",
      "X-Nokia-Gateway-Id (2,) (11,)\n",
      "X-Nokia-Maxdownlinkbitrate (2,) (11,)\n",
      "X-Nokia-Maxuplinkbitrate (2,) (11,)\n",
      "X-Nokia-Musicshop-Bearer (4,) (24,)\n",
      "X-Nokia-Musicshop-Version (7,) (24,)\n",
      "X-Ob (2,) (5,)\n",
      "X-Office-Major-Version (2,) (5,)\n",
      "X-Onv-Icap (2,) (4,)\n",
      "X-Openfrequencylimit (2,) (1,)\n",
      "X-Openshield (2,) (1,)\n",
      "X-Opera-Id (7,) (8,)\n",
      "X-Opera-Info (45,) (46,)\n",
      "X-Operamini-Fb (4,) (5,)\n",
      "X-Operamini-Features (16,) (1317,)\n",
      "X-Operamini-Phone (37,) (1317,)\n",
      "X-Operamini-Phone-Ua (575,) (1309,)\n",
      "X-Operamini-Route (2,) (259,)\n",
      "X-Org-Request (2,) (1,)\n",
      "X-Original-Url (3,) (2,)\n",
      "X-P2p-Peerdist (3,) (33,)\n",
      "X-P2p-Peerdistex (2,) (8,)\n",
      "X-Pocket-Parser (2,) (7,)\n",
      "X-Ps3-Browser (2,) (3,)\n",
      "X-Psa-Client-Features (3,) (4,)\n",
      "X-Psa-Client-Options (2,) (2,)\n",
      "X-Psp-Browser (3,) (16,)\n",
      "X-Psp-Productcode (3,) (16,)\n",
      "X-Puffin-Ua (3,) (3,)\n",
      "X-Purpose (2,) (52,)\n",
      "X-Rbt-Optimized-By (2,) (2,)\n",
      "X-Real-Ip (12,) (26,)\n",
      "X-Requestfrom (2,) (2,)\n",
      "X-Server-Ip (2,) (1,)\n",
      "X-Time (2,) (1,)\n",
      "X-Turbo-Compression (2,) (332,)\n",
      "X-Turbo-Id (2,) (4,)\n",
      "X-Ucbrowser-Device (16,) (29,)\n",
      "X-Ucbrowser-Device-Ua (46,) (85,)\n",
      "X-Ucbrowser-Ua (718,) (942,)\n",
      "X-Up-Vfza-Id (2,) (1,)\n",
      "X-User (2,) (1,)\n",
      "X-Vermeer-Content-Type (2,) (4,)\n",
      "X-Wap-Client-Ip (2,) (1,)\n",
      "X-Wap-Profile-Diff (12,) (128,)\n",
      "X-Wap-Proxy-Cookie (3,) (27,)\n",
      "X-Wapipaddr (5,) (4,)\n",
      "X-Wf-Max-Combined-Size (2,) (1,)\n",
      "X-Wisp (2,) (1,)\n",
      "X-Xorwarded-For (3,) (2,)\n",
      "X-Xuthenticated-User (2,) (1,)\n",
      "X-Yandex-Turbo (3,) (1434,)\n",
      "X-Youtube-Edu-Filter (2,) (3,)\n",
      "X3 (2,) (1,)\n",
      "Xroxy-Connection (3,) (14,)\n"
     ]
    }
   ],
   "source": [
    "print(values_df.shape)\n",
    "for column in values_df.columns:\n",
    "    print(column, values_df[column].unique().shape, values_df[column].dropna().shape)"
   ]
  },
  {
   "cell_type": "markdown",
   "metadata": {},
   "source": [
    "Применим очень тупой отбор признаков:\n",
    "- если определенный ключ появляется ну очень редко(например менее чем в 0.1% хэдэров, то мы считаем его неинформативным)\n",
    "- если у определенного ключа почти все значения различны(например если отношение общего значений к числу уникальных очень мало(например меньше 2)"
   ]
  },
  {
   "cell_type": "code",
   "execution_count": 60,
   "metadata": {},
   "outputs": [
    {
     "name": "stdout",
     "output_type": "stream",
     "text": [
      "(289269, 166)\n",
      "Accept 255 275910\n",
      "Accept-Charset 66 21277\n",
      "Accept-Encoding 43 271181\n",
      "Cache-Control 76 27250\n",
      "Connection 15 233711\n",
      "Content-Length 638 1587\n",
      "Content-Type 15 2702\n",
      "Device-Stock-Ua 579 1208\n",
      "Dnt 3 16536\n",
      "From 18 37298\n",
      "Keep-Alive 6 836\n",
      "Pragma 2 22310\n",
      "Proxy-Connection 5 346\n",
      "Range 10 483\n",
      "Save-Data 3 8824\n",
      "Scheme 2 4849\n",
      "Surrogate-Capability 74 317\n",
      "Te 4 892\n",
      "Upgrade-Insecure-Requests 2 111716\n",
      "Via 1590 11229\n",
      "X-Compress 5 1337\n",
      "X-Forwarded-Proto 2 1395\n",
      "X-Moz 2 1982\n",
      "X-Operamini-Features 16 1317\n",
      "X-Operamini-Phone 37 1317\n",
      "X-Operamini-Phone-Ua 575 1309\n",
      "X-Turbo-Compression 2 332\n",
      "X-Yandex-Turbo 3 1434\n"
     ]
    },
    {
     "data": {
      "text/plain": [
       "'Accept Accept-Charset Accept-Encoding Cache-Control Connection Content-Length Content-Type Device-Stock-Ua Dnt From Keep-Alive Pragma Proxy-Connection Range Save-Data Scheme Surrogate-Capability Te Upgrade-Insecure-Requests Via X-Compress X-Forwarded-Proto X-Moz X-Operamini-Features X-Operamini-Phone X-Operamini-Phone-Ua X-Turbo-Compression X-Yandex-Turbo'"
      ]
     },
     "execution_count": 60,
     "metadata": {},
     "output_type": "execute_result"
    }
   ],
   "source": [
    "print(values_df.shape)\n",
    "important_keys = []\n",
    "for column in values_df.columns:\n",
    "    not_null_count = values_df[column].dropna().shape[0]\n",
    "    if not_null_count  >= values_df.shape[0] * 0.001:\n",
    "        uniq_count = values_df[column].unique().shape[0]\n",
    "        if not_null_count / uniq_count >= 2:\n",
    "            print(column, uniq_count, not_null_count)\n",
    "            important_keys.append(column)\n",
    "' '.join(important_keys)"
   ]
  },
  {
   "cell_type": "code",
   "execution_count": 61,
   "metadata": {},
   "outputs": [
    {
     "data": {
      "text/html": [
       "<div>\n",
       "<style>\n",
       "    .dataframe thead tr:only-child th {\n",
       "        text-align: right;\n",
       "    }\n",
       "\n",
       "    .dataframe thead th {\n",
       "        text-align: left;\n",
       "    }\n",
       "\n",
       "    .dataframe tbody tr th {\n",
       "        vertical-align: top;\n",
       "    }\n",
       "</style>\n",
       "<table border=\"1\" class=\"dataframe\">\n",
       "  <thead>\n",
       "    <tr style=\"text-align: right;\">\n",
       "      <th></th>\n",
       "      <th>Accept</th>\n",
       "      <th>Accept-Charset</th>\n",
       "      <th>Accept-Encoding</th>\n",
       "      <th>Cache-Control</th>\n",
       "      <th>Connection</th>\n",
       "      <th>Content-Length</th>\n",
       "      <th>Content-Type</th>\n",
       "      <th>Device-Stock-Ua</th>\n",
       "      <th>Dnt</th>\n",
       "      <th>From</th>\n",
       "      <th>Keep-Alive</th>\n",
       "      <th>Pragma</th>\n",
       "      <th>Proxy-Connection</th>\n",
       "      <th>Range</th>\n",
       "      <th>Save-Data</th>\n",
       "      <th>Scheme</th>\n",
       "      <th>Surrogate-Capability</th>\n",
       "      <th>Te</th>\n",
       "      <th>Upgrade-Insecure-Requests</th>\n",
       "      <th>Via</th>\n",
       "      <th>X-Compress</th>\n",
       "      <th>X-Forwarded-Proto</th>\n",
       "      <th>X-Moz</th>\n",
       "      <th>X-Operamini-Features</th>\n",
       "      <th>X-Operamini-Phone</th>\n",
       "      <th>X-Operamini-Phone-Ua</th>\n",
       "      <th>X-Turbo-Compression</th>\n",
       "      <th>X-Yandex-Turbo</th>\n",
       "    </tr>\n",
       "  </thead>\n",
       "  <tbody>\n",
       "    <tr>\n",
       "      <th>0</th>\n",
       "      <td>text/html,application/xhtml+xml,application/xm...</td>\n",
       "      <td>NaN</td>\n",
       "      <td>gzip, deflate, sdch</td>\n",
       "      <td>NaN</td>\n",
       "      <td>keep-alive</td>\n",
       "      <td>NaN</td>\n",
       "      <td>NaN</td>\n",
       "      <td>NaN</td>\n",
       "      <td>NaN</td>\n",
       "      <td>NaN</td>\n",
       "      <td>NaN</td>\n",
       "      <td>NaN</td>\n",
       "      <td>NaN</td>\n",
       "      <td>NaN</td>\n",
       "      <td>NaN</td>\n",
       "      <td>NaN</td>\n",
       "      <td>NaN</td>\n",
       "      <td>NaN</td>\n",
       "      <td>1</td>\n",
       "      <td>NaN</td>\n",
       "      <td>NaN</td>\n",
       "      <td>NaN</td>\n",
       "      <td>NaN</td>\n",
       "      <td>NaN</td>\n",
       "      <td>NaN</td>\n",
       "      <td>NaN</td>\n",
       "      <td>NaN</td>\n",
       "      <td>NaN</td>\n",
       "    </tr>\n",
       "    <tr>\n",
       "      <th>1</th>\n",
       "      <td>*/*</td>\n",
       "      <td>NaN</td>\n",
       "      <td>gzip, deflate</td>\n",
       "      <td>no-cache</td>\n",
       "      <td>Keep-Alive</td>\n",
       "      <td>NaN</td>\n",
       "      <td>NaN</td>\n",
       "      <td>NaN</td>\n",
       "      <td>NaN</td>\n",
       "      <td>bingbot(at)microsoft.com</td>\n",
       "      <td>NaN</td>\n",
       "      <td>no-cache</td>\n",
       "      <td>NaN</td>\n",
       "      <td>NaN</td>\n",
       "      <td>NaN</td>\n",
       "      <td>NaN</td>\n",
       "      <td>NaN</td>\n",
       "      <td>NaN</td>\n",
       "      <td>NaN</td>\n",
       "      <td>NaN</td>\n",
       "      <td>NaN</td>\n",
       "      <td>NaN</td>\n",
       "      <td>NaN</td>\n",
       "      <td>NaN</td>\n",
       "      <td>NaN</td>\n",
       "      <td>NaN</td>\n",
       "      <td>NaN</td>\n",
       "      <td>NaN</td>\n",
       "    </tr>\n",
       "    <tr>\n",
       "      <th>2</th>\n",
       "      <td>text/html,application/xhtml+xml,application/xm...</td>\n",
       "      <td>NaN</td>\n",
       "      <td>gzip, deflate, sdch</td>\n",
       "      <td>NaN</td>\n",
       "      <td>keep-alive</td>\n",
       "      <td>NaN</td>\n",
       "      <td>NaN</td>\n",
       "      <td>NaN</td>\n",
       "      <td>NaN</td>\n",
       "      <td>NaN</td>\n",
       "      <td>NaN</td>\n",
       "      <td>NaN</td>\n",
       "      <td>NaN</td>\n",
       "      <td>NaN</td>\n",
       "      <td>NaN</td>\n",
       "      <td>NaN</td>\n",
       "      <td>NaN</td>\n",
       "      <td>NaN</td>\n",
       "      <td>1</td>\n",
       "      <td>NaN</td>\n",
       "      <td>NaN</td>\n",
       "      <td>NaN</td>\n",
       "      <td>NaN</td>\n",
       "      <td>NaN</td>\n",
       "      <td>NaN</td>\n",
       "      <td>NaN</td>\n",
       "      <td>NaN</td>\n",
       "      <td>NaN</td>\n",
       "    </tr>\n",
       "    <tr>\n",
       "      <th>3</th>\n",
       "      <td>text/html,application/xhtml+xml,application/xm...</td>\n",
       "      <td>NaN</td>\n",
       "      <td>gzip, deflate</td>\n",
       "      <td>NaN</td>\n",
       "      <td>keep-alive</td>\n",
       "      <td>NaN</td>\n",
       "      <td>NaN</td>\n",
       "      <td>NaN</td>\n",
       "      <td>NaN</td>\n",
       "      <td>NaN</td>\n",
       "      <td>NaN</td>\n",
       "      <td>NaN</td>\n",
       "      <td>NaN</td>\n",
       "      <td>NaN</td>\n",
       "      <td>NaN</td>\n",
       "      <td>NaN</td>\n",
       "      <td>NaN</td>\n",
       "      <td>NaN</td>\n",
       "      <td>1</td>\n",
       "      <td>NaN</td>\n",
       "      <td>NaN</td>\n",
       "      <td>NaN</td>\n",
       "      <td>NaN</td>\n",
       "      <td>NaN</td>\n",
       "      <td>NaN</td>\n",
       "      <td>NaN</td>\n",
       "      <td>NaN</td>\n",
       "      <td>NaN</td>\n",
       "    </tr>\n",
       "    <tr>\n",
       "      <th>4</th>\n",
       "      <td>*/*</td>\n",
       "      <td>NaN</td>\n",
       "      <td>gzip, deflate</td>\n",
       "      <td>NaN</td>\n",
       "      <td>close</td>\n",
       "      <td>NaN</td>\n",
       "      <td>NaN</td>\n",
       "      <td>NaN</td>\n",
       "      <td>NaN</td>\n",
       "      <td>NaN</td>\n",
       "      <td>NaN</td>\n",
       "      <td>no-cache</td>\n",
       "      <td>NaN</td>\n",
       "      <td>NaN</td>\n",
       "      <td>NaN</td>\n",
       "      <td>NaN</td>\n",
       "      <td>NaN</td>\n",
       "      <td>NaN</td>\n",
       "      <td>NaN</td>\n",
       "      <td>NaN</td>\n",
       "      <td>NaN</td>\n",
       "      <td>NaN</td>\n",
       "      <td>NaN</td>\n",
       "      <td>NaN</td>\n",
       "      <td>NaN</td>\n",
       "      <td>NaN</td>\n",
       "      <td>NaN</td>\n",
       "      <td>NaN</td>\n",
       "    </tr>\n",
       "  </tbody>\n",
       "</table>\n",
       "</div>"
      ],
      "text/plain": [
       "                                              Accept Accept-Charset  \\\n",
       "0  text/html,application/xhtml+xml,application/xm...            NaN   \n",
       "1                                                */*            NaN   \n",
       "2  text/html,application/xhtml+xml,application/xm...            NaN   \n",
       "3  text/html,application/xhtml+xml,application/xm...            NaN   \n",
       "4                                                */*            NaN   \n",
       "\n",
       "       Accept-Encoding Cache-Control  Connection Content-Length Content-Type  \\\n",
       "0  gzip, deflate, sdch           NaN  keep-alive            NaN          NaN   \n",
       "1        gzip, deflate      no-cache  Keep-Alive            NaN          NaN   \n",
       "2  gzip, deflate, sdch           NaN  keep-alive            NaN          NaN   \n",
       "3        gzip, deflate           NaN  keep-alive            NaN          NaN   \n",
       "4        gzip, deflate           NaN       close            NaN          NaN   \n",
       "\n",
       "  Device-Stock-Ua  Dnt                      From Keep-Alive    Pragma  \\\n",
       "0             NaN  NaN                       NaN        NaN       NaN   \n",
       "1             NaN  NaN  bingbot(at)microsoft.com        NaN  no-cache   \n",
       "2             NaN  NaN                       NaN        NaN       NaN   \n",
       "3             NaN  NaN                       NaN        NaN       NaN   \n",
       "4             NaN  NaN                       NaN        NaN  no-cache   \n",
       "\n",
       "  Proxy-Connection Range Save-Data Scheme Surrogate-Capability   Te  \\\n",
       "0              NaN   NaN       NaN    NaN                  NaN  NaN   \n",
       "1              NaN   NaN       NaN    NaN                  NaN  NaN   \n",
       "2              NaN   NaN       NaN    NaN                  NaN  NaN   \n",
       "3              NaN   NaN       NaN    NaN                  NaN  NaN   \n",
       "4              NaN   NaN       NaN    NaN                  NaN  NaN   \n",
       "\n",
       "  Upgrade-Insecure-Requests  Via X-Compress X-Forwarded-Proto X-Moz  \\\n",
       "0                         1  NaN        NaN               NaN   NaN   \n",
       "1                       NaN  NaN        NaN               NaN   NaN   \n",
       "2                         1  NaN        NaN               NaN   NaN   \n",
       "3                         1  NaN        NaN               NaN   NaN   \n",
       "4                       NaN  NaN        NaN               NaN   NaN   \n",
       "\n",
       "  X-Operamini-Features X-Operamini-Phone X-Operamini-Phone-Ua  \\\n",
       "0                  NaN               NaN                  NaN   \n",
       "1                  NaN               NaN                  NaN   \n",
       "2                  NaN               NaN                  NaN   \n",
       "3                  NaN               NaN                  NaN   \n",
       "4                  NaN               NaN                  NaN   \n",
       "\n",
       "  X-Turbo-Compression X-Yandex-Turbo  \n",
       "0                 NaN            NaN  \n",
       "1                 NaN            NaN  \n",
       "2                 NaN            NaN  \n",
       "3                 NaN            NaN  \n",
       "4                 NaN            NaN  "
      ]
     },
     "execution_count": 61,
     "metadata": {},
     "output_type": "execute_result"
    }
   ],
   "source": [
    "values_df = values_df[important_keys]\n",
    "values_df.head()"
   ]
  },
  {
   "cell_type": "code",
   "execution_count": 65,
   "metadata": {
    "collapsed": true
   },
   "outputs": [],
   "source": [
    "sparse_dummy_values = pd.get_dummies(values_df).to_sparse()"
   ]
  },
  {
   "cell_type": "code",
   "execution_count": null,
   "metadata": {
    "collapsed": true
   },
   "outputs": [],
   "source": [
    "sparse_dummy_values"
   ]
  },
  {
   "cell_type": "code",
   "execution_count": null,
   "metadata": {
    "collapsed": true
   },
   "outputs": [],
   "source": [
    "del(sparse_dummy_values)"
   ]
  }
 ],
 "metadata": {
  "kernelspec": {
   "display_name": "Python 3",
   "language": "python",
   "name": "python3"
  },
  "language_info": {
   "codemirror_mode": {
    "name": "ipython",
    "version": 3
   },
   "file_extension": ".py",
   "mimetype": "text/x-python",
   "name": "python",
   "nbconvert_exporter": "python",
   "pygments_lexer": "ipython3",
   "version": "3.6.1"
  }
 },
 "nbformat": 4,
 "nbformat_minor": 2
}

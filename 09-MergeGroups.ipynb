{
 "cells": [
  {
   "cell_type": "markdown",
   "metadata": {},
   "source": [
    "### Дообучение\n",
    "\n",
    "_Идея:_ **Брать логи за последние 10 дней (нормально можно обучить) и замешивать в выборку юзерагенты из старых выборок которые входят в топ 200 старой выборки, но не входят в топ 200 новой.**\n",
    "\n",
    "Для выборки по времени у класса ДщпЗфкіу реализована загрузка спец тренировочной выборки `parse_train_sample_by_time`"
   ]
  },
  {
   "cell_type": "code",
   "execution_count": 1,
   "metadata": {},
   "outputs": [
    {
     "name": "stdout",
     "output_type": "stream",
     "text": [
      "Populating the interactive namespace from numpy and matplotlib\n"
     ]
    },
    {
     "name": "stderr",
     "output_type": "stream",
     "text": [
      "/home/levabd/anaconda3/lib/python3.6/site-packages/IPython/core/magics/pylab.py:161: UserWarning: pylab import has clobbered these variables: ['plt']\n",
      "`%matplotlib` prevents importing * from pylab and numpy\n",
      "  \"\\n`%matplotlib` prevents importing * from pylab and numpy\"\n"
     ]
    }
   ],
   "source": [
    "import pandas as pd\n",
    "import numpy as np\n",
    "\n",
    "import scipy.sparse\n",
    "import sklearn.feature_extraction\n",
    "\n",
    "import matplotlib.pylab as plt\n",
    "%matplotlib inline\n",
    "\n",
    "from tqdm import tqdm\n",
    "import platform\n",
    "\n",
    "pd.set_option(\"display.max_rows\", 10)\n",
    "pd.set_option('display.max_columns', 1100)\n",
    "\n",
    "import os\n",
    "\n",
    "%pylab inline\n",
    "warnings.filterwarnings('ignore')"
   ]
  },
  {
   "cell_type": "markdown",
   "metadata": {},
   "source": [
    "### Load data to train"
   ]
  },
  {
   "cell_type": "code",
   "execution_count": 2,
   "metadata": {},
   "outputs": [
    {
     "data": {
      "text/html": [
       "<div>\n",
       "<style>\n",
       "    .dataframe thead tr:only-child th {\n",
       "        text-align: right;\n",
       "    }\n",
       "\n",
       "    .dataframe thead th {\n",
       "        text-align: left;\n",
       "    }\n",
       "\n",
       "    .dataframe tbody tr th {\n",
       "        vertical-align: top;\n",
       "    }\n",
       "</style>\n",
       "<table border=\"1\" class=\"dataframe\">\n",
       "  <thead>\n",
       "    <tr style=\"text-align: right;\">\n",
       "      <th></th>\n",
       "      <th>device_class_code</th>\n",
       "      <th>ip</th>\n",
       "      <th>os_code</th>\n",
       "      <th>os_family_code</th>\n",
       "      <th>timestamp</th>\n",
       "      <th>ua_class_code</th>\n",
       "      <th>ua_family_code</th>\n",
       "      <th>ua_string</th>\n",
       "      <th>ua_version</th>\n",
       "    </tr>\n",
       "  </thead>\n",
       "  <tbody>\n",
       "    <tr>\n",
       "      <th>0</th>\n",
       "      <td>desktop</td>\n",
       "      <td>95.181.252.91</td>\n",
       "      <td>windows_7</td>\n",
       "      <td>windows</td>\n",
       "      <td>1485900038</td>\n",
       "      <td>browser</td>\n",
       "      <td>chrome</td>\n",
       "      <td>Mozilla/5.0 (Windows NT 6.1) AppleWebKit/537.3...</td>\n",
       "      <td>chrome55.0.2883.87</td>\n",
       "    </tr>\n",
       "    <tr>\n",
       "      <th>1</th>\n",
       "      <td>smartphone</td>\n",
       "      <td>31.148.3.19</td>\n",
       "      <td>android_4_4</td>\n",
       "      <td>android</td>\n",
       "      <td>1485900079</td>\n",
       "      <td>mobile_browser</td>\n",
       "      <td>chrome_mobile</td>\n",
       "      <td>Mozilla/5.0 (Linux; Android 4.4.2; Zera S Buil...</td>\n",
       "      <td>chrome_mobile49.0.2623.105</td>\n",
       "    </tr>\n",
       "    <tr>\n",
       "      <th>2</th>\n",
       "      <td>desktop</td>\n",
       "      <td>188.162.183.66</td>\n",
       "      <td>windows_7</td>\n",
       "      <td>windows</td>\n",
       "      <td>1485900103</td>\n",
       "      <td>browser</td>\n",
       "      <td>firefox</td>\n",
       "      <td>Mozilla/5.0 (Windows NT 6.1; WOW64; rv:51.0) G...</td>\n",
       "      <td>firefox51.0</td>\n",
       "    </tr>\n",
       "    <tr>\n",
       "      <th>3</th>\n",
       "      <td>desktop</td>\n",
       "      <td>37.144.52.103</td>\n",
       "      <td>windows_xp</td>\n",
       "      <td>windows</td>\n",
       "      <td>1485900105</td>\n",
       "      <td>browser</td>\n",
       "      <td>ie</td>\n",
       "      <td>Mozilla/4.0 (compatible; MSIE 8.0; Windows NT ...</td>\n",
       "      <td>ie8.0</td>\n",
       "    </tr>\n",
       "    <tr>\n",
       "      <th>4</th>\n",
       "      <td>desktop</td>\n",
       "      <td>91.201.178.51</td>\n",
       "      <td>windows_8_1</td>\n",
       "      <td>windows</td>\n",
       "      <td>1485900108</td>\n",
       "      <td>browser</td>\n",
       "      <td>opera</td>\n",
       "      <td>Mozilla/5.0 (Windows NT 6.3; WOW64) AppleWebKi...</td>\n",
       "      <td>opera40.0.2308.81</td>\n",
       "    </tr>\n",
       "    <tr>\n",
       "      <th>...</th>\n",
       "      <td>...</td>\n",
       "      <td>...</td>\n",
       "      <td>...</td>\n",
       "      <td>...</td>\n",
       "      <td>...</td>\n",
       "      <td>...</td>\n",
       "      <td>...</td>\n",
       "      <td>...</td>\n",
       "      <td>...</td>\n",
       "    </tr>\n",
       "    <tr>\n",
       "      <th>571140</th>\n",
       "      <td>smartphone</td>\n",
       "      <td>89.237.103.208</td>\n",
       "      <td>android_6</td>\n",
       "      <td>android</td>\n",
       "      <td>1488585286</td>\n",
       "      <td>mobile_browser</td>\n",
       "      <td>chrome_mobile</td>\n",
       "      <td>Mozilla/5.0 (Linux; Android 6.0.1; SM-G925F Bu...</td>\n",
       "      <td>chrome_mobile56.0.2924.87</td>\n",
       "    </tr>\n",
       "    <tr>\n",
       "      <th>571141</th>\n",
       "      <td>desktop</td>\n",
       "      <td>141.0.12.169</td>\n",
       "      <td>windows_98</td>\n",
       "      <td>windows</td>\n",
       "      <td>1488585377</td>\n",
       "      <td>browser</td>\n",
       "      <td>opera</td>\n",
       "      <td>Mozilla/4.0 (Windows 98; US) Opera 12.16 [en]</td>\n",
       "      <td>opera12.16</td>\n",
       "    </tr>\n",
       "    <tr>\n",
       "      <th>571142</th>\n",
       "      <td>desktop</td>\n",
       "      <td>131.253.24.147</td>\n",
       "      <td>windows_7</td>\n",
       "      <td>windows</td>\n",
       "      <td>1488585395</td>\n",
       "      <td>browser</td>\n",
       "      <td>ie</td>\n",
       "      <td>Mozilla/5.0 (compatible; MSIE 9.0; Windows NT ...</td>\n",
       "      <td>ie9.0</td>\n",
       "    </tr>\n",
       "    <tr>\n",
       "      <th>571143</th>\n",
       "      <td>desktop</td>\n",
       "      <td>176.195.122.100</td>\n",
       "      <td>windows_7</td>\n",
       "      <td>windows</td>\n",
       "      <td>1488585447</td>\n",
       "      <td>browser</td>\n",
       "      <td>ie</td>\n",
       "      <td>Mozilla/4.0 (compatible; MSIE 8.0; Windows NT ...</td>\n",
       "      <td>ie8.0</td>\n",
       "    </tr>\n",
       "    <tr>\n",
       "      <th>571144</th>\n",
       "      <td>desktop</td>\n",
       "      <td>95.108.133.194</td>\n",
       "      <td>windows_8</td>\n",
       "      <td>windows</td>\n",
       "      <td>1488585571</td>\n",
       "      <td>browser</td>\n",
       "      <td>yandex-browser</td>\n",
       "      <td>Mozilla/5.0 (Windows NT 6.2; WOW64) AppleWebKi...</td>\n",
       "      <td>yandex-browser17.1.0.2034</td>\n",
       "    </tr>\n",
       "  </tbody>\n",
       "</table>\n",
       "<p>571145 rows × 9 columns</p>\n",
       "</div>"
      ],
      "text/plain": [
       "       device_class_code               ip      os_code os_family_code  \\\n",
       "0                desktop    95.181.252.91    windows_7        windows   \n",
       "1             smartphone      31.148.3.19  android_4_4        android   \n",
       "2                desktop   188.162.183.66    windows_7        windows   \n",
       "3                desktop    37.144.52.103   windows_xp        windows   \n",
       "4                desktop    91.201.178.51  windows_8_1        windows   \n",
       "...                  ...              ...          ...            ...   \n",
       "571140        smartphone   89.237.103.208    android_6        android   \n",
       "571141           desktop     141.0.12.169   windows_98        windows   \n",
       "571142           desktop   131.253.24.147    windows_7        windows   \n",
       "571143           desktop  176.195.122.100    windows_7        windows   \n",
       "571144           desktop   95.108.133.194    windows_8        windows   \n",
       "\n",
       "         timestamp   ua_class_code  ua_family_code  \\\n",
       "0       1485900038         browser          chrome   \n",
       "1       1485900079  mobile_browser   chrome_mobile   \n",
       "2       1485900103         browser         firefox   \n",
       "3       1485900105         browser              ie   \n",
       "4       1485900108         browser           opera   \n",
       "...            ...             ...             ...   \n",
       "571140  1488585286  mobile_browser   chrome_mobile   \n",
       "571141  1488585377         browser           opera   \n",
       "571142  1488585395         browser              ie   \n",
       "571143  1488585447         browser              ie   \n",
       "571144  1488585571         browser  yandex-browser   \n",
       "\n",
       "                                                ua_string  \\\n",
       "0       Mozilla/5.0 (Windows NT 6.1) AppleWebKit/537.3...   \n",
       "1       Mozilla/5.0 (Linux; Android 4.4.2; Zera S Buil...   \n",
       "2       Mozilla/5.0 (Windows NT 6.1; WOW64; rv:51.0) G...   \n",
       "3       Mozilla/4.0 (compatible; MSIE 8.0; Windows NT ...   \n",
       "4       Mozilla/5.0 (Windows NT 6.3; WOW64) AppleWebKi...   \n",
       "...                                                   ...   \n",
       "571140  Mozilla/5.0 (Linux; Android 6.0.1; SM-G925F Bu...   \n",
       "571141      Mozilla/4.0 (Windows 98; US) Opera 12.16 [en]   \n",
       "571142  Mozilla/5.0 (compatible; MSIE 9.0; Windows NT ...   \n",
       "571143  Mozilla/4.0 (compatible; MSIE 8.0; Windows NT ...   \n",
       "571144  Mozilla/5.0 (Windows NT 6.2; WOW64) AppleWebKi...   \n",
       "\n",
       "                        ua_version  \n",
       "0               chrome55.0.2883.87  \n",
       "1       chrome_mobile49.0.2623.105  \n",
       "2                      firefox51.0  \n",
       "3                            ie8.0  \n",
       "4                opera40.0.2308.81  \n",
       "...                            ...  \n",
       "571140   chrome_mobile56.0.2924.87  \n",
       "571141                  opera12.16  \n",
       "571142                       ie9.0  \n",
       "571143                       ie8.0  \n",
       "571144   yandex-browser17.1.0.2034  \n",
       "\n",
       "[571145 rows x 9 columns]"
      ]
     },
     "execution_count": 2,
     "metadata": {},
     "output_type": "execute_result"
    }
   ],
   "source": [
    "main_data = np.load('df/main_data.npy').tolist()\n",
    "values_data = np.load('df/values_data.npy').tolist()\n",
    "order_data = np.load('df/order_data.npy').tolist()\n",
    "\n",
    "main_df = pd.DataFrame(main_data)\n",
    "\n",
    "main_df"
   ]
  },
  {
   "cell_type": "code",
   "execution_count": 4,
   "metadata": {},
   "outputs": [
    {
     "name": "stdout",
     "output_type": "stream",
     "text": [
      "Device count: 8\n",
      "Device platform family count: 37\n",
      "Device platform count: 109\n",
      "Device browser class count: 10\n",
      "Device browser family count: 193\n",
      "Device browser version count: 5790\n"
     ]
    }
   ],
   "source": [
    "with open(\"df/group_labels/list_ua_version.txt\", 'r') as f:\n",
    "    list_ua_version = [line.rstrip('\\n') for line in f]\n",
    "    \n",
    "with open(\"df/group_labels/list_ua_family_code.txt\", 'r') as f:\n",
    "    list_ua_family_code = [line.rstrip('\\n') for line in f]\n",
    "\n",
    "with open(\"df/group_labels/list_ua_class_code.txt\", 'r') as f:\n",
    "    list_ua_class_code = [line.rstrip('\\n') for line in f]\n",
    "    \n",
    "with open(\"df/group_labels/list_os_code.txt\", 'r') as f:\n",
    "    list_os_code = [line.rstrip('\\n') for line in f]\n",
    "    \n",
    "with open(\"df/group_labels/list_os_family_code.txt\", 'r') as f:\n",
    "    list_os_family_code = [line.rstrip('\\n') for line in f]\n",
    "    \n",
    "with open(\"df/group_labels/list_device_class_code.txt\", 'r') as f:\n",
    "    list_device_class_code = [line.rstrip('\\n') for line in f]\n",
    "\n",
    "print(\"Device count: {}\".format(len(list_device_class_code)))\n",
    "print(\"Device platform family count: {}\".format(len(list_os_family_code)))\n",
    "print(\"Device platform count: {}\".format(len(list_os_code)))\n",
    "print(\"Device browser class count: {}\".format(len(list_ua_class_code)))\n",
    "print(\"Device browser family count: {}\".format(len(list_ua_family_code)))\n",
    "print(\"Device browser version count: {}\".format(len(list_ua_version)))"
   ]
  },
  {
   "cell_type": "code",
   "execution_count": 5,
   "metadata": {
    "collapsed": true
   },
   "outputs": [],
   "source": [
    "important_orders_keys_set = {\n",
    "    'Upgrade-Insecure-Requests',\n",
    "    'Accept', \n",
    "    'If-Modified-Since',\n",
    "    'Host', \n",
    "    'Connection', \n",
    "    'User-Agent', \n",
    "    'From', \n",
    "    'Accept-Encoding' \n",
    "}\n",
    "\n",
    "important_values_keys_set = {\n",
    "    'Accept', \n",
    "    'Accept-Charset', \n",
    "    'Accept-Encoding'\n",
    "}"
   ]
  },
  {
   "cell_type": "code",
   "execution_count": 6,
   "metadata": {},
   "outputs": [
    {
     "name": "stderr",
     "output_type": "stream",
     "text": [
      "100%|██████████| 571145/571145 [00:02<00:00, 217854.16it/s]\n",
      "100%|██████████| 571145/571145 [00:04<00:00, 127953.06it/s]\n",
      "  3%|▎         | 18149/571145 [00:00<00:03, 181093.82it/s]"
     ]
    },
    {
     "name": "stdout",
     "output_type": "stream",
     "text": [
      "Sparse dummy orders shape: \n",
      "(571145, 50)\n"
     ]
    },
    {
     "name": "stderr",
     "output_type": "stream",
     "text": [
      "100%|██████████| 571145/571145 [00:01<00:00, 366313.77it/s]\n"
     ]
    },
    {
     "name": "stdout",
     "output_type": "stream",
     "text": [
      "Sparse dummy values shape: \n",
      "(571145, 516)\n"
     ]
    }
   ],
   "source": [
    "from lib.parsers.logParser import LogParser\n",
    "\n",
    "orders_vectorizer = sklearn.feature_extraction.DictVectorizer(sparse=True, dtype=float)\n",
    "values_vectorizer = sklearn.feature_extraction.DictVectorizer(sparse=True, dtype=float)\n",
    "\n",
    "l_parser = LogParser(log_folder='Logs/')\n",
    "l_parser.reassign_orders_values(order_data, values_data)\n",
    "\n",
    "full_sparce_dummy = l_parser.prepare_data(orders_vectorizer, values_vectorizer, important_orders_keys_set, important_values_keys_set, fit_dict=True)"
   ]
  },
  {
   "cell_type": "markdown",
   "metadata": {},
   "source": [
    "### Save vectorizers"
   ]
  },
  {
   "cell_type": "code",
   "execution_count": null,
   "metadata": {
    "collapsed": true
   },
   "outputs": [],
   "source": [
    "import os\n",
    "from sklearn.externals import joblib\n",
    "from lib.helpers.fileSplitter import split_file\n",
    "\n",
    "filename = 'cls/orders_vectorizer30.joblib.pkl'\n",
    "_ = joblib.dump(orders_vectorizer, filename, compress=9)\n",
    "\n",
    "print(\"Orders Vectorizer saved with size(Bytes): {}\".format(os.stat(filename).st_size))\n",
    "\n",
    "files_count = split_file(filename, 'parted-cls/orders_vectorizer30.joblib.pkl')\n",
    "\n",
    "print('Splitted in {} files'.format(files_count))\n",
    "\n",
    "filename = 'cls/values_vectorizer30.joblib.pkl'\n",
    "_ = joblib.dump(orders_vectorizer, filename, compress=9)\n",
    "\n",
    "print(\"Values Vectorizer saved with size(Bytes): {}\".format(os.stat(filename).st_size))\n",
    "\n",
    "files_count = split_file(filename, 'parted-cls/values_vectorizer30.joblib.pkl')\n",
    "\n",
    "print('Splitted in {} files'.format(files_count))"
   ]
  },
  {
   "cell_type": "markdown",
   "metadata": {},
   "source": [
    "### Train and on groups"
   ]
  },
  {
   "cell_type": "markdown",
   "metadata": {},
   "source": [
    "#### Device_class_code"
   ]
  },
  {
   "cell_type": "code",
   "execution_count": 8,
   "metadata": {},
   "outputs": [
    {
     "name": "stdout",
     "output_type": "stream",
     "text": [
      "CPU times: user 4min 23s, sys: 460 ms, total: 4min 24s\n",
      "Wall time: 5min 13s\n"
     ]
    }
   ],
   "source": [
    "%%time\n",
    "\n",
    "from sklearn.linear_model import LogisticRegression\n",
    "\n",
    "clf_device_class_code = LogisticRegression(random_state=42, C=100)\n",
    "clf_device_class_code.fit(full_sparce_dummy, main_df.device_class_code.fillna('NaN'))"
   ]
  },
  {
   "cell_type": "code",
   "execution_count": null,
   "metadata": {
    "collapsed": true
   },
   "outputs": [],
   "source": [
    "filename = 'cls/device_class_code_logreg_cls.joblib.pkl'\n",
    "_ = joblib.dump(clf_device_class_code, filename, compress=9)\n",
    "\n",
    "print(\"Model saved with size(Bytes): {}\".format(os.stat(filename).st_size))\n",
    "\n",
    "files_count = split_file(filename, 'parted-cls/device_class_code_logreg_cls.joblib.pkl')\n",
    "\n",
    "print('Splitted in {} files'.format(files_count))"
   ]
  },
  {
   "cell_type": "markdown",
   "metadata": {},
   "source": [
    "#### OS_family_code"
   ]
  },
  {
   "cell_type": "code",
   "execution_count": 9,
   "metadata": {},
   "outputs": [
    {
     "name": "stdout",
     "output_type": "stream",
     "text": [
      "CPU times: user 6min 41s, sys: 556 ms, total: 6min 41s\n",
      "Wall time: 10min 35s\n"
     ]
    }
   ],
   "source": [
    "%%time\n",
    "\n",
    "clf_os_family_code = LogisticRegression(random_state=42, C=100)\n",
    "clf_os_family_code.fit(full_sparce_dummy, main_df.os_family_code.fillna('NaN'))"
   ]
  },
  {
   "cell_type": "code",
   "execution_count": null,
   "metadata": {
    "collapsed": true
   },
   "outputs": [],
   "source": [
    "filename = 'cls/os_family_code_logreg_cls.joblib.pkl'\n",
    "_ = joblib.dump(clf_device_class_code, filename, compress=9)\n",
    "\n",
    "print(\"Model saved with size(Bytes): {}\".format(os.stat(filename).st_size))\n",
    "\n",
    "files_count = split_file(filename, 'parted-cls/os_family_code_logreg_cls.joblib.pkl')\n",
    "\n",
    "print('Splitted in {} files'.format(files_count))"
   ]
  },
  {
   "cell_type": "markdown",
   "metadata": {},
   "source": [
    "#### OS_code"
   ]
  },
  {
   "cell_type": "code",
   "execution_count": 10,
   "metadata": {},
   "outputs": [
    {
     "name": "stdout",
     "output_type": "stream",
     "text": [
      "CPU times: user 28min 41s, sys: 1.56 s, total: 28min 43s\n",
      "Wall time: 32min 20s\n"
     ]
    }
   ],
   "source": [
    "%%time\n",
    "\n",
    "clf_os_code = LogisticRegression(random_state=42, C=100)\n",
    "clf_os_code.fit(full_sparce_dummy, main_df.os_code.fillna('NaN'))"
   ]
  },
  {
   "cell_type": "code",
   "execution_count": null,
   "metadata": {
    "collapsed": true
   },
   "outputs": [],
   "source": [
    "filename = 'cls/os_code_logreg_cls.joblib.pkl'\n",
    "_ = joblib.dump(clf_device_class_code, filename, compress=9)\n",
    "\n",
    "print(\"Model saved with size(Bytes): {}\".format(os.stat(filename).st_size))\n",
    "\n",
    "files_count = split_file(filename, 'parted-cls/os_code_logreg_cls.joblib.pkl')\n",
    "\n",
    "print('Splitted in {} files'.format(files_count))"
   ]
  },
  {
   "cell_type": "markdown",
   "metadata": {},
   "source": [
    "#### Browser class_code"
   ]
  },
  {
   "cell_type": "code",
   "execution_count": null,
   "metadata": {
    "collapsed": true
   },
   "outputs": [],
   "source": [
    "%%time\n",
    "\n",
    "clf_ua_class_code = LogisticRegression(random_state=42, C=100)\n",
    "clf_ua_class_code.fit(full_sparce_dummy, main_df.ua_class_code.fillna('NaN'))"
   ]
  },
  {
   "cell_type": "code",
   "execution_count": null,
   "metadata": {
    "collapsed": true
   },
   "outputs": [],
   "source": [
    "filename = 'cls/ua_class_code_logreg_cls.joblib.pkl'\n",
    "_ = joblib.dump(clf_device_class_code, filename, compress=9)\n",
    "\n",
    "print(\"Model saved with size(Bytes): {}\".format(os.stat(filename).st_size))\n",
    "\n",
    "files_count = split_file(filename, 'parted-cls/ua_class_code_logreg_cls.joblib.pkl')\n",
    "\n",
    "print('Splitted in {} files'.format(files_count))"
   ]
  },
  {
   "cell_type": "markdown",
   "metadata": {},
   "source": [
    "#### Browser family_code"
   ]
  },
  {
   "cell_type": "code",
   "execution_count": null,
   "metadata": {},
   "outputs": [
    {
     "name": "stdout",
     "output_type": "stream",
     "text": [
      "CPU times: user 26min 20s, sys: 1.42 s, total: 26min 22s\n",
      "Wall time: 30min 44s\n"
     ]
    }
   ],
   "source": [
    "%%time\n",
    "\n",
    "clf_ua_family_code = LogisticRegression(random_state=42, C=100)\n",
    "clf_ua_family_code.fit(full_sparce_dummy, main_df.ua_family_code.fillna('NaN'))"
   ]
  },
  {
   "cell_type": "code",
   "execution_count": null,
   "metadata": {
    "collapsed": true
   },
   "outputs": [],
   "source": [
    "filename = 'cls/ua_family_code_logreg_cls.joblib.pkl'\n",
    "_ = joblib.dump(clf_device_class_code, filename, compress=9)\n",
    "\n",
    "print(\"Model saved with size(Bytes): {}\".format(os.stat(filename).st_size))\n",
    "\n",
    "files_count = split_file(filename, 'parted-cls/ua_family_code_logreg_cls.joblib.pkl')\n",
    "\n",
    "print('Splitted in {} files'.format(files_count))"
   ]
  },
  {
   "cell_type": "markdown",
   "metadata": {},
   "source": [
    "#### Browser version"
   ]
  },
  {
   "cell_type": "code",
   "execution_count": null,
   "metadata": {
    "collapsed": true
   },
   "outputs": [],
   "source": [
    "%%time\n",
    "\n",
    "clf_ua_version = LogisticRegression(random_state=42, C=100)\n",
    "clf_ua_version.fit(full_sparce_dummy, main_df.ua_version.fillna('NaN'))"
   ]
  },
  {
   "cell_type": "code",
   "execution_count": null,
   "metadata": {
    "collapsed": true
   },
   "outputs": [],
   "source": [
    "filename = 'cls/ua_version_logreg_cls.joblib.pkl'\n",
    "_ = joblib.dump(clf_device_class_code, filename, compress=9)\n",
    "\n",
    "print(\"Model saved with size(Bytes): {}\".format(os.stat(filename).st_size))\n",
    "\n",
    "files_count = split_file(filename, 'parted-cls/ua_version_logreg_cls.joblib.pkl')\n",
    "\n",
    "print('Splitted in {} files'.format(files_count))"
   ]
  },
  {
   "cell_type": "markdown",
   "metadata": {},
   "source": [
    "### Load test data and free train data"
   ]
  },
  {
   "cell_type": "code",
   "execution_count": null,
   "metadata": {
    "collapsed": true
   },
   "outputs": [],
   "source": [
    "del(main_df)\n",
    "del(main_data)\n",
    "del(values_data)\n",
    "del(order_data)\n",
    "del(full_sparce_dummy)"
   ]
  },
  {
   "cell_type": "code",
   "execution_count": null,
   "metadata": {
    "collapsed": true
   },
   "outputs": [],
   "source": [
    "main2_data = np.load('df/main2_data.npy').tolist()\n",
    "values2_data = np.load('df/values2_data.npy').tolist()\n",
    "order2_data = np.load('df/order2_data.npy').tolist()\n",
    "\n",
    "main2_df = pd.DataFrame(main2_data)\n",
    "\n",
    "main2_df"
   ]
  },
  {
   "cell_type": "markdown",
   "metadata": {},
   "source": [
    "### Load vectorizers if needed"
   ]
  },
  {
   "cell_type": "code",
   "execution_count": null,
   "metadata": {
    "collapsed": true
   },
   "outputs": [],
   "source": [
    "infiles = [\n",
    "    'parted-cls/orders_vectorizer30.joblib.pkl.0',\n",
    "    'parted-cls/orders_vectorizer30.joblib.pkl.1',\n",
    "    'parted-cls/orders_vectorizer30.joblib.pkl.2',\n",
    "    'parted-cls/orders_vectorizer30.joblib.pkl.3',\n",
    "    'parted-cls/orders_vectorizer30.joblib.pkl.4',\n",
    "    'parted-cls/orders_vectorizer30.joblib.pkl.5'\n",
    "]\n",
    "\n",
    "import os\n",
    "from sklearn.externals import joblib\n",
    "from lib.helpers.fileSplitter import cat_files\n",
    "\n",
    "cat_files(infiles, 'cls/orders_vectorizer30.joblib.pkl')\n",
    "\n",
    "filename = 'cls/orders_vectorizer30.joblib.pkl'\n",
    "orders_vectorizer = joblib.load(filename)\n",
    "\n",
    "infiles = [\n",
    "    'parted-cls/values_vectorizer30.joblib.pkl.0',\n",
    "    'parted-cls/values_vectorizer30.joblib.pkl.1',\n",
    "    'parted-cls/values_vectorizer30.joblib.pkl.2',\n",
    "    'parted-cls/values_vectorizer30.joblib.pkl.3',\n",
    "    'parted-cls/orders_vectorizer30.joblib.pkl.4',\n",
    "    'parted-cls/orders_vectorizer30.joblib.pkl.5'\n",
    "]\n",
    "\n",
    "cat_files(infiles, 'cls/values_vectorizer30.joblib.pkl')\n",
    "\n",
    "filename = 'cls/values_vectorizer30.joblib.pkl'\n",
    "values_vectorizer = joblib.load(filename)"
   ]
  },
  {
   "cell_type": "code",
   "execution_count": null,
   "metadata": {
    "collapsed": true
   },
   "outputs": [],
   "source": [
    "l_parser = LogParser(log_folder='Logs/')\n",
    "l_parser.reassign_orders_values(order2_data, values2_data)\n",
    "\n",
    "full2_sparce_dummy = l_parser.prepare_data(orders_vectorizer, values_vectorizer, important_orders_keys_set, important_values_keys_set, fit_dict=False)"
   ]
  },
  {
   "cell_type": "markdown",
   "metadata": {},
   "source": [
    "### Get prediction probabilities by groups"
   ]
  },
  {
   "cell_type": "markdown",
   "metadata": {},
   "source": [
    "### Load classifyers models if needed"
   ]
  },
  {
   "cell_type": "code",
   "execution_count": null,
   "metadata": {
    "collapsed": true
   },
   "outputs": [],
   "source": [
    "infiles = [\n",
    "    'parted-cls/device_class_code_logreg_cls.joblib.pkl.0',\n",
    "    'parted-cls/device_class_code_logreg_cls.joblib.pkl.1',\n",
    "    'parted-cls/device_class_code_logreg_cls.joblib.pkl.2',\n",
    "    'parted-cls/device_class_code_logreg_cls.joblib.pkl.3',\n",
    "    'parted-cls/device_class_code_logreg_cls.joblib.pkl.4',\n",
    "    'parted-cls/device_class_code_logreg_cls.joblib.pkl.5'\n",
    "]\n",
    "\n",
    "cat_files(infiles, 'cls/device_class_code_logreg_cls.joblib.pkl')\n",
    "clf_device_class_code = joblib.load('cls/device_class_code_logreg_cls.joblib.pkl')\n",
    "\n",
    "infiles = [\n",
    "    'parted-cls/os_family_code_logreg_cls.joblib.pkl.0',\n",
    "    'parted-cls/os_family_code_logreg_cls.joblib.pkl.1',\n",
    "    'parted-cls/os_family_code_logreg_cls.joblib.pkl.2',\n",
    "    'parted-cls/os_family_code_logreg_cls.joblib.pkl.3',\n",
    "    'parted-cls/os_family_code_logreg_cls.joblib.pkl.4',\n",
    "    'parted-cls/os_family_code_logreg_cls.joblib.pkl.5'\n",
    "]\n",
    "\n",
    "cat_files(infiles, 'cls/os_family_code_logreg_cls.joblib.pkl')\n",
    "clf_os_family_code = joblib.load('cls/os_family_code_logreg_cls.joblib.pkl')\n",
    "\n",
    "infiles = [\n",
    "    'parted-cls/os_code_logreg_cls.joblib.pkl.0',\n",
    "    'parted-cls/os_code_logreg_cls.joblib.pkl.1',\n",
    "    'parted-cls/os_code_logreg_cls.joblib.pkl.2',\n",
    "    'parted-cls/os_code_logreg_cls.joblib.pkl.3',\n",
    "    'parted-cls/os_code_logreg_cls.joblib.pkl.4',\n",
    "    'parted-cls/os_code_logreg_cls.joblib.pkl.5'\n",
    "]\n",
    "\n",
    "cat_files(infiles, 'cls/os_code_logreg_cls.joblib.pkl')\n",
    "clf_os_code = joblib.load('cls/os_code_logreg_cls.joblib.pkl')\n",
    "\n",
    "infiles = [\n",
    "    'parted-cls/ua_class_code_logreg_cls.joblib.pkl.0',\n",
    "    'parted-cls/ua_class_code_logreg_cls.joblib.pkl.1',\n",
    "    'parted-cls/ua_class_code_logreg_cls.joblib.pkl.2',\n",
    "    'parted-cls/ua_class_code_logreg_cls.joblib.pkl.3',\n",
    "    'parted-cls/ua_class_code_logreg_cls.joblib.pkl.4',\n",
    "    'parted-cls/ua_class_code_logreg_cls.joblib.pkl.5'\n",
    "]\n",
    "\n",
    "cat_files(infiles, 'cls/ua_class_code_logreg_cls.joblib.pkl')\n",
    "clf_ua_class_code = joblib.load('cls/ua_class_code_logreg_cls.joblib.pkl')\n",
    "\n",
    "infiles = [\n",
    "    'parted-cls/ua_family_code_logreg_cls.joblib.pkl.0',\n",
    "    'parted-cls/ua_family_code_logreg_cls.joblib.pkl.1',\n",
    "    'parted-cls/ua_family_code_logreg_cls.joblib.pkl.2',\n",
    "    'parted-cls/ua_family_code_logreg_cls.joblib.pkl.3',\n",
    "    'parted-cls/ua_family_code_logreg_cls.joblib.pkl.4',\n",
    "    'parted-cls/ua_family_code_logreg_cls.joblib.pkl.5'\n",
    "]\n",
    "\n",
    "cat_files(infiles, 'cls/ua_family_code_logreg_cls.joblib.pkl')\n",
    "clf_ua_family_code = joblib.load('cls/ua_family_code_logreg_cls.joblib.pkl')\n",
    "\n",
    "infiles = [\n",
    "    'parted-cls/ua_version_logreg_cls.joblib.pkl.0',\n",
    "    'parted-cls/ua_version_logreg_cls.joblib.pkl.1',\n",
    "    'parted-cls/ua_version_logreg_cls.joblib.pkl.2',\n",
    "    'parted-cls/ua_version_logreg_cls.joblib.pkl.3',\n",
    "    'parted-cls/ua_version_logreg_cls.joblib.pkl.4',\n",
    "    'parted-cls/ua_version_logreg_cls.joblib.pkl.5'\n",
    "]\n",
    "\n",
    "cat_files(infiles, 'cls/ua_version_logreg_cls.joblib.pkl')\n",
    "clf_ua_version = joblib.load('cls/ua_version_logreg_cls.joblib.pkl')"
   ]
  },
  {
   "cell_type": "code",
   "execution_count": null,
   "metadata": {
    "collapsed": true
   },
   "outputs": [],
   "source": [
    "pp_dc = clf_device_class_code.predict_proba(full2_sparce_dummy)\n",
    "zip(clf_device_class_code.classes_, pp_dc[0])"
   ]
  },
  {
   "cell_type": "code",
   "execution_count": null,
   "metadata": {
    "collapsed": true
   },
   "outputs": [],
   "source": [
    "pp_device_class_code = pd.DataFrame(pp_dc, columns=clf_device_class_code.classes_)\n",
    "pp_device_class_code"
   ]
  },
  {
   "cell_type": "markdown",
   "metadata": {},
   "source": [
    "### Generate new human features based on probability of real class"
   ]
  },
  {
   "cell_type": "code",
   "execution_count": null,
   "metadata": {
    "collapsed": true
   },
   "outputs": [],
   "source": [
    "def single_class_proba(probas, labels, expected_class):\n",
    "    \"\"\"\n",
    "    :param probas: prediction vector\n",
    "    :param labels: labels of classification\n",
    "    :param expected_class: label of real truth class answer\n",
    "    :return: probability of truth class answer\n",
    "    \"\"\"\n",
    "    for i, label in enumerate(labels):\n",
    "        if label == expected_class:\n",
    "            return probas[i]"
   ]
  },
  {
   "cell_type": "code",
   "execution_count": null,
   "metadata": {
    "collapsed": true
   },
   "outputs": [],
   "source": [
    "print(main2_df.device_class_code[0])\n",
    "single_class_proba(pp_dc[0], clf_device_class_code.classes_, main2_df.device_class_code[0])"
   ]
  },
  {
   "cell_type": "code",
   "execution_count": null,
   "metadata": {
    "collapsed": true
   },
   "outputs": [],
   "source": [
    "def classes_proba(clf, X_test, y_test):\n",
    "    \"\"\"\n",
    "    :param clf: classifyer\n",
    "    :param X_test: test features\n",
    "    :param y_test: test labels\n",
    "    :return: vector of probability of truth class answer\n",
    "    \"\"\"\n",
    "    probas = []\n",
    "    for i, p_proba in enumerate(clf.predict_proba(X_test))\n",
    "        probas.append(single_class_proba(p_proba, clf.classes_, y_test[i]))\n",
    "    return probas"
   ]
  },
  {
   "cell_type": "code",
   "execution_count": null,
   "metadata": {
    "collapsed": true
   },
   "outputs": [],
   "source": [
    "dcc_feature = classes_proba(clf_device_class_code, full2_sparce_dummy, main2_df.device_class_code.fillna('NaN'))\n",
    "print(\"Length: {}\".format(dcc_feature))\n",
    "dcc_feature"
   ]
  },
  {
   "cell_type": "code",
   "execution_count": null,
   "metadata": {
    "collapsed": true
   },
   "outputs": [],
   "source": [
    "def generate_features(clfs, X_test, y_tests):\n",
    "    \"\"\"\n",
    "    :param clfs: list of classifyer\n",
    "    :param X_test: test features\n",
    "    :param y_test: list of test labels\n",
    "    :return: matrix with new features for Groups Classification\n",
    "    \"\"\"\n",
    "    features = []\n",
    "    for i, clf in enumerate(clfs):\n",
    "        feature_vec = classes_proba(clf, X_test, y_tests[i])\n",
    "        print(\"Feature was generated. Length: {}\".format(feature_vec))\n",
    "        features.append(feature_vec)\n",
    "    return features"
   ]
  },
  {
   "cell_type": "code",
   "execution_count": null,
   "metadata": {
    "collapsed": true
   },
   "outputs": [],
   "source": [
    "y_array = [\n",
    "    main2_df.device_class_code.fillna('NaN'),\n",
    "    main2_df.os_family_code.fillna('NaN'),\n",
    "    main2_df.os_code.fillna('NaN'),\n",
    "    main2_df.ua_class_code.fillna('NaN'),\n",
    "    main2_df.ua_family_code.fillna('NaN'),\n",
    "    main2_df.ua_version.fillna('NaN')\n",
    "]\n",
    "\n",
    "cls_array = [\n",
    "    clf_device_class_code,\n",
    "    clf_os_family_code,\n",
    "    clf_os_code,\n",
    "    clf_ua_class_code,\n",
    "    clf_ua_family_code,\n",
    "    clf_ua_version\n",
    "]\n",
    "\n",
    "human_features = generate_features(cls_array, full2_sparce_dummy, y_array)\n",
    "pd.DataFrame(human_features)"
   ]
  },
  {
   "cell_type": "code",
   "execution_count": null,
   "metadata": {
    "collapsed": true
   },
   "outputs": [],
   "source": [
    "np.save('df/human_features.npy', np.array(human_features))\n",
    "print(\"Human_features saved with size(Bytes): {}\".format(os.stat('df/human_features.npy').st_size))"
   ]
  },
  {
   "cell_type": "markdown",
   "metadata": {},
   "source": [
    "### Generate new human features based on probability of real class"
   ]
  },
  {
   "cell_type": "code",
   "execution_count": null,
   "metadata": {
    "collapsed": true
   },
   "outputs": [],
   "source": [
    "del(main2_df)\n",
    "del(main2_data)\n",
    "del(values2_data)\n",
    "del(order2_data)\n",
    "del(full2_sparce_dummy)\n",
    "\n",
    "main2_bot_data = np.load('df/main2_bot_data.npy').tolist()\n",
    "values2_bot_data = np.load('df/values2_bot_data.npy').tolist()\n",
    "order2_bot_data = np.load('df/order2_bot_data.npy').tolist()\n",
    "\n",
    "main2_bot_df = pd.DataFrame(main2_bot_data)\n",
    "\n",
    "main2_bot_df"
   ]
  },
  {
   "cell_type": "code",
   "execution_count": null,
   "metadata": {
    "collapsed": true
   },
   "outputs": [],
   "source": [
    "l_parser = LogParser(log_folder='Logs/')\n",
    "l_parser.reassign_orders_values(order2_bot_data, values2_bot_data)\n",
    "\n",
    "full2_sparce_dummy = l_parser.prepare_data(orders_vectorizer, values_vectorizer, important_orders_keys_set, important_values_keys_set, fit_dict=False)"
   ]
  },
  {
   "cell_type": "code",
   "execution_count": null,
   "metadata": {
    "collapsed": true
   },
   "outputs": [],
   "source": [
    "y_array = [\n",
    "    main2_bot_df[1].fillna('NaN'),\n",
    "    main2_bot_df[4].fillna('NaN'),\n",
    "    main2_bot_df[3].fillna('NaN'),\n",
    "    main2_bot_df[6].fillna('NaN'),\n",
    "    main2_bot_df[7].fillna('NaN'),\n",
    "    main2_bot_df[8].fillna('NaN')\n",
    "]\n",
    "\n",
    "cls_array = [\n",
    "    clf_device_class_code,\n",
    "    clf_os_family_code,\n",
    "    clf_os_code,\n",
    "    clf_ua_class_code,\n",
    "    clf_ua_family_code,\n",
    "    clf_ua_version\n",
    "]\n",
    "\n",
    "bot_features = generate_features(cls_array, full2_sparce_dummy, y_array)\n",
    "pd.DataFrame(bot_features)"
   ]
  },
  {
   "cell_type": "code",
   "execution_count": null,
   "metadata": {
    "collapsed": true
   },
   "outputs": [],
   "source": [
    "np.save('df/bot_features.npy', np.array(bot_features))\n",
    "print(\"Bot_features saved with size(Bytes): {}\".format(os.stat('df/bot_features.npy').st_size))"
   ]
  },
  {
   "cell_type": "markdown",
   "metadata": {},
   "source": [
    "## Superposition"
   ]
  },
  {
   "cell_type": "code",
   "execution_count": null,
   "metadata": {
    "collapsed": true
   },
   "outputs": [],
   "source": [
    "full_sp_features = pd.DataFrame(human_features + bot_features)\n",
    "full_sp_features"
   ]
  },
  {
   "cell_type": "code",
   "execution_count": null,
   "metadata": {
    "collapsed": true
   },
   "outputs": [],
   "source": [
    "is_bot = pd.DataFrame(index=full_sp_features.index)\n",
    "is_bot['is_bot'] = False\n",
    "is_bot.loc[0:len(human_features) - 1,'is_bot'] = True\n",
    "is_bot"
   ]
  },
  {
   "cell_type": "code",
   "execution_count": null,
   "metadata": {
    "collapsed": true
   },
   "outputs": [],
   "source": [
    "from sklearn.model_selection import GridSearchCV, cross_val_predict, cross_val_score, train_test_split, KFold\n",
    "from sklearn.linear_model import LogisticRegression\n",
    "from sklearn.metrics import roc_auc_score, roc_curve, f1_score, make_scorer\n",
    "from sklearn.multiclass import OneVsRestClassifier\n",
    "from sklearn import preprocessing\n",
    "\n",
    "X_train, X_test, y_train, y_test = train_test_split(full_sp_features, is_bot.is_bot, test_size=0.33, random_state=42)"
   ]
  },
  {
   "cell_type": "code",
   "execution_count": null,
   "metadata": {
    "collapsed": true
   },
   "outputs": [],
   "source": [
    "%%time\n",
    "\n",
    "smart_clf = LogisticRegression(C=100)\n",
    "smart_clf.fit(X_train, y_train)\n",
    "answer = clf.predict(X_test)"
   ]
  },
  {
   "cell_type": "code",
   "execution_count": null,
   "metadata": {
    "collapsed": true
   },
   "outputs": [],
   "source": [
    "filename = 'cls/groups_logreg_cls.joblib.pkl'\n",
    "_ = joblib.dump(clf_device_class_code, filename, compress=9)\n",
    "\n",
    "print(\"Model saved with size(Bytes): {}\".format(os.stat(filename).st_size))\n",
    "\n",
    "files_count = split_file(filename, 'parted-cls/groups_logreg_cls.joblib.pkl')\n",
    "\n",
    "print('Splitted in {} files'.format(files_count))"
   ]
  },
  {
   "cell_type": "code",
   "execution_count": null,
   "metadata": {
    "collapsed": true
   },
   "outputs": [],
   "source": [
    "compare_frame = pd.DataFrame(y_test)\n",
    "compare_frame['Predicted'] = answer\n",
    "compare_frame['Success'] = compare_frame.Predicted == compare_frame.is_bot\n",
    "compare_frame"
   ]
  },
  {
   "cell_type": "code",
   "execution_count": null,
   "metadata": {
    "collapsed": true
   },
   "outputs": [],
   "source": [
    "compare_frame.value_counts()"
   ]
  },
  {
   "cell_type": "code",
   "execution_count": null,
   "metadata": {
    "collapsed": true
   },
   "outputs": [],
   "source": [
    "first_kind_error = []\n",
    "second_kind_error = []\n",
    "for i, bot_prediction in enumerate(is_bot):\n",
    "    cur_first_kind_error = False\n",
    "    cur_second_kind_error = False\n",
    "    if compare_frame.Predicted and not compare_frame.is_bot:\n",
    "        cur_first_kind_error = True\n",
    "    if not compare_frame.Predicted and compare_frame.is_bot:\n",
    "        cur_second_kind_error = True\n",
    "    first_kind_error.append(cur_first_kind_error)\n",
    "    second_kind_error.append(cur_second_kind_error)    \n",
    "\n",
    "compare_frame['first_kind_error'] = first_kind_error\n",
    "compare_frame['second_kind_error'] = second_kind_error\n",
    "\n",
    "print('Ошибка первого рода (когда мы принимаем нормального пользователя за бота): {}'.format(sum(first_kind_error) / y_test.shape[0]))\n",
    "print('Ошибка второго рода (когда мы принимаем бота за нормального пользователя): {}'.format(sum(second_kind_error) / y_test.shape[0]))"
   ]
  }
 ],
 "metadata": {
  "kernelspec": {
   "display_name": "Python 3",
   "language": "python",
   "name": "python3"
  },
  "language_info": {
   "codemirror_mode": {
    "name": "ipython",
    "version": 3
   },
   "file_extension": ".py",
   "mimetype": "text/x-python",
   "name": "python",
   "nbconvert_exporter": "python",
   "pygments_lexer": "ipython3",
   "version": "3.6.1"
  }
 },
 "nbformat": 4,
 "nbformat_minor": 2
}

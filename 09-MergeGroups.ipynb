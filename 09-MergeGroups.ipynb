{
 "cells": [
  {
   "cell_type": "code",
   "execution_count": 1,
   "metadata": {},
   "outputs": [
    {
     "name": "stdout",
     "output_type": "stream",
     "text": [
      "Populating the interactive namespace from numpy and matplotlib\n"
     ]
    },
    {
     "name": "stderr",
     "output_type": "stream",
     "text": [
      "/home/levabd/anaconda3/lib/python3.6/site-packages/IPython/core/magics/pylab.py:161: UserWarning: pylab import has clobbered these variables: ['plt']\n",
      "`%matplotlib` prevents importing * from pylab and numpy\n",
      "  \"\\n`%matplotlib` prevents importing * from pylab and numpy\"\n"
     ]
    }
   ],
   "source": [
    "import pandas as pd\n",
    "import numpy as np\n",
    "\n",
    "import scipy.sparse\n",
    "import sklearn.feature_extraction\n",
    "\n",
    "import matplotlib.pylab as plt\n",
    "%matplotlib inline\n",
    "\n",
    "from tqdm import tqdm\n",
    "import platform\n",
    "\n",
    "pd.set_option(\"display.max_rows\", 10)\n",
    "pd.set_option('display.max_columns', 1100)\n",
    "\n",
    "import os\n",
    "\n",
    "%pylab inline\n",
    "warnings.filterwarnings('ignore')"
   ]
  },
  {
   "cell_type": "markdown",
   "metadata": {},
   "source": [
    "### Load data to train"
   ]
  },
  {
   "cell_type": "code",
   "execution_count": 2,
   "metadata": {},
   "outputs": [
    {
     "data": {
      "text/html": [
       "<div>\n",
       "<style>\n",
       "    .dataframe thead tr:only-child th {\n",
       "        text-align: right;\n",
       "    }\n",
       "\n",
       "    .dataframe thead th {\n",
       "        text-align: left;\n",
       "    }\n",
       "\n",
       "    .dataframe tbody tr th {\n",
       "        vertical-align: top;\n",
       "    }\n",
       "</style>\n",
       "<table border=\"1\" class=\"dataframe\">\n",
       "  <thead>\n",
       "    <tr style=\"text-align: right;\">\n",
       "      <th></th>\n",
       "      <th>device_class_code</th>\n",
       "      <th>ip</th>\n",
       "      <th>os_code</th>\n",
       "      <th>os_family_code</th>\n",
       "      <th>timestamp</th>\n",
       "      <th>ua_class_code</th>\n",
       "      <th>ua_family_code</th>\n",
       "      <th>ua_string</th>\n",
       "      <th>ua_version</th>\n",
       "    </tr>\n",
       "  </thead>\n",
       "  <tbody>\n",
       "    <tr>\n",
       "      <th>0</th>\n",
       "      <td>desktop</td>\n",
       "      <td>95.181.252.91</td>\n",
       "      <td>windows_7</td>\n",
       "      <td>windows</td>\n",
       "      <td>1485900038</td>\n",
       "      <td>browser</td>\n",
       "      <td>chrome</td>\n",
       "      <td>Mozilla/5.0 (Windows NT 6.1) AppleWebKit/537.3...</td>\n",
       "      <td>chrome55.0.2883.87</td>\n",
       "    </tr>\n",
       "    <tr>\n",
       "      <th>1</th>\n",
       "      <td>smartphone</td>\n",
       "      <td>31.148.3.19</td>\n",
       "      <td>android_4_4</td>\n",
       "      <td>android</td>\n",
       "      <td>1485900079</td>\n",
       "      <td>mobile_browser</td>\n",
       "      <td>chrome_mobile</td>\n",
       "      <td>Mozilla/5.0 (Linux; Android 4.4.2; Zera S Buil...</td>\n",
       "      <td>chrome_mobile49.0.2623.105</td>\n",
       "    </tr>\n",
       "    <tr>\n",
       "      <th>2</th>\n",
       "      <td>desktop</td>\n",
       "      <td>188.162.183.66</td>\n",
       "      <td>windows_7</td>\n",
       "      <td>windows</td>\n",
       "      <td>1485900103</td>\n",
       "      <td>browser</td>\n",
       "      <td>firefox</td>\n",
       "      <td>Mozilla/5.0 (Windows NT 6.1; WOW64; rv:51.0) G...</td>\n",
       "      <td>firefox51.0</td>\n",
       "    </tr>\n",
       "    <tr>\n",
       "      <th>3</th>\n",
       "      <td>desktop</td>\n",
       "      <td>37.144.52.103</td>\n",
       "      <td>windows_xp</td>\n",
       "      <td>windows</td>\n",
       "      <td>1485900105</td>\n",
       "      <td>browser</td>\n",
       "      <td>ie</td>\n",
       "      <td>Mozilla/4.0 (compatible; MSIE 8.0; Windows NT ...</td>\n",
       "      <td>ie8.0</td>\n",
       "    </tr>\n",
       "    <tr>\n",
       "      <th>4</th>\n",
       "      <td>desktop</td>\n",
       "      <td>91.201.178.51</td>\n",
       "      <td>windows_8_1</td>\n",
       "      <td>windows</td>\n",
       "      <td>1485900108</td>\n",
       "      <td>browser</td>\n",
       "      <td>opera</td>\n",
       "      <td>Mozilla/5.0 (Windows NT 6.3; WOW64) AppleWebKi...</td>\n",
       "      <td>opera40.0.2308.81</td>\n",
       "    </tr>\n",
       "    <tr>\n",
       "      <th>...</th>\n",
       "      <td>...</td>\n",
       "      <td>...</td>\n",
       "      <td>...</td>\n",
       "      <td>...</td>\n",
       "      <td>...</td>\n",
       "      <td>...</td>\n",
       "      <td>...</td>\n",
       "      <td>...</td>\n",
       "      <td>...</td>\n",
       "    </tr>\n",
       "    <tr>\n",
       "      <th>571140</th>\n",
       "      <td>smartphone</td>\n",
       "      <td>89.237.103.208</td>\n",
       "      <td>android_6</td>\n",
       "      <td>android</td>\n",
       "      <td>1488585286</td>\n",
       "      <td>mobile_browser</td>\n",
       "      <td>chrome_mobile</td>\n",
       "      <td>Mozilla/5.0 (Linux; Android 6.0.1; SM-G925F Bu...</td>\n",
       "      <td>chrome_mobile56.0.2924.87</td>\n",
       "    </tr>\n",
       "    <tr>\n",
       "      <th>571141</th>\n",
       "      <td>desktop</td>\n",
       "      <td>141.0.12.169</td>\n",
       "      <td>windows_98</td>\n",
       "      <td>windows</td>\n",
       "      <td>1488585377</td>\n",
       "      <td>browser</td>\n",
       "      <td>opera</td>\n",
       "      <td>Mozilla/4.0 (Windows 98; US) Opera 12.16 [en]</td>\n",
       "      <td>opera12.16</td>\n",
       "    </tr>\n",
       "    <tr>\n",
       "      <th>571142</th>\n",
       "      <td>desktop</td>\n",
       "      <td>131.253.24.147</td>\n",
       "      <td>windows_7</td>\n",
       "      <td>windows</td>\n",
       "      <td>1488585395</td>\n",
       "      <td>browser</td>\n",
       "      <td>ie</td>\n",
       "      <td>Mozilla/5.0 (compatible; MSIE 9.0; Windows NT ...</td>\n",
       "      <td>ie9.0</td>\n",
       "    </tr>\n",
       "    <tr>\n",
       "      <th>571143</th>\n",
       "      <td>desktop</td>\n",
       "      <td>176.195.122.100</td>\n",
       "      <td>windows_7</td>\n",
       "      <td>windows</td>\n",
       "      <td>1488585447</td>\n",
       "      <td>browser</td>\n",
       "      <td>ie</td>\n",
       "      <td>Mozilla/4.0 (compatible; MSIE 8.0; Windows NT ...</td>\n",
       "      <td>ie8.0</td>\n",
       "    </tr>\n",
       "    <tr>\n",
       "      <th>571144</th>\n",
       "      <td>desktop</td>\n",
       "      <td>95.108.133.194</td>\n",
       "      <td>windows_8</td>\n",
       "      <td>windows</td>\n",
       "      <td>1488585571</td>\n",
       "      <td>browser</td>\n",
       "      <td>yandex-browser</td>\n",
       "      <td>Mozilla/5.0 (Windows NT 6.2; WOW64) AppleWebKi...</td>\n",
       "      <td>yandex-browser17.1.0.2034</td>\n",
       "    </tr>\n",
       "  </tbody>\n",
       "</table>\n",
       "<p>571145 rows × 9 columns</p>\n",
       "</div>"
      ],
      "text/plain": [
       "       device_class_code               ip      os_code os_family_code  \\\n",
       "0                desktop    95.181.252.91    windows_7        windows   \n",
       "1             smartphone      31.148.3.19  android_4_4        android   \n",
       "2                desktop   188.162.183.66    windows_7        windows   \n",
       "3                desktop    37.144.52.103   windows_xp        windows   \n",
       "4                desktop    91.201.178.51  windows_8_1        windows   \n",
       "...                  ...              ...          ...            ...   \n",
       "571140        smartphone   89.237.103.208    android_6        android   \n",
       "571141           desktop     141.0.12.169   windows_98        windows   \n",
       "571142           desktop   131.253.24.147    windows_7        windows   \n",
       "571143           desktop  176.195.122.100    windows_7        windows   \n",
       "571144           desktop   95.108.133.194    windows_8        windows   \n",
       "\n",
       "         timestamp   ua_class_code  ua_family_code  \\\n",
       "0       1485900038         browser          chrome   \n",
       "1       1485900079  mobile_browser   chrome_mobile   \n",
       "2       1485900103         browser         firefox   \n",
       "3       1485900105         browser              ie   \n",
       "4       1485900108         browser           opera   \n",
       "...            ...             ...             ...   \n",
       "571140  1488585286  mobile_browser   chrome_mobile   \n",
       "571141  1488585377         browser           opera   \n",
       "571142  1488585395         browser              ie   \n",
       "571143  1488585447         browser              ie   \n",
       "571144  1488585571         browser  yandex-browser   \n",
       "\n",
       "                                                ua_string  \\\n",
       "0       Mozilla/5.0 (Windows NT 6.1) AppleWebKit/537.3...   \n",
       "1       Mozilla/5.0 (Linux; Android 4.4.2; Zera S Buil...   \n",
       "2       Mozilla/5.0 (Windows NT 6.1; WOW64; rv:51.0) G...   \n",
       "3       Mozilla/4.0 (compatible; MSIE 8.0; Windows NT ...   \n",
       "4       Mozilla/5.0 (Windows NT 6.3; WOW64) AppleWebKi...   \n",
       "...                                                   ...   \n",
       "571140  Mozilla/5.0 (Linux; Android 6.0.1; SM-G925F Bu...   \n",
       "571141      Mozilla/4.0 (Windows 98; US) Opera 12.16 [en]   \n",
       "571142  Mozilla/5.0 (compatible; MSIE 9.0; Windows NT ...   \n",
       "571143  Mozilla/4.0 (compatible; MSIE 8.0; Windows NT ...   \n",
       "571144  Mozilla/5.0 (Windows NT 6.2; WOW64) AppleWebKi...   \n",
       "\n",
       "                        ua_version  \n",
       "0               chrome55.0.2883.87  \n",
       "1       chrome_mobile49.0.2623.105  \n",
       "2                      firefox51.0  \n",
       "3                            ie8.0  \n",
       "4                opera40.0.2308.81  \n",
       "...                            ...  \n",
       "571140   chrome_mobile56.0.2924.87  \n",
       "571141                  opera12.16  \n",
       "571142                       ie9.0  \n",
       "571143                       ie8.0  \n",
       "571144   yandex-browser17.1.0.2034  \n",
       "\n",
       "[571145 rows x 9 columns]"
      ]
     },
     "execution_count": 2,
     "metadata": {},
     "output_type": "execute_result"
    }
   ],
   "source": [
    "main_data = np.load('df/main_data.npy').tolist()\n",
    "values_data = np.load('df/values_data.npy').tolist()\n",
    "order_data = np.load('df/order_data.npy').tolist()\n",
    "\n",
    "main_df = pd.DataFrame(main_data)\n",
    "\n",
    "main_df"
   ]
  },
  {
   "cell_type": "code",
   "execution_count": 4,
   "metadata": {},
   "outputs": [
    {
     "name": "stdout",
     "output_type": "stream",
     "text": [
      "Device count: 8\n",
      "Device platform family count: 37\n",
      "Device platform count: 109\n",
      "Device browser class count: 10\n",
      "Device browser family count: 193\n",
      "Device browser version count: 5790\n"
     ]
    }
   ],
   "source": [
    "with open(\"df/group_labels/list_ua_version.txt\", 'r') as f:\n",
    "    list_ua_version = [line.rstrip('\\n') for line in f]\n",
    "    \n",
    "with open(\"df/group_labels/list_ua_family_code.txt\", 'r') as f:\n",
    "    list_ua_family_code = [line.rstrip('\\n') for line in f]\n",
    "\n",
    "with open(\"df/group_labels/list_ua_class_code.txt\", 'r') as f:\n",
    "    list_ua_class_code = [line.rstrip('\\n') for line in f]\n",
    "    \n",
    "with open(\"df/group_labels/list_os_code.txt\", 'r') as f:\n",
    "    list_os_code = [line.rstrip('\\n') for line in f]\n",
    "    \n",
    "with open(\"df/group_labels/list_os_family_code.txt\", 'r') as f:\n",
    "    list_os_family_code = [line.rstrip('\\n') for line in f]\n",
    "    \n",
    "with open(\"df/group_labels/list_device_class_code.txt\", 'r') as f:\n",
    "    list_device_class_code = [line.rstrip('\\n') for line in f]\n",
    "\n",
    "print(\"Device count: {}\".format(len(list_device_class_code)))\n",
    "print(\"Device platform family count: {}\".format(len(list_os_family_code)))\n",
    "print(\"Device platform count: {}\".format(len(list_os_code)))\n",
    "print(\"Device browser class count: {}\".format(len(list_ua_class_code)))\n",
    "print(\"Device browser family count: {}\".format(len(list_ua_family_code)))\n",
    "print(\"Device browser version count: {}\".format(len(list_ua_version)))"
   ]
  },
  {
   "cell_type": "code",
   "execution_count": 5,
   "metadata": {
    "collapsed": true
   },
   "outputs": [],
   "source": [
    "important_orders_keys_set = {\n",
    "    'Upgrade-Insecure-Requests',\n",
    "    'Accept', \n",
    "    'If-Modified-Since',\n",
    "    'Host', \n",
    "    'Connection', \n",
    "    'User-Agent', \n",
    "    'From', \n",
    "    'Accept-Encoding' \n",
    "}\n",
    "\n",
    "important_values_keys_set = {\n",
    "    'Accept', \n",
    "    'Accept-Charset', \n",
    "    'Accept-Encoding'\n",
    "}"
   ]
  },
  {
   "cell_type": "code",
   "execution_count": 6,
   "metadata": {},
   "outputs": [
    {
     "name": "stderr",
     "output_type": "stream",
     "text": [
      "100%|██████████| 571145/571145 [00:02<00:00, 217854.16it/s]\n",
      "100%|██████████| 571145/571145 [00:04<00:00, 127953.06it/s]\n",
      "  3%|▎         | 18149/571145 [00:00<00:03, 181093.82it/s]"
     ]
    },
    {
     "name": "stdout",
     "output_type": "stream",
     "text": [
      "Sparse dummy orders shape: \n",
      "(571145, 50)\n"
     ]
    },
    {
     "name": "stderr",
     "output_type": "stream",
     "text": [
      "100%|██████████| 571145/571145 [00:01<00:00, 366313.77it/s]\n"
     ]
    },
    {
     "name": "stdout",
     "output_type": "stream",
     "text": [
      "Sparse dummy values shape: \n",
      "(571145, 516)\n"
     ]
    }
   ],
   "source": [
    "from lib.parsers.logParser import LogParser\n",
    "\n",
    "orders_vectorizer = sklearn.feature_extraction.DictVectorizer(sparse=True, dtype=float)\n",
    "values_vectorizer = sklearn.feature_extraction.DictVectorizer(sparse=True, dtype=float)\n",
    "\n",
    "l_parser = LogParser(log_folder='Logs/')\n",
    "l_parser.reassign_orders_values(order_data, values_data)\n",
    "\n",
    "full_sparce_dummy = l_parser.prepare_data(orders_vectorizer, values_vectorizer, important_orders_keys_set, important_values_keys_set, fit_dict=True)"
   ]
  },
  {
   "cell_type": "markdown",
   "metadata": {},
   "source": [
    "### Save vectorizers"
   ]
  },
  {
   "cell_type": "code",
   "execution_count": 34,
   "metadata": {},
   "outputs": [
    {
     "name": "stdout",
     "output_type": "stream",
     "text": [
      "Orders Vectorizer saved with size(Bytes): 761\n",
      "Splitted in 0 files\n",
      "Values Vectorizer saved with size(Bytes): 10842\n",
      "Splitted in 0 files\n"
     ]
    }
   ],
   "source": [
    "import os\n",
    "from sklearn.externals import joblib\n",
    "from lib.helpers.fileSplitter import split_file\n",
    "\n",
    "filename = 'cls/orders_vectorizer30.joblib.pkl'\n",
    "_ = joblib.dump(orders_vectorizer, filename, compress=9)\n",
    "\n",
    "print(\"Orders Vectorizer saved with size(Bytes): {}\".format(os.stat(filename).st_size))\n",
    "\n",
    "files_count = split_file(filename, 'parted-cls/orders_vectorizer30.joblib.pkl')\n",
    "\n",
    "print('Splitted in {} files'.format(files_count))\n",
    "\n",
    "filename = 'cls/values_vectorizer30.joblib.pkl'\n",
    "_ = joblib.dump(values_vectorizer, filename, compress=9)\n",
    "\n",
    "print(\"Values Vectorizer saved with size(Bytes): {}\".format(os.stat(filename).st_size))\n",
    "\n",
    "files_count = split_file(filename, 'parted-cls/values_vectorizer30.joblib.pkl')\n",
    "\n",
    "print('Splitted in {} files'.format(files_count))"
   ]
  },
  {
   "cell_type": "markdown",
   "metadata": {},
   "source": [
    "### Train and on groups"
   ]
  },
  {
   "cell_type": "markdown",
   "metadata": {},
   "source": [
    "#### Device_class_code"
   ]
  },
  {
   "cell_type": "code",
   "execution_count": 8,
   "metadata": {},
   "outputs": [
    {
     "name": "stdout",
     "output_type": "stream",
     "text": [
      "CPU times: user 4min 23s, sys: 460 ms, total: 4min 24s\n",
      "Wall time: 5min 13s\n"
     ]
    }
   ],
   "source": [
    "%%time\n",
    "\n",
    "from sklearn.linear_model import LogisticRegression\n",
    "\n",
    "clf_device_class_code = LogisticRegression(random_state=42, C=100)\n",
    "clf_device_class_code.fit(full_sparce_dummy, main_df.device_class_code.fillna('NaN'))"
   ]
  },
  {
   "cell_type": "code",
   "execution_count": 22,
   "metadata": {},
   "outputs": [
    {
     "name": "stdout",
     "output_type": "stream",
     "text": [
      "Model saved with size(Bytes): 25570\n",
      "Splitted in 0 files\n"
     ]
    }
   ],
   "source": [
    "filename = 'cls/device_class_code_logreg_cls.joblib.pkl'\n",
    "_ = joblib.dump(clf_device_class_code, filename, compress=9)\n",
    "\n",
    "print(\"Model saved with size(Bytes): {}\".format(os.stat(filename).st_size))\n",
    "\n",
    "files_count = split_file(filename, 'parted-cls/device_class_code_logreg_cls.joblib.pkl')\n",
    "\n",
    "print('Splitted in {} files'.format(files_count))"
   ]
  },
  {
   "cell_type": "markdown",
   "metadata": {},
   "source": [
    "#### OS_family_code"
   ]
  },
  {
   "cell_type": "code",
   "execution_count": 9,
   "metadata": {},
   "outputs": [
    {
     "name": "stdout",
     "output_type": "stream",
     "text": [
      "CPU times: user 6min 41s, sys: 556 ms, total: 6min 41s\n",
      "Wall time: 10min 35s\n"
     ]
    }
   ],
   "source": [
    "%%time\n",
    "\n",
    "clf_os_family_code = LogisticRegression(random_state=42, C=100)\n",
    "clf_os_family_code.fit(full_sparce_dummy, main_df.os_family_code.fillna('NaN'))"
   ]
  },
  {
   "cell_type": "code",
   "execution_count": 23,
   "metadata": {},
   "outputs": [
    {
     "name": "stdout",
     "output_type": "stream",
     "text": [
      "Model saved with size(Bytes): 90780\n",
      "Splitted in 0 files\n"
     ]
    }
   ],
   "source": [
    "filename = 'cls/os_family_code_logreg_cls.joblib.pkl'\n",
    "_ = joblib.dump(clf_os_family_code, filename, compress=9)\n",
    "\n",
    "print(\"Model saved with size(Bytes): {}\".format(os.stat(filename).st_size))\n",
    "\n",
    "files_count = split_file(filename, 'parted-cls/os_family_code_logreg_cls.joblib.pkl')\n",
    "\n",
    "print('Splitted in {} files'.format(files_count))"
   ]
  },
  {
   "cell_type": "markdown",
   "metadata": {},
   "source": [
    "#### OS_code"
   ]
  },
  {
   "cell_type": "code",
   "execution_count": 10,
   "metadata": {},
   "outputs": [
    {
     "name": "stdout",
     "output_type": "stream",
     "text": [
      "CPU times: user 28min 41s, sys: 1.56 s, total: 28min 43s\n",
      "Wall time: 32min 20s\n"
     ]
    }
   ],
   "source": [
    "%%time\n",
    "\n",
    "clf_os_code = LogisticRegression(random_state=42, C=100)\n",
    "clf_os_code.fit(full_sparce_dummy, main_df.os_code.fillna('NaN'))"
   ]
  },
  {
   "cell_type": "code",
   "execution_count": 24,
   "metadata": {},
   "outputs": [
    {
     "name": "stdout",
     "output_type": "stream",
     "text": [
      "Model saved with size(Bytes): 289589\n",
      "Splitted in 0 files\n"
     ]
    }
   ],
   "source": [
    "filename = 'cls/os_code_logreg_cls.joblib.pkl'\n",
    "_ = joblib.dump(clf_os_code, filename, compress=9)\n",
    "\n",
    "print(\"Model saved with size(Bytes): {}\".format(os.stat(filename).st_size))\n",
    "\n",
    "files_count = split_file(filename, 'parted-cls/os_code_logreg_cls.joblib.pkl')\n",
    "\n",
    "print('Splitted in {} files'.format(files_count))"
   ]
  },
  {
   "cell_type": "markdown",
   "metadata": {},
   "source": [
    "#### Browser class_code"
   ]
  },
  {
   "cell_type": "code",
   "execution_count": 14,
   "metadata": {},
   "outputs": [
    {
     "name": "stdout",
     "output_type": "stream",
     "text": [
      "CPU times: user 3min 24s, sys: 116 ms, total: 3min 24s\n",
      "Wall time: 3min 32s\n"
     ]
    }
   ],
   "source": [
    "%%time\n",
    "\n",
    "clf_ua_class_code = LogisticRegression(random_state=42, C=100)\n",
    "clf_ua_class_code.fit(full_sparce_dummy, main_df.ua_class_code.fillna('NaN'))"
   ]
  },
  {
   "cell_type": "code",
   "execution_count": 25,
   "metadata": {},
   "outputs": [
    {
     "name": "stdout",
     "output_type": "stream",
     "text": [
      "Model saved with size(Bytes): 30923\n",
      "Splitted in 0 files\n"
     ]
    }
   ],
   "source": [
    "filename = 'cls/ua_class_code_logreg_cls.joblib.pkl'\n",
    "_ = joblib.dump(clf_ua_class_code, filename, compress=9)\n",
    "\n",
    "print(\"Model saved with size(Bytes): {}\".format(os.stat(filename).st_size))\n",
    "\n",
    "files_count = split_file(filename, 'parted-cls/ua_class_code_logreg_cls.joblib.pkl')\n",
    "\n",
    "print('Splitted in {} files'.format(files_count))"
   ]
  },
  {
   "cell_type": "markdown",
   "metadata": {},
   "source": [
    "#### Browser family_code"
   ]
  },
  {
   "cell_type": "code",
   "execution_count": 12,
   "metadata": {},
   "outputs": [
    {
     "name": "stdout",
     "output_type": "stream",
     "text": [
      "CPU times: user 26min 20s, sys: 1.42 s, total: 26min 22s\n",
      "Wall time: 30min 44s\n"
     ]
    }
   ],
   "source": [
    "%%time\n",
    "\n",
    "clf_ua_family_code = LogisticRegression(random_state=42, C=100)\n",
    "clf_ua_family_code.fit(full_sparce_dummy, main_df.ua_family_code.fillna('NaN'))"
   ]
  },
  {
   "cell_type": "code",
   "execution_count": 27,
   "metadata": {},
   "outputs": [
    {
     "name": "stdout",
     "output_type": "stream",
     "text": [
      "Model saved with size(Bytes): 432055\n",
      "Splitted in 0 files\n"
     ]
    }
   ],
   "source": [
    "filename = 'cls/ua_family_code_logreg_cls.joblib.pkl'\n",
    "_ = joblib.dump(clf_ua_family_code, filename, compress=9)\n",
    "\n",
    "print(\"Model saved with size(Bytes): {}\".format(os.stat(filename).st_size))\n",
    "\n",
    "files_count = split_file(filename, 'parted-cls/ua_family_code_logreg_cls.joblib.pkl')\n",
    "\n",
    "print('Splitted in {} files'.format(files_count))"
   ]
  },
  {
   "cell_type": "markdown",
   "metadata": {},
   "source": [
    "#### Browser version"
   ]
  },
  {
   "cell_type": "code",
   "execution_count": 13,
   "metadata": {},
   "outputs": [
    {
     "name": "stdout",
     "output_type": "stream",
     "text": [
      "CPU times: user 8h 39min 53s, sys: 24.8 s, total: 8h 40min 18s\n",
      "Wall time: 10h 25min 39s\n"
     ]
    }
   ],
   "source": [
    "%%time\n",
    "\n",
    "clf_ua_version = LogisticRegression(random_state=42, C=100)\n",
    "clf_ua_version.fit(full_sparce_dummy, main_df.ua_version.fillna('NaN'))"
   ]
  },
  {
   "cell_type": "code",
   "execution_count": 28,
   "metadata": {},
   "outputs": [
    {
     "name": "stdout",
     "output_type": "stream",
     "text": [
      "Model saved with size(Bytes): 12366246\n",
      "Splitted in 0 files\n"
     ]
    }
   ],
   "source": [
    "filename = 'cls/ua_version_logreg_cls.joblib.pkl'\n",
    "_ = joblib.dump(clf_ua_version, filename, compress=9)\n",
    "\n",
    "print(\"Model saved with size(Bytes): {}\".format(os.stat(filename).st_size))\n",
    "\n",
    "files_count = split_file(filename, 'parted-cls/ua_version_logreg_cls.joblib.pkl')\n",
    "\n",
    "print('Splitted in {} files'.format(files_count))"
   ]
  },
  {
   "cell_type": "markdown",
   "metadata": {},
   "source": [
    "### Load test data and free train data"
   ]
  },
  {
   "cell_type": "code",
   "execution_count": 35,
   "metadata": {
    "collapsed": true
   },
   "outputs": [],
   "source": [
    "del(main_df)\n",
    "del(main_data)\n",
    "del(values_data)\n",
    "del(order_data)\n",
    "del(full_sparce_dummy)"
   ]
  },
  {
   "cell_type": "code",
   "execution_count": 2,
   "metadata": {},
   "outputs": [
    {
     "data": {
      "text/html": [
       "<div>\n",
       "<style>\n",
       "    .dataframe thead tr:only-child th {\n",
       "        text-align: right;\n",
       "    }\n",
       "\n",
       "    .dataframe thead th {\n",
       "        text-align: left;\n",
       "    }\n",
       "\n",
       "    .dataframe tbody tr th {\n",
       "        vertical-align: top;\n",
       "    }\n",
       "</style>\n",
       "<table border=\"1\" class=\"dataframe\">\n",
       "  <thead>\n",
       "    <tr style=\"text-align: right;\">\n",
       "      <th></th>\n",
       "      <th>User_Agent</th>\n",
       "      <th>device_class_code</th>\n",
       "      <th>ip</th>\n",
       "      <th>os_code</th>\n",
       "      <th>os_family_code</th>\n",
       "      <th>timestamp</th>\n",
       "      <th>ua_class_code</th>\n",
       "      <th>ua_family_code</th>\n",
       "      <th>ua_version</th>\n",
       "    </tr>\n",
       "  </thead>\n",
       "  <tbody>\n",
       "    <tr>\n",
       "      <th>0</th>\n",
       "      <td>Mozilla/5.0 (Windows NT 6.1; WOW64) AppleWebKi...</td>\n",
       "      <td>desktop</td>\n",
       "      <td>62.89.6.193</td>\n",
       "      <td>windows_7</td>\n",
       "      <td>windows</td>\n",
       "      <td>1488578454</td>\n",
       "      <td>browser</td>\n",
       "      <td>chrome</td>\n",
       "      <td>chrome56.0.2924.87</td>\n",
       "    </tr>\n",
       "    <tr>\n",
       "      <th>1</th>\n",
       "      <td>Mozilla/5.0 (Windows NT 6.3; WOW64; rv:34.0) G...</td>\n",
       "      <td>desktop</td>\n",
       "      <td>62.210.80.74</td>\n",
       "      <td>windows_8_1</td>\n",
       "      <td>windows</td>\n",
       "      <td>1488578468</td>\n",
       "      <td>browser</td>\n",
       "      <td>firefox</td>\n",
       "      <td>firefox34.0</td>\n",
       "    </tr>\n",
       "    <tr>\n",
       "      <th>2</th>\n",
       "      <td>Mozilla/5.0 (Windows NT 6.1) AppleWebKit/537.3...</td>\n",
       "      <td>desktop</td>\n",
       "      <td>77.87.101.132</td>\n",
       "      <td>windows_7</td>\n",
       "      <td>windows</td>\n",
       "      <td>1488578472</td>\n",
       "      <td>browser</td>\n",
       "      <td>yandex-browser</td>\n",
       "      <td>yandex-browser17.1.1.1003</td>\n",
       "    </tr>\n",
       "    <tr>\n",
       "      <th>3</th>\n",
       "      <td>Mozilla/5.0 (Windows NT 5.1; rv:7.0.1) Gecko/2...</td>\n",
       "      <td>desktop</td>\n",
       "      <td>216.239.90.19</td>\n",
       "      <td>windows_xp</td>\n",
       "      <td>windows</td>\n",
       "      <td>1488578508</td>\n",
       "      <td>browser</td>\n",
       "      <td>firefox</td>\n",
       "      <td>firefox7.0.1</td>\n",
       "    </tr>\n",
       "    <tr>\n",
       "      <th>4</th>\n",
       "      <td>Mozilla/5.0 (Linux; Android 6.0.1; SAMSUNG SM-...</td>\n",
       "      <td>smartphone</td>\n",
       "      <td>37.19.72.34</td>\n",
       "      <td>android_6</td>\n",
       "      <td>android</td>\n",
       "      <td>1488578544</td>\n",
       "      <td>mobile_browser</td>\n",
       "      <td>mobile_samsung_browser</td>\n",
       "      <td>mobile_samsung_browser4.0</td>\n",
       "    </tr>\n",
       "    <tr>\n",
       "      <th>...</th>\n",
       "      <td>...</td>\n",
       "      <td>...</td>\n",
       "      <td>...</td>\n",
       "      <td>...</td>\n",
       "      <td>...</td>\n",
       "      <td>...</td>\n",
       "      <td>...</td>\n",
       "      <td>...</td>\n",
       "      <td>...</td>\n",
       "    </tr>\n",
       "    <tr>\n",
       "      <th>151834</th>\n",
       "      <td>Mozilla/5.0 (Windows NT 6.1; WOW64) AppleWebKi...</td>\n",
       "      <td>desktop</td>\n",
       "      <td>163.172.52.168</td>\n",
       "      <td>windows_7</td>\n",
       "      <td>windows</td>\n",
       "      <td>1489533902</td>\n",
       "      <td>browser</td>\n",
       "      <td>chrome</td>\n",
       "      <td>chrome42.0.2311.152</td>\n",
       "    </tr>\n",
       "    <tr>\n",
       "      <th>151835</th>\n",
       "      <td>Mozilla/4.0 (Windows 98; US) Opera 12.16 [en]</td>\n",
       "      <td>desktop</td>\n",
       "      <td>141.0.13.187</td>\n",
       "      <td>windows_98</td>\n",
       "      <td>windows</td>\n",
       "      <td>1489534824</td>\n",
       "      <td>browser</td>\n",
       "      <td>opera</td>\n",
       "      <td>opera12.16</td>\n",
       "    </tr>\n",
       "    <tr>\n",
       "      <th>151836</th>\n",
       "      <td>Mozilla/5.0 (Windows NT 5.1) AppleWebKit/537.3...</td>\n",
       "      <td>desktop</td>\n",
       "      <td>85.26.241.169</td>\n",
       "      <td>windows_xp</td>\n",
       "      <td>windows</td>\n",
       "      <td>1489535241</td>\n",
       "      <td>browser</td>\n",
       "      <td>yandex-browser</td>\n",
       "      <td>yandex-browser17.1.1.1005</td>\n",
       "    </tr>\n",
       "    <tr>\n",
       "      <th>151837</th>\n",
       "      <td>Opera/9.80 (Windows NT 5.1; Edition Yx) Presto...</td>\n",
       "      <td>desktop</td>\n",
       "      <td>188.255.59.142</td>\n",
       "      <td>windows_xp</td>\n",
       "      <td>windows</td>\n",
       "      <td>1489535339</td>\n",
       "      <td>browser</td>\n",
       "      <td>opera</td>\n",
       "      <td>opera12.16</td>\n",
       "    </tr>\n",
       "    <tr>\n",
       "      <th>151838</th>\n",
       "      <td>Mozilla/5.0 (Macintosh; Intel Mac OS X 10_6_7)...</td>\n",
       "      <td>desktop</td>\n",
       "      <td>52.178.38.104</td>\n",
       "      <td>osx_10_6</td>\n",
       "      <td>osx</td>\n",
       "      <td>1489535617</td>\n",
       "      <td>browser</td>\n",
       "      <td>rockmelt</td>\n",
       "      <td>rockmelt0.9.58.209</td>\n",
       "    </tr>\n",
       "  </tbody>\n",
       "</table>\n",
       "<p>151839 rows × 9 columns</p>\n",
       "</div>"
      ],
      "text/plain": [
       "                                               User_Agent device_class_code  \\\n",
       "0       Mozilla/5.0 (Windows NT 6.1; WOW64) AppleWebKi...           desktop   \n",
       "1       Mozilla/5.0 (Windows NT 6.3; WOW64; rv:34.0) G...           desktop   \n",
       "2       Mozilla/5.0 (Windows NT 6.1) AppleWebKit/537.3...           desktop   \n",
       "3       Mozilla/5.0 (Windows NT 5.1; rv:7.0.1) Gecko/2...           desktop   \n",
       "4       Mozilla/5.0 (Linux; Android 6.0.1; SAMSUNG SM-...        smartphone   \n",
       "...                                                   ...               ...   \n",
       "151834  Mozilla/5.0 (Windows NT 6.1; WOW64) AppleWebKi...           desktop   \n",
       "151835      Mozilla/4.0 (Windows 98; US) Opera 12.16 [en]           desktop   \n",
       "151836  Mozilla/5.0 (Windows NT 5.1) AppleWebKit/537.3...           desktop   \n",
       "151837  Opera/9.80 (Windows NT 5.1; Edition Yx) Presto...           desktop   \n",
       "151838  Mozilla/5.0 (Macintosh; Intel Mac OS X 10_6_7)...           desktop   \n",
       "\n",
       "                    ip      os_code os_family_code   timestamp  \\\n",
       "0          62.89.6.193    windows_7        windows  1488578454   \n",
       "1         62.210.80.74  windows_8_1        windows  1488578468   \n",
       "2        77.87.101.132    windows_7        windows  1488578472   \n",
       "3        216.239.90.19   windows_xp        windows  1488578508   \n",
       "4          37.19.72.34    android_6        android  1488578544   \n",
       "...                ...          ...            ...         ...   \n",
       "151834  163.172.52.168    windows_7        windows  1489533902   \n",
       "151835    141.0.13.187   windows_98        windows  1489534824   \n",
       "151836   85.26.241.169   windows_xp        windows  1489535241   \n",
       "151837  188.255.59.142   windows_xp        windows  1489535339   \n",
       "151838   52.178.38.104     osx_10_6            osx  1489535617   \n",
       "\n",
       "         ua_class_code          ua_family_code                 ua_version  \n",
       "0              browser                  chrome         chrome56.0.2924.87  \n",
       "1              browser                 firefox                firefox34.0  \n",
       "2              browser          yandex-browser  yandex-browser17.1.1.1003  \n",
       "3              browser                 firefox               firefox7.0.1  \n",
       "4       mobile_browser  mobile_samsung_browser  mobile_samsung_browser4.0  \n",
       "...                ...                     ...                        ...  \n",
       "151834         browser                  chrome        chrome42.0.2311.152  \n",
       "151835         browser                   opera                 opera12.16  \n",
       "151836         browser          yandex-browser  yandex-browser17.1.1.1005  \n",
       "151837         browser                   opera                 opera12.16  \n",
       "151838         browser                rockmelt         rockmelt0.9.58.209  \n",
       "\n",
       "[151839 rows x 9 columns]"
      ]
     },
     "execution_count": 2,
     "metadata": {},
     "output_type": "execute_result"
    }
   ],
   "source": [
    "main2_data = np.load('df/main2_data.npy').tolist()\n",
    "values2_data = np.load('df/values2_data.npy').tolist()\n",
    "order2_data = np.load('df/order2_data.npy').tolist()\n",
    "\n",
    "main2_df = pd.DataFrame(main2_data)\n",
    "\n",
    "main2_df"
   ]
  },
  {
   "cell_type": "markdown",
   "metadata": {},
   "source": [
    "### Load vectorizers if needed"
   ]
  },
  {
   "cell_type": "code",
   "execution_count": 6,
   "metadata": {
    "collapsed": true
   },
   "outputs": [],
   "source": [
    "infiles = ['parted-cls/orders_vectorizer30.joblib.pkl.0']\n",
    "\n",
    "import os\n",
    "from sklearn.externals import joblib\n",
    "from lib.helpers.fileSplitter import cat_files\n",
    "\n",
    "cat_files(infiles, 'cls/orders_vectorizer30.joblib.pkl')\n",
    "\n",
    "filename = 'cls/orders_vectorizer30.joblib.pkl'\n",
    "orders_vectorizer = joblib.load(filename)\n",
    "\n",
    "infiles = ['parted-cls/values_vectorizer30.joblib.pkl.0']\n",
    "\n",
    "cat_files(infiles, 'cls/values_vectorizer30.joblib.pkl')\n",
    "\n",
    "filename = 'cls/values_vectorizer30.joblib.pkl'\n",
    "values_vectorizer = joblib.load(filename)"
   ]
  },
  {
   "cell_type": "code",
   "execution_count": 7,
   "metadata": {},
   "outputs": [
    {
     "name": "stderr",
     "output_type": "stream",
     "text": [
      "100%|██████████| 151839/151839 [00:00<00:00, 380113.30it/s]\n",
      "100%|██████████| 151839/151839 [00:00<00:00, 220891.43it/s]\n",
      " 37%|███▋      | 56444/151839 [00:00<00:00, 564432.46it/s]"
     ]
    },
    {
     "name": "stdout",
     "output_type": "stream",
     "text": [
      "Sparse dummy orders shape: \n",
      "(151839, 50)\n"
     ]
    },
    {
     "name": "stderr",
     "output_type": "stream",
     "text": [
      "100%|██████████| 151839/151839 [00:00<00:00, 551718.31it/s]\n"
     ]
    },
    {
     "name": "stdout",
     "output_type": "stream",
     "text": [
      "Sparse dummy values shape: \n",
      "(151839, 516)\n"
     ]
    }
   ],
   "source": [
    "from lib.parsers.logParser import LogParser\n",
    "\n",
    "l_parser = LogParser(log_folder='Logs/')\n",
    "l_parser.reassign_orders_values(order2_data, values2_data)\n",
    "\n",
    "full2_sparce_dummy = l_parser.prepare_data(orders_vectorizer, values_vectorizer, important_orders_keys_set, important_values_keys_set, fit_dict=False)"
   ]
  },
  {
   "cell_type": "markdown",
   "metadata": {},
   "source": [
    "### Get prediction probabilities by groups"
   ]
  },
  {
   "cell_type": "markdown",
   "metadata": {},
   "source": [
    "### Load classifyers models if needed"
   ]
  },
  {
   "cell_type": "code",
   "execution_count": 8,
   "metadata": {
    "collapsed": true
   },
   "outputs": [],
   "source": [
    "infiles = ['parted-cls/device_class_code_logreg_cls.joblib.pkl.0']\n",
    "\n",
    "cat_files(infiles, 'cls/device_class_code_logreg_cls.joblib.pkl')\n",
    "clf_device_class_code = joblib.load('cls/device_class_code_logreg_cls.joblib.pkl')\n",
    "\n",
    "infiles = ['parted-cls/os_family_code_logreg_cls.joblib.pkl.0']\n",
    "\n",
    "cat_files(infiles, 'cls/os_family_code_logreg_cls.joblib.pkl')\n",
    "clf_os_family_code = joblib.load('cls/os_family_code_logreg_cls.joblib.pkl')\n",
    "\n",
    "infiles = ['parted-cls/os_code_logreg_cls.joblib.pkl.0']\n",
    "\n",
    "cat_files(infiles, 'cls/os_code_logreg_cls.joblib.pkl')\n",
    "clf_os_code = joblib.load('cls/os_code_logreg_cls.joblib.pkl')\n",
    "\n",
    "infiles = ['parted-cls/ua_class_code_logreg_cls.joblib.pkl.0']\n",
    "\n",
    "cat_files(infiles, 'cls/ua_class_code_logreg_cls.joblib.pkl')\n",
    "clf_ua_class_code = joblib.load('cls/ua_class_code_logreg_cls.joblib.pkl')\n",
    "\n",
    "infiles = ['parted-cls/ua_family_code_logreg_cls.joblib.pkl.0']\n",
    "\n",
    "cat_files(infiles, 'cls/ua_family_code_logreg_cls.joblib.pkl')\n",
    "clf_ua_family_code = joblib.load('cls/ua_family_code_logreg_cls.joblib.pkl')\n",
    "\n",
    "infiles = ['parted-cls/ua_version_logreg_cls.joblib.pkl.0']\n",
    "\n",
    "cat_files(infiles, 'cls/ua_version_logreg_cls.joblib.pkl')\n",
    "clf_ua_version = joblib.load('cls/ua_version_logreg_cls.joblib.pkl')"
   ]
  },
  {
   "cell_type": "code",
   "execution_count": 10,
   "metadata": {},
   "outputs": [
    {
     "data": {
      "text/html": [
       "<div>\n",
       "<style>\n",
       "    .dataframe thead tr:only-child th {\n",
       "        text-align: right;\n",
       "    }\n",
       "\n",
       "    .dataframe thead th {\n",
       "        text-align: left;\n",
       "    }\n",
       "\n",
       "    .dataframe tbody tr th {\n",
       "        vertical-align: top;\n",
       "    }\n",
       "</style>\n",
       "<table border=\"1\" class=\"dataframe\">\n",
       "  <thead>\n",
       "    <tr style=\"text-align: right;\">\n",
       "      <th></th>\n",
       "      <th>NaN</th>\n",
       "      <th>desktop</th>\n",
       "      <th>game_console</th>\n",
       "      <th>pda</th>\n",
       "      <th>smart_tv</th>\n",
       "      <th>smartphone</th>\n",
       "      <th>tablet</th>\n",
       "      <th>unrecognized</th>\n",
       "      <th>wearable_computer</th>\n",
       "    </tr>\n",
       "  </thead>\n",
       "  <tbody>\n",
       "    <tr>\n",
       "      <th>0</th>\n",
       "      <td>2.343748e-10</td>\n",
       "      <td>0.708663</td>\n",
       "      <td>3.013726e-06</td>\n",
       "      <td>3.485782e-09</td>\n",
       "      <td>1.274577e-11</td>\n",
       "      <td>0.258441</td>\n",
       "      <td>0.032893</td>\n",
       "      <td>6.928042e-09</td>\n",
       "      <td>4.643217e-09</td>\n",
       "    </tr>\n",
       "    <tr>\n",
       "      <th>1</th>\n",
       "      <td>6.446619e-03</td>\n",
       "      <td>0.770092</td>\n",
       "      <td>5.819713e-08</td>\n",
       "      <td>1.058579e-08</td>\n",
       "      <td>9.085490e-05</td>\n",
       "      <td>0.167420</td>\n",
       "      <td>0.054458</td>\n",
       "      <td>1.492493e-03</td>\n",
       "      <td>5.505779e-07</td>\n",
       "    </tr>\n",
       "    <tr>\n",
       "      <th>2</th>\n",
       "      <td>2.343748e-10</td>\n",
       "      <td>0.708663</td>\n",
       "      <td>3.013726e-06</td>\n",
       "      <td>3.485782e-09</td>\n",
       "      <td>1.274577e-11</td>\n",
       "      <td>0.258441</td>\n",
       "      <td>0.032893</td>\n",
       "      <td>6.928042e-09</td>\n",
       "      <td>4.643217e-09</td>\n",
       "    </tr>\n",
       "    <tr>\n",
       "      <th>3</th>\n",
       "      <td>4.017557e-03</td>\n",
       "      <td>0.986732</td>\n",
       "      <td>1.078416e-06</td>\n",
       "      <td>3.620933e-07</td>\n",
       "      <td>2.788864e-06</td>\n",
       "      <td>0.009213</td>\n",
       "      <td>0.000032</td>\n",
       "      <td>7.610044e-07</td>\n",
       "      <td>1.414456e-07</td>\n",
       "    </tr>\n",
       "    <tr>\n",
       "      <th>4</th>\n",
       "      <td>3.707530e-13</td>\n",
       "      <td>0.525825</td>\n",
       "      <td>1.320004e-06</td>\n",
       "      <td>3.474406e-08</td>\n",
       "      <td>6.076776e-09</td>\n",
       "      <td>0.435362</td>\n",
       "      <td>0.038812</td>\n",
       "      <td>1.037036e-09</td>\n",
       "      <td>2.361678e-08</td>\n",
       "    </tr>\n",
       "    <tr>\n",
       "      <th>...</th>\n",
       "      <td>...</td>\n",
       "      <td>...</td>\n",
       "      <td>...</td>\n",
       "      <td>...</td>\n",
       "      <td>...</td>\n",
       "      <td>...</td>\n",
       "      <td>...</td>\n",
       "      <td>...</td>\n",
       "      <td>...</td>\n",
       "    </tr>\n",
       "    <tr>\n",
       "      <th>151834</th>\n",
       "      <td>1.359406e-03</td>\n",
       "      <td>0.832201</td>\n",
       "      <td>6.276515e-07</td>\n",
       "      <td>5.783707e-08</td>\n",
       "      <td>3.973616e-06</td>\n",
       "      <td>0.064116</td>\n",
       "      <td>0.102319</td>\n",
       "      <td>1.837878e-09</td>\n",
       "      <td>5.767337e-08</td>\n",
       "    </tr>\n",
       "    <tr>\n",
       "      <th>151835</th>\n",
       "      <td>8.237012e-06</td>\n",
       "      <td>0.630321</td>\n",
       "      <td>2.373205e-12</td>\n",
       "      <td>7.253569e-08</td>\n",
       "      <td>3.556390e-04</td>\n",
       "      <td>0.369306</td>\n",
       "      <td>0.000008</td>\n",
       "      <td>1.339806e-08</td>\n",
       "      <td>6.656212e-07</td>\n",
       "    </tr>\n",
       "    <tr>\n",
       "      <th>151836</th>\n",
       "      <td>2.343748e-10</td>\n",
       "      <td>0.708663</td>\n",
       "      <td>3.013726e-06</td>\n",
       "      <td>3.485782e-09</td>\n",
       "      <td>1.274577e-11</td>\n",
       "      <td>0.258441</td>\n",
       "      <td>0.032893</td>\n",
       "      <td>6.928042e-09</td>\n",
       "      <td>4.643217e-09</td>\n",
       "    </tr>\n",
       "    <tr>\n",
       "      <th>151837</th>\n",
       "      <td>7.568354e-06</td>\n",
       "      <td>0.724429</td>\n",
       "      <td>2.405617e-09</td>\n",
       "      <td>5.363987e-08</td>\n",
       "      <td>4.860457e-08</td>\n",
       "      <td>0.259576</td>\n",
       "      <td>0.015985</td>\n",
       "      <td>1.505922e-06</td>\n",
       "      <td>3.070709e-07</td>\n",
       "    </tr>\n",
       "    <tr>\n",
       "      <th>151838</th>\n",
       "      <td>1.262743e-01</td>\n",
       "      <td>0.842257</td>\n",
       "      <td>4.004367e-04</td>\n",
       "      <td>1.195453e-04</td>\n",
       "      <td>2.568628e-04</td>\n",
       "      <td>0.018061</td>\n",
       "      <td>0.012579</td>\n",
       "      <td>5.013919e-05</td>\n",
       "      <td>8.107210e-07</td>\n",
       "    </tr>\n",
       "  </tbody>\n",
       "</table>\n",
       "<p>151839 rows × 9 columns</p>\n",
       "</div>"
      ],
      "text/plain": [
       "                 NaN   desktop  game_console           pda      smart_tv  \\\n",
       "0       2.343748e-10  0.708663  3.013726e-06  3.485782e-09  1.274577e-11   \n",
       "1       6.446619e-03  0.770092  5.819713e-08  1.058579e-08  9.085490e-05   \n",
       "2       2.343748e-10  0.708663  3.013726e-06  3.485782e-09  1.274577e-11   \n",
       "3       4.017557e-03  0.986732  1.078416e-06  3.620933e-07  2.788864e-06   \n",
       "4       3.707530e-13  0.525825  1.320004e-06  3.474406e-08  6.076776e-09   \n",
       "...              ...       ...           ...           ...           ...   \n",
       "151834  1.359406e-03  0.832201  6.276515e-07  5.783707e-08  3.973616e-06   \n",
       "151835  8.237012e-06  0.630321  2.373205e-12  7.253569e-08  3.556390e-04   \n",
       "151836  2.343748e-10  0.708663  3.013726e-06  3.485782e-09  1.274577e-11   \n",
       "151837  7.568354e-06  0.724429  2.405617e-09  5.363987e-08  4.860457e-08   \n",
       "151838  1.262743e-01  0.842257  4.004367e-04  1.195453e-04  2.568628e-04   \n",
       "\n",
       "        smartphone    tablet  unrecognized  wearable_computer  \n",
       "0         0.258441  0.032893  6.928042e-09       4.643217e-09  \n",
       "1         0.167420  0.054458  1.492493e-03       5.505779e-07  \n",
       "2         0.258441  0.032893  6.928042e-09       4.643217e-09  \n",
       "3         0.009213  0.000032  7.610044e-07       1.414456e-07  \n",
       "4         0.435362  0.038812  1.037036e-09       2.361678e-08  \n",
       "...            ...       ...           ...                ...  \n",
       "151834    0.064116  0.102319  1.837878e-09       5.767337e-08  \n",
       "151835    0.369306  0.000008  1.339806e-08       6.656212e-07  \n",
       "151836    0.258441  0.032893  6.928042e-09       4.643217e-09  \n",
       "151837    0.259576  0.015985  1.505922e-06       3.070709e-07  \n",
       "151838    0.018061  0.012579  5.013919e-05       8.107210e-07  \n",
       "\n",
       "[151839 rows x 9 columns]"
      ]
     },
     "execution_count": 10,
     "metadata": {},
     "output_type": "execute_result"
    }
   ],
   "source": [
    "pp_device_class_code = pd.DataFrame(pp_dc, columns=clf_device_class_code.classes_)\n",
    "pp_device_class_code"
   ]
  },
  {
   "cell_type": "markdown",
   "metadata": {},
   "source": [
    "### Generate new human features based on probability of real class"
   ]
  },
  {
   "cell_type": "code",
   "execution_count": 9,
   "metadata": {
    "collapsed": true
   },
   "outputs": [],
   "source": [
    "def single_class_proba(probas, labels, expected_class):\n",
    "    \"\"\"\n",
    "    :param probas: prediction vector\n",
    "    :param labels: labels of classification\n",
    "    :param expected_class: label of real truth class answer\n",
    "    :return: probability of truth class answer\n",
    "    \"\"\"\n",
    "    for i, label in enumerate(labels):\n",
    "        if label == expected_class:\n",
    "            return probas[i]\n",
    "    return 0 # if label doesn't excist"
   ]
  },
  {
   "cell_type": "code",
   "execution_count": 12,
   "metadata": {},
   "outputs": [
    {
     "name": "stdout",
     "output_type": "stream",
     "text": [
      "desktop\n"
     ]
    },
    {
     "data": {
      "text/plain": [
       "0.70866308887369223"
      ]
     },
     "execution_count": 12,
     "metadata": {},
     "output_type": "execute_result"
    }
   ],
   "source": [
    "print(main2_df.device_class_code[0])\n",
    "single_class_proba(pp_dc[0], clf_device_class_code.classes_, main2_df.device_class_code[0])"
   ]
  },
  {
   "cell_type": "code",
   "execution_count": 10,
   "metadata": {
    "collapsed": true
   },
   "outputs": [],
   "source": [
    "def classes_proba(clf, X_test, y_test):\n",
    "    \"\"\"\n",
    "    :param clf: classifyer\n",
    "    :param X_test: test features\n",
    "    :param y_test: test labels\n",
    "    :return: vector of probability of truth class answer\n",
    "    \"\"\"\n",
    "    probas = []\n",
    "    for i, p_proba in enumerate(clf.predict_proba(X_test)):\n",
    "        probas.append(single_class_proba(p_proba, clf.classes_, y_test[i]))\n",
    "    return probas"
   ]
  },
  {
   "cell_type": "code",
   "execution_count": 24,
   "metadata": {},
   "outputs": [
    {
     "name": "stdout",
     "output_type": "stream",
     "text": [
      "Length: 151839\n"
     ]
    }
   ],
   "source": [
    "dcc_feature = classes_proba(clf_device_class_code, full2_sparce_dummy, main2_df.device_class_code.fillna('NaN'))\n",
    "print(\"Length: {}\".format(len(dcc_feature)))\n",
    "del(dcc_feature)"
   ]
  },
  {
   "cell_type": "code",
   "execution_count": 11,
   "metadata": {
    "collapsed": true
   },
   "outputs": [],
   "source": [
    "def generate_features(clfs, X_test, y_tests):\n",
    "    \"\"\"\n",
    "    :param clfs: list of classifyer\n",
    "    :param X_test: test features\n",
    "    :param y_test: list of test labels\n",
    "    :return: matrix with new features for Groups Classification\n",
    "    \"\"\"\n",
    "    features = []\n",
    "    for i, clf in enumerate(clfs):\n",
    "        feature_vec = classes_proba(clf, X_test, y_tests[i])\n",
    "        print(\"Feature was generated. Length: {}\".format(len(feature_vec)))\n",
    "        features.append(feature_vec)\n",
    "    return features"
   ]
  },
  {
   "cell_type": "code",
   "execution_count": 12,
   "metadata": {},
   "outputs": [
    {
     "name": "stdout",
     "output_type": "stream",
     "text": [
      "Feature was generated. Length: 151839\n",
      "Feature was generated. Length: 151839\n",
      "Feature was generated. Length: 151839\n",
      "Feature was generated. Length: 151839\n",
      "Feature was generated. Length: 151839\n",
      "Feature was generated. Length: 151839\n"
     ]
    },
    {
     "data": {
      "text/html": [
       "<div>\n",
       "<style>\n",
       "    .dataframe thead tr:only-child th {\n",
       "        text-align: right;\n",
       "    }\n",
       "\n",
       "    .dataframe thead th {\n",
       "        text-align: left;\n",
       "    }\n",
       "\n",
       "    .dataframe tbody tr th {\n",
       "        vertical-align: top;\n",
       "    }\n",
       "</style>\n",
       "<table border=\"1\" class=\"dataframe\">\n",
       "  <thead>\n",
       "    <tr style=\"text-align: right;\">\n",
       "      <th></th>\n",
       "      <th>0</th>\n",
       "      <th>1</th>\n",
       "      <th>2</th>\n",
       "      <th>3</th>\n",
       "      <th>4</th>\n",
       "      <th>5</th>\n",
       "    </tr>\n",
       "  </thead>\n",
       "  <tbody>\n",
       "    <tr>\n",
       "      <th>0</th>\n",
       "      <td>0.708663</td>\n",
       "      <td>0.702349</td>\n",
       "      <td>0.436786</td>\n",
       "      <td>0.709285</td>\n",
       "      <td>0.424216</td>\n",
       "      <td>0.307556</td>\n",
       "    </tr>\n",
       "    <tr>\n",
       "      <th>1</th>\n",
       "      <td>0.770092</td>\n",
       "      <td>0.694055</td>\n",
       "      <td>0.142846</td>\n",
       "      <td>0.777389</td>\n",
       "      <td>0.357793</td>\n",
       "      <td>0.115639</td>\n",
       "    </tr>\n",
       "    <tr>\n",
       "      <th>2</th>\n",
       "      <td>0.708663</td>\n",
       "      <td>0.702349</td>\n",
       "      <td>0.436786</td>\n",
       "      <td>0.709285</td>\n",
       "      <td>0.209185</td>\n",
       "      <td>0.044215</td>\n",
       "    </tr>\n",
       "    <tr>\n",
       "      <th>3</th>\n",
       "      <td>0.986732</td>\n",
       "      <td>0.987341</td>\n",
       "      <td>0.982745</td>\n",
       "      <td>0.988570</td>\n",
       "      <td>0.990565</td>\n",
       "      <td>0.992701</td>\n",
       "    </tr>\n",
       "    <tr>\n",
       "      <th>4</th>\n",
       "      <td>0.435362</td>\n",
       "      <td>0.477366</td>\n",
       "      <td>0.179448</td>\n",
       "      <td>0.475272</td>\n",
       "      <td>0.131872</td>\n",
       "      <td>0.125350</td>\n",
       "    </tr>\n",
       "    <tr>\n",
       "      <th>...</th>\n",
       "      <td>...</td>\n",
       "      <td>...</td>\n",
       "      <td>...</td>\n",
       "      <td>...</td>\n",
       "      <td>...</td>\n",
       "      <td>...</td>\n",
       "    </tr>\n",
       "    <tr>\n",
       "      <th>151834</th>\n",
       "      <td>0.832201</td>\n",
       "      <td>0.720730</td>\n",
       "      <td>0.429976</td>\n",
       "      <td>0.876917</td>\n",
       "      <td>0.012524</td>\n",
       "      <td>0.723098</td>\n",
       "    </tr>\n",
       "    <tr>\n",
       "      <th>151835</th>\n",
       "      <td>0.630321</td>\n",
       "      <td>0.604475</td>\n",
       "      <td>0.339667</td>\n",
       "      <td>0.629281</td>\n",
       "      <td>0.619640</td>\n",
       "      <td>0.405815</td>\n",
       "    </tr>\n",
       "    <tr>\n",
       "      <th>151836</th>\n",
       "      <td>0.708663</td>\n",
       "      <td>0.702349</td>\n",
       "      <td>0.011556</td>\n",
       "      <td>0.709285</td>\n",
       "      <td>0.209185</td>\n",
       "      <td>0.005653</td>\n",
       "    </tr>\n",
       "    <tr>\n",
       "      <th>151837</th>\n",
       "      <td>0.724429</td>\n",
       "      <td>0.724433</td>\n",
       "      <td>0.171277</td>\n",
       "      <td>0.724421</td>\n",
       "      <td>0.158602</td>\n",
       "      <td>0.063178</td>\n",
       "    </tr>\n",
       "    <tr>\n",
       "      <th>151838</th>\n",
       "      <td>0.842257</td>\n",
       "      <td>0.099151</td>\n",
       "      <td>0.024993</td>\n",
       "      <td>0.850276</td>\n",
       "      <td>0.007284</td>\n",
       "      <td>0.000250</td>\n",
       "    </tr>\n",
       "  </tbody>\n",
       "</table>\n",
       "<p>151839 rows × 6 columns</p>\n",
       "</div>"
      ],
      "text/plain": [
       "               0         1         2         3         4         5\n",
       "0       0.708663  0.702349  0.436786  0.709285  0.424216  0.307556\n",
       "1       0.770092  0.694055  0.142846  0.777389  0.357793  0.115639\n",
       "2       0.708663  0.702349  0.436786  0.709285  0.209185  0.044215\n",
       "3       0.986732  0.987341  0.982745  0.988570  0.990565  0.992701\n",
       "4       0.435362  0.477366  0.179448  0.475272  0.131872  0.125350\n",
       "...          ...       ...       ...       ...       ...       ...\n",
       "151834  0.832201  0.720730  0.429976  0.876917  0.012524  0.723098\n",
       "151835  0.630321  0.604475  0.339667  0.629281  0.619640  0.405815\n",
       "151836  0.708663  0.702349  0.011556  0.709285  0.209185  0.005653\n",
       "151837  0.724429  0.724433  0.171277  0.724421  0.158602  0.063178\n",
       "151838  0.842257  0.099151  0.024993  0.850276  0.007284  0.000250\n",
       "\n",
       "[151839 rows x 6 columns]"
      ]
     },
     "execution_count": 12,
     "metadata": {},
     "output_type": "execute_result"
    }
   ],
   "source": [
    "y_array = [\n",
    "    main2_df.device_class_code.fillna('NaN'),\n",
    "    main2_df.os_family_code.fillna('NaN'),\n",
    "    main2_df.os_code.fillna('NaN'),\n",
    "    main2_df.ua_class_code.fillna('NaN'),\n",
    "    main2_df.ua_family_code.fillna('NaN'),\n",
    "    main2_df.ua_version.fillna('NaN')\n",
    "]\n",
    "\n",
    "cls_array = [\n",
    "    clf_device_class_code,\n",
    "    clf_os_family_code,\n",
    "    clf_os_code,\n",
    "    clf_ua_class_code,\n",
    "    clf_ua_family_code,\n",
    "    clf_ua_version\n",
    "]\n",
    "\n",
    "human_features = list(map(list, zip(*generate_features(cls_array, full2_sparce_dummy, y_array))))\n",
    "pd.DataFrame(human_features)"
   ]
  },
  {
   "cell_type": "markdown",
   "metadata": {},
   "source": [
    "**ua_version predict proba use 12GB memory on 10 LOG !!!**"
   ]
  },
  {
   "cell_type": "code",
   "execution_count": 13,
   "metadata": {},
   "outputs": [
    {
     "name": "stdout",
     "output_type": "stream",
     "text": [
      "Human_features saved with size(Bytes): 7288352\n"
     ]
    }
   ],
   "source": [
    "np.save('df/human_features.npy', np.array(human_features))\n",
    "print(\"Human_features saved with size(Bytes): {}\".format(os.stat('df/human_features.npy').st_size))"
   ]
  },
  {
   "cell_type": "markdown",
   "metadata": {},
   "source": [
    "### Generate new human features based on probability of real class"
   ]
  },
  {
   "cell_type": "code",
   "execution_count": 14,
   "metadata": {},
   "outputs": [
    {
     "data": {
      "text/html": [
       "<div>\n",
       "<style>\n",
       "    .dataframe thead tr:only-child th {\n",
       "        text-align: right;\n",
       "    }\n",
       "\n",
       "    .dataframe thead th {\n",
       "        text-align: left;\n",
       "    }\n",
       "\n",
       "    .dataframe tbody tr th {\n",
       "        vertical-align: top;\n",
       "    }\n",
       "</style>\n",
       "<table border=\"1\" class=\"dataframe\">\n",
       "  <thead>\n",
       "    <tr style=\"text-align: right;\">\n",
       "      <th></th>\n",
       "      <th>0</th>\n",
       "      <th>1</th>\n",
       "      <th>2</th>\n",
       "      <th>3</th>\n",
       "      <th>4</th>\n",
       "      <th>5</th>\n",
       "      <th>6</th>\n",
       "      <th>7</th>\n",
       "      <th>8</th>\n",
       "    </tr>\n",
       "  </thead>\n",
       "  <tbody>\n",
       "    <tr>\n",
       "      <th>0</th>\n",
       "      <td>Mozilla/4.0 (compatible; MSIE 8.0; Windows NT ...</td>\n",
       "      <td>NaN</td>\n",
       "      <td>144.76.67.101</td>\n",
       "      <td>NaN</td>\n",
       "      <td>NaN</td>\n",
       "      <td>1490392820</td>\n",
       "      <td>NaN</td>\n",
       "      <td>NaN</td>\n",
       "      <td>NaN</td>\n",
       "    </tr>\n",
       "    <tr>\n",
       "      <th>1</th>\n",
       "      <td>Mozilla/5.0 (Windows NT 6.1) AppleWebKit/537.3...</td>\n",
       "      <td>desktop</td>\n",
       "      <td>136.243.95.186</td>\n",
       "      <td>windows_7</td>\n",
       "      <td>windows</td>\n",
       "      <td>1490392830</td>\n",
       "      <td>browser</td>\n",
       "      <td>firefox</td>\n",
       "      <td>firefox38.0</td>\n",
       "    </tr>\n",
       "    <tr>\n",
       "      <th>2</th>\n",
       "      <td>Mozilla/5.0 (Windows NT 5.1; rv:33.0) Gecko/20...</td>\n",
       "      <td>desktop</td>\n",
       "      <td>78.129.185.198</td>\n",
       "      <td>windows_10</td>\n",
       "      <td>windows</td>\n",
       "      <td>1490392870</td>\n",
       "      <td>browser</td>\n",
       "      <td>chrome</td>\n",
       "      <td>chrome57.0.2987.110</td>\n",
       "    </tr>\n",
       "    <tr>\n",
       "      <th>3</th>\n",
       "      <td>Mozilla/5.0 (Windows NT 5.1) AppleWebKit/537.3...</td>\n",
       "      <td>NaN</td>\n",
       "      <td>176.9.47.170</td>\n",
       "      <td>NaN</td>\n",
       "      <td>NaN</td>\n",
       "      <td>1490392892</td>\n",
       "      <td>NaN</td>\n",
       "      <td>NaN</td>\n",
       "      <td>NaN</td>\n",
       "    </tr>\n",
       "    <tr>\n",
       "      <th>4</th>\n",
       "      <td>Mozilla/5.0 (Windows NT 6.1; WOW64) AppleWebKi...</td>\n",
       "      <td>desktop</td>\n",
       "      <td>163.172.67.180</td>\n",
       "      <td>windows_xp</td>\n",
       "      <td>windows</td>\n",
       "      <td>1490392931</td>\n",
       "      <td>browser</td>\n",
       "      <td>firefox</td>\n",
       "      <td>firefox7.0.1</td>\n",
       "    </tr>\n",
       "    <tr>\n",
       "      <th>...</th>\n",
       "      <td>...</td>\n",
       "      <td>...</td>\n",
       "      <td>...</td>\n",
       "      <td>...</td>\n",
       "      <td>...</td>\n",
       "      <td>...</td>\n",
       "      <td>...</td>\n",
       "      <td>...</td>\n",
       "      <td>...</td>\n",
       "    </tr>\n",
       "    <tr>\n",
       "      <th>202326</th>\n",
       "      <td>Mozilla/5.0 (Windows NT 10.0; WOW64; Trident/7...</td>\n",
       "      <td>desktop</td>\n",
       "      <td>185.84.189.106</td>\n",
       "      <td>windows_10</td>\n",
       "      <td>windows</td>\n",
       "      <td>1490398773</td>\n",
       "      <td>browser</td>\n",
       "      <td>opera</td>\n",
       "      <td>opera43.0.2442.1144</td>\n",
       "    </tr>\n",
       "    <tr>\n",
       "      <th>202327</th>\n",
       "      <td>Mozilla/5.0 (Windows NT 10.0; WOW64) AppleWebK...</td>\n",
       "      <td>desktop</td>\n",
       "      <td>65.55.212.90</td>\n",
       "      <td>windows_7</td>\n",
       "      <td>windows</td>\n",
       "      <td>1490399136</td>\n",
       "      <td>browser</td>\n",
       "      <td>ie</td>\n",
       "      <td>ie9.0</td>\n",
       "    </tr>\n",
       "    <tr>\n",
       "      <th>202328</th>\n",
       "      <td>Mozilla/5.0 (Windows NT 6.1) AppleWebKit/537.3...</td>\n",
       "      <td>desktop</td>\n",
       "      <td>82.162.142.114</td>\n",
       "      <td>windows_7</td>\n",
       "      <td>windows</td>\n",
       "      <td>1490399387</td>\n",
       "      <td>browser</td>\n",
       "      <td>chrome</td>\n",
       "      <td>chrome56.0.2924.87</td>\n",
       "    </tr>\n",
       "    <tr>\n",
       "      <th>202329</th>\n",
       "      <td>Mozilla/4.0 (compatible; MSIE 5.5; Windows NT ...</td>\n",
       "      <td>NaN</td>\n",
       "      <td>176.9.137.118</td>\n",
       "      <td>NaN</td>\n",
       "      <td>NaN</td>\n",
       "      <td>1490399490</td>\n",
       "      <td>NaN</td>\n",
       "      <td>NaN</td>\n",
       "      <td>NaN</td>\n",
       "    </tr>\n",
       "    <tr>\n",
       "      <th>202330</th>\n",
       "      <td>Mozilla/5.0 (Windows NT 6.1; WOW64) AppleWebKi...</td>\n",
       "      <td>desktop</td>\n",
       "      <td>217.107.127.218</td>\n",
       "      <td>windows_7</td>\n",
       "      <td>windows</td>\n",
       "      <td>1490399815</td>\n",
       "      <td>browser</td>\n",
       "      <td>chrome</td>\n",
       "      <td>chrome56.0.2924.87</td>\n",
       "    </tr>\n",
       "  </tbody>\n",
       "</table>\n",
       "<p>202331 rows × 9 columns</p>\n",
       "</div>"
      ],
      "text/plain": [
       "                                                        0        1  \\\n",
       "0       Mozilla/4.0 (compatible; MSIE 8.0; Windows NT ...      NaN   \n",
       "1       Mozilla/5.0 (Windows NT 6.1) AppleWebKit/537.3...  desktop   \n",
       "2       Mozilla/5.0 (Windows NT 5.1; rv:33.0) Gecko/20...  desktop   \n",
       "3       Mozilla/5.0 (Windows NT 5.1) AppleWebKit/537.3...      NaN   \n",
       "4       Mozilla/5.0 (Windows NT 6.1; WOW64) AppleWebKi...  desktop   \n",
       "...                                                   ...      ...   \n",
       "202326  Mozilla/5.0 (Windows NT 10.0; WOW64; Trident/7...  desktop   \n",
       "202327  Mozilla/5.0 (Windows NT 10.0; WOW64) AppleWebK...  desktop   \n",
       "202328  Mozilla/5.0 (Windows NT 6.1) AppleWebKit/537.3...  desktop   \n",
       "202329  Mozilla/4.0 (compatible; MSIE 5.5; Windows NT ...      NaN   \n",
       "202330  Mozilla/5.0 (Windows NT 6.1; WOW64) AppleWebKi...  desktop   \n",
       "\n",
       "                      2           3        4           5        6        7  \\\n",
       "0         144.76.67.101         NaN      NaN  1490392820      NaN      NaN   \n",
       "1        136.243.95.186   windows_7  windows  1490392830  browser  firefox   \n",
       "2        78.129.185.198  windows_10  windows  1490392870  browser   chrome   \n",
       "3          176.9.47.170         NaN      NaN  1490392892      NaN      NaN   \n",
       "4        163.172.67.180  windows_xp  windows  1490392931  browser  firefox   \n",
       "...                 ...         ...      ...         ...      ...      ...   \n",
       "202326   185.84.189.106  windows_10  windows  1490398773  browser    opera   \n",
       "202327     65.55.212.90   windows_7  windows  1490399136  browser       ie   \n",
       "202328   82.162.142.114   windows_7  windows  1490399387  browser   chrome   \n",
       "202329    176.9.137.118         NaN      NaN  1490399490      NaN      NaN   \n",
       "202330  217.107.127.218   windows_7  windows  1490399815  browser   chrome   \n",
       "\n",
       "                          8  \n",
       "0                       NaN  \n",
       "1               firefox38.0  \n",
       "2       chrome57.0.2987.110  \n",
       "3                       NaN  \n",
       "4              firefox7.0.1  \n",
       "...                     ...  \n",
       "202326  opera43.0.2442.1144  \n",
       "202327                ie9.0  \n",
       "202328   chrome56.0.2924.87  \n",
       "202329                  NaN  \n",
       "202330   chrome56.0.2924.87  \n",
       "\n",
       "[202331 rows x 9 columns]"
      ]
     },
     "execution_count": 14,
     "metadata": {},
     "output_type": "execute_result"
    }
   ],
   "source": [
    "del(main2_df)\n",
    "del(main2_data)\n",
    "del(values2_data)\n",
    "del(order2_data)\n",
    "del(full2_sparce_dummy)\n",
    "\n",
    "main2_bot_data = np.load('df/main2_bot_data.npy').tolist()\n",
    "values2_bot_data = np.load('df/values2_bot_data.npy').tolist()\n",
    "order2_bot_data = np.load('df/order2_bot_data.npy').tolist()\n",
    "\n",
    "main2_bot_df = pd.DataFrame(main2_bot_data)\n",
    "\n",
    "main2_bot_df"
   ]
  },
  {
   "cell_type": "code",
   "execution_count": 15,
   "metadata": {},
   "outputs": [
    {
     "name": "stderr",
     "output_type": "stream",
     "text": [
      "100%|██████████| 202331/202331 [00:00<00:00, 464312.92it/s]\n",
      "100%|██████████| 202331/202331 [00:00<00:00, 244631.02it/s]\n",
      " 30%|███       | 61412/202331 [00:00<00:00, 614117.66it/s]"
     ]
    },
    {
     "name": "stdout",
     "output_type": "stream",
     "text": [
      "Sparse dummy orders shape: \n",
      "(202331, 50)\n"
     ]
    },
    {
     "name": "stderr",
     "output_type": "stream",
     "text": [
      "100%|██████████| 202331/202331 [00:00<00:00, 636601.16it/s]\n"
     ]
    },
    {
     "name": "stdout",
     "output_type": "stream",
     "text": [
      "Sparse dummy values shape: \n",
      "(202331, 516)\n"
     ]
    }
   ],
   "source": [
    "l_parser = LogParser(log_folder='Logs/')\n",
    "l_parser.reassign_orders_values(order2_bot_data, values2_bot_data)\n",
    "\n",
    "full2_sparce_dummy = l_parser.prepare_data(orders_vectorizer, values_vectorizer, important_orders_keys_set, important_values_keys_set, fit_dict=False)"
   ]
  },
  {
   "cell_type": "code",
   "execution_count": 16,
   "metadata": {},
   "outputs": [
    {
     "name": "stdout",
     "output_type": "stream",
     "text": [
      "Feature was generated. Length: 202331\n",
      "Feature was generated. Length: 202331\n",
      "Feature was generated. Length: 202331\n",
      "Feature was generated. Length: 202331\n",
      "Feature was generated. Length: 202331\n",
      "Feature was generated. Length: 202331\n"
     ]
    },
    {
     "data": {
      "text/html": [
       "<div>\n",
       "<style>\n",
       "    .dataframe thead tr:only-child th {\n",
       "        text-align: right;\n",
       "    }\n",
       "\n",
       "    .dataframe thead th {\n",
       "        text-align: left;\n",
       "    }\n",
       "\n",
       "    .dataframe tbody tr th {\n",
       "        vertical-align: top;\n",
       "    }\n",
       "</style>\n",
       "<table border=\"1\" class=\"dataframe\">\n",
       "  <thead>\n",
       "    <tr style=\"text-align: right;\">\n",
       "      <th></th>\n",
       "      <th>0</th>\n",
       "      <th>1</th>\n",
       "      <th>2</th>\n",
       "      <th>3</th>\n",
       "      <th>4</th>\n",
       "      <th>5</th>\n",
       "    </tr>\n",
       "  </thead>\n",
       "  <tbody>\n",
       "    <tr>\n",
       "      <th>0</th>\n",
       "      <td>0.179443</td>\n",
       "      <td>0.183773</td>\n",
       "      <td>0.173878</td>\n",
       "      <td>0.177878</td>\n",
       "      <td>0.168663</td>\n",
       "      <td>0.180102</td>\n",
       "    </tr>\n",
       "    <tr>\n",
       "      <th>1</th>\n",
       "      <td>0.986897</td>\n",
       "      <td>0.987563</td>\n",
       "      <td>0.960782</td>\n",
       "      <td>0.987100</td>\n",
       "      <td>0.924400</td>\n",
       "      <td>0.981205</td>\n",
       "    </tr>\n",
       "    <tr>\n",
       "      <th>2</th>\n",
       "      <td>0.945595</td>\n",
       "      <td>0.931935</td>\n",
       "      <td>0.242893</td>\n",
       "      <td>0.974940</td>\n",
       "      <td>0.207246</td>\n",
       "      <td>0.000000</td>\n",
       "    </tr>\n",
       "    <tr>\n",
       "      <th>3</th>\n",
       "      <td>0.179443</td>\n",
       "      <td>0.183773</td>\n",
       "      <td>0.173878</td>\n",
       "      <td>0.177878</td>\n",
       "      <td>0.168663</td>\n",
       "      <td>0.180102</td>\n",
       "    </tr>\n",
       "    <tr>\n",
       "      <th>4</th>\n",
       "      <td>0.986732</td>\n",
       "      <td>0.987341</td>\n",
       "      <td>0.982745</td>\n",
       "      <td>0.988570</td>\n",
       "      <td>0.990565</td>\n",
       "      <td>0.992701</td>\n",
       "    </tr>\n",
       "    <tr>\n",
       "      <th>...</th>\n",
       "      <td>...</td>\n",
       "      <td>...</td>\n",
       "      <td>...</td>\n",
       "      <td>...</td>\n",
       "      <td>...</td>\n",
       "      <td>...</td>\n",
       "    </tr>\n",
       "    <tr>\n",
       "      <th>202326</th>\n",
       "      <td>0.708663</td>\n",
       "      <td>0.702349</td>\n",
       "      <td>0.156352</td>\n",
       "      <td>0.709285</td>\n",
       "      <td>0.059874</td>\n",
       "      <td>0.004188</td>\n",
       "    </tr>\n",
       "    <tr>\n",
       "      <th>202327</th>\n",
       "      <td>0.981631</td>\n",
       "      <td>0.979575</td>\n",
       "      <td>0.403425</td>\n",
       "      <td>0.986004</td>\n",
       "      <td>0.920677</td>\n",
       "      <td>0.904861</td>\n",
       "    </tr>\n",
       "    <tr>\n",
       "      <th>202328</th>\n",
       "      <td>0.708663</td>\n",
       "      <td>0.702349</td>\n",
       "      <td>0.436786</td>\n",
       "      <td>0.709285</td>\n",
       "      <td>0.424216</td>\n",
       "      <td>0.307556</td>\n",
       "    </tr>\n",
       "    <tr>\n",
       "      <th>202329</th>\n",
       "      <td>0.179443</td>\n",
       "      <td>0.183773</td>\n",
       "      <td>0.173878</td>\n",
       "      <td>0.177878</td>\n",
       "      <td>0.168663</td>\n",
       "      <td>0.180102</td>\n",
       "    </tr>\n",
       "    <tr>\n",
       "      <th>202330</th>\n",
       "      <td>0.708663</td>\n",
       "      <td>0.702349</td>\n",
       "      <td>0.436786</td>\n",
       "      <td>0.709285</td>\n",
       "      <td>0.424216</td>\n",
       "      <td>0.307556</td>\n",
       "    </tr>\n",
       "  </tbody>\n",
       "</table>\n",
       "<p>202331 rows × 6 columns</p>\n",
       "</div>"
      ],
      "text/plain": [
       "               0         1         2         3         4         5\n",
       "0       0.179443  0.183773  0.173878  0.177878  0.168663  0.180102\n",
       "1       0.986897  0.987563  0.960782  0.987100  0.924400  0.981205\n",
       "2       0.945595  0.931935  0.242893  0.974940  0.207246  0.000000\n",
       "3       0.179443  0.183773  0.173878  0.177878  0.168663  0.180102\n",
       "4       0.986732  0.987341  0.982745  0.988570  0.990565  0.992701\n",
       "...          ...       ...       ...       ...       ...       ...\n",
       "202326  0.708663  0.702349  0.156352  0.709285  0.059874  0.004188\n",
       "202327  0.981631  0.979575  0.403425  0.986004  0.920677  0.904861\n",
       "202328  0.708663  0.702349  0.436786  0.709285  0.424216  0.307556\n",
       "202329  0.179443  0.183773  0.173878  0.177878  0.168663  0.180102\n",
       "202330  0.708663  0.702349  0.436786  0.709285  0.424216  0.307556\n",
       "\n",
       "[202331 rows x 6 columns]"
      ]
     },
     "execution_count": 16,
     "metadata": {},
     "output_type": "execute_result"
    }
   ],
   "source": [
    "y_array = [\n",
    "    main2_bot_df[1].fillna('NaN'),\n",
    "    main2_bot_df[4].fillna('NaN'),\n",
    "    main2_bot_df[3].fillna('NaN'),\n",
    "    main2_bot_df[6].fillna('NaN'),\n",
    "    main2_bot_df[7].fillna('NaN'),\n",
    "    main2_bot_df[8].fillna('NaN')\n",
    "]\n",
    "\n",
    "cls_array = [\n",
    "    clf_device_class_code,\n",
    "    clf_os_family_code,\n",
    "    clf_os_code,\n",
    "    clf_ua_class_code,\n",
    "    clf_ua_family_code,\n",
    "    clf_ua_version\n",
    "]\n",
    "\n",
    "bot_features = list(map(list, zip(*generate_features(cls_array, full2_sparce_dummy, y_array))))\n",
    "pd.DataFrame(bot_features)"
   ]
  },
  {
   "cell_type": "code",
   "execution_count": 17,
   "metadata": {},
   "outputs": [],
   "source": [
    "bf_df = pd.DataFrame(bot_features)"
   ]
  },
  {
   "cell_type": "code",
   "execution_count": 22,
   "metadata": {},
   "outputs": [
    {
     "data": {
      "text/html": [
       "<div>\n",
       "<style>\n",
       "    .dataframe thead tr:only-child th {\n",
       "        text-align: right;\n",
       "    }\n",
       "\n",
       "    .dataframe thead th {\n",
       "        text-align: left;\n",
       "    }\n",
       "\n",
       "    .dataframe tbody tr th {\n",
       "        vertical-align: top;\n",
       "    }\n",
       "</style>\n",
       "<table border=\"1\" class=\"dataframe\">\n",
       "  <thead>\n",
       "    <tr style=\"text-align: right;\">\n",
       "      <th></th>\n",
       "      <th>0</th>\n",
       "      <th>1</th>\n",
       "      <th>2</th>\n",
       "      <th>3</th>\n",
       "      <th>4</th>\n",
       "      <th>5</th>\n",
       "    </tr>\n",
       "  </thead>\n",
       "  <tbody>\n",
       "  </tbody>\n",
       "</table>\n",
       "</div>"
      ],
      "text/plain": [
       "Empty DataFrame\n",
       "Columns: [0, 1, 2, 3, 4, 5]\n",
       "Index: []"
      ]
     },
     "execution_count": 22,
     "metadata": {},
     "output_type": "execute_result"
    }
   ],
   "source": [
    "bf_df.loc[np.isnan(bf_df[5])]"
   ]
  },
  {
   "cell_type": "code",
   "execution_count": 23,
   "metadata": {},
   "outputs": [
    {
     "name": "stdout",
     "output_type": "stream",
     "text": [
      "Bot_features saved with size(Bytes): 9711968\n"
     ]
    }
   ],
   "source": [
    "del(bf_df)\n",
    "np.save('df/bot_features.npy', np.array(bot_features))\n",
    "print(\"Bot_features saved with size(Bytes): {}\".format(os.stat('df/bot_features.npy').st_size))"
   ]
  },
  {
   "cell_type": "markdown",
   "metadata": {},
   "source": [
    "## Superposition"
   ]
  },
  {
   "cell_type": "code",
   "execution_count": 24,
   "metadata": {},
   "outputs": [
    {
     "data": {
      "text/html": [
       "<div>\n",
       "<style>\n",
       "    .dataframe thead tr:only-child th {\n",
       "        text-align: right;\n",
       "    }\n",
       "\n",
       "    .dataframe thead th {\n",
       "        text-align: left;\n",
       "    }\n",
       "\n",
       "    .dataframe tbody tr th {\n",
       "        vertical-align: top;\n",
       "    }\n",
       "</style>\n",
       "<table border=\"1\" class=\"dataframe\">\n",
       "  <thead>\n",
       "    <tr style=\"text-align: right;\">\n",
       "      <th></th>\n",
       "      <th>0</th>\n",
       "      <th>1</th>\n",
       "      <th>2</th>\n",
       "      <th>3</th>\n",
       "      <th>4</th>\n",
       "      <th>5</th>\n",
       "    </tr>\n",
       "  </thead>\n",
       "  <tbody>\n",
       "    <tr>\n",
       "      <th>0</th>\n",
       "      <td>0.708663</td>\n",
       "      <td>0.702349</td>\n",
       "      <td>0.436786</td>\n",
       "      <td>0.709285</td>\n",
       "      <td>0.424216</td>\n",
       "      <td>0.307556</td>\n",
       "    </tr>\n",
       "    <tr>\n",
       "      <th>1</th>\n",
       "      <td>0.770092</td>\n",
       "      <td>0.694055</td>\n",
       "      <td>0.142846</td>\n",
       "      <td>0.777389</td>\n",
       "      <td>0.357793</td>\n",
       "      <td>0.115639</td>\n",
       "    </tr>\n",
       "    <tr>\n",
       "      <th>2</th>\n",
       "      <td>0.708663</td>\n",
       "      <td>0.702349</td>\n",
       "      <td>0.436786</td>\n",
       "      <td>0.709285</td>\n",
       "      <td>0.209185</td>\n",
       "      <td>0.044215</td>\n",
       "    </tr>\n",
       "    <tr>\n",
       "      <th>3</th>\n",
       "      <td>0.986732</td>\n",
       "      <td>0.987341</td>\n",
       "      <td>0.982745</td>\n",
       "      <td>0.988570</td>\n",
       "      <td>0.990565</td>\n",
       "      <td>0.992701</td>\n",
       "    </tr>\n",
       "    <tr>\n",
       "      <th>4</th>\n",
       "      <td>0.435362</td>\n",
       "      <td>0.477366</td>\n",
       "      <td>0.179448</td>\n",
       "      <td>0.475272</td>\n",
       "      <td>0.131872</td>\n",
       "      <td>0.125350</td>\n",
       "    </tr>\n",
       "    <tr>\n",
       "      <th>...</th>\n",
       "      <td>...</td>\n",
       "      <td>...</td>\n",
       "      <td>...</td>\n",
       "      <td>...</td>\n",
       "      <td>...</td>\n",
       "      <td>...</td>\n",
       "    </tr>\n",
       "    <tr>\n",
       "      <th>354165</th>\n",
       "      <td>0.708663</td>\n",
       "      <td>0.702349</td>\n",
       "      <td>0.156352</td>\n",
       "      <td>0.709285</td>\n",
       "      <td>0.059874</td>\n",
       "      <td>0.004188</td>\n",
       "    </tr>\n",
       "    <tr>\n",
       "      <th>354166</th>\n",
       "      <td>0.981631</td>\n",
       "      <td>0.979575</td>\n",
       "      <td>0.403425</td>\n",
       "      <td>0.986004</td>\n",
       "      <td>0.920677</td>\n",
       "      <td>0.904861</td>\n",
       "    </tr>\n",
       "    <tr>\n",
       "      <th>354167</th>\n",
       "      <td>0.708663</td>\n",
       "      <td>0.702349</td>\n",
       "      <td>0.436786</td>\n",
       "      <td>0.709285</td>\n",
       "      <td>0.424216</td>\n",
       "      <td>0.307556</td>\n",
       "    </tr>\n",
       "    <tr>\n",
       "      <th>354168</th>\n",
       "      <td>0.179443</td>\n",
       "      <td>0.183773</td>\n",
       "      <td>0.173878</td>\n",
       "      <td>0.177878</td>\n",
       "      <td>0.168663</td>\n",
       "      <td>0.180102</td>\n",
       "    </tr>\n",
       "    <tr>\n",
       "      <th>354169</th>\n",
       "      <td>0.708663</td>\n",
       "      <td>0.702349</td>\n",
       "      <td>0.436786</td>\n",
       "      <td>0.709285</td>\n",
       "      <td>0.424216</td>\n",
       "      <td>0.307556</td>\n",
       "    </tr>\n",
       "  </tbody>\n",
       "</table>\n",
       "<p>354170 rows × 6 columns</p>\n",
       "</div>"
      ],
      "text/plain": [
       "               0         1         2         3         4         5\n",
       "0       0.708663  0.702349  0.436786  0.709285  0.424216  0.307556\n",
       "1       0.770092  0.694055  0.142846  0.777389  0.357793  0.115639\n",
       "2       0.708663  0.702349  0.436786  0.709285  0.209185  0.044215\n",
       "3       0.986732  0.987341  0.982745  0.988570  0.990565  0.992701\n",
       "4       0.435362  0.477366  0.179448  0.475272  0.131872  0.125350\n",
       "...          ...       ...       ...       ...       ...       ...\n",
       "354165  0.708663  0.702349  0.156352  0.709285  0.059874  0.004188\n",
       "354166  0.981631  0.979575  0.403425  0.986004  0.920677  0.904861\n",
       "354167  0.708663  0.702349  0.436786  0.709285  0.424216  0.307556\n",
       "354168  0.179443  0.183773  0.173878  0.177878  0.168663  0.180102\n",
       "354169  0.708663  0.702349  0.436786  0.709285  0.424216  0.307556\n",
       "\n",
       "[354170 rows x 6 columns]"
      ]
     },
     "execution_count": 24,
     "metadata": {},
     "output_type": "execute_result"
    }
   ],
   "source": [
    "full_sp_features = pd.DataFrame(human_features + bot_features)\n",
    "full_sp_features"
   ]
  },
  {
   "cell_type": "code",
   "execution_count": 26,
   "metadata": {},
   "outputs": [
    {
     "data": {
      "text/html": [
       "<div>\n",
       "<style>\n",
       "    .dataframe thead tr:only-child th {\n",
       "        text-align: right;\n",
       "    }\n",
       "\n",
       "    .dataframe thead th {\n",
       "        text-align: left;\n",
       "    }\n",
       "\n",
       "    .dataframe tbody tr th {\n",
       "        vertical-align: top;\n",
       "    }\n",
       "</style>\n",
       "<table border=\"1\" class=\"dataframe\">\n",
       "  <thead>\n",
       "    <tr style=\"text-align: right;\">\n",
       "      <th></th>\n",
       "      <th>is_bot</th>\n",
       "    </tr>\n",
       "  </thead>\n",
       "  <tbody>\n",
       "    <tr>\n",
       "      <th>151839</th>\n",
       "      <td>False</td>\n",
       "    </tr>\n",
       "    <tr>\n",
       "      <th>151840</th>\n",
       "      <td>False</td>\n",
       "    </tr>\n",
       "    <tr>\n",
       "      <th>151841</th>\n",
       "      <td>False</td>\n",
       "    </tr>\n",
       "    <tr>\n",
       "      <th>151842</th>\n",
       "      <td>False</td>\n",
       "    </tr>\n",
       "    <tr>\n",
       "      <th>151843</th>\n",
       "      <td>False</td>\n",
       "    </tr>\n",
       "    <tr>\n",
       "      <th>...</th>\n",
       "      <td>...</td>\n",
       "    </tr>\n",
       "    <tr>\n",
       "      <th>354165</th>\n",
       "      <td>False</td>\n",
       "    </tr>\n",
       "    <tr>\n",
       "      <th>354166</th>\n",
       "      <td>False</td>\n",
       "    </tr>\n",
       "    <tr>\n",
       "      <th>354167</th>\n",
       "      <td>False</td>\n",
       "    </tr>\n",
       "    <tr>\n",
       "      <th>354168</th>\n",
       "      <td>False</td>\n",
       "    </tr>\n",
       "    <tr>\n",
       "      <th>354169</th>\n",
       "      <td>False</td>\n",
       "    </tr>\n",
       "  </tbody>\n",
       "</table>\n",
       "<p>202331 rows × 1 columns</p>\n",
       "</div>"
      ],
      "text/plain": [
       "        is_bot\n",
       "151839   False\n",
       "151840   False\n",
       "151841   False\n",
       "151842   False\n",
       "151843   False\n",
       "...        ...\n",
       "354165   False\n",
       "354166   False\n",
       "354167   False\n",
       "354168   False\n",
       "354169   False\n",
       "\n",
       "[202331 rows x 1 columns]"
      ]
     },
     "execution_count": 26,
     "metadata": {},
     "output_type": "execute_result"
    }
   ],
   "source": [
    "is_bot = pd.DataFrame(index=full_sp_features.index)\n",
    "is_bot['is_bot'] = False\n",
    "is_bot.loc[0:len(human_features) - 1,'is_bot'] = True\n",
    "is_bot.loc[is_bot['is_bot'] == False]"
   ]
  },
  {
   "cell_type": "code",
   "execution_count": 27,
   "metadata": {
    "collapsed": true
   },
   "outputs": [],
   "source": [
    "from sklearn.model_selection import GridSearchCV, cross_val_predict, cross_val_score, train_test_split, KFold\n",
    "from sklearn.linear_model import LogisticRegression\n",
    "from sklearn.metrics import roc_auc_score, roc_curve, f1_score, make_scorer\n",
    "from sklearn.multiclass import OneVsRestClassifier\n",
    "from sklearn import preprocessing\n",
    "\n",
    "X_train, X_test, y_train, y_test = train_test_split(full_sp_features, is_bot.is_bot, test_size=0.33, random_state=42)"
   ]
  },
  {
   "cell_type": "code",
   "execution_count": 29,
   "metadata": {},
   "outputs": [
    {
     "name": "stdout",
     "output_type": "stream",
     "text": [
      "CPU times: user 688 ms, sys: 0 ns, total: 688 ms\n",
      "Wall time: 696 ms\n"
     ]
    }
   ],
   "source": [
    "%%time\n",
    "\n",
    "smart_clf = LogisticRegression(C=100)\n",
    "smart_clf.fit(X_train, y_train)\n",
    "answer = smart_clf.predict(X_test)"
   ]
  },
  {
   "cell_type": "code",
   "execution_count": 31,
   "metadata": {},
   "outputs": [
    {
     "name": "stdout",
     "output_type": "stream",
     "text": [
      "Model saved with size(Bytes): 25570\n",
      "Splitted in 0 files\n"
     ]
    }
   ],
   "source": [
    "import os\n",
    "from sklearn.externals import joblib\n",
    "from lib.helpers.fileSplitter import split_file\n",
    "\n",
    "filename = 'cls/groups_logreg_cls.joblib.pkl'\n",
    "_ = joblib.dump(clf_device_class_code, filename, compress=9)\n",
    "\n",
    "print(\"Model saved with size(Bytes): {}\".format(os.stat(filename).st_size))\n",
    "\n",
    "files_count = split_file(filename, 'parted-cls/groups_logreg_cls.joblib.pkl')\n",
    "\n",
    "print('Splitted in {} files'.format(files_count))"
   ]
  },
  {
   "cell_type": "code",
   "execution_count": 32,
   "metadata": {},
   "outputs": [
    {
     "data": {
      "text/html": [
       "<div>\n",
       "<style>\n",
       "    .dataframe thead tr:only-child th {\n",
       "        text-align: right;\n",
       "    }\n",
       "\n",
       "    .dataframe thead th {\n",
       "        text-align: left;\n",
       "    }\n",
       "\n",
       "    .dataframe tbody tr th {\n",
       "        vertical-align: top;\n",
       "    }\n",
       "</style>\n",
       "<table border=\"1\" class=\"dataframe\">\n",
       "  <thead>\n",
       "    <tr style=\"text-align: right;\">\n",
       "      <th></th>\n",
       "      <th>is_bot</th>\n",
       "      <th>Predicted</th>\n",
       "      <th>Success</th>\n",
       "    </tr>\n",
       "  </thead>\n",
       "  <tbody>\n",
       "    <tr>\n",
       "      <th>119722</th>\n",
       "      <td>True</td>\n",
       "      <td>False</td>\n",
       "      <td>False</td>\n",
       "    </tr>\n",
       "    <tr>\n",
       "      <th>185457</th>\n",
       "      <td>False</td>\n",
       "      <td>False</td>\n",
       "      <td>True</td>\n",
       "    </tr>\n",
       "    <tr>\n",
       "      <th>126529</th>\n",
       "      <td>True</td>\n",
       "      <td>False</td>\n",
       "      <td>False</td>\n",
       "    </tr>\n",
       "    <tr>\n",
       "      <th>78609</th>\n",
       "      <td>True</td>\n",
       "      <td>False</td>\n",
       "      <td>False</td>\n",
       "    </tr>\n",
       "    <tr>\n",
       "      <th>32838</th>\n",
       "      <td>True</td>\n",
       "      <td>False</td>\n",
       "      <td>False</td>\n",
       "    </tr>\n",
       "    <tr>\n",
       "      <th>...</th>\n",
       "      <td>...</td>\n",
       "      <td>...</td>\n",
       "      <td>...</td>\n",
       "    </tr>\n",
       "    <tr>\n",
       "      <th>294591</th>\n",
       "      <td>False</td>\n",
       "      <td>False</td>\n",
       "      <td>True</td>\n",
       "    </tr>\n",
       "    <tr>\n",
       "      <th>218428</th>\n",
       "      <td>False</td>\n",
       "      <td>True</td>\n",
       "      <td>False</td>\n",
       "    </tr>\n",
       "    <tr>\n",
       "      <th>295175</th>\n",
       "      <td>False</td>\n",
       "      <td>False</td>\n",
       "      <td>True</td>\n",
       "    </tr>\n",
       "    <tr>\n",
       "      <th>288624</th>\n",
       "      <td>False</td>\n",
       "      <td>False</td>\n",
       "      <td>True</td>\n",
       "    </tr>\n",
       "    <tr>\n",
       "      <th>207498</th>\n",
       "      <td>False</td>\n",
       "      <td>False</td>\n",
       "      <td>True</td>\n",
       "    </tr>\n",
       "  </tbody>\n",
       "</table>\n",
       "<p>116877 rows × 3 columns</p>\n",
       "</div>"
      ],
      "text/plain": [
       "        is_bot  Predicted  Success\n",
       "119722    True      False    False\n",
       "185457   False      False     True\n",
       "126529    True      False    False\n",
       "78609     True      False    False\n",
       "32838     True      False    False\n",
       "...        ...        ...      ...\n",
       "294591   False      False     True\n",
       "218428   False       True    False\n",
       "295175   False      False     True\n",
       "288624   False      False     True\n",
       "207498   False      False     True\n",
       "\n",
       "[116877 rows x 3 columns]"
      ]
     },
     "execution_count": 32,
     "metadata": {},
     "output_type": "execute_result"
    }
   ],
   "source": [
    "compare_frame = pd.DataFrame(y_test)\n",
    "compare_frame['Predicted'] = answer\n",
    "compare_frame['Success'] = compare_frame.Predicted == compare_frame.is_bot\n",
    "compare_frame"
   ]
  },
  {
   "cell_type": "code",
   "execution_count": 51,
   "metadata": {},
   "outputs": [
    {
     "data": {
      "text/plain": [
       "True     67174\n",
       "False    49703\n",
       "Name: Success, dtype: int64"
      ]
     },
     "execution_count": 51,
     "metadata": {},
     "output_type": "execute_result"
    }
   ],
   "source": [
    "compare_frame = compare_frame.reset_index(drop=True)\n",
    "compare_frame.Success.value_counts()"
   ]
  },
  {
   "cell_type": "code",
   "execution_count": 52,
   "metadata": {},
   "outputs": [],
   "source": [
    "first_kind_error = []\n",
    "second_kind_error = []\n",
    "for i, bot_prediction in enumerate(compare_frame.is_bot):\n",
    "    cur_first_kind_error = False\n",
    "    cur_second_kind_error = False\n",
    "    if compare_frame.Predicted[i] and not compare_frame.is_bot[i]:\n",
    "        cur_first_kind_error = True\n",
    "    if not compare_frame.Predicted[i] and compare_frame.is_bot[i]:\n",
    "        cur_second_kind_error = True\n",
    "    first_kind_error.append(cur_first_kind_error)\n",
    "    second_kind_error.append(cur_second_kind_error)    "
   ]
  },
  {
   "cell_type": "code",
   "execution_count": 54,
   "metadata": {},
   "outputs": [
    {
     "name": "stdout",
     "output_type": "stream",
     "text": [
      "Ошибка первого рода (когда мы принимаем нормального пользователя за бота): 0.020842424086860545\n",
      "Ошибка второго рода (когда мы принимаем бота за нормального пользователя): 0.4044166089136443\n"
     ]
    }
   ],
   "source": [
    "compare_frame['first_kind_error'] = first_kind_error\n",
    "compare_frame['second_kind_error'] = second_kind_error\n",
    "\n",
    "print('Ошибка первого рода (когда мы принимаем нормального пользователя за бота): {}'.format(sum(first_kind_error) / y_test.shape[0]))\n",
    "print('Ошибка второго рода (когда мы принимаем бота за нормального пользователя): {}'.format(sum(second_kind_error) / y_test.shape[0]))"
   ]
  },
  {
   "cell_type": "markdown",
   "metadata": {},
   "source": [
    "# Not so good. Try Decision Tree over probas"
   ]
  },
  {
   "cell_type": "code",
   "execution_count": 56,
   "metadata": {},
   "outputs": [
    {
     "name": "stdout",
     "output_type": "stream",
     "text": [
      "CPU times: user 984 ms, sys: 0 ns, total: 984 ms\n",
      "Wall time: 1.06 s\n"
     ]
    }
   ],
   "source": [
    "%%time\n",
    "\n",
    "from sklearn import tree\n",
    "\n",
    "clf = tree.DecisionTreeClassifier()\n",
    "clf.fit(X_train, y_train)\n",
    "answer = clf.predict(X_test)"
   ]
  },
  {
   "cell_type": "code",
   "execution_count": 57,
   "metadata": {},
   "outputs": [
    {
     "data": {
      "text/plain": [
       "True     73434\n",
       "False    43443\n",
       "Name: Success, dtype: int64"
      ]
     },
     "execution_count": 57,
     "metadata": {},
     "output_type": "execute_result"
    }
   ],
   "source": [
    "compare_frame = pd.DataFrame(y_test)\n",
    "compare_frame['Predicted'] = answer\n",
    "compare_frame['Success'] = compare_frame.Predicted == compare_frame.is_bot\n",
    "\n",
    "compare_frame = compare_frame.reset_index(drop=True)\n",
    "compare_frame.Success.value_counts()"
   ]
  },
  {
   "cell_type": "code",
   "execution_count": 58,
   "metadata": {},
   "outputs": [
    {
     "name": "stdout",
     "output_type": "stream",
     "text": [
      "Ошибка первого рода (когда мы принимаем нормального пользователя за бота): 0.09034283905302155\n",
      "Ошибка второго рода (когда мы принимаем бота за нормального пользователя): 0.2813556131659779\n"
     ]
    }
   ],
   "source": [
    "first_kind_error = []\n",
    "second_kind_error = []\n",
    "for i, bot_prediction in enumerate(compare_frame.is_bot):\n",
    "    cur_first_kind_error = False\n",
    "    cur_second_kind_error = False\n",
    "    if compare_frame.Predicted[i] and not compare_frame.is_bot[i]:\n",
    "        cur_first_kind_error = True\n",
    "    if not compare_frame.Predicted[i] and compare_frame.is_bot[i]:\n",
    "        cur_second_kind_error = True\n",
    "    first_kind_error.append(cur_first_kind_error)\n",
    "    second_kind_error.append(cur_second_kind_error)  \n",
    "    \n",
    "compare_frame['first_kind_error'] = first_kind_error\n",
    "compare_frame['second_kind_error'] = second_kind_error\n",
    "\n",
    "print('Ошибка первого рода (когда мы принимаем нормального пользователя за бота): {}'.format(sum(first_kind_error) / y_test.shape[0]))\n",
    "print('Ошибка второго рода (когда мы принимаем бота за нормального пользователя): {}'.format(sum(second_kind_error) / y_test.shape[0]))"
   ]
  },
  {
   "cell_type": "markdown",
   "metadata": {},
   "source": [
    "## This is better. Try SGD"
   ]
  },
  {
   "cell_type": "code",
   "execution_count": 59,
   "metadata": {},
   "outputs": [
    {
     "name": "stdout",
     "output_type": "stream",
     "text": [
      "CPU times: user 224 ms, sys: 0 ns, total: 224 ms\n",
      "Wall time: 220 ms\n"
     ]
    }
   ],
   "source": [
    "%%time\n",
    "\n",
    "from sklearn import linear_model\n",
    "\n",
    "clf = linear_model.SGDClassifier()\n",
    "clf.fit(X_train, y_train)\n",
    "answer = clf.predict(X_test)"
   ]
  },
  {
   "cell_type": "code",
   "execution_count": 60,
   "metadata": {},
   "outputs": [
    {
     "data": {
      "text/plain": [
       "True     66887\n",
       "False    49990\n",
       "Name: Success, dtype: int64"
      ]
     },
     "execution_count": 60,
     "metadata": {},
     "output_type": "execute_result"
    }
   ],
   "source": [
    "compare_frame = pd.DataFrame(y_test)\n",
    "compare_frame['Predicted'] = answer\n",
    "compare_frame['Success'] = compare_frame.Predicted == compare_frame.is_bot\n",
    "\n",
    "compare_frame = compare_frame.reset_index(drop=True)\n",
    "compare_frame.Success.value_counts()"
   ]
  },
  {
   "cell_type": "code",
   "execution_count": 61,
   "metadata": {},
   "outputs": [
    {
     "name": "stdout",
     "output_type": "stream",
     "text": [
      "Ошибка первого рода (когда мы принимаем нормального пользователя за бота): 0.0\n",
      "Ошибка второго рода (когда мы принимаем бота за нормального пользователя): 0.4277146059532671\n"
     ]
    }
   ],
   "source": [
    "first_kind_error = []\n",
    "second_kind_error = []\n",
    "for i, bot_prediction in enumerate(compare_frame.is_bot):\n",
    "    cur_first_kind_error = False\n",
    "    cur_second_kind_error = False\n",
    "    if compare_frame.Predicted[i] and not compare_frame.is_bot[i]:\n",
    "        cur_first_kind_error = True\n",
    "    if not compare_frame.Predicted[i] and compare_frame.is_bot[i]:\n",
    "        cur_second_kind_error = True\n",
    "    first_kind_error.append(cur_first_kind_error)\n",
    "    second_kind_error.append(cur_second_kind_error)  \n",
    "    \n",
    "compare_frame['first_kind_error'] = first_kind_error\n",
    "compare_frame['second_kind_error'] = second_kind_error\n",
    "\n",
    "print('Ошибка первого рода (когда мы принимаем нормального пользователя за бота): {}'.format(sum(first_kind_error) / y_test.shape[0]))\n",
    "print('Ошибка второго рода (когда мы принимаем бота за нормального пользователя): {}'.format(sum(second_kind_error) / y_test.shape[0]))"
   ]
  },
  {
   "cell_type": "markdown",
   "metadata": {},
   "source": [
    "## Trying Boosted tree"
   ]
  },
  {
   "cell_type": "code",
   "execution_count": 62,
   "metadata": {},
   "outputs": [
    {
     "name": "stdout",
     "output_type": "stream",
     "text": [
      "CPU times: user 2.36 s, sys: 8 ms, total: 2.37 s\n",
      "Wall time: 2.47 s\n"
     ]
    }
   ],
   "source": [
    "%%time\n",
    "\n",
    "from sklearn.ensemble import RandomForestClassifier\n",
    "\n",
    "clf = RandomForestClassifier(n_estimators=10)\n",
    "clf.fit(X_train, y_train)\n",
    "answer = clf.predict(X_test)"
   ]
  },
  {
   "cell_type": "code",
   "execution_count": 63,
   "metadata": {},
   "outputs": [
    {
     "data": {
      "text/plain": [
       "True     73413\n",
       "False    43464\n",
       "Name: Success, dtype: int64"
      ]
     },
     "execution_count": 63,
     "metadata": {},
     "output_type": "execute_result"
    }
   ],
   "source": [
    "compare_frame = pd.DataFrame(y_test)\n",
    "compare_frame['Predicted'] = answer\n",
    "compare_frame['Success'] = compare_frame.Predicted == compare_frame.is_bot\n",
    "\n",
    "compare_frame = compare_frame.reset_index(drop=True)\n",
    "compare_frame.Success.value_counts()"
   ]
  },
  {
   "cell_type": "code",
   "execution_count": 64,
   "metadata": {},
   "outputs": [
    {
     "name": "stdout",
     "output_type": "stream",
     "text": [
      "Ошибка первого рода (когда мы принимаем нормального пользователя за бота): 0.09390213643402893\n",
      "Ошибка второго рода (когда мы принимаем бота за нормального пользователя): 0.27797599185468486\n"
     ]
    }
   ],
   "source": [
    "first_kind_error = []\n",
    "second_kind_error = []\n",
    "for i, bot_prediction in enumerate(compare_frame.is_bot):\n",
    "    cur_first_kind_error = False\n",
    "    cur_second_kind_error = False\n",
    "    if compare_frame.Predicted[i] and not compare_frame.is_bot[i]:\n",
    "        cur_first_kind_error = True\n",
    "    if not compare_frame.Predicted[i] and compare_frame.is_bot[i]:\n",
    "        cur_second_kind_error = True\n",
    "    first_kind_error.append(cur_first_kind_error)\n",
    "    second_kind_error.append(cur_second_kind_error)  \n",
    "    \n",
    "compare_frame['first_kind_error'] = first_kind_error\n",
    "compare_frame['second_kind_error'] = second_kind_error\n",
    "\n",
    "print('Ошибка первого рода (когда мы принимаем нормального пользователя за бота): {}'.format(sum(first_kind_error) / y_test.shape[0]))\n",
    "print('Ошибка второго рода (когда мы принимаем бота за нормального пользователя): {}'.format(sum(second_kind_error) / y_test.shape[0]))"
   ]
  },
  {
   "cell_type": "code",
   "execution_count": 65,
   "metadata": {},
   "outputs": [
    {
     "name": "stdout",
     "output_type": "stream",
     "text": [
      "CPU times: user 15 s, sys: 52 ms, total: 15 s\n",
      "Wall time: 15.3 s\n"
     ]
    }
   ],
   "source": [
    "%%time\n",
    "\n",
    "from sklearn.ensemble import GradientBoostingClassifier\n",
    "\n",
    "clf = GradientBoostingClassifier(n_estimators=100, learning_rate=1.0, max_depth=1, random_state=0).fit(X_train, y_train)\n",
    "clf.fit(X_train, y_train)\n",
    "answer = clf.predict(X_test)"
   ]
  },
  {
   "cell_type": "code",
   "execution_count": 66,
   "metadata": {},
   "outputs": [
    {
     "data": {
      "text/plain": [
       "True     70488\n",
       "False    46389\n",
       "Name: Success, dtype: int64"
      ]
     },
     "execution_count": 66,
     "metadata": {},
     "output_type": "execute_result"
    }
   ],
   "source": [
    "compare_frame = pd.DataFrame(y_test)\n",
    "compare_frame['Predicted'] = answer\n",
    "compare_frame['Success'] = compare_frame.Predicted == compare_frame.is_bot\n",
    "\n",
    "compare_frame = compare_frame.reset_index(drop=True)\n",
    "compare_frame.Success.value_counts()"
   ]
  },
  {
   "cell_type": "code",
   "execution_count": 67,
   "metadata": {},
   "outputs": [
    {
     "name": "stdout",
     "output_type": "stream",
     "text": [
      "Ошибка первого рода (когда мы принимаем нормального пользователя за бота): 0.06988543511554883\n",
      "Ошибка второго рода (когда мы принимаем бота за нормального пользователя): 0.3270190028833731\n"
     ]
    }
   ],
   "source": [
    "first_kind_error = []\n",
    "second_kind_error = []\n",
    "for i, bot_prediction in enumerate(compare_frame.is_bot):\n",
    "    cur_first_kind_error = False\n",
    "    cur_second_kind_error = False\n",
    "    if compare_frame.Predicted[i] and not compare_frame.is_bot[i]:\n",
    "        cur_first_kind_error = True\n",
    "    if not compare_frame.Predicted[i] and compare_frame.is_bot[i]:\n",
    "        cur_second_kind_error = True\n",
    "    first_kind_error.append(cur_first_kind_error)\n",
    "    second_kind_error.append(cur_second_kind_error)  \n",
    "    \n",
    "compare_frame['first_kind_error'] = first_kind_error\n",
    "compare_frame['second_kind_error'] = second_kind_error\n",
    "\n",
    "print('Ошибка первого рода (когда мы принимаем нормального пользователя за бота): {}'.format(sum(first_kind_error) / y_test.shape[0]))\n",
    "print('Ошибка второго рода (когда мы принимаем бота за нормального пользователя): {}'.format(sum(second_kind_error) / y_test.shape[0]))"
   ]
  },
  {
   "cell_type": "code",
   "execution_count": null,
   "metadata": {
    "collapsed": true
   },
   "outputs": [],
   "source": []
  }
 ],
 "metadata": {
  "kernelspec": {
   "display_name": "Python 3",
   "language": "python",
   "name": "python3"
  },
  "language_info": {
   "codemirror_mode": {
    "name": "ipython",
    "version": 3
   },
   "file_extension": ".py",
   "mimetype": "text/x-python",
   "name": "python",
   "nbconvert_exporter": "python",
   "pygments_lexer": "ipython3",
   "version": "3.6.1"
  }
 },
 "nbformat": 4,
 "nbformat_minor": 2
}

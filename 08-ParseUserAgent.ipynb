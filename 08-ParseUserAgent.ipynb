{
 "cells": [
  {
   "cell_type": "code",
   "execution_count": 1,
   "metadata": {
    "scrolled": true
   },
   "outputs": [
    {
     "name": "stdout",
     "output_type": "stream",
     "text": [
      "Populating the interactive namespace from numpy and matplotlib\n"
     ]
    },
    {
     "name": "stderr",
     "output_type": "stream",
     "text": [
      "/home/levabd/anaconda3/lib/python3.6/site-packages/IPython/core/magics/pylab.py:161: UserWarning: pylab import has clobbered these variables: ['plt']\n",
      "`%matplotlib` prevents importing * from pylab and numpy\n",
      "  \"\\n`%matplotlib` prevents importing * from pylab and numpy\"\n"
     ]
    }
   ],
   "source": [
    "import pandas as pd\n",
    "import numpy as np\n",
    "\n",
    "import scipy.sparse\n",
    "import sklearn.feature_extraction\n",
    "\n",
    "import matplotlib.pylab as plt\n",
    "%matplotlib inline\n",
    "\n",
    "from tqdm import tqdm\n",
    "import platform\n",
    "\n",
    "pd.set_option(\"display.max_rows\", 10)\n",
    "pd.set_option('display.max_columns', 1100)\n",
    "\n",
    "import os\n",
    "\n",
    "%pylab inline\n",
    "warnings.filterwarnings('ignore')"
   ]
  },
  {
   "cell_type": "markdown",
   "metadata": {},
   "source": [
    "## Another User Agent representation\n",
    "\n",
    "### User Agent as tuple\n",
    "\n",
    "#### From Udger \n",
    "\n",
    "`UserAgent = {ua_family_code, ua_version, ua_class_code, device_class_code, os_family_code, os_code}`\n",
    "\n",
    "### Analise data"
   ]
  },
  {
   "cell_type": "code",
   "execution_count": 2,
   "metadata": {
    "scrolled": true
   },
   "outputs": [
    {
     "name": "stderr",
     "output_type": "stream",
     "text": [
      "100%|██████████| 30/30 [2:10:28<00:00, 277.81s/it]  \n"
     ]
    }
   ],
   "source": [
    "from lib.parsers.logParser import LogParser\n",
    "\n",
    "l_parser = LogParser(log_folder='Logs/')\n",
    "\n",
    "main_data, values_data, order_data = l_parser.parse_train_sample(0, 30, filter_crawlers=True, parse_ua=True)"
   ]
  },
  {
   "cell_type": "code",
   "execution_count": 4,
   "metadata": {
    "scrolled": true
   },
   "outputs": [
    {
     "data": {
      "text/plain": [
       "610747"
      ]
     },
     "execution_count": 4,
     "metadata": {},
     "output_type": "execute_result"
    }
   ],
   "source": [
    "len(main_data)"
   ]
  },
  {
   "cell_type": "code",
   "execution_count": 10,
   "metadata": {
    "scrolled": true
   },
   "outputs": [
    {
     "data": {
      "text/html": [
       "<div>\n",
       "<style>\n",
       "    .dataframe thead tr:only-child th {\n",
       "        text-align: right;\n",
       "    }\n",
       "\n",
       "    .dataframe thead th {\n",
       "        text-align: left;\n",
       "    }\n",
       "\n",
       "    .dataframe tbody tr th {\n",
       "        vertical-align: top;\n",
       "    }\n",
       "</style>\n",
       "<table border=\"1\" class=\"dataframe\">\n",
       "  <thead>\n",
       "    <tr style=\"text-align: right;\">\n",
       "      <th></th>\n",
       "      <th>device_class_code</th>\n",
       "      <th>ip</th>\n",
       "      <th>os_code</th>\n",
       "      <th>os_family_code</th>\n",
       "      <th>timestamp</th>\n",
       "      <th>ua_class_code</th>\n",
       "      <th>ua_family_code</th>\n",
       "      <th>ua_version</th>\n",
       "    </tr>\n",
       "  </thead>\n",
       "  <tbody>\n",
       "    <tr>\n",
       "      <th>0</th>\n",
       "      <td>desktop</td>\n",
       "      <td>95.181.252.91</td>\n",
       "      <td>windows_7</td>\n",
       "      <td>windows</td>\n",
       "      <td>1485900038</td>\n",
       "      <td>browser</td>\n",
       "      <td>chrome</td>\n",
       "      <td>55.0.2883.87</td>\n",
       "    </tr>\n",
       "    <tr>\n",
       "      <th>1</th>\n",
       "      <td>smartphone</td>\n",
       "      <td>31.148.3.19</td>\n",
       "      <td>android_4_4</td>\n",
       "      <td>android</td>\n",
       "      <td>1485900079</td>\n",
       "      <td>mobile_browser</td>\n",
       "      <td>chrome_mobile</td>\n",
       "      <td>49.0.2623.105</td>\n",
       "    </tr>\n",
       "    <tr>\n",
       "      <th>2</th>\n",
       "      <td>desktop</td>\n",
       "      <td>188.162.183.66</td>\n",
       "      <td>windows_7</td>\n",
       "      <td>windows</td>\n",
       "      <td>1485900103</td>\n",
       "      <td>browser</td>\n",
       "      <td>firefox</td>\n",
       "      <td>51.0</td>\n",
       "    </tr>\n",
       "    <tr>\n",
       "      <th>3</th>\n",
       "      <td>desktop</td>\n",
       "      <td>37.144.52.103</td>\n",
       "      <td>windows_xp</td>\n",
       "      <td>windows</td>\n",
       "      <td>1485900105</td>\n",
       "      <td>browser</td>\n",
       "      <td>ie</td>\n",
       "      <td>8.0</td>\n",
       "    </tr>\n",
       "    <tr>\n",
       "      <th>4</th>\n",
       "      <td>desktop</td>\n",
       "      <td>91.201.178.51</td>\n",
       "      <td>windows_8_1</td>\n",
       "      <td>windows</td>\n",
       "      <td>1485900108</td>\n",
       "      <td>browser</td>\n",
       "      <td>opera</td>\n",
       "      <td>40.0.2308.81</td>\n",
       "    </tr>\n",
       "    <tr>\n",
       "      <th>...</th>\n",
       "      <td>...</td>\n",
       "      <td>...</td>\n",
       "      <td>...</td>\n",
       "      <td>...</td>\n",
       "      <td>...</td>\n",
       "      <td>...</td>\n",
       "      <td>...</td>\n",
       "      <td>...</td>\n",
       "    </tr>\n",
       "    <tr>\n",
       "      <th>610742</th>\n",
       "      <td>desktop</td>\n",
       "      <td>141.0.12.169</td>\n",
       "      <td>windows_98</td>\n",
       "      <td>windows</td>\n",
       "      <td>1488585377</td>\n",
       "      <td>browser</td>\n",
       "      <td>opera</td>\n",
       "      <td>12.16</td>\n",
       "    </tr>\n",
       "    <tr>\n",
       "      <th>610743</th>\n",
       "      <td>desktop</td>\n",
       "      <td>131.253.24.147</td>\n",
       "      <td>windows_7</td>\n",
       "      <td>windows</td>\n",
       "      <td>1488585395</td>\n",
       "      <td>browser</td>\n",
       "      <td>ie</td>\n",
       "      <td>9.0</td>\n",
       "    </tr>\n",
       "    <tr>\n",
       "      <th>610744</th>\n",
       "      <td>desktop</td>\n",
       "      <td>176.195.122.100</td>\n",
       "      <td>windows_7</td>\n",
       "      <td>windows</td>\n",
       "      <td>1488585447</td>\n",
       "      <td>browser</td>\n",
       "      <td>ie</td>\n",
       "      <td>8.0</td>\n",
       "    </tr>\n",
       "    <tr>\n",
       "      <th>610745</th>\n",
       "      <td>unrecognized</td>\n",
       "      <td>163.172.24.77</td>\n",
       "      <td>None</td>\n",
       "      <td>None</td>\n",
       "      <td>1488585501</td>\n",
       "      <td>crawler</td>\n",
       "      <td>googlebot</td>\n",
       "      <td>2.1</td>\n",
       "    </tr>\n",
       "    <tr>\n",
       "      <th>610746</th>\n",
       "      <td>desktop</td>\n",
       "      <td>95.108.133.194</td>\n",
       "      <td>windows_8</td>\n",
       "      <td>windows</td>\n",
       "      <td>1488585571</td>\n",
       "      <td>browser</td>\n",
       "      <td>yandex-browser</td>\n",
       "      <td>17.1.0.2034</td>\n",
       "    </tr>\n",
       "  </tbody>\n",
       "</table>\n",
       "<p>610747 rows × 8 columns</p>\n",
       "</div>"
      ],
      "text/plain": [
       "       device_class_code               ip      os_code os_family_code  \\\n",
       "0                desktop    95.181.252.91    windows_7        windows   \n",
       "1             smartphone      31.148.3.19  android_4_4        android   \n",
       "2                desktop   188.162.183.66    windows_7        windows   \n",
       "3                desktop    37.144.52.103   windows_xp        windows   \n",
       "4                desktop    91.201.178.51  windows_8_1        windows   \n",
       "...                  ...              ...          ...            ...   \n",
       "610742           desktop     141.0.12.169   windows_98        windows   \n",
       "610743           desktop   131.253.24.147    windows_7        windows   \n",
       "610744           desktop  176.195.122.100    windows_7        windows   \n",
       "610745      unrecognized    163.172.24.77         None           None   \n",
       "610746           desktop   95.108.133.194    windows_8        windows   \n",
       "\n",
       "         timestamp   ua_class_code  ua_family_code     ua_version  \n",
       "0       1485900038         browser          chrome   55.0.2883.87  \n",
       "1       1485900079  mobile_browser   chrome_mobile  49.0.2623.105  \n",
       "2       1485900103         browser         firefox           51.0  \n",
       "3       1485900105         browser              ie            8.0  \n",
       "4       1485900108         browser           opera   40.0.2308.81  \n",
       "...            ...             ...             ...            ...  \n",
       "610742  1488585377         browser           opera          12.16  \n",
       "610743  1488585395         browser              ie            9.0  \n",
       "610744  1488585447         browser              ie            8.0  \n",
       "610745  1488585501         crawler       googlebot            2.1  \n",
       "610746  1488585571         browser  yandex-browser    17.1.0.2034  \n",
       "\n",
       "[610747 rows x 8 columns]"
      ]
     },
     "execution_count": 10,
     "metadata": {},
     "output_type": "execute_result"
    }
   ],
   "source": [
    "main_df = pd.DataFrame(main_data)\n",
    "\n",
    "main_df"
   ]
  },
  {
   "cell_type": "markdown",
   "metadata": {},
   "source": [
    "### Funny that row count on first 30 logs equal row count on first 10 logs without filtering\n",
    "\n",
    "## !60% logs data was from crowlers!"
   ]
  },
  {
   "cell_type": "code",
   "execution_count": 11,
   "metadata": {
    "scrolled": true
   },
   "outputs": [
    {
     "data": {
      "text/plain": [
       "['desktop',\n",
       " 'smartphone',\n",
       " 'unrecognized',\n",
       " 'tablet',\n",
       " 'smart_tv',\n",
       " 'game_console',\n",
       " 'pda',\n",
       " 'wearable_computer']"
      ]
     },
     "execution_count": 11,
     "metadata": {},
     "output_type": "execute_result"
    }
   ],
   "source": [
    "list_device_class_code = main_df.device_class_code.value_counts().index.tolist()\n",
    "\n",
    "list_device_class_code"
   ]
  },
  {
   "cell_type": "code",
   "execution_count": 17,
   "metadata": {
    "scrolled": true
   },
   "outputs": [
    {
     "name": "stdout",
     "output_type": "stream",
     "text": [
      "Device platform family count: 34\n"
     ]
    },
    {
     "data": {
      "text/plain": [
       "['windows',\n",
       " 'android',\n",
       " 'ios',\n",
       " 'linux',\n",
       " 'osx',\n",
       " 'jvm',\n",
       " 'macos',\n",
       " 'symbian_os',\n",
       " 'nokia_x',\n",
       " 'maemo',\n",
       " 'mre',\n",
       " 'mac_os',\n",
       " 'chrome_os',\n",
       " 'bsd',\n",
       " 'blackberry_os',\n",
       " 'solaris',\n",
       " 'bada',\n",
       " 'tizen',\n",
       " 'fire_os',\n",
       " 'nintendo_wii',\n",
       " 'live_area',\n",
       " 'amiga_os',\n",
       " 'firefox_os',\n",
       " 'beos',\n",
       " 'os_2',\n",
       " 'xrossmediabar',\n",
       " 'rim_os',\n",
       " 'risk_os',\n",
       " 'hp_ux',\n",
       " 'haiku_os',\n",
       " 'irix',\n",
       " 'syllable',\n",
       " 'inferno_os',\n",
       " 'palm_os']"
      ]
     },
     "execution_count": 17,
     "metadata": {},
     "output_type": "execute_result"
    }
   ],
   "source": [
    "list_os_family_code = main_df.os_family_code.value_counts().index.tolist()\n",
    "\n",
    "print(\"Device platform family count: {}\".format(len(list_os_family_code)))\n",
    "list_os_family_code"
   ]
  },
  {
   "cell_type": "code",
   "execution_count": 14,
   "metadata": {
    "scrolled": true
   },
   "outputs": [
    {
     "name": "stdout",
     "output_type": "stream",
     "text": [
      "Device platform count: 104\n"
     ]
    },
    {
     "data": {
      "text/plain": [
       "['windows_7',\n",
       " 'windows_xp',\n",
       " 'windows_10',\n",
       " 'android_4_4',\n",
       " 'ios_10',\n",
       " 'android_5_1',\n",
       " 'windows_8_1',\n",
       " 'android_6',\n",
       " 'android_5_0',\n",
       " 'android_4_2',\n",
       " 'ios_9',\n",
       " 'windows_8',\n",
       " 'linux',\n",
       " 'android_4_1',\n",
       " 'windows_vista',\n",
       " 'windows_98',\n",
       " 'android',\n",
       " 'windows',\n",
       " 'linux_ubuntu',\n",
       " 'jvm_microedition',\n",
       " 'ios_7',\n",
       " 'osx_10_10',\n",
       " 'ios_8',\n",
       " 'osx_10_11',\n",
       " 'android_4_3',\n",
       " 'android_2_3',\n",
       " 'android_4',\n",
       " 'macos_10_12',\n",
       " 'osx_10_6',\n",
       " 'windows_phone_8_1',\n",
       " 'windows_2000_server',\n",
       " 'windows_2000',\n",
       " 'osx_10_9',\n",
       " 'symbian_os',\n",
       " 'osx',\n",
       " 'osx_10_7',\n",
       " 'android_7_0',\n",
       " 'ios_5',\n",
       " 'windows_phone_8',\n",
       " 'nokia_x',\n",
       " 'android_2_2',\n",
       " 'jvm',\n",
       " 'ios_6',\n",
       " 'osx_10_8',\n",
       " 'linux_debian',\n",
       " 'windows_10_mobile',\n",
       " 'windows_95',\n",
       " 'osx_10_5',\n",
       " 'maemo',\n",
       " 'windows_nt',\n",
       " 'android_7_1',\n",
       " 'android_3',\n",
       " 'windows_me',\n",
       " 'mre',\n",
       " 'mac_os',\n",
       " 'windows_mobile',\n",
       " 'chrome_os',\n",
       " 'linux_fedora',\n",
       " 'ios',\n",
       " 'windows_phone_7',\n",
       " 'linux_suse',\n",
       " 'blackberry_os',\n",
       " 'solaris',\n",
       " 'bada',\n",
       " 'osx_10_4',\n",
       " 'linux_gentoo',\n",
       " 'freebsd',\n",
       " 'windows_rt',\n",
       " 'ios_4',\n",
       " 'openbsd',\n",
       " 'windows_ce',\n",
       " 'linux_redhat',\n",
       " 'linux_centos',\n",
       " 'linux_mint',\n",
       " 'tizen_2',\n",
       " 'linux_mandriva',\n",
       " 'windows_3',\n",
       " 'android_2',\n",
       " 'fire_os',\n",
       " 'orbis_os',\n",
       " 'wii_os',\n",
       " 'netbsd',\n",
       " 'live_area',\n",
       " 'amiga_os',\n",
       " 'msn_tv',\n",
       " 'linux_slackware',\n",
       " 'firefox_os',\n",
       " 'dragonflybsd',\n",
       " 'linux_mageia',\n",
       " 'blackberry_tableos_2',\n",
       " 'os_2_warp',\n",
       " 'beos',\n",
       " 'xrossmediabar',\n",
       " 'risk_os',\n",
       " 'hp_ux',\n",
       " 'linux_arch',\n",
       " 'android_1_6',\n",
       " 'syllable',\n",
       " 'irix',\n",
       " 'xbox_os',\n",
       " 'inferno_os',\n",
       " 'haiku_os',\n",
       " 'ios_3',\n",
       " 'palm_os']"
      ]
     },
     "execution_count": 14,
     "metadata": {},
     "output_type": "execute_result"
    }
   ],
   "source": [
    "list_os_code = main_df.os_code.value_counts().index.tolist()\n",
    "\n",
    "print(\"Device platform count: {}\".format(len(list_os_code)))\n",
    "list_os_code"
   ]
  },
  {
   "cell_type": "code",
   "execution_count": 18,
   "metadata": {
    "scrolled": true
   },
   "outputs": [
    {
     "name": "stdout",
     "output_type": "stream",
     "text": [
      "Device browser class count: 11\n"
     ]
    },
    {
     "data": {
      "text/plain": [
       "['browser',\n",
       " 'mobile_browser',\n",
       " 'crawler',\n",
       " 'unrecognized',\n",
       " 'library',\n",
       " 'email_client',\n",
       " 'offline_browser',\n",
       " 'validator',\n",
       " 'multimedia_player',\n",
       " 'feed_reader',\n",
       " 'wap_browser']"
      ]
     },
     "execution_count": 18,
     "metadata": {},
     "output_type": "execute_result"
    }
   ],
   "source": [
    "list_ua_class_code = main_df.ua_class_code.value_counts().index.tolist()\n",
    "\n",
    "print(\"Device browser class count: {}\".format(len(list_ua_class_code)))\n",
    "list_ua_class_code"
   ]
  },
  {
   "cell_type": "code",
   "execution_count": 19,
   "metadata": {},
   "outputs": [
    {
     "name": "stdout",
     "output_type": "stream",
     "text": [
      "Device browser family count: 255\n"
     ]
    },
    {
     "data": {
      "text/plain": [
       "['chrome',\n",
       " 'firefox',\n",
       " 'chrome_mobile',\n",
       " 'yandex-browser',\n",
       " 'ie',\n",
       " 'opera',\n",
       " 'safari_mobile',\n",
       " 'android_browser',\n",
       " 'googlebot',\n",
       " 'spbot',\n",
       " 'yandex-browser_mobile',\n",
       " 'mobile_samsung_browser',\n",
       " 'opera_mini',\n",
       " 'google_app',\n",
       " 'microsoft_edge',\n",
       " 'amigo',\n",
       " 'safari',\n",
       " 'opera_mobile',\n",
       " 'android_webview',\n",
       " 'uc_browser_mobile',\n",
       " 'ie_mobile',\n",
       " 'siteexplorer',\n",
       " 'sputnikbot',\n",
       " 'mj12bot',\n",
       " 'proximic',\n",
       " 'miui_rowser',\n",
       " 'iron',\n",
       " 'yandexbot',\n",
       " 'grapeshotcrawler',\n",
       " 'netestate_crawler',\n",
       " 'firefox_mobile',\n",
       " 'seamonkey',\n",
       " 'maxthon',\n",
       " 'outlook_2007',\n",
       " 'chromium',\n",
       " 'netscape_navigator',\n",
       " 'ccbot',\n",
       " 'browsex',\n",
       " 'aol_explorer',\n",
       " 'android_httpurlconnection',\n",
       " 'java',\n",
       " 'microsoft_edge_mobile',\n",
       " 'plukkie',\n",
       " 'phantomjs',\n",
       " 'apple_mail',\n",
       " 'outlook_2010',\n",
       " 'mozilla',\n",
       " 'uc_browser',\n",
       " 'yahoo',\n",
       " 'avast_safezone',\n",
       " 'chromodo',\n",
       " 'facebook_app',\n",
       " 'cliqzbot',\n",
       " 'nokia_web_browser',\n",
       " 'coast',\n",
       " 'lunascape',\n",
       " 'pale_moon',\n",
       " 'megaindex',\n",
       " 'genieo_web_filter',\n",
       " 'uptimebot',\n",
       " 'python-requests',\n",
       " 'cm_browser',\n",
       " 'flock',\n",
       " 'iceweasel',\n",
       " 'puffin',\n",
       " 'sleipnir',\n",
       " 'blackberry_browser',\n",
       " 'kkman',\n",
       " 'crazy_browser',\n",
       " 'opera_neon',\n",
       " 'vivaldi',\n",
       " 'ahrefsbot',\n",
       " 'okhttp',\n",
       " 'wordpress_pingback',\n",
       " 'admantx_platform_semantic_analyzer',\n",
       " 'arora',\n",
       " 'python-urllib',\n",
       " 'epiphany',\n",
       " 'dolphin',\n",
       " 'rambler_browser',\n",
       " 'avant_browser',\n",
       " 'netcraft_crawler',\n",
       " 'leikibot',\n",
       " 'go_http_package',\n",
       " 'safednsbot',\n",
       " 'rockmelt',\n",
       " 'apache-httpclient',\n",
       " 'konqueror',\n",
       " 'sogou_spider',\n",
       " 'bingbot',\n",
       " 'getintentcrawler',\n",
       " 'surveybot',\n",
       " 'baiduspider',\n",
       " 'sputnik_browser',\n",
       " 'wget',\n",
       " 'vkshare',\n",
       " 'firefox_minefield',\n",
       " 'lynx',\n",
       " 'second_life_viewer',\n",
       " 'indy_library',\n",
       " 'omniweb',\n",
       " 'coolnovo',\n",
       " 'powermarks',\n",
       " 'curl',\n",
       " 'mail-ru_bot',\n",
       " 'maxthon_mobile',\n",
       " 'tt_explorer',\n",
       " 'shiira',\n",
       " 'greenbrowser',\n",
       " 'samsung_tv_browser',\n",
       " 'pocketparser',\n",
       " 'swiftfox',\n",
       " 'feedparser',\n",
       " 'hotjava',\n",
       " 'windows_media_player',\n",
       " 'virustotal',\n",
       " 'camino',\n",
       " 'php',\n",
       " 'feedfetcher_google',\n",
       " 'waterfox',\n",
       " 'qqbrowser',\n",
       " 'virusdie_crawler',\n",
       " 'theworld_browser',\n",
       " 'maple_browser',\n",
       " 'deepnet_explorer',\n",
       " 'coc_coc',\n",
       " 'cyberfox',\n",
       " 'surdotlybot',\n",
       " 'wyzo',\n",
       " 'firefox_namoroka',\n",
       " 'yoozbot',\n",
       " 'w3c_css_validator',\n",
       " 'netfront',\n",
       " 'acoo_browser',\n",
       " 'icab',\n",
       " 'firefox_shiretoko',\n",
       " 'off_by_one',\n",
       " 'ps4_web_browser',\n",
       " 'apache_synapse',\n",
       " 'cheshire',\n",
       " 'winhttp',\n",
       " 'uzard_web',\n",
       " 'johnhew_crawler',\n",
       " 'prlog',\n",
       " 'stainless',\n",
       " 'qqbrowser_mobile',\n",
       " 'k-meleon',\n",
       " 'firefox_bonecho',\n",
       " 'kazehakase',\n",
       " 'sitekiosk',\n",
       " 'elinks',\n",
       " 'orca',\n",
       " 'facebookbot',\n",
       " 'sylera',\n",
       " 'amigo_mobile',\n",
       " 'browzar',\n",
       " 'mnogosearch',\n",
       " 'ps_vita_browser',\n",
       " 'scrapy',\n",
       " 'lobo',\n",
       " 'linkdexbot',\n",
       " 'firefox_granparadiso',\n",
       " 'silk',\n",
       " 'baidu_mobile_browser',\n",
       " 'w3c_validator',\n",
       " 'scrapy_redis',\n",
       " 'cometbird',\n",
       " 'tenfourfox',\n",
       " 'sunrise',\n",
       " 'thinglink_imagebot',\n",
       " 'obot',\n",
       " 'fluid',\n",
       " 'metauri',\n",
       " 'rekonq',\n",
       " 'spyonweb',\n",
       " 'iceape',\n",
       " 'galeon',\n",
       " 'links',\n",
       " 'easybib_autocite',\n",
       " 'comodo_dragon',\n",
       " 'weltweitimnetz_browser',\n",
       " 'aloha_browser',\n",
       " 'microb',\n",
       " 'avira_crawler',\n",
       " 'steeler',\n",
       " 'qupzilla',\n",
       " 'pulsepoint_xt3_web_scraper',\n",
       " 'icecat',\n",
       " 'lg_phantom_browser',\n",
       " 'lwp::simple',\n",
       " 'libwww-perl',\n",
       " 'kapiko',\n",
       " 'comodospider',\n",
       " 'girafabot',\n",
       " 'superbird',\n",
       " 'poe-component-client-http',\n",
       " 'openwave_mobile_browser',\n",
       " 'avira_scout',\n",
       " 'bolt',\n",
       " 'shredder',\n",
       " 'w3m',\n",
       " 'firebird',\n",
       " 'kaspersky_bot',\n",
       " 'android_download_manager',\n",
       " 'wkhtmltopdf',\n",
       " 'salesintelligent',\n",
       " 'midori',\n",
       " 'simplepie',\n",
       " 'xenu',\n",
       " 'mobile_sputnik_browser',\n",
       " 'ncsa_mosaic',\n",
       " 'irider',\n",
       " 'mxnitro',\n",
       " 'ant_fresco',\n",
       " 'slimbrowser',\n",
       " 'semc_browser',\n",
       " 'joc_web_spider',\n",
       " 'iron_mobile',\n",
       " 'winwap',\n",
       " 'blazer',\n",
       " 'omea_reader',\n",
       " 'maxpointcrawler',\n",
       " '2345_explorer',\n",
       " 'seznambot',\n",
       " 'ibrowse',\n",
       " 'magpie-crawler',\n",
       " 'yesupbot',\n",
       " 'netbox',\n",
       " 'uzbl',\n",
       " 'crawler4j',\n",
       " 'leechcraft',\n",
       " 'startmebot',\n",
       " 'espial_tv_browser',\n",
       " 'brandprotect_bot',\n",
       " 'abrowse',\n",
       " 'barca',\n",
       " 'cpg_dragonfly_rss_module',\n",
       " 'quick_browser',\n",
       " 'webcopier',\n",
       " 'ask_jeeves-teoma',\n",
       " 'duckduckgo_app',\n",
       " 'linqiabot',\n",
       " 'prism',\n",
       " 'my_internet_browser',\n",
       " 'wappalyzer',\n",
       " 'flipboardbot',\n",
       " 'lolifox',\n",
       " 'netnewswire',\n",
       " 'cat_explorador',\n",
       " 'sogou_explorer',\n",
       " 'google_wireless_transcoder',\n",
       " 'deskbrowse',\n",
       " 'charon',\n",
       " 'huaweisymantecspider',\n",
       " 'coccocbot']"
      ]
     },
     "execution_count": 19,
     "metadata": {},
     "output_type": "execute_result"
    }
   ],
   "source": [
    "list_ua_family_code = main_df.ua_family_code.value_counts().index.tolist()\n",
    "\n",
    "print(\"Device browser family count: {}\".format(len(list_ua_family_code)))\n",
    "list_ua_family_code"
   ]
  },
  {
   "cell_type": "markdown",
   "metadata": {},
   "source": [
    "### As we see not all legal crawler was filtered. So we need new filter"
   ]
  },
  {
   "cell_type": "code",
   "execution_count": 5,
   "metadata": {},
   "outputs": [
    {
     "name": "stdout",
     "output_type": "stream",
     "text": [
      "Device browser version count: 3980\n"
     ]
    },
    {
     "data": {
      "text/plain": [
       "['chrome56.0.2924.87',\n",
       " 'chrome_mobile55.0.2883.91',\n",
       " 'firefox7.0.1',\n",
       " 'firefox51.0',\n",
       " 'safari_mobile10.0',\n",
       " 'yandex-browser17.1.0.2034',\n",
       " 'chrome55.0.2883.87',\n",
       " 'chrome_mobile56.0.2924.87',\n",
       " 'ie11.0',\n",
       " 'ie6.0',\n",
       " 'android_browser4.0',\n",
       " 'chrome49.0.2623.112',\n",
       " 'yandex-browser17.1.1.1003',\n",
       " 'opera43.0.2442.806',\n",
       " 'firefox43.0',\n",
       " 'firefox38.0',\n",
       " 'safari_mobile9.0',\n",
       " 'ie10.0',\n",
       " 'ie8.0',\n",
       " 'opera42.0.2393.517',\n",
       " 'yandex-browser17.1.1.1004',\n",
       " 'ie9.0',\n",
       " 'opera43.0.2442.991',\n",
       " 'opera12.16',\n",
       " 'chrome_mobile30.0.0.0',\n",
       " 'microsoft_edge14.14393',\n",
       " 'chrome_mobile54.0.2840.85',\n",
       " 'android_webview',\n",
       " 'chrome_mobile50.0.2661.89',\n",
       " 'mobile_samsung_browser4.0',\n",
       " 'opera36.0.2130.80',\n",
       " 'ie7.0',\n",
       " 'chrome_mobile52.0.2743.98',\n",
       " 'chrome_mobile56.0.2924.79',\n",
       " 'chrome_mobile51.0.2704.81',\n",
       " 'safari_mobile7.0',\n",
       " 'firefox47.0',\n",
       " 'chrome_mobile53.0.2785.124',\n",
       " 'firefox44.0',\n",
       " 'firefox29.0',\n",
       " 'chrome47.0.2526.111',\n",
       " 'chrome48.0.2564.109',\n",
       " 'chrome_mobile43.0.2357.93',\n",
       " 'firefox40.1',\n",
       " 'firefox50.0',\n",
       " 'amigo54.0.2840.189',\n",
       " 'safari_mobile8.0',\n",
       " 'chrome48.0.2564.97',\n",
       " 'chrome48.0.2564.116',\n",
       " 'chrome_mobile28.0.1500.94',\n",
       " 'mobile_samsung_browser3.3',\n",
       " 'yandex-browser17.1.0.2033',\n",
       " 'chrome33.0.1750.154',\n",
       " 'yandex-browser16.11.1.673',\n",
       " 'chrome_mobile40.0.2214.109',\n",
       " 'ie_mobile11.0',\n",
       " 'mobile_samsung_browser3.5',\n",
       " 'chrome_mobile46.0.2490.76',\n",
       " 'chrome53.0.2785.143',\n",
       " 'yandex-browser_mobile17.1.0.412.00',\n",
       " 'yandex-browser17.1.1.1005',\n",
       " 'chrome_mobile54.0.2840.68',\n",
       " 'chrome31.0.1650.57',\n",
       " 'chrome_mobile45.0.2454.94',\n",
       " 'chrome31.0.1650.63',\n",
       " 'firefox48.0',\n",
       " 'chrome_mobile47.0.2526.83',\n",
       " 'chrome51.0.2704.103',\n",
       " 'firefox25.0',\n",
       " 'yandex-browser17.3.0.1785',\n",
       " 'opera12.17',\n",
       " 'firefox49.0',\n",
       " 'chrome_mobile39.0.0.0',\n",
       " 'chrome48.0.2564.103',\n",
       " 'chrome52.0.2743.116',\n",
       " 'opera43.0.2442.1144',\n",
       " 'firefox3.6',\n",
       " 'firefox39.0',\n",
       " 'amigo54.0.2840.191',\n",
       " 'yandex-browser13.10.1500.9323',\n",
       " 'opera38.0.2220.41',\n",
       " 'chrome41.0.2228.0',\n",
       " 'yandex-browser15.9.2403.3043',\n",
       " 'yandex-browser17.1.0.2036',\n",
       " 'safari10.0.3',\n",
       " 'firefox21.0',\n",
       " 'uc_browser_mobile11.2.0.915',\n",
       " 'firefox34.0',\n",
       " 'chrome_mobile36.0.1985.135',\n",
       " 'firefox45.0',\n",
       " 'chrome12.0.742.100',\n",
       " 'microsoft_edge13.10586',\n",
       " 'chrome56.0.2924.76',\n",
       " 'opera40.0.2308.81',\n",
       " 'android_browser',\n",
       " 'chrome53.0.2785.116',\n",
       " 'chrome_mobile38.0.2125.102',\n",
       " 'yandex-browser_mobile17.1.0.412.01',\n",
       " 'chrome51.0.2704.106',\n",
       " 'chrome_mobile49.0.2623.105',\n",
       " 'chrome54.0.2840.99',\n",
       " 'chrome_mobile35.0.1916.141',\n",
       " 'firefox46.0',\n",
       " 'opera42.0.2393.94',\n",
       " 'yandex-browser16.9.1.1192',\n",
       " 'yandex-browser16.2.0.3539',\n",
       " 'ie2.0',\n",
       " 'chrome39.0.2171.95',\n",
       " 'yandex-browser15.12.1.6475',\n",
       " 'chrome56.0.1750.154',\n",
       " 'chrome42.0.2311.90',\n",
       " 'opera8.01',\n",
       " 'opera34.0.2036.50',\n",
       " 'firefox35.0',\n",
       " 'iron52.0.2750.0',\n",
       " 'opera35.0.2066.37',\n",
       " 'outlook_2007',\n",
       " 'chrome_mobile39.0.2171.93',\n",
       " 'safari_mobile',\n",
       " 'chrome_mobile18.0.1025.166',\n",
       " 'chrome_mobile49.0.2623.91',\n",
       " 'opera_mobile10.00',\n",
       " 'amigo47.5.2526.115',\n",
       " 'chrome_mobile55.0.2883.79',\n",
       " 'chrome_mobile34.0.1847.114',\n",
       " 'chrome55.0.2883.95',\n",
       " 'yandex-browser_mobile16.11.0.649.00',\n",
       " 'mobile_samsung_browser2.0',\n",
       " 'safari9.1.1',\n",
       " 'safari_mobile5.1',\n",
       " 'yandex-browser16.6.1.30117',\n",
       " 'firefox15.0.1',\n",
       " 'chrome_mobile48.0.2564.95',\n",
       " 'safari8.0',\n",
       " 'chrome50.0.2661.75',\n",
       " 'chrome46.0.2490.80',\n",
       " 'firefox3.0.1',\n",
       " 'opera12.15',\n",
       " 'browsex2.0.0',\n",
       " 'netscape_navigator8.0.4',\n",
       " 'opera12.18',\n",
       " 'chrome45.0.2454.101',\n",
       " 'safari_mobile6.0',\n",
       " 'opera7.60',\n",
       " 'chrome_mobile43.0.2357.121',\n",
       " 'ie_mobile10.0',\n",
       " 'opera_mobile10.1',\n",
       " 'chrome_mobile37.0.0.0',\n",
       " 'opera_mini21.0.2254',\n",
       " 'safari10.0.2',\n",
       " 'chrome_mobile42.0.2311.111',\n",
       " 'yandex-browser_mobile17.1.0.2148.11',\n",
       " 'opera_mini4.5.40312',\n",
       " 'firefox5.0',\n",
       " 'opera_mobile37.0.2192.105088',\n",
       " 'miui_rowser2.1.1',\n",
       " 'opera_mobile10.5',\n",
       " 'firefox12.0',\n",
       " 'opera12.14',\n",
       " 'android_browser4.2',\n",
       " 'opera_mobile42.2.2246.112987',\n",
       " 'uc_browser_mobile11.1.5.890',\n",
       " 'miui_rowser8.2.15',\n",
       " 'yandex-browser_mobile17.1.0.2148.10',\n",
       " 'yandex-browser16.11.0.2680',\n",
       " 'yandex-browser_mobile17.1.1.359.00',\n",
       " 'chrome_mobile31.0.1650.59',\n",
       " 'chrome11.0.696.34',\n",
       " 'chrome50.0.2661.102',\n",
       " 'opera_mobile11.00',\n",
       " 'amigo50.0.2661.240',\n",
       " 'chrome43.0.2357.134',\n",
       " 'amigo28.1.1500.75',\n",
       " 'chrome41.0.2227.0',\n",
       " 'apple_mail',\n",
       " 'opera_mobile14.0.123.123',\n",
       " 'microsoft_edge_mobile14.14393',\n",
       " 'chrome54.0.2840.71',\n",
       " 'mobile_samsung_browser2.1',\n",
       " 'mobile_samsung_browser4.2',\n",
       " 'outlook_2010',\n",
       " 'chrome_mobile33.0.0.0',\n",
       " 'chrome_mobile30.0.1599.103',\n",
       " 'opera_mini7.6.40234',\n",
       " 'chrome_mobile34.0.1847.118',\n",
       " 'firefox_mobile51.0',\n",
       " 'firefox3.6.8',\n",
       " 'safari9.1.3',\n",
       " 'opera42.0.2393.137',\n",
       " 'firefox30.0',\n",
       " 'chrome47.0.2526.106',\n",
       " 'uc_browser_mobile11.0.5.850',\n",
       " 'chrome27.0.1453',\n",
       " 'opera_mini8.0.35626',\n",
       " 'firefox32.0',\n",
       " 'amigo47.5.2526.111',\n",
       " 'chrome43.0.2357.172',\n",
       " 'chrome47.0.2526.80',\n",
       " 'opera18.0.1284.63',\n",
       " 'amigo44.4.2403.3',\n",
       " 'miui_rowser8.1.4',\n",
       " 'chrome_mobile40.0.2214.114',\n",
       " 'yandex-browser_mobile17.1.1.359.01',\n",
       " 'ie5.5',\n",
       " 'opera36.0.2130.32',\n",
       " 'opera41.0.2353.69',\n",
       " 'yandex-browser16.11.1.676',\n",
       " 'chrome55.0.2883.75',\n",
       " 'chrome_mobile40.0.2214.89',\n",
       " 'firefox40.0',\n",
       " 'yandex-browser_mobile16.11.0.649.01',\n",
       " 'opera18.0.1284.49',\n",
       " 'opera9.00',\n",
       " 'safari10.0',\n",
       " 'chrome37.0.2062.120',\n",
       " 'chrome_mobile16.0.912.75',\n",
       " 'chrome_mobile26.0.1410.58',\n",
       " 'yandex-browser1.0.1084.5402',\n",
       " 'opera40.0.2308.62',\n",
       " 'chrome37.0.2062.103',\n",
       " 'firefox27.0',\n",
       " 'safari10.0.1',\n",
       " 'firefox3.0.5',\n",
       " 'opera_mobile42.3.2246.113338',\n",
       " 'opera12.11',\n",
       " 'chrome58.0.3004.3',\n",
       " 'yandex-browser_mobile17.1.1.1119.10',\n",
       " 'chrome_mobile47.0.2526.107',\n",
       " 'facebook_app',\n",
       " 'chrome42.0.2311.152',\n",
       " 'chrome52.0.2743.82',\n",
       " 'java1.6.0_04',\n",
       " 'chrome_mobile30.0.1599.82',\n",
       " 'chromium12.0.742.112',\n",
       " 'opera39.0.2256.71',\n",
       " 'chrome_mobile27.0.1453',\n",
       " 'opera_mobile42.4.2246.113571',\n",
       " 'microsoft_edge12.10240',\n",
       " 'chrome26.0.1410.63',\n",
       " 'yandex-browser_mobile17.1.1.1119.11',\n",
       " 'aol_explorer1.1',\n",
       " 'yandex-browser15.2.2214.3645',\n",
       " 'yandex-browser_mobile14.10.2062.12160.00',\n",
       " 'chrome39.0.2171.99',\n",
       " 'yandex-browser15.10.2454.3865',\n",
       " 'firefox42.0',\n",
       " 'firefox41.0',\n",
       " 'chrome_mobile44.0.2403.133',\n",
       " 'firefox14.0.1',\n",
       " 'opera26.0.1656.60',\n",
       " 'firefox23.0',\n",
       " 'firefox24.0',\n",
       " 'opera_mini20.0.2254',\n",
       " 'uc_browser_mobile11.0.8.855',\n",
       " 'chrome_mobile35.0.1916.122',\n",
       " 'opera_mobile11.10',\n",
       " 'firefox26.0',\n",
       " 'chrome_mobile38.0.0.0',\n",
       " 'uc_browser_mobile10.10.8.820',\n",
       " 'firefox33.0',\n",
       " 'chrome40.0.2214.115',\n",
       " 'opera_mobile12.00',\n",
       " 'opera_mini4.5.40380',\n",
       " 'uc_browser_mobile',\n",
       " 'opera_mini22.0.2254',\n",
       " 'android_browser4.4.2',\n",
       " 'firefox2.0.0.13',\n",
       " 'opera39.0.2256.48',\n",
       " 'chrome58.0.3018.3',\n",
       " 'firefox_mobile50.0',\n",
       " 'opera12.02',\n",
       " 'chrome43.0.2357.146',\n",
       " 'firefox18.0',\n",
       " 'chrome24.0.1312.70',\n",
       " 'firefox',\n",
       " 'opera37.0.2178.43',\n",
       " 'safari6.1.6',\n",
       " 'coast5.04.110603',\n",
       " 'safari5.0',\n",
       " 'chrome22.0.1229.79',\n",
       " 'mozillarv:9.0',\n",
       " 'yandex-browser_mobile14.5.1847.18432.00',\n",
       " 'opera41.0.2353.56',\n",
       " 'chrome44.0.2403.125',\n",
       " 'chrome_mobile18.0.1025.308',\n",
       " 'yandex-browser_mobile16.6.0.8810.00',\n",
       " 'chrome_mobile33.0.1750.166',\n",
       " 'chrome24.0.1312.71',\n",
       " 'opera36.0.2130.65',\n",
       " 'safari5.1.9',\n",
       " 'opera12.12',\n",
       " 'firefox31.0',\n",
       " 'opera9.0',\n",
       " 'mobile_samsung_browser5.0',\n",
       " 'opera7.11',\n",
       " 'safari9.1.2',\n",
       " 'yandex-browser_mobile16.2.1.7529.00',\n",
       " 'yandex-browser_mobile15.6.2311.5718.01',\n",
       " 'chrome20.0.1132.57',\n",
       " 'chrome39.0.2171.71',\n",
       " 'yandex-browser16.9.1.1131',\n",
       " 'android_browser4.1',\n",
       " 'opera_mobile41.2.2246.111806',\n",
       " 'chrome49.0.2623.87',\n",
       " 'safari5.1.7',\n",
       " 'ie_mobile9.0',\n",
       " 'yandex-browser_mobile16.7.0.2777.00',\n",
       " 'cm_browser',\n",
       " 'yandex-browser_mobile17.1.1.356.00',\n",
       " 'opera_mobile12.10',\n",
       " 'firefox3.6.13',\n",
       " 'firefox52.0',\n",
       " 'yandex-browser_mobile13.9.1500.3524',\n",
       " 'yandex-browser_mobile16.10.2.1487.00',\n",
       " 'yandex-browser17.3.0.1196',\n",
       " 'android_browser4.2.2',\n",
       " 'firefox13.0.1',\n",
       " 'firefox15.0',\n",
       " 'chrome34.0.1847.137',\n",
       " 'chrome49.0.2623.110',\n",
       " 'chrome48.0.2564.98',\n",
       " 'chrome20.0.1132.47',\n",
       " 'chrome34.0.1847.116',\n",
       " 'opera_mobile42.1.2246.112788',\n",
       " 'yandex-browser14.12.2125.10034',\n",
       " 'opera30.0.1835.88',\n",
       " 'firefox28.0',\n",
       " 'chrome46.0.2490.86',\n",
       " 'opera_mini7.5.35613',\n",
       " 'chrome30.0.1599.66',\n",
       " 'chrome36.0.1985.125',\n",
       " 'chrome58.0.3013.3',\n",
       " 'yandex-browser_mobile16.9.1.1616.00',\n",
       " 'blackberry_browser',\n",
       " 'firefox16.0',\n",
       " 'opera7.54',\n",
       " 'yandex-browser17.3.1.410',\n",
       " 'firefox3.5.5',\n",
       " 'uc_browser_mobile11.1.0.882',\n",
       " 'chrome34.0.1847.131',\n",
       " 'chrome_mobile37.0.2062.117',\n",
       " 'java1.4.1_04',\n",
       " 'chrome58.0.3000.4',\n",
       " 'yandex-browser16.10.1.1114',\n",
       " 'opera37.0.2178.32',\n",
       " 'chrome38.0.2125.111',\n",
       " 'firefox19.0',\n",
       " 'firefox22.0',\n",
       " 'firefox37.0',\n",
       " 'opera_neon1.0.2459.0',\n",
       " 'opera41.0.2353.46',\n",
       " 'opera38.0.2220.31',\n",
       " 'chrome1.0.154.36',\n",
       " 'opera_mobile22.0.1485.80265',\n",
       " 'mobile_samsung_browser3.2',\n",
       " 'firefox3.5',\n",
       " 'yandex-browser_mobile17.3.0.1781.11',\n",
       " 'opera_mini7.5.33361',\n",
       " 'yandex-browser13.12.1599.13014',\n",
       " 'chrome28.0.1500.71',\n",
       " 'maxthon',\n",
       " 'yandex-browser_mobile15.6.2311.6088.00',\n",
       " 'chrome55.0.2882.4',\n",
       " 'yandex-browser_mobile16.2.1.7529.01',\n",
       " 'chrome_mobile33.0.1750.136',\n",
       " 'opera12.01',\n",
       " 'opera42.0.2393.85',\n",
       " 'uc_browser_mobile10.8.0.718',\n",
       " 'yandex-browser1.5.1104.222',\n",
       " 'yandex-browser15.7.2357.2877',\n",
       " 'chrome30.0.1599.17',\n",
       " 'chrome45.0.2454.85',\n",
       " 'chrome_mobile537.306',\n",
       " 'opera20.0.1387.64',\n",
       " 'chrome54.0.2840.87',\n",
       " 'opera12.13',\n",
       " 'opera_mobile30.0.1856.93524',\n",
       " 'opera_mini7.5.31657',\n",
       " 'yandex-browser14.10.2062.12521',\n",
       " 'opera8.50',\n",
       " 'yandex-browser_mobile16.6.0.9655.00',\n",
       " 'yandex-browser_mobile15.4.2272.3842.01',\n",
       " 'uc_browser6.0.1308.1016',\n",
       " 'opera_mini18.0.2254',\n",
       " 'chrome51.0.2704.114',\n",
       " 'opera24.0.1558.53',\n",
       " 'chrome48.0.2564.82',\n",
       " 'amigo28.0.1500.74',\n",
       " 'uc_browser_mobile9.9.2.467',\n",
       " 'opera_mobile42.0.2246.112628',\n",
       " 'opera_mini4.2.14912',\n",
       " 'chrome26.0.1410.43',\n",
       " 'chrome23.0.1271.64',\n",
       " 'aol_explorer9.0',\n",
       " 'chromium55.0.2883.87',\n",
       " 'opera_mini6.5.29194',\n",
       " 'yandex-browser15.10.2454.3658',\n",
       " 'safari6.2.8',\n",
       " 'opera11.62',\n",
       " 'chrome51.0.2704.84',\n",
       " 'yandex-browser_mobile16.2.2.7988.00',\n",
       " 'opera10.61',\n",
       " 'maxthon4.4.6.1000',\n",
       " 'yandex-browser_mobile16.6.0.8810.01',\n",
       " 'yandex-browser_mobile15.10.2454.3908.00',\n",
       " 'chrome44.0.2403.155',\n",
       " 'opera7.02',\n",
       " 'opera7.0',\n",
       " 'chrome41.0.2220.0',\n",
       " 'uc_browser_mobile10.1.0.527',\n",
       " 'opera_mini14.0.0.104835',\n",
       " 'chromodo36.1.1.21',\n",
       " 'opera_mini4.5.33867',\n",
       " 'chrome_mobile53.0.2785.109',\n",
       " 'opera9.63',\n",
       " 'firefox17.0',\n",
       " 'chrome43.0.2357.174',\n",
       " 'chrome_mobile19.0.1084.60',\n",
       " 'chrome43.0.2357.167',\n",
       " 'yandex-browser16.10.0.2564',\n",
       " 'puffin4.8.0.2965',\n",
       " 'firefox2.0.0.2',\n",
       " 'opera_mini7.1.32444',\n",
       " 'chrome_mobile41.0.2272.96',\n",
       " 'chrome44.0.2403.157',\n",
       " 'chrome35.0.1916.153',\n",
       " 'chrome47.0.2526.73',\n",
       " 'chrome8.0.552.224',\n",
       " 'opera12.10',\n",
       " 'avant_browser',\n",
       " 'firefox36.0',\n",
       " 'chrome51.0.2704.109',\n",
       " 'chrome43.0.2357.135',\n",
       " 'yandex-browser_mobile16.9.1.1616.01',\n",
       " 'opera_mobile12.02',\n",
       " 'chrome37.0.2049.0',\n",
       " 'chrome23.0.1271.97',\n",
       " 'opera32.0.1948.69',\n",
       " 'opera_mini6.0.24093',\n",
       " 'chrome51.0.2704.118',\n",
       " 'chrome57.0.2987.19',\n",
       " 'opera31.0.1889.174',\n",
       " 'chrome27.0.1453.90',\n",
       " 'firefox11.0',\n",
       " 'opera_mobile35.0.2070.100283',\n",
       " 'yandex-browser_mobile17.1.1.1072.11',\n",
       " 'opera_mobile36.2.2126.102826',\n",
       " 'opera_mini5.1.22296',\n",
       " 'opera6.0',\n",
       " 'chrome31.0.1650.59',\n",
       " 'ie5.0',\n",
       " 'opera_mini6.5.26560',\n",
       " 'chrome_mobile54.0.2840.91',\n",
       " 'amigo17.0.963.47',\n",
       " 'opera43.0.2442.686',\n",
       " 'chrome56.0.2906.0',\n",
       " 'chrome46.0.2490.71',\n",
       " 'opera_mini4.4.28684',\n",
       " 'opera35.0.2066.92',\n",
       " 'opera11.60',\n",
       " 'chrome30.0.1599.101',\n",
       " 'opera_mini7.5.32193',\n",
       " 'chromium25.0.1349.2',\n",
       " 'chrome_mobile42.0.2311.154',\n",
       " 'yandex-browser16.3.0.7146',\n",
       " 'opera32.0.1948.25',\n",
       " 'opera12.00',\n",
       " 'yandex-browser17.1.0.2186',\n",
       " 'chrome32.0.1667.0',\n",
       " 'ie7.0b',\n",
       " 'chrome40.0.2214.93',\n",
       " 'opera_mini7.0.30567',\n",
       " 'opera34.0.2036.25',\n",
       " 'opera9.01',\n",
       " 'yandex-browser_mobile16.7.0.2777.01',\n",
       " 'opera_mobile20.0.1396.72047',\n",
       " 'yandex-browser_mobile16.9.0.1424.00',\n",
       " 'chrome53.0.2785.34',\n",
       " 'yandex-browser16.10.1.1116',\n",
       " 'chrome41.0.2272.168',\n",
       " 'opera8.00',\n",
       " 'safari_mobile4.0.4',\n",
       " 'opera_mini5.1.21214',\n",
       " 'yandex-browser_mobile1.20.1364.172',\n",
       " 'chrome55.18.2883.75',\n",
       " 'yandex-browser16.9.1.1221',\n",
       " 'yandex-browser_mobile15.6.2311.6088.01',\n",
       " 'opera_mobile41.3.2246.112432',\n",
       " 'chrome_mobile49.0.0.0',\n",
       " 'yandex-browser_mobile15.10.2454.3845.00',\n",
       " 'yandex-browser_mobile14.10.2062.12160.01',\n",
       " 'firefox3.6.3',\n",
       " 'chrome5.0.375.99',\n",
       " 'opera_mobile18.0.1290.67495',\n",
       " 'opera_mini9.0.1829',\n",
       " 'chrome_mobile34.0.1847.76',\n",
       " 'opera_mini5.1.21051',\n",
       " 'opera_mini13.0.2036',\n",
       " 'opera6.01',\n",
       " 'opera_mini4.4.26916',\n",
       " 'opera38.0.2220.29',\n",
       " 'uc_browser_mobile10.10.0.796',\n",
       " 'opera11.00',\n",
       " 'chrome41.0.2272.118',\n",
       " 'amigo28.0.1500.75',\n",
       " 'chrome_mobile25.0.1364.169',\n",
       " 'safari_mobile5.0.2',\n",
       " 'yandex-browser_mobile16.10.0.1326.00',\n",
       " 'chrome40.0.2214.85',\n",
       " 'chrome35.0.1916.114',\n",
       " 'uc_browser6.1.2015.1007',\n",
       " 'chrome_mobile53.0.2785.97',\n",
       " 'yandex-browser14.10.2062.12061',\n",
       " 'chrome23.0.1271.95',\n",
       " 'iron29.0.1600.1',\n",
       " 'opera_mini4.4.39001',\n",
       " 'opera_mini20.1.2254',\n",
       " 'chrome13.0.782.112',\n",
       " 'opera_mobile21.0.2254.111920',\n",
       " 'opera_mini5.0.22234',\n",
       " 'opera_mini11.0.1912',\n",
       " 'opera37.0.2178.54',\n",
       " 'opera_mini4.2.20457',\n",
       " 'chrome48.0.2564.95',\n",
       " 'opera_mobile25.0.1619.84037',\n",
       " 'chrome50.0.2661.94',\n",
       " 'opera_mini7.7.40394',\n",
       " 'ie5.01',\n",
       " 'maxthon4.4.8.2000',\n",
       " 'opera9.64',\n",
       " 'opera_mini19.0.2254',\n",
       " 'opera_mini5.0.20524',\n",
       " 'opera17.0.1241.53',\n",
       " 'opera11.64',\n",
       " 'uc_browser_mobile11.0.0.828',\n",
       " 'opera_mini7.0.31438',\n",
       " 'opera40.0.2308.90',\n",
       " 'opera_mini4.1.15082',\n",
       " 'crazy_browser1.0.5',\n",
       " 'chrome54.0.2840.59',\n",
       " 'firefox3.5.6',\n",
       " 'opera_mini7.0.29952',\n",
       " 'yandex-browser_mobile17.1.1.356.01',\n",
       " 'maxthon4.9.3.1000',\n",
       " 'opera11.50',\n",
       " 'opera_mini7.0.29915',\n",
       " 'opera_mini4.3.13057',\n",
       " 'java1.8.0_121',\n",
       " 'opera_mini6.5.26955',\n",
       " 'firefox3.5.7',\n",
       " 'opera_mini6.5.26571',\n",
       " 'yandex-browser_mobile16.10.2.1487.01',\n",
       " 'safari9.0.3',\n",
       " 'firefox5.0.1',\n",
       " 'chrome39.0.2171.96',\n",
       " 'firefox_mobile40.0',\n",
       " 'yandex-browser_mobile16.2.0.5397.00',\n",
       " 'opera_mini4.3.24603',\n",
       " 'opera_mini6.0.24556',\n",
       " 'opera_mini4.2.14320',\n",
       " 'opera28.0.1750.48',\n",
       " 'yandex-browser14.8.1985.11875',\n",
       " 'uc_browser6.0.1308.1201',\n",
       " 'uc_browser_mobile10.9.0.731',\n",
       " 'chrome_mobile55.0.2883.84',\n",
       " 'rambler_browser40',\n",
       " 'opera_mini4.2.22537',\n",
       " 'chrome41.0.2272.190',\n",
       " 'safari5.0.4',\n",
       " 'chrome44.0.2403.89',\n",
       " 'chrome_mobile38.0.2125.509',\n",
       " 'ie4.01',\n",
       " 'opera_mini4.2.22228',\n",
       " 'firefox20.0',\n",
       " 'chrome43.0.2357.157',\n",
       " 'chrome43.0.2357.81',\n",
       " 'firefox2.3.5',\n",
       " 'opera28.0.1750.51',\n",
       " 'opera11.61',\n",
       " 'opera36.0.2130.46',\n",
       " 'opera_mini4.4.29476',\n",
       " 'opera_mobile33.0.2002.97617',\n",
       " 'firefox1.5.0.7',\n",
       " 'chrome43.0.2357.124',\n",
       " 'uc_browser_mobile10.7.5.658',\n",
       " 'opera_mini7.0.29733',\n",
       " 'firefox9.0.1',\n",
       " 'opera_mobile29.0.1809.93516',\n",
       " 'safari8.0.6',\n",
       " 'amigo54.0.2840.193',\n",
       " 'opera_mini4.2.13918',\n",
       " 'opera33.0.1990.58',\n",
       " 'opera_mini7.0.29530',\n",
       " 'firefox3.0.15',\n",
       " 'opera8.54',\n",
       " 'opera_mini5.1.24009',\n",
       " 'dolphin2.0',\n",
       " 'android_browser4.4',\n",
       " 'firefox3.0b4',\n",
       " 'opera_mobile42.0.2246.112627',\n",
       " 'yandex-browser1.5.1106.241',\n",
       " 'kkman2.0',\n",
       " 'safari7.0.3',\n",
       " 'chrome_mobile45.0.2454.84',\n",
       " 'safari9.0.2',\n",
       " 'opera_mini16.0.2168',\n",
       " 'yandex-browser_mobile14.12.2125.9740.01',\n",
       " 'firefox3.0.3',\n",
       " 'opera_mini4.2.13216',\n",
       " 'opera_mini4.4.31583',\n",
       " 'opera8.51',\n",
       " 'opera_mini7.5.33725',\n",
       " 'chrome29.0.1547.66',\n",
       " 'yandex-browser_mobile16.10.0.1326.01',\n",
       " 'firefox1.0.2',\n",
       " 'opera_mini5.1.21126',\n",
       " 'maxthon5.0.2.1000',\n",
       " 'opera34.0.2036.47',\n",
       " 'opera_mini4.1.13907',\n",
       " 'opera35.0.2066.82',\n",
       " 'chrome53.0.2785.101',\n",
       " 'opera9.27',\n",
       " 'firefox36.04',\n",
       " 'opera_mini8.0.35158',\n",
       " 'yandex-browser_mobile16.11.1.716.11',\n",
       " 'chrome_mobile33.0.1750.517',\n",
       " 'yandex-browser16.7.0.3342',\n",
       " 'uc_browser_mobile10.10.5.809',\n",
       " 'safari419.3',\n",
       " 'chrome51.0.2704.116',\n",
       " 'opera_mobile19.0.1340.69721',\n",
       " 'opera_mini5.0.18741',\n",
       " 'maxthon2.0',\n",
       " 'chrome41.0.2272.172',\n",
       " 'opera10.63',\n",
       " 'second_life_viewer1.0',\n",
       " 'yandex-browser15.12.0.6151',\n",
       " 'opera29.0.1795.47',\n",
       " 'chrome_mobile32.0.1700.99',\n",
       " 'opera_mini7.0.29732',\n",
       " 'opera9.20',\n",
       " 'sputnik_browser2.2.1075.0',\n",
       " 'firefox3.0.14',\n",
       " 'chrome38.0.2125.104',\n",
       " 'yandex-browser17.1.0.1974',\n",
       " 'safari8.0.2',\n",
       " 'opera_mini6.1.25378',\n",
       " 'uc_browser_mobile3.4.3.532',\n",
       " 'opera7.23',\n",
       " 'opera20.0.1387.82',\n",
       " 'yandex-browser_mobile16.2.0.5397.01',\n",
       " 'firefox3.5.9',\n",
       " 'opera_mini15.0.2125',\n",
       " 'safari533.3',\n",
       " 'safari9.1',\n",
       " 'opera_mobile19.0.1340.71596',\n",
       " 'firefox3.5.2',\n",
       " 'opera_mini4.3.24214',\n",
       " 'opera_mini6.5.27452',\n",
       " 'firefox3.0.2',\n",
       " 'opera_mini7.1.32453',\n",
       " 'chrome_mobile33.0.1750.132',\n",
       " 'nokia_web_browser7.3.1.33',\n",
       " 'microsoft_edge_mobile13.10586',\n",
       " 'yandex-browser_mobile16.11.0.2708.10',\n",
       " 'safari3.2.1',\n",
       " 'chrome49.0.2623.108',\n",
       " 'chromodo52.15.25.664',\n",
       " 'firefox2.0.0.11',\n",
       " 'opera_mini5.0.19693',\n",
       " 'chrome13.0.782.41',\n",
       " 'firefox2.0.0.9',\n",
       " 'safari3.1',\n",
       " 'safari8.0.8',\n",
       " 'chrome43.0.2357.170',\n",
       " 'firefox3.0.4',\n",
       " 'opera_mini7.5.31658',\n",
       " 'chrome_mobile54.0.2840.66',\n",
       " 'opera_mobile21.0.1437.74904',\n",
       " 'chrome58.0.3026.3',\n",
       " 'uc_browser_mobile10.7.9.856',\n",
       " 'opera_mini5.0.18635',\n",
       " 'opera_mini4.2.22230',\n",
       " 'kkman3.0',\n",
       " 'opera28.0.1750.40',\n",
       " 'chrome29.0.1547.76',\n",
       " 'opera_mini12.0.1987',\n",
       " 'firefox3.6.2',\n",
       " 'firefox1.5.0.11',\n",
       " 'opera9.52',\n",
       " 'safari3.0.3',\n",
       " 'opera_mini8.0.40377',\n",
       " 'powermarks3.5',\n",
       " 'java1.8.0_65',\n",
       " 'opera_mini7.0.28870',\n",
       " 'opera_mini7.5.31693',\n",
       " 'opera9.62',\n",
       " 'opera10.10',\n",
       " 'vivaldi1.7.735.46',\n",
       " 'opera_mini4.4.39014',\n",
       " 'chrome44.0.2403.130',\n",
       " 'firefox3.0.10',\n",
       " 'chrome32.0.1700.107',\n",
       " 'opera42.0.0.239321413',\n",
       " 'firefox2.0.0.5',\n",
       " 'firefox2.0.0',\n",
       " 'chrome_mobile52.0.2743.84',\n",
       " 'opera_mini6.1.25577',\n",
       " 'firefox3.0.7',\n",
       " 'opera_mini8.0.40337',\n",
       " 'firefox1.0',\n",
       " 'opera9.61',\n",
       " 'chrome26.0.1410.33',\n",
       " 'firefox3.5.3',\n",
       " 'yandex-browser_mobile15.6.2311.5718.00',\n",
       " 'opera_mini4.2.13057',\n",
       " 'chrome48.0.2564.91',\n",
       " 'firefox5.02',\n",
       " 'opera_mini6.5.27049',\n",
       " 'yandex-browser_mobile16.10.1.1443.00',\n",
       " 'maxthon4.4.3.4000',\n",
       " 'firefox1.5.0.12',\n",
       " 'opera11.10',\n",
       " 'safari5.0.2',\n",
       " 'firefox1.5.0.3',\n",
       " 'tt_explorer4.0',\n",
       " 'yandex-browser_mobile16.9.0.1424.01',\n",
       " 'yandex-browser_mobile16.7.1.2925.00',\n",
       " 'firefox3.5.1',\n",
       " 'firefox3.0.8',\n",
       " 'amigo28.0.1500.71',\n",
       " 'opera31.0.1889.99',\n",
       " 'firefox3.6.12',\n",
       " 'firefox3.1b3',\n",
       " 'dolphin3.0',\n",
       " 'iron0.2.152.0',\n",
       " 'uc_browser_mobile10.8.8.920',\n",
       " 'chrome40.0.2214.111',\n",
       " 'yandex-browser15.6.2311.5029',\n",
       " 'greenbrowser',\n",
       " 'opera_mini10.0.1884',\n",
       " 'yandex-browser15.9.2403.2966',\n",
       " 'chrome48.0.2564.89',\n",
       " 'firefox1.0.4',\n",
       " 'chrome33.0.1750.117',\n",
       " 'opera44.0.2505.0',\n",
       " 'opera9.21',\n",
       " 'shiira',\n",
       " 'opera16.0.1196.62',\n",
       " 'firefox2.0',\n",
       " 'firefox2.0.0.6',\n",
       " 'opera_mini8.0.40325',\n",
       " 'chrome57.0.2987.37',\n",
       " 'maxthon4.9.4.2000',\n",
       " 'firefox2.0.0.14',\n",
       " 'opera9.23',\n",
       " 'nokia_web_browser',\n",
       " 'opera_mini7.0.31610',\n",
       " 'opera_mini7.6.35843',\n",
       " 'maxthon_mobile4.5.10.5000',\n",
       " 'yandex-browser16.3.0.6796',\n",
       " 'yandex-browser_mobile16.11.1.716.10',\n",
       " 'chrome_mobile52.0.2743.91',\n",
       " 'chrome17.0.963.66',\n",
       " 'aol_explorer9.1',\n",
       " 'firefox2.0.0.7',\n",
       " 'firefox2.0.0.3',\n",
       " 'yandex-browser_mobile16.7.1.2924.00',\n",
       " 'opera15.0.1147.153',\n",
       " 'uc_browser_mobile11.2.5.932',\n",
       " 'opera_mini9.1.0',\n",
       " 'firefox3.0',\n",
       " 'android_browser4.2.1',\n",
       " 'firefox10.0',\n",
       " 'seamonkey1.1.14',\n",
       " 'firefox1.0.3',\n",
       " 'firefox3.0.6',\n",
       " 'opera36.0.2130.75',\n",
       " 'chrome_mobile30.0.1599.92',\n",
       " 'opera_mobile34.0.2044.98679',\n",
       " 'chrome45.0.2454.93',\n",
       " 'miui_rowser8.2.6',\n",
       " 'chrome_mobile44.0.2403.119',\n",
       " 'opera_mini7.5.35199',\n",
       " 'safari4.0',\n",
       " 'uc_browser_mobile10.9.8.770',\n",
       " 'chrome43.0.2357.132',\n",
       " 'arora0.4',\n",
       " 'firefox0.10.1',\n",
       " 'chrome10.0.648.133',\n",
       " 'chrome43.0.2357.148',\n",
       " 'yandex-browser15.7.2357.2700',\n",
       " 'opera10.00',\n",
       " 'chrome15.0.874.120',\n",
       " 'opera11.52',\n",
       " 'chrome_mobile42.0.2311.109',\n",
       " 'opera_mini7.0.29703',\n",
       " 'epiphany2.22',\n",
       " 'firefox2.0.0.17',\n",
       " 'windows_media_player11.0.5721.5145',\n",
       " 'chrome8.0.552.215',\n",
       " 'chrome49.0.2623.75',\n",
       " 'chrome57.0.2987.21',\n",
       " 'firefox2.0.0.20',\n",
       " 'chrome51.0.2704.117',\n",
       " 'firefox3.6.6',\n",
       " 'seamonkey2.2a1pre',\n",
       " 'lunascape6.3.4.23051',\n",
       " 'yandex-browser16.3.0.7843',\n",
       " 'firefox4.0',\n",
       " 'firefox1.5.0.8',\n",
       " 'opera_mini4.4.28000',\n",
       " 'chrome28.0.1500.95',\n",
       " 'chrome55.24.2883.75',\n",
       " 'firefox_mobile47.0',\n",
       " 'firefox4.0b7pre',\n",
       " 'yandex-browser16.7.1.20937',\n",
       " 'opera_mini7.1.32052',\n",
       " 'yandex-browser16.7.1.20936',\n",
       " 'firefox10.0.2',\n",
       " 'kkman3.2',\n",
       " 'opera33.0.1990.115',\n",
       " 'opera22.0.1471.50',\n",
       " 'yandex-browser1.7.1364.22194',\n",
       " 'chrome55.0.2883.105',\n",
       " 'yandex-browser_mobile16.11.0.2708.11',\n",
       " 'firefox3.6.4',\n",
       " 'chromium53.0.2785.143',\n",
       " 'opera11.01',\n",
       " 'chrome41.0.2225.0',\n",
       " 'firefox1.5.0.6',\n",
       " 'hotjava3.0',\n",
       " 'chrome14.0.835.186',\n",
       " 'firefox2.0.0.4',\n",
       " 'safari3.1.1',\n",
       " 'firefox_mobile49.0',\n",
       " 'yandex-browser_mobile17.3.0.1781.10',\n",
       " 'chrome16.0.912.63',\n",
       " 'firefox2.0.0.1',\n",
       " 'chrome45.0.2421.0',\n",
       " 'yandex-browser14.8.1985.12084',\n",
       " 'miui_rowser8.6.0',\n",
       " 'yandex-browser_mobile14.2.1700.12535.00',\n",
       " 'opera6.05',\n",
       " 'chrome30.0.1599.69',\n",
       " 'opera9.02',\n",
       " 'firefox3.0.9',\n",
       " 'iron6.0.475.1',\n",
       " 'safari420+',\n",
       " 'yandex-browser16.6.1.30165',\n",
       " 'seamonkey2.0.13',\n",
       " 'uc_browser5.7.16817.1002',\n",
       " 'chrome32.0.1700.41',\n",
       " 'chrome36.0.1985.143',\n",
       " 'opera30.0.1835.59',\n",
       " 'safari_mobile4.0.5',\n",
       " 'aol_explorer8.0',\n",
       " 'chrome27.0.1453.93',\n",
       " 'opera_mini4.4.39010',\n",
       " 'opera_mini4.2.20464',\n",
       " 'amigo27.0.1453.95',\n",
       " 'yandex-browser15.4.2272.3429',\n",
       " 'chrome41.0.2272.101',\n",
       " 'uc_browser_mobile10.7.2.645',\n",
       " 'chrome38.0.2125.101',\n",
       " 'safari6.0.5',\n",
       " 'coolnovo2.0.9.20',\n",
       " 'iceweasel3.5.16',\n",
       " 'firefox4.0.1',\n",
       " 'firefox53.0',\n",
       " 'chrome54.0.2840.98',\n",
       " 'chrome53.0.2785.89',\n",
       " 'miui_rowser8.5.9',\n",
       " 'firefox1.5.0.5',\n",
       " 'safari7.0',\n",
       " 'chrome18.0.1025.45',\n",
       " 'opera_mini5.1.23468',\n",
       " 'opera_mobile41.1.2246.111645',\n",
       " 'opera18.0.1284.68',\n",
       " 'chrome30.0.1599.37',\n",
       " 'firefox1.5.0.1',\n",
       " 'firefox2.0.0.10',\n",
       " 'firefox3.6.10',\n",
       " 'firefox3.0.12',\n",
       " 'aol_explorer9.5',\n",
       " 'chrome37.0.2062.124',\n",
       " 'android_browser3.1.2',\n",
       " 'firefox2.0.0.16',\n",
       " 'chrome51.0.2704.121',\n",
       " 'yandex-browser_mobile16.9.0.1580.00',\n",
       " 'firefox4.0b11pre',\n",
       " 'yandex-browser_mobile15.2.2214.3725.01',\n",
       " 'chrome33.0.1750.146',\n",
       " 'amigo45.0.2454.112',\n",
       " 'seamonkey2.46',\n",
       " 'opera11.51',\n",
       " 'chrome36.0.1944.0',\n",
       " 'uc_browser_mobile10.7.0.636',\n",
       " 'chrome_mobile48.0.2564.106',\n",
       " 'firefox3.6.9',\n",
       " 'chrome43.0.2357.130',\n",
       " 'opera9.25',\n",
       " 'opera_mini4.2.17605',\n",
       " 'opera21.0.1432.57',\n",
       " 'opera42.0.2393.351',\n",
       " 'opera_mini4.2.13402',\n",
       " 'maple_browser',\n",
       " 'samsung_tv_browser1.0',\n",
       " 'qqbrowser9.5.10219.400',\n",
       " 'mobile_samsung_browser3.0',\n",
       " 'safari6.0',\n",
       " 'chrome5.0.375.86',\n",
       " 'crazy_browser2.0.1',\n",
       " 'yandex-browser15.6.2311.5651',\n",
       " 'aol_explorer5.0',\n",
       " 'safari5.1',\n",
       " 'yandex-browser14.7.1916.15705',\n",
       " 'safari602.4.6',\n",
       " 'opera6.11',\n",
       " 'safari9.0',\n",
       " 'chrome_mobile51.0.2704.104',\n",
       " 'chrome19.0.1084.56',\n",
       " 'chrome_mobile47.0.2526.76',\n",
       " 'chrome26.0.1410.40',\n",
       " 'opera9.10',\n",
       " 'aol_explorer9.6',\n",
       " 'firefox2.0.0.12',\n",
       " 'chrome58.0.3014.0',\n",
       " 'opera25.0.1614.50',\n",
       " 'firefox3.6.16',\n",
       " 'yandex-browser13.12.1599.12785',\n",
       " 'chrome27.0.1453.110',\n",
       " 'chrome_mobile30.0.1599.36',\n",
       " 'opera_mini7.1.34572',\n",
       " 'chrome55.23.2883.75',\n",
       " 'chrome57.0.2987.74',\n",
       " 'nokia_web_browser8.3.1.4',\n",
       " 'yandex-browser14.5.1847.18825',\n",
       " 'theworld_browser',\n",
       " 'pale_moon27.0.3',\n",
       " 'opera_mobile21.0.1437.75439',\n",
       " 'firefox1.5',\n",
       " 'firefox1.5.0.2',\n",
       " 'yandex-browser_mobile15.10.2454.3908.01',\n",
       " 'sleipnir2.9.2',\n",
       " 'mozillarv:2.2',\n",
       " 'firefox2.0.0.8',\n",
       " 'chrome_mobile50.0.2661.86',\n",
       " 'aol_explorer6.0',\n",
       " 'chrome22.0.1216.0',\n",
       " 'safari3.0.4',\n",
       " 'chrome32.0.1700.76',\n",
       " 'opera30.0.1835.125',\n",
       " 'safari125.12',\n",
       " 'opera_mini4.4.27461',\n",
       " 'firefox3.0b5',\n",
       " 'firefox6.0',\n",
       " 'nokia_web_browser7.3.1.37',\n",
       " 'chrome_mobile49.0.2623.108',\n",
       " 'chrome10.0.648.134',\n",
       " 'chrome50.0.2661.87',\n",
       " 'opera_mobile22.0.1485.78487',\n",
       " 'uc_browser_mobile10.5.2.582',\n",
       " 'opera7.03',\n",
       " 'arora0.2',\n",
       " 'iron21.0.1200.0',\n",
       " 'firefox3.6.15',\n",
       " 'opera9.22',\n",
       " 'chrome53.0.0.11780',\n",
       " 'firefox3.0.13',\n",
       " 'yandex-browser_mobile16.7.1.2912.01',\n",
       " 'safari312',\n",
       " 'opera_mini17.0.2211',\n",
       " 'maxthon4.4.8.1000',\n",
       " 'opera8.65',\n",
       " 'opera11.11',\n",
       " 'firefox1.5.0',\n",
       " 'firefox3.0.11',\n",
       " 'vivaldi1.3.551.38',\n",
       " 'yandex-browser_mobile14.8.1985.12002.00',\n",
       " 'chrome51.0.2704.115',\n",
       " 'seamonkey1.5a',\n",
       " 'opera_mobile36.2.2126.102947',\n",
       " 'lunascape6.2.0.22177',\n",
       " 'opera10.54',\n",
       " 'chrome10.0.648.204',\n",
       " 'firefox1.5.0.10',\n",
       " 'chrome35.0.1916.152',\n",
       " 'aol_explorer7.0',\n",
       " 'yandex-browser_mobile14.5.1847.18211.00',\n",
       " 'chrome47.0.2498.0',\n",
       " 'seamonkey1.1.13',\n",
       " 'opera_mobile36.0.2126.101812',\n",
       " 'opera25.0.1614.68',\n",
       " 'firefox1.5.0.9',\n",
       " 'opera35.0.2066.68',\n",
       " 'miui_rowser8.5.14',\n",
       " 'opera_mini7.0.30362',\n",
       " 'android_browser4.1.2',\n",
       " 'chrome55.0.2883.91',\n",
       " ...]"
      ]
     },
     "execution_count": 5,
     "metadata": {},
     "output_type": "execute_result"
    }
   ],
   "source": [
    "list_ua_version = main_df.ua_version.value_counts().index.tolist()\n",
    "\n",
    "print(\"Device browser version count: {}\".format(len(list_ua_version)))\n",
    "list_ua_version"
   ]
  },
  {
   "cell_type": "markdown",
   "metadata": {},
   "source": [
    "### As we see browser version must be merged with browser code"
   ]
  },
  {
   "cell_type": "markdown",
   "metadata": {},
   "source": [
    "### Another data crowler filter"
   ]
  },
  {
   "cell_type": "code",
   "execution_count": 2,
   "metadata": {},
   "outputs": [
    {
     "name": "stderr",
     "output_type": "stream",
     "text": [
      "100%|██████████| 1/1 [07:21<00:00, 441.43s/it]"
     ]
    },
    {
     "name": "stdout",
     "output_type": "stream",
     "text": [
      "Main data length: 20914\n",
      "CPU times: user 6min, sys: 54 s, total: 6min 54s\n",
      "Wall time: 7min 21s\n"
     ]
    },
    {
     "name": "stderr",
     "output_type": "stream",
     "text": [
      "\n"
     ]
    }
   ],
   "source": [
    "%%time\n",
    "\n",
    "from lib.parsers.logParser import LogParser\n",
    "\n",
    "l_parser = LogParser(log_folder='Logs/')\n",
    "\n",
    "main_data, values_data, order_data = l_parser.parse_train_sample(0, 1, filter_crawlers=True, parse_ua=True)\n",
    "\n",
    "print(\"Main data length: {}\".format(len(main_data)))\n",
    "\n",
    "main_df = pd.DataFrame(main_data)\n",
    "\n",
    "main_df"
   ]
  },
  {
   "cell_type": "code",
   "execution_count": 3,
   "metadata": {
    "scrolled": false
   },
   "outputs": [
    {
     "name": "stdout",
     "output_type": "stream",
     "text": [
      "Device browser family count: 65\n"
     ]
    },
    {
     "data": {
      "text/plain": [
       "['chrome',\n",
       " 'firefox',\n",
       " 'chrome_mobile',\n",
       " 'yandex-browser',\n",
       " 'ie',\n",
       " 'safari_mobile',\n",
       " 'opera',\n",
       " 'android_browser',\n",
       " 'yandex-browser_mobile',\n",
       " 'mobile_samsung_browser',\n",
       " 'opera_mini',\n",
       " 'android_webview',\n",
       " 'amigo',\n",
       " 'safari',\n",
       " 'microsoft_edge',\n",
       " 'opera_mobile',\n",
       " 'uc_browser_mobile',\n",
       " 'java',\n",
       " 'ie_mobile',\n",
       " 'iron',\n",
       " 'apple_mail',\n",
       " 'miui_rowser',\n",
       " 'seamonkey',\n",
       " 'microsoft_edge_mobile',\n",
       " 'firefox_mobile',\n",
       " 'coast',\n",
       " 'netscape_navigator',\n",
       " 'maxthon',\n",
       " 'cm_browser',\n",
       " 'uc_browser',\n",
       " 'nokia_web_browser',\n",
       " 'browsex',\n",
       " 'lunascape',\n",
       " 'chromium',\n",
       " 'chromodo',\n",
       " 'sleipnir',\n",
       " 'flock',\n",
       " 'puffin',\n",
       " 'arora',\n",
       " 'crazy_browser',\n",
       " 'mozilla',\n",
       " 'pale_moon',\n",
       " 'aol_explorer',\n",
       " 'theworld_browser',\n",
       " 'epiphany',\n",
       " 'firefox_namoroka',\n",
       " 'rambler_browser',\n",
       " 'wyzo',\n",
       " 'shiira',\n",
       " 'kkman',\n",
       " 'iceweasel',\n",
       " 'avant_browser',\n",
       " 'sitekiosk',\n",
       " 'samsung_tv_browser',\n",
       " 'swiftfox',\n",
       " 'k-meleon',\n",
       " 'sputnik_browser',\n",
       " 'ps_vita_browser',\n",
       " 'tt_explorer',\n",
       " 'cyberfox',\n",
       " 'stainless',\n",
       " 'orca',\n",
       " 'ncsa_mosaic',\n",
       " 'omniweb',\n",
       " 'dolphin']"
      ]
     },
     "execution_count": 3,
     "metadata": {},
     "output_type": "execute_result"
    }
   ],
   "source": [
    "list_ua_family_code = main_df.ua_family_code.value_counts().index.tolist()\n",
    "\n",
    "print(\"Device browser family count: {}\".format(len(list_ua_family_code)))\n",
    "list_ua_family_code"
   ]
  },
  {
   "cell_type": "code",
   "execution_count": null,
   "metadata": {},
   "outputs": [
    {
     "name": "stderr",
     "output_type": "stream",
     "text": [
      " 70%|███████   | 21/30 [2:27:13<58:20, 389.00s/it]  "
     ]
    }
   ],
   "source": [
    "%%time\n",
    "\n",
    "from lib.parsers.logParser import LogParser\n",
    "\n",
    "l_parser = LogParser(log_folder='Logs/')\n",
    "\n",
    "main_data, values_data, order_data = l_parser.parse_train_sample(0, 30, filter_crawlers=True, parse_ua=True)\n",
    "\n",
    "print(\"Main data length: {}\".format(len(main_data)))"
   ]
  },
  {
   "cell_type": "code",
   "execution_count": 9,
   "metadata": {
    "scrolled": true
   },
   "outputs": [
    {
     "name": "stdout",
     "output_type": "stream",
     "text": [
      "Device count: 8\n",
      "Device platform family count: 33\n",
      "Device platform count: 103\n",
      "Device browser class count: 10\n",
      "Device browser family count: 157\n",
      "Device browser version count: 3980\n"
     ]
    }
   ],
   "source": [
    "main_df = pd.DataFrame(main_data)\n",
    "\n",
    "main_df\n",
    "\n",
    "list_device_class_code = pd.DataFrame(main_data).device_class_code.value_counts().index.tolist()\n",
    "list_os_family_code = pd.DataFrame(main_data).os_family_code.value_counts().index.tolist()\n",
    "list_os_code = pd.DataFrame(main_data).os_code.value_counts().index.tolist()\n",
    "list_ua_class_code = pd.DataFrame(main_data).ua_class_code.value_counts().index.tolist()\n",
    "list_ua_family_code = pd.DataFrame(main_data).ua_family_code.value_counts().index.tolist()\n",
    "list_ua_version = pd.DataFrame(main_data).ua_version.value_counts().index.tolist()\n",
    "\n",
    "print(\"Device count: {}\".format(len(list_device_class_code)))\n",
    "print(\"Device platform family count: {}\".format(len(list_os_family_code)))\n",
    "print(\"Device platform count: {}\".format(len(list_os_code)))\n",
    "print(\"Device browser class count: {}\".format(len(list_ua_class_code)))\n",
    "print(\"Device browser family count: {}\".format(len(list_ua_family_code)))\n",
    "print(\"Device browser version count: {}\".format(len(list_ua_version)))"
   ]
  },
  {
   "cell_type": "code",
   "execution_count": 13,
   "metadata": {
    "scrolled": true
   },
   "outputs": [
    {
     "data": {
      "text/plain": [
       "['desktop',\n",
       " 'smartphone',\n",
       " 'tablet',\n",
       " 'unrecognized',\n",
       " 'smart_tv',\n",
       " 'game_console',\n",
       " 'pda',\n",
       " 'wearable_computer']"
      ]
     },
     "execution_count": 13,
     "metadata": {},
     "output_type": "execute_result"
    }
   ],
   "source": [
    "list_device_class_code"
   ]
  },
  {
   "cell_type": "code",
   "execution_count": 14,
   "metadata": {
    "scrolled": true
   },
   "outputs": [
    {
     "data": {
      "text/plain": [
       "['windows',\n",
       " 'android',\n",
       " 'ios',\n",
       " 'linux',\n",
       " 'osx',\n",
       " 'jvm',\n",
       " 'macos',\n",
       " 'symbian_os',\n",
       " 'nokia_x',\n",
       " 'maemo',\n",
       " 'mre',\n",
       " 'mac_os',\n",
       " 'chrome_os',\n",
       " 'bsd',\n",
       " 'blackberry_os',\n",
       " 'solaris',\n",
       " 'bada',\n",
       " 'tizen',\n",
       " 'nintendo_wii',\n",
       " 'live_area',\n",
       " 'amiga_os',\n",
       " 'fire_os',\n",
       " 'firefox_os',\n",
       " 'xrossmediabar',\n",
       " 'rim_os',\n",
       " 'beos',\n",
       " 'os_2',\n",
       " 'hp_ux',\n",
       " 'risk_os',\n",
       " 'haiku_os',\n",
       " 'palm_os',\n",
       " 'syllable',\n",
       " 'inferno_os',\n",
       " 'irix']"
      ]
     },
     "execution_count": 14,
     "metadata": {},
     "output_type": "execute_result"
    }
   ],
   "source": [
    "list_os_family_code"
   ]
  },
  {
   "cell_type": "code",
   "execution_count": 15,
   "metadata": {
    "scrolled": true
   },
   "outputs": [
    {
     "data": {
      "text/plain": [
       "['windows_7',\n",
       " 'windows_xp',\n",
       " 'windows_10',\n",
       " 'android_4_4',\n",
       " 'android_5_1',\n",
       " 'ios_10',\n",
       " 'windows_8_1',\n",
       " 'android_6',\n",
       " 'android_5_0',\n",
       " 'android_4_2',\n",
       " 'ios_9',\n",
       " 'windows_8',\n",
       " 'linux',\n",
       " 'android_4_1',\n",
       " 'windows_vista',\n",
       " 'windows_98',\n",
       " 'android',\n",
       " 'windows',\n",
       " 'linux_ubuntu',\n",
       " 'jvm_microedition',\n",
       " 'osx_10_10',\n",
       " 'ios_7',\n",
       " 'ios_8',\n",
       " 'osx_10_11',\n",
       " 'android_2_3',\n",
       " 'android_4_3',\n",
       " 'android_4',\n",
       " 'macos_10_12',\n",
       " 'osx_10_6',\n",
       " 'windows_phone_8_1',\n",
       " 'windows_2000_server',\n",
       " 'windows_2000',\n",
       " 'osx_10_9',\n",
       " 'symbian_os',\n",
       " 'osx',\n",
       " 'osx_10_7',\n",
       " 'android_7_0',\n",
       " 'ios_5',\n",
       " 'windows_phone_8',\n",
       " 'nokia_x',\n",
       " 'android_2_2',\n",
       " 'ios_6',\n",
       " 'osx_10_8',\n",
       " 'jvm',\n",
       " 'linux_debian',\n",
       " 'windows_10_mobile',\n",
       " 'windows_95',\n",
       " 'osx_10_5',\n",
       " 'maemo',\n",
       " 'windows_nt',\n",
       " 'android_7_1',\n",
       " 'android_3',\n",
       " 'windows_me',\n",
       " 'mre',\n",
       " 'windows_mobile',\n",
       " 'mac_os',\n",
       " 'chrome_os',\n",
       " 'linux_fedora',\n",
       " 'ios',\n",
       " 'windows_phone_7',\n",
       " 'linux_suse',\n",
       " 'blackberry_os',\n",
       " 'solaris',\n",
       " 'bada',\n",
       " 'osx_10_4',\n",
       " 'linux_gentoo',\n",
       " 'freebsd',\n",
       " 'windows_rt',\n",
       " 'ios_4',\n",
       " 'openbsd',\n",
       " 'windows_ce',\n",
       " 'linux_centos',\n",
       " 'linux_mint',\n",
       " 'tizen_2',\n",
       " 'linux_redhat',\n",
       " 'windows_3',\n",
       " 'linux_mandriva',\n",
       " 'android_2',\n",
       " 'orbis_os',\n",
       " 'wii_os',\n",
       " 'live_area',\n",
       " 'fire_os',\n",
       " 'linux_slackware',\n",
       " 'msn_tv',\n",
       " 'amiga_os',\n",
       " 'netbsd',\n",
       " 'firefox_os',\n",
       " 'dragonflybsd',\n",
       " 'os_2_warp',\n",
       " 'beos',\n",
       " 'xrossmediabar',\n",
       " 'blackberry_tableos_2',\n",
       " 'linux_mageia',\n",
       " 'hp_ux',\n",
       " 'linux_arch',\n",
       " 'risk_os',\n",
       " 'syllable',\n",
       " 'inferno_os',\n",
       " 'android_1_6',\n",
       " 'palm_os',\n",
       " 'ios_3',\n",
       " 'xbox_os',\n",
       " 'haiku_os',\n",
       " 'irix']"
      ]
     },
     "execution_count": 15,
     "metadata": {},
     "output_type": "execute_result"
    }
   ],
   "source": [
    "list_os_code"
   ]
  },
  {
   "cell_type": "code",
   "execution_count": 16,
   "metadata": {
    "scrolled": true
   },
   "outputs": [
    {
     "data": {
      "text/plain": [
       "['browser',\n",
       " 'mobile_browser',\n",
       " 'unrecognized',\n",
       " 'email_client',\n",
       " 'library',\n",
       " 'multimedia_player',\n",
       " 'validator',\n",
       " 'feed_reader',\n",
       " 'offline_browser',\n",
       " 'wap_browser']"
      ]
     },
     "execution_count": 16,
     "metadata": {},
     "output_type": "execute_result"
    }
   ],
   "source": [
    "list_ua_class_code"
   ]
  },
  {
   "cell_type": "code",
   "execution_count": 17,
   "metadata": {
    "scrolled": true
   },
   "outputs": [
    {
     "data": {
      "text/plain": [
       "['chrome',\n",
       " 'firefox',\n",
       " 'chrome_mobile',\n",
       " 'yandex-browser',\n",
       " 'ie',\n",
       " 'opera',\n",
       " 'safari_mobile',\n",
       " 'android_browser',\n",
       " 'yandex-browser_mobile',\n",
       " 'mobile_samsung_browser',\n",
       " 'opera_mini',\n",
       " 'microsoft_edge',\n",
       " 'amigo',\n",
       " 'safari',\n",
       " 'opera_mobile',\n",
       " 'android_webview',\n",
       " 'uc_browser_mobile',\n",
       " 'ie_mobile',\n",
       " 'miui_rowser',\n",
       " 'iron',\n",
       " 'firefox_mobile',\n",
       " 'seamonkey',\n",
       " 'maxthon',\n",
       " 'outlook_2007',\n",
       " 'chromium',\n",
       " 'netscape_navigator',\n",
       " 'browsex',\n",
       " 'aol_explorer',\n",
       " 'java',\n",
       " 'microsoft_edge_mobile',\n",
       " 'apple_mail',\n",
       " 'outlook_2010',\n",
       " 'mozilla',\n",
       " 'uc_browser',\n",
       " 'chromodo',\n",
       " 'facebook_app',\n",
       " 'nokia_web_browser',\n",
       " 'coast',\n",
       " 'lunascape',\n",
       " 'pale_moon',\n",
       " 'cm_browser',\n",
       " 'flock',\n",
       " 'iceweasel',\n",
       " 'puffin',\n",
       " 'sleipnir',\n",
       " 'blackberry_browser',\n",
       " 'kkman',\n",
       " 'crazy_browser',\n",
       " 'opera_neon',\n",
       " 'vivaldi',\n",
       " 'arora',\n",
       " 'epiphany',\n",
       " 'dolphin',\n",
       " 'rambler_browser',\n",
       " 'avant_browser',\n",
       " 'rockmelt',\n",
       " 'konqueror',\n",
       " 'sputnik_browser',\n",
       " 'firefox_minefield',\n",
       " 'second_life_viewer',\n",
       " 'omniweb',\n",
       " 'coolnovo',\n",
       " 'maxthon_mobile',\n",
       " 'powermarks',\n",
       " 'tt_explorer',\n",
       " 'shiira',\n",
       " 'samsung_tv_browser',\n",
       " 'greenbrowser',\n",
       " 'swiftfox',\n",
       " 'hotjava',\n",
       " 'windows_media_player',\n",
       " 'camino',\n",
       " 'waterfox',\n",
       " 'qqbrowser',\n",
       " 'maple_browser',\n",
       " 'theworld_browser',\n",
       " 'deepnet_explorer',\n",
       " 'cyberfox',\n",
       " 'coc_coc',\n",
       " 'wyzo',\n",
       " 'firefox_namoroka',\n",
       " 'w3c_css_validator',\n",
       " 'acoo_browser',\n",
       " 'netfront',\n",
       " 'icab',\n",
       " 'firefox_shiretoko',\n",
       " 'off_by_one',\n",
       " 'ps4_web_browser',\n",
       " 'cheshire',\n",
       " 'stainless',\n",
       " 'qqbrowser_mobile',\n",
       " 'uzard_web',\n",
       " 'sitekiosk',\n",
       " 'orca',\n",
       " 'k-meleon',\n",
       " 'firefox_bonecho',\n",
       " 'kazehakase',\n",
       " 'browzar',\n",
       " 'amigo_mobile',\n",
       " 'sylera',\n",
       " 'ps_vita_browser',\n",
       " 'lobo',\n",
       " 'w3c_validator',\n",
       " 'baidu_mobile_browser',\n",
       " 'firefox_granparadiso',\n",
       " 'cometbird',\n",
       " 'tenfourfox',\n",
       " 'sunrise',\n",
       " 'fluid',\n",
       " 'iceape',\n",
       " 'galeon',\n",
       " 'rekonq',\n",
       " 'weltweitimnetz_browser',\n",
       " 'comodo_dragon',\n",
       " 'microb',\n",
       " 'icecat',\n",
       " 'aloha_browser',\n",
       " 'qupzilla',\n",
       " 'kapiko',\n",
       " 'ncsa_mosaic',\n",
       " 'bolt',\n",
       " 'midori',\n",
       " 'mxnitro',\n",
       " 'shredder',\n",
       " 'superbird',\n",
       " 'irider',\n",
       " 'mobile_sputnik_browser',\n",
       " 'wkhtmltopdf',\n",
       " 'firebird',\n",
       " 'slimbrowser',\n",
       " 'android_download_manager',\n",
       " 'openwave_mobile_browser',\n",
       " 'ant_fresco',\n",
       " 'google_wireless_transcoder',\n",
       " 'semc_browser',\n",
       " 'webcopier',\n",
       " 'netnewswire',\n",
       " 'leechcraft',\n",
       " 'quick_browser',\n",
       " 'omea_reader',\n",
       " 'iron_mobile',\n",
       " 'charon',\n",
       " 'blazer',\n",
       " 'abrowse',\n",
       " 'winwap',\n",
       " 'ibrowse',\n",
       " 'barca',\n",
       " 'uzbl',\n",
       " 'lolifox',\n",
       " 'deskbrowse',\n",
       " 'sogou_explorer',\n",
       " 'cpg_dragonfly_rss_module',\n",
       " 'netbox',\n",
       " 'espial_tv_browser',\n",
       " 'my_internet_browser',\n",
       " 'prism',\n",
       " '2345_explorer']"
      ]
     },
     "execution_count": 17,
     "metadata": {},
     "output_type": "execute_result"
    }
   ],
   "source": [
    "list_ua_family_code"
   ]
  },
  {
   "cell_type": "code",
   "execution_count": 6,
   "metadata": {},
   "outputs": [
    {
     "name": "stdout",
     "output_type": "stream",
     "text": [
      "<class 'list'>\n",
      "<class 'list'>\n",
      "<class 'list'>\n"
     ]
    }
   ],
   "source": [
    "print(type(main_data))\n",
    "print(type(values_data))\n",
    "print(type(order_data))"
   ]
  },
  {
   "cell_type": "markdown",
   "metadata": {},
   "source": [
    "### Save data"
   ]
  },
  {
   "cell_type": "code",
   "execution_count": 7,
   "metadata": {},
   "outputs": [
    {
     "name": "stdout",
     "output_type": "stream",
     "text": [
      "Main_data saved with size(Bytes): 174135401\n",
      "Values_data saved with size(Bytes): 493202751\n",
      "Order_data saved with size(Bytes): 80283456\n"
     ]
    }
   ],
   "source": [
    "np.save('df/main_data.npy', np.array(main_data))\n",
    "print(\"Main_data saved with size(Bytes): {}\".format(os.stat('df/main_data.npy').st_size))\n",
    "np.save('df/values_data.npy', np.array(values_data))\n",
    "print(\"Values_data saved with size(Bytes): {}\".format(os.stat('df/values_data.npy').st_size))\n",
    "np.save('df/order_data.npy', np.array(order_data))\n",
    "print(\"Order_data saved with size(Bytes): {}\".format(os.stat('df/order_data.npy').st_size))"
   ]
  },
  {
   "cell_type": "markdown",
   "metadata": {},
   "source": [
    "### Bot Data"
   ]
  },
  {
   "cell_type": "code",
   "execution_count": 28,
   "metadata": {
    "scrolled": true
   },
   "outputs": [
    {
     "name": "stderr",
     "output_type": "stream",
     "text": [
      "\r",
      "  0%|          | 0/30 [00:00<?, ?it/s]"
     ]
    },
    {
     "name": "stdout",
     "output_type": "stream",
     "text": [
      "Start parsing logs for distribution\n"
     ]
    },
    {
     "name": "stderr",
     "output_type": "stream",
     "text": [
      "100%|██████████| 30/30 [2:17:15<00:00, 226.90s/it]  \n",
      "  0%|          | 0/30 [00:00<?, ?it/s]"
     ]
    },
    {
     "name": "stdout",
     "output_type": "stream",
     "text": [
      "Start parsing logs for values\n"
     ]
    },
    {
     "name": "stderr",
     "output_type": "stream",
     "text": [
      "100%|██████████| 30/30 [2:06:10<00:00, 223.09s/it]  \n",
      "  0%|          | 83/683509 [00:00<13:48, 824.47it/s]"
     ]
    },
    {
     "name": "stdout",
     "output_type": "stream",
     "text": [
      "Bots Generation\n"
     ]
    },
    {
     "name": "stderr",
     "output_type": "stream",
     "text": [
      "100%|██████████| 683509/683509 [12:47<00:00, 890.45it/s]\n"
     ]
    }
   ],
   "source": [
    "from lib.parsers.logParser import LogParser\n",
    "\n",
    "l_test_parser = LogParser(log_folder='Logs/')\n",
    "\n",
    "main_bot_data, values_bot_data, order_bot_data = l_test_parser.parse_bot_sample(30, 60, 60, 90, filter_crawlers=True, parse_ua=True)"
   ]
  },
  {
   "cell_type": "markdown",
   "metadata": {},
   "source": [
    "### Save data"
   ]
  },
  {
   "cell_type": "code",
   "execution_count": 30,
   "metadata": {},
   "outputs": [
    {
     "name": "stdout",
     "output_type": "stream",
     "text": [
      "Main_bot_data saved with size(Bytes): 115773166\n",
      "Values_bot_data saved with size(Bytes): 620766475\n",
      "Order_bot_data saved with size(Bytes): 92914382\n"
     ]
    }
   ],
   "source": [
    "np.save('df/main_bot_data.npy', np.array(main_bot_data))\n",
    "print(\"Main_bot_data saved with size(Bytes): {}\".format(os.stat('df/main_bot_data.npy').st_size))\n",
    "np.save('df/values_bot_data.npy', np.array(values_bot_data))\n",
    "print(\"Values_bot_data saved with size(Bytes): {}\".format(os.stat('df/values_bot_data.npy').st_size))\n",
    "np.save('df/order_bot_data.npy', np.array(order_bot_data))\n",
    "print(\"Order_bot_data saved with size(Bytes): {}\".format(os.stat('df/order_bot_data.npy').st_size))"
   ]
  },
  {
   "cell_type": "markdown",
   "metadata": {},
   "source": [
    "### Test human data"
   ]
  },
  {
   "cell_type": "code",
   "execution_count": 31,
   "metadata": {},
   "outputs": [
    {
     "name": "stderr",
     "output_type": "stream",
     "text": [
      "100%|██████████| 30/30 [2:03:21<00:00, 215.55s/it]  "
     ]
    },
    {
     "name": "stdout",
     "output_type": "stream",
     "text": [
      "Main test data length: 322189\n"
     ]
    },
    {
     "name": "stderr",
     "output_type": "stream",
     "text": [
      "\n"
     ]
    }
   ],
   "source": [
    "l_parser_tmp = LogParser(log_folder='Logs/')\n",
    "\n",
    "main_test_data, values_test_data, order_test_data = l_parser_tmp.parse_train_sample(90, 120, filter_crawlers=True, parse_ua=True)\n",
    "\n",
    "print(\"Main test data length: {}\".format(len(main_test_data)))"
   ]
  },
  {
   "cell_type": "code",
   "execution_count": 32,
   "metadata": {},
   "outputs": [
    {
     "name": "stdout",
     "output_type": "stream",
     "text": [
      "Main_test_data saved with size(Bytes): 95012203\n",
      "Values_test_data saved with size(Bytes): 267203762\n",
      "Order_test_data saved with size(Bytes): 41513978\n"
     ]
    }
   ],
   "source": [
    "np.save('df/main_test_data.npy', np.array(main_test_data))\n",
    "print(\"Main_test_data saved with size(Bytes): {}\".format(os.stat('df/main_test_data.npy').st_size))\n",
    "np.save('df/values_test_data.npy', np.array(values_test_data))\n",
    "print(\"Values_test_data saved with size(Bytes): {}\".format(os.stat('df/values_test_data.npy').st_size))\n",
    "np.save('df/order_test_data.npy', np.array(order_test_data))\n",
    "print(\"Order_test_data saved with size(Bytes): {}\".format(os.stat('df/order_test_data.npy').st_size))"
   ]
  },
  {
   "cell_type": "code",
   "execution_count": 34,
   "metadata": {},
   "outputs": [
    {
     "name": "stdout",
     "output_type": "stream",
     "text": [
      "Main bot test data length: 683509\n"
     ]
    }
   ],
   "source": [
    "print(\"Main bot test data length: {}\".format(len(main_bot_data)))"
   ]
  },
  {
   "cell_type": "markdown",
   "metadata": {},
   "source": [
    "### Load data (if needed)"
   ]
  },
  {
   "cell_type": "code",
   "execution_count": 15,
   "metadata": {},
   "outputs": [
    {
     "name": "stdout",
     "output_type": "stream",
     "text": [
      "Device count: 8\n",
      "Device platform family count: 33\n",
      "Device platform count: 103\n",
      "Device browser class count: 10\n",
      "Device browser family count: 157\n",
      "Device browser version count: 3980\n"
     ]
    }
   ],
   "source": [
    "main_data = np.load('df/main_data.npy').tolist()\n",
    "values_data = np.load('df/values_data.npy').tolist()\n",
    "order_data = np.load('df/order_data.npy').tolist()\n",
    "\n",
    "main_df = pd.DataFrame(main_data)\n",
    "\n",
    "main_df\n",
    "\n",
    "list_device_class_code = pd.DataFrame(main_data).device_class_code.value_counts().index.tolist()\n",
    "list_os_family_code = pd.DataFrame(main_data).os_family_code.value_counts().index.tolist()\n",
    "list_os_code = pd.DataFrame(main_data).os_code.value_counts().index.tolist()\n",
    "list_ua_class_code = pd.DataFrame(main_data).ua_class_code.value_counts().index.tolist()\n",
    "list_ua_family_code = pd.DataFrame(main_data).ua_family_code.value_counts().index.tolist()\n",
    "list_ua_version = pd.DataFrame(main_data).ua_version.value_counts().index.tolist()\n",
    "\n",
    "print(\"Device count: {}\".format(len(list_device_class_code)))\n",
    "print(\"Device platform family count: {}\".format(len(list_os_family_code)))\n",
    "print(\"Device platform count: {}\".format(len(list_os_code)))\n",
    "print(\"Device browser class count: {}\".format(len(list_ua_class_code)))\n",
    "print(\"Device browser family count: {}\".format(len(list_ua_family_code)))\n",
    "print(\"Device browser version count: {}\".format(len(list_ua_version)))"
   ]
  },
  {
   "cell_type": "code",
   "execution_count": 5,
   "metadata": {},
   "outputs": [
    {
     "name": "stdout",
     "output_type": "stream",
     "text": [
      "Device count: 7\n",
      "Device platform family count: 33\n",
      "Device platform count: 103\n",
      "Device browser class count: 9\n",
      "Device browser family count: 166\n",
      "Device browser version count: 4202\n"
     ]
    }
   ],
   "source": [
    "main_bot_data = np.load('df/main_bot_data.npy').tolist()\n",
    "values_bot_data = np.load('df/values_bot_data.npy').tolist()\n",
    "order_bot_data = np.load('df/order_bot_data.npy').tolist()\n",
    "\n",
    "list_device_class_code = pd.DataFrame(main_bot_data)[1].value_counts().index.tolist()\n",
    "list_os_family_code = pd.DataFrame(main_bot_data)[4].value_counts().index.tolist()\n",
    "list_os_code = pd.DataFrame(main_bot_data)[3].value_counts().index.tolist()\n",
    "list_ua_class_code = pd.DataFrame(main_bot_data)[6].value_counts().index.tolist()\n",
    "list_ua_family_code = pd.DataFrame(main_bot_data)[7].value_counts().index.tolist()\n",
    "list_ua_version = pd.DataFrame(main_bot_data)[8].value_counts().index.tolist()\n",
    "\n",
    "print(\"Device count: {}\".format(len(list_device_class_code)))\n",
    "print(\"Device platform family count: {}\".format(len(list_os_family_code)))\n",
    "print(\"Device platform count: {}\".format(len(list_os_code)))\n",
    "print(\"Device browser class count: {}\".format(len(list_ua_class_code)))\n",
    "print(\"Device browser family count: {}\".format(len(list_ua_family_code)))\n",
    "print(\"Device browser version count: {}\".format(len(list_ua_version)))"
   ]
  },
  {
   "cell_type": "code",
   "execution_count": 11,
   "metadata": {},
   "outputs": [
    {
     "name": "stdout",
     "output_type": "stream",
     "text": [
      "Device count: 6\n",
      "Device platform family count: 27\n",
      "Device platform count: 94\n",
      "Device browser class count: 6\n",
      "Device browser family count: 145\n",
      "Device browser version count: 3172\n"
     ]
    }
   ],
   "source": [
    "main_test_data = np.load('df/main_test_data.npy').tolist()\n",
    "values_test_data = np.load('df/values_test_data.npy').tolist()\n",
    "order_test_data = np.load('df/order_test_data.npy').tolist()\n",
    "\n",
    "list_device_class_code = pd.DataFrame(main_test_data).device_class_code.value_counts().index.tolist()\n",
    "list_os_family_code = pd.DataFrame(main_test_data).os_family_code.value_counts().index.tolist()\n",
    "list_os_code = pd.DataFrame(main_test_data).os_code.value_counts().index.tolist()\n",
    "list_ua_class_code = pd.DataFrame(main_test_data).ua_class_code.value_counts().index.tolist()\n",
    "list_ua_family_code = pd.DataFrame(main_test_data).ua_family_code.value_counts().index.tolist()\n",
    "list_ua_version = pd.DataFrame(main_test_data).ua_version.value_counts().index.tolist()\n",
    "\n",
    "print(\"Device count: {}\".format(len(list_device_class_code)))\n",
    "print(\"Device platform family count: {}\".format(len(list_os_family_code)))\n",
    "print(\"Device platform count: {}\".format(len(list_os_code)))\n",
    "print(\"Device browser class count: {}\".format(len(list_ua_class_code)))\n",
    "print(\"Device browser family count: {}\".format(len(list_ua_family_code)))\n",
    "print(\"Device browser version count: {}\".format(len(list_ua_version)))"
   ]
  },
  {
   "cell_type": "markdown",
   "metadata": {},
   "source": [
    "### Train Part"
   ]
  },
  {
   "cell_type": "code",
   "execution_count": 16,
   "metadata": {
    "collapsed": true,
    "scrolled": true
   },
   "outputs": [],
   "source": [
    "important_orders_keys_set = {\n",
    "    'Upgrade-Insecure-Requests',\n",
    "    'Accept', \n",
    "    'If-Modified-Since',\n",
    "    'Host', \n",
    "    'Connection', \n",
    "    'User-Agent', \n",
    "    'From', \n",
    "    'Accept-Encoding' \n",
    "}\n",
    "\n",
    "important_values_keys_set = {\n",
    "    'Accept', \n",
    "    'Accept-Charset', \n",
    "    'Accept-Encoding'\n",
    "}"
   ]
  },
  {
   "cell_type": "code",
   "execution_count": 17,
   "metadata": {},
   "outputs": [
    {
     "name": "stderr",
     "output_type": "stream",
     "text": [
      "100%|██████████| 571145/571145 [00:01<00:00, 483639.27it/s]\n",
      "100%|██████████| 571145/571145 [00:02<00:00, 235417.57it/s]\n",
      " 11%|█▏        | 64767/571145 [00:00<00:00, 647665.99it/s]"
     ]
    },
    {
     "name": "stdout",
     "output_type": "stream",
     "text": [
      "Sparse dummy orders shape: \n",
      "(571145, 50)\n"
     ]
    },
    {
     "name": "stderr",
     "output_type": "stream",
     "text": [
      "100%|██████████| 571145/571145 [00:00<00:00, 707579.31it/s]\n"
     ]
    },
    {
     "name": "stdout",
     "output_type": "stream",
     "text": [
      "Sparse dummy values shape: \n",
      "(571145, 516)\n"
     ]
    }
   ],
   "source": [
    "from lib.parsers.logParser import LogParser\n",
    "\n",
    "orders_vectorizer = sklearn.feature_extraction.DictVectorizer(sparse=True, dtype=float)\n",
    "values_vectorizer = sklearn.feature_extraction.DictVectorizer(sparse=True, dtype=float)\n",
    "\n",
    "l_parser = LogParser(log_folder='Logs/')\n",
    "l_parser.reassign_orders_values(order_data, values_data)\n",
    "\n",
    "full_sparce_dummy = l_parser.prepare_data(orders_vectorizer, values_vectorizer, important_orders_keys_set, important_values_keys_set, fit_dict=True)"
   ]
  },
  {
   "cell_type": "code",
   "execution_count": 18,
   "metadata": {},
   "outputs": [
    {
     "data": {
      "text/plain": [
       "(571145, 9)"
      ]
     },
     "execution_count": 18,
     "metadata": {},
     "output_type": "execute_result"
    }
   ],
   "source": [
    "from sklearn import preprocessing\n",
    "\n",
    "lb = preprocessing.LabelBinarizer(sparse_output=True)\n",
    "\n",
    "list_device_class_code = main_df.device_class_code.value_counts().index.tolist()\n",
    "list_device_class_code.append('NaN')\n",
    "lb.fit(list_device_class_code)\n",
    "\n",
    "y_device_class = lb.transform(main_df.device_class_code.fillna('NaN'))\n",
    "y_device_class.shape"
   ]
  },
  {
   "cell_type": "code",
   "execution_count": 19,
   "metadata": {
    "collapsed": true
   },
   "outputs": [],
   "source": [
    "from sklearn.model_selection import GridSearchCV, cross_val_predict, cross_val_score, train_test_split, KFold\n",
    "from sklearn.linear_model import LogisticRegression\n",
    "from sklearn.metrics import roc_auc_score, roc_curve, f1_score, make_scorer\n",
    "from sklearn.multiclass import OneVsRestClassifier\n",
    "from sklearn import preprocessing\n",
    "\n",
    "X_train, X_test, y_train, y_test = train_test_split(full_sparce_dummy, y_device_class, test_size=0.33, random_state=42)"
   ]
  },
  {
   "cell_type": "code",
   "execution_count": 20,
   "metadata": {},
   "outputs": [
    {
     "name": "stdout",
     "output_type": "stream",
     "text": [
      "CPU times: user 1min 50s, sys: 56 ms, total: 1min 51s\n",
      "Wall time: 1min 51s\n"
     ]
    }
   ],
   "source": [
    "%%time\n",
    "clf = OneVsRestClassifier(LogisticRegression(random_state=42, C=100))\n",
    "clf.fit(X_train, y_train)"
   ]
  },
  {
   "cell_type": "code",
   "execution_count": 24,
   "metadata": {},
   "outputs": [
    {
     "name": "stderr",
     "output_type": "stream",
     "text": [
      "188478it [00:04, 37726.31it/s]\n"
     ]
    }
   ],
   "source": [
    "from lib.thresholdPredictions import ThresholdPredictions\n",
    "\n",
    "pred = ThresholdPredictions(user_agent_list=lb.classes_.tolist(), clf=clf)\n",
    "y_test_names, y_predicted, compare_answers, answers_count = pred.predict(X_test, y_test, 0.13, sparce_y=True)"
   ]
  },
  {
   "cell_type": "code",
   "execution_count": 25,
   "metadata": {},
   "outputs": [
    {
     "name": "stdout",
     "output_type": "stream",
     "text": [
      "sparse_dummy_values.shape: (571145, 566)\n",
      "Answers Count (Average) = 1.582847865533378\n",
      "True Positive = 0.954557030528762\n"
     ]
    },
    {
     "data": {
      "text/html": [
       "<div>\n",
       "<style>\n",
       "    .dataframe thead tr:only-child th {\n",
       "        text-align: right;\n",
       "    }\n",
       "\n",
       "    .dataframe thead th {\n",
       "        text-align: left;\n",
       "    }\n",
       "\n",
       "    .dataframe tbody tr th {\n",
       "        vertical-align: top;\n",
       "    }\n",
       "</style>\n",
       "<table border=\"1\" class=\"dataframe\">\n",
       "  <thead>\n",
       "    <tr>\n",
       "      <th></th>\n",
       "      <th>test</th>\n",
       "      <th>predicted</th>\n",
       "      <th>correctness</th>\n",
       "      <th>count</th>\n",
       "    </tr>\n",
       "    <tr>\n",
       "      <th></th>\n",
       "      <th>0</th>\n",
       "      <th>0</th>\n",
       "      <th>0</th>\n",
       "      <th>0</th>\n",
       "    </tr>\n",
       "  </thead>\n",
       "  <tbody>\n",
       "    <tr>\n",
       "      <th>0</th>\n",
       "      <td>smartphone</td>\n",
       "      <td>[smartphone]</td>\n",
       "      <td>True</td>\n",
       "      <td>1</td>\n",
       "    </tr>\n",
       "    <tr>\n",
       "      <th>1</th>\n",
       "      <td>desktop</td>\n",
       "      <td>[desktop]</td>\n",
       "      <td>True</td>\n",
       "      <td>1</td>\n",
       "    </tr>\n",
       "    <tr>\n",
       "      <th>2</th>\n",
       "      <td>smartphone</td>\n",
       "      <td>[desktop, smartphone]</td>\n",
       "      <td>True</td>\n",
       "      <td>2</td>\n",
       "    </tr>\n",
       "    <tr>\n",
       "      <th>3</th>\n",
       "      <td>smartphone</td>\n",
       "      <td>[desktop, smartphone]</td>\n",
       "      <td>True</td>\n",
       "      <td>2</td>\n",
       "    </tr>\n",
       "    <tr>\n",
       "      <th>4</th>\n",
       "      <td>desktop</td>\n",
       "      <td>[desktop]</td>\n",
       "      <td>True</td>\n",
       "      <td>1</td>\n",
       "    </tr>\n",
       "    <tr>\n",
       "      <th>...</th>\n",
       "      <td>...</td>\n",
       "      <td>...</td>\n",
       "      <td>...</td>\n",
       "      <td>...</td>\n",
       "    </tr>\n",
       "    <tr>\n",
       "      <th>188473</th>\n",
       "      <td>desktop</td>\n",
       "      <td>[desktop]</td>\n",
       "      <td>True</td>\n",
       "      <td>1</td>\n",
       "    </tr>\n",
       "    <tr>\n",
       "      <th>188474</th>\n",
       "      <td>desktop</td>\n",
       "      <td>[desktop]</td>\n",
       "      <td>True</td>\n",
       "      <td>1</td>\n",
       "    </tr>\n",
       "    <tr>\n",
       "      <th>188475</th>\n",
       "      <td>smartphone</td>\n",
       "      <td>[smartphone, tablet]</td>\n",
       "      <td>True</td>\n",
       "      <td>2</td>\n",
       "    </tr>\n",
       "    <tr>\n",
       "      <th>188476</th>\n",
       "      <td>desktop</td>\n",
       "      <td>[desktop, smartphone]</td>\n",
       "      <td>True</td>\n",
       "      <td>2</td>\n",
       "    </tr>\n",
       "    <tr>\n",
       "      <th>188477</th>\n",
       "      <td>desktop</td>\n",
       "      <td>[desktop]</td>\n",
       "      <td>True</td>\n",
       "      <td>1</td>\n",
       "    </tr>\n",
       "  </tbody>\n",
       "</table>\n",
       "<p>188478 rows × 4 columns</p>\n",
       "</div>"
      ],
      "text/plain": [
       "              test              predicted correctness count\n",
       "                 0                      0           0     0\n",
       "0       smartphone           [smartphone]        True     1\n",
       "1          desktop              [desktop]        True     1\n",
       "2       smartphone  [desktop, smartphone]        True     2\n",
       "3       smartphone  [desktop, smartphone]        True     2\n",
       "4          desktop              [desktop]        True     1\n",
       "...            ...                    ...         ...   ...\n",
       "188473     desktop              [desktop]        True     1\n",
       "188474     desktop              [desktop]        True     1\n",
       "188475  smartphone   [smartphone, tablet]        True     2\n",
       "188476     desktop  [desktop, smartphone]        True     2\n",
       "188477     desktop              [desktop]        True     1\n",
       "\n",
       "[188478 rows x 4 columns]"
      ]
     },
     "execution_count": 25,
     "metadata": {},
     "output_type": "execute_result"
    }
   ],
   "source": [
    "compare_frame = pd.concat(\n",
    "    [\n",
    "        y_test_names,\n",
    "        y_predicted, \n",
    "        pd.DataFrame(compare_answers), \n",
    "        pd.DataFrame(answers_count)\n",
    "    ], keys=['test', 'predicted', 'correctness', 'count'], axis=1, join='inner')\n",
    "\n",
    "#print('Headers: ' + str(' '.join(important_keys)))\n",
    "print('sparse_dummy_values.shape: ' + str(full_sparce_dummy.shape))\n",
    "print(\"Answers Count (Average) = {0}\".format(np.average(answers_count)))\n",
    "smart_accuracy = numpy.sum(compare_answers) / y_test.shape[0]\n",
    "print(\"True Positive = {0}\".format(smart_accuracy))\n",
    "compare_frame"
   ]
  },
  {
   "cell_type": "code",
   "execution_count": 26,
   "metadata": {},
   "outputs": [
    {
     "data": {
      "text/plain": [
       "0            desktop\n",
       "1         smartphone\n",
       "2            desktop\n",
       "3            desktop\n",
       "4            desktop\n",
       "             ...    \n",
       "571140    smartphone\n",
       "571141       desktop\n",
       "571142       desktop\n",
       "571143       desktop\n",
       "571144       desktop\n",
       "Name: device_class_code, Length: 571145, dtype: object"
      ]
     },
     "execution_count": 26,
     "metadata": {},
     "output_type": "execute_result"
    }
   ],
   "source": [
    "pd.DataFrame(main_data).device_class_code"
   ]
  },
  {
   "cell_type": "code",
   "execution_count": 27,
   "metadata": {},
   "outputs": [
    {
     "data": {
      "text/plain": [
       "array([[0, 1, 0, 0, 0, 0, 0, 0, 0]])"
      ]
     },
     "execution_count": 27,
     "metadata": {},
     "output_type": "execute_result"
    }
   ],
   "source": [
    "y_device_class[0].toarray()"
   ]
  },
  {
   "cell_type": "code",
   "execution_count": 10,
   "metadata": {},
   "outputs": [
    {
     "data": {
      "text/plain": [
       "['desktop',\n",
       " 'smartphone',\n",
       " 'tablet',\n",
       " 'unrecognized',\n",
       " 'smart_tv',\n",
       " 'game_console',\n",
       " 'pda',\n",
       " 'wearable_computer',\n",
       " 'NaN']"
      ]
     },
     "execution_count": 10,
     "metadata": {},
     "output_type": "execute_result"
    }
   ],
   "source": [
    "list_device_class_code"
   ]
  },
  {
   "cell_type": "code",
   "execution_count": 14,
   "metadata": {},
   "outputs": [
    {
     "data": {
      "text/plain": [
       "['NaN',\n",
       " 'desktop',\n",
       " 'game_console',\n",
       " 'pda',\n",
       " 'smart_tv',\n",
       " 'smartphone',\n",
       " 'tablet',\n",
       " 'unrecognized',\n",
       " 'wearable_computer']"
      ]
     },
     "execution_count": 14,
     "metadata": {},
     "output_type": "execute_result"
    }
   ],
   "source": [
    "lb.classes_.tolist()"
   ]
  },
  {
   "cell_type": "markdown",
   "metadata": {
    "collapsed": true,
    "scrolled": true
   },
   "source": [
    "## Load all data to full lists"
   ]
  },
  {
   "cell_type": "code",
   "execution_count": null,
   "metadata": {},
   "outputs": [
    {
     "name": "stderr",
     "output_type": "stream",
     "text": [
      " 54%|█████▍    | 68/126 [6:29:27<4:14:41, 263.48s/it] "
     ]
    }
   ],
   "source": [
    "from lib.parsers.logParser import LogParser\n",
    "\n",
    "l_parser = LogParser(log_folder='Logs/')\n",
    "\n",
    "main_data, _, _ = l_parser.parse_train_sample(0, 128, filter_crawlers=True, parse_ua=True)"
   ]
  },
  {
   "cell_type": "code",
   "execution_count": 28,
   "metadata": {},
   "outputs": [
    {
     "data": {
      "text/plain": [
       "1634500"
      ]
     },
     "execution_count": 28,
     "metadata": {},
     "output_type": "execute_result"
    }
   ],
   "source": [
    "len(main_data)"
   ]
  },
  {
   "cell_type": "code",
   "execution_count": 15,
   "metadata": {},
   "outputs": [
    {
     "name": "stdout",
     "output_type": "stream",
     "text": [
      "Device count: 8\n",
      "Device platform family count: 37\n",
      "Device platform count: 109\n",
      "Device browser class count: 10\n",
      "Device browser family count: 193\n",
      "Device browser version count: 5790\n"
     ]
    }
   ],
   "source": [
    "main_df = pd.DataFrame(main_data)\n",
    "\n",
    "main_df\n",
    "\n",
    "list_device_class_code = main_df.device_class_code.value_counts().index.tolist()\n",
    "list_os_family_code = main_df.os_family_code.value_counts().index.tolist()\n",
    "list_os_code = main_df.os_code.value_counts().index.tolist()\n",
    "list_ua_class_code = main_df.ua_class_code.value_counts().index.tolist()\n",
    "list_ua_family_code = main_df.ua_family_code.value_counts().index.tolist()\n",
    "list_ua_version = main_df.ua_version.value_counts().index.tolist()\n",
    "\n",
    "print(\"Device count: {}\".format(len(list_device_class_code)))\n",
    "print(\"Device platform family count: {}\".format(len(list_os_family_code)))\n",
    "print(\"Device platform count: {}\".format(len(list_os_code)))\n",
    "print(\"Device browser class count: {}\".format(len(list_ua_class_code)))\n",
    "print(\"Device browser family count: {}\".format(len(list_ua_family_code)))\n",
    "print(\"Device browser version count: {}\".format(len(list_ua_version)))"
   ]
  },
  {
   "cell_type": "code",
   "execution_count": 23,
   "metadata": {},
   "outputs": [
    {
     "data": {
      "text/plain": [
       "desktop              1112408\n",
       "smartphone            385174\n",
       "tablet                 61307\n",
       "unrecognized           23285\n",
       "smart_tv                 543\n",
       "game_console              77\n",
       "pda                        3\n",
       "wearable_computer          1\n",
       "Name: device_class_code, dtype: int64"
      ]
     },
     "execution_count": 23,
     "metadata": {},
     "output_type": "execute_result"
    },
    {
     "data": {
      "image/png": "[encoded data removed]",
      "text/plain": [
       "<matplotlib.figure.Figure at 0x7ff240188668>"
      ]
     },
     "metadata": {},
     "output_type": "display_data"
    }
   ],
   "source": [
    "main_df.device_class_code.value_counts().hist()\n",
    "plt.xlabel('Число значений')\n",
    "plt.ylabel('Количество таких значений')\n",
    "main_df.device_class_code.value_counts()"
   ]
  },
  {
   "cell_type": "code",
   "execution_count": 22,
   "metadata": {},
   "outputs": [
    {
     "data": {
      "text/plain": [
       "windows       1064126\n",
       "android        316353\n",
       "ios            108245\n",
       "jvm             30563\n",
       "osx             25403\n",
       "               ...   \n",
       "inferno_os          1\n",
       "syllable            1\n",
       "web_os              1\n",
       "nintendo            1\n",
       "hp_ux               1\n",
       "Name: os_family_code, Length: 37, dtype: int64"
      ]
     },
     "execution_count": 22,
     "metadata": {},
     "output_type": "execute_result"
    },
    {
     "data": {
      "image/png": "[encoded data removed]",
      "text/plain": [
       "<matplotlib.figure.Figure at 0x7ff23ebe69b0>"
      ]
     },
     "metadata": {},
     "output_type": "display_data"
    }
   ],
   "source": [
    "main_df.os_family_code.value_counts().hist()\n",
    "plt.xlabel('Число значений')\n",
    "plt.ylabel('Количество таких значений')\n",
    "main_df.os_family_code.value_counts()"
   ]
  },
  {
   "cell_type": "code",
   "execution_count": 24,
   "metadata": {},
   "outputs": [
    {
     "data": {
      "text/plain": [
       "windows_7      539773\n",
       "windows_xp     220819\n",
       "windows_10     160205\n",
       "windows_8_1     79378\n",
       "android_4_4     78617\n",
       "                ...  \n",
       "inferno_os          1\n",
       "web_os              1\n",
       "android_1_6         1\n",
       "syllable            1\n",
       "hp_ux               1\n",
       "Name: os_code, Length: 109, dtype: int64"
      ]
     },
     "execution_count": 24,
     "metadata": {},
     "output_type": "execute_result"
    },
    {
     "data": {
      "image/png": "[encoded data removed]",
      "text/plain": [
       "<matplotlib.figure.Figure at 0x7ff2409ace10>"
      ]
     },
     "metadata": {},
     "output_type": "display_data"
    }
   ],
   "source": [
    "main_df.os_code.value_counts().hist()\n",
    "plt.xlabel('Число значений')\n",
    "plt.ylabel('Количество таких значений')\n",
    "main_df.os_code.value_counts()"
   ]
  },
  {
   "cell_type": "code",
   "execution_count": 25,
   "metadata": {},
   "outputs": [
    {
     "data": {
      "text/plain": [
       "browser              1112571\n",
       "mobile_browser        445039\n",
       "library                22995\n",
       "email_client            1675\n",
       "unrecognized             419\n",
       "multimedia_player         43\n",
       "validator                 33\n",
       "offline_browser           17\n",
       "feed_reader                5\n",
       "wap_browser                1\n",
       "Name: ua_class_code, dtype: int64"
      ]
     },
     "execution_count": 25,
     "metadata": {},
     "output_type": "execute_result"
    },
    {
     "data": {
      "image/png": "[encoded data removed]",
      "text/plain": [
       "<matplotlib.figure.Figure at 0x7ff24021c9b0>"
      ]
     },
     "metadata": {},
     "output_type": "display_data"
    }
   ],
   "source": [
    "main_df.ua_class_code.value_counts().hist()\n",
    "plt.xlabel('Число значений')\n",
    "plt.ylabel('Количество таких значений')\n",
    "main_df.ua_class_code.value_counts()"
   ]
  },
  {
   "cell_type": "code",
   "execution_count": 26,
   "metadata": {},
   "outputs": [
    {
     "data": {
      "text/plain": [
       "chrome            363808\n",
       "firefox           273524\n",
       "chrome_mobile     220982\n",
       "yandex-browser    162732\n",
       "ie                137031\n",
       "                   ...  \n",
       "wosbrowser             1\n",
       "sundance               1\n",
       "ibrowse                1\n",
       "abrowse                1\n",
       "winwap                 1\n",
       "Name: ua_family_code, Length: 193, dtype: int64"
      ]
     },
     "execution_count": 26,
     "metadata": {},
     "output_type": "execute_result"
    },
    {
     "data": {
      "image/png": "[encoded data removed]",
      "text/plain": [
       "<matplotlib.figure.Figure at 0x7ff34705e2e8>"
      ]
     },
     "metadata": {},
     "output_type": "display_data"
    }
   ],
   "source": [
    "main_df.ua_family_code.value_counts().hist()\n",
    "plt.xlabel('Число значений')\n",
    "plt.ylabel('Количество таких значений')\n",
    "main_df.ua_family_code.value_counts()"
   ]
  },
  {
   "cell_type": "code",
   "execution_count": 29,
   "metadata": {},
   "outputs": [
    {
     "data": {
      "text/plain": [
       "chrome              363808\n",
       "firefox             273524\n",
       "chrome_mobile       220982\n",
       "yandex-browser      162732\n",
       "ie                  137031\n",
       "                     ...  \n",
       "arora                  159\n",
       "epiphany               159\n",
       "rambler_browser        156\n",
       "deepnet_explorer       115\n",
       "konqueror              113\n",
       "Name: ua_family_code, Length: 62, dtype: int64"
      ]
     },
     "execution_count": 29,
     "metadata": {},
     "output_type": "execute_result"
    }
   ],
   "source": [
    "main_df.ua_family_code.value_counts()[main_df.ua_family_code.value_counts() > 100]"
   ]
  },
  {
   "cell_type": "code",
   "execution_count": 30,
   "metadata": {},
   "outputs": [
    {
     "data": {
      "text/plain": [
       "chrome56.0.2924.87           119069\n",
       "firefox7.0.1                  76257\n",
       "safari_mobile10.0             63563\n",
       "yandex-browser17.3.1.840      51358\n",
       "chrome_mobile55.0.2883.91     49042\n",
       "                              ...  \n",
       "opera22.0.1485.81203              1\n",
       "chrome54.0.2824.0                 1\n",
       "chrome52.0.2767.81                1\n",
       "uc_browser5.6.13108.1008          1\n",
       "chrome22.0.345.606                1\n",
       "Name: ua_version, Length: 5790, dtype: int64"
      ]
     },
     "execution_count": 30,
     "metadata": {},
     "output_type": "execute_result"
    },
    {
     "data": {
      "image/png": "[encoded data removed]",
      "text/plain": [
       "<matplotlib.figure.Figure at 0x7ff23b3b84a8>"
      ]
     },
     "metadata": {},
     "output_type": "display_data"
    }
   ],
   "source": [
    "main_df.ua_version.value_counts().hist()\n",
    "plt.xlabel('Число значений')\n",
    "plt.ylabel('Количество таких значений')\n",
    "main_df.ua_version.value_counts()"
   ]
  },
  {
   "cell_type": "code",
   "execution_count": 31,
   "metadata": {},
   "outputs": [
    {
     "data": {
      "text/plain": [
       "chrome              363808\n",
       "firefox             273524\n",
       "chrome_mobile       220982\n",
       "yandex-browser      162732\n",
       "ie                  137031\n",
       "                     ...  \n",
       "arora                  159\n",
       "epiphany               159\n",
       "rambler_browser        156\n",
       "deepnet_explorer       115\n",
       "konqueror              113\n",
       "Name: ua_family_code, Length: 62, dtype: int64"
      ]
     },
     "execution_count": 31,
     "metadata": {},
     "output_type": "execute_result"
    }
   ],
   "source": [
    "main_df.ua_family_code.value_counts()[main_df.ua_family_code.value_counts() > 100]"
   ]
  },
  {
   "cell_type": "markdown",
   "metadata": {},
   "source": [
    "### 62 from 5790 Browsers in TOP"
   ]
  },
  {
   "cell_type": "code",
   "execution_count": 32,
   "metadata": {},
   "outputs": [
    {
     "data": {
      "text/plain": [
       "<matplotlib.axes._subplots.AxesSubplot at 0x7ff23b3153c8>"
      ]
     },
     "execution_count": 32,
     "metadata": {},
     "output_type": "execute_result"
    },
    {
     "data": {
      "image/png": "[encoded data removed]",
      "text/plain": [
       "<matplotlib.figure.Figure at 0x7ff2407d8048>"
      ]
     },
     "metadata": {},
     "output_type": "display_data"
    }
   ],
   "source": [
    "main_df.ua_family_code.value_counts()[main_df.ua_family_code.value_counts() < 100].hist()"
   ]
  },
  {
   "cell_type": "code",
   "execution_count": 33,
   "metadata": {},
   "outputs": [
    {
     "data": {
      "text/plain": [
       "chrome                    363808\n",
       "firefox                   273524\n",
       "chrome_mobile             220982\n",
       "yandex-browser            162732\n",
       "ie                        137031\n",
       "                           ...  \n",
       "kindle_browser                11\n",
       "guzzle                        11\n",
       "weltweitimnetz_browser        11\n",
       "wkhtmltopdf                   11\n",
       "browzar                       11\n",
       "Name: ua_family_code, Length: 117, dtype: int64"
      ]
     },
     "execution_count": 33,
     "metadata": {},
     "output_type": "execute_result"
    }
   ],
   "source": [
    "main_df.ua_family_code.value_counts()[main_df.ua_family_code.value_counts() > 10]"
   ]
  },
  {
   "cell_type": "markdown",
   "metadata": {},
   "source": [
    "### Only 117 browsers met over 10 times\n",
    "\n",
    "So we can safely assume that the error from the new unpopular browsers is minimal"
   ]
  },
  {
   "cell_type": "code",
   "execution_count": 36,
   "metadata": {
    "collapsed": true
   },
   "outputs": [],
   "source": [
    "with open(\"df/group_labels/list_ua_version.txt\", 'w') as f:\n",
    "    for s in list_ua_version:\n",
    "        f.write(s + '\\n')\n",
    "\n",
    "with open(\"df/group_labels/list_ua_family_code.txt\", 'w') as f:\n",
    "    for s in list_ua_family_code:\n",
    "        f.write(s + '\\n')\n",
    "\n",
    "with open(\"df/group_labels/list_ua_class_code.txt\", 'w') as f:\n",
    "    for s in list_ua_class_code:\n",
    "        f.write(s + '\\n')\n",
    "        \n",
    "with open(\"df/group_labels/list_os_code.txt\", 'w') as f:\n",
    "    for s in list_os_code:\n",
    "        f.write(s + '\\n')\n",
    "\n",
    "with open(\"df/group_labels/list_os_family_code.txt\", 'w') as f:\n",
    "    for s in list_os_family_code:\n",
    "        f.write(s + '\\n')\n",
    "\n",
    "with open(\"df/group_labels/list_device_class_code.txt\", 'w') as f:\n",
    "    for s in list_device_class_code:\n",
    "        f.write(s + '\\n')"
   ]
  },
  {
   "cell_type": "markdown",
   "metadata": {},
   "source": [
    "### Test Bot Data and other samples set"
   ]
  },
  {
   "cell_type": "code",
   "execution_count": 5,
   "metadata": {},
   "outputs": [
    {
     "name": "stdout",
     "output_type": "stream",
     "text": [
      "Main2_data saved with size(Bytes): 46100951\n",
      "Values2_data saved with size(Bytes): 133747688\n",
      "Order2_data saved with size(Bytes): 21316262\n"
     ]
    }
   ],
   "source": [
    "from lib.parsers.logParser import LogParser\n",
    "\n",
    "l_parser = LogParser(log_folder='Logs/')\n",
    "\n",
    "main2_data, values2_data, order2_data = l_parser.parse_train_sample(30, 40, filter_crawlers=True, parse_ua=True)\n",
    "\n",
    "np.save('df/main2_data.npy', np.array(main2_data))\n",
    "print(\"Main2_data saved with size(Bytes): {}\".format(os.stat('df/main2_data.npy').st_size))\n",
    "np.save('df/values2_data.npy', np.array(values2_data))\n",
    "print(\"Values2_data saved with size(Bytes): {}\".format(os.stat('df/values2_data.npy').st_size))\n",
    "np.save('df/order2_data.npy', np.array(order2_data))\n",
    "print(\"Order2_data saved with size(Bytes): {}\".format(os.stat('df/order2_data.npy').st_size))"
   ]
  },
  {
   "cell_type": "code",
   "execution_count": 5,
   "metadata": {},
   "outputs": [
    {
     "name": "stdout",
     "output_type": "stream",
     "text": [
      "Main2_bot_test_data saved with size(Bytes): 34687220\n",
      "Values2_bot_data saved with size(Bytes): 182712696\n",
      "Order2_bot_data saved with size(Bytes): 27279318\n"
     ]
    }
   ],
   "source": [
    "from lib.parsers.logParser import LogParser\n",
    "\n",
    "l_parser = LogParser(log_folder='Logs/')\n",
    "\n",
    "main2_bot_data, values2_bot_data, order2_bot_data = l_parser.parse_bot_sample(50, 60, 40, 50, filter_crawlers=True, parse_ua=True)\n",
    "\n",
    "np.save('df/main2_bot_data.npy', np.array(main2_bot_data))\n",
    "print(\"Main2_bot_test_data saved with size(Bytes): {}\".format(os.stat('df/main2_bot_data.npy').st_size))\n",
    "np.save('df/values2_bot_data.npy', np.array(values2_bot_data))\n",
    "print(\"Values2_bot_data saved with size(Bytes): {}\".format(os.stat('df/values2_bot_data.npy').st_size))\n",
    "np.save('df/order2_bot_data.npy', np.array(order2_bot_data))\n",
    "print(\"Order2_bot_data saved with size(Bytes): {}\".format(os.stat('df/order2_bot_data.npy').st_size))"
   ]
  },
  {
   "cell_type": "code",
   "execution_count": null,
   "metadata": {
    "collapsed": true
   },
   "outputs": [],
   "source": []
  }
 ],
 "metadata": {
  "kernelspec": {
   "display_name": "Python 3",
   "language": "python",
   "name": "python3"
  },
  "language_info": {
   "codemirror_mode": {
    "name": "ipython",
    "version": 3
   },
   "file_extension": ".py",
   "mimetype": "text/x-python",
   "name": "python",
   "nbconvert_exporter": "python",
   "pygments_lexer": "ipython3",
   "version": "3.6.1"
  }
 },
 "nbformat": 4,
 "nbformat_minor": 2
}

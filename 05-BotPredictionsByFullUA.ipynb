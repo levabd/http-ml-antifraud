{
 "cells": [
  {
   "cell_type": "code",
   "execution_count": 1,
   "metadata": {},
   "outputs": [
    {
     "name": "stdout",
     "output_type": "stream",
     "text": [
      "Populating the interactive namespace from numpy and matplotlib\n"
     ]
    },
    {
     "name": "stderr",
     "output_type": "stream",
     "text": [
      "/home/levabd/anaconda3/lib/python3.6/site-packages/IPython/core/magics/pylab.py:161: UserWarning: pylab import has clobbered these variables: ['plt']\n",
      "`%matplotlib` prevents importing * from pylab and numpy\n",
      "  \"\\n`%matplotlib` prevents importing * from pylab and numpy\"\n"
     ]
    }
   ],
   "source": [
    "import pandas as pd\n",
    "import numpy as np\n",
    "\n",
    "import scipy.sparse\n",
    "import sklearn.feature_extraction\n",
    "\n",
    "import matplotlib.pylab as plt\n",
    "%matplotlib inline\n",
    "\n",
    "from tqdm import tqdm\n",
    "import platform\n",
    "\n",
    "pd.set_option(\"display.max_rows\", 10)\n",
    "pd.set_option('display.max_columns', 1100)\n",
    "\n",
    "import os\n",
    "\n",
    "%pylab inline\n",
    "warnings.filterwarnings('ignore')"
   ]
  },
  {
   "cell_type": "markdown",
   "metadata": {},
   "source": [
    "## Train part\n",
    "\n",
    "### Load data from logs"
   ]
  },
  {
   "cell_type": "code",
   "execution_count": 2,
   "metadata": {},
   "outputs": [
    {
     "name": "stderr",
     "output_type": "stream",
     "text": [
      "100%|██████████| 30/30 [00:24<00:00,  1.31it/s]\n"
     ]
    }
   ],
   "source": [
    "from lib.parsers.logParser import LogParser\n",
    "\n",
    "l_parser = LogParser(log_folder='Logs/')\n",
    "\n",
    "main_data, values_data, order_data = l_parser.parse_train_sample(0, 30)\n",
    "\n",
    "list_ua = pd.DataFrame(main_data).User_Agent.value_counts().index.tolist()\n",
    "\n",
    "# For NaN Useragent\n",
    "list_ua.append('0')"
   ]
  },
  {
   "cell_type": "code",
   "execution_count": 3,
   "metadata": {},
   "outputs": [
    {
     "name": "stderr",
     "output_type": "stream",
     "text": [
      "100%|██████████| 29903/29903 [00:00<00:00, 475915.41it/s]\n"
     ]
    },
    {
     "data": {
      "text/plain": [
       "103"
      ]
     },
     "execution_count": 3,
     "metadata": {},
     "output_type": "execute_result"
    }
   ],
   "source": [
    "order_keys = {'Accept'}\n",
    "\n",
    "for header in tqdm(order_data):\n",
    "    for key in header.keys():\n",
    "        order_keys.add(key)\n",
    "        \n",
    "len(order_keys)"
   ]
  },
  {
   "cell_type": "markdown",
   "metadata": {},
   "source": [
    "### Prepare train data"
   ]
  },
  {
   "cell_type": "code",
   "execution_count": 3,
   "metadata": {},
   "outputs": [
    {
     "name": "stderr",
     "output_type": "stream",
     "text": [
      "100%|██████████| 877616/877616 [00:02<00:00, 392324.47it/s]\n",
      "100%|██████████| 877616/877616 [00:04<00:00, 206135.61it/s]\n",
      "  6%|▋         | 56103/877616 [00:00<00:01, 561027.86it/s]"
     ]
    },
    {
     "name": "stdout",
     "output_type": "stream",
     "text": [
      "Sparse dummy orders shape: \n",
      "(877616, 54)\n"
     ]
    },
    {
     "name": "stderr",
     "output_type": "stream",
     "text": [
      "100%|██████████| 877616/877616 [00:01<00:00, 587345.61it/s]\n"
     ]
    },
    {
     "name": "stdout",
     "output_type": "stream",
     "text": [
      "Sparse dummy values shape: \n",
      "(877616, 569)\n"
     ]
    }
   ],
   "source": [
    "important_values_keys_set = {\n",
    "    'Accept', \n",
    "    'Accept-Charset', \n",
    "    'Accept-Encoding'\n",
    "}\n",
    "important_orders_keys_set = {\n",
    "    'Upgrade-Insecure-Requests',\n",
    "    'Accept', \n",
    "    'If-Modified-Since',\n",
    "    'Host', \n",
    "    'Connection', \n",
    "    'User-Agent', \n",
    "    'From', \n",
    "    'Accept-Encoding' \n",
    "}\n",
    "\n",
    "orders_vectorizer = sklearn.feature_extraction.DictVectorizer(sparse=True, dtype=float)\n",
    "values_vectorizer = sklearn.feature_extraction.DictVectorizer(sparse=True, dtype=float)\n",
    "\n",
    "l_parser.reassign_orders_values(order_data, values_data)\n",
    "full_sparce_dummy = l_parser.prepare_data(orders_vectorizer, values_vectorizer, important_orders_keys_set, important_values_keys_set, fit_dict=True)\n",
    "\n",
    "from sklearn import preprocessing\n",
    "\n",
    "lb = preprocessing.LabelBinarizer(sparse_output=True)\n",
    "lb.fit(list_ua)\n",
    "y = lb.transform(pd.DataFrame(main_data).User_Agent.fillna('0'))"
   ]
  },
  {
   "cell_type": "markdown",
   "metadata": {},
   "source": [
    "### Train model"
   ]
  },
  {
   "cell_type": "code",
   "execution_count": null,
   "metadata": {},
   "outputs": [],
   "source": [
    "%%time\n",
    "\n",
    "from sklearn.linear_model import LogisticRegression\n",
    "from sklearn.multiclass import OneVsRestClassifier\n",
    "\n",
    "smart_clf = OneVsRestClassifier(LogisticRegression(C=100))\n",
    "smart_clf.fit(full_sparce_dummy, y)"
   ]
  },
  {
   "cell_type": "markdown",
   "metadata": {},
   "source": [
    "### Save classifier"
   ]
  },
  {
   "cell_type": "code",
   "execution_count": null,
   "metadata": {},
   "outputs": [],
   "source": [
    "import os\n",
    "from sklearn.externals import joblib\n",
    "\n",
    "filename = 'cls/dummyordr_and_values_fullua_logreg_cls(one_vs_rest).joblib.pkl'\n",
    "_ = joblib.dump(smart_clf, filename, compress=9)\n",
    "\n",
    "print(\"Model saved with size(Bytes): {}\".format(os.stat(filename).st_size))\n",
    "\n",
    "from lib.helpers.fileSplitter import split_file\n",
    "\n",
    "files_count = split_file(filename, 'parted-cls/dummyordr_and_values_fullua_logreg_cls(one_vs_rest).joblib.pkl')\n",
    "\n",
    "print('Splitted in {} files'.format(files_count))"
   ]
  },
  {
   "cell_type": "markdown",
   "metadata": {},
   "source": [
    "## Test part\n",
    "\n",
    "### Prepare data (50/50 bots and human mixed)"
   ]
  },
  {
   "cell_type": "code",
   "execution_count": 36,
   "metadata": {},
   "outputs": [
    {
     "name": "stderr",
     "output_type": "stream",
     "text": [
      "100%|██████████| 1/1 [00:00<00:00,  1.33it/s]\n",
      "  0%|          | 0/1 [00:00<?, ?it/s]"
     ]
    },
    {
     "name": "stdout",
     "output_type": "stream",
     "text": [
      "Start parsing logs for distribution\n"
     ]
    },
    {
     "name": "stderr",
     "output_type": "stream",
     "text": [
      "100%|██████████| 1/1 [00:00<00:00,  2.04it/s]\n",
      "  0%|          | 0/1 [00:00<?, ?it/s]"
     ]
    },
    {
     "name": "stdout",
     "output_type": "stream",
     "text": [
      "Start parsing logs for values\n"
     ]
    },
    {
     "name": "stderr",
     "output_type": "stream",
     "text": [
      "100%|██████████| 1/1 [00:00<00:00,  1.83it/s]\n",
      "  0%|          | 164/46093 [00:00<00:28, 1636.03it/s]"
     ]
    },
    {
     "name": "stdout",
     "output_type": "stream",
     "text": [
      "Bots Generation\n"
     ]
    },
    {
     "name": "stderr",
     "output_type": "stream",
     "text": [
      "100%|██████████| 46093/46093 [00:29<00:00, 1587.90it/s]\n",
      "100%|██████████| 40000/40000 [00:00<00:00, 411989.86it/s]\n",
      "100%|██████████| 40000/40000 [00:00<00:00, 214565.18it/s]\n",
      "100%|██████████| 40000/40000 [00:00<00:00, 636699.24it/s]"
     ]
    },
    {
     "name": "stdout",
     "output_type": "stream",
     "text": [
      "Sparse dummy orders shape: \n",
      "(40000, 53)\n"
     ]
    },
    {
     "name": "stderr",
     "output_type": "stream",
     "text": [
      "\n"
     ]
    },
    {
     "name": "stdout",
     "output_type": "stream",
     "text": [
      "Sparse dummy values shape: \n",
      "(40000, 128)\n"
     ]
    },
    {
     "data": {
      "text/plain": [
       "(40000, 181)"
      ]
     },
     "execution_count": 36,
     "metadata": {},
     "output_type": "execute_result"
    }
   ],
   "source": [
    "# -- HUMANS --\n",
    "\n",
    "l_parser = LogParser(log_folder='Logs/')\n",
    "\n",
    "main_data, values_data, order_data = l_parser.parse_train_sample(35, 36)\n",
    "\n",
    "# -- BOTS --\n",
    "\n",
    "l_parser = LogParser(log_folder='Logs/')\n",
    "\n",
    "main_bot_data, values_bot_data, order_bot_data = l_parser.parse_bot_sample(40, 41, 50, 51)\n",
    "\n",
    "main_all = pd.DataFrame(main_data[:20000] + main_bot_data[:20000].to_dict('records'))\n",
    "main_all['is_human'] = False\n",
    "main_all.loc[0:19999,'is_human'] = True\n",
    "\n",
    "values_all = values_data[:20000] + values_bot_data[:20000]\n",
    "order_all = order_data[:20000] + order_bot_data[:20000]\n",
    "\n",
    "list_all_ua = main_all.User_Agent.value_counts().index.tolist()\n",
    "\n",
    "# For NaN Useragent\n",
    "list_all_ua.append('0')\n",
    "\n",
    "l_parser.reassign_orders_values(order_all, values_all)\n",
    "\n",
    "test_sparce_dummy = l_parser.prepare_data(orders_vectorizer, values_vectorizer, important_orders_keys_set, important_values_keys_set, fit_dict=False)\n",
    "\n",
    "lb_test = preprocessing.LabelBinarizer(sparse_output=True)\n",
    "lb_test.fit(list_all_ua)\n",
    "y_test = lb_test.transform(main_all.User_Agent.fillna('0'))\n",
    "\n",
    "test_sparce_dummy.shape"
   ]
  },
  {
   "cell_type": "code",
   "execution_count": 7,
   "metadata": {},
   "outputs": [
    {
     "name": "stdout",
     "output_type": "stream",
     "text": [
      "(40000, 5048)\n"
     ]
    },
    {
     "data": {
      "text/html": [
       "<div>\n",
       "<style>\n",
       "    .dataframe thead tr:only-child th {\n",
       "        text-align: right;\n",
       "    }\n",
       "\n",
       "    .dataframe thead th {\n",
       "        text-align: left;\n",
       "    }\n",
       "\n",
       "    .dataframe tbody tr th {\n",
       "        vertical-align: top;\n",
       "    }\n",
       "</style>\n",
       "<table border=\"1\" class=\"dataframe\">\n",
       "  <thead>\n",
       "    <tr style=\"text-align: right;\">\n",
       "      <th></th>\n",
       "      <th>User_Agent</th>\n",
       "      <th>ip</th>\n",
       "      <th>timestamp</th>\n",
       "      <th>is_human</th>\n",
       "    </tr>\n",
       "  </thead>\n",
       "  <tbody>\n",
       "    <tr>\n",
       "      <th>0</th>\n",
       "      <td>HybridBot (hybrid.ru/about. If our bot caused ...</td>\n",
       "      <td>212.8.236.60</td>\n",
       "      <td>1486332013</td>\n",
       "      <td>True</td>\n",
       "    </tr>\n",
       "    <tr>\n",
       "      <th>1</th>\n",
       "      <td>Mozilla/5.0 (compatible; GrapeshotCrawler/2.0;...</td>\n",
       "      <td>89.145.95.78</td>\n",
       "      <td>1486332024</td>\n",
       "      <td>True</td>\n",
       "    </tr>\n",
       "    <tr>\n",
       "      <th>2</th>\n",
       "      <td>Mozilla/5.0 (compatible; MSIE 10.0; Windows Ph...</td>\n",
       "      <td>95.56.172.37</td>\n",
       "      <td>1486332032</td>\n",
       "      <td>True</td>\n",
       "    </tr>\n",
       "    <tr>\n",
       "      <th>3</th>\n",
       "      <td>Mozilla/5.0 (compatible; Yahoo! Slurp; http://...</td>\n",
       "      <td>68.180.228.117</td>\n",
       "      <td>1486332049</td>\n",
       "      <td>True</td>\n",
       "    </tr>\n",
       "    <tr>\n",
       "      <th>4</th>\n",
       "      <td>Mozilla/5.0 (Linux; Android 6.0.1; Nexus 5X Bu...</td>\n",
       "      <td>66.249.64.184</td>\n",
       "      <td>1486332055</td>\n",
       "      <td>True</td>\n",
       "    </tr>\n",
       "    <tr>\n",
       "      <th>...</th>\n",
       "      <td>...</td>\n",
       "      <td>...</td>\n",
       "      <td>...</td>\n",
       "      <td>...</td>\n",
       "    </tr>\n",
       "    <tr>\n",
       "      <th>39995</th>\n",
       "      <td>Mozilla/5.0 (compatible; YandexBot/3.0; +http:...</td>\n",
       "      <td>178.71.80.105</td>\n",
       "      <td>1486845204</td>\n",
       "      <td>False</td>\n",
       "    </tr>\n",
       "    <tr>\n",
       "      <th>39996</th>\n",
       "      <td>Mozilla/5.0 (iPhone; CPU iPhone OS 10_2_1 like...</td>\n",
       "      <td>178.207.255.104</td>\n",
       "      <td>1486845206</td>\n",
       "      <td>False</td>\n",
       "    </tr>\n",
       "    <tr>\n",
       "      <th>39997</th>\n",
       "      <td>Mozilla/5.0 (Windows NT 6.1) AppleWebKit/537.3...</td>\n",
       "      <td>66.249.64.217</td>\n",
       "      <td>1486845212</td>\n",
       "      <td>False</td>\n",
       "    </tr>\n",
       "    <tr>\n",
       "      <th>39998</th>\n",
       "      <td>Mozilla/5.0 (compatible; AhrefsBot/5.2; +http:...</td>\n",
       "      <td>40.77.167.29</td>\n",
       "      <td>1486845217</td>\n",
       "      <td>False</td>\n",
       "    </tr>\n",
       "    <tr>\n",
       "      <th>39999</th>\n",
       "      <td>Mozilla/5.0 (Windows NT 10.0; Win64; x64) Appl...</td>\n",
       "      <td>68.180.229.238</td>\n",
       "      <td>1486845223</td>\n",
       "      <td>False</td>\n",
       "    </tr>\n",
       "  </tbody>\n",
       "</table>\n",
       "<p>40000 rows × 4 columns</p>\n",
       "</div>"
      ],
      "text/plain": [
       "                                              User_Agent               ip  \\\n",
       "0      HybridBot (hybrid.ru/about. If our bot caused ...     212.8.236.60   \n",
       "1      Mozilla/5.0 (compatible; GrapeshotCrawler/2.0;...     89.145.95.78   \n",
       "2      Mozilla/5.0 (compatible; MSIE 10.0; Windows Ph...     95.56.172.37   \n",
       "3      Mozilla/5.0 (compatible; Yahoo! Slurp; http://...   68.180.228.117   \n",
       "4      Mozilla/5.0 (Linux; Android 6.0.1; Nexus 5X Bu...    66.249.64.184   \n",
       "...                                                  ...              ...   \n",
       "39995  Mozilla/5.0 (compatible; YandexBot/3.0; +http:...    178.71.80.105   \n",
       "39996  Mozilla/5.0 (iPhone; CPU iPhone OS 10_2_1 like...  178.207.255.104   \n",
       "39997  Mozilla/5.0 (Windows NT 6.1) AppleWebKit/537.3...    66.249.64.217   \n",
       "39998  Mozilla/5.0 (compatible; AhrefsBot/5.2; +http:...     40.77.167.29   \n",
       "39999  Mozilla/5.0 (Windows NT 10.0; Win64; x64) Appl...   68.180.229.238   \n",
       "\n",
       "        timestamp  is_human  \n",
       "0      1486332013      True  \n",
       "1      1486332024      True  \n",
       "2      1486332032      True  \n",
       "3      1486332049      True  \n",
       "4      1486332055      True  \n",
       "...           ...       ...  \n",
       "39995  1486845204     False  \n",
       "39996  1486845206     False  \n",
       "39997  1486845212     False  \n",
       "39998  1486845217     False  \n",
       "39999  1486845223     False  \n",
       "\n",
       "[40000 rows x 4 columns]"
      ]
     },
     "execution_count": 7,
     "metadata": {},
     "output_type": "execute_result"
    }
   ],
   "source": [
    "print(y_test.shape)\n",
    "main_all"
   ]
  },
  {
   "cell_type": "markdown",
   "metadata": {},
   "source": [
    "### Test predictions"
   ]
  },
  {
   "cell_type": "markdown",
   "metadata": {},
   "source": [
    "### Load classifyer from file if needed\n",
    "\n",
    "Use only `dummyordr_and_values_fullua_logreg_cls.joblib.pkl`"
   ]
  },
  {
   "cell_type": "code",
   "execution_count": 10,
   "metadata": {
    "collapsed": true
   },
   "outputs": [],
   "source": [
    "infiles = [\n",
    "    'parted-cls/dummyordr_and_values_fullua_logreg_cls.joblib.pkl.0',\n",
    "    'parted-cls/dummyordr_and_values_fullua_logreg_cls.joblib.pkl.1',\n",
    "    'parted-cls/dummyordr_and_values_fullua_logreg_cls.joblib.pkl.2',\n",
    "    'parted-cls/dummyordr_and_values_fullua_logreg_cls.joblib.pkl.3',\n",
    "    'parted-cls/dummyordr_and_values_fullua_logreg_cls.joblib.pkl.4',\n",
    "    'parted-cls/dummyordr_and_values_fullua_logreg_cls.joblib.pkl.5'\n",
    "]\n",
    "\n",
    "import os\n",
    "from sklearn.externals import joblib\n",
    "from lib.helpers.fileSplitter import cat_files\n",
    "\n",
    "cat_files(infiles, 'cls/dummyordr_and_values_fullua_logreg_cls.joblib.pkl')\n",
    "\n",
    "filename = 'cls/dummyordr_and_values_fullua_logreg_cls.joblib.pkl'\n",
    "smart_clf = joblib.load(filename)"
   ]
  },
  {
   "cell_type": "markdown",
   "metadata": {},
   "source": [
    "We can't calculate full sample. Because we hawven't enought memory.\n",
    "\n",
    "So we try to test top 20000 from each samples"
   ]
  },
  {
   "cell_type": "markdown",
   "metadata": {},
   "source": [
    "### Test predictions proba (Threshold 0.024)"
   ]
  },
  {
   "cell_type": "code",
   "execution_count": 37,
   "metadata": {},
   "outputs": [
    {
     "name": "stderr",
     "output_type": "stream",
     "text": [
      "40000it [00:03, 10474.34it/s]\n"
     ]
    }
   ],
   "source": [
    "from lib.thresholdPredictions import ThresholdPredictions\n",
    "\n",
    "pred = ThresholdPredictions(user_agent_list=lb.classes_.tolist(), full_user_agent_list=lb_test.classes_.tolist(), clf=smart_clf)\n",
    "y_test_names, y_predicted, compare_answers, is_bot, answers_count = pred.bot_predict(test_sparce_dummy, y_test, 0.024072, sparce_y=True)"
   ]
  },
  {
   "cell_type": "code",
   "execution_count": 38,
   "metadata": {},
   "outputs": [
    {
     "data": {
      "text/html": [
       "<div>\n",
       "<style>\n",
       "    .dataframe thead tr:only-child th {\n",
       "        text-align: right;\n",
       "    }\n",
       "\n",
       "    .dataframe thead th {\n",
       "        text-align: left;\n",
       "    }\n",
       "\n",
       "    .dataframe tbody tr th {\n",
       "        vertical-align: top;\n",
       "    }\n",
       "</style>\n",
       "<table border=\"1\" class=\"dataframe\">\n",
       "  <thead>\n",
       "    <tr>\n",
       "      <th></th>\n",
       "      <th>test</th>\n",
       "      <th>predicted</th>\n",
       "      <th>correctness</th>\n",
       "      <th>is_bot_predicted</th>\n",
       "      <th>count</th>\n",
       "      <th>is_human</th>\n",
       "    </tr>\n",
       "    <tr>\n",
       "      <th></th>\n",
       "      <th>0</th>\n",
       "      <th>0</th>\n",
       "      <th>0</th>\n",
       "      <th>0</th>\n",
       "      <th>0</th>\n",
       "      <th></th>\n",
       "    </tr>\n",
       "  </thead>\n",
       "  <tbody>\n",
       "    <tr>\n",
       "      <th>0</th>\n",
       "      <td>HybridBot (hybrid.ru/about. If our bot caused ...</td>\n",
       "      <td>[HybridBot (hybrid.ru/about. If our bot caused...</td>\n",
       "      <td>True</td>\n",
       "      <td>False</td>\n",
       "      <td>1</td>\n",
       "      <td>True</td>\n",
       "    </tr>\n",
       "    <tr>\n",
       "      <th>1</th>\n",
       "      <td>Mozilla/5.0 (compatible; GrapeshotCrawler/2.0;...</td>\n",
       "      <td>[Mozilla/5.0 (compatible; GrapeshotCrawler/2.0...</td>\n",
       "      <td>True</td>\n",
       "      <td>False</td>\n",
       "      <td>1</td>\n",
       "      <td>True</td>\n",
       "    </tr>\n",
       "    <tr>\n",
       "      <th>2</th>\n",
       "      <td>Mozilla/5.0 (compatible; MSIE 10.0; Windows Ph...</td>\n",
       "      <td>[Mozilla/5.0 (Windows NT 6.1; Trident/7.0; rv:...</td>\n",
       "      <td>False</td>\n",
       "      <td>False</td>\n",
       "      <td>8</td>\n",
       "      <td>True</td>\n",
       "    </tr>\n",
       "    <tr>\n",
       "      <th>3</th>\n",
       "      <td>Mozilla/5.0 (compatible; Yahoo! Slurp; http://...</td>\n",
       "      <td>[Mozilla/5.0 (compatible; Yahoo! Slurp; http:/...</td>\n",
       "      <td>True</td>\n",
       "      <td>False</td>\n",
       "      <td>1</td>\n",
       "      <td>True</td>\n",
       "    </tr>\n",
       "    <tr>\n",
       "      <th>4</th>\n",
       "      <td>Mozilla/5.0 (Linux; Android 6.0.1; Nexus 5X Bu...</td>\n",
       "      <td>[Mozilla/5.0 (Linux; Android 6.0.1; Nexus 5X B...</td>\n",
       "      <td>True</td>\n",
       "      <td>False</td>\n",
       "      <td>2</td>\n",
       "      <td>True</td>\n",
       "    </tr>\n",
       "    <tr>\n",
       "      <th>...</th>\n",
       "      <td>...</td>\n",
       "      <td>...</td>\n",
       "      <td>...</td>\n",
       "      <td>...</td>\n",
       "      <td>...</td>\n",
       "      <td>...</td>\n",
       "    </tr>\n",
       "    <tr>\n",
       "      <th>39995</th>\n",
       "      <td>Mozilla/5.0 (compatible; YandexBot/3.0; +http:...</td>\n",
       "      <td>[Mozilla/5.0 (Windows NT 6.1; WOW64; rv:38.0) ...</td>\n",
       "      <td>False</td>\n",
       "      <td>True</td>\n",
       "      <td>1</td>\n",
       "      <td>False</td>\n",
       "    </tr>\n",
       "    <tr>\n",
       "      <th>39996</th>\n",
       "      <td>Mozilla/5.0 (X11; Linux x86_64) AppleWebKit/53...</td>\n",
       "      <td>[Mozilla/5.0 (Windows NT 5.1) AppleWebKit/537....</td>\n",
       "      <td>False</td>\n",
       "      <td>True</td>\n",
       "      <td>1</td>\n",
       "      <td>False</td>\n",
       "    </tr>\n",
       "    <tr>\n",
       "      <th>39997</th>\n",
       "      <td>Mozilla/5.0 (compatible; MSIE 9.0; Windows NT ...</td>\n",
       "      <td>[Mozilla/5.0 (compatible; Googlebot/2.1; +http...</td>\n",
       "      <td>False</td>\n",
       "      <td>True</td>\n",
       "      <td>1</td>\n",
       "      <td>False</td>\n",
       "    </tr>\n",
       "    <tr>\n",
       "      <th>39998</th>\n",
       "      <td>Mozilla/5.0 (compatible; MSIE 9.0; Windows NT ...</td>\n",
       "      <td>[Mozilla/5.0 (compatible; bingbot/2.0; +http:/...</td>\n",
       "      <td>False</td>\n",
       "      <td>True</td>\n",
       "      <td>2</td>\n",
       "      <td>False</td>\n",
       "    </tr>\n",
       "    <tr>\n",
       "      <th>39999</th>\n",
       "      <td>Mozilla/5.0 (Windows NT 6.1; rv:46.0) Gecko/20...</td>\n",
       "      <td>[Mozilla/5.0 (compatible; Yahoo! Slurp; http:/...</td>\n",
       "      <td>False</td>\n",
       "      <td>True</td>\n",
       "      <td>1</td>\n",
       "      <td>False</td>\n",
       "    </tr>\n",
       "  </tbody>\n",
       "</table>\n",
       "<p>40000 rows × 6 columns</p>\n",
       "</div>"
      ],
      "text/plain": [
       "                                                    test  \\\n",
       "                                                       0   \n",
       "0      HybridBot (hybrid.ru/about. If our bot caused ...   \n",
       "1      Mozilla/5.0 (compatible; GrapeshotCrawler/2.0;...   \n",
       "2      Mozilla/5.0 (compatible; MSIE 10.0; Windows Ph...   \n",
       "3      Mozilla/5.0 (compatible; Yahoo! Slurp; http://...   \n",
       "4      Mozilla/5.0 (Linux; Android 6.0.1; Nexus 5X Bu...   \n",
       "...                                                  ...   \n",
       "39995  Mozilla/5.0 (compatible; YandexBot/3.0; +http:...   \n",
       "39996  Mozilla/5.0 (X11; Linux x86_64) AppleWebKit/53...   \n",
       "39997  Mozilla/5.0 (compatible; MSIE 9.0; Windows NT ...   \n",
       "39998  Mozilla/5.0 (compatible; MSIE 9.0; Windows NT ...   \n",
       "39999  Mozilla/5.0 (Windows NT 6.1; rv:46.0) Gecko/20...   \n",
       "\n",
       "                                               predicted correctness  \\\n",
       "                                                       0           0   \n",
       "0      [HybridBot (hybrid.ru/about. If our bot caused...        True   \n",
       "1      [Mozilla/5.0 (compatible; GrapeshotCrawler/2.0...        True   \n",
       "2      [Mozilla/5.0 (Windows NT 6.1; Trident/7.0; rv:...       False   \n",
       "3      [Mozilla/5.0 (compatible; Yahoo! Slurp; http:/...        True   \n",
       "4      [Mozilla/5.0 (Linux; Android 6.0.1; Nexus 5X B...        True   \n",
       "...                                                  ...         ...   \n",
       "39995  [Mozilla/5.0 (Windows NT 6.1; WOW64; rv:38.0) ...       False   \n",
       "39996  [Mozilla/5.0 (Windows NT 5.1) AppleWebKit/537....       False   \n",
       "39997  [Mozilla/5.0 (compatible; Googlebot/2.1; +http...       False   \n",
       "39998  [Mozilla/5.0 (compatible; bingbot/2.0; +http:/...       False   \n",
       "39999  [Mozilla/5.0 (compatible; Yahoo! Slurp; http:/...       False   \n",
       "\n",
       "      is_bot_predicted count is_human  \n",
       "                     0     0           \n",
       "0                False     1     True  \n",
       "1                False     1     True  \n",
       "2                False     8     True  \n",
       "3                False     1     True  \n",
       "4                False     2     True  \n",
       "...                ...   ...      ...  \n",
       "39995             True     1    False  \n",
       "39996             True     1    False  \n",
       "39997             True     1    False  \n",
       "39998             True     2    False  \n",
       "39999             True     1    False  \n",
       "\n",
       "[40000 rows x 6 columns]"
      ]
     },
     "execution_count": 38,
     "metadata": {},
     "output_type": "execute_result"
    }
   ],
   "source": [
    "compare_frame = pd.concat(\n",
    "    [\n",
    "        pd.DataFrame(y_test_names),\n",
    "        y_predicted, \n",
    "        pd.DataFrame(compare_answers),  \n",
    "        #pd.DataFrame(main_all[['is_human']]), \n",
    "        pd.DataFrame(is_bot), \n",
    "        pd.DataFrame(answers_count)\n",
    "    ], keys=['test', 'predicted', 'correctness', 'is_bot_predicted', 'count'], axis=1, join='inner')\n",
    "\n",
    "    \n",
    "compare_frame['is_human'] = False\n",
    "compare_frame.loc[0:19999,'is_human'] = True\n",
    "compare_frame"
   ]
  },
  {
   "cell_type": "code",
   "execution_count": 39,
   "metadata": {
    "collapsed": true
   },
   "outputs": [],
   "source": [
    "from sklearn.metrics import confusion_matrix, roc_curve, auc\n",
    "\n",
    "headers_cm = confusion_matrix(~compare_frame.is_human, compare_frame.is_bot_predicted)"
   ]
  },
  {
   "cell_type": "code",
   "execution_count": 40,
   "metadata": {
    "collapsed": true
   },
   "outputs": [],
   "source": [
    "headers_FP = headers_cm.sum(axis=0) - np.diag(headers_cm)  \n",
    "headers_FN = headers_cm.sum(axis=1) - np.diag(headers_cm)\n",
    "headers_TP = np.diag(headers_cm)\n",
    "headers_TN = headers_cm.sum() - (headers_FP + headers_FN + headers_TP)"
   ]
  },
  {
   "cell_type": "code",
   "execution_count": 41,
   "metadata": {},
   "outputs": [
    {
     "name": "stdout",
     "output_type": "stream",
     "text": [
      "TP: [15363 13641]\n",
      "TN: [13641 15363]\n",
      "FP: [6359 4637]\n",
      "FN: [4637 6359]\n",
      "Accuracy (ACC): [ 0.7251  0.7251]\n",
      "Sensitivity, hit rate, recall, or true positive rate (TPR): [ 0.76815  0.68205]\n",
      "Precision or positive predictive value (PPV): [ 0.70725532  0.74630704]\n"
     ]
    }
   ],
   "source": [
    "print('TP: {}'.format(headers_TP))\n",
    "print('TN: {}'.format(headers_TN))\n",
    "print(\"FP: {}\".format(headers_FP))\n",
    "print(\"FN: {}\".format(headers_FN))\n",
    "print(\"Accuracy (ACC): {}\".format((headers_TP + headers_TN) / (headers_TP + headers_TN + headers_FP + headers_FN)))\n",
    "print(\"Sensitivity, hit rate, recall, or true positive rate (TPR): {}\".format(headers_TP / (headers_TP + headers_FN)))\n",
    "print(\"Precision or positive predictive value (PPV): {}\".format(headers_TP / (headers_TP + headers_FP)))"
   ]
  },
  {
   "cell_type": "code",
   "execution_count": 42,
   "metadata": {},
   "outputs": [
    {
     "data": {
      "text/html": [
       "<div>\n",
       "<style>\n",
       "    .dataframe thead tr:only-child th {\n",
       "        text-align: right;\n",
       "    }\n",
       "\n",
       "    .dataframe thead th {\n",
       "        text-align: left;\n",
       "    }\n",
       "\n",
       "    .dataframe tbody tr th {\n",
       "        vertical-align: top;\n",
       "    }\n",
       "</style>\n",
       "<table border=\"1\" class=\"dataframe\">\n",
       "  <thead>\n",
       "    <tr>\n",
       "      <th></th>\n",
       "      <th>test</th>\n",
       "      <th>predicted</th>\n",
       "      <th>correctness</th>\n",
       "      <th>is_bot_predicted</th>\n",
       "      <th>count</th>\n",
       "      <th>is_human</th>\n",
       "      <th>first_kind_error</th>\n",
       "      <th>second_kind_error</th>\n",
       "    </tr>\n",
       "    <tr>\n",
       "      <th></th>\n",
       "      <th>0</th>\n",
       "      <th>0</th>\n",
       "      <th>0</th>\n",
       "      <th>0</th>\n",
       "      <th>0</th>\n",
       "      <th></th>\n",
       "      <th></th>\n",
       "      <th></th>\n",
       "    </tr>\n",
       "  </thead>\n",
       "  <tbody>\n",
       "    <tr>\n",
       "      <th>0</th>\n",
       "      <td>HybridBot (hybrid.ru/about. If our bot caused ...</td>\n",
       "      <td>[HybridBot (hybrid.ru/about. If our bot caused...</td>\n",
       "      <td>True</td>\n",
       "      <td>False</td>\n",
       "      <td>1</td>\n",
       "      <td>True</td>\n",
       "      <td>False</td>\n",
       "      <td>False</td>\n",
       "    </tr>\n",
       "    <tr>\n",
       "      <th>1</th>\n",
       "      <td>Mozilla/5.0 (compatible; GrapeshotCrawler/2.0;...</td>\n",
       "      <td>[Mozilla/5.0 (compatible; GrapeshotCrawler/2.0...</td>\n",
       "      <td>True</td>\n",
       "      <td>False</td>\n",
       "      <td>1</td>\n",
       "      <td>True</td>\n",
       "      <td>False</td>\n",
       "      <td>False</td>\n",
       "    </tr>\n",
       "    <tr>\n",
       "      <th>2</th>\n",
       "      <td>Mozilla/5.0 (compatible; MSIE 10.0; Windows Ph...</td>\n",
       "      <td>[Mozilla/5.0 (Windows NT 6.1; Trident/7.0; rv:...</td>\n",
       "      <td>False</td>\n",
       "      <td>False</td>\n",
       "      <td>8</td>\n",
       "      <td>True</td>\n",
       "      <td>False</td>\n",
       "      <td>False</td>\n",
       "    </tr>\n",
       "    <tr>\n",
       "      <th>3</th>\n",
       "      <td>Mozilla/5.0 (compatible; Yahoo! Slurp; http://...</td>\n",
       "      <td>[Mozilla/5.0 (compatible; Yahoo! Slurp; http:/...</td>\n",
       "      <td>True</td>\n",
       "      <td>False</td>\n",
       "      <td>1</td>\n",
       "      <td>True</td>\n",
       "      <td>False</td>\n",
       "      <td>False</td>\n",
       "    </tr>\n",
       "    <tr>\n",
       "      <th>4</th>\n",
       "      <td>Mozilla/5.0 (Linux; Android 6.0.1; Nexus 5X Bu...</td>\n",
       "      <td>[Mozilla/5.0 (Linux; Android 6.0.1; Nexus 5X B...</td>\n",
       "      <td>True</td>\n",
       "      <td>False</td>\n",
       "      <td>2</td>\n",
       "      <td>True</td>\n",
       "      <td>False</td>\n",
       "      <td>False</td>\n",
       "    </tr>\n",
       "    <tr>\n",
       "      <th>...</th>\n",
       "      <td>...</td>\n",
       "      <td>...</td>\n",
       "      <td>...</td>\n",
       "      <td>...</td>\n",
       "      <td>...</td>\n",
       "      <td>...</td>\n",
       "      <td>...</td>\n",
       "      <td>...</td>\n",
       "    </tr>\n",
       "    <tr>\n",
       "      <th>39995</th>\n",
       "      <td>Mozilla/5.0 (compatible; YandexBot/3.0; +http:...</td>\n",
       "      <td>[Mozilla/5.0 (Windows NT 6.1; WOW64; rv:38.0) ...</td>\n",
       "      <td>False</td>\n",
       "      <td>True</td>\n",
       "      <td>1</td>\n",
       "      <td>False</td>\n",
       "      <td>False</td>\n",
       "      <td>False</td>\n",
       "    </tr>\n",
       "    <tr>\n",
       "      <th>39996</th>\n",
       "      <td>Mozilla/5.0 (X11; Linux x86_64) AppleWebKit/53...</td>\n",
       "      <td>[Mozilla/5.0 (Windows NT 5.1) AppleWebKit/537....</td>\n",
       "      <td>False</td>\n",
       "      <td>True</td>\n",
       "      <td>1</td>\n",
       "      <td>False</td>\n",
       "      <td>False</td>\n",
       "      <td>False</td>\n",
       "    </tr>\n",
       "    <tr>\n",
       "      <th>39997</th>\n",
       "      <td>Mozilla/5.0 (compatible; MSIE 9.0; Windows NT ...</td>\n",
       "      <td>[Mozilla/5.0 (compatible; Googlebot/2.1; +http...</td>\n",
       "      <td>False</td>\n",
       "      <td>True</td>\n",
       "      <td>1</td>\n",
       "      <td>False</td>\n",
       "      <td>False</td>\n",
       "      <td>False</td>\n",
       "    </tr>\n",
       "    <tr>\n",
       "      <th>39998</th>\n",
       "      <td>Mozilla/5.0 (compatible; MSIE 9.0; Windows NT ...</td>\n",
       "      <td>[Mozilla/5.0 (compatible; bingbot/2.0; +http:/...</td>\n",
       "      <td>False</td>\n",
       "      <td>True</td>\n",
       "      <td>2</td>\n",
       "      <td>False</td>\n",
       "      <td>False</td>\n",
       "      <td>False</td>\n",
       "    </tr>\n",
       "    <tr>\n",
       "      <th>39999</th>\n",
       "      <td>Mozilla/5.0 (Windows NT 6.1; rv:46.0) Gecko/20...</td>\n",
       "      <td>[Mozilla/5.0 (compatible; Yahoo! Slurp; http:/...</td>\n",
       "      <td>False</td>\n",
       "      <td>True</td>\n",
       "      <td>1</td>\n",
       "      <td>False</td>\n",
       "      <td>False</td>\n",
       "      <td>False</td>\n",
       "    </tr>\n",
       "  </tbody>\n",
       "</table>\n",
       "<p>40000 rows × 8 columns</p>\n",
       "</div>"
      ],
      "text/plain": [
       "                                                    test  \\\n",
       "                                                       0   \n",
       "0      HybridBot (hybrid.ru/about. If our bot caused ...   \n",
       "1      Mozilla/5.0 (compatible; GrapeshotCrawler/2.0;...   \n",
       "2      Mozilla/5.0 (compatible; MSIE 10.0; Windows Ph...   \n",
       "3      Mozilla/5.0 (compatible; Yahoo! Slurp; http://...   \n",
       "4      Mozilla/5.0 (Linux; Android 6.0.1; Nexus 5X Bu...   \n",
       "...                                                  ...   \n",
       "39995  Mozilla/5.0 (compatible; YandexBot/3.0; +http:...   \n",
       "39996  Mozilla/5.0 (X11; Linux x86_64) AppleWebKit/53...   \n",
       "39997  Mozilla/5.0 (compatible; MSIE 9.0; Windows NT ...   \n",
       "39998  Mozilla/5.0 (compatible; MSIE 9.0; Windows NT ...   \n",
       "39999  Mozilla/5.0 (Windows NT 6.1; rv:46.0) Gecko/20...   \n",
       "\n",
       "                                               predicted correctness  \\\n",
       "                                                       0           0   \n",
       "0      [HybridBot (hybrid.ru/about. If our bot caused...        True   \n",
       "1      [Mozilla/5.0 (compatible; GrapeshotCrawler/2.0...        True   \n",
       "2      [Mozilla/5.0 (Windows NT 6.1; Trident/7.0; rv:...       False   \n",
       "3      [Mozilla/5.0 (compatible; Yahoo! Slurp; http:/...        True   \n",
       "4      [Mozilla/5.0 (Linux; Android 6.0.1; Nexus 5X B...        True   \n",
       "...                                                  ...         ...   \n",
       "39995  [Mozilla/5.0 (Windows NT 6.1; WOW64; rv:38.0) ...       False   \n",
       "39996  [Mozilla/5.0 (Windows NT 5.1) AppleWebKit/537....       False   \n",
       "39997  [Mozilla/5.0 (compatible; Googlebot/2.1; +http...       False   \n",
       "39998  [Mozilla/5.0 (compatible; bingbot/2.0; +http:/...       False   \n",
       "39999  [Mozilla/5.0 (compatible; Yahoo! Slurp; http:/...       False   \n",
       "\n",
       "      is_bot_predicted count is_human first_kind_error second_kind_error  \n",
       "                     0     0                                              \n",
       "0                False     1     True            False             False  \n",
       "1                False     1     True            False             False  \n",
       "2                False     8     True            False             False  \n",
       "3                False     1     True            False             False  \n",
       "4                False     2     True            False             False  \n",
       "...                ...   ...      ...              ...               ...  \n",
       "39995             True     1    False            False             False  \n",
       "39996             True     1    False            False             False  \n",
       "39997             True     1    False            False             False  \n",
       "39998             True     2    False            False             False  \n",
       "39999             True     1    False            False             False  \n",
       "\n",
       "[40000 rows x 8 columns]"
      ]
     },
     "execution_count": 42,
     "metadata": {},
     "output_type": "execute_result"
    }
   ],
   "source": [
    "first_kind_error = []\n",
    "second_kind_error = []\n",
    "for i, bot_prediction in enumerate(is_bot):\n",
    "    cur_first_kind_error = False\n",
    "    cur_second_kind_error = False\n",
    "    if bot_prediction and i<20000:\n",
    "        cur_first_kind_error = True\n",
    "    if not bot_prediction and i>19999:\n",
    "        cur_second_kind_error = True\n",
    "    first_kind_error.append(cur_first_kind_error)\n",
    "    second_kind_error.append(cur_second_kind_error)    \n",
    "\n",
    "compare_frame['first_kind_error'] = first_kind_error\n",
    "compare_frame['second_kind_error'] = second_kind_error\n",
    "compare_frame"
   ]
  },
  {
   "cell_type": "markdown",
   "metadata": {},
   "source": [
    "## Threshold 0.024"
   ]
  },
  {
   "cell_type": "code",
   "execution_count": 43,
   "metadata": {},
   "outputs": [
    {
     "name": "stdout",
     "output_type": "stream",
     "text": [
      "Ошибка первого рода (когда мы принимаем нормального пользователя за бота): 0.115925\n",
      "Ошибка второго рода (когда мы принимаем бота за нормального пользователя): 0.158975\n"
     ]
    }
   ],
   "source": [
    "print('Ошибка первого рода (когда мы принимаем нормального пользователя за бота): {}'.format(sum(first_kind_error) / y_test.shape[0]))\n",
    "print('Ошибка второго рода (когда мы принимаем бота за нормального пользователя): {}'.format(sum(second_kind_error) / y_test.shape[0]))"
   ]
  },
  {
   "cell_type": "markdown",
   "metadata": {},
   "source": [
    "### Threshold 0.00075"
   ]
  },
  {
   "cell_type": "code",
   "execution_count": 61,
   "metadata": {},
   "outputs": [
    {
     "name": "stderr",
     "output_type": "stream",
     "text": [
      "40000it [00:03, 10086.17it/s]\n"
     ]
    }
   ],
   "source": [
    "pred = ThresholdPredictions(user_agent_list=lb.classes_.tolist(), full_user_agent_list=lb_test.classes_.tolist(), clf=smart_clf)\n",
    "y_test_names, y_predicted, compare_answers, is_bot, answers_count = pred.bot_predict(test_sparce_dummy, y_test, 0.00078, sparce_y=True)"
   ]
  },
  {
   "cell_type": "code",
   "execution_count": 62,
   "metadata": {},
   "outputs": [
    {
     "name": "stdout",
     "output_type": "stream",
     "text": [
      "TP: [17963 13332]\n",
      "TN: [13332 17963]\n",
      "FP: [6668 2037]\n",
      "FN: [2037 6668]\n",
      "Accuracy (ACC): [ 0.782375  0.782375]\n",
      "Sensitivity, hit rate, recall, or true positive rate (TPR): [ 0.89815  0.6666 ]\n",
      "Precision or positive predictive value (PPV): [ 0.72928424  0.86746047]\n",
      "Ошибка первого рода (когда мы принимаем нормального пользователя за бота): 0.050925\n",
      "Ошибка второго рода (когда мы принимаем бота за нормального пользователя): 0.1667\n"
     ]
    }
   ],
   "source": [
    "compare_frame = pd.concat(\n",
    "    [\n",
    "        pd.DataFrame(y_test_names),\n",
    "        y_predicted, \n",
    "        pd.DataFrame(compare_answers),  \n",
    "        #pd.DataFrame(main_all[['is_human']]), \n",
    "        pd.DataFrame(is_bot), \n",
    "        pd.DataFrame(answers_count)\n",
    "    ], keys=['test', 'predicted', 'correctness', 'is_bot_predicted', 'count'], axis=1, join='inner')\n",
    "\n",
    "    \n",
    "compare_frame['is_human'] = False\n",
    "compare_frame.loc[0:19999,'is_human'] = True\n",
    "\n",
    "headers_cm = confusion_matrix(~compare_frame.is_human, compare_frame.is_bot_predicted)\n",
    "\n",
    "headers_FP = headers_cm.sum(axis=0) - np.diag(headers_cm)  \n",
    "headers_FN = headers_cm.sum(axis=1) - np.diag(headers_cm)\n",
    "headers_TP = np.diag(headers_cm)\n",
    "headers_TN = headers_cm.sum() - (headers_FP + headers_FN + headers_TP)\n",
    "\n",
    "print('TP: {}'.format(headers_TP))\n",
    "print('TN: {}'.format(headers_TN))\n",
    "print(\"FP: {}\".format(headers_FP))\n",
    "print(\"FN: {}\".format(headers_FN))\n",
    "print(\"Accuracy (ACC): {}\".format((headers_TP + headers_TN) / (headers_TP + headers_TN + headers_FP + headers_FN)))\n",
    "print(\"Sensitivity, hit rate, recall, or true positive rate (TPR): {}\".format(headers_TP / (headers_TP + headers_FN)))\n",
    "print(\"Precision or positive predictive value (PPV): {}\".format(headers_TP / (headers_TP + headers_FP)))\n",
    "\n",
    "first_kind_error = []\n",
    "second_kind_error = []\n",
    "for i, bot_prediction in enumerate(is_bot):\n",
    "    cur_first_kind_error = False\n",
    "    cur_second_kind_error = False\n",
    "    if bot_prediction and i<20000:\n",
    "        cur_first_kind_error = True\n",
    "    if not bot_prediction and i>19999:\n",
    "        cur_second_kind_error = True\n",
    "    first_kind_error.append(cur_first_kind_error)\n",
    "    second_kind_error.append(cur_second_kind_error)    \n",
    "\n",
    "compare_frame['first_kind_error'] = first_kind_error\n",
    "compare_frame['second_kind_error'] = second_kind_error\n",
    "\n",
    "print('Ошибка первого рода (когда мы принимаем нормального пользователя за бота): {}'.format(sum(first_kind_error) / y_test.shape[0]))\n",
    "print('Ошибка второго рода (когда мы принимаем бота за нормального пользователя): {}'.format(sum(second_kind_error) / y_test.shape[0]))"
   ]
  },
  {
   "cell_type": "markdown",
   "metadata": {
    "collapsed": true
   },
   "source": [
    "Also we try to determine the optimal volume of the training sample.\n",
    "\n",
    "- Threshold vas fixed at 0.00075\n",
    "- We try to hold first kind error about 0.05\n",
    "\n",
    "**Here are results:**\n",
    "\n",
    "| Training sample volume | Training time | First Kind Error | Second Kind Error |               Comments                | Conclusion |\n",
    "|------------------------|---------------|------------------|-------------------|---------------------------------------|------------|\n",
    "| 20 000 | ~12min | 0.050925 | 0.1667 | First 20 000 rows from first log file | Pretty fine and fast train |\n",
    "| 877 616 | ~15hour 20min  | 0.050925 | 0.1667 | First 30 log files  | Оverfitting |\n",
    "| 877 616 | ~15hour 20min  | 0.050925 | 0.1667 | First 30 log files  | Оverfitting |"
   ]
  },
  {
   "cell_type": "code",
   "execution_count": null,
   "metadata": {
    "collapsed": true
   },
   "outputs": [],
   "source": []
  }
 ],
 "metadata": {
  "kernelspec": {
   "display_name": "Python 3",
   "language": "python",
   "name": "python3"
  },
  "language_info": {
   "codemirror_mode": {
    "name": "ipython",
    "version": 3
   },
   "file_extension": ".py",
   "mimetype": "text/x-python",
   "name": "python",
   "nbconvert_exporter": "python",
   "pygments_lexer": "ipython3",
   "version": "3.6.1"
  }
 },
 "nbformat": 4,
 "nbformat_minor": 2
}

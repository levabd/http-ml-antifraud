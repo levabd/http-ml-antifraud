{
 "cells": [
  {
   "cell_type": "code",
   "execution_count": 2,
   "metadata": {},
   "outputs": [
    {
     "name": "stdout",
     "output_type": "stream",
     "text": [
      "Populating the interactive namespace from numpy and matplotlib\n"
     ]
    }
   ],
   "source": [
    "import pandas as pd\n",
    "import numpy as np\n",
    "\n",
    "import scipy.sparse\n",
    "import sklearn.feature_extraction\n",
    "\n",
    "import matplotlib.pylab as plt\n",
    "%matplotlib inline\n",
    "\n",
    "from tqdm import tqdm\n",
    "import platform\n",
    "\n",
    "pd.set_option(\"display.max_rows\", 10)\n",
    "pd.set_option('display.max_columns', 1100)\n",
    "\n",
    "import os\n",
    "\n",
    "%pylab inline\n",
    "warnings.filterwarnings('ignore')"
   ]
  },
  {
   "cell_type": "markdown",
   "metadata": {},
   "source": [
    "### Загрузим данные с логов"
   ]
  },
  {
   "cell_type": "code",
   "execution_count": 5,
   "metadata": {},
   "outputs": [
    {
     "name": "stderr",
     "output_type": "stream",
     "text": [
      "\n",
      "  0%|          | 0/127 [00:00<?, ?it/s]\u001b[A\n",
      "  2%|▏         | 2/127 [00:02<02:46,  1.33s/it]\u001b[A\n",
      "  3%|▎         | 4/127 [00:04<02:33,  1.25s/it]\u001b[A\n",
      "  5%|▍         | 6/127 [00:07<02:35,  1.29s/it]\u001b[A\n",
      "  8%|▊         | 10/127 [00:12<02:31,  1.30s/it]"
     ]
    },
    {
     "name": "stdout",
     "output_type": "stream",
     "text": [
      "Shape: (289269, 3)\n"
     ]
    },
    {
     "data": {
      "text/html": [
       "<div>\n",
       "<style>\n",
       "    .dataframe thead tr:only-child th {\n",
       "        text-align: right;\n",
       "    }\n",
       "\n",
       "    .dataframe thead th {\n",
       "        text-align: left;\n",
       "    }\n",
       "\n",
       "    .dataframe tbody tr th {\n",
       "        vertical-align: top;\n",
       "    }\n",
       "</style>\n",
       "<table border=\"1\" class=\"dataframe\">\n",
       "  <thead>\n",
       "    <tr style=\"text-align: right;\">\n",
       "      <th></th>\n",
       "      <th>User_Agent</th>\n",
       "      <th>id</th>\n",
       "      <th>ip</th>\n",
       "    </tr>\n",
       "  </thead>\n",
       "  <tbody>\n",
       "    <tr>\n",
       "      <th>0</th>\n",
       "      <td>Mozilla/5.0 (Windows NT 6.1) AppleWebKit/537.3...</td>\n",
       "      <td>1485900038</td>\n",
       "      <td>95.181.252.91</td>\n",
       "    </tr>\n",
       "    <tr>\n",
       "      <th>1</th>\n",
       "      <td>Mozilla/5.0 (compatible; bingbot/2.0; +http://...</td>\n",
       "      <td>1485900047</td>\n",
       "      <td>40.77.167.74</td>\n",
       "    </tr>\n",
       "    <tr>\n",
       "      <th>2</th>\n",
       "      <td>Mozilla/5.0 (Linux; Android 4.4.2; Zera S Buil...</td>\n",
       "      <td>1485900079</td>\n",
       "      <td>31.148.3.19</td>\n",
       "    </tr>\n",
       "    <tr>\n",
       "      <th>3</th>\n",
       "      <td>Mozilla/5.0 (Windows NT 6.1; WOW64; rv:51.0) G...</td>\n",
       "      <td>1485900103</td>\n",
       "      <td>188.162.183.66</td>\n",
       "    </tr>\n",
       "    <tr>\n",
       "      <th>4</th>\n",
       "      <td>Mozilla/4.0 (compatible; MSIE 8.0; Windows NT ...</td>\n",
       "      <td>1485900105</td>\n",
       "      <td>37.144.52.103</td>\n",
       "    </tr>\n",
       "  </tbody>\n",
       "</table>\n",
       "</div>"
      ],
      "text/plain": [
       "                                          User_Agent          id  \\\n",
       "0  Mozilla/5.0 (Windows NT 6.1) AppleWebKit/537.3...  1485900038   \n",
       "1  Mozilla/5.0 (compatible; bingbot/2.0; +http://...  1485900047   \n",
       "2  Mozilla/5.0 (Linux; Android 4.4.2; Zera S Buil...  1485900079   \n",
       "3  Mozilla/5.0 (Windows NT 6.1; WOW64; rv:51.0) G...  1485900103   \n",
       "4  Mozilla/4.0 (compatible; MSIE 8.0; Windows NT ...  1485900105   \n",
       "\n",
       "               ip  \n",
       "0   95.181.252.91  \n",
       "1    40.77.167.74  \n",
       "2     31.148.3.19  \n",
       "3  188.162.183.66  \n",
       "4   37.144.52.103  "
      ]
     },
     "execution_count": 5,
     "metadata": {},
     "output_type": "execute_result"
    },
    {
     "name": "stderr",
     "output_type": "stream",
     "text": [
      "\r",
      "          \r",
      "  8%|▊         | 10/127 [00:28<05:31,  2.84s/it]"
     ]
    }
   ],
   "source": [
    "from logParser import ParseLogsFromFolder\n",
    "\n",
    "main_data, values_data, order_data = ParseLogsFromFolder('Logs/', 0, 10, only_order=False)\n",
    "\n",
    "main = pd.DataFrame(main_data)\n",
    "del(main_data)\n",
    "# del(values_data)\n",
    "print('Shape: ' + str(main.shape))\n",
    "main.head()"
   ]
  },
  {
   "cell_type": "markdown",
   "metadata": {},
   "source": [
    "### Выберем нужные столбцы из матрицы со значениями"
   ]
  },
  {
   "cell_type": "code",
   "execution_count": 13,
   "metadata": {},
   "outputs": [
    {
     "name": "stderr",
     "output_type": "stream",
     "text": [
      "100%|██████████| 289269/289269 [00:01<00:00, 267161.32it/s]\n"
     ]
    },
    {
     "data": {
      "text/html": [
       "<div>\n",
       "<style>\n",
       "    .dataframe thead tr:only-child th {\n",
       "        text-align: right;\n",
       "    }\n",
       "\n",
       "    .dataframe thead th {\n",
       "        text-align: left;\n",
       "    }\n",
       "\n",
       "    .dataframe tbody tr th {\n",
       "        vertical-align: top;\n",
       "    }\n",
       "</style>\n",
       "<table border=\"1\" class=\"dataframe\">\n",
       "  <thead>\n",
       "    <tr style=\"text-align: right;\">\n",
       "      <th></th>\n",
       "      <th>Accept</th>\n",
       "      <th>Accept-Charset</th>\n",
       "      <th>Accept-Encoding</th>\n",
       "    </tr>\n",
       "  </thead>\n",
       "  <tbody>\n",
       "    <tr>\n",
       "      <th>0</th>\n",
       "      <td>text/html,application/xhtml+xml,application/xm...</td>\n",
       "      <td></td>\n",
       "      <td>gzip, deflate, sdch</td>\n",
       "    </tr>\n",
       "    <tr>\n",
       "      <th>1</th>\n",
       "      <td>*/*</td>\n",
       "      <td></td>\n",
       "      <td>gzip, deflate</td>\n",
       "    </tr>\n",
       "    <tr>\n",
       "      <th>2</th>\n",
       "      <td>text/html,application/xhtml+xml,application/xm...</td>\n",
       "      <td></td>\n",
       "      <td>gzip, deflate, sdch</td>\n",
       "    </tr>\n",
       "    <tr>\n",
       "      <th>3</th>\n",
       "      <td>text/html,application/xhtml+xml,application/xm...</td>\n",
       "      <td></td>\n",
       "      <td>gzip, deflate</td>\n",
       "    </tr>\n",
       "    <tr>\n",
       "      <th>4</th>\n",
       "      <td>*/*</td>\n",
       "      <td></td>\n",
       "      <td>gzip, deflate</td>\n",
       "    </tr>\n",
       "  </tbody>\n",
       "</table>\n",
       "</div>"
      ],
      "text/plain": [
       "                                              Accept Accept-Charset  \\\n",
       "0  text/html,application/xhtml+xml,application/xm...                  \n",
       "1                                                */*                  \n",
       "2  text/html,application/xhtml+xml,application/xm...                  \n",
       "3  text/html,application/xhtml+xml,application/xm...                  \n",
       "4                                                */*                  \n",
       "\n",
       "       Accept-Encoding  \n",
       "0  gzip, deflate, sdch  \n",
       "1        gzip, deflate  \n",
       "2  gzip, deflate, sdch  \n",
       "3        gzip, deflate  \n",
       "4        gzip, deflate  "
      ]
     },
     "execution_count": 13,
     "metadata": {},
     "output_type": "execute_result"
    }
   ],
   "source": [
    "good_value_keys = {'Accept', 'Accept-Encoding', 'Accept-Charset'}\n",
    "good_values_data = []\n",
    "for record in tqdm(values_data, mininterval=1.2):\n",
    "    good_values_data.append(\n",
    "        {key: value for key, value in record.items() if key in good_value_keys})\n",
    "good_values_data = pd.DataFrame(good_values_data)\n",
    "# good_values_data.fillna('', inplace=True)\n",
    "del(values_data)\n",
    "good_values_data.head()\n"
   ]
  },
  {
   "cell_type": "markdown",
   "metadata": {},
   "source": [
    "### На их основе составим дамми признаки"
   ]
  },
  {
   "cell_type": "code",
   "execution_count": 17,
   "metadata": {},
   "outputs": [
    {
     "data": {
      "text/html": [
       "<div>\n",
       "<style>\n",
       "    .dataframe thead tr:only-child th {\n",
       "        text-align: right;\n",
       "    }\n",
       "\n",
       "    .dataframe thead th {\n",
       "        text-align: left;\n",
       "    }\n",
       "\n",
       "    .dataframe tbody tr th {\n",
       "        vertical-align: top;\n",
       "    }\n",
       "</style>\n",
       "<table border=\"1\" class=\"dataframe\">\n",
       "  <thead>\n",
       "    <tr style=\"text-align: right;\">\n",
       "      <th></th>\n",
       "      <th>Accept</th>\n",
       "      <th>Accept-Charset</th>\n",
       "      <th>Accept-Encoding</th>\n",
       "    </tr>\n",
       "  </thead>\n",
       "  <tbody>\n",
       "    <tr>\n",
       "      <th>0</th>\n",
       "      <td>text/html,application/xhtml+xml,application/xm...</td>\n",
       "      <td></td>\n",
       "      <td>gzip, deflate, sdch</td>\n",
       "    </tr>\n",
       "    <tr>\n",
       "      <th>1</th>\n",
       "      <td>*/*</td>\n",
       "      <td></td>\n",
       "      <td>gzip, deflate</td>\n",
       "    </tr>\n",
       "    <tr>\n",
       "      <th>2</th>\n",
       "      <td>text/html,application/xhtml+xml,application/xm...</td>\n",
       "      <td></td>\n",
       "      <td>gzip, deflate, sdch</td>\n",
       "    </tr>\n",
       "    <tr>\n",
       "      <th>3</th>\n",
       "      <td>text/html,application/xhtml+xml,application/xm...</td>\n",
       "      <td></td>\n",
       "      <td>gzip, deflate</td>\n",
       "    </tr>\n",
       "    <tr>\n",
       "      <th>4</th>\n",
       "      <td>*/*</td>\n",
       "      <td></td>\n",
       "      <td>gzip, deflate</td>\n",
       "    </tr>\n",
       "    <tr>\n",
       "      <th>...</th>\n",
       "      <td>...</td>\n",
       "      <td>...</td>\n",
       "      <td>...</td>\n",
       "    </tr>\n",
       "    <tr>\n",
       "      <th>289264</th>\n",
       "      <td>text/html,text/plain,text/xml,text/*,applicati...</td>\n",
       "      <td></td>\n",
       "      <td>gzip</td>\n",
       "    </tr>\n",
       "    <tr>\n",
       "      <th>289265</th>\n",
       "      <td>text/html,text/plain,text/xml,text/*,applicati...</td>\n",
       "      <td></td>\n",
       "      <td>gzip</td>\n",
       "    </tr>\n",
       "    <tr>\n",
       "      <th>289266</th>\n",
       "      <td>text/html,text/plain,text/xml,text/*,applicati...</td>\n",
       "      <td></td>\n",
       "      <td>gzip</td>\n",
       "    </tr>\n",
       "    <tr>\n",
       "      <th>289267</th>\n",
       "      <td>*/*</td>\n",
       "      <td></td>\n",
       "      <td>gzip, deflate</td>\n",
       "    </tr>\n",
       "    <tr>\n",
       "      <th>289268</th>\n",
       "      <td>*/*</td>\n",
       "      <td></td>\n",
       "      <td>gzip, deflate</td>\n",
       "    </tr>\n",
       "  </tbody>\n",
       "</table>\n",
       "<p>289269 rows × 3 columns</p>\n",
       "</div>"
      ],
      "text/plain": [
       "                                                   Accept Accept-Charset  \\\n",
       "0       text/html,application/xhtml+xml,application/xm...                  \n",
       "1                                                     */*                  \n",
       "2       text/html,application/xhtml+xml,application/xm...                  \n",
       "3       text/html,application/xhtml+xml,application/xm...                  \n",
       "4                                                     */*                  \n",
       "...                                                   ...            ...   \n",
       "289264  text/html,text/plain,text/xml,text/*,applicati...                  \n",
       "289265  text/html,text/plain,text/xml,text/*,applicati...                  \n",
       "289266  text/html,text/plain,text/xml,text/*,applicati...                  \n",
       "289267                                                */*                  \n",
       "289268                                                */*                  \n",
       "\n",
       "            Accept-Encoding  \n",
       "0       gzip, deflate, sdch  \n",
       "1             gzip, deflate  \n",
       "2       gzip, deflate, sdch  \n",
       "3             gzip, deflate  \n",
       "4             gzip, deflate  \n",
       "...                     ...  \n",
       "289264                 gzip  \n",
       "289265                 gzip  \n",
       "289266                 gzip  \n",
       "289267        gzip, deflate  \n",
       "289268        gzip, deflate  \n",
       "\n",
       "[289269 rows x 3 columns]"
      ]
     },
     "execution_count": 17,
     "metadata": {},
     "output_type": "execute_result"
    }
   ],
   "source": [
    "good_values_data"
   ]
  },
  {
   "cell_type": "code",
   "execution_count": 16,
   "metadata": {},
   "outputs": [],
   "source": [
    "main_top_100 = main[main.User_Agent.isin(main.User_Agent.value_counts()[:100].index)]\n",
    "#del(main)\n",
    "\n",
    "top_ua = main.User_Agent.value_counts()[:100].index.tolist()\n",
    "\n",
    "orders_vectorizer = sklearn.feature_extraction.DictVectorizer(sparse=True, dtype=float)\n",
    "sparse_orders = orders_vectorizer.fit_transform(order_data).astype(np.int8)\n",
    "del(order_data)"
   ]
  },
  {
   "cell_type": "code",
   "execution_count": null,
   "metadata": {
    "collapsed": true
   },
   "outputs": [],
   "source": []
  }
 ],
 "metadata": {
  "kernelspec": {
   "display_name": "Python 3",
   "language": "python",
   "name": "python3"
  },
  "language_info": {
   "codemirror_mode": {
    "name": "ipython",
    "version": 3
   },
   "file_extension": ".py",
   "mimetype": "text/x-python",
   "name": "python",
   "nbconvert_exporter": "python",
   "pygments_lexer": "ipython3",
   "version": "3.6.1"
  }
 },
 "nbformat": 4,
 "nbformat_minor": 2
}

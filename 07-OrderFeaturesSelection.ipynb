{
 "cells": [
  {
   "cell_type": "code",
   "execution_count": 2,
   "metadata": {},
   "outputs": [
    {
     "name": "stdout",
     "output_type": "stream",
     "text": [
      "Populating the interactive namespace from numpy and matplotlib\n"
     ]
    }
   ],
   "source": [
    "import pandas as pd\n",
    "import numpy as np\n",
    "\n",
    "import scipy.sparse\n",
    "import sklearn.feature_extraction\n",
    "\n",
    "import matplotlib.pylab as plt\n",
    "%matplotlib inline\n",
    "\n",
    "from tqdm import tqdm\n",
    "import platform\n",
    "\n",
    "pd.set_option(\"display.max_rows\", 10)\n",
    "pd.set_option('display.max_columns', 1100)\n",
    "\n",
    "import os\n",
    "\n",
    "%pylab inline\n",
    "warnings.filterwarnings('ignore')"
   ]
  },
  {
   "cell_type": "code",
   "execution_count": 8,
   "metadata": {},
   "outputs": [
    {
     "name": "stderr",
     "output_type": "stream",
     "text": [
      "100%|██████████| 10/10 [00:07<00:00,  1.41it/s]\n"
     ]
    }
   ],
   "source": [
    "from lib.parsers.logParser import LogParser\n",
    "\n",
    "l_parser = LogParser(log_folder='Logs/')\n",
    "\n",
    "main_data, values_data, order_data = l_parser.parse_train_sample(0, 10)\n",
    "\n",
    "list_ua = pd.DataFrame(main_data).User_Agent.value_counts().index.tolist()\n",
    "\n",
    "# For NaN Useragent\n",
    "list_ua.append('0')"
   ]
  },
  {
   "cell_type": "code",
   "execution_count": 16,
   "metadata": {},
   "outputs": [
    {
     "name": "stderr",
     "output_type": "stream",
     "text": [
      "100%|██████████| 289269/289269 [00:00<00:00, 681916.07it/s]\n",
      "100%|██████████| 289269/289269 [00:00<00:00, 695577.62it/s]\n"
     ]
    }
   ],
   "source": [
    "main = pd.DataFrame(main_data)\n",
    "\n",
    "main_top_100 = main[main.User_Agent.isin(main.User_Agent.value_counts()[:100].index)]\n",
    "\n",
    "list_ua = main.User_Agent.value_counts()[:100].index.tolist()\n",
    "\n",
    "values_data_top_100 = []\n",
    "\n",
    "for row_index in tqdm(range(len(values_data))):\n",
    "    if row_index in main_top_100.index:\n",
    "        values_data_top_100.append(values_data[row_index])\n",
    "        \n",
    "order_data_top_100 = []\n",
    "\n",
    "for row_index in tqdm(range(len(order_data))):\n",
    "    if row_index in main_top_100.index:\n",
    "        order_data_top_100.append(values_data[row_index])"
   ]
  },
  {
   "cell_type": "code",
   "execution_count": 22,
   "metadata": {},
   "outputs": [
    {
     "name": "stderr",
     "output_type": "stream",
     "text": [
      "100%|██████████| 181851/181851 [00:03<00:00, 50682.38it/s]\n",
      " 30%|███       | 54961/181851 [00:00<00:00, 549607.90it/s]"
     ]
    },
    {
     "name": "stdout",
     "output_type": "stream",
     "text": [
      "Sparse dummy orders shape: \n",
      "(181851, 1216)\n"
     ]
    },
    {
     "name": "stderr",
     "output_type": "stream",
     "text": [
      "100%|██████████| 181851/181851 [00:00<00:00, 545594.89it/s]\n"
     ]
    },
    {
     "name": "stdout",
     "output_type": "stream",
     "text": [
      "Sparse dummy values shape: \n",
      "(181851, 93)\n"
     ]
    }
   ],
   "source": [
    "orders_vectorizer = sklearn.feature_extraction.DictVectorizer(sparse=True, dtype=float)\n",
    "values_vectorizer = sklearn.feature_extraction.DictVectorizer(sparse=True, dtype=float)\n",
    "\n",
    "important_keys_set = {'Accept', 'Accept-Charset', 'Accept-Encoding'}\n",
    "\n",
    "l_parser.reassign_orders_values(order_data_top_100, values_data_top_100)\n",
    "\n",
    "full_sparce_dummy = l_parser.prepare_data(orders_vectorizer, values_vectorizer, important_keys_set, fit_dict=True)\n",
    "\n",
    "from sklearn import preprocessing\n",
    "\n",
    "lb = preprocessing.LabelBinarizer()\n",
    "lb.fit(list_ua)\n",
    "y = lb.transform(pd.DataFrame(main_top_100).User_Agent.fillna('0'))"
   ]
  },
  {
   "cell_type": "markdown",
   "metadata": {},
   "source": [
    "### Sample"
   ]
  },
  {
   "cell_type": "code",
   "execution_count": 23,
   "metadata": {
    "collapsed": true
   },
   "outputs": [],
   "source": [
    "from sklearn.model_selection import GridSearchCV, cross_val_predict, cross_val_score, train_test_split, KFold\n",
    "from sklearn.linear_model import LogisticRegression\n",
    "from sklearn.metrics import roc_auc_score, roc_curve, f1_score, make_scorer\n",
    "from sklearn.multiclass import OneVsRestClassifier\n",
    "from sklearn import preprocessing\n",
    "\n",
    "X_train, X_test, y_train, y_test = train_test_split(full_sparce_dummy, y, test_size=0.33, random_state=42)"
   ]
  },
  {
   "cell_type": "code",
   "execution_count": 24,
   "metadata": {},
   "outputs": [
    {
     "name": "stdout",
     "output_type": "stream",
     "text": [
      "CPU times: user 6min 57s, sys: 332 ms, total: 6min 57s\n",
      "Wall time: 6min 59s\n"
     ]
    }
   ],
   "source": [
    "%%time\n",
    "clf = OneVsRestClassifier(LogisticRegression(random_state=42, C=100))\n",
    "clf.fit(X_train, y_train)"
   ]
  },
  {
   "cell_type": "code",
   "execution_count": 25,
   "metadata": {},
   "outputs": [
    {
     "name": "stderr",
     "output_type": "stream",
     "text": [
      "60011it [00:01, 35976.14it/s]"
     ]
    },
    {
     "name": "stdout",
     "output_type": "stream",
     "text": [
      "CPU times: user 6.64 s, sys: 24 ms, total: 6.66 s\n",
      "Wall time: 6.68 s\n"
     ]
    },
    {
     "name": "stderr",
     "output_type": "stream",
     "text": [
      "\n"
     ]
    }
   ],
   "source": [
    "%%time\n",
    "\n",
    "from lib.thresholdPredictions import ThresholdPredictions\n",
    "\n",
    "pred = ThresholdPredictions(user_agent_list=list_ua, clf=clf)\n",
    "y_test_names, y_predicted, compare_answers, answers_count = pred.predict(X_test, y_test, 0.024072)"
   ]
  },
  {
   "cell_type": "code",
   "execution_count": 26,
   "metadata": {},
   "outputs": [
    {
     "name": "stdout",
     "output_type": "stream",
     "text": [
      "sparse_dummy_values.shape: (181851, 1309)\n",
      "Answers Count (Average) = 5.135991734848611\n",
      "True Positive = 0.9551415573811468\n"
     ]
    },
    {
     "data": {
      "text/html": [
       "<div>\n",
       "<style>\n",
       "    .dataframe thead tr:only-child th {\n",
       "        text-align: right;\n",
       "    }\n",
       "\n",
       "    .dataframe thead th {\n",
       "        text-align: left;\n",
       "    }\n",
       "\n",
       "    .dataframe tbody tr th {\n",
       "        vertical-align: top;\n",
       "    }\n",
       "</style>\n",
       "<table border=\"1\" class=\"dataframe\">\n",
       "  <thead>\n",
       "    <tr>\n",
       "      <th></th>\n",
       "      <th>test</th>\n",
       "      <th>predicted</th>\n",
       "      <th>correctness</th>\n",
       "      <th>count</th>\n",
       "    </tr>\n",
       "    <tr>\n",
       "      <th></th>\n",
       "      <th>0</th>\n",
       "      <th>1</th>\n",
       "      <th>0</th>\n",
       "      <th>0</th>\n",
       "    </tr>\n",
       "  </thead>\n",
       "  <tbody>\n",
       "    <tr>\n",
       "      <th>0</th>\n",
       "      <td>Mozilla/5.0 (Windows NT 6.3; Win64; x64) Apple...</td>\n",
       "      <td>[Mozilla/5.0 (Windows NT 6.3; Win64; x64) Appl...</td>\n",
       "      <td>True</td>\n",
       "      <td>1</td>\n",
       "    </tr>\n",
       "    <tr>\n",
       "      <th>1</th>\n",
       "      <td>netEstate NE Crawler (+http://www.website-date...</td>\n",
       "      <td>[Mozilla/5.0 (compatible; Yahoo! Slurp; http:/...</td>\n",
       "      <td>True</td>\n",
       "      <td>6</td>\n",
       "    </tr>\n",
       "    <tr>\n",
       "      <th>2</th>\n",
       "      <td>Mozilla/5.0 (iPhone; CPU iPhone OS 10_2_1 like...</td>\n",
       "      <td>[Mozilla/5.0 (compatible; Yahoo! Slurp; http:/...</td>\n",
       "      <td>True</td>\n",
       "      <td>12</td>\n",
       "    </tr>\n",
       "    <tr>\n",
       "      <th>3</th>\n",
       "      <td>Mozilla/5.0 (compatible; MJ12bot/v1.4.7; http:...</td>\n",
       "      <td>[Mozilla/5.0 (compatible; MJ12bot/v1.4.7; http...</td>\n",
       "      <td>True</td>\n",
       "      <td>1</td>\n",
       "    </tr>\n",
       "    <tr>\n",
       "      <th>4</th>\n",
       "      <td>Mozilla/5.0 (compatible; Yahoo! Slurp; http://...</td>\n",
       "      <td>[Mozilla/5.0 (compatible; Yahoo! Slurp; http:/...</td>\n",
       "      <td>True</td>\n",
       "      <td>13</td>\n",
       "    </tr>\n",
       "    <tr>\n",
       "      <th>...</th>\n",
       "      <td>...</td>\n",
       "      <td>...</td>\n",
       "      <td>...</td>\n",
       "      <td>...</td>\n",
       "    </tr>\n",
       "    <tr>\n",
       "      <th>60006</th>\n",
       "      <td>Mozilla/5.0 (Windows NT 6.1) AppleWebKit/537.3...</td>\n",
       "      <td>[Mozilla/5.0 (Windows NT 6.1) AppleWebKit/537....</td>\n",
       "      <td>True</td>\n",
       "      <td>1</td>\n",
       "    </tr>\n",
       "    <tr>\n",
       "      <th>60007</th>\n",
       "      <td>Mozilla/5.0 (iPad; CPU OS 9_3_5 like Mac OS X)...</td>\n",
       "      <td>[Mozilla/5.0 (iPad; CPU OS 9_3_5 like Mac OS X...</td>\n",
       "      <td>True</td>\n",
       "      <td>1</td>\n",
       "    </tr>\n",
       "    <tr>\n",
       "      <th>60008</th>\n",
       "      <td>Mozilla/5.0 (iPad; CPU OS 9_3_5 like Mac OS X)...</td>\n",
       "      <td>[Mozilla/5.0 (iPad; CPU OS 9_3_5 like Mac OS X...</td>\n",
       "      <td>True</td>\n",
       "      <td>1</td>\n",
       "    </tr>\n",
       "    <tr>\n",
       "      <th>60009</th>\n",
       "      <td>Mozilla/5.0 (iPad; CPU OS 10_2_1 like Mac OS X...</td>\n",
       "      <td>[Mozilla/5.0 (iPad; CPU OS 10_2_1 like Mac OS ...</td>\n",
       "      <td>True</td>\n",
       "      <td>2</td>\n",
       "    </tr>\n",
       "    <tr>\n",
       "      <th>60010</th>\n",
       "      <td>StackRambler/2.0 (MSIE incompatible; Top100)</td>\n",
       "      <td>[Mozilla/5.0 (Windows NT 6.1) AppleWebKit/537....</td>\n",
       "      <td>True</td>\n",
       "      <td>5</td>\n",
       "    </tr>\n",
       "  </tbody>\n",
       "</table>\n",
       "<p>60011 rows × 4 columns</p>\n",
       "</div>"
      ],
      "text/plain": [
       "                                                    test  \\\n",
       "                                                       0   \n",
       "0      Mozilla/5.0 (Windows NT 6.3; Win64; x64) Apple...   \n",
       "1      netEstate NE Crawler (+http://www.website-date...   \n",
       "2      Mozilla/5.0 (iPhone; CPU iPhone OS 10_2_1 like...   \n",
       "3      Mozilla/5.0 (compatible; MJ12bot/v1.4.7; http:...   \n",
       "4      Mozilla/5.0 (compatible; Yahoo! Slurp; http://...   \n",
       "...                                                  ...   \n",
       "60006  Mozilla/5.0 (Windows NT 6.1) AppleWebKit/537.3...   \n",
       "60007  Mozilla/5.0 (iPad; CPU OS 9_3_5 like Mac OS X)...   \n",
       "60008  Mozilla/5.0 (iPad; CPU OS 9_3_5 like Mac OS X)...   \n",
       "60009  Mozilla/5.0 (iPad; CPU OS 10_2_1 like Mac OS X...   \n",
       "60010       StackRambler/2.0 (MSIE incompatible; Top100)   \n",
       "\n",
       "                                               predicted correctness count  \n",
       "                                                       1           0     0  \n",
       "0      [Mozilla/5.0 (Windows NT 6.3; Win64; x64) Appl...        True     1  \n",
       "1      [Mozilla/5.0 (compatible; Yahoo! Slurp; http:/...        True     6  \n",
       "2      [Mozilla/5.0 (compatible; Yahoo! Slurp; http:/...        True    12  \n",
       "3      [Mozilla/5.0 (compatible; MJ12bot/v1.4.7; http...        True     1  \n",
       "4      [Mozilla/5.0 (compatible; Yahoo! Slurp; http:/...        True    13  \n",
       "...                                                  ...         ...   ...  \n",
       "60006  [Mozilla/5.0 (Windows NT 6.1) AppleWebKit/537....        True     1  \n",
       "60007  [Mozilla/5.0 (iPad; CPU OS 9_3_5 like Mac OS X...        True     1  \n",
       "60008  [Mozilla/5.0 (iPad; CPU OS 9_3_5 like Mac OS X...        True     1  \n",
       "60009  [Mozilla/5.0 (iPad; CPU OS 10_2_1 like Mac OS ...        True     2  \n",
       "60010  [Mozilla/5.0 (Windows NT 6.1) AppleWebKit/537....        True     5  \n",
       "\n",
       "[60011 rows x 4 columns]"
      ]
     },
     "execution_count": 26,
     "metadata": {},
     "output_type": "execute_result"
    }
   ],
   "source": [
    "compare_frame = pd.concat(\n",
    "    [\n",
    "        y_test_names,\n",
    "        y_predicted, \n",
    "        pd.DataFrame(compare_answers), \n",
    "        pd.DataFrame(answers_count)\n",
    "    ], keys=['test', 'predicted', 'correctness', 'count'], axis=1, join='inner')\n",
    "\n",
    "#print('Headers: ' + str(' '.join(important_keys)))\n",
    "print('sparse_dummy_values.shape: ' + str(full_sparce_dummy.shape))\n",
    "print(\"Answers Count (Average) = {0}\".format(np.average(answers_count)))\n",
    "smart_accuracy = numpy.sum(compare_answers) / y_test.shape[0]\n",
    "print(\"True Positive = {0}\".format(smart_accuracy))\n",
    "compare_frame"
   ]
  },
  {
   "cell_type": "markdown",
   "metadata": {},
   "source": [
    "## Dimensionality reduction"
   ]
  },
  {
   "cell_type": "markdown",
   "metadata": {},
   "source": [
    "### Full headers key list"
   ]
  },
  {
   "cell_type": "code",
   "execution_count": 140,
   "metadata": {},
   "outputs": [
    {
     "name": "stderr",
     "output_type": "stream",
     "text": [
      "100%|██████████| 289269/289269 [00:00<00:00, 626278.66it/s]"
     ]
    },
    {
     "name": "stdout",
     "output_type": "stream",
     "text": [
      "keys count: 174\n"
     ]
    },
    {
     "name": "stderr",
     "output_type": "stream",
     "text": [
      "\n"
     ]
    },
    {
     "data": {
      "text/plain": [
       "{'Accept',\n",
       " 'Accept-Charset',\n",
       " 'Accept-Encoding',\n",
       " 'Accept-Language',\n",
       " 'Authorization',\n",
       " 'Cache-Control',\n",
       " 'Cdn-Src-Ip',\n",
       " 'Charset',\n",
       " 'Chrome-Proxy',\n",
       " 'Chrome-Proxy-Accept-Transform',\n",
       " 'Client-Ip',\n",
       " 'Clientip',\n",
       " 'Cmd',\n",
       " 'Connection',\n",
       " 'Content-Length',\n",
       " 'Content-Range',\n",
       " 'Content-Type',\n",
       " 'Cookie',\n",
       " 'Cookie2',\n",
       " 'Date',\n",
       " 'Device-Stock-Ua',\n",
       " 'Dnt',\n",
       " 'Drm-Version',\n",
       " 'F5-User-Ip',\n",
       " 'Forwarded',\n",
       " 'Forwarded-For',\n",
       " 'From',\n",
       " 'Giga-Transport',\n",
       " 'Host',\n",
       " 'Http2-Settings',\n",
       " 'Https',\n",
       " 'If-Modified-Since',\n",
       " 'If-None-Match',\n",
       " 'Inter-Pro-Client',\n",
       " 'Keep-Alive',\n",
       " 'O2gw-Id',\n",
       " 'Origin',\n",
       " 'Oxpry-Connection',\n",
       " 'Ping-From',\n",
       " 'Ping-To',\n",
       " 'Pragma',\n",
       " 'Prefer',\n",
       " 'Proxy-Authorization',\n",
       " 'Proxy-Connection',\n",
       " 'Purpose',\n",
       " 'Q-Refer',\n",
       " 'Q-Ua',\n",
       " 'Range',\n",
       " 'Referer',\n",
       " 'Refresh-Cache',\n",
       " 'Rmch-Securitycookie',\n",
       " 'Rvbd-Csh',\n",
       " 'Rvbd-Ssh',\n",
       " 'Save-Data',\n",
       " 'Scheme',\n",
       " 'Surrogate-Capability',\n",
       " 'Te',\n",
       " 'Ua-Cpu',\n",
       " 'Upgrade',\n",
       " 'Upgrade-Insecure-Requests',\n",
       " 'User-Agent',\n",
       " 'Useragent',\n",
       " 'Version',\n",
       " 'Via',\n",
       " 'Wap-Connection',\n",
       " 'Wapconnection',\n",
       " 'Wshost',\n",
       " 'Wsip',\n",
       " 'X--------------',\n",
       " 'X-Accept-Encoding-Wn-Proxy-2',\n",
       " 'X-Agent-Session-Id',\n",
       " 'X-Att-Deviceid',\n",
       " 'X-Authenticated-User',\n",
       " 'X-B3-Flags',\n",
       " 'X-B3-Parentspanid',\n",
       " 'X-B3-Sampled',\n",
       " 'X-B3-Spanid',\n",
       " 'X-B3-Traceid',\n",
       " 'X-Bluecoat-Via',\n",
       " 'X-Busid',\n",
       " 'X-Categories',\n",
       " 'X-Chrome-Connected',\n",
       " 'X-Chrome-Uma-Enabled',\n",
       " 'X-Citrio-Timestamp',\n",
       " 'X-Client-Data',\n",
       " 'X-Cloud-Trace-Context',\n",
       " 'X-Compress',\n",
       " 'X-Content-Opt',\n",
       " 'X-D-Forwarder',\n",
       " 'X-Ebo-Ua',\n",
       " 'X-Fb-Http-Engine',\n",
       " 'X-Fb-Net-Hni',\n",
       " 'X-Fb-Sim-Hni',\n",
       " 'X-Featureversion',\n",
       " 'X-Firephp',\n",
       " 'X-Firephp-Version',\n",
       " 'X-Forwarded-For',\n",
       " 'X-Forwarded-Proto',\n",
       " 'X-Fuck',\n",
       " 'X-Gateway',\n",
       " 'X-Getzip',\n",
       " 'X-Gfe-Ssl',\n",
       " 'X-Gfe-Tls-Channelid',\n",
       " 'X-Icap-Http-Stream',\n",
       " 'X-Imforwards',\n",
       " 'X-Iws-Via',\n",
       " 'X-Lb-Local',\n",
       " 'X-Liveinternetapplications',\n",
       " 'X-Loop-Control',\n",
       " 'X-Mcproxyfilter',\n",
       " 'X-Mfe-Response',\n",
       " 'X-Miorigin',\n",
       " 'X-Moz',\n",
       " 'X-Ms-Cookieuri-Requested',\n",
       " 'X-Msisdn',\n",
       " 'X-Mwg-Via',\n",
       " 'X-Network-Type',\n",
       " 'X-Newrelic-Id',\n",
       " 'X-Newrelic-Transaction',\n",
       " 'X-Nokia-Bearer',\n",
       " 'X-Nokia-Gateway-Id',\n",
       " 'X-Nokia-Maxdownlinkbitrate',\n",
       " 'X-Nokia-Maxuplinkbitrate',\n",
       " 'X-Nokia-Musicshop-Bearer',\n",
       " 'X-Nokia-Musicshop-Version',\n",
       " 'X-Ob',\n",
       " 'X-Office-Major-Version',\n",
       " 'X-Openfrequencylimit',\n",
       " 'X-Openshield',\n",
       " 'X-Opera-Id',\n",
       " 'X-Opera-Info',\n",
       " 'X-Operamini-Fb',\n",
       " 'X-Operamini-Features',\n",
       " 'X-Operamini-Phone',\n",
       " 'X-Operamini-Phone-Ua',\n",
       " 'X-Operamini-Route',\n",
       " 'X-Org-Request',\n",
       " 'X-Original-Url',\n",
       " 'X-P2p-Peerdist',\n",
       " 'X-P2p-Peerdistex',\n",
       " 'X-Pocket-Parser',\n",
       " 'X-Proxy-Id',\n",
       " 'X-Ps3-Browser',\n",
       " 'X-Psa-Client-Features',\n",
       " 'X-Psa-Client-Options',\n",
       " 'X-Psp-Browser',\n",
       " 'X-Puffin-Ua',\n",
       " 'X-Purpose',\n",
       " 'X-Rbt-Optimized-By',\n",
       " 'X-Real-Ip',\n",
       " 'X-Requested-With',\n",
       " 'X-Requestfrom',\n",
       " 'X-Server-Ip',\n",
       " 'X-Time',\n",
       " 'X-Turbo-Compression',\n",
       " 'X-Turbo-Id',\n",
       " 'X-Ucbrowser-Device',\n",
       " 'X-Ucbrowser-Device-Ua',\n",
       " 'X-Ucbrowser-Ua',\n",
       " 'X-Up-Vfza-Id',\n",
       " 'X-User',\n",
       " 'X-Wap-Client-Ip',\n",
       " 'X-Wap-Profile',\n",
       " 'X-Wap-Profile-Diff',\n",
       " 'X-Wap-Proxy-Cookie',\n",
       " 'X-Wapipaddr',\n",
       " 'X-Wf-Max-Combined-Size',\n",
       " 'X-Wisp',\n",
       " 'X-Xorwarded-For',\n",
       " 'X-Xuthenticated-User',\n",
       " 'X-Yandex-Turbo',\n",
       " 'X-Youtube-Edu-Filter',\n",
       " 'X3',\n",
       " 'Xroxy-Connection'}"
      ]
     },
     "execution_count": 140,
     "metadata": {},
     "output_type": "execute_result"
    }
   ],
   "source": [
    "order_keys = {'Accept'}\n",
    "\n",
    "for header in tqdm(order_data):\n",
    "    for key in header.keys():\n",
    "        order_keys.add(key)\n",
    "\n",
    "print(\"keys count: {}\".format(len(order_keys)))\n",
    "order_keys"
   ]
  },
  {
   "cell_type": "markdown",
   "metadata": {},
   "source": [
    "### Greedy selection"
   ]
  },
  {
   "cell_type": "code",
   "execution_count": 29,
   "metadata": {},
   "outputs": [
    {
     "name": "stderr",
     "output_type": "stream",
     "text": [
      "  0%|          | 0/174 [00:00<?, ?it/s]\n",
      "  0%|          | 0/181851 [00:00<?, ?it/s]\u001b[A\n",
      "100%|██████████| 181851/181851 [00:00<00:00, 880899.61it/s]\u001b[A\n",
      "  0%|          | 0/181851 [00:00<?, ?it/s]\u001b[A\n",
      " 26%|██▌       | 47450/181851 [00:00<00:00, 474443.89it/s]"
     ]
    },
    {
     "name": "stdout",
     "output_type": "stream",
     "text": [
      "Sparse dummy orders shape: \n",
      "(181851, 0)\n"
     ]
    },
    {
     "name": "stderr",
     "output_type": "stream",
     "text": [
      "\u001b[A\n",
      " 54%|█████▍    | 98459/181851 [00:00<00:00, 484601.57it/s]\u001b[A\n",
      " 78%|███████▊  | 142134/181851 [00:00<00:00, 469179.22it/s]\u001b[A\n",
      "100%|██████████| 181851/181851 [00:00<00:00, 483507.18it/s]\u001b[A"
     ]
    },
    {
     "name": "stdout",
     "output_type": "stream",
     "text": [
      "Sparse dummy values shape: \n",
      "(181851, 93)\n"
     ]
    },
    {
     "name": "stderr",
     "output_type": "stream",
     "text": [
      "\n",
      "0it [00:00, ?it/s]\u001b[A\n",
      "3513it [00:00, 35129.28it/s]\u001b[A\n",
      "6955it [00:00, 34912.21it/s]\u001b[A\n",
      "10301it [00:00, 34460.42it/s]\u001b[A\n",
      "13810it [00:00, 34646.48it/s]\u001b[A\n",
      "17302it [00:00, 34727.80it/s]\u001b[A\n",
      "20850it [00:00, 34949.75it/s]\u001b[A\n",
      "24195it [00:00, 34485.55it/s]\u001b[A\n",
      "27817it [00:00, 34985.51it/s]\u001b[A\n",
      "31343it [00:00, 35067.00it/s]\u001b[A\n",
      "34938it [00:01, 35324.81it/s]\u001b[A\n",
      "38425it [00:01, 35186.22it/s]\u001b[A\n",
      "41876it [00:01, 33963.44it/s]\u001b[A\n",
      "45354it [00:01, 34203.26it/s]\u001b[A\n",
      "48748it [00:01, 33077.08it/s]\u001b[A\n",
      "52090it [00:01, 33178.16it/s]\u001b[A\n",
      "55412it [00:01, 33188.06it/s]\u001b[A\n",
      "58726it [00:01, 33136.95it/s]\u001b[A\n",
      "  1%|          | 2/174 [01:17<1:51:04, 38.75s/it]\n",
      "  0%|          | 0/181851 [00:00<?, ?it/s]\u001b[A\n",
      "100%|██████████| 181851/181851 [00:00<00:00, 940361.35it/s]\u001b[A\n",
      "  0%|          | 0/181851 [00:00<?, ?it/s]\u001b[A\n",
      " 29%|██▊       | 52205/181851 [00:00<00:00, 522041.79it/s]"
     ]
    },
    {
     "name": "stdout",
     "output_type": "stream",
     "text": [
      "Sparse dummy orders shape: \n",
      "(181851, 0)\n"
     ]
    },
    {
     "name": "stderr",
     "output_type": "stream",
     "text": [
      "\u001b[A\n",
      " 58%|█████▊    | 106158/181851 [00:00<00:00, 527166.71it/s]\u001b[A\n",
      " 87%|████████▋ | 157724/181851 [00:00<00:00, 523660.15it/s]\u001b[A\n",
      "100%|██████████| 181851/181851 [00:00<00:00, 521602.20it/s]\u001b[A"
     ]
    },
    {
     "name": "stdout",
     "output_type": "stream",
     "text": [
      "Sparse dummy values shape: \n",
      "(181851, 93)\n"
     ]
    },
    {
     "name": "stderr",
     "output_type": "stream",
     "text": [
      "\n",
      "0it [00:00, ?it/s]\u001b[A\n",
      "3572it [00:00, 35718.16it/s]\u001b[A\n",
      "7221it [00:00, 35945.94it/s]\u001b[A\n",
      "10843it [00:00, 36026.99it/s]\u001b[A\n",
      "14486it [00:00, 36144.71it/s]\u001b[A\n",
      "18112it [00:00, 36178.17it/s]\u001b[A\n",
      "21651it [00:00, 35936.24it/s]\u001b[A\n",
      "25264it [00:00, 35993.06it/s]\u001b[A\n",
      "28612it [00:00, 35197.84it/s]\u001b[A\n",
      "32192it [00:00, 35375.31it/s]\u001b[A\n",
      "35615it [00:01, 35022.74it/s]\u001b[A\n",
      "39205it [00:01, 35279.38it/s]\u001b[A\n",
      "42801it [00:01, 35479.53it/s]\u001b[A\n",
      "46388it [00:01, 35593.33it/s]\u001b[A\n",
      "49915it [00:01, 35020.73it/s]\u001b[A\n",
      "53396it [00:01, 34539.50it/s]\u001b[A\n",
      "56972it [00:01, 34895.14it/s]\u001b[A\n",
      "  2%|▏         | 3/174 [02:34<2:23:14, 50.26s/it]\n",
      "  0%|          | 0/181851 [00:00<?, ?it/s]\u001b[A\n",
      "100%|██████████| 181851/181851 [00:00<00:00, 914732.09it/s]\u001b[A\n",
      "  0%|          | 0/181851 [00:00<?, ?it/s]\u001b[A\n",
      " 30%|██▉       | 54118/181851 [00:00<00:00, 541172.77it/s]\u001b[A"
     ]
    },
    {
     "name": "stdout",
     "output_type": "stream",
     "text": [
      "Sparse dummy orders shape: \n",
      "(181851, 0)\n"
     ]
    },
    {
     "name": "stderr",
     "output_type": "stream",
     "text": [
      "\n",
      " 60%|██████    | 109475/181851 [00:00<00:00, 544830.71it/s]\u001b[A\n",
      " 90%|████████▉ | 162905/181851 [00:00<00:00, 541626.36it/s]\u001b[A\n",
      "100%|██████████| 181851/181851 [00:00<00:00, 538696.61it/s]\u001b[A"
     ]
    },
    {
     "name": "stdout",
     "output_type": "stream",
     "text": [
      "Sparse dummy values shape: \n",
      "(181851, 93)\n"
     ]
    },
    {
     "name": "stderr",
     "output_type": "stream",
     "text": [
      "\n",
      "0it [00:00, ?it/s]\u001b[A\n",
      "3476it [00:00, 34758.71it/s]\u001b[A\n",
      "7112it [00:00, 35223.93it/s]\u001b[A\n",
      "10655it [00:00, 35284.02it/s]\u001b[A\n",
      "14182it [00:00, 35278.56it/s]\u001b[A\n",
      "17828it [00:00, 35624.49it/s]\u001b[A\n",
      "21409it [00:00, 35679.44it/s]\u001b[A\n",
      "24805it [00:00, 35144.73it/s]\u001b[A\n",
      "28433it [00:00, 35475.01it/s]\u001b[A\n",
      "31783it [00:00, 33915.43it/s]\u001b[A\n",
      "35136it [00:01, 33798.37it/s]\u001b[A\n",
      "38506it [00:01, 33767.55it/s]\u001b[A\n",
      "42108it [00:01, 34411.69it/s]\u001b[A\n",
      "45633it [00:01, 34657.20it/s]\u001b[A\n",
      "49205it [00:01, 34968.17it/s]\u001b[A\n",
      "52856it [00:01, 35414.87it/s]\u001b[A\n",
      "56439it [00:01, 35534.12it/s]\u001b[A\n",
      "  2%|▏         | 4/174 [03:52<2:45:56, 58.57s/it]\n",
      "  0%|          | 0/181851 [00:00<?, ?it/s]\u001b[A\n",
      "100%|██████████| 181851/181851 [00:00<00:00, 919963.88it/s]\u001b[A\n",
      "  0%|          | 0/181851 [00:00<?, ?it/s]\u001b[A\n",
      " 29%|██▉       | 52913/181851 [00:00<00:00, 529125.46it/s]\u001b[A"
     ]
    },
    {
     "name": "stdout",
     "output_type": "stream",
     "text": [
      "Sparse dummy orders shape: \n",
      "(181851, 0)\n"
     ]
    },
    {
     "name": "stderr",
     "output_type": "stream",
     "text": [
      "\n",
      " 57%|█████▋    | 104457/181851 [00:00<00:00, 524941.98it/s]\u001b[A\n",
      " 87%|████████▋ | 157821/181851 [00:00<00:00, 527520.87it/s]\u001b[A\n",
      "100%|██████████| 181851/181851 [00:00<00:00, 523637.24it/s]\u001b[A"
     ]
    },
    {
     "name": "stdout",
     "output_type": "stream",
     "text": [
      "Sparse dummy values shape: \n",
      "(181851, 93)\n"
     ]
    },
    {
     "name": "stderr",
     "output_type": "stream",
     "text": [
      "\n",
      "0it [00:00, ?it/s]\u001b[A\n",
      "3524it [00:00, 35235.41it/s]\u001b[A\n",
      "6984it [00:00, 35040.05it/s]\u001b[A\n",
      "10494it [00:00, 35057.25it/s]\u001b[A\n",
      "14091it [00:00, 35324.22it/s]\u001b[A\n",
      "17706it [00:00, 35567.80it/s]\u001b[A\n",
      "21321it [00:00, 35739.99it/s]\u001b[A\n",
      "24988it [00:00, 36013.02it/s]\u001b[A\n",
      "28612it [00:00, 36079.29it/s]\u001b[A\n",
      "32238it [00:00, 36132.60it/s]\u001b[A\n",
      "35878it [00:01, 36210.48it/s]\u001b[A\n",
      "39519it [00:01, 36267.43it/s]\u001b[A\n",
      "43151it [00:01, 36282.86it/s]\u001b[A\n",
      "46757it [00:01, 36213.77it/s]\u001b[A\n",
      "50368it [00:01, 36181.42it/s]\u001b[A\n",
      "53989it [00:01, 36187.03it/s]\u001b[A\n",
      "57592it [00:01, 36123.35it/s]\u001b[A\n",
      "  3%|▎         | 5/174 [05:10<3:01:11, 64.33s/it]\n",
      "  0%|          | 0/181851 [00:00<?, ?it/s]\u001b[A\n",
      "100%|██████████| 181851/181851 [00:00<00:00, 886346.48it/s]\u001b[A\n",
      "  0%|          | 0/181851 [00:00<?, ?it/s]\u001b[A\n",
      " 29%|██▉       | 52900/181851 [00:00<00:00, 528981.59it/s]"
     ]
    },
    {
     "name": "stdout",
     "output_type": "stream",
     "text": [
      "Sparse dummy orders shape: \n",
      "(181851, 0)\n"
     ]
    },
    {
     "name": "stderr",
     "output_type": "stream",
     "text": [
      "\u001b[A\n",
      " 58%|█████▊    | 105062/181851 [00:00<00:00, 526748.11it/s]\u001b[A\n",
      " 87%|████████▋ | 158091/181851 [00:00<00:00, 527803.60it/s]\u001b[A\n",
      "100%|██████████| 181851/181851 [00:00<00:00, 529757.05it/s]\u001b[A"
     ]
    },
    {
     "name": "stdout",
     "output_type": "stream",
     "text": [
      "Sparse dummy values shape: \n",
      "(181851, 93)\n"
     ]
    },
    {
     "name": "stderr",
     "output_type": "stream",
     "text": [
      "\n",
      "0it [00:00, ?it/s]\u001b[A\n",
      "3599it [00:00, 35983.00it/s]\u001b[A\n",
      "7222it [00:00, 36056.04it/s]\u001b[A\n",
      "10836it [00:00, 36079.01it/s]\u001b[A\n",
      "14449it [00:00, 36092.75it/s]\u001b[A\n",
      "18077it [00:00, 36147.03it/s]\u001b[A\n",
      "21653it [00:00, 36027.43it/s]\u001b[A\n",
      "25227it [00:00, 35940.68it/s]\u001b[A\n",
      "28798it [00:00, 35868.75it/s]\u001b[A\n",
      "32347it [00:00, 35751.58it/s]\u001b[A\n",
      "35917it [00:01, 35733.65it/s]\u001b[A\n",
      "39510it [00:01, 35788.74it/s]\u001b[A\n",
      "43130it [00:01, 35909.49it/s]\u001b[A\n",
      "46706it [00:01, 35862.93it/s]\u001b[A\n",
      "50375it [00:01, 36106.89it/s]\u001b[A\n",
      "53962it [00:01, 35774.95it/s]\u001b[A\n",
      "57592it [00:01, 35929.39it/s]\u001b[A\n",
      "  3%|▎         | 6/174 [06:27<3:10:54, 68.18s/it]\n",
      "  0%|          | 0/181851 [00:00<?, ?it/s]\u001b[A\n",
      "100%|██████████| 181851/181851 [00:00<00:00, 896499.72it/s]\u001b[A\n",
      "  0%|          | 0/181851 [00:00<?, ?it/s]\u001b[A\n",
      " 29%|██▉       | 53515/181851 [00:00<00:00, 535146.68it/s]"
     ]
    },
    {
     "name": "stdout",
     "output_type": "stream",
     "text": [
      "Sparse dummy orders shape: \n",
      "(181851, 0)\n"
     ]
    },
    {
     "name": "stderr",
     "output_type": "stream",
     "text": [
      "\u001b[A\n",
      " 59%|█████▉    | 107407/181851 [00:00<00:00, 536271.74it/s]\u001b[A\n",
      " 88%|████████▊ | 159790/181851 [00:00<00:00, 532475.43it/s]\u001b[A\n",
      "100%|██████████| 181851/181851 [00:00<00:00, 529395.61it/s]\u001b[A"
     ]
    },
    {
     "name": "stdout",
     "output_type": "stream",
     "text": [
      "Sparse dummy values shape: \n",
      "(181851, 93)\n"
     ]
    },
    {
     "name": "stderr",
     "output_type": "stream",
     "text": [
      "\n",
      "0it [00:00, ?it/s]\u001b[A\n",
      "3385it [00:00, 33844.95it/s]\u001b[A\n",
      "6550it [00:00, 33155.11it/s]\u001b[A\n",
      "10117it [00:00, 33871.43it/s]\u001b[A\n",
      "13727it [00:00, 34510.50it/s]\u001b[A\n",
      "16759it [00:00, 33134.22it/s]\u001b[A\n",
      "20157it [00:00, 33381.14it/s]\u001b[A\n",
      "23293it [00:00, 32746.11it/s]\u001b[A\n",
      "26742it [00:00, 33250.14it/s]\u001b[A\n",
      "30294it [00:00, 33899.85it/s]\u001b[A\n",
      "33828it [00:01, 34318.47it/s]\u001b[A\n",
      "37327it [00:01, 34515.29it/s]\u001b[A\n",
      "40777it [00:01, 34507.87it/s]\u001b[A\n",
      "44242it [00:01, 34549.81it/s]\u001b[A\n",
      "47748it [00:01, 34700.20it/s]\u001b[A\n",
      "51264it [00:01, 34814.38it/s]\u001b[A\n",
      "54732it [00:01, 34054.43it/s]\u001b[A\n",
      "58243it [00:01, 34362.34it/s]\u001b[A\n",
      "  4%|▍         | 7/174 [07:45<3:17:38, 71.01s/it]\n",
      "  0%|          | 0/181851 [00:00<?, ?it/s]\u001b[A\n",
      "100%|██████████| 181851/181851 [00:00<00:00, 907851.11it/s]\u001b[A\n",
      "  0%|          | 0/181851 [00:00<?, ?it/s]\u001b[A\n",
      " 29%|██▉       | 52528/181851 [00:00<00:00, 525272.99it/s]"
     ]
    },
    {
     "name": "stdout",
     "output_type": "stream",
     "text": [
      "Sparse dummy orders shape: \n",
      "(181851, 0)\n"
     ]
    },
    {
     "name": "stderr",
     "output_type": "stream",
     "text": [
      "\u001b[A\n",
      " 57%|█████▋    | 104310/181851 [00:00<00:00, 523012.54it/s]\u001b[A\n",
      " 83%|████████▎ | 151740/181851 [00:00<00:00, 507377.00it/s]\u001b[A\n",
      "100%|██████████| 181851/181851 [00:00<00:00, 506347.36it/s]\u001b[A"
     ]
    },
    {
     "name": "stdout",
     "output_type": "stream",
     "text": [
      "Sparse dummy values shape: \n",
      "(181851, 93)\n"
     ]
    },
    {
     "name": "stderr",
     "output_type": "stream",
     "text": [
      "\n",
      "0it [00:00, ?it/s]\u001b[A\n",
      "3603it [00:00, 36021.53it/s]\u001b[A\n",
      "7286it [00:00, 36259.36it/s]\u001b[A\n",
      "10900it [00:00, 36223.17it/s]\u001b[A\n",
      "14467it [00:00, 36054.58it/s]\u001b[A\n",
      "17969it [00:00, 35735.53it/s]\u001b[A\n",
      "21308it [00:00, 34996.11it/s]\u001b[A\n",
      "24887it [00:00, 35229.40it/s]\u001b[A\n",
      "28268it [00:00, 34789.46it/s]\u001b[A\n",
      "31543it [00:00, 33160.97it/s]\u001b[A\n",
      "34963it [00:01, 33464.34it/s]\u001b[A\n",
      "38513it [00:01, 34043.49it/s]\u001b[A\n",
      "41907it [00:01, 34009.54it/s]\u001b[A\n",
      "45512it [00:01, 34595.61it/s]\u001b[A\n",
      "49054it [00:01, 34838.73it/s]\u001b[A\n",
      "52641it [00:01, 35140.49it/s]\u001b[A\n",
      "56171it [00:01, 35186.24it/s]\u001b[A\n",
      "59682it [00:01, 35035.92it/s]\u001b[A\n",
      "  5%|▍         | 8/174 [09:00<3:20:28, 72.46s/it]\n",
      "  0%|          | 0/181851 [00:00<?, ?it/s]\u001b[A\n",
      "100%|██████████| 181851/181851 [00:00<00:00, 906544.43it/s]\u001b[A\n",
      "  0%|          | 0/181851 [00:00<?, ?it/s]\u001b[A\n",
      " 28%|██▊       | 50063/181851 [00:00<00:00, 500620.93it/s]\u001b[A"
     ]
    },
    {
     "name": "stdout",
     "output_type": "stream",
     "text": [
      "Sparse dummy orders shape: \n",
      "(181851, 2)\n"
     ]
    },
    {
     "name": "stderr",
     "output_type": "stream",
     "text": [
      "\n",
      " 54%|█████▍    | 98717/181851 [00:00<00:00, 496308.69it/s]\u001b[A\n",
      " 79%|███████▉  | 144481/181851 [00:00<00:00, 484033.56it/s]\u001b[A\n",
      "100%|██████████| 181851/181851 [00:00<00:00, 463772.80it/s]\u001b[A"
     ]
    },
    {
     "name": "stdout",
     "output_type": "stream",
     "text": [
      "Sparse dummy values shape: \n",
      "(181851, 93)\n"
     ]
    },
    {
     "name": "stderr",
     "output_type": "stream",
     "text": [
      "\n",
      "0it [00:00, ?it/s]\u001b[A\n",
      "3622it [00:00, 36218.39it/s]\u001b[A\n",
      "7225it [00:00, 36160.20it/s]\u001b[A\n",
      "10909it [00:00, 36360.35it/s]\u001b[A\n",
      "14522it [00:00, 36289.09it/s]\u001b[A\n",
      "18133it [00:00, 36234.15it/s]\u001b[A\n",
      "21783it [00:00, 36311.70it/s]\u001b[A\n",
      "25423it [00:00, 36337.45it/s]\u001b[A\n",
      "29061it [00:00, 36350.19it/s]\u001b[A\n",
      "32707it [00:00, 36380.79it/s]\u001b[A\n",
      "36436it [00:01, 36646.94it/s]\u001b[A\n",
      "40092it [00:01, 36619.12it/s]\u001b[A\n",
      "43718it [00:01, 36509.86it/s]\u001b[A\n",
      "47320it [00:01, 36134.43it/s]\u001b[A\n",
      "50900it [00:01, 34267.98it/s]\u001b[A\n",
      "54324it [00:01, 33961.06it/s]\u001b[A\n",
      "57727it [00:01, 33981.38it/s]\u001b[A\n",
      "  5%|▌         | 9/174 [10:17<3:22:43, 73.72s/it]\n",
      "  0%|          | 0/181851 [00:00<?, ?it/s]\u001b[A\n",
      "100%|██████████| 181851/181851 [00:00<00:00, 902197.33it/s]\u001b[A\n",
      "  0%|          | 0/181851 [00:00<?, ?it/s]\u001b[A\n",
      " 30%|███       | 55076/181851 [00:00<00:00, 550747.39it/s]"
     ]
    },
    {
     "name": "stdout",
     "output_type": "stream",
     "text": [
      "Sparse dummy orders shape: \n",
      "(181851, 2)\n"
     ]
    },
    {
     "name": "stderr",
     "output_type": "stream",
     "text": [
      "\u001b[A\n",
      " 61%|██████▏   | 111455/181851 [00:00<00:00, 554594.97it/s]\u001b[A\n",
      " 92%|█████████▏| 167602/181851 [00:00<00:00, 556636.73it/s]\u001b[A\n",
      "100%|██████████| 181851/181851 [00:00<00:00, 561644.41it/s]\u001b[A"
     ]
    },
    {
     "name": "stdout",
     "output_type": "stream",
     "text": [
      "Sparse dummy values shape: \n",
      "(181851, 93)\n"
     ]
    },
    {
     "name": "stderr",
     "output_type": "stream",
     "text": [
      "\n",
      "0it [00:00, ?it/s]\u001b[A\n",
      "3543it [00:00, 35424.63it/s]\u001b[A\n",
      "7166it [00:00, 35662.21it/s]\u001b[A\n",
      "10729it [00:00, 35651.28it/s]\u001b[A\n",
      "14391it [00:00, 35934.79it/s]\u001b[A\n",
      "18095it [00:00, 36258.33it/s]\u001b[A\n",
      "21763it [00:00, 36383.49it/s]\u001b[A\n",
      "25479it [00:00, 36611.73it/s]\u001b[A\n",
      "29216it [00:00, 36835.30it/s]\u001b[A\n",
      "32921it [00:00, 36897.49it/s]\u001b[A\n",
      "36541it [00:01, 36684.09it/s]\u001b[A\n",
      "40111it [00:01, 36360.96it/s]\u001b[A\n",
      "43679it [00:01, 35938.04it/s]\u001b[A\n",
      "47226it [00:01, 34425.11it/s]\u001b[A\n",
      "50650it [00:01, 34121.90it/s]\u001b[A\n",
      "54161it [00:01, 34410.95it/s]\u001b[A\n",
      "57742it [00:01, 34816.88it/s]\u001b[A\n",
      "  6%|▌         | 10/174 [11:29<3:19:40, 73.05s/it]\n",
      "  0%|          | 0/181851 [00:00<?, ?it/s]\u001b[A\n",
      "100%|██████████| 181851/181851 [00:00<00:00, 956853.29it/s]\u001b[A\n",
      "  0%|          | 0/181851 [00:00<?, ?it/s]\u001b[A\n",
      " 31%|███       | 55734/181851 [00:00<00:00, 557339.20it/s]"
     ]
    },
    {
     "name": "stdout",
     "output_type": "stream",
     "text": [
      "Sparse dummy orders shape: \n",
      "(181851, 2)\n"
     ]
    },
    {
     "name": "stderr",
     "output_type": "stream",
     "text": [
      "\u001b[A\n",
      " 62%|██████▏   | 112688/181851 [00:00<00:00, 560943.17it/s]\u001b[A\n",
      " 92%|█████████▏| 167960/181851 [00:00<00:00, 558449.19it/s]\u001b[A\n",
      "100%|██████████| 181851/181851 [00:00<00:00, 557450.12it/s]\u001b[A"
     ]
    },
    {
     "name": "stdout",
     "output_type": "stream",
     "text": [
      "Sparse dummy values shape: \n",
      "(181851, 93)\n"
     ]
    },
    {
     "name": "stderr",
     "output_type": "stream",
     "text": [
      "\n",
      "0it [00:00, ?it/s]\u001b[A\n",
      "3703it [00:00, 37024.21it/s]\u001b[A\n",
      "7417it [00:00, 37057.00it/s]\u001b[A\n",
      "11202it [00:00, 37289.33it/s]\u001b[A\n",
      "14955it [00:00, 37358.93it/s]\u001b[A\n",
      "18657it [00:00, 37255.38it/s]\u001b[A\n",
      "22392it [00:00, 37281.33it/s]\u001b[A\n",
      "26153it [00:00, 37378.35it/s]\u001b[A\n",
      "29896it [00:00, 37392.91it/s]\u001b[A\n",
      "33640it [00:00, 37405.56it/s]\u001b[A\n",
      "37396it [00:01, 37449.66it/s]\u001b[A\n",
      "41168it [00:01, 37529.80it/s]\u001b[A\n",
      "44901it [00:01, 37468.49it/s]\u001b[A\n",
      "48662it [00:01, 37509.83it/s]\u001b[A\n",
      "52381it [00:01, 37412.37it/s]\u001b[A\n",
      "56115it [00:01, 37388.53it/s]\u001b[A\n",
      "59933it [00:01, 37621.50it/s]\u001b[A\n",
      "  6%|▋         | 11/174 [12:34<3:12:36, 70.90s/it]\n",
      "  0%|          | 0/181851 [00:00<?, ?it/s]\u001b[A\n",
      "100%|██████████| 181851/181851 [00:00<00:00, 940398.45it/s]\u001b[A\n",
      "  0%|          | 0/181851 [00:00<?, ?it/s]\u001b[A\n",
      " 33%|███▎      | 59680/181851 [00:00<00:00, 596796.30it/s]"
     ]
    },
    {
     "name": "stdout",
     "output_type": "stream",
     "text": [
      "Sparse dummy orders shape: \n",
      "(181851, 5)\n"
     ]
    },
    {
     "name": "stderr",
     "output_type": "stream",
     "text": [
      "\u001b[A\n",
      " 66%|██████▌   | 119695/181851 [00:00<00:00, 597796.51it/s]\u001b[A\n",
      " 98%|█████████▊| 178629/181851 [00:00<00:00, 595233.93it/s]\u001b[A\n",
      "100%|██████████| 181851/181851 [00:00<00:00, 592558.99it/s]\u001b[A"
     ]
    },
    {
     "name": "stdout",
     "output_type": "stream",
     "text": [
      "Sparse dummy values shape: \n",
      "(181851, 93)\n"
     ]
    },
    {
     "name": "stderr",
     "output_type": "stream",
     "text": [
      "\n",
      "0it [00:00, ?it/s]\u001b[A\n",
      "3662it [00:00, 36615.50it/s]\u001b[A\n",
      "7367it [00:00, 36743.17it/s]\u001b[A\n",
      "11063it [00:00, 36806.23it/s]\u001b[A\n",
      "14733it [00:00, 36771.38it/s]\u001b[A\n",
      "18423it [00:00, 36809.86it/s]\u001b[A\n",
      "22156it [00:00, 36964.12it/s]\u001b[A\n",
      "25862it [00:00, 36990.91it/s]\u001b[A\n",
      "29602it [00:00, 37112.47it/s]\u001b[A\n",
      "33358it [00:00, 37245.38it/s]\u001b[A\n",
      "37108it [00:01, 37317.61it/s]\u001b[A\n",
      "40884it [00:01, 37447.04it/s]\u001b[A\n",
      "44683it [00:01, 37605.80it/s]\u001b[A\n",
      "48424it [00:01, 37544.16it/s]\u001b[A\n",
      "52157it [00:01, 37477.16it/s]\u001b[A\n",
      "55892it [00:01, 37437.51it/s]\u001b[A\n",
      "59635it [00:01, 37434.97it/s]\u001b[A\n",
      "  7%|▋         | 12/174 [13:40<3:07:19, 69.38s/it]\n",
      "  0%|          | 0/181851 [00:00<?, ?it/s]\u001b[A\n",
      "100%|██████████| 181851/181851 [00:00<00:00, 968613.25it/s]\u001b[A\n",
      "  0%|          | 0/181851 [00:00<?, ?it/s]\u001b[A\n",
      " 32%|███▏      | 58837/181851 [00:00<00:00, 588360.74it/s]"
     ]
    },
    {
     "name": "stdout",
     "output_type": "stream",
     "text": [
      "Sparse dummy orders shape: \n",
      "(181851, 5)\n"
     ]
    },
    {
     "name": "stderr",
     "output_type": "stream",
     "text": [
      "\u001b[A\n",
      " 65%|██████▍   | 117506/181851 [00:00<00:00, 587838.47it/s]\u001b[A\n",
      " 97%|█████████▋| 176622/181851 [00:00<00:00, 588829.49it/s]\u001b[A\n",
      "100%|██████████| 181851/181851 [00:00<00:00, 585456.79it/s]\u001b[A"
     ]
    },
    {
     "name": "stdout",
     "output_type": "stream",
     "text": [
      "Sparse dummy values shape: \n",
      "(181851, 93)\n"
     ]
    },
    {
     "name": "stderr",
     "output_type": "stream",
     "text": [
      "\n",
      "0it [00:00, ?it/s]\u001b[A\n",
      "3744it [00:00, 37433.43it/s]\u001b[A\n",
      "7503it [00:00, 37478.35it/s]\u001b[A\n",
      "11196it [00:00, 37311.51it/s]\u001b[A\n",
      "14933it [00:00, 37328.03it/s]\u001b[A\n",
      "18657it [00:00, 37298.76it/s]\u001b[A\n",
      "22385it [00:00, 37292.74it/s]\u001b[A\n",
      "26146it [00:00, 37386.86it/s]\u001b[A\n",
      "29864it [00:00, 37324.22it/s]\u001b[A\n",
      "33656it [00:00, 37499.77it/s]\u001b[A\n",
      "37385it [00:01, 37436.09it/s]\u001b[A\n",
      "41183it [00:01, 37597.29it/s]\u001b[A\n",
      "44947it [00:01, 37607.47it/s]\u001b[A\n",
      "48725it [00:01, 37657.73it/s]\u001b[A\n",
      "52485it [00:01, 37640.16it/s]\u001b[A\n",
      "56260it [00:01, 37672.36it/s]\u001b[A\n",
      "  7%|▋         | 13/174 [14:46<3:03:21, 68.34s/it]\n",
      "  0%|          | 0/181851 [00:00<?, ?it/s]\u001b[A\n",
      "100%|██████████| 181851/181851 [00:00<00:00, 961024.68it/s]\u001b[A\n",
      "  0%|          | 0/181851 [00:00<?, ?it/s]\u001b[A\n",
      " 33%|███▎      | 60082/181851 [00:00<00:00, 600817.71it/s]"
     ]
    },
    {
     "name": "stdout",
     "output_type": "stream",
     "text": [
      "Sparse dummy orders shape: \n",
      "(181851, 5)\n"
     ]
    },
    {
     "name": "stderr",
     "output_type": "stream",
     "text": [
      "\u001b[A\n",
      " 65%|██████▌   | 118902/181851 [00:00<00:00, 596972.63it/s]\u001b[A\n",
      " 98%|█████████▊| 177865/181851 [00:00<00:00, 594748.73it/s]\u001b[A\n",
      "100%|██████████| 181851/181851 [00:00<00:00, 589040.84it/s]\u001b[A"
     ]
    },
    {
     "name": "stdout",
     "output_type": "stream",
     "text": [
      "Sparse dummy values shape: \n",
      "(181851, 93)\n"
     ]
    },
    {
     "name": "stderr",
     "output_type": "stream",
     "text": [
      "\n",
      "0it [00:00, ?it/s]\u001b[A\n",
      "3745it [00:00, 37449.14it/s]\u001b[A\n",
      "7522it [00:00, 37544.81it/s]\u001b[A\n",
      "11296it [00:00, 37602.28it/s]\u001b[A\n",
      "15054it [00:00, 37593.48it/s]\u001b[A\n",
      "18801it [00:00, 37554.29it/s]\u001b[A\n",
      "22519it [00:00, 37441.03it/s]\u001b[A\n",
      "26242it [00:00, 37375.15it/s]\u001b[A\n",
      "29754it [00:00, 36664.70it/s]\u001b[A\n",
      "33358it [00:00, 36472.58it/s]\u001b[A\n",
      "36994it [00:01, 36437.13it/s]\u001b[A\n",
      "40638it [00:01, 36437.53it/s]\u001b[A\n",
      "44312it [00:01, 36526.09it/s]\u001b[A\n",
      "47990it [00:01, 36599.82it/s]\u001b[A\n",
      "51693it [00:01, 36725.12it/s]\u001b[A\n",
      "55477it [00:01, 37050.38it/s]\u001b[A\n",
      "59269it [00:01, 37305.48it/s]\u001b[A\n",
      "  8%|▊         | 14/174 [15:52<3:00:10, 67.57s/it]\n",
      "  0%|          | 0/181851 [00:00<?, ?it/s]\u001b[A\n",
      "100%|██████████| 181851/181851 [00:00<00:00, 956934.92it/s]\u001b[A\n",
      "  0%|          | 0/181851 [00:00<?, ?it/s]\u001b[A\n",
      " 32%|███▏      | 59047/181851 [00:00<00:00, 590463.52it/s]"
     ]
    },
    {
     "name": "stdout",
     "output_type": "stream",
     "text": [
      "Sparse dummy orders shape: \n",
      "(181851, 5)\n"
     ]
    },
    {
     "name": "stderr",
     "output_type": "stream",
     "text": [
      "\u001b[A\n",
      " 65%|██████▌   | 118257/181851 [00:00<00:00, 590951.15it/s]\u001b[A\n",
      " 97%|█████████▋| 176882/181851 [00:00<00:00, 589532.23it/s]\u001b[A\n",
      "100%|██████████| 181851/181851 [00:00<00:00, 587993.70it/s]\u001b[A"
     ]
    },
    {
     "name": "stdout",
     "output_type": "stream",
     "text": [
      "Sparse dummy values shape: \n",
      "(181851, 93)\n"
     ]
    },
    {
     "name": "stderr",
     "output_type": "stream",
     "text": [
      "\n",
      "0it [00:00, ?it/s]\u001b[A\n",
      "3760it [00:00, 37598.24it/s]\u001b[A\n",
      "7472it [00:00, 37450.03it/s]\u001b[A\n",
      "10894it [00:00, 36417.03it/s]\u001b[A\n",
      "14559it [00:00, 36484.62it/s]\u001b[A\n",
      "18247it [00:00, 36602.06it/s]\u001b[A\n",
      "21960it [00:00, 36757.80it/s]\u001b[A\n",
      "25701it [00:00, 36950.94it/s]\u001b[A\n",
      "29408it [00:00, 36986.09it/s]\u001b[A\n",
      "33137it [00:00, 37075.67it/s]\u001b[A\n",
      "36826it [00:01, 37019.31it/s]\u001b[A\n",
      "40499it [00:01, 36931.62it/s]\u001b[A\n",
      "44182it [00:01, 36899.69it/s]\u001b[A\n",
      "47875it [00:01, 36908.07it/s]\u001b[A\n",
      "51580it [00:01, 36948.94it/s]\u001b[A\n",
      "55275it [00:01, 36948.08it/s]\u001b[A\n",
      "58975it [00:01, 36961.59it/s]\u001b[A\n",
      "  9%|▊         | 15/174 [16:58<2:57:27, 66.96s/it]\n",
      "  0%|          | 0/181851 [00:00<?, ?it/s]\u001b[A\n",
      "100%|██████████| 181851/181851 [00:00<00:00, 879910.82it/s]\u001b[A\n",
      "  0%|          | 0/181851 [00:00<?, ?it/s]\u001b[A\n",
      " 32%|███▏      | 58240/181851 [00:00<00:00, 582390.84it/s]"
     ]
    },
    {
     "name": "stdout",
     "output_type": "stream",
     "text": [
      "Sparse dummy orders shape: \n",
      "(181851, 5)\n"
     ]
    },
    {
     "name": "stderr",
     "output_type": "stream",
     "text": [
      "\u001b[A\n",
      " 64%|██████▍   | 116744/181851 [00:00<00:00, 583182.81it/s]\u001b[A\n",
      " 96%|█████████▌| 174892/181851 [00:00<00:00, 582670.67it/s]\u001b[A\n",
      "100%|██████████| 181851/181851 [00:00<00:00, 580491.37it/s]\u001b[A"
     ]
    },
    {
     "name": "stdout",
     "output_type": "stream",
     "text": [
      "Sparse dummy values shape: \n",
      "(181851, 93)\n"
     ]
    },
    {
     "name": "stderr",
     "output_type": "stream",
     "text": [
      "\n",
      "0it [00:00, ?it/s]\u001b[A\n",
      "3688it [00:00, 36875.82it/s]\u001b[A\n",
      "7385it [00:00, 36903.11it/s]\u001b[A\n",
      "11097it [00:00, 36966.37it/s]\u001b[A\n",
      "14788it [00:00, 36946.75it/s]\u001b[A\n",
      "18479it [00:00, 36935.09it/s]\u001b[A\n",
      "22065it [00:00, 36603.09it/s]\u001b[A\n",
      "25842it [00:00, 36943.85it/s]\u001b[A\n",
      "29625it [00:00, 37203.27it/s]\u001b[A\n",
      "33407it [00:00, 37384.54it/s]\u001b[A\n",
      "37141it [00:01, 37370.03it/s]\u001b[A\n",
      "40910it [00:01, 37464.87it/s]\u001b[A\n",
      "44707it [00:01, 37614.15it/s]\u001b[A\n",
      "48498it [00:01, 37701.20it/s]\u001b[A\n",
      "52285it [00:01, 37749.46it/s]\u001b[A\n",
      "56098it [00:01, 37861.89it/s]\u001b[A\n",
      "59906it [00:01, 37925.88it/s]\u001b[A\n",
      "  9%|▉         | 16/174 [18:03<2:55:22, 66.60s/it]\n",
      "  0%|          | 0/181851 [00:00<?, ?it/s]\u001b[A\n",
      "100%|██████████| 181851/181851 [00:00<00:00, 957455.05it/s]\u001b[A\n",
      "  0%|          | 0/181851 [00:00<?, ?it/s]\u001b[A\n",
      " 33%|███▎      | 60184/181851 [00:00<00:00, 601839.14it/s]\u001b[A"
     ]
    },
    {
     "name": "stdout",
     "output_type": "stream",
     "text": [
      "Sparse dummy orders shape: \n",
      "(181851, 5)\n"
     ]
    },
    {
     "name": "stderr",
     "output_type": "stream",
     "text": [
      "\n",
      " 66%|██████▌   | 119211/181851 [00:00<00:00, 598320.80it/s]\u001b[A\n",
      " 98%|█████████▊| 178139/181851 [00:00<00:00, 595577.15it/s]\u001b[A\n",
      "100%|██████████| 181851/181851 [00:00<00:00, 589334.85it/s]\u001b[A"
     ]
    },
    {
     "name": "stdout",
     "output_type": "stream",
     "text": [
      "Sparse dummy values shape: \n",
      "(181851, 93)\n"
     ]
    },
    {
     "name": "stderr",
     "output_type": "stream",
     "text": [
      "\n",
      "0it [00:00, ?it/s]\u001b[A\n",
      "3743it [00:00, 37423.70it/s]\u001b[A\n",
      "7509it [00:00, 37490.31it/s]\u001b[A\n",
      "11253it [00:00, 37472.00it/s]\u001b[A\n",
      "15004it [00:00, 37482.35it/s]\u001b[A\n",
      "18791it [00:00, 37594.33it/s]\u001b[A\n",
      "22491it [00:00, 37411.36it/s]\u001b[A\n",
      "26215it [00:00, 37357.66it/s]\u001b[A\n",
      "29903it [00:00, 37210.85it/s]\u001b[A\n",
      "33651it [00:00, 37290.69it/s]\u001b[A\n",
      "37406it [00:01, 37366.95it/s]\u001b[A\n",
      "41195it [00:01, 37519.53it/s]\u001b[A\n",
      "44948it [00:01, 37520.56it/s]\u001b[A\n",
      "48704it [00:01, 37528.70it/s]\u001b[A\n",
      "52421it [00:01, 37377.36it/s]\u001b[A\n",
      "56198it [00:01, 37491.83it/s]\u001b[A\n",
      "59974it [00:01, 37568.84it/s]\u001b[A\n",
      " 10%|▉         | 17/174 [19:09<2:53:20, 66.24s/it]\n",
      "  0%|          | 0/181851 [00:00<?, ?it/s]\u001b[A\n",
      "100%|██████████| 181851/181851 [00:00<00:00, 955197.25it/s]\u001b[A\n",
      "  0%|          | 0/181851 [00:00<?, ?it/s]\u001b[A\n",
      " 33%|███▎      | 59563/181851 [00:00<00:00, 595622.05it/s]"
     ]
    },
    {
     "name": "stdout",
     "output_type": "stream",
     "text": [
      "Sparse dummy orders shape: \n",
      "(181851, 5)\n"
     ]
    },
    {
     "name": "stderr",
     "output_type": "stream",
     "text": [
      "\u001b[A\n",
      " 66%|██████▌   | 119247/181851 [00:00<00:00, 595976.44it/s]\u001b[A\n",
      " 99%|█████████▉| 180054/181851 [00:00<00:00, 599552.17it/s]\u001b[A\n",
      "100%|██████████| 181851/181851 [00:00<00:00, 596538.09it/s]\u001b[A"
     ]
    },
    {
     "name": "stdout",
     "output_type": "stream",
     "text": [
      "Sparse dummy values shape: \n",
      "(181851, 93)\n"
     ]
    },
    {
     "name": "stderr",
     "output_type": "stream",
     "text": [
      "\n",
      "0it [00:00, ?it/s]\u001b[A\n",
      "3685it [00:00, 36845.91it/s]\u001b[A\n",
      "7404it [00:00, 36946.66it/s]\u001b[A\n",
      "11106it [00:00, 36967.75it/s]\u001b[A\n",
      "14798it [00:00, 36950.64it/s]\u001b[A\n",
      "18454it [00:00, 36830.36it/s]\u001b[A\n",
      "22162it [00:00, 36902.17it/s]\u001b[A\n",
      "25834it [00:00, 36846.95it/s]\u001b[A\n",
      "29547it [00:00, 36930.76it/s]\u001b[A\n",
      "33341it [00:00, 37226.84it/s]\u001b[A\n",
      "37091it [00:01, 37307.21it/s]\u001b[A\n",
      "40861it [00:01, 37421.46it/s]\u001b[A\n",
      "44653it [00:01, 37568.77it/s]\u001b[A\n",
      "48445it [00:01, 37672.29it/s]\u001b[A\n",
      "52214it [00:01, 37676.02it/s]\u001b[A\n",
      "55961it [00:01, 37611.45it/s]\u001b[A\n",
      "59705it [00:01, 37503.94it/s]\u001b[A\n",
      " 10%|█         | 18/174 [20:14<2:51:43, 66.05s/it]\n",
      "  0%|          | 0/181851 [00:00<?, ?it/s]\u001b[A\n",
      "100%|██████████| 181851/181851 [00:00<00:00, 1000359.86it/s]\u001b[A\n",
      "  0%|          | 0/181851 [00:00<?, ?it/s]\u001b[A\n",
      " 33%|███▎      | 59256/181851 [00:00<00:00, 592492.76it/s]"
     ]
    },
    {
     "name": "stdout",
     "output_type": "stream",
     "text": [
      "Sparse dummy orders shape: \n",
      "(181851, 5)\n"
     ]
    },
    {
     "name": "stderr",
     "output_type": "stream",
     "text": [
      "\u001b[A\n",
      " 65%|██████▍   | 117949/181851 [00:00<00:00, 590810.08it/s]\u001b[A\n",
      " 97%|█████████▋| 177260/181851 [00:00<00:00, 591493.71it/s]\u001b[A\n",
      "100%|██████████| 181851/181851 [00:00<00:00, 588300.28it/s]\u001b[A"
     ]
    },
    {
     "name": "stdout",
     "output_type": "stream",
     "text": [
      "Sparse dummy values shape: \n",
      "(181851, 93)\n"
     ]
    },
    {
     "name": "stderr",
     "output_type": "stream",
     "text": [
      "\n",
      "0it [00:00, ?it/s]\u001b[A\n",
      "3740it [00:00, 37395.58it/s]\u001b[A\n",
      "7514it [00:00, 37496.41it/s]\u001b[A\n",
      "11297it [00:00, 37595.13it/s]\u001b[A\n",
      "15046it [00:00, 37563.52it/s]\u001b[A\n",
      "18691it [00:00, 37221.77it/s]\u001b[A\n",
      "22376it [00:00, 37107.24it/s]\u001b[A\n",
      "25998it [00:00, 36835.64it/s]\u001b[A\n",
      "29548it [00:00, 36423.48it/s]\u001b[A\n",
      "33190it [00:00, 36421.12it/s]\u001b[A\n",
      "36941it [00:01, 36738.50it/s]\u001b[A\n",
      "40592it [00:01, 36669.50it/s]\u001b[A\n",
      "44300it [00:01, 36791.63it/s]\u001b[A\n",
      "47948it [00:01, 36694.21it/s]\u001b[A\n",
      "51582it [00:01, 36530.94it/s]\u001b[A\n",
      "55216it [00:01, 36473.33it/s]\u001b[A\n",
      "58866it [00:01, 36480.66it/s]\u001b[A\n",
      " 11%|█         | 19/174 [21:20<2:50:23, 65.96s/it]\n",
      "  0%|          | 0/181851 [00:00<?, ?it/s]\u001b[A\n",
      "100%|██████████| 181851/181851 [00:00<00:00, 959531.59it/s]\u001b[A\n",
      "  0%|          | 0/181851 [00:00<?, ?it/s]\u001b[A\n",
      " 33%|███▎      | 59731/181851 [00:00<00:00, 597306.30it/s]\u001b[A"
     ]
    },
    {
     "name": "stdout",
     "output_type": "stream",
     "text": [
      "Sparse dummy orders shape: \n",
      "(181851, 5)\n"
     ]
    },
    {
     "name": "stderr",
     "output_type": "stream",
     "text": [
      "\n",
      " 66%|██████▌   | 119748/181851 [00:00<00:00, 598161.85it/s]\u001b[A\n",
      " 99%|█████████▉| 179724/181851 [00:00<00:00, 598638.44it/s]\u001b[A\n",
      "100%|██████████| 181851/181851 [00:00<00:00, 595426.04it/s]\u001b[A"
     ]
    },
    {
     "name": "stdout",
     "output_type": "stream",
     "text": [
      "Sparse dummy values shape: \n",
      "(181851, 93)\n"
     ]
    },
    {
     "name": "stderr",
     "output_type": "stream",
     "text": [
      "\n",
      "0it [00:00, ?it/s]\u001b[A\n",
      "3742it [00:00, 37413.52it/s]\u001b[A\n",
      "7528it [00:00, 37543.65it/s]\u001b[A\n",
      "11360it [00:00, 37770.77it/s]\u001b[A\n",
      "15175it [00:00, 37881.57it/s]\u001b[A\n",
      "18977it [00:00, 37922.93it/s]\u001b[A\n",
      "22758it [00:00, 37888.28it/s]\u001b[A\n",
      "26559it [00:00, 37923.64it/s]\u001b[A\n",
      "30362it [00:00, 37954.33it/s]\u001b[A\n",
      "34223it [00:00, 38146.40it/s]\u001b[A\n",
      "37986it [00:01, 37989.60it/s]\u001b[A\n",
      "41766it [00:01, 37930.30it/s]\u001b[A\n",
      "45486it [00:01, 37459.85it/s]\u001b[A\n",
      "49261it [00:01, 37544.94it/s]\u001b[A\n",
      "52981it [00:01, 37290.31it/s]\u001b[A\n",
      "56758it [00:01, 37430.93it/s]\u001b[A\n",
      " 11%|█▏        | 20/174 [22:25<2:48:47, 65.77s/it]\n",
      "  0%|          | 0/181851 [00:00<?, ?it/s]\u001b[A\n",
      "100%|██████████| 181851/181851 [00:00<00:00, 1001513.13it/s]\u001b[A\n",
      "  0%|          | 0/181851 [00:00<?, ?it/s]\u001b[A\n",
      " 32%|███▏      | 58688/181851 [00:00<00:00, 586873.56it/s]\u001b[A"
     ]
    },
    {
     "name": "stdout",
     "output_type": "stream",
     "text": [
      "Sparse dummy orders shape: \n",
      "(181851, 5)\n"
     ]
    },
    {
     "name": "stderr",
     "output_type": "stream",
     "text": [
      "\n",
      " 64%|██████▍   | 117241/181851 [00:00<00:00, 586469.60it/s]\u001b[A\n",
      " 97%|█████████▋| 176279/181851 [00:00<00:00, 587634.51it/s]\u001b[A\n",
      "100%|██████████| 181851/181851 [00:00<00:00, 586316.37it/s]\u001b[A"
     ]
    },
    {
     "name": "stdout",
     "output_type": "stream",
     "text": [
      "Sparse dummy values shape: \n",
      "(181851, 93)\n"
     ]
    },
    {
     "name": "stderr",
     "output_type": "stream",
     "text": [
      "\n",
      "0it [00:00, ?it/s]\u001b[A\n",
      "3617it [00:00, 36169.86it/s]\u001b[A\n",
      "7312it [00:00, 36398.95it/s]\u001b[A\n",
      "10949it [00:00, 36388.89it/s]\u001b[A\n",
      "14622it [00:00, 36487.92it/s]\u001b[A\n",
      "18293it [00:00, 36552.32it/s]\u001b[A\n",
      "21938it [00:00, 36521.21it/s]\u001b[A\n",
      "25584it [00:00, 36500.40it/s]\u001b[A\n",
      "29196it [00:00, 36382.68it/s]\u001b[A\n",
      "32845it [00:00, 36410.92it/s]\u001b[A\n",
      "36479it [00:01, 36387.96it/s]\u001b[A\n",
      "40131it [00:01, 36416.10it/s]\u001b[A\n",
      "43792it [00:01, 36473.31it/s]\u001b[A\n",
      "47446it [00:01, 36492.68it/s]\u001b[A\n",
      "51126it [00:01, 36584.11it/s]\u001b[A\n",
      "54831it [00:01, 36722.03it/s]\u001b[A\n",
      "58526it [00:01, 36788.17it/s]\u001b[A\n",
      " 12%|█▏        | 21/174 [23:31<2:47:24, 65.65s/it]\n",
      "  0%|          | 0/181851 [00:00<?, ?it/s]\u001b[A\n",
      "100%|██████████| 181851/181851 [00:00<00:00, 942145.49it/s]\u001b[A\n",
      "  0%|          | 0/181851 [00:00<?, ?it/s]\u001b[A\n",
      " 33%|███▎      | 59643/181851 [00:00<00:00, 596423.46it/s]\u001b[A"
     ]
    },
    {
     "name": "stdout",
     "output_type": "stream",
     "text": [
      "Sparse dummy orders shape: \n",
      "(181851, 5)\n"
     ]
    },
    {
     "name": "stderr",
     "output_type": "stream",
     "text": [
      "\n",
      " 65%|██████▌   | 118233/181851 [00:00<00:00, 593225.82it/s]\u001b[A\n",
      " 97%|█████████▋| 176003/181851 [00:00<00:00, 588478.32it/s]\u001b[A\n",
      "100%|██████████| 181851/181851 [00:00<00:00, 583791.64it/s]\u001b[A"
     ]
    },
    {
     "name": "stdout",
     "output_type": "stream",
     "text": [
      "Sparse dummy values shape: \n",
      "(181851, 93)\n"
     ]
    },
    {
     "name": "stderr",
     "output_type": "stream",
     "text": [
      "\n",
      "0it [00:00, ?it/s]\u001b[A\n",
      "3743it [00:00, 37423.17it/s]\u001b[A\n",
      "7473it [00:00, 37384.88it/s]\u001b[A\n",
      "11178it [00:00, 37283.47it/s]\u001b[A\n",
      "14903it [00:00, 37272.93it/s]\u001b[A\n",
      "18595it [00:00, 37164.99it/s]\u001b[A\n",
      "22290it [00:00, 37098.51it/s]\u001b[A\n",
      "25954it [00:00, 36959.05it/s]\u001b[A\n",
      "29627it [00:00, 36888.93it/s]\u001b[A\n",
      "33317it [00:00, 36889.89it/s]\u001b[A\n",
      "37082it [00:01, 37111.86it/s]\u001b[A\n",
      "40775it [00:01, 37057.10it/s]\u001b[A\n",
      "44510it [00:01, 37143.60it/s]\u001b[A\n",
      "48203it [00:01, 37078.87it/s]\u001b[A\n",
      "51937it [00:01, 37156.76it/s]\u001b[A\n",
      "55644it [00:01, 37130.14it/s]\u001b[A\n",
      "59340it [00:01, 37051.03it/s]\u001b[A\n",
      " 13%|█▎        | 22/174 [24:36<2:46:16, 65.63s/it]\n",
      "  0%|          | 0/181851 [00:00<?, ?it/s]\u001b[A\n",
      "100%|██████████| 181851/181851 [00:00<00:00, 996702.28it/s]\u001b[A\n",
      "  0%|          | 0/181851 [00:00<?, ?it/s]\u001b[A\n",
      " 33%|███▎      | 59931/181851 [00:00<00:00, 599304.86it/s]"
     ]
    },
    {
     "name": "stdout",
     "output_type": "stream",
     "text": [
      "Sparse dummy orders shape: \n",
      "(181851, 8)\n"
     ]
    },
    {
     "name": "stderr",
     "output_type": "stream",
     "text": [
      "\u001b[A\n",
      " 66%|██████▌   | 120254/181851 [00:00<00:00, 600475.06it/s]\u001b[A\n",
      "100%|█████████▉| 181430/181851 [00:00<00:00, 603815.05it/s]\u001b[A\n",
      "100%|██████████| 181851/181851 [00:00<00:00, 600539.31it/s]\u001b[A"
     ]
    },
    {
     "name": "stdout",
     "output_type": "stream",
     "text": [
      "Sparse dummy values shape: \n",
      "(181851, 93)\n"
     ]
    },
    {
     "name": "stderr",
     "output_type": "stream",
     "text": [
      "\n",
      "0it [00:00, ?it/s]\u001b[A\n",
      "3740it [00:00, 37396.29it/s]\u001b[A\n",
      "7542it [00:00, 37580.54it/s]\u001b[A\n",
      "11352it [00:00, 37734.63it/s]\u001b[A\n",
      "15104it [00:00, 37667.58it/s]\u001b[A\n",
      "18616it [00:00, 36863.46it/s]\u001b[A\n",
      "22152it [00:00, 36398.69it/s]\u001b[A\n",
      "25854it [00:00, 36582.17it/s]\u001b[A\n",
      "29649it [00:00, 36981.88it/s]\u001b[A\n",
      "33339it [00:00, 36956.31it/s]\u001b[A\n",
      "36952it [00:01, 36703.10it/s]\u001b[A\n",
      "40710it [00:01, 36961.13it/s]\u001b[A\n",
      "44493it [00:01, 37217.03it/s]\u001b[A\n",
      "48286it [00:01, 37426.17it/s]\u001b[A\n",
      "52161it [00:01, 37812.68it/s]\u001b[A\n",
      "55919it [00:01, 37684.44it/s]\u001b[A\n",
      "59672it [00:01, 37529.06it/s]\u001b[A\n",
      " 13%|█▎        | 23/174 [25:42<2:45:04, 65.60s/it]\n",
      "  0%|          | 0/181851 [00:00<?, ?it/s]\u001b[A\n",
      "100%|██████████| 181851/181851 [00:00<00:00, 987667.89it/s]\u001b[A\n",
      "  0%|          | 0/181851 [00:00<?, ?it/s]\u001b[A\n",
      " 33%|███▎      | 60538/181851 [00:00<00:00, 605376.25it/s]"
     ]
    },
    {
     "name": "stdout",
     "output_type": "stream",
     "text": [
      "Sparse dummy orders shape: \n",
      "(181851, 10)\n"
     ]
    },
    {
     "name": "stderr",
     "output_type": "stream",
     "text": [
      "\u001b[A\n",
      " 66%|██████▌   | 120223/181851 [00:00<00:00, 602790.90it/s]\u001b[A\n",
      " 99%|█████████▉| 180685/181851 [00:00<00:00, 603336.92it/s]\u001b[A\n",
      "100%|██████████| 181851/181851 [00:00<00:00, 598391.38it/s]\u001b[A"
     ]
    },
    {
     "name": "stdout",
     "output_type": "stream",
     "text": [
      "Sparse dummy values shape: \n",
      "(181851, 93)\n"
     ]
    },
    {
     "name": "stderr",
     "output_type": "stream",
     "text": [
      "\n",
      "0it [00:00, ?it/s]\u001b[A\n",
      "3656it [00:00, 36552.54it/s]\u001b[A\n",
      "7367it [00:00, 36716.26it/s]\u001b[A\n",
      "11103it [00:00, 36904.54it/s]\u001b[A\n",
      "14806it [00:00, 36940.13it/s]\u001b[A\n",
      "18529it [00:00, 37024.99it/s]\u001b[A\n",
      "22240it [00:00, 37049.77it/s]\u001b[A\n",
      "25961it [00:00, 37095.33it/s]\u001b[A\n",
      "29668it [00:00, 37085.00it/s]\u001b[A\n",
      "33374it [00:00, 37076.47it/s]\u001b[A\n",
      "37144it [00:01, 37261.05it/s]\u001b[A\n",
      "40869it [00:01, 37257.08it/s]\u001b[A\n",
      "44641it [00:01, 37394.34it/s]\u001b[A\n",
      "48331it [00:01, 37233.24it/s]\u001b[A\n",
      "52061it [00:01, 37250.43it/s]\u001b[A\n",
      "55781it [00:01, 37233.11it/s]\u001b[A\n",
      "59532it [00:01, 37313.72it/s]\u001b[A\n",
      " 14%|█▍        | 24/174 [26:48<2:44:05, 65.63s/it]\n",
      "  0%|          | 0/181851 [00:00<?, ?it/s]\u001b[A\n",
      "100%|██████████| 181851/181851 [00:00<00:00, 986075.63it/s]\u001b[A\n",
      "  0%|          | 0/181851 [00:00<?, ?it/s]\u001b[A\n",
      " 33%|███▎      | 59327/181851 [00:00<00:00, 593262.08it/s]"
     ]
    },
    {
     "name": "stdout",
     "output_type": "stream",
     "text": [
      "Sparse dummy orders shape: \n",
      "(181851, 10)\n"
     ]
    },
    {
     "name": "stderr",
     "output_type": "stream",
     "text": [
      "\u001b[A\n",
      " 65%|██████▌   | 119035/181851 [00:00<00:00, 594401.64it/s]\u001b[A\n",
      " 99%|█████████▊| 179460/181851 [00:00<00:00, 597319.91it/s]\u001b[A\n",
      "100%|██████████| 181851/181851 [00:00<00:00, 594706.45it/s]\u001b[A"
     ]
    },
    {
     "name": "stdout",
     "output_type": "stream",
     "text": [
      "Sparse dummy values shape: \n",
      "(181851, 93)\n"
     ]
    },
    {
     "name": "stderr",
     "output_type": "stream",
     "text": [
      "\n",
      "0it [00:00, ?it/s]\u001b[A\n",
      "3710it [00:00, 37099.86it/s]\u001b[A\n",
      "7504it [00:00, 37346.69it/s]\u001b[A\n",
      "11297it [00:00, 37518.00it/s]\u001b[A\n",
      "15045it [00:00, 37503.94it/s]\u001b[A\n",
      "18780it [00:00, 37457.37it/s]\u001b[A\n",
      "22549it [00:00, 37526.09it/s]\u001b[A\n",
      "26310it [00:00, 37549.33it/s]\u001b[A\n",
      "30061it [00:00, 37535.17it/s]\u001b[A\n",
      "33904it [00:00, 37795.61it/s]\u001b[A\n",
      "37714it [00:01, 37885.05it/s]\u001b[A\n",
      "41502it [00:01, 37882.73it/s]\u001b[A\n",
      "45324it [00:01, 37980.54it/s]\u001b[A\n",
      "49148it [00:01, 38055.53it/s]\u001b[A\n",
      "52918it [00:01, 37879.75it/s]\u001b[A\n",
      "56682it [00:01, 37683.90it/s]\u001b[A\n",
      " 14%|█▍        | 25/174 [27:53<2:42:49, 65.57s/it]\n",
      "  0%|          | 0/181851 [00:00<?, ?it/s]\u001b[A\n",
      "100%|██████████| 181851/181851 [00:00<00:00, 947846.08it/s]\u001b[A\n",
      "  0%|          | 0/181851 [00:00<?, ?it/s]\u001b[A\n",
      " 32%|███▏      | 57934/181851 [00:00<00:00, 579339.17it/s]\u001b[A"
     ]
    },
    {
     "name": "stdout",
     "output_type": "stream",
     "text": [
      "Sparse dummy orders shape: \n",
      "(181851, 10)\n"
     ]
    },
    {
     "name": "stderr",
     "output_type": "stream",
     "text": [
      "\n",
      " 64%|██████▍   | 116572/181851 [00:00<00:00, 581431.71it/s]\u001b[A\n",
      " 96%|█████████▌| 174755/181851 [00:00<00:00, 581550.47it/s]\u001b[A\n",
      "100%|██████████| 181851/181851 [00:00<00:00, 580892.35it/s]\u001b[A"
     ]
    },
    {
     "name": "stdout",
     "output_type": "stream",
     "text": [
      "Sparse dummy values shape: \n",
      "(181851, 93)\n"
     ]
    },
    {
     "name": "stderr",
     "output_type": "stream",
     "text": [
      "\n",
      "0it [00:00, ?it/s]\u001b[A\n",
      "3766it [00:00, 37652.41it/s]\u001b[A\n",
      "7592it [00:00, 37832.07it/s]\u001b[A\n",
      "11370it [00:00, 37813.74it/s]\u001b[A\n",
      "15173it [00:00, 37875.75it/s]\u001b[A\n",
      "18964it [00:00, 37881.21it/s]\u001b[A\n",
      "22690it [00:00, 37691.93it/s]\u001b[A\n",
      "26411it [00:00, 37545.65it/s]\u001b[A\n",
      "30109it [00:00, 37373.64it/s]\u001b[A\n",
      "33853it [00:00, 37392.15it/s]\u001b[A\n",
      "37627it [00:01, 37494.96it/s]\u001b[A\n",
      "41422it [00:01, 37629.29it/s]\u001b[A\n",
      "45219it [00:01, 37729.85it/s]\u001b[A\n",
      "49003it [00:01, 37761.71it/s]\u001b[A\n",
      "52792it [00:01, 37799.33it/s]\u001b[A\n",
      "56621it [00:01, 37943.42it/s]\u001b[A\n",
      " 15%|█▍        | 26/174 [28:59<2:41:49, 65.60s/it]\n",
      "  0%|          | 0/181851 [00:00<?, ?it/s]\u001b[A\n",
      "100%|██████████| 181851/181851 [00:00<00:00, 1001695.95it/s]\u001b[A\n",
      "  0%|          | 0/181851 [00:00<?, ?it/s]\u001b[A\n",
      " 33%|███▎      | 59310/181851 [00:00<00:00, 593096.32it/s]"
     ]
    },
    {
     "name": "stdout",
     "output_type": "stream",
     "text": [
      "Sparse dummy orders shape: \n",
      "(181851, 10)\n"
     ]
    },
    {
     "name": "stderr",
     "output_type": "stream",
     "text": [
      "\u001b[A\n",
      " 65%|██████▍   | 117943/181851 [00:00<00:00, 591048.13it/s]\u001b[A\n",
      " 97%|█████████▋| 176397/181851 [00:00<00:00, 589080.27it/s]\u001b[A\n",
      "100%|██████████| 181851/181851 [00:00<00:00, 587051.48it/s]\u001b[A"
     ]
    },
    {
     "name": "stdout",
     "output_type": "stream",
     "text": [
      "Sparse dummy values shape: \n",
      "(181851, 93)\n"
     ]
    },
    {
     "name": "stderr",
     "output_type": "stream",
     "text": [
      "\n",
      "0it [00:00, ?it/s]\u001b[A\n",
      "3673it [00:00, 36723.99it/s]\u001b[A\n",
      "7388it [00:00, 36849.42it/s]\u001b[A\n",
      "11150it [00:00, 37075.59it/s]\u001b[A\n",
      "14929it [00:00, 37284.84it/s]\u001b[A\n",
      "18687it [00:00, 37370.41it/s]\u001b[A\n",
      "22424it [00:00, 37368.27it/s]\u001b[A\n",
      "26180it [00:00, 37423.16it/s]\u001b[A\n",
      "29977it [00:00, 37583.60it/s]\u001b[A\n",
      "33769it [00:00, 37682.35it/s]\u001b[A\n",
      "37560it [00:01, 37748.24it/s]\u001b[A\n",
      "41341it [00:01, 37764.49it/s]\u001b[A\n",
      "45112it [00:01, 37747.68it/s]\u001b[A\n",
      "48915it [00:01, 37830.73it/s]\u001b[A\n",
      "52695it [00:01, 37821.00it/s]\u001b[A\n",
      "56478it [00:01, 37822.50it/s]\u001b[A\n",
      " 16%|█▌        | 27/174 [30:06<2:41:53, 66.08s/it]\n",
      "  0%|          | 0/181851 [00:00<?, ?it/s]\u001b[A\n",
      "100%|██████████| 181851/181851 [00:00<00:00, 977386.03it/s]\u001b[A\n",
      "  0%|          | 0/181851 [00:00<?, ?it/s]\u001b[A\n",
      " 33%|███▎      | 59501/181851 [00:00<00:00, 595006.31it/s]"
     ]
    },
    {
     "name": "stdout",
     "output_type": "stream",
     "text": [
      "Sparse dummy orders shape: \n",
      "(181851, 10)\n"
     ]
    },
    {
     "name": "stderr",
     "output_type": "stream",
     "text": [
      "\u001b[A\n",
      " 66%|██████▌   | 119252/181851 [00:00<00:00, 595752.41it/s]\u001b[A\n",
      " 99%|█████████▊| 179189/181851 [00:00<00:00, 596831.99it/s]\u001b[A\n",
      "100%|██████████| 181851/181851 [00:00<00:00, 594081.12it/s]\u001b[A"
     ]
    },
    {
     "name": "stdout",
     "output_type": "stream",
     "text": [
      "Sparse dummy values shape: \n",
      "(181851, 93)\n"
     ]
    },
    {
     "name": "stderr",
     "output_type": "stream",
     "text": [
      "\n",
      "0it [00:00, ?it/s]\u001b[A\n",
      "3721it [00:00, 37201.70it/s]\u001b[A\n",
      "7458it [00:00, 37251.35it/s]\u001b[A\n",
      "11219it [00:00, 37357.86it/s]\u001b[A\n",
      "14996it [00:00, 37478.73it/s]\u001b[A\n",
      "18752it [00:00, 37502.60it/s]\u001b[A\n",
      "22501it [00:00, 37497.84it/s]\u001b[A\n",
      "26268it [00:00, 37549.20it/s]\u001b[A\n",
      "30055it [00:00, 37643.46it/s]\u001b[A\n",
      "33841it [00:00, 37705.89it/s]\u001b[A\n",
      "37597it [00:01, 37659.77it/s]\u001b[A\n",
      "41409it [00:01, 37794.59it/s]\u001b[A\n",
      "45240it [00:01, 37947.04it/s]\u001b[A\n",
      "49058it [00:01, 38015.15it/s]\u001b[A\n",
      "52849it [00:01, 37982.06it/s]\u001b[A\n",
      "56664it [00:01, 38031.32it/s]\u001b[A\n",
      " 16%|█▌        | 28/174 [31:11<2:39:51, 65.69s/it]\n",
      "  0%|          | 0/181851 [00:00<?, ?it/s]\u001b[A\n",
      "100%|██████████| 181851/181851 [00:00<00:00, 975785.54it/s]\u001b[A\n",
      "  0%|          | 0/181851 [00:00<?, ?it/s]\u001b[A\n",
      " 33%|███▎      | 59179/181851 [00:00<00:00, 591783.51it/s]"
     ]
    },
    {
     "name": "stdout",
     "output_type": "stream",
     "text": [
      "Sparse dummy orders shape: \n",
      "(181851, 10)\n"
     ]
    },
    {
     "name": "stderr",
     "output_type": "stream",
     "text": [
      "\u001b[A\n",
      " 65%|██████▌   | 118241/181851 [00:00<00:00, 591431.60it/s]\u001b[A\n",
      " 98%|█████████▊| 177504/181851 [00:00<00:00, 591786.13it/s]\u001b[A\n",
      "100%|██████████| 181851/181851 [00:00<00:00, 587946.11it/s]\u001b[A"
     ]
    },
    {
     "name": "stdout",
     "output_type": "stream",
     "text": [
      "Sparse dummy values shape: \n",
      "(181851, 93)\n"
     ]
    },
    {
     "name": "stderr",
     "output_type": "stream",
     "text": [
      "\n",
      "0it [00:00, ?it/s]\u001b[A\n",
      "3740it [00:00, 37393.44it/s]\u001b[A\n",
      "7493it [00:00, 37433.54it/s]\u001b[A\n",
      "11244it [00:00, 37455.33it/s]\u001b[A\n",
      "14981it [00:00, 37427.42it/s]\u001b[A\n",
      "18708it [00:00, 37378.38it/s]\u001b[A\n",
      "22433it [00:00, 37338.66it/s]\u001b[A\n",
      "26173it [00:00, 37354.92it/s]\u001b[A\n",
      "29898it [00:00, 37323.12it/s]\u001b[A\n",
      "33642it [00:00, 37357.27it/s]\u001b[A\n",
      "37452it [00:01, 37574.79it/s]\u001b[A\n",
      "41219it [00:01, 37600.65it/s]\u001b[A\n",
      "44956it [00:01, 37529.39it/s]\u001b[A\n",
      "48674it [00:01, 37422.04it/s]\u001b[A\n",
      "52413it [00:01, 37410.13it/s]\u001b[A\n",
      "56149it [00:01, 37393.69it/s]\u001b[A\n",
      "59951it [00:01, 37578.20it/s]\u001b[A\n",
      " 17%|█▋        | 29/174 [32:16<2:38:36, 65.63s/it]\n",
      "  0%|          | 0/181851 [00:00<?, ?it/s]\u001b[A\n",
      "100%|██████████| 181851/181851 [00:00<00:00, 933676.87it/s]\u001b[A\n",
      "  0%|          | 0/181851 [00:00<?, ?it/s]\u001b[A\n",
      " 32%|███▏      | 58234/181851 [00:00<00:00, 582335.00it/s]"
     ]
    },
    {
     "name": "stdout",
     "output_type": "stream",
     "text": [
      "Sparse dummy orders shape: \n",
      "(181851, 10)\n"
     ]
    },
    {
     "name": "stderr",
     "output_type": "stream",
     "text": [
      "\u001b[A\n",
      " 64%|██████▍   | 116979/181851 [00:00<00:00, 583857.38it/s]\u001b[A\n",
      " 97%|█████████▋| 176570/181851 [00:00<00:00, 587420.59it/s]\u001b[A\n",
      "100%|██████████| 181851/181851 [00:00<00:00, 587764.43it/s]\u001b[A"
     ]
    },
    {
     "name": "stdout",
     "output_type": "stream",
     "text": [
      "Sparse dummy values shape: \n",
      "(181851, 93)\n"
     ]
    },
    {
     "name": "stderr",
     "output_type": "stream",
     "text": [
      "\n",
      "0it [00:00, ?it/s]\u001b[A\n",
      "3745it [00:00, 37445.13it/s]\u001b[A\n",
      "7566it [00:00, 37669.58it/s]\u001b[A\n",
      "11345it [00:00, 37704.02it/s]\u001b[A\n",
      "15144it [00:00, 37787.63it/s]\u001b[A\n",
      "18926it [00:00, 37796.48it/s]\u001b[A\n",
      "22722it [00:00, 37845.02it/s]\u001b[A\n",
      "26535it [00:00, 37928.78it/s]\u001b[A\n",
      "30020it [00:00, 36855.41it/s]\u001b[A\n",
      "33550it [00:00, 36373.01it/s]\u001b[A\n",
      "37263it [00:01, 36594.92it/s]\u001b[A\n",
      "40993it [00:01, 36803.23it/s]\u001b[A\n",
      "44812it [00:01, 37206.89it/s]\u001b[A\n",
      "48635it [00:01, 37506.09it/s]\u001b[A\n",
      "52471it [00:01, 37757.51it/s]\u001b[A\n",
      "56224it [00:01, 37384.82it/s]\u001b[A\n",
      " 17%|█▋        | 30/174 [33:21<2:36:58, 65.40s/it]\n",
      "  0%|          | 0/181851 [00:00<?, ?it/s]\u001b[A\n",
      "100%|██████████| 181851/181851 [00:00<00:00, 1021167.20it/s]\u001b[A\n",
      "  0%|          | 0/181851 [00:00<?, ?it/s]\u001b[A\n",
      " 33%|███▎      | 60077/181851 [00:00<00:00, 600764.84it/s]\u001b[A"
     ]
    },
    {
     "name": "stdout",
     "output_type": "stream",
     "text": [
      "Sparse dummy orders shape: \n",
      "(181851, 10)\n"
     ]
    },
    {
     "name": "stderr",
     "output_type": "stream",
     "text": [
      "\n",
      " 66%|██████▌   | 120366/181851 [00:00<00:00, 601398.84it/s]\u001b[A\n",
      "100%|█████████▉| 181770/181851 [00:00<00:00, 605135.94it/s]\u001b[A\n",
      "100%|██████████| 181851/181851 [00:00<00:00, 601819.16it/s]\u001b[A"
     ]
    },
    {
     "name": "stdout",
     "output_type": "stream",
     "text": [
      "Sparse dummy values shape: \n",
      "(181851, 93)\n"
     ]
    },
    {
     "name": "stderr",
     "output_type": "stream",
     "text": [
      "\n",
      "0it [00:00, ?it/s]\u001b[A\n",
      "3641it [00:00, 36405.17it/s]\u001b[A\n",
      "7382it [00:00, 36698.91it/s]\u001b[A\n",
      "11093it [00:00, 36818.62it/s]\u001b[A\n",
      "14817it [00:00, 36943.81it/s]\u001b[A\n",
      "18541it [00:00, 37029.99it/s]\u001b[A\n",
      "22239it [00:00, 37011.47it/s]\u001b[A\n",
      "25940it [00:00, 37009.34it/s]\u001b[A\n",
      "29675it [00:00, 37110.29it/s]\u001b[A\n",
      "33372it [00:00, 37067.97it/s]\u001b[A\n",
      "37148it [00:01, 37272.17it/s]\u001b[A\n",
      "40993it [00:01, 37617.52it/s]\u001b[A\n",
      "44827it [00:01, 37828.86it/s]\u001b[A\n",
      "48602it [00:01, 37805.02it/s]\u001b[A\n",
      "52358it [00:01, 37728.15it/s]\u001b[A\n",
      "56138it [00:01, 37747.37it/s]\u001b[A\n",
      "59903it [00:01, 37715.33it/s]\u001b[A\n",
      " 18%|█▊        | 31/174 [34:26<2:35:37, 65.29s/it]\n",
      "  0%|          | 0/181851 [00:00<?, ?it/s]\u001b[A\n",
      "100%|██████████| 181851/181851 [00:00<00:00, 983292.95it/s]\u001b[A\n",
      "  0%|          | 0/181851 [00:00<?, ?it/s]\u001b[A\n",
      " 33%|███▎      | 60139/181851 [00:00<00:00, 601389.14it/s]"
     ]
    },
    {
     "name": "stdout",
     "output_type": "stream",
     "text": [
      "Sparse dummy orders shape: \n",
      "(181851, 10)\n"
     ]
    },
    {
     "name": "stderr",
     "output_type": "stream",
     "text": [
      "\u001b[A\n",
      " 66%|██████▋   | 120578/181851 [00:00<00:00, 602285.58it/s]\u001b[A\n",
      "100%|█████████▉| 181292/181851 [00:00<00:00, 603730.90it/s]\u001b[A\n",
      "100%|██████████| 181851/181851 [00:00<00:00, 600438.62it/s]\u001b[A"
     ]
    },
    {
     "name": "stdout",
     "output_type": "stream",
     "text": [
      "Sparse dummy values shape: \n",
      "(181851, 93)\n"
     ]
    },
    {
     "name": "stderr",
     "output_type": "stream",
     "text": [
      "\n",
      "0it [00:00, ?it/s]\u001b[A\n",
      "3800it [00:00, 37992.07it/s]\u001b[A\n",
      "7635it [00:00, 38096.21it/s]\u001b[A\n",
      "11444it [00:00, 38092.23it/s]\u001b[A\n",
      "15277it [00:00, 38160.41it/s]\u001b[A\n",
      "19106it [00:00, 38196.59it/s]\u001b[A\n",
      "22912it [00:00, 38153.30it/s]\u001b[A\n",
      "26750it [00:00, 38219.08it/s]\u001b[A\n",
      "30529it [00:00, 38088.50it/s]\u001b[A\n",
      "34317it [00:00, 38023.12it/s]\u001b[A\n",
      "38143it [00:01, 38093.24it/s]\u001b[A\n",
      "42010it [00:01, 38263.60it/s]\u001b[A\n",
      "45895it [00:01, 38436.06it/s]\u001b[A\n",
      "49765it [00:01, 38514.30it/s]\u001b[A\n",
      "53580it [00:01, 38361.37it/s]\u001b[A\n",
      "57398it [00:01, 38305.11it/s]\u001b[A\n",
      " 18%|█▊        | 32/174 [35:31<2:34:33, 65.31s/it]\n",
      "  0%|          | 0/181851 [00:00<?, ?it/s]\u001b[A\n",
      "100%|██████████| 181851/181851 [00:00<00:00, 1003275.74it/s]\u001b[A\n",
      "  0%|          | 0/181851 [00:00<?, ?it/s]\u001b[A\n",
      " 32%|███▏      | 58986/181851 [00:00<00:00, 589856.34it/s]"
     ]
    },
    {
     "name": "stdout",
     "output_type": "stream",
     "text": [
      "Sparse dummy orders shape: \n",
      "(181851, 10)\n"
     ]
    },
    {
     "name": "stderr",
     "output_type": "stream",
     "text": [
      "\u001b[A\n",
      " 66%|██████▌   | 119295/181851 [00:00<00:00, 593763.97it/s]\u001b[A\n",
      " 99%|█████████▉| 180039/181851 [00:00<00:00, 597800.58it/s]\u001b[A\n",
      "100%|██████████| 181851/181851 [00:00<00:00, 595895.87it/s]\u001b[A"
     ]
    },
    {
     "name": "stdout",
     "output_type": "stream",
     "text": [
      "Sparse dummy values shape: \n",
      "(181851, 93)\n"
     ]
    },
    {
     "name": "stderr",
     "output_type": "stream",
     "text": [
      "\n",
      "0it [00:00, ?it/s]\u001b[A\n",
      "3687it [00:00, 36861.07it/s]\u001b[A\n",
      "7452it [00:00, 37093.87it/s]\u001b[A\n",
      "11201it [00:00, 37210.49it/s]\u001b[A\n",
      "14947it [00:00, 37282.09it/s]\u001b[A\n",
      "18672it [00:00, 37270.95it/s]\u001b[A\n",
      "22462it [00:00, 37456.54it/s]\u001b[A\n",
      "26214it [00:00, 37474.60it/s]\u001b[A\n",
      "30038it [00:00, 37700.70it/s]\u001b[A\n",
      "33817it [00:00, 37726.19it/s]\u001b[A\n",
      "37616it [00:01, 37802.73it/s]\u001b[A\n",
      "41377it [00:01, 37744.04it/s]\u001b[A\n",
      "45156it [00:01, 37755.94it/s]\u001b[A\n",
      "48966it [00:01, 37857.49it/s]\u001b[A\n",
      "52724it [00:01, 37772.03it/s]\u001b[A\n",
      "56501it [00:01, 37770.92it/s]\u001b[A\n",
      " 19%|█▉        | 33/174 [36:36<2:33:12, 65.20s/it]\n",
      "  0%|          | 0/181851 [00:00<?, ?it/s]\u001b[A\n",
      "100%|██████████| 181851/181851 [00:00<00:00, 1005178.35it/s]\u001b[A\n",
      "  0%|          | 0/181851 [00:00<?, ?it/s]\u001b[A\n",
      " 33%|███▎      | 60380/181851 [00:00<00:00, 603793.38it/s]"
     ]
    },
    {
     "name": "stdout",
     "output_type": "stream",
     "text": [
      "Sparse dummy orders shape: \n",
      "(181851, 10)\n"
     ]
    },
    {
     "name": "stderr",
     "output_type": "stream",
     "text": [
      "\u001b[A\n",
      " 67%|██████▋   | 121382/181851 [00:00<00:00, 605647.29it/s]\u001b[A\n",
      "100%|██████████| 181851/181851 [00:00<00:00, 608841.51it/s]\u001b[A"
     ]
    },
    {
     "name": "stdout",
     "output_type": "stream",
     "text": [
      "Sparse dummy values shape: \n",
      "(181851, 93)\n"
     ]
    },
    {
     "name": "stderr",
     "output_type": "stream",
     "text": [
      "\n",
      "0it [00:00, ?it/s]\u001b[A\n",
      "3665it [00:00, 36642.17it/s]\u001b[A\n",
      "7329it [00:00, 36641.27it/s]\u001b[A\n",
      "11051it [00:00, 36810.84it/s]\u001b[A\n",
      "14773it [00:00, 36931.44it/s]\u001b[A\n",
      "18515it [00:00, 37074.29it/s]\u001b[A\n",
      "22205it [00:00, 37017.93it/s]\u001b[A\n",
      "25880it [00:00, 36936.25it/s]\u001b[A\n",
      "29597it [00:00, 37005.68it/s]\u001b[A\n",
      "33316it [00:00, 37059.95it/s]\u001b[A\n",
      "37120it [00:01, 37348.50it/s]\u001b[A\n",
      "40900it [00:01, 37480.19it/s]\u001b[A\n",
      "44692it [00:01, 37609.50it/s]\u001b[A\n",
      "48494it [00:01, 37729.64it/s]\u001b[A\n",
      "52263it [00:01, 37717.15it/s]\u001b[A\n",
      "56065it [00:01, 37806.30it/s]\u001b[A\n",
      "59829it [00:01, 37730.14it/s]\u001b[A\n",
      " 20%|█▉        | 34/174 [37:41<2:31:54, 65.10s/it]\n",
      "  0%|          | 0/181851 [00:00<?, ?it/s]\u001b[A\n",
      "100%|██████████| 181851/181851 [00:00<00:00, 1003170.18it/s]\u001b[A\n",
      "  0%|          | 0/181851 [00:00<?, ?it/s]\u001b[A\n",
      " 32%|███▏      | 57970/181851 [00:00<00:00, 579692.26it/s]"
     ]
    },
    {
     "name": "stdout",
     "output_type": "stream",
     "text": [
      "Sparse dummy orders shape: \n",
      "(181851, 11)\n"
     ]
    },
    {
     "name": "stderr",
     "output_type": "stream",
     "text": [
      "\u001b[A\n",
      " 64%|██████▍   | 117088/181851 [00:00<00:00, 583089.13it/s]\u001b[A\n",
      " 97%|█████████▋| 176270/181851 [00:00<00:00, 585680.56it/s]\u001b[A\n",
      "100%|██████████| 181851/181851 [00:00<00:00, 584994.74it/s]\u001b[A"
     ]
    },
    {
     "name": "stdout",
     "output_type": "stream",
     "text": [
      "Sparse dummy values shape: \n",
      "(181851, 93)\n"
     ]
    },
    {
     "name": "stderr",
     "output_type": "stream",
     "text": [
      "\n",
      "0it [00:00, ?it/s]\u001b[A\n",
      "3755it [00:00, 37542.70it/s]\u001b[A\n",
      "7482it [00:00, 37459.16it/s]\u001b[A\n",
      "11213it [00:00, 37413.71it/s]\u001b[A\n",
      "14957it [00:00, 37420.16it/s]\u001b[A\n",
      "18714it [00:00, 37462.72it/s]\u001b[A\n",
      "22454it [00:00, 37443.36it/s]\u001b[A\n",
      "26181it [00:00, 37389.34it/s]\u001b[A\n",
      "29916it [00:00, 37376.95it/s]\u001b[A\n",
      "33710it [00:00, 37543.88it/s]\u001b[A\n",
      "37454it [00:01, 37509.89it/s]\u001b[A\n",
      "41242it [00:01, 37619.27it/s]\u001b[A\n",
      "44965it [00:01, 37499.27it/s]\u001b[A\n",
      "48686it [00:01, 37411.09it/s]\u001b[A\n",
      "52394it [00:01, 37310.61it/s]\u001b[A\n",
      "56112it [00:01, 37270.81it/s]\u001b[A\n",
      "59915it [00:01, 37495.14it/s]\u001b[A\n",
      " 20%|██        | 35/174 [38:47<2:31:08, 65.24s/it]\n",
      "  0%|          | 0/181851 [00:00<?, ?it/s]\u001b[A\n",
      "100%|██████████| 181851/181851 [00:00<00:00, 999273.38it/s]\u001b[A\n",
      "  0%|          | 0/181851 [00:00<?, ?it/s]\u001b[A\n",
      " 32%|███▏      | 58950/181851 [00:00<00:00, 589499.16it/s]"
     ]
    },
    {
     "name": "stdout",
     "output_type": "stream",
     "text": [
      "Sparse dummy orders shape: \n",
      "(181851, 11)\n"
     ]
    },
    {
     "name": "stderr",
     "output_type": "stream",
     "text": [
      "\u001b[A\n",
      " 65%|██████▍   | 118073/181851 [00:00<00:00, 590014.99it/s]\u001b[A\n",
      " 98%|█████████▊| 177373/181851 [00:00<00:00, 590905.81it/s]\u001b[A\n",
      "100%|██████████| 181851/181851 [00:00<00:00, 588806.20it/s]\u001b[A"
     ]
    },
    {
     "name": "stdout",
     "output_type": "stream",
     "text": [
      "Sparse dummy values shape: \n",
      "(181851, 93)\n"
     ]
    },
    {
     "name": "stderr",
     "output_type": "stream",
     "text": [
      "\n",
      "0it [00:00, ?it/s]\u001b[A\n",
      "3659it [00:00, 36585.94it/s]\u001b[A\n",
      "7438it [00:00, 36936.24it/s]\u001b[A\n",
      "11209it [00:00, 37163.82it/s]\u001b[A\n",
      "14953it [00:00, 37244.82it/s]\u001b[A\n",
      "18715it [00:00, 37355.91it/s]\u001b[A\n",
      "22448it [00:00, 37346.81it/s]\u001b[A\n",
      "26162it [00:00, 37282.93it/s]\u001b[A\n",
      "29714it [00:00, 36734.05it/s]\u001b[A\n",
      "33499it [00:00, 37059.72it/s]\u001b[A\n",
      "37262it [00:01, 37227.54it/s]\u001b[A\n",
      "41055it [00:01, 37435.04it/s]\u001b[A\n",
      "44865it [00:01, 37631.19it/s]\u001b[A\n",
      "48661it [00:01, 37727.58it/s]\u001b[A\n",
      "52400it [00:01, 37548.76it/s]\u001b[A\n",
      "56131it [00:01, 37442.39it/s]\u001b[A\n",
      "59966it [00:01, 37709.35it/s]\u001b[A\n",
      " 21%|██        | 36/174 [39:52<2:30:00, 65.22s/it]\n",
      "  0%|          | 0/181851 [00:00<?, ?it/s]\u001b[A\n",
      "100%|██████████| 181851/181851 [00:00<00:00, 987959.57it/s]\u001b[A\n",
      "  0%|          | 0/181851 [00:00<?, ?it/s]\u001b[A\n",
      " 33%|███▎      | 59749/181851 [00:00<00:00, 597484.87it/s]\u001b[A"
     ]
    },
    {
     "name": "stdout",
     "output_type": "stream",
     "text": [
      "Sparse dummy orders shape: \n",
      "(181851, 12)\n"
     ]
    },
    {
     "name": "stderr",
     "output_type": "stream",
     "text": [
      "\n",
      " 66%|██████▌   | 120212/181851 [00:00<00:00, 599605.68it/s]\u001b[A\n",
      "100%|█████████▉| 181022/181851 [00:00<00:00, 602127.42it/s]\u001b[A\n",
      "100%|██████████| 181851/181851 [00:00<00:00, 598294.22it/s]\u001b[A"
     ]
    },
    {
     "name": "stdout",
     "output_type": "stream",
     "text": [
      "Sparse dummy values shape: \n",
      "(181851, 93)\n"
     ]
    },
    {
     "name": "stderr",
     "output_type": "stream",
     "text": [
      "\n",
      "0it [00:00, ?it/s]\u001b[A\n",
      "3761it [00:00, 37605.28it/s]\u001b[A\n",
      "7545it [00:00, 37674.25it/s]\u001b[A\n",
      "11234it [00:00, 37432.87it/s]\u001b[A\n",
      "15010it [00:00, 37530.24it/s]\u001b[A\n",
      "18767it [00:00, 37541.01it/s]\u001b[A\n",
      "22555it [00:00, 37637.91it/s]\u001b[A\n",
      "26331it [00:00, 37673.44it/s]\u001b[A\n",
      "30100it [00:00, 37675.51it/s]\u001b[A\n",
      "33833it [00:00, 37570.58it/s]\u001b[A\n",
      "37567it [00:01, 37499.74it/s]\u001b[A\n",
      "41309it [00:01, 37473.94it/s]\u001b[A\n",
      "44983it [00:01, 36796.61it/s]\u001b[A\n",
      "48854it [00:01, 37348.34it/s]\u001b[A\n",
      "52711it [00:01, 37703.64it/s]\u001b[A\n",
      "56505it [00:01, 37773.17it/s]\u001b[A\n",
      " 21%|██▏       | 37/174 [40:58<2:29:09, 65.33s/it]\n",
      "  0%|          | 0/181851 [00:00<?, ?it/s]\u001b[A\n",
      "100%|██████████| 181851/181851 [00:00<00:00, 962799.43it/s]\u001b[A\n",
      "  0%|          | 0/181851 [00:00<?, ?it/s]\u001b[A\n",
      " 32%|███▏      | 58163/181851 [00:00<00:00, 581629.17it/s]"
     ]
    },
    {
     "name": "stdout",
     "output_type": "stream",
     "text": [
      "Sparse dummy orders shape: \n",
      "(181851, 12)\n"
     ]
    },
    {
     "name": "stderr",
     "output_type": "stream",
     "text": [
      "\u001b[A\n",
      " 64%|██████▍   | 116720/181851 [00:00<00:00, 582803.93it/s]\u001b[A\n",
      " 97%|█████████▋| 176230/181851 [00:00<00:00, 586437.99it/s]\u001b[A\n",
      "100%|██████████| 181851/181851 [00:00<00:00, 584211.07it/s]\u001b[A"
     ]
    },
    {
     "name": "stdout",
     "output_type": "stream",
     "text": [
      "Sparse dummy values shape: \n",
      "(181851, 93)\n"
     ]
    },
    {
     "name": "stderr",
     "output_type": "stream",
     "text": [
      "\n",
      "0it [00:00, ?it/s]\u001b[A\n",
      "3756it [00:00, 37554.66it/s]\u001b[A\n",
      "7539it [00:00, 37635.06it/s]\u001b[A\n",
      "11322it [00:00, 37693.05it/s]\u001b[A\n",
      "15091it [00:00, 37691.60it/s]\u001b[A\n",
      "18808it [00:00, 37531.79it/s]\u001b[A\n",
      "22642it [00:00, 37769.62it/s]\u001b[A\n",
      "26373it [00:00, 37628.61it/s]\u001b[A\n",
      "30186it [00:00, 37776.68it/s]\u001b[A\n",
      "33983it [00:00, 37832.94it/s]\u001b[A\n",
      "37616it [00:01, 36783.92it/s]\u001b[A\n",
      "41195it [00:01, 36233.21it/s]\u001b[A\n",
      "44751it [00:01, 35875.52it/s]\u001b[A\n",
      "48292it [00:01, 35314.18it/s]\u001b[A\n",
      "52020it [00:01, 35879.82it/s]\u001b[A\n",
      "55753it [00:01, 36300.99it/s]\u001b[A\n",
      "59464it [00:01, 36538.61it/s]\u001b[A\n",
      " 22%|██▏       | 38/174 [42:03<2:28:13, 65.39s/it]\n",
      "  0%|          | 0/181851 [00:00<?, ?it/s]\u001b[A\n",
      "100%|██████████| 181851/181851 [00:00<00:00, 996214.10it/s]\u001b[A\n",
      "  0%|          | 0/181851 [00:00<?, ?it/s]\u001b[A\n",
      " 32%|███▏      | 58682/181851 [00:00<00:00, 586819.16it/s]"
     ]
    },
    {
     "name": "stdout",
     "output_type": "stream",
     "text": [
      "Sparse dummy orders shape: \n",
      "(181851, 12)\n"
     ]
    },
    {
     "name": "stderr",
     "output_type": "stream",
     "text": [
      "\u001b[A\n",
      " 65%|██████▍   | 117705/181851 [00:00<00:00, 587835.92it/s]\u001b[A\n",
      " 97%|█████████▋| 177021/181851 [00:00<00:00, 589420.32it/s]\u001b[A\n",
      "100%|██████████| 181851/181851 [00:00<00:00, 586223.99it/s]\u001b[A"
     ]
    },
    {
     "name": "stdout",
     "output_type": "stream",
     "text": [
      "Sparse dummy values shape: \n",
      "(181851, 93)\n"
     ]
    },
    {
     "name": "stderr",
     "output_type": "stream",
     "text": [
      "\n",
      "0it [00:00, ?it/s]\u001b[A\n",
      "3634it [00:00, 36338.82it/s]\u001b[A\n",
      "7316it [00:00, 36480.33it/s]\u001b[A\n",
      "11003it [00:00, 36595.55it/s]\u001b[A\n",
      "14671it [00:00, 36620.64it/s]\u001b[A\n",
      "18405it [00:00, 36831.12it/s]\u001b[A\n",
      "22096it [00:00, 36852.57it/s]\u001b[A\n",
      "25779it [00:00, 36845.15it/s]\u001b[A\n",
      "29504it [00:00, 36965.53it/s]\u001b[A\n",
      "33196it [00:00, 36951.13it/s]\u001b[A\n",
      "36890it [00:01, 36947.11it/s]\u001b[A\n",
      "40552it [00:01, 36847.37it/s]\u001b[A\n",
      "44246it [00:01, 36874.36it/s]\u001b[A\n",
      "47937it [00:01, 36884.97it/s]\u001b[A\n",
      "51723it [00:01, 37171.40it/s]\u001b[A\n",
      "55510it [00:01, 37378.11it/s]\u001b[A\n",
      "59327it [00:01, 37610.09it/s]\u001b[A\n",
      " 22%|██▏       | 39/174 [43:10<2:27:59, 65.77s/it]\n",
      "  0%|          | 0/181851 [00:00<?, ?it/s]\u001b[A\n",
      "100%|██████████| 181851/181851 [00:00<00:00, 1002131.58it/s]\u001b[A\n",
      "  0%|          | 0/181851 [00:00<?, ?it/s]\u001b[A\n",
      " 33%|███▎      | 59241/181851 [00:00<00:00, 592406.33it/s]"
     ]
    },
    {
     "name": "stdout",
     "output_type": "stream",
     "text": [
      "Sparse dummy orders shape: \n",
      "(181851, 12)\n"
     ]
    },
    {
     "name": "stderr",
     "output_type": "stream",
     "text": [
      "\u001b[A\n",
      " 65%|██████▌   | 118656/181851 [00:00<00:00, 592925.56it/s]\u001b[A\n",
      " 98%|█████████▊| 178111/181851 [00:00<00:00, 593410.43it/s]\u001b[A\n",
      "100%|██████████| 181851/181851 [00:00<00:00, 591442.45it/s]\u001b[A"
     ]
    },
    {
     "name": "stdout",
     "output_type": "stream",
     "text": [
      "Sparse dummy values shape: \n",
      "(181851, 93)\n"
     ]
    },
    {
     "name": "stderr",
     "output_type": "stream",
     "text": [
      "\n",
      "0it [00:00, ?it/s]\u001b[A\n",
      "3757it [00:00, 37568.96it/s]\u001b[A\n",
      "7583it [00:00, 37773.51it/s]\u001b[A\n",
      "11404it [00:00, 37901.46it/s]\u001b[A\n",
      "15243it [00:00, 38042.86it/s]\u001b[A\n",
      "19046it [00:00, 38037.06it/s]\u001b[A\n",
      "22868it [00:00, 38089.16it/s]\u001b[A\n",
      "26731it [00:00, 38248.01it/s]\u001b[A\n",
      "30539it [00:00, 38196.42it/s]\u001b[A\n",
      "34365it [00:00, 38215.27it/s]\u001b[A\n",
      "38210it [00:01, 38283.68it/s]\u001b[A\n",
      "42052it [00:01, 38322.62it/s]\u001b[A\n",
      "45877it [00:01, 38298.68it/s]\u001b[A\n",
      "49714it [00:01, 38318.80it/s]\u001b[A\n",
      "53588it [00:01, 38441.37it/s]\u001b[A\n",
      "57407it [00:01, 38284.80it/s]\u001b[A\n",
      " 23%|██▎       | 40/174 [44:16<2:27:17, 65.95s/it]\n",
      "  0%|          | 0/181851 [00:00<?, ?it/s]\u001b[A\n",
      "100%|██████████| 181851/181851 [00:00<00:00, 1022891.36it/s]\u001b[A\n",
      "  0%|          | 0/181851 [00:00<?, ?it/s]\u001b[A\n",
      " 33%|███▎      | 59903/181851 [00:00<00:00, 599024.86it/s]"
     ]
    },
    {
     "name": "stdout",
     "output_type": "stream",
     "text": [
      "Sparse dummy orders shape: \n",
      "(181851, 12)\n"
     ]
    },
    {
     "name": "stderr",
     "output_type": "stream",
     "text": [
      "\u001b[A\n",
      " 66%|██████▌   | 120354/181851 [00:00<00:00, 600658.38it/s]\u001b[A\n",
      "100%|██████████| 181851/181851 [00:00<00:00, 603427.49it/s]\u001b[A"
     ]
    },
    {
     "name": "stdout",
     "output_type": "stream",
     "text": [
      "Sparse dummy values shape: \n",
      "(181851, 93)\n"
     ]
    },
    {
     "name": "stderr",
     "output_type": "stream",
     "text": [
      "\n",
      "0it [00:00, ?it/s]\u001b[A\n",
      "3709it [00:00, 37082.34it/s]\u001b[A\n",
      "7538it [00:00, 37436.13it/s]\u001b[A\n",
      "11354it [00:00, 37649.82it/s]\u001b[A\n",
      "15155it [00:00, 37756.84it/s]\u001b[A\n",
      "18961it [00:00, 37846.62it/s]\u001b[A\n",
      "22757it [00:00, 37880.46it/s]\u001b[A\n",
      "26566it [00:00, 37942.82it/s]\u001b[A\n",
      "30446it [00:00, 38194.18it/s]\u001b[A\n",
      "34223it [00:00, 38065.86it/s]\u001b[A\n",
      "38050it [00:01, 38126.80it/s]\u001b[A\n",
      "41848it [00:01, 38081.04it/s]\u001b[A\n",
      "45654it [00:01, 38071.80it/s]\u001b[A\n",
      "49428it [00:01, 37969.83it/s]\u001b[A\n",
      "53275it [00:01, 38116.44it/s]\u001b[A\n",
      "57103it [00:01, 38163.30it/s]\u001b[A\n",
      " 24%|██▎       | 41/174 [45:21<2:25:43, 65.74s/it]\n",
      "  0%|          | 0/181851 [00:00<?, ?it/s]\u001b[A\n",
      "100%|██████████| 181851/181851 [00:00<00:00, 1004359.04it/s]\u001b[A\n",
      "  0%|          | 0/181851 [00:00<?, ?it/s]\u001b[A\n",
      " 33%|███▎      | 59774/181851 [00:00<00:00, 597732.02it/s]"
     ]
    },
    {
     "name": "stdout",
     "output_type": "stream",
     "text": [
      "Sparse dummy orders shape: \n",
      "(181851, 12)\n"
     ]
    },
    {
     "name": "stderr",
     "output_type": "stream",
     "text": [
      "\u001b[A\n",
      " 66%|██████▌   | 119296/181851 [00:00<00:00, 596974.65it/s]\u001b[A\n",
      " 99%|█████████▊| 179379/181851 [00:00<00:00, 598124.94it/s]\u001b[A\n",
      "100%|██████████| 181851/181851 [00:00<00:00, 594659.16it/s]\u001b[A"
     ]
    },
    {
     "name": "stdout",
     "output_type": "stream",
     "text": [
      "Sparse dummy values shape: \n",
      "(181851, 93)\n"
     ]
    },
    {
     "name": "stderr",
     "output_type": "stream",
     "text": [
      "\n",
      "0it [00:00, ?it/s]\u001b[A\n",
      "3742it [00:00, 37416.11it/s]\u001b[A\n",
      "7525it [00:00, 37538.27it/s]\u001b[A\n",
      "11317it [00:00, 37650.89it/s]\u001b[A\n",
      "14790it [00:00, 36723.01it/s]\u001b[A\n",
      "18418it [00:00, 36586.24it/s]\u001b[A\n",
      "22088it [00:00, 36619.78it/s]\u001b[A\n",
      "25760it [00:00, 36649.23it/s]\u001b[A\n",
      "29435it [00:00, 36678.39it/s]\u001b[A\n",
      "33212it [00:00, 36998.73it/s]\u001b[A\n",
      "36997it [00:01, 37247.98it/s]\u001b[A\n",
      "40784it [00:01, 37431.46it/s]\u001b[A\n",
      "44557it [00:01, 37517.39it/s]\u001b[A\n",
      "48363it [00:01, 37675.91it/s]\u001b[A\n",
      "52194it [00:01, 37861.12it/s]\u001b[A\n",
      "55986it [00:01, 37874.61it/s]\u001b[A\n",
      "59763it [00:01, 37841.20it/s]\u001b[A\n",
      " 24%|██▍       | 42/174 [46:27<2:24:25, 65.65s/it]\n",
      "  0%|          | 0/181851 [00:00<?, ?it/s]\u001b[A\n",
      "100%|██████████| 181851/181851 [00:00<00:00, 961700.81it/s]\u001b[A\n",
      "  0%|          | 0/181851 [00:00<?, ?it/s]\u001b[A\n",
      " 34%|███▍      | 62088/181851 [00:00<00:00, 620864.31it/s]"
     ]
    },
    {
     "name": "stdout",
     "output_type": "stream",
     "text": [
      "Sparse dummy orders shape: \n",
      "(181851, 23)\n"
     ]
    },
    {
     "name": "stderr",
     "output_type": "stream",
     "text": [
      "\u001b[A\n",
      " 68%|██████▊   | 123963/181851 [00:00<00:00, 620228.23it/s]\u001b[A\n",
      "100%|██████████| 181851/181851 [00:00<00:00, 622110.84it/s]\u001b[A"
     ]
    },
    {
     "name": "stdout",
     "output_type": "stream",
     "text": [
      "Sparse dummy values shape: \n",
      "(181851, 93)\n"
     ]
    },
    {
     "name": "stderr",
     "output_type": "stream",
     "text": [
      "\n",
      "0it [00:00, ?it/s]\u001b[A\n",
      "3647it [00:00, 36465.51it/s]\u001b[A\n",
      "7393it [00:00, 36756.35it/s]\u001b[A\n",
      "11139it [00:00, 36964.53it/s]\u001b[A\n",
      "14826it [00:00, 36934.33it/s]\u001b[A\n",
      "18531it [00:00, 36967.96it/s]\u001b[A\n",
      "22196it [00:00, 36870.52it/s]\u001b[A\n",
      "25862it [00:00, 36806.41it/s]\u001b[A\n",
      "29553it [00:00, 36836.02it/s]\u001b[A\n",
      "33179it [00:00, 36660.33it/s]\u001b[A\n",
      "36944it [00:01, 36949.55it/s]\u001b[A\n",
      "40640it [00:01, 36950.03it/s]\u001b[A\n",
      "44358it [00:01, 37016.04it/s]\u001b[A\n",
      "48042it [00:01, 36960.33it/s]\u001b[A\n",
      "51801it [00:01, 37146.47it/s]\u001b[A\n",
      "55492it [00:01, 37032.60it/s]\u001b[A\n",
      "59206it [00:01, 37064.29it/s]\u001b[A\n",
      " 25%|██▍       | 43/174 [47:36<2:25:33, 66.66s/it]\n",
      "  0%|          | 0/181851 [00:00<?, ?it/s]\u001b[A\n",
      "100%|██████████| 181851/181851 [00:00<00:00, 908532.39it/s]\u001b[A\n",
      "  0%|          | 0/181851 [00:00<?, ?it/s]\u001b[A\n",
      " 33%|███▎      | 59385/181851 [00:00<00:00, 593842.07it/s]"
     ]
    },
    {
     "name": "stdout",
     "output_type": "stream",
     "text": [
      "Sparse dummy orders shape: \n",
      "(181851, 23)\n"
     ]
    },
    {
     "name": "stderr",
     "output_type": "stream",
     "text": [
      "\u001b[A\n",
      " 65%|██████▌   | 118854/181851 [00:00<00:00, 594095.94it/s]\u001b[A\n",
      " 98%|█████████▊| 178572/181851 [00:00<00:00, 595017.55it/s]\u001b[A\n",
      "100%|██████████| 181851/181851 [00:00<00:00, 592323.84it/s]\u001b[A"
     ]
    },
    {
     "name": "stdout",
     "output_type": "stream",
     "text": [
      "Sparse dummy values shape: \n",
      "(181851, 93)\n"
     ]
    },
    {
     "name": "stderr",
     "output_type": "stream",
     "text": [
      "\n",
      "0it [00:00, ?it/s]\u001b[A\n",
      "3670it [00:00, 36692.77it/s]\u001b[A\n",
      "7417it [00:00, 36922.18it/s]\u001b[A\n",
      "11180it [00:00, 37130.65it/s]\u001b[A\n",
      "14942it [00:00, 37274.86it/s]\u001b[A\n",
      "18663it [00:00, 37253.39it/s]\u001b[A\n",
      "22419it [00:00, 37344.67it/s]\u001b[A\n",
      "26225it [00:00, 37556.25it/s]\u001b[A\n",
      "29972it [00:00, 37528.44it/s]\u001b[A\n",
      "33788it [00:00, 37713.39it/s]\u001b[A\n",
      "37567it [00:01, 37736.16it/s]\u001b[A\n",
      "41407it [00:01, 37932.71it/s]\u001b[A\n",
      "45174it [00:01, 37852.36it/s]\u001b[A\n",
      "48954it [00:01, 37834.78it/s]\u001b[A\n",
      "52703it [00:01, 37715.51it/s]\u001b[A\n",
      "56466it [00:01, 37687.86it/s]\u001b[A\n",
      " 25%|██▌       | 44/174 [48:45<2:26:23, 67.56s/it]\n",
      "  0%|          | 0/181851 [00:00<?, ?it/s]\u001b[A\n",
      "100%|██████████| 181851/181851 [00:00<00:00, 924504.47it/s]\u001b[A\n",
      "  0%|          | 0/181851 [00:00<?, ?it/s]\u001b[A\n",
      " 32%|███▏      | 58765/181851 [00:00<00:00, 587649.16it/s]"
     ]
    },
    {
     "name": "stdout",
     "output_type": "stream",
     "text": [
      "Sparse dummy orders shape: \n",
      "(181851, 23)\n"
     ]
    },
    {
     "name": "stderr",
     "output_type": "stream",
     "text": [
      "\u001b[A\n",
      " 65%|██████▍   | 117689/181851 [00:00<00:00, 588123.16it/s]\u001b[A\n",
      " 97%|█████████▋| 177110/181851 [00:00<00:00, 589935.41it/s]\u001b[A\n",
      "100%|██████████| 181851/181851 [00:00<00:00, 587854.13it/s]\u001b[A"
     ]
    },
    {
     "name": "stdout",
     "output_type": "stream",
     "text": [
      "Sparse dummy values shape: \n",
      "(181851, 93)\n"
     ]
    },
    {
     "name": "stderr",
     "output_type": "stream",
     "text": [
      "\n",
      "0it [00:00, ?it/s]\u001b[A\n",
      "3758it [00:00, 37566.24it/s]\u001b[A\n",
      "7611it [00:00, 37850.07it/s]\u001b[A\n",
      "11433it [00:00, 37958.31it/s]\u001b[A\n",
      "15242it [00:00, 37995.43it/s]\u001b[A\n",
      "19049it [00:00, 38015.09it/s]\u001b[A\n",
      "22829it [00:00, 37949.12it/s]\u001b[A\n",
      "26638it [00:00, 37988.98it/s]\u001b[A\n",
      "30463it [00:00, 38065.22it/s]\u001b[A\n",
      "34278it [00:00, 38088.69it/s]\u001b[A\n",
      "38175it [00:01, 38346.88it/s]\u001b[A\n",
      "42006it [00:01, 38334.59it/s]\u001b[A\n",
      "45844it [00:01, 38346.24it/s]\u001b[A\n",
      "49643it [00:01, 38237.14it/s]\u001b[A\n",
      "53455it [00:01, 38201.82it/s]\u001b[A\n",
      "57252it [00:01, 38130.48it/s]\u001b[A\n",
      " 26%|██▌       | 45/174 [49:54<2:26:07, 67.97s/it]\n",
      "  0%|          | 0/181851 [00:00<?, ?it/s]\u001b[A\n",
      "100%|██████████| 181851/181851 [00:00<00:00, 946757.80it/s]\u001b[A\n",
      "  0%|          | 0/181851 [00:00<?, ?it/s]\u001b[A\n",
      " 33%|███▎      | 60059/181851 [00:00<00:00, 600584.85it/s]"
     ]
    },
    {
     "name": "stdout",
     "output_type": "stream",
     "text": [
      "Sparse dummy orders shape: \n",
      "(181851, 23)\n"
     ]
    },
    {
     "name": "stderr",
     "output_type": "stream",
     "text": [
      "\u001b[A\n",
      " 66%|██████▌   | 119925/181851 [00:00<00:00, 600005.40it/s]\u001b[A\n",
      " 99%|█████████▉| 180382/181851 [00:00<00:00, 601366.42it/s]\u001b[A\n",
      "100%|██████████| 181851/181851 [00:00<00:00, 597161.12it/s]\u001b[A"
     ]
    },
    {
     "name": "stdout",
     "output_type": "stream",
     "text": [
      "Sparse dummy values shape: \n",
      "(181851, 93)\n"
     ]
    },
    {
     "name": "stderr",
     "output_type": "stream",
     "text": [
      "\n",
      "0it [00:00, ?it/s]\u001b[A\n",
      "3698it [00:00, 36972.81it/s]\u001b[A\n",
      "7502it [00:00, 37285.46it/s]\u001b[A\n",
      "11258it [00:00, 37365.15it/s]\u001b[A\n",
      "15059it [00:00, 37555.30it/s]\u001b[A\n",
      "18782it [00:00, 37454.54it/s]\u001b[A\n",
      "22562it [00:00, 37556.53it/s]\u001b[A\n",
      "26289it [00:00, 37467.86it/s]\u001b[A\n",
      "30065it [00:00, 37553.62it/s]\u001b[A\n",
      "33806it [00:00, 37509.41it/s]\u001b[A\n",
      "37536it [00:01, 37444.71it/s]\u001b[A\n",
      "41225it [00:01, 37275.22it/s]\u001b[A\n",
      "44970it [00:01, 37327.01it/s]\u001b[A\n",
      "48709it [00:01, 37344.14it/s]\u001b[A\n",
      "52548it [00:01, 37651.05it/s]\u001b[A\n",
      "56336it [00:01, 37716.99it/s]\u001b[A\n",
      " 26%|██▋       | 46/174 [51:04<2:25:52, 68.38s/it]\n",
      "  0%|          | 0/181851 [00:00<?, ?it/s]\u001b[A\n",
      "100%|██████████| 181851/181851 [00:00<00:00, 676310.01it/s]\u001b[A\n",
      "  0%|          | 0/181851 [00:00<?, ?it/s]\u001b[A\n",
      " 32%|███▏      | 58663/181851 [00:00<00:00, 586626.36it/s]"
     ]
    },
    {
     "name": "stdout",
     "output_type": "stream",
     "text": [
      "Sparse dummy orders shape: \n",
      "(181851, 44)\n"
     ]
    },
    {
     "name": "stderr",
     "output_type": "stream",
     "text": [
      "\u001b[A\n",
      " 65%|██████▍   | 117906/181851 [00:00<00:00, 588353.14it/s]\u001b[A\n",
      " 98%|█████████▊| 177908/181851 [00:00<00:00, 591804.19it/s]\u001b[A\n",
      "100%|██████████| 181851/181851 [00:00<00:00, 590042.41it/s]\u001b[A"
     ]
    },
    {
     "name": "stdout",
     "output_type": "stream",
     "text": [
      "Sparse dummy values shape: \n",
      "(181851, 93)\n"
     ]
    },
    {
     "name": "stderr",
     "output_type": "stream",
     "text": [
      "\n",
      "0it [00:00, ?it/s]\u001b[A\n",
      "3699it [00:00, 36986.51it/s]\u001b[A\n",
      "7420it [00:00, 37052.89it/s]\u001b[A\n",
      "11156it [00:00, 37142.15it/s]\u001b[A\n",
      "14834it [00:00, 37030.48it/s]\u001b[A\n",
      "18537it [00:00, 37029.13it/s]\u001b[A\n",
      "22262it [00:00, 37091.77it/s]\u001b[A\n",
      "25677it [00:00, 36154.91it/s]\u001b[A\n",
      "29153it [00:00, 35724.44it/s]\u001b[A\n",
      "32614it [00:00, 35380.09it/s]\u001b[A\n",
      "36364it [00:01, 35990.08it/s]\u001b[A\n",
      "39885it [00:01, 35745.89it/s]\u001b[A\n",
      "43391it [00:01, 35153.13it/s]\u001b[A\n",
      "46861it [00:01, 34665.83it/s]\u001b[A\n",
      "50297it [00:01, 34505.28it/s]\u001b[A\n",
      "54089it [00:01, 35462.17it/s]\u001b[A\n",
      "57936it [00:01, 36313.37it/s]\u001b[A\n",
      " 27%|██▋       | 47/174 [52:23<2:31:56, 71.78s/it]\n",
      "  0%|          | 0/181851 [00:00<?, ?it/s]\u001b[A\n",
      "100%|██████████| 181851/181851 [00:00<00:00, 677853.49it/s]\u001b[A\n",
      "  0%|          | 0/181851 [00:00<?, ?it/s]\u001b[A\n",
      " 32%|███▏      | 59091/181851 [00:00<00:00, 590909.15it/s]"
     ]
    },
    {
     "name": "stdout",
     "output_type": "stream",
     "text": [
      "Sparse dummy orders shape: \n",
      "(181851, 54)\n"
     ]
    },
    {
     "name": "stderr",
     "output_type": "stream",
     "text": [
      "\u001b[A\n",
      " 65%|██████▌   | 118220/181851 [00:00<00:00, 591020.57it/s]\u001b[A\n",
      " 98%|█████████▊| 178063/181851 [00:00<00:00, 593223.81it/s]\u001b[A\n",
      "100%|██████████| 181851/181851 [00:00<00:00, 590905.44it/s]\u001b[A"
     ]
    },
    {
     "name": "stdout",
     "output_type": "stream",
     "text": [
      "Sparse dummy values shape: \n",
      "(181851, 93)\n"
     ]
    },
    {
     "name": "stderr",
     "output_type": "stream",
     "text": [
      "\n",
      "0it [00:00, ?it/s]\u001b[A\n",
      "3749it [00:00, 37486.19it/s]\u001b[A\n",
      "7532it [00:00, 37586.04it/s]\u001b[A\n",
      "11273it [00:00, 37530.70it/s]\u001b[A\n",
      "15011it [00:00, 37483.06it/s]\u001b[A\n",
      "18755it [00:00, 37468.45it/s]\u001b[A\n",
      "22492it [00:00, 37438.74it/s]\u001b[A\n",
      "26207it [00:00, 37350.34it/s]\u001b[A\n",
      "29945it [00:00, 37358.07it/s]\u001b[A\n",
      "33667it [00:00, 37314.87it/s]\u001b[A\n",
      "37464it [00:01, 37508.55it/s]\u001b[A\n",
      "41244it [00:01, 37594.54it/s]\u001b[A\n",
      "45014it [00:01, 37625.43it/s]\u001b[A\n",
      "48753it [00:01, 37553.58it/s]\u001b[A\n",
      "52479it [00:01, 37463.20it/s]\u001b[A\n",
      "56215it [00:01, 37431.52it/s]\u001b[A\n",
      "59961it [00:01, 37439.21it/s]\u001b[A\n",
      " 28%|██▊       | 48/174 [53:44<2:36:16, 74.42s/it]\n",
      "  0%|          | 0/181851 [00:00<?, ?it/s]\u001b[A\n",
      "100%|██████████| 181851/181851 [00:00<00:00, 658541.90it/s]\u001b[A\n",
      "  0%|          | 0/181851 [00:00<?, ?it/s]\u001b[A\n",
      " 33%|███▎      | 59729/181851 [00:00<00:00, 597284.87it/s]"
     ]
    },
    {
     "name": "stdout",
     "output_type": "stream",
     "text": [
      "Sparse dummy orders shape: \n",
      "(181851, 67)\n"
     ]
    },
    {
     "name": "stderr",
     "output_type": "stream",
     "text": [
      "\u001b[A\n",
      " 66%|██████▌   | 119397/181851 [00:00<00:00, 597102.60it/s]\u001b[A\n",
      " 98%|█████████▊| 178998/181851 [00:00<00:00, 596772.43it/s]\u001b[A\n",
      "100%|██████████| 181851/181851 [00:00<00:00, 591431.90it/s]\u001b[A"
     ]
    },
    {
     "name": "stdout",
     "output_type": "stream",
     "text": [
      "Sparse dummy values shape: \n",
      "(181851, 93)\n"
     ]
    },
    {
     "name": "stderr",
     "output_type": "stream",
     "text": [
      "\n",
      "0it [00:00, ?it/s]\u001b[A\n",
      "3798it [00:00, 37973.88it/s]\u001b[A\n",
      "7608it [00:00, 38011.12it/s]\u001b[A\n",
      "11428it [00:00, 38065.81it/s]\u001b[A\n",
      "15255it [00:00, 38126.25it/s]\u001b[A\n",
      "19066it [00:00, 38119.01it/s]\u001b[A\n",
      "22871it [00:00, 38096.06it/s]\u001b[A\n",
      "26671it [00:00, 38064.61it/s]\u001b[A\n",
      "30474it [00:00, 38053.74it/s]\u001b[A\n",
      "34061it [00:00, 36997.28it/s]\u001b[A\n",
      "37615it [00:01, 36547.44it/s]\u001b[A\n",
      "41169it [00:01, 36189.92it/s]\u001b[A\n",
      "44960it [00:01, 36687.10it/s]\u001b[A\n",
      "48794it [00:01, 37165.48it/s]\u001b[A\n",
      "52538it [00:01, 37245.30it/s]\u001b[A\n",
      "56324it [00:01, 37425.02it/s]\u001b[A\n",
      " 28%|██▊       | 49/174 [55:08<2:41:16, 77.41s/it]\n",
      "  0%|          | 0/181851 [00:00<?, ?it/s]\u001b[A\n",
      "100%|██████████| 181851/181851 [00:00<00:00, 655888.27it/s]\u001b[A\n",
      "  0%|          | 0/181851 [00:00<?, ?it/s]\u001b[A\n",
      " 32%|███▏      | 58570/181851 [00:00<00:00, 585690.78it/s]"
     ]
    },
    {
     "name": "stdout",
     "output_type": "stream",
     "text": [
      "Sparse dummy orders shape: \n",
      "(181851, 70)\n"
     ]
    },
    {
     "name": "stderr",
     "output_type": "stream",
     "text": [
      "\u001b[A\n",
      " 65%|██████▍   | 117488/181851 [00:00<00:00, 586731.70it/s]\u001b[A\n",
      " 97%|█████████▋| 177126/181851 [00:00<00:00, 589593.00it/s]\u001b[A\n",
      "100%|██████████| 181851/181851 [00:00<00:00, 588543.14it/s]\u001b[A"
     ]
    },
    {
     "name": "stdout",
     "output_type": "stream",
     "text": [
      "Sparse dummy values shape: \n",
      "(181851, 93)\n"
     ]
    },
    {
     "name": "stderr",
     "output_type": "stream",
     "text": [
      "\n",
      "0it [00:00, ?it/s]\u001b[A\n",
      "3634it [00:00, 36335.36it/s]\u001b[A\n",
      "7334it [00:00, 36530.28it/s]\u001b[A\n",
      "11072it [00:00, 36779.70it/s]\u001b[A\n",
      "14823it [00:00, 36991.99it/s]\u001b[A\n",
      "18537it [00:00, 37033.37it/s]\u001b[A\n",
      "22246it [00:00, 37042.33it/s]\u001b[A\n",
      "25945it [00:00, 37025.94it/s]\u001b[A\n",
      "29647it [00:00, 37021.76it/s]\u001b[A\n",
      "33348it [00:00, 37016.52it/s]\u001b[A\n",
      "37090it [00:01, 37135.29it/s]\u001b[A\n",
      "40911it [00:01, 37449.50it/s]\u001b[A\n",
      "44644it [00:01, 37410.76it/s]\u001b[A\n",
      "48397it [00:01, 37445.58it/s]\u001b[A\n",
      "52195it [00:01, 37602.84it/s]\u001b[A\n",
      "55934it [00:01, 37538.61it/s]\u001b[A\n",
      "59675it [00:01, 37497.20it/s]\u001b[A\n",
      " 29%|██▊       | 50/174 [56:34<2:44:54, 79.80s/it]\n",
      "  0%|          | 0/181851 [00:00<?, ?it/s]\u001b[A\n",
      "100%|██████████| 181851/181851 [00:00<00:00, 654633.51it/s]\u001b[A\n",
      "  0%|          | 0/181851 [00:00<?, ?it/s]\u001b[A\n",
      " 33%|███▎      | 60092/181851 [00:00<00:00, 600914.84it/s]"
     ]
    },
    {
     "name": "stdout",
     "output_type": "stream",
     "text": [
      "Sparse dummy orders shape: \n",
      "(181851, 70)\n"
     ]
    },
    {
     "name": "stderr",
     "output_type": "stream",
     "text": [
      "\u001b[A\n",
      " 66%|██████▌   | 119539/181851 [00:00<00:00, 598966.51it/s]\u001b[A\n",
      " 98%|█████████▊| 178754/181851 [00:00<00:00, 596903.15it/s]\u001b[A\n",
      "100%|██████████| 181851/181851 [00:00<00:00, 593088.40it/s]\u001b[A"
     ]
    },
    {
     "name": "stdout",
     "output_type": "stream",
     "text": [
      "Sparse dummy values shape: \n",
      "(181851, 93)\n"
     ]
    },
    {
     "name": "stderr",
     "output_type": "stream",
     "text": [
      "\n",
      "0it [00:00, ?it/s]\u001b[A\n",
      "3720it [00:00, 37199.86it/s]\u001b[A\n",
      "7493it [00:00, 37356.57it/s]\u001b[A\n",
      "11284it [00:00, 37519.87it/s]\u001b[A\n",
      "15064it [00:00, 37602.84it/s]\u001b[A\n",
      "18840it [00:00, 37649.25it/s]\u001b[A\n",
      "22623it [00:00, 37702.90it/s]\u001b[A\n",
      "26399it [00:00, 37718.81it/s]\u001b[A\n",
      "30163it [00:00, 37692.44it/s]\u001b[A\n",
      "33894it [00:00, 37575.98it/s]\u001b[A\n",
      "37690it [00:01, 37688.61it/s]\u001b[A\n",
      "41473it [00:01, 37730.60it/s]\u001b[A\n",
      "45252it [00:01, 37748.31it/s]\u001b[A\n",
      "49056it [00:01, 37833.15it/s]\u001b[A\n",
      "52808it [00:01, 37736.20it/s]\u001b[A\n",
      "56615it [00:01, 37835.54it/s]\u001b[A\n",
      " 29%|██▉       | 51/174 [57:59<2:46:52, 81.40s/it]\n",
      "  0%|          | 0/181851 [00:00<?, ?it/s]\u001b[A\n",
      "100%|██████████| 181851/181851 [00:00<00:00, 671148.13it/s]\u001b[A\n",
      "  0%|          | 0/181851 [00:00<?, ?it/s]\u001b[A\n",
      " 34%|███▎      | 61238/181851 [00:00<00:00, 612371.82it/s]"
     ]
    },
    {
     "name": "stdout",
     "output_type": "stream",
     "text": [
      "Sparse dummy orders shape: \n",
      "(181851, 71)\n"
     ]
    },
    {
     "name": "stderr",
     "output_type": "stream",
     "text": [
      "\u001b[A\n",
      " 67%|██████▋   | 121821/181851 [00:00<00:00, 610392.03it/s]\u001b[A\n",
      "100%|██████████| 181851/181851 [00:00<00:00, 607319.30it/s]\u001b[A"
     ]
    },
    {
     "name": "stdout",
     "output_type": "stream",
     "text": [
      "Sparse dummy values shape: \n",
      "(181851, 93)\n"
     ]
    },
    {
     "name": "stderr",
     "output_type": "stream",
     "text": [
      "\n",
      "0it [00:00, ?it/s]\u001b[A\n",
      "3717it [00:00, 37166.40it/s]\u001b[A\n",
      "7505it [00:00, 37376.04it/s]\u001b[A\n",
      "11243it [00:00, 37376.36it/s]\u001b[A\n",
      "14977it [00:00, 37362.75it/s]\u001b[A\n",
      "18703it [00:00, 37330.38it/s]\u001b[A\n",
      "22406it [00:00, 37238.91it/s]\u001b[A\n",
      "26143it [00:00, 37276.74it/s]\u001b[A\n",
      "29890it [00:00, 37334.31it/s]\u001b[A\n",
      "33764it [00:00, 37743.85it/s]\u001b[A\n",
      "37626it [00:01, 38001.14it/s]\u001b[A\n",
      "41536it [00:01, 38322.90it/s]\u001b[A\n",
      "45421it [00:01, 38478.77it/s]\u001b[A\n",
      "49313it [00:01, 38607.55it/s]\u001b[A\n",
      "53212it [00:01, 38720.38it/s]\u001b[A\n",
      "57093it [00:01, 38745.38it/s]\u001b[A\n",
      " 30%|██▉       | 52/174 [59:24<2:47:45, 82.50s/it]\n",
      "  0%|          | 0/181851 [00:00<?, ?it/s]\u001b[A\n",
      "100%|██████████| 181851/181851 [00:00<00:00, 590025.97it/s]\u001b[A\n",
      "  0%|          | 0/181851 [00:00<?, ?it/s]\u001b[A\n",
      " 32%|███▏      | 58404/181851 [00:00<00:00, 584029.42it/s]\u001b[A"
     ]
    },
    {
     "name": "stdout",
     "output_type": "stream",
     "text": [
      "Sparse dummy orders shape: \n",
      "(181851, 97)\n"
     ]
    },
    {
     "name": "stderr",
     "output_type": "stream",
     "text": [
      "\n",
      " 64%|██████▍   | 116499/181851 [00:00<00:00, 583101.92it/s]\u001b[A\n",
      " 96%|█████████▌| 174941/181851 [00:00<00:00, 583485.22it/s]\u001b[A\n",
      "100%|██████████| 181851/181851 [00:00<00:00, 582166.60it/s]\u001b[A"
     ]
    },
    {
     "name": "stdout",
     "output_type": "stream",
     "text": [
      "Sparse dummy values shape: \n",
      "(181851, 93)\n"
     ]
    },
    {
     "name": "stderr",
     "output_type": "stream",
     "text": [
      "\n",
      "0it [00:00, ?it/s]\u001b[A\n",
      "3777it [00:00, 37767.78it/s]\u001b[A\n",
      "7614it [00:00, 37944.72it/s]\u001b[A\n",
      "11446it [00:00, 38056.38it/s]\u001b[A\n",
      "15248it [00:00, 38045.31it/s]\u001b[A\n",
      "18948it [00:00, 37724.48it/s]\u001b[A\n",
      "22792it [00:00, 37934.40it/s]\u001b[A\n",
      "26602it [00:00, 37982.72it/s]\u001b[A\n",
      "30491it [00:00, 38247.80it/s]\u001b[A\n",
      "34372it [00:00, 38413.31it/s]\u001b[A\n",
      "38263it [00:01, 38558.67it/s]\u001b[A\n",
      "42154it [00:01, 38662.75it/s]\u001b[A\n",
      "46094it [00:01, 38880.81it/s]\u001b[A\n",
      "49989it [00:01, 38901.44it/s]\u001b[A\n",
      "53877it [00:01, 38893.71it/s]\u001b[A\n",
      "57805it [00:01, 39008.00it/s]\u001b[A\n",
      " 30%|███       | 53/174 [1:00:55<2:51:25, 85.00s/it]\n",
      "  0%|          | 0/181851 [00:00<?, ?it/s]\u001b[A\n",
      "100%|██████████| 181851/181851 [00:00<00:00, 618581.14it/s]\u001b[A\n",
      "  0%|          | 0/181851 [00:00<?, ?it/s]\u001b[A\n",
      " 34%|███▎      | 61207/181851 [00:00<00:00, 612067.67it/s]\u001b[A"
     ]
    },
    {
     "name": "stdout",
     "output_type": "stream",
     "text": [
      "Sparse dummy orders shape: \n",
      "(181851, 97)\n"
     ]
    },
    {
     "name": "stderr",
     "output_type": "stream",
     "text": [
      "\n",
      " 67%|██████▋   | 121564/181851 [00:00<00:00, 609491.76it/s]\u001b[A\n",
      "100%|██████████| 181851/181851 [00:00<00:00, 610275.65it/s]\u001b[A"
     ]
    },
    {
     "name": "stdout",
     "output_type": "stream",
     "text": [
      "Sparse dummy values shape: \n",
      "(181851, 93)\n"
     ]
    },
    {
     "name": "stderr",
     "output_type": "stream",
     "text": [
      "\n",
      "0it [00:00, ?it/s]\u001b[A\n",
      "3684it [00:00, 36839.33it/s]\u001b[A\n",
      "7487it [00:00, 37186.69it/s]\u001b[A\n",
      "11187it [00:00, 37129.51it/s]\u001b[A\n",
      "14911it [00:00, 37161.01it/s]\u001b[A\n",
      "18649it [00:00, 37224.27it/s]\u001b[A\n",
      "22375it [00:00, 37234.22it/s]\u001b[A\n",
      "26112it [00:00, 37273.61it/s]\u001b[A\n",
      "29869it [00:00, 37361.20it/s]\u001b[A\n",
      "33667it [00:00, 37544.30it/s]\u001b[A\n",
      "37430it [00:01, 37569.33it/s]\u001b[A\n",
      "41180it [00:01, 37548.36it/s]\u001b[A\n",
      "44940it [00:01, 37561.62it/s]\u001b[A\n",
      "48656it [00:01, 37437.48it/s]\u001b[A\n",
      "52373it [00:01, 37355.42it/s]\u001b[A\n",
      "56113it [00:01, 37368.02it/s]\u001b[A\n",
      "59930it [00:01, 37604.40it/s]\u001b[A\n",
      " 31%|███       | 54/174 [1:02:26<2:53:42, 86.85s/it]\n",
      "  0%|          | 0/181851 [00:00<?, ?it/s]\u001b[A\n",
      "100%|██████████| 181851/181851 [00:00<00:00, 612058.70it/s]\u001b[A\n",
      "  0%|          | 0/181851 [00:00<?, ?it/s]\u001b[A\n",
      " 33%|███▎      | 60176/181851 [00:00<00:00, 601753.40it/s]"
     ]
    },
    {
     "name": "stdout",
     "output_type": "stream",
     "text": [
      "Sparse dummy orders shape: \n",
      "(181851, 103)\n"
     ]
    },
    {
     "name": "stderr",
     "output_type": "stream",
     "text": [
      "\u001b[A\n",
      " 66%|██████▌   | 119821/181851 [00:00<00:00, 600147.06it/s]\u001b[A\n",
      " 99%|█████████▉| 179674/181851 [00:00<00:00, 599659.05it/s]\u001b[A\n",
      "100%|██████████| 181851/181851 [00:00<00:00, 595751.59it/s]\u001b[A"
     ]
    },
    {
     "name": "stdout",
     "output_type": "stream",
     "text": [
      "Sparse dummy values shape: \n",
      "(181851, 93)\n"
     ]
    },
    {
     "name": "stderr",
     "output_type": "stream",
     "text": [
      "\n",
      "0it [00:00, ?it/s]\u001b[A\n",
      "3705it [00:00, 37047.12it/s]\u001b[A\n",
      "7440it [00:00, 37137.00it/s]\u001b[A\n",
      "11191it [00:00, 37248.03it/s]\u001b[A\n",
      "14928it [00:00, 37284.01it/s]\u001b[A\n",
      "18666it [00:00, 37311.84it/s]\u001b[A\n",
      "22419it [00:00, 37376.42it/s]\u001b[A\n",
      "26168it [00:00, 37410.19it/s]\u001b[A\n",
      "29942it [00:00, 37508.19it/s]\u001b[A\n",
      "33686it [00:00, 37485.30it/s]\u001b[A\n",
      "37470it [00:01, 37590.62it/s]\u001b[A\n",
      "41224it [00:01, 37571.77it/s]\u001b[A\n",
      "45002it [00:01, 37633.98it/s]\u001b[A\n",
      "48749it [00:01, 37583.65it/s]\u001b[A\n",
      "52474it [00:01, 37482.08it/s]\u001b[A\n",
      "56204it [00:01, 37425.91it/s]\u001b[A\n",
      "59943it [00:01, 37414.52it/s]\u001b[A\n",
      " 32%|███▏      | 55/174 [1:03:56<2:54:24, 87.94s/it]\n",
      "  0%|          | 0/181851 [00:00<?, ?it/s]\u001b[A\n",
      "100%|██████████| 181851/181851 [00:00<00:00, 613210.15it/s]\u001b[A\n",
      "  0%|          | 0/181851 [00:00<?, ?it/s]\u001b[A\n",
      " 33%|███▎      | 60320/181851 [00:00<00:00, 603196.26it/s]"
     ]
    },
    {
     "name": "stdout",
     "output_type": "stream",
     "text": [
      "Sparse dummy orders shape: \n",
      "(181851, 106)\n"
     ]
    },
    {
     "name": "stderr",
     "output_type": "stream",
     "text": [
      "\u001b[A\n",
      " 66%|██████▌   | 120438/181851 [00:00<00:00, 602588.41it/s]\u001b[A\n",
      "100%|█████████▉| 181053/181851 [00:00<00:00, 603652.23it/s]\u001b[A\n",
      "100%|██████████| 181851/181851 [00:00<00:00, 599712.52it/s]\u001b[A"
     ]
    },
    {
     "name": "stdout",
     "output_type": "stream",
     "text": [
      "Sparse dummy values shape: \n",
      "(181851, 93)\n"
     ]
    },
    {
     "name": "stderr",
     "output_type": "stream",
     "text": [
      "\n",
      "0it [00:00, ?it/s]\u001b[A\n",
      "3733it [00:00, 37321.67it/s]\u001b[A\n",
      "7531it [00:00, 37515.92it/s]\u001b[A\n",
      "11296it [00:00, 37553.54it/s]\u001b[A\n",
      "15094it [00:00, 37679.36it/s]\u001b[A\n",
      "18891it [00:00, 37764.80it/s]\u001b[A\n",
      "22638it [00:00, 37672.36it/s]\u001b[A\n",
      "26427it [00:00, 37735.17it/s]\u001b[A\n",
      "30195it [00:00, 37716.18it/s]\u001b[A\n",
      "34016it [00:00, 37861.09it/s]\u001b[A\n",
      "37757it [00:01, 37723.08it/s]\u001b[A\n",
      "41548it [00:01, 37777.90it/s]\u001b[A\n",
      "45269it [00:01, 37604.89it/s]\u001b[A\n",
      "49011it [00:01, 37546.38it/s]\u001b[A\n",
      "52730it [00:01, 37383.77it/s]\u001b[A\n",
      "56528it [00:01, 37560.17it/s]\u001b[A\n",
      " 32%|███▏      | 56/174 [1:05:27<2:54:19, 88.64s/it]\n",
      "  0%|          | 0/181851 [00:00<?, ?it/s]\u001b[A\n",
      "100%|██████████| 181851/181851 [00:00<00:00, 604712.97it/s]\u001b[A\n",
      "  0%|          | 0/181851 [00:00<?, ?it/s]\u001b[A\n",
      " 33%|███▎      | 59576/181851 [00:00<00:00, 595753.47it/s]"
     ]
    },
    {
     "name": "stdout",
     "output_type": "stream",
     "text": [
      "Sparse dummy orders shape: \n",
      "(181851, 106)\n"
     ]
    },
    {
     "name": "stderr",
     "output_type": "stream",
     "text": [
      "\u001b[A\n",
      " 65%|██████▌   | 118621/181851 [00:00<00:00, 594150.05it/s]\u001b[A\n",
      " 98%|█████████▊| 178227/181851 [00:00<00:00, 594718.95it/s]\u001b[A\n",
      "100%|██████████| 181851/181851 [00:00<00:00, 591598.88it/s]\u001b[A"
     ]
    },
    {
     "name": "stdout",
     "output_type": "stream",
     "text": [
      "Sparse dummy values shape: \n",
      "(181851, 93)\n"
     ]
    },
    {
     "name": "stderr",
     "output_type": "stream",
     "text": [
      "\n",
      "0it [00:00, ?it/s]\u001b[A\n",
      "3716it [00:00, 37158.80it/s]\u001b[A\n",
      "7505it [00:00, 37373.31it/s]\u001b[A\n",
      "11292it [00:00, 37518.51it/s]\u001b[A\n",
      "15092it [00:00, 37659.63it/s]\u001b[A\n",
      "18928it [00:00, 37866.46it/s]\u001b[A\n",
      "22741it [00:00, 37944.61it/s]\u001b[A\n",
      "26549it [00:00, 37983.43it/s]\u001b[A\n",
      "30333it [00:00, 37938.34it/s]\u001b[A\n",
      "34100it [00:00, 37855.13it/s]\u001b[A\n",
      "37833it [00:01, 37696.03it/s]\u001b[A\n",
      "41498it [00:01, 36882.91it/s]\u001b[A\n",
      "45196it [00:01, 36910.38it/s]\u001b[A\n",
      "48985it [00:01, 37196.33it/s]\u001b[A\n",
      "52790it [00:01, 37447.16it/s]\u001b[A\n",
      "56531it [00:01, 37435.72it/s]\u001b[A\n",
      " 33%|███▎      | 57/174 [1:06:57<2:53:38, 89.05s/it]\n",
      "  0%|          | 0/181851 [00:00<?, ?it/s]\u001b[A\n",
      "100%|██████████| 181851/181851 [00:00<00:00, 595445.56it/s]\u001b[A\n",
      "  0%|          | 0/181851 [00:00<?, ?it/s]\u001b[A\n",
      " 33%|███▎      | 59979/181851 [00:00<00:00, 599784.85it/s]"
     ]
    },
    {
     "name": "stdout",
     "output_type": "stream",
     "text": [
      "Sparse dummy orders shape: \n",
      "(181851, 111)\n"
     ]
    },
    {
     "name": "stderr",
     "output_type": "stream",
     "text": [
      "\u001b[A\n",
      " 65%|██████▌   | 118720/181851 [00:00<00:00, 596017.30it/s]\u001b[A\n",
      " 98%|█████████▊| 177663/181851 [00:00<00:00, 594025.02it/s]\u001b[A\n",
      "100%|██████████| 181851/181851 [00:00<00:00, 590003.61it/s]\u001b[A"
     ]
    },
    {
     "name": "stdout",
     "output_type": "stream",
     "text": [
      "Sparse dummy values shape: \n",
      "(181851, 93)\n"
     ]
    },
    {
     "name": "stderr",
     "output_type": "stream",
     "text": [
      "\n",
      "0it [00:00, ?it/s]\u001b[A\n",
      "3771it [00:00, 37702.22it/s]\u001b[A\n",
      "7598it [00:00, 37868.94it/s]\u001b[A\n",
      "11424it [00:00, 37983.48it/s]\u001b[A\n",
      "15246it [00:00, 38053.30it/s]\u001b[A\n",
      "19067it [00:00, 38099.34it/s]\u001b[A\n",
      "22867it [00:00, 38067.42it/s]\u001b[A\n",
      "26667it [00:00, 38045.63it/s]\u001b[A\n",
      "30467it [00:00, 38031.78it/s]\u001b[A\n",
      "34246it [00:00, 37957.38it/s]\u001b[A\n",
      "38086it [00:01, 38086.56it/s]\u001b[A\n",
      "41913it [00:01, 38138.59it/s]\u001b[A\n",
      "45763it [00:01, 38245.17it/s]\u001b[A\n",
      "49570it [00:01, 38190.49it/s]\u001b[A\n",
      "53386it [00:01, 38179.27it/s]\u001b[A\n",
      "57225it [00:01, 38242.12it/s]\u001b[A\n",
      " 33%|███▎      | 58/174 [1:08:27<2:52:40, 89.32s/it]\n",
      "  0%|          | 0/181851 [00:00<?, ?it/s]\u001b[A\n",
      "100%|██████████| 181851/181851 [00:00<00:00, 616255.64it/s]\u001b[A\n",
      "  0%|          | 0/181851 [00:00<?, ?it/s]\u001b[A\n",
      " 34%|███▍      | 61408/181851 [00:00<00:00, 614076.19it/s]"
     ]
    },
    {
     "name": "stdout",
     "output_type": "stream",
     "text": [
      "Sparse dummy orders shape: \n",
      "(181851, 113)\n"
     ]
    },
    {
     "name": "stderr",
     "output_type": "stream",
     "text": [
      "\u001b[A\n",
      " 67%|██████▋   | 120983/181851 [00:00<00:00, 608459.88it/s]\u001b[A\n",
      "100%|█████████▉| 181787/181851 [00:00<00:00, 608332.72it/s]\u001b[A\n",
      "100%|██████████| 181851/181851 [00:00<00:00, 601829.60it/s]\u001b[A"
     ]
    },
    {
     "name": "stdout",
     "output_type": "stream",
     "text": [
      "Sparse dummy values shape: \n",
      "(181851, 93)\n"
     ]
    },
    {
     "name": "stderr",
     "output_type": "stream",
     "text": [
      "\n",
      "0it [00:00, ?it/s]\u001b[A\n",
      "3758it [00:00, 37562.57it/s]\u001b[A\n",
      "7569it [00:00, 37723.82it/s]\u001b[A\n",
      "11344it [00:00, 37729.39it/s]\u001b[A\n",
      "15146it [00:00, 37815.15it/s]\u001b[A\n",
      "18952it [00:00, 37887.61it/s]\u001b[A\n",
      "22718it [00:00, 37816.20it/s]\u001b[A\n",
      "26490it [00:00, 37784.72it/s]\u001b[A\n",
      "30276it [00:00, 37805.99it/s]\u001b[A\n",
      "34067it [00:00, 37835.85it/s]\u001b[A\n",
      "37936it [00:01, 38087.37it/s]\u001b[A\n",
      "41746it [00:01, 38089.78it/s]\u001b[A\n",
      "45563it [00:01, 38112.40it/s]\u001b[A\n",
      "49323it [00:01, 37932.34it/s]\u001b[A\n",
      "53090it [00:01, 37850.33it/s]\u001b[A\n",
      "56850it [00:01, 37642.46it/s]\u001b[A\n",
      " 34%|███▍      | 59/174 [1:09:58<2:52:29, 89.99s/it]\n",
      "  0%|          | 0/181851 [00:00<?, ?it/s]\u001b[A\n",
      "100%|██████████| 181851/181851 [00:00<00:00, 591333.32it/s]\u001b[A\n",
      "  0%|          | 0/181851 [00:00<?, ?it/s]\u001b[A\n",
      " 34%|███▍      | 62113/181851 [00:00<00:00, 621123.19it/s]"
     ]
    },
    {
     "name": "stdout",
     "output_type": "stream",
     "text": [
      "Sparse dummy orders shape: \n",
      "(181851, 113)\n"
     ]
    },
    {
     "name": "stderr",
     "output_type": "stream",
     "text": [
      "\u001b[A\n",
      " 67%|██████▋   | 121134/181851 [00:00<00:00, 611511.48it/s]\u001b[A\n",
      "100%|█████████▉| 180976/181851 [00:00<00:00, 607523.14it/s]\u001b[A\n",
      "100%|██████████| 181851/181851 [00:00<00:00, 599594.19it/s]\u001b[A"
     ]
    },
    {
     "name": "stdout",
     "output_type": "stream",
     "text": [
      "Sparse dummy values shape: \n",
      "(181851, 93)\n"
     ]
    },
    {
     "name": "stderr",
     "output_type": "stream",
     "text": [
      "\n",
      "0it [00:00, ?it/s]\u001b[A\n",
      "3744it [00:00, 37433.79it/s]\u001b[A\n",
      "7559it [00:00, 37644.44it/s]\u001b[A\n",
      "11287it [00:00, 37532.35it/s]\u001b[A\n",
      "15034it [00:00, 37512.10it/s]\u001b[A\n",
      "18785it [00:00, 37509.58it/s]\u001b[A\n",
      "22514it [00:00, 37442.77it/s]\u001b[A\n",
      "26279it [00:00, 37502.44it/s]\u001b[A\n",
      "29798it [00:00, 36776.96it/s]\u001b[A\n",
      "33272it [00:00, 36140.18it/s]\u001b[A\n",
      "36740it [00:01, 35605.58it/s]\u001b[A\n",
      "40200it [00:01, 35126.03it/s]\u001b[A\n",
      "43644it [00:01, 34750.33it/s]\u001b[A\n",
      "47072it [00:01, 34107.72it/s]\u001b[A\n",
      "50655it [00:01, 34605.08it/s]\u001b[A\n",
      "54096it [00:01, 34472.29it/s]\u001b[A\n",
      "57723it [00:01, 34991.34it/s]\u001b[A\n",
      " 34%|███▍      | 60/174 [1:11:29<2:51:28, 90.25s/it]\n",
      "  0%|          | 0/181851 [00:00<?, ?it/s]\u001b[A\n",
      "100%|██████████| 181851/181851 [00:00<00:00, 593211.56it/s]\u001b[A\n",
      "  0%|          | 0/181851 [00:00<?, ?it/s]\u001b[A\n",
      " 33%|███▎      | 60760/181851 [00:00<00:00, 607591.89it/s]"
     ]
    },
    {
     "name": "stdout",
     "output_type": "stream",
     "text": [
      "Sparse dummy orders shape: \n",
      "(181851, 117)\n"
     ]
    },
    {
     "name": "stderr",
     "output_type": "stream",
     "text": [
      "\u001b[A\n",
      " 65%|██████▌   | 118824/181851 [00:00<00:00, 599245.18it/s]\u001b[A\n",
      " 97%|█████████▋| 176862/181851 [00:00<00:00, 593457.83it/s]\u001b[A\n",
      "100%|██████████| 181851/181851 [00:00<00:00, 585873.66it/s]\u001b[A"
     ]
    },
    {
     "name": "stdout",
     "output_type": "stream",
     "text": [
      "Sparse dummy values shape: \n",
      "(181851, 93)\n"
     ]
    },
    {
     "name": "stderr",
     "output_type": "stream",
     "text": [
      "\n",
      "0it [00:00, ?it/s]\u001b[A\n",
      "3671it [00:00, 36703.82it/s]\u001b[A\n",
      "7396it [00:00, 36864.51it/s]\u001b[A\n",
      "11163it [00:00, 37102.40it/s]\u001b[A\n",
      "14927it [00:00, 37260.85it/s]\u001b[A\n",
      "18677it [00:00, 37329.92it/s]\u001b[A\n",
      "22385it [00:00, 37252.06it/s]\u001b[A\n",
      "26124it [00:00, 37290.58it/s]\u001b[A\n",
      "29870it [00:00, 37341.07it/s]\u001b[A\n",
      "33443it [00:00, 36840.26it/s]\u001b[A\n",
      "37099it [00:01, 36754.50it/s]\u001b[A\n",
      "40773it [00:01, 36747.53it/s]\u001b[A\n",
      "44392it [00:01, 36578.20it/s]\u001b[A\n",
      "48055it [00:01, 36592.37it/s]\u001b[A\n",
      "51747it [00:01, 36687.06it/s]\u001b[A\n",
      "55392it [00:01, 36610.63it/s]\u001b[A\n",
      "59057it [00:01, 36616.82it/s]\u001b[A\n",
      " 35%|███▌      | 61/174 [1:13:00<2:50:12, 90.38s/it]\n",
      "  0%|          | 0/181851 [00:00<?, ?it/s]\u001b[A\n",
      "100%|██████████| 181851/181851 [00:00<00:00, 588956.24it/s]\u001b[A\n",
      "  0%|          | 0/181851 [00:00<?, ?it/s]\u001b[A\n",
      " 34%|███▎      | 61154/181851 [00:00<00:00, 611536.21it/s]"
     ]
    },
    {
     "name": "stdout",
     "output_type": "stream",
     "text": [
      "Sparse dummy orders shape: \n",
      "(181851, 119)\n"
     ]
    },
    {
     "name": "stderr",
     "output_type": "stream",
     "text": [
      "\u001b[A\n",
      " 66%|██████▌   | 119547/181851 [00:00<00:00, 602982.50it/s]\u001b[A\n",
      " 98%|█████████▊| 177438/181851 [00:00<00:00, 595552.43it/s]\u001b[A\n",
      "100%|██████████| 181851/181851 [00:00<00:00, 588485.93it/s]\u001b[A"
     ]
    },
    {
     "name": "stdout",
     "output_type": "stream",
     "text": [
      "Sparse dummy values shape: \n",
      "(181851, 93)\n"
     ]
    },
    {
     "name": "stderr",
     "output_type": "stream",
     "text": [
      "\n",
      "0it [00:00, ?it/s]\u001b[A\n",
      "3795it [00:00, 37947.41it/s]\u001b[A\n",
      "7607it [00:00, 37997.33it/s]\u001b[A\n",
      "11438it [00:00, 38089.47it/s]\u001b[A\n",
      "15262it [00:00, 38133.02it/s]\u001b[A\n",
      "19090it [00:00, 38175.10it/s]\u001b[A\n",
      "22881it [00:00, 38093.27it/s]\u001b[A\n",
      "26687it [00:00, 38083.02it/s]\u001b[A\n",
      "30228it [00:00, 37237.40it/s]\u001b[A\n",
      "33844it [00:00, 36904.68it/s]\u001b[A\n",
      "37557it [00:01, 36969.42it/s]\u001b[A\n",
      "41285it [00:01, 37061.16it/s]\u001b[A\n",
      "44999it [00:01, 37082.88it/s]\u001b[A\n",
      "48719it [00:01, 37116.20it/s]\u001b[A\n",
      "52395it [00:01, 36548.64it/s]\u001b[A\n",
      "56153it [00:01, 36851.44it/s]\u001b[A\n",
      "59926it [00:01, 37109.31it/s]\u001b[A\n",
      " 36%|███▌      | 62/174 [1:14:31<2:48:59, 90.53s/it]\n",
      "  0%|          | 0/181851 [00:00<?, ?it/s]\u001b[A\n",
      "100%|██████████| 181851/181851 [00:00<00:00, 606755.01it/s]\u001b[A\n",
      "  0%|          | 0/181851 [00:00<?, ?it/s]\u001b[A\n",
      " 34%|███▍      | 62352/181851 [00:00<00:00, 623511.68it/s]"
     ]
    },
    {
     "name": "stdout",
     "output_type": "stream",
     "text": [
      "Sparse dummy orders shape: \n",
      "(181851, 119)\n"
     ]
    },
    {
     "name": "stderr",
     "output_type": "stream",
     "text": [
      "\u001b[A\n",
      " 67%|██████▋   | 121809/181851 [00:00<00:00, 614535.95it/s]\u001b[A\n",
      " 99%|█████████▉| 180723/181851 [00:00<00:00, 606688.60it/s]\u001b[A\n",
      "100%|██████████| 181851/181851 [00:00<00:00, 598925.63it/s]\u001b[A"
     ]
    },
    {
     "name": "stdout",
     "output_type": "stream",
     "text": [
      "Sparse dummy values shape: \n",
      "(181851, 93)\n"
     ]
    },
    {
     "name": "stderr",
     "output_type": "stream",
     "text": [
      "\n",
      "0it [00:00, ?it/s]\u001b[A\n",
      "3781it [00:00, 37806.97it/s]\u001b[A\n",
      "7560it [00:00, 37799.78it/s]\u001b[A\n",
      "11291it [00:00, 37647.57it/s]\u001b[A\n",
      "15001it [00:00, 37478.78it/s]\u001b[A\n",
      "18773it [00:00, 37547.94it/s]\u001b[A\n",
      "22518it [00:00, 37516.02it/s]\u001b[A\n",
      "26314it [00:00, 37646.74it/s]\u001b[A\n",
      "29940it [00:00, 37207.18it/s]\u001b[A\n",
      "33572it [00:00, 36936.09it/s]\u001b[A\n",
      "37115it [00:01, 35993.97it/s]\u001b[A\n",
      "40823it [00:01, 36310.84it/s]\u001b[A\n",
      "44594it [00:01, 36719.19it/s]\u001b[A\n",
      "48353it [00:01, 36974.51it/s]\u001b[A\n",
      "52141it [00:01, 37240.62it/s]\u001b[A\n",
      "55843it [00:01, 36809.49it/s]\u001b[A\n",
      "59702it [00:01, 37323.73it/s]\u001b[A\n",
      " 36%|███▌      | 63/174 [1:16:01<2:47:25, 90.50s/it]\n",
      "  0%|          | 0/181851 [00:00<?, ?it/s]\u001b[A\n",
      "100%|██████████| 181851/181851 [00:00<00:00, 608471.40it/s]\u001b[A\n",
      "  0%|          | 0/181851 [00:00<?, ?it/s]\u001b[A\n",
      " 35%|███▍      | 62979/181851 [00:00<00:00, 629787.60it/s]\u001b[A"
     ]
    },
    {
     "name": "stdout",
     "output_type": "stream",
     "text": [
      "Sparse dummy orders shape: \n",
      "(181851, 119)\n"
     ]
    },
    {
     "name": "stderr",
     "output_type": "stream",
     "text": [
      "\n",
      " 67%|██████▋   | 122650/181851 [00:00<00:00, 619483.91it/s]\u001b[A\n",
      "100%|██████████| 181851/181851 [00:00<00:00, 609516.33it/s]\u001b[A"
     ]
    },
    {
     "name": "stdout",
     "output_type": "stream",
     "text": [
      "Sparse dummy values shape: \n",
      "(181851, 93)\n"
     ]
    },
    {
     "name": "stderr",
     "output_type": "stream",
     "text": [
      "\n",
      "0it [00:00, ?it/s]\u001b[A\n",
      "3782it [00:00, 37814.63it/s]\u001b[A\n",
      "7586it [00:00, 37880.78it/s]\u001b[A\n",
      "11369it [00:00, 37862.89it/s]\u001b[A\n",
      "15145it [00:00, 37831.11it/s]\u001b[A\n",
      "18930it [00:00, 37835.92it/s]\u001b[A\n",
      "22694it [00:00, 37774.17it/s]\u001b[A\n",
      "26459it [00:00, 37734.98it/s]\u001b[A\n",
      "30254it [00:00, 37797.76it/s]\u001b[A\n",
      "34004it [00:00, 37706.54it/s]\u001b[A\n",
      "37828it [00:01, 37863.25it/s]\u001b[A\n",
      "41663it [00:01, 38004.05it/s]\u001b[A\n",
      "45486it [00:01, 38070.72it/s]\u001b[A\n",
      "49267it [00:01, 37991.70it/s]\u001b[A\n",
      "53095it [00:01, 38076.61it/s]\u001b[A\n",
      "56879it [00:01, 38004.07it/s]\u001b[A\n",
      " 37%|███▋      | 64/174 [1:17:32<2:46:11, 90.65s/it]\n",
      "  0%|          | 0/181851 [00:00<?, ?it/s]\u001b[A\n",
      "100%|██████████| 181851/181851 [00:00<00:00, 610672.89it/s]\u001b[A\n",
      "  0%|          | 0/181851 [00:00<?, ?it/s]\u001b[A\n",
      " 35%|███▌      | 63692/181851 [00:00<00:00, 636876.57it/s]"
     ]
    },
    {
     "name": "stdout",
     "output_type": "stream",
     "text": [
      "Sparse dummy orders shape: \n",
      "(181851, 119)\n"
     ]
    },
    {
     "name": "stderr",
     "output_type": "stream",
     "text": [
      "\u001b[A\n",
      " 68%|██████▊   | 123274/181851 [00:00<00:00, 623976.77it/s]\u001b[A\n",
      "100%|██████████| 181851/181851 [00:00<00:00, 610548.24it/s]\u001b[A"
     ]
    },
    {
     "name": "stdout",
     "output_type": "stream",
     "text": [
      "Sparse dummy values shape: \n",
      "(181851, 93)\n"
     ]
    },
    {
     "name": "stderr",
     "output_type": "stream",
     "text": [
      "\n",
      "0it [00:00, ?it/s]\u001b[A\n",
      "3761it [00:00, 37602.42it/s]\u001b[A\n",
      "7555it [00:00, 37703.02it/s]\u001b[A\n",
      "11331it [00:00, 37719.78it/s]\u001b[A\n",
      "15121it [00:00, 37773.38it/s]\u001b[A\n",
      "18905it [00:00, 37793.06it/s]\u001b[A\n",
      "22676it [00:00, 37765.92it/s]\u001b[A\n",
      "26463it [00:00, 37794.64it/s]\u001b[A\n",
      "30239it [00:00, 37782.25it/s]\u001b[A\n",
      "33999it [00:00, 37726.29it/s]\u001b[A\n",
      "37869it [00:01, 38012.03it/s]\u001b[A\n",
      "41738it [00:01, 38211.03it/s]\u001b[A\n",
      "45565it [00:01, 38228.55it/s]\u001b[A\n",
      "49414it [00:01, 38304.09it/s]\u001b[A\n",
      "53253it [00:01, 38328.46it/s]\u001b[A\n",
      "57067it [00:01, 38270.70it/s]\u001b[A\n",
      " 37%|███▋      | 65/174 [1:19:02<2:44:29, 90.54s/it]\n",
      "  0%|          | 0/181851 [00:00<?, ?it/s]\u001b[A\n",
      "100%|██████████| 181851/181851 [00:00<00:00, 610557.52it/s]\u001b[A\n",
      "  0%|          | 0/181851 [00:00<?, ?it/s]\u001b[A\n",
      " 35%|███▍      | 62898/181851 [00:00<00:00, 628961.11it/s]"
     ]
    },
    {
     "name": "stdout",
     "output_type": "stream",
     "text": [
      "Sparse dummy orders shape: \n",
      "(181851, 121)\n"
     ]
    },
    {
     "name": "stderr",
     "output_type": "stream",
     "text": [
      "\u001b[A\n",
      " 67%|██████▋   | 122716/181851 [00:00<00:00, 619398.93it/s]\u001b[A\n",
      "100%|█████████▉| 181471/181851 [00:00<00:00, 609486.33it/s]\u001b[A\n",
      "100%|██████████| 181851/181851 [00:00<00:00, 600154.20it/s]\u001b[A"
     ]
    },
    {
     "name": "stdout",
     "output_type": "stream",
     "text": [
      "Sparse dummy values shape: \n",
      "(181851, 93)\n"
     ]
    },
    {
     "name": "stderr",
     "output_type": "stream",
     "text": [
      "\n",
      "0it [00:00, ?it/s]\u001b[A\n",
      "3798it [00:00, 37973.43it/s]\u001b[A\n",
      "7642it [00:00, 38110.43it/s]\u001b[A\n",
      "11496it [00:00, 38236.35it/s]\u001b[A\n",
      "15337it [00:00, 38286.24it/s]\u001b[A\n",
      "19197it [00:00, 38378.29it/s]\u001b[A\n",
      "23045it [00:00, 38406.29it/s]\u001b[A\n",
      "26901it [00:00, 38450.04it/s]\u001b[A\n",
      "30732it [00:00, 38406.41it/s]\u001b[A\n",
      "34591it [00:00, 38458.69it/s]\u001b[A\n",
      "38380it [00:01, 38286.06it/s]\u001b[A\n",
      "42164it [00:01, 38150.41it/s]\u001b[A\n",
      "45959it [00:01, 38087.31it/s]\u001b[A\n",
      "49760it [00:01, 38062.98it/s]\u001b[A\n",
      "53562it [00:01, 38049.38it/s]\u001b[A\n",
      "57351it [00:01, 38000.64it/s]\u001b[A\n",
      " 38%|███▊      | 66/174 [1:20:33<2:42:53, 90.49s/it]\n",
      "  0%|          | 0/181851 [00:00<?, ?it/s]\u001b[A\n",
      "100%|██████████| 181851/181851 [00:00<00:00, 618875.25it/s]\u001b[A\n",
      "  0%|          | 0/181851 [00:00<?, ?it/s]\u001b[A\n",
      " 35%|███▌      | 64100/181851 [00:00<00:00, 640997.55it/s]"
     ]
    },
    {
     "name": "stdout",
     "output_type": "stream",
     "text": [
      "Sparse dummy orders shape: \n",
      "(181851, 121)\n"
     ]
    },
    {
     "name": "stderr",
     "output_type": "stream",
     "text": [
      "\u001b[A\n",
      " 68%|██████▊   | 124501/181851 [00:00<00:00, 629433.47it/s]\u001b[A\n",
      "100%|██████████| 181851/181851 [00:00<00:00, 614133.44it/s]\u001b[A"
     ]
    },
    {
     "name": "stdout",
     "output_type": "stream",
     "text": [
      "Sparse dummy values shape: \n",
      "(181851, 93)\n"
     ]
    },
    {
     "name": "stderr",
     "output_type": "stream",
     "text": [
      "\n",
      "0it [00:00, ?it/s]\u001b[A\n",
      "3740it [00:00, 37392.10it/s]\u001b[A\n",
      "7493it [00:00, 37433.32it/s]\u001b[A\n",
      "11283it [00:00, 37571.17it/s]\u001b[A\n",
      "15081it [00:00, 37692.44it/s]\u001b[A\n",
      "18869it [00:00, 37747.45it/s]\u001b[A\n",
      "22638it [00:00, 37729.67it/s]\u001b[A\n",
      "26405it [00:00, 37709.06it/s]\u001b[A\n",
      "30163it [00:00, 37670.23it/s]\u001b[A\n",
      "33927it [00:00, 37660.76it/s]\u001b[A\n",
      "37766it [00:01, 37875.58it/s]\u001b[A\n",
      "41554it [00:01, 37874.53it/s]\u001b[A\n",
      "45388it [00:01, 38012.96it/s]\u001b[A\n",
      "49225it [00:01, 38117.79it/s]\u001b[A\n",
      "53056it [00:01, 38173.76it/s]\u001b[A\n",
      "56968it [00:01, 38450.83it/s]\u001b[A\n",
      " 39%|███▊      | 67/174 [1:22:03<2:41:12, 90.39s/it]\n",
      "  0%|          | 0/181851 [00:00<?, ?it/s]\u001b[A\n",
      "100%|██████████| 181851/181851 [00:00<00:00, 600929.65it/s]\u001b[A\n",
      "  0%|          | 0/181851 [00:00<?, ?it/s]\u001b[A\n",
      " 35%|███▌      | 64372/181851 [00:00<00:00, 643717.54it/s]\u001b[A"
     ]
    },
    {
     "name": "stdout",
     "output_type": "stream",
     "text": [
      "Sparse dummy orders shape: \n",
      "(181851, 132)\n"
     ]
    },
    {
     "name": "stderr",
     "output_type": "stream",
     "text": [
      "\n",
      " 69%|██████▊   | 124974/181851 [00:00<00:00, 631922.69it/s]\u001b[A\n",
      "100%|██████████| 181851/181851 [00:00<00:00, 622205.74it/s]\u001b[A"
     ]
    },
    {
     "name": "stdout",
     "output_type": "stream",
     "text": [
      "Sparse dummy values shape: \n",
      "(181851, 93)\n"
     ]
    },
    {
     "name": "stderr",
     "output_type": "stream",
     "text": [
      "\n",
      "0it [00:00, ?it/s]\u001b[A\n",
      "3730it [00:00, 37297.46it/s]\u001b[A\n",
      "7502it [00:00, 37423.21it/s]\u001b[A\n",
      "11228it [00:00, 37371.91it/s]\u001b[A\n",
      "14968it [00:00, 37378.50it/s]\u001b[A\n",
      "18689it [00:00, 37324.77it/s]\u001b[A\n",
      "22435it [00:00, 37363.28it/s]\u001b[A\n",
      "26169it [00:00, 37354.51it/s]\u001b[A\n",
      "29994it [00:00, 37618.50it/s]\u001b[A\n",
      "33747it [00:00, 37590.19it/s]\u001b[A\n",
      "37553it [00:01, 37727.84it/s]\u001b[A\n",
      "41305it [00:01, 37662.90it/s]\u001b[A\n",
      "45068it [00:01, 37652.90it/s]\u001b[A\n",
      "48782it [00:01, 37109.04it/s]\u001b[A\n",
      "52524it [00:01, 37201.77it/s]\u001b[A\n",
      "56283it [00:01, 37317.19it/s]\u001b[A\n",
      "59999it [00:01, 37214.59it/s]\u001b[A\n",
      " 39%|███▉      | 68/174 [1:23:36<2:41:07, 91.21s/it]\n",
      "  0%|          | 0/181851 [00:00<?, ?it/s]\u001b[A\n",
      "100%|██████████| 181851/181851 [00:00<00:00, 594646.64it/s]\u001b[A\n",
      "  0%|          | 0/181851 [00:00<?, ?it/s]\u001b[A\n",
      " 36%|███▌      | 65026/181851 [00:00<00:00, 650254.42it/s]"
     ]
    },
    {
     "name": "stdout",
     "output_type": "stream",
     "text": [
      "Sparse dummy orders shape: \n",
      "(181851, 132)\n"
     ]
    },
    {
     "name": "stderr",
     "output_type": "stream",
     "text": [
      "\u001b[A\n",
      " 69%|██████▉   | 125350/181851 [00:00<00:00, 635396.96it/s]\u001b[A\n",
      "100%|██████████| 181851/181851 [00:00<00:00, 622568.36it/s]\u001b[A"
     ]
    },
    {
     "name": "stdout",
     "output_type": "stream",
     "text": [
      "Sparse dummy values shape: \n",
      "(181851, 93)\n"
     ]
    },
    {
     "name": "stderr",
     "output_type": "stream",
     "text": [
      "\n",
      "0it [00:00, ?it/s]\u001b[A\n",
      "3756it [00:00, 37555.47it/s]\u001b[A\n",
      "7563it [00:00, 37706.34it/s]\u001b[A\n",
      "11401it [00:00, 37904.27it/s]\u001b[A\n",
      "15241it [00:00, 38049.84it/s]\u001b[A\n",
      "19064it [00:00, 38102.66it/s]\u001b[A\n",
      "22926it [00:00, 38255.93it/s]\u001b[A\n",
      "26802it [00:00, 38404.52it/s]\u001b[A\n",
      "30524it [00:00, 38040.17it/s]\u001b[A\n",
      "34136it [00:00, 37443.00it/s]\u001b[A\n",
      "37893it [00:01, 37480.73it/s]\u001b[A\n",
      "41537it [00:01, 36978.80it/s]\u001b[A\n",
      "45196it [00:01, 36859.00it/s]\u001b[A\n",
      "48833it [00:01, 36459.32it/s]\u001b[A\n",
      "52661it [00:01, 36985.63it/s]\u001b[A\n",
      "56414it [00:01, 37146.92it/s]\u001b[A\n",
      " 40%|███▉      | 69/174 [1:25:09<2:40:17, 91.60s/it]\n",
      "  0%|          | 0/181851 [00:00<?, ?it/s]\u001b[A\n",
      "100%|██████████| 181851/181851 [00:00<00:00, 587454.79it/s]\u001b[A\n",
      "  0%|          | 0/181851 [00:00<?, ?it/s]\u001b[A\n",
      " 35%|███▌      | 63956/181851 [00:00<00:00, 639551.46it/s]"
     ]
    },
    {
     "name": "stdout",
     "output_type": "stream",
     "text": [
      "Sparse dummy orders shape: \n",
      "(181851, 132)\n"
     ]
    },
    {
     "name": "stderr",
     "output_type": "stream",
     "text": [
      "\u001b[A\n",
      " 68%|██████▊   | 123548/181851 [00:00<00:00, 625802.95it/s]\u001b[A\n",
      "100%|██████████| 181851/181851 [00:00<00:00, 608540.34it/s]\u001b[A"
     ]
    },
    {
     "name": "stdout",
     "output_type": "stream",
     "text": [
      "Sparse dummy values shape: \n",
      "(181851, 93)\n"
     ]
    },
    {
     "name": "stderr",
     "output_type": "stream",
     "text": [
      "\n",
      "0it [00:00, ?it/s]\u001b[A\n",
      "3669it [00:00, 36687.59it/s]\u001b[A\n",
      "7360it [00:00, 36751.94it/s]\u001b[A\n",
      "11072it [00:00, 36861.03it/s]\u001b[A\n",
      "14779it [00:00, 36922.75it/s]\u001b[A\n",
      "18454it [00:00, 36870.60it/s]\u001b[A\n",
      "22125it [00:00, 36819.54it/s]\u001b[A\n",
      "25789it [00:00, 36764.74it/s]\u001b[A\n",
      "29470it [00:00, 36777.21it/s]\u001b[A\n",
      "33157it [00:00, 36803.12it/s]\u001b[A\n",
      "36913it [00:01, 37026.32it/s]\u001b[A\n",
      "40676it [00:01, 37203.02it/s]\u001b[A\n",
      "44414it [00:01, 37254.54it/s]\u001b[A\n",
      "48145it [00:01, 37269.20it/s]\u001b[A\n",
      "51862it [00:01, 37237.90it/s]\u001b[A\n",
      "55580it [00:01, 37218.92it/s]\u001b[A\n",
      "59287it [00:01, 37173.07it/s]\u001b[A\n",
      " 40%|████      | 70/174 [1:26:43<2:40:04, 92.35s/it]\n",
      "  0%|          | 0/181851 [00:00<?, ?it/s]\u001b[A\n",
      "100%|██████████| 181851/181851 [00:00<00:00, 550166.64it/s]\u001b[A\n",
      "  0%|          | 0/181851 [00:00<?, ?it/s]\u001b[A\n",
      " 36%|███▌      | 65294/181851 [00:00<00:00, 652931.28it/s]"
     ]
    },
    {
     "name": "stdout",
     "output_type": "stream",
     "text": [
      "Sparse dummy orders shape: \n",
      "(181851, 138)\n"
     ]
    },
    {
     "name": "stderr",
     "output_type": "stream",
     "text": [
      "\u001b[A\n",
      " 69%|██████▉   | 125232/181851 [00:00<00:00, 635886.12it/s]\u001b[A\n",
      "100%|██████████| 181851/181851 [00:00<00:00, 618312.36it/s]\u001b[A"
     ]
    },
    {
     "name": "stdout",
     "output_type": "stream",
     "text": [
      "Sparse dummy values shape: \n",
      "(181851, 93)\n"
     ]
    },
    {
     "name": "stderr",
     "output_type": "stream",
     "text": [
      "\n",
      "0it [00:00, ?it/s]\u001b[A\n",
      "3781it [00:00, 37801.02it/s]\u001b[A\n",
      "7629it [00:00, 37999.67it/s]\u001b[A\n",
      "11376it [00:00, 37836.35it/s]\u001b[A\n",
      "15207it [00:00, 37975.71it/s]\u001b[A\n",
      "19019it [00:00, 38016.05it/s]\u001b[A\n",
      "22864it [00:00, 38144.64it/s]\u001b[A\n",
      "26614it [00:00, 37946.25it/s]\u001b[A\n",
      "30430it [00:00, 38008.11it/s]\u001b[A\n",
      "34237it [00:00, 38024.22it/s]\u001b[A\n",
      "38020it [00:01, 37963.49it/s]\u001b[A\n",
      "41859it [00:01, 38088.38it/s]\u001b[A\n",
      "45659it [00:01, 38061.37it/s]\u001b[A\n",
      "49417it [00:01, 37914.67it/s]\u001b[A\n",
      "53173it [00:01, 37804.64it/s]\u001b[A\n",
      "57005it [00:01, 37956.61it/s]\u001b[A\n",
      " 41%|████      | 71/174 [1:28:16<2:39:03, 92.65s/it]\n",
      "  0%|          | 0/181851 [00:00<?, ?it/s]\u001b[A\n",
      "100%|██████████| 181851/181851 [00:00<00:00, 586970.61it/s]\u001b[A\n",
      "  0%|          | 0/181851 [00:00<?, ?it/s]\u001b[A\n",
      " 35%|███▍      | 63311/181851 [00:00<00:00, 633103.06it/s]"
     ]
    },
    {
     "name": "stdout",
     "output_type": "stream",
     "text": [
      "Sparse dummy orders shape: \n",
      "(181851, 141)\n"
     ]
    },
    {
     "name": "stderr",
     "output_type": "stream",
     "text": [
      "\u001b[A\n",
      " 67%|██████▋   | 122671/181851 [00:00<00:00, 620706.89it/s]\u001b[A\n",
      "100%|██████████| 181851/181851 [00:00<00:00, 607954.40it/s]\u001b[A"
     ]
    },
    {
     "name": "stdout",
     "output_type": "stream",
     "text": [
      "Sparse dummy values shape: \n",
      "(181851, 93)\n"
     ]
    },
    {
     "name": "stderr",
     "output_type": "stream",
     "text": [
      "\n",
      "0it [00:00, ?it/s]\u001b[A\n",
      "3712it [00:00, 37113.49it/s]\u001b[A\n",
      "7461it [00:00, 37222.99it/s]\u001b[A\n",
      "11247it [00:00, 37409.59it/s]\u001b[A\n",
      "15005it [00:00, 37457.65it/s]\u001b[A\n",
      "18762it [00:00, 37490.25it/s]\u001b[A\n",
      "22515it [00:00, 37500.65it/s]\u001b[A\n",
      "26267it [00:00, 37505.04it/s]\u001b[A\n",
      "30007it [00:00, 37470.77it/s]\u001b[A\n",
      "33711it [00:00, 37339.50it/s]\u001b[A\n",
      "37510it [00:01, 37531.99it/s]\u001b[A\n",
      "41226it [00:01, 37417.12it/s]\u001b[A\n",
      "44981it [00:01, 37454.46it/s]\u001b[A\n",
      "48781it [00:01, 37615.44it/s]\u001b[A\n",
      "52597it [00:01, 37775.36it/s]\u001b[A\n",
      "56409it [00:01, 37876.49it/s]\u001b[A\n",
      " 41%|████▏     | 72/174 [1:29:48<2:37:03, 92.39s/it]\n",
      "  0%|          | 0/181851 [00:00<?, ?it/s]\u001b[A\n",
      "100%|██████████| 181851/181851 [00:00<00:00, 588534.51it/s]\u001b[A\n",
      "  0%|          | 0/181851 [00:00<?, ?it/s]\u001b[A\n",
      " 36%|███▌      | 64862/181851 [00:00<00:00, 648614.43it/s]"
     ]
    },
    {
     "name": "stdout",
     "output_type": "stream",
     "text": [
      "Sparse dummy orders shape: \n",
      "(181851, 141)\n"
     ]
    },
    {
     "name": "stderr",
     "output_type": "stream",
     "text": [
      "\u001b[A\n",
      " 69%|██████▉   | 125547/181851 [00:00<00:00, 635475.81it/s]\u001b[A\n",
      "100%|██████████| 181851/181851 [00:00<00:00, 621152.30it/s]\u001b[A"
     ]
    },
    {
     "name": "stdout",
     "output_type": "stream",
     "text": [
      "Sparse dummy values shape: \n",
      "(181851, 93)\n"
     ]
    },
    {
     "name": "stderr",
     "output_type": "stream",
     "text": [
      "\n",
      "0it [00:00, ?it/s]\u001b[A\n",
      "3683it [00:00, 36822.57it/s]\u001b[A\n",
      "7459it [00:00, 37096.33it/s]\u001b[A\n",
      "11202it [00:00, 37194.79it/s]\u001b[A\n",
      "14971it [00:00, 37341.46it/s]\u001b[A\n",
      "18798it [00:00, 37612.60it/s]\u001b[A\n",
      "22581it [00:00, 37677.24it/s]\u001b[A\n",
      "26392it [00:00, 37805.83it/s]\u001b[A\n",
      "30179it [00:00, 37820.77it/s]\u001b[A\n",
      "33964it [00:00, 37827.65it/s]\u001b[A\n",
      "37799it [00:01, 37982.12it/s]\u001b[A\n",
      "41581it [00:01, 37932.64it/s]\u001b[A\n",
      "45384it [00:01, 37960.91it/s]\u001b[A\n",
      "49193it [00:01, 37999.45it/s]\u001b[A\n",
      "52996it [00:01, 38007.51it/s]\u001b[A\n",
      "56782it [00:01, 37961.05it/s]\u001b[A\n",
      " 42%|████▏     | 73/174 [1:31:20<2:35:14, 92.23s/it]\n",
      "  0%|          | 0/181851 [00:00<?, ?it/s]\u001b[A\n",
      "100%|██████████| 181851/181851 [00:00<00:00, 589692.97it/s]\u001b[A\n",
      "  0%|          | 0/181851 [00:00<?, ?it/s]\u001b[A\n",
      " 35%|███▌      | 64314/181851 [00:00<00:00, 642884.64it/s]"
     ]
    },
    {
     "name": "stdout",
     "output_type": "stream",
     "text": [
      "Sparse dummy orders shape: \n",
      "(181851, 142)\n"
     ]
    },
    {
     "name": "stderr",
     "output_type": "stream",
     "text": [
      "\u001b[A\n",
      " 69%|██████▊   | 124813/181851 [00:00<00:00, 631025.76it/s]\u001b[A\n",
      "100%|██████████| 181851/181851 [00:00<00:00, 618570.60it/s]\u001b[A"
     ]
    },
    {
     "name": "stdout",
     "output_type": "stream",
     "text": [
      "Sparse dummy values shape: \n",
      "(181851, 93)\n"
     ]
    },
    {
     "name": "stderr",
     "output_type": "stream",
     "text": [
      "\n",
      "0it [00:00, ?it/s]\u001b[A\n",
      "3683it [00:00, 36825.65it/s]\u001b[A\n",
      "7456it [00:00, 37089.74it/s]\u001b[A\n",
      "11246it [00:00, 37328.51it/s]\u001b[A\n",
      "14948it [00:00, 37233.74it/s]\u001b[A\n",
      "18705it [00:00, 37333.57it/s]\u001b[A\n",
      "22459it [00:00, 37395.01it/s]\u001b[A\n",
      "26210it [00:00, 37427.36it/s]\u001b[A\n",
      "30045it [00:00, 37698.30it/s]\u001b[A\n",
      "33750it [00:00, 37497.60it/s]\u001b[A\n",
      "37490it [00:01, 37467.87it/s]\u001b[A\n",
      "41215it [00:01, 37401.53it/s]\u001b[A\n",
      "44963it [00:01, 37423.52it/s]\u001b[A\n",
      "48701it [00:01, 37410.31it/s]\u001b[A\n",
      "52413it [00:01, 37321.62it/s]\u001b[A\n",
      "56212it [00:01, 37518.95it/s]\u001b[A\n",
      " 43%|████▎     | 74/174 [1:32:52<2:33:44, 92.25s/it]\n",
      "  0%|          | 0/181851 [00:00<?, ?it/s]\u001b[A\n",
      "100%|██████████| 181851/181851 [00:00<00:00, 585740.49it/s]\u001b[A\n",
      "  0%|          | 0/181851 [00:00<?, ?it/s]\u001b[A\n",
      " 35%|███▌      | 63661/181851 [00:00<00:00, 636599.98it/s]"
     ]
    },
    {
     "name": "stdout",
     "output_type": "stream",
     "text": [
      "Sparse dummy orders shape: \n",
      "(181851, 142)\n"
     ]
    },
    {
     "name": "stderr",
     "output_type": "stream",
     "text": [
      "\u001b[A\n",
      " 68%|██████▊   | 124301/181851 [00:00<00:00, 627228.51it/s]\u001b[A\n",
      "100%|██████████| 181851/181851 [00:00<00:00, 621311.18it/s]\u001b[A"
     ]
    },
    {
     "name": "stdout",
     "output_type": "stream",
     "text": [
      "Sparse dummy values shape: \n",
      "(181851, 93)\n"
     ]
    },
    {
     "name": "stderr",
     "output_type": "stream",
     "text": [
      "\n",
      "0it [00:00, ?it/s]\u001b[A\n",
      "3764it [00:00, 37635.91it/s]\u001b[A\n",
      "7524it [00:00, 37622.85it/s]\u001b[A\n",
      "11287it [00:00, 37623.23it/s]\u001b[A\n",
      "15075it [00:00, 37697.52it/s]\u001b[A\n",
      "18869it [00:00, 37769.36it/s]\u001b[A\n",
      "22624it [00:00, 37702.48it/s]\u001b[A\n",
      "26467it [00:00, 37917.19it/s]\u001b[A\n",
      "30304it [00:00, 38050.52it/s]\u001b[A\n",
      "34111it [00:00, 38054.93it/s]\u001b[A\n",
      "37984it [00:01, 38254.68it/s]\u001b[A\n",
      "41787it [00:01, 38186.95it/s]\u001b[A\n",
      "45623it [00:01, 38237.24it/s]\u001b[A\n",
      "49455it [00:01, 38261.71it/s]\u001b[A\n",
      "53251it [00:01, 38169.28it/s]\u001b[A\n",
      "57055it [00:01, 38128.58it/s]\u001b[A\n",
      " 43%|████▎     | 75/174 [1:34:25<2:32:27, 92.40s/it]\n",
      "  0%|          | 0/181851 [00:00<?, ?it/s]\u001b[A\n",
      "100%|██████████| 181851/181851 [00:00<00:00, 594122.77it/s]\u001b[A\n",
      "  0%|          | 0/181851 [00:00<?, ?it/s]\u001b[A\n",
      " 36%|███▌      | 65026/181851 [00:00<00:00, 650259.07it/s]"
     ]
    },
    {
     "name": "stdout",
     "output_type": "stream",
     "text": [
      "Sparse dummy orders shape: \n",
      "(181851, 142)\n"
     ]
    },
    {
     "name": "stderr",
     "output_type": "stream",
     "text": [
      "\u001b[A\n",
      " 70%|███████   | 127299/181851 [00:00<00:00, 641745.01it/s]\u001b[A\n",
      "100%|██████████| 181851/181851 [00:00<00:00, 630753.78it/s]\u001b[A"
     ]
    },
    {
     "name": "stdout",
     "output_type": "stream",
     "text": [
      "Sparse dummy values shape: \n",
      "(181851, 93)\n"
     ]
    },
    {
     "name": "stderr",
     "output_type": "stream",
     "text": [
      "\n",
      "0it [00:00, ?it/s]\u001b[A\n",
      "3781it [00:00, 37805.44it/s]\u001b[A\n",
      "7579it [00:00, 37855.41it/s]\u001b[A\n",
      "11365it [00:00, 37855.88it/s]\u001b[A\n",
      "14826it [00:00, 36819.50it/s]\u001b[A\n",
      "18418it [00:00, 36544.17it/s]\u001b[A\n",
      "22143it [00:00, 36750.54it/s]\u001b[A\n",
      "25940it [00:00, 37105.69it/s]\u001b[A\n",
      "29757it [00:00, 37418.55it/s]\u001b[A\n",
      "33554it [00:00, 37581.22it/s]\u001b[A\n",
      "37385it [00:01, 37794.35it/s]\u001b[A\n",
      "41203it [00:01, 37908.72it/s]\u001b[A\n",
      "45045it [00:01, 38059.77it/s]\u001b[A\n",
      "48868it [00:01, 38108.73it/s]\u001b[A\n",
      "52714it [00:01, 38212.01it/s]\u001b[A\n",
      "56536it [00:01, 38213.38it/s]\u001b[A\n",
      " 44%|████▎     | 76/174 [1:35:57<2:30:42, 92.27s/it]\n",
      "  0%|          | 0/181851 [00:00<?, ?it/s]\u001b[A\n",
      "100%|██████████| 181851/181851 [00:00<00:00, 588399.67it/s]\u001b[A\n",
      "  0%|          | 0/181851 [00:00<?, ?it/s]\u001b[A\n",
      " 36%|███▋      | 66010/181851 [00:00<00:00, 660099.06it/s]\u001b[A"
     ]
    },
    {
     "name": "stdout",
     "output_type": "stream",
     "text": [
      "Sparse dummy orders shape: \n",
      "(181851, 146)\n"
     ]
    },
    {
     "name": "stderr",
     "output_type": "stream",
     "text": [
      "\n",
      " 71%|███████   | 129456/181851 [00:00<00:00, 652192.08it/s]\u001b[A\n",
      "100%|██████████| 181851/181851 [00:00<00:00, 643297.36it/s]\u001b[A"
     ]
    },
    {
     "name": "stdout",
     "output_type": "stream",
     "text": [
      "Sparse dummy values shape: \n",
      "(181851, 93)\n"
     ]
    },
    {
     "name": "stderr",
     "output_type": "stream",
     "text": [
      "\n",
      "0it [00:00, ?it/s]\u001b[A\n",
      "3706it [00:00, 37056.15it/s]\u001b[A\n",
      "7428it [00:00, 37103.55it/s]\u001b[A\n",
      "10756it [00:00, 35717.95it/s]\u001b[A\n",
      "14022it [00:00, 34740.50it/s]\u001b[A\n",
      "17333it [00:00, 34234.04it/s]\u001b[A\n",
      "20716it [00:00, 34110.60it/s]\u001b[A\n",
      "24248it [00:00, 34462.52it/s]\u001b[A\n",
      "27804it [00:00, 34781.92it/s]\u001b[A\n",
      "31410it [00:00, 35154.54it/s]\u001b[A\n",
      "35122it [00:01, 35719.77it/s]\u001b[A\n",
      "38780it [00:01, 35971.92it/s]\u001b[A\n",
      "42380it [00:01, 35979.91it/s]\u001b[A\n",
      "46065it [00:01, 36235.51it/s]\u001b[A\n",
      "49800it [00:01, 36561.11it/s]\u001b[A\n",
      "53471it [00:01, 36603.28it/s]\u001b[A\n",
      "57172it [00:01, 36722.02it/s]\u001b[A\n",
      " 44%|████▍     | 77/174 [1:37:29<2:29:20, 92.38s/it]\n",
      "  0%|          | 0/181851 [00:00<?, ?it/s]\u001b[A\n",
      "100%|██████████| 181851/181851 [00:00<00:00, 556810.00it/s]\u001b[A\n",
      "  0%|          | 0/181851 [00:00<?, ?it/s]\u001b[A\n",
      " 35%|███▌      | 64403/181851 [00:00<00:00, 644022.94it/s]"
     ]
    },
    {
     "name": "stdout",
     "output_type": "stream",
     "text": [
      "Sparse dummy orders shape: \n",
      "(181851, 146)\n"
     ]
    },
    {
     "name": "stderr",
     "output_type": "stream",
     "text": [
      "\u001b[A\n",
      " 68%|██████▊   | 124140/181851 [00:00<00:00, 629277.26it/s]\u001b[A\n",
      "100%|██████████| 181851/181851 [00:00<00:00, 612924.84it/s]\u001b[A"
     ]
    },
    {
     "name": "stdout",
     "output_type": "stream",
     "text": [
      "Sparse dummy values shape: \n",
      "(181851, 93)\n"
     ]
    },
    {
     "name": "stderr",
     "output_type": "stream",
     "text": [
      "\n",
      "0it [00:00, ?it/s]\u001b[A\n",
      "3710it [00:00, 37092.96it/s]\u001b[A\n",
      "7474it [00:00, 37254.01it/s]\u001b[A\n",
      "11272it [00:00, 37468.12it/s]\u001b[A\n",
      "15009it [00:00, 37437.86it/s]\u001b[A\n",
      "18763it [00:00, 37468.03it/s]\u001b[A\n",
      "22511it [00:00, 37470.64it/s]\u001b[A\n",
      "26225it [00:00, 37368.74it/s]\u001b[A\n",
      "29900it [00:00, 37178.86it/s]\u001b[A\n",
      "33616it [00:00, 37172.20it/s]\u001b[A\n",
      "37288it [00:01, 37033.54it/s]\u001b[A\n",
      "41038it [00:01, 37169.68it/s]\u001b[A\n",
      "44825it [00:01, 37370.14it/s]\u001b[A\n",
      "48604it [00:01, 37493.82it/s]\u001b[A\n",
      "52318it [00:01, 36661.42it/s]\u001b[A\n",
      "55964it [00:01, 36451.35it/s]\u001b[A\n",
      "59678it [00:01, 36654.61it/s]\u001b[A\n",
      " 45%|████▍     | 78/174 [1:39:03<2:28:23, 92.75s/it]\n",
      "  0%|          | 0/181851 [00:00<?, ?it/s]\u001b[A\n",
      "100%|██████████| 181851/181851 [00:00<00:00, 571089.36it/s]\u001b[A\n",
      "  0%|          | 0/181851 [00:00<?, ?it/s]\u001b[A\n",
      " 36%|███▌      | 64979/181851 [00:00<00:00, 649781.32it/s]"
     ]
    },
    {
     "name": "stdout",
     "output_type": "stream",
     "text": [
      "Sparse dummy orders shape: \n",
      "(181851, 157)\n"
     ]
    },
    {
     "name": "stderr",
     "output_type": "stream",
     "text": [
      "\u001b[A\n",
      " 70%|██████▉   | 126809/181851 [00:00<00:00, 640002.73it/s]\u001b[A\n",
      "100%|██████████| 181851/181851 [00:00<00:00, 621569.40it/s]\u001b[A"
     ]
    },
    {
     "name": "stdout",
     "output_type": "stream",
     "text": [
      "Sparse dummy values shape: \n",
      "(181851, 93)\n"
     ]
    },
    {
     "name": "stderr",
     "output_type": "stream",
     "text": [
      "\n",
      "0it [00:00, ?it/s]\u001b[A\n",
      "3790it [00:00, 37892.90it/s]\u001b[A\n",
      "7585it [00:00, 37909.05it/s]\u001b[A\n",
      "11332it [00:00, 37774.66it/s]\u001b[A\n",
      "15086it [00:00, 37703.64it/s]\u001b[A\n",
      "18843it [00:00, 37662.16it/s]\u001b[A\n",
      "22572it [00:00, 37548.99it/s]\u001b[A\n",
      "26288it [00:00, 37428.89it/s]\u001b[A\n",
      "30003it [00:00, 37343.83it/s]\u001b[A\n",
      "33739it [00:00, 37347.25it/s]\u001b[A\n",
      "37545it [00:01, 37557.02it/s]\u001b[A\n",
      "41405it [00:01, 37862.74it/s]\u001b[A\n",
      "45237it [00:01, 37998.51it/s]\u001b[A\n",
      "49057it [00:01, 38058.66it/s]\u001b[A\n",
      "52827it [00:01, 37819.44it/s]\u001b[A\n",
      "56650it [00:01, 37940.85it/s]\u001b[A\n",
      " 45%|████▌     | 79/174 [1:40:36<2:27:01, 92.86s/it]\n",
      "  0%|          | 0/181851 [00:00<?, ?it/s]\u001b[A\n",
      "100%|██████████| 181851/181851 [00:00<00:00, 587770.32it/s]\u001b[A\n",
      "  0%|          | 0/181851 [00:00<?, ?it/s]\u001b[A\n",
      " 36%|███▌      | 65733/181851 [00:00<00:00, 657321.22it/s]"
     ]
    },
    {
     "name": "stdout",
     "output_type": "stream",
     "text": [
      "Sparse dummy orders shape: \n",
      "(181851, 157)\n"
     ]
    },
    {
     "name": "stderr",
     "output_type": "stream",
     "text": [
      "\u001b[A\n",
      " 71%|███████   | 129404/181851 [00:00<00:00, 650997.85it/s]\u001b[A\n",
      "100%|██████████| 181851/181851 [00:00<00:00, 638589.54it/s]\u001b[A"
     ]
    },
    {
     "name": "stdout",
     "output_type": "stream",
     "text": [
      "Sparse dummy values shape: \n",
      "(181851, 93)\n"
     ]
    },
    {
     "name": "stderr",
     "output_type": "stream",
     "text": [
      "\n",
      "0it [00:00, ?it/s]\u001b[A\n",
      "3697it [00:00, 36959.73it/s]\u001b[A\n",
      "7482it [00:00, 37220.74it/s]\u001b[A\n",
      "11259it [00:00, 37381.91it/s]\u001b[A\n",
      "15039it [00:00, 37502.49it/s]\u001b[A\n",
      "18802it [00:00, 37540.29it/s]\u001b[A\n",
      "22568it [00:00, 37573.75it/s]\u001b[A\n",
      "26325it [00:00, 37572.52it/s]\u001b[A\n",
      "30084it [00:00, 37576.94it/s]\u001b[A\n",
      "33895it [00:00, 37734.10it/s]\u001b[A\n",
      "37704it [00:01, 37838.35it/s]\u001b[A\n",
      "41460it [00:01, 37753.23it/s]\u001b[A\n",
      "45219it [00:01, 37702.01it/s]\u001b[A\n",
      "48999it [00:01, 37728.92it/s]\u001b[A\n",
      "52756it [00:01, 37680.49it/s]\u001b[A\n",
      "56586it [00:01, 37862.15it/s]\u001b[A\n",
      " 46%|████▌     | 80/174 [1:42:09<2:25:23, 92.81s/it]\n",
      "  0%|          | 0/181851 [00:00<?, ?it/s]\u001b[A\n",
      "100%|██████████| 181851/181851 [00:00<00:00, 592588.91it/s]\u001b[A\n",
      "  0%|          | 0/181851 [00:00<?, ?it/s]\u001b[A\n",
      " 35%|███▌      | 64438/181851 [00:00<00:00, 644372.93it/s]"
     ]
    },
    {
     "name": "stdout",
     "output_type": "stream",
     "text": [
      "Sparse dummy orders shape: \n",
      "(181851, 157)\n"
     ]
    },
    {
     "name": "stderr",
     "output_type": "stream",
     "text": [
      "\u001b[A\n",
      " 70%|██████▉   | 127151/181851 [00:00<00:00, 639099.16it/s]\u001b[A\n",
      "100%|██████████| 181851/181851 [00:00<00:00, 629692.01it/s]\u001b[A"
     ]
    },
    {
     "name": "stdout",
     "output_type": "stream",
     "text": [
      "Sparse dummy values shape: \n",
      "(181851, 93)\n"
     ]
    },
    {
     "name": "stderr",
     "output_type": "stream",
     "text": [
      "\n",
      "0it [00:00, ?it/s]\u001b[A\n",
      "3725it [00:00, 37244.89it/s]\u001b[A\n",
      "7488it [00:00, 37357.64it/s]\u001b[A\n",
      "11227it [00:00, 37365.40it/s]\u001b[A\n",
      "15004it [00:00, 37485.77it/s]\u001b[A\n",
      "18726it [00:00, 37404.79it/s]\u001b[A\n",
      "22486it [00:00, 37461.10it/s]\u001b[A\n",
      "26213it [00:00, 37402.45it/s]\u001b[A\n",
      "29987it [00:00, 37501.33it/s]\u001b[A\n",
      "33701it [00:00, 37391.45it/s]\u001b[A\n",
      "37471it [00:01, 37482.61it/s]\u001b[A\n",
      "41343it [00:01, 37843.58it/s]\u001b[A\n",
      "45174it [00:01, 37982.21it/s]\u001b[A\n",
      "48970it [00:01, 37972.92it/s]\u001b[A\n",
      "52779it [00:01, 38006.41it/s]\u001b[A\n",
      "56555it [00:01, 37697.37it/s]\u001b[A\n",
      " 47%|████▋     | 81/174 [1:43:41<2:23:31, 92.60s/it]\n",
      "  0%|          | 0/181851 [00:00<?, ?it/s]\u001b[A\n",
      "100%|██████████| 181851/181851 [00:00<00:00, 586894.74it/s]\u001b[A\n",
      "  0%|          | 0/181851 [00:00<?, ?it/s]\u001b[A\n",
      " 35%|███▌      | 64443/181851 [00:00<00:00, 644426.01it/s]"
     ]
    },
    {
     "name": "stdout",
     "output_type": "stream",
     "text": [
      "Sparse dummy orders shape: \n",
      "(181851, 157)\n"
     ]
    },
    {
     "name": "stderr",
     "output_type": "stream",
     "text": [
      "\u001b[A\n",
      " 70%|██████▉   | 126601/181851 [00:00<00:00, 637396.11it/s]\u001b[A\n",
      "100%|██████████| 181851/181851 [00:00<00:00, 625482.50it/s]\u001b[A"
     ]
    },
    {
     "name": "stdout",
     "output_type": "stream",
     "text": [
      "Sparse dummy values shape: \n",
      "(181851, 93)\n"
     ]
    },
    {
     "name": "stderr",
     "output_type": "stream",
     "text": [
      "\n",
      "0it [00:00, ?it/s]\u001b[A\n",
      "3708it [00:00, 37072.88it/s]\u001b[A\n",
      "7473it [00:00, 37242.89it/s]\u001b[A\n",
      "11225it [00:00, 37322.36it/s]\u001b[A\n",
      "14960it [00:00, 37330.18it/s]\u001b[A\n",
      "18694it [00:00, 37330.81it/s]\u001b[A\n",
      "22393it [00:00, 37227.23it/s]\u001b[A\n",
      "26078it [00:00, 37112.94it/s]\u001b[A\n",
      "29823it [00:00, 37211.00it/s]\u001b[A\n",
      "33569it [00:00, 37285.33it/s]\u001b[A\n",
      "37361it [00:01, 37470.99it/s]\u001b[A\n",
      "41151it [00:01, 37596.62it/s]\u001b[A\n",
      "44924it [00:01, 37635.72it/s]\u001b[A\n",
      "48661it [00:01, 37554.78it/s]\u001b[A\n",
      "52381it [00:01, 37446.38it/s]\u001b[A\n",
      "56144it [00:01, 37500.19it/s]\u001b[A\n",
      "59885it [00:01, 37471.62it/s]\u001b[A\n",
      " 47%|████▋     | 82/174 [1:45:13<2:21:46, 92.46s/it]\n",
      "  0%|          | 0/181851 [00:00<?, ?it/s]\u001b[A\n",
      "100%|██████████| 181851/181851 [00:00<00:00, 580644.27it/s]\u001b[A\n",
      "  0%|          | 0/181851 [00:00<?, ?it/s]\u001b[A\n",
      " 36%|███▌      | 65601/181851 [00:00<00:00, 656005.93it/s]"
     ]
    },
    {
     "name": "stdout",
     "output_type": "stream",
     "text": [
      "Sparse dummy orders shape: \n",
      "(181851, 157)\n"
     ]
    },
    {
     "name": "stderr",
     "output_type": "stream",
     "text": [
      "\u001b[A\n",
      " 71%|███████   | 128939/181851 [00:00<00:00, 649048.03it/s]\u001b[A\n",
      "100%|██████████| 181851/181851 [00:00<00:00, 635092.95it/s]\u001b[A"
     ]
    },
    {
     "name": "stdout",
     "output_type": "stream",
     "text": [
      "Sparse dummy values shape: \n",
      "(181851, 93)\n"
     ]
    },
    {
     "name": "stderr",
     "output_type": "stream",
     "text": [
      "\n",
      "0it [00:00, ?it/s]\u001b[A\n",
      "3744it [00:00, 37438.79it/s]\u001b[A\n",
      "7555it [00:00, 37635.78it/s]\u001b[A\n",
      "11387it [00:00, 37838.24it/s]\u001b[A\n",
      "15203it [00:00, 37932.91it/s]\u001b[A\n",
      "19007it [00:00, 37964.55it/s]\u001b[A\n",
      "22791it [00:00, 37925.13it/s]\u001b[A\n",
      "26546it [00:00, 37809.53it/s]\u001b[A\n",
      "30295it [00:00, 37711.94it/s]\u001b[A\n",
      "34124it [00:00, 37881.55it/s]\u001b[A\n",
      "37992it [00:01, 38115.65it/s]\u001b[A\n",
      "41948it [00:01, 38536.86it/s]\u001b[A\n",
      "45750it [00:01, 38379.45it/s]\u001b[A\n",
      "49538it [00:01, 38093.71it/s]\u001b[A\n",
      "53357it [00:01, 38121.25it/s]\u001b[A\n",
      "57196it [00:01, 38199.61it/s]\u001b[A\n",
      " 48%|████▊     | 83/174 [1:46:46<2:20:34, 92.69s/it]\n",
      "  0%|          | 0/181851 [00:00<?, ?it/s]\u001b[A\n",
      "100%|██████████| 181851/181851 [00:00<00:00, 591477.76it/s]\u001b[A\n",
      "  0%|          | 0/181851 [00:00<?, ?it/s]\u001b[A\n",
      " 36%|███▌      | 65774/181851 [00:00<00:00, 657735.92it/s]"
     ]
    },
    {
     "name": "stdout",
     "output_type": "stream",
     "text": [
      "Sparse dummy orders shape: \n",
      "(181851, 161)\n"
     ]
    },
    {
     "name": "stderr",
     "output_type": "stream",
     "text": [
      "\u001b[A\n",
      " 71%|███████   | 128433/181851 [00:00<00:00, 648071.52it/s]\u001b[A\n",
      "100%|██████████| 181851/181851 [00:00<00:00, 633658.89it/s]\u001b[A"
     ]
    },
    {
     "name": "stdout",
     "output_type": "stream",
     "text": [
      "Sparse dummy values shape: \n",
      "(181851, 93)\n"
     ]
    },
    {
     "name": "stderr",
     "output_type": "stream",
     "text": [
      "\n",
      "0it [00:00, ?it/s]\u001b[A\n",
      "3588it [00:00, 35876.87it/s]\u001b[A\n",
      "7254it [00:00, 36107.06it/s]\u001b[A\n",
      "10953it [00:00, 36366.14it/s]\u001b[A\n",
      "14581it [00:00, 36337.51it/s]\u001b[A\n",
      "18238it [00:00, 36405.19it/s]\u001b[A\n",
      "21994it [00:00, 36742.11it/s]\u001b[A\n",
      "25635it [00:00, 36641.09it/s]\u001b[A\n",
      "29005it [00:00, 35504.80it/s]\u001b[A\n",
      "32657it [00:00, 35800.60it/s]\u001b[A\n",
      "36329it [00:01, 36069.03it/s]\u001b[A\n",
      "39968it [00:01, 36163.58it/s]\u001b[A\n",
      "43599it [00:01, 36204.96it/s]\u001b[A\n",
      "47261it [00:01, 36327.10it/s]\u001b[A\n",
      "50914it [00:01, 36385.10it/s]\u001b[A\n",
      "54631it [00:01, 36616.33it/s]\u001b[A\n",
      "58277it [00:01, 36411.45it/s]\u001b[A\n",
      " 48%|████▊     | 84/174 [1:48:20<2:19:40, 93.12s/it]\n",
      "  0%|          | 0/181851 [00:00<?, ?it/s]\u001b[A\n",
      "100%|██████████| 181851/181851 [00:00<00:00, 563543.29it/s]\u001b[A\n",
      "  0%|          | 0/181851 [00:00<?, ?it/s]\u001b[A\n",
      " 34%|███▍      | 62220/181851 [00:00<00:00, 622199.11it/s]\u001b[A"
     ]
    },
    {
     "name": "stdout",
     "output_type": "stream",
     "text": [
      "Sparse dummy orders shape: \n",
      "(181851, 161)\n"
     ]
    },
    {
     "name": "stderr",
     "output_type": "stream",
     "text": [
      "\n",
      " 67%|██████▋   | 121402/181851 [00:00<00:00, 612761.69it/s]\u001b[A\n",
      " 94%|█████████▎| 170079/181851 [00:00<00:00, 568609.10it/s]\u001b[A\n",
      "100%|██████████| 181851/181851 [00:00<00:00, 563440.47it/s]\u001b[A"
     ]
    },
    {
     "name": "stdout",
     "output_type": "stream",
     "text": [
      "Sparse dummy values shape: \n",
      "(181851, 93)\n"
     ]
    },
    {
     "name": "stderr",
     "output_type": "stream",
     "text": [
      "\n",
      "0it [00:00, ?it/s]\u001b[A\n",
      "3750it [00:00, 37498.87it/s]\u001b[A\n",
      "7553it [00:00, 37656.50it/s]\u001b[A\n",
      "11388it [00:00, 37861.08it/s]\u001b[A\n",
      "15182it [00:00, 37881.05it/s]\u001b[A\n",
      "18983it [00:00, 37917.17it/s]\u001b[A\n",
      "22773it [00:00, 37910.07it/s]\u001b[A\n",
      "26598it [00:00, 38008.81it/s]\u001b[A\n",
      "30412it [00:00, 38045.45it/s]\u001b[A\n",
      "34247it [00:00, 38128.67it/s]\u001b[A\n",
      "38087it [00:01, 38208.48it/s]\u001b[A\n",
      "41834it [00:01, 37981.92it/s]\u001b[A\n",
      "45648it [00:01, 38027.92it/s]\u001b[A\n",
      "49436it [00:01, 37980.82it/s]\u001b[A\n",
      "53198it [00:01, 37835.54it/s]\u001b[A\n",
      "56957it [00:01, 37686.98it/s]\u001b[A\n",
      " 49%|████▉     | 85/174 [1:49:55<2:18:48, 93.58s/it]\n",
      "  0%|          | 0/181851 [00:00<?, ?it/s]\u001b[A\n",
      "100%|██████████| 181851/181851 [00:00<00:00, 585941.17it/s]\u001b[A\n",
      "  0%|          | 0/181851 [00:00<?, ?it/s]\u001b[A\n",
      " 36%|███▌      | 65334/181851 [00:00<00:00, 653332.83it/s]"
     ]
    },
    {
     "name": "stdout",
     "output_type": "stream",
     "text": [
      "Sparse dummy orders shape: \n",
      "(181851, 161)\n"
     ]
    },
    {
     "name": "stderr",
     "output_type": "stream",
     "text": [
      "\u001b[A\n",
      " 71%|███████   | 128938/181851 [00:00<00:00, 648045.35it/s]\u001b[A\n",
      "100%|██████████| 181851/181851 [00:00<00:00, 636064.27it/s]\u001b[A"
     ]
    },
    {
     "name": "stdout",
     "output_type": "stream",
     "text": [
      "Sparse dummy values shape: \n",
      "(181851, 93)\n"
     ]
    },
    {
     "name": "stderr",
     "output_type": "stream",
     "text": [
      "\n",
      "0it [00:00, ?it/s]\u001b[A\n",
      "3777it [00:00, 37767.33it/s]\u001b[A\n",
      "7525it [00:00, 37676.89it/s]\u001b[A\n",
      "11317it [00:00, 37748.32it/s]\u001b[A\n",
      "15094it [00:00, 37752.59it/s]\u001b[A\n",
      "18903it [00:00, 37852.01it/s]\u001b[A\n",
      "22738it [00:00, 37998.12it/s]\u001b[A\n",
      "26569it [00:00, 38089.56it/s]\u001b[A\n",
      "30383it [00:00, 38102.38it/s]\u001b[A\n",
      "34213it [00:00, 38159.07it/s]\u001b[A\n",
      "38046it [00:01, 38208.10it/s]\u001b[A\n",
      "41902it [00:01, 38310.91it/s]\u001b[A\n",
      "45660it [00:01, 38086.55it/s]\u001b[A\n",
      "49452it [00:01, 38035.24it/s]\u001b[A\n",
      "53233it [00:01, 37964.51it/s]\u001b[A\n",
      "57005it [00:01, 37874.83it/s]\u001b[A\n",
      " 49%|████▉     | 86/174 [1:51:27<2:16:36, 93.14s/it]\n",
      "  0%|          | 0/181851 [00:00<?, ?it/s]\u001b[A\n",
      "100%|██████████| 181851/181851 [00:00<00:00, 585490.50it/s]\u001b[A\n",
      "  0%|          | 0/181851 [00:00<?, ?it/s]\u001b[A\n",
      " 36%|███▋      | 65960/181851 [00:00<00:00, 659599.06it/s]"
     ]
    },
    {
     "name": "stdout",
     "output_type": "stream",
     "text": [
      "Sparse dummy orders shape: \n",
      "(181851, 161)\n"
     ]
    },
    {
     "name": "stderr",
     "output_type": "stream",
     "text": [
      "\u001b[A\n",
      " 71%|███████   | 128621/181851 [00:00<00:00, 649342.04it/s]\u001b[A\n",
      "100%|██████████| 181851/181851 [00:00<00:00, 632312.53it/s]\u001b[A"
     ]
    },
    {
     "name": "stdout",
     "output_type": "stream",
     "text": [
      "Sparse dummy values shape: \n",
      "(181851, 93)\n"
     ]
    },
    {
     "name": "stderr",
     "output_type": "stream",
     "text": [
      "\n",
      "0it [00:00, ?it/s]\u001b[A\n",
      "3767it [00:00, 37661.42it/s]\u001b[A\n",
      "7597it [00:00, 37848.29it/s]\u001b[A\n",
      "11398it [00:00, 37895.16it/s]\u001b[A\n",
      "15104it [00:00, 37639.00it/s]\u001b[A\n",
      "18815it [00:00, 37476.22it/s]\u001b[A\n",
      "22519it [00:00, 37343.43it/s]\u001b[A\n",
      "26317it [00:00, 37530.54it/s]\u001b[A\n",
      "30103it [00:00, 37628.46it/s]\u001b[A\n",
      "33871it [00:00, 37641.47it/s]\u001b[A\n",
      "37659it [00:01, 37710.31it/s]\u001b[A\n",
      "41438it [00:01, 37733.06it/s]\u001b[A\n",
      "45184it [00:01, 37647.97it/s]\u001b[A\n",
      "49038it [00:01, 37909.23it/s]\u001b[A\n",
      "52865it [00:01, 38014.73it/s]\u001b[A\n",
      "56642it [00:01, 37937.04it/s]\u001b[A\n",
      " 50%|█████     | 87/174 [1:52:59<2:14:32, 92.78s/it]\n",
      "  0%|          | 0/181851 [00:00<?, ?it/s]\u001b[A\n",
      "100%|██████████| 181851/181851 [00:00<00:00, 587611.83it/s]\u001b[A\n",
      "  0%|          | 0/181851 [00:00<?, ?it/s]\u001b[A\n",
      " 37%|███▋      | 67160/181851 [00:00<00:00, 671595.84it/s]"
     ]
    },
    {
     "name": "stdout",
     "output_type": "stream",
     "text": [
      "Sparse dummy orders shape: \n",
      "(181851, 161)\n"
     ]
    },
    {
     "name": "stderr",
     "output_type": "stream",
     "text": [
      "\u001b[A\n",
      " 72%|███████▏  | 130839/181851 [00:00<00:00, 660754.84it/s]\u001b[A\n",
      "100%|██████████| 181851/181851 [00:00<00:00, 644496.48it/s]\u001b[A"
     ]
    },
    {
     "name": "stdout",
     "output_type": "stream",
     "text": [
      "Sparse dummy values shape: \n",
      "(181851, 93)\n"
     ]
    },
    {
     "name": "stderr",
     "output_type": "stream",
     "text": [
      "\n",
      "0it [00:00, ?it/s]\u001b[A\n",
      "3721it [00:00, 37205.78it/s]\u001b[A\n",
      "7452it [00:00, 37236.33it/s]\u001b[A\n",
      "11184it [00:00, 37260.87it/s]\u001b[A\n",
      "14958it [00:00, 37403.05it/s]\u001b[A\n",
      "18578it [00:00, 37031.55it/s]\u001b[A\n",
      "22398it [00:00, 37373.84it/s]\u001b[A\n",
      "26230it [00:00, 37652.15it/s]\u001b[A\n",
      "30045it [00:00, 37798.08it/s]\u001b[A\n",
      "33846it [00:00, 37860.75it/s]\u001b[A\n",
      "37576it [00:01, 37689.90it/s]\u001b[A\n",
      "41241it [00:01, 37260.81it/s]\u001b[A\n",
      "44937it [00:01, 37167.87it/s]\u001b[A\n",
      "48695it [00:01, 37289.85it/s]\u001b[A\n",
      "52393it [00:01, 37195.05it/s]\u001b[A\n",
      "56088it [00:01, 37069.69it/s]\u001b[A\n",
      "59801it [00:01, 37085.71it/s]\u001b[A\n",
      " 51%|█████     | 88/174 [1:54:31<2:12:45, 92.62s/it]\n",
      "  0%|          | 0/181851 [00:00<?, ?it/s]\u001b[A\n",
      "100%|██████████| 181851/181851 [00:00<00:00, 582684.72it/s]\u001b[A\n",
      "  0%|          | 0/181851 [00:00<?, ?it/s]\u001b[A\n",
      " 36%|███▌      | 64645/181851 [00:00<00:00, 646445.99it/s]"
     ]
    },
    {
     "name": "stdout",
     "output_type": "stream",
     "text": [
      "Sparse dummy orders shape: \n",
      "(181851, 161)\n"
     ]
    },
    {
     "name": "stderr",
     "output_type": "stream",
     "text": [
      "\u001b[A\n",
      " 71%|███████   | 128757/181851 [00:00<00:00, 644838.18it/s]\u001b[A\n",
      "100%|██████████| 181851/181851 [00:00<00:00, 637718.19it/s]\u001b[A"
     ]
    },
    {
     "name": "stdout",
     "output_type": "stream",
     "text": [
      "Sparse dummy values shape: \n",
      "(181851, 93)\n"
     ]
    },
    {
     "name": "stderr",
     "output_type": "stream",
     "text": [
      "\n",
      "0it [00:00, ?it/s]\u001b[A\n",
      "3823it [00:00, 38227.03it/s]\u001b[A\n",
      "7667it [00:00, 38288.94it/s]\u001b[A\n",
      "11514it [00:00, 38340.38it/s]\u001b[A\n",
      "15332it [00:00, 38290.19it/s]\u001b[A\n",
      "19163it [00:00, 38294.99it/s]\u001b[A\n",
      "22996it [00:00, 38305.31it/s]\u001b[A\n",
      "26831it [00:00, 38318.25it/s]\u001b[A\n",
      "30654it [00:00, 38290.15it/s]\u001b[A\n",
      "34447it [00:00, 38180.85it/s]\u001b[A\n",
      "38334it [00:01, 38382.91it/s]\u001b[A\n",
      "42146it [00:01, 38302.82it/s]\u001b[A\n",
      "45987it [00:01, 38334.13it/s]\u001b[A\n",
      "49862it [00:01, 38455.61it/s]\u001b[A\n",
      "53680it [00:01, 38371.64it/s]\u001b[A\n",
      "57492it [00:01, 38293.42it/s]\u001b[A\n",
      " 51%|█████     | 89/174 [1:56:04<2:11:02, 92.50s/it]\n",
      "  0%|          | 0/181851 [00:00<?, ?it/s]\u001b[A\n",
      "100%|██████████| 181851/181851 [00:00<00:00, 513202.42it/s]\u001b[A\n",
      "  0%|          | 0/181851 [00:00<?, ?it/s]\u001b[A\n",
      " 36%|███▋      | 65966/181851 [00:00<00:00, 659659.06it/s]"
     ]
    },
    {
     "name": "stdout",
     "output_type": "stream",
     "text": [
      "Sparse dummy orders shape: \n",
      "(181851, 211)\n"
     ]
    },
    {
     "name": "stderr",
     "output_type": "stream",
     "text": [
      "\u001b[A\n",
      " 70%|███████   | 127837/181851 [00:00<00:00, 646809.22it/s]\u001b[A\n",
      "100%|██████████| 181851/181851 [00:00<00:00, 633005.22it/s]\u001b[A"
     ]
    },
    {
     "name": "stdout",
     "output_type": "stream",
     "text": [
      "Sparse dummy values shape: \n",
      "(181851, 93)\n"
     ]
    },
    {
     "name": "stderr",
     "output_type": "stream",
     "text": [
      "\n",
      "0it [00:00, ?it/s]\u001b[A\n",
      "3706it [00:00, 37050.05it/s]\u001b[A\n",
      "7449it [00:00, 37162.39it/s]\u001b[A\n",
      "11223it [00:00, 37332.92it/s]\u001b[A\n",
      "14973it [00:00, 37380.47it/s]\u001b[A\n",
      "18665it [00:00, 37239.61it/s]\u001b[A\n",
      "22404it [00:00, 37282.35it/s]\u001b[A\n",
      "26138it [00:00, 37299.29it/s]\u001b[A\n",
      "29904it [00:00, 37403.46it/s]\u001b[A\n",
      "33705it [00:00, 37583.07it/s]\u001b[A\n",
      "37502it [00:01, 37695.79it/s]\u001b[A\n",
      "41310it [00:01, 37808.07it/s]\u001b[A\n",
      "45018it [00:01, 37302.43it/s]\u001b[A\n",
      "48699it [00:01, 36934.03it/s]\u001b[A\n",
      "52416it [00:01, 37004.04it/s]\u001b[A\n",
      "56163it [00:01, 37141.46it/s]\u001b[A\n",
      " 52%|█████▏    | 90/174 [1:57:47<2:14:10, 95.84s/it]\n",
      "  0%|          | 0/181851 [00:00<?, ?it/s]\u001b[A\n",
      "100%|██████████| 181851/181851 [00:00<00:00, 497487.82it/s]\u001b[A\n",
      "  0%|          | 0/181851 [00:00<?, ?it/s]\u001b[A\n",
      " 36%|███▌      | 65539/181851 [00:00<00:00, 655382.81it/s]"
     ]
    },
    {
     "name": "stdout",
     "output_type": "stream",
     "text": [
      "Sparse dummy orders shape: \n",
      "(181851, 211)\n"
     ]
    },
    {
     "name": "stderr",
     "output_type": "stream",
     "text": [
      "\u001b[A\n",
      " 71%|███████   | 128710/181851 [00:00<00:00, 648095.98it/s]\u001b[A\n",
      "100%|██████████| 181851/181851 [00:00<00:00, 637714.99it/s]\u001b[A"
     ]
    },
    {
     "name": "stdout",
     "output_type": "stream",
     "text": [
      "Sparse dummy values shape: \n",
      "(181851, 93)\n"
     ]
    },
    {
     "name": "stderr",
     "output_type": "stream",
     "text": [
      "\n",
      "0it [00:00, ?it/s]\u001b[A\n",
      "3744it [00:00, 37432.27it/s]\u001b[A\n",
      "7475it [00:00, 37393.10it/s]\u001b[A\n",
      "11231it [00:00, 37441.40it/s]\u001b[A\n",
      "14941it [00:00, 37337.45it/s]\u001b[A\n",
      "18692it [00:00, 37388.58it/s]\u001b[A\n",
      "22412it [00:00, 37329.51it/s]\u001b[A\n",
      "26139it [00:00, 37310.28it/s]\u001b[A\n",
      "29878it [00:00, 37331.99it/s]\u001b[A\n",
      "33597it [00:00, 37287.87it/s]\u001b[A\n",
      "37405it [00:01, 37521.54it/s]\u001b[A\n",
      "41266it [00:01, 37839.76it/s]\u001b[A\n",
      "45087it [00:01, 37948.52it/s]\u001b[A\n",
      "48846it [00:01, 37839.80it/s]\u001b[A\n",
      "52620it [00:01, 37807.78it/s]\u001b[A\n",
      "56376it [00:01, 37503.14it/s]\u001b[A\n",
      " 52%|█████▏    | 91/174 [1:59:31<2:15:57, 98.29s/it]\n",
      "  0%|          | 0/181851 [00:00<?, ?it/s]\u001b[A\n",
      "100%|██████████| 181851/181851 [00:00<00:00, 491106.74it/s]\u001b[A\n",
      "  0%|          | 0/181851 [00:00<?, ?it/s]\u001b[A\n",
      " 35%|███▌      | 64325/181851 [00:00<00:00, 643241.41it/s]"
     ]
    },
    {
     "name": "stdout",
     "output_type": "stream",
     "text": [
      "Sparse dummy orders shape: \n",
      "(181851, 219)\n"
     ]
    },
    {
     "name": "stderr",
     "output_type": "stream",
     "text": [
      "\u001b[A\n",
      " 70%|██████▉   | 126524/181851 [00:00<00:00, 636714.31it/s]\u001b[A\n",
      "100%|██████████| 181851/181851 [00:00<00:00, 626143.33it/s]\u001b[A"
     ]
    },
    {
     "name": "stdout",
     "output_type": "stream",
     "text": [
      "Sparse dummy values shape: \n",
      "(181851, 93)\n"
     ]
    },
    {
     "name": "stderr",
     "output_type": "stream",
     "text": [
      "\n",
      "0it [00:00, ?it/s]\u001b[A\n",
      "3698it [00:00, 36970.87it/s]\u001b[A\n",
      "7462it [00:00, 37166.72it/s]\u001b[A\n",
      "11219it [00:00, 37286.19it/s]\u001b[A\n",
      "14920it [00:00, 37202.43it/s]\u001b[A\n",
      "18596it [00:00, 37068.22it/s]\u001b[A\n",
      "22433it [00:00, 37447.20it/s]\u001b[A\n",
      "26302it [00:00, 37809.16it/s]\u001b[A\n",
      "30143it [00:00, 37985.26it/s]\u001b[A\n",
      "33977it [00:00, 38089.78it/s]\u001b[A\n",
      "37826it [00:01, 38208.60it/s]\u001b[A\n",
      "41697it [00:01, 38354.97it/s]\u001b[A\n",
      "45500it [00:01, 38254.82it/s]\u001b[A\n",
      "49345it [00:01, 38312.25it/s]\u001b[A\n",
      "53158it [00:01, 38254.60it/s]\u001b[A\n",
      "56995it [00:01, 38286.54it/s]\u001b[A\n",
      " 53%|█████▎    | 92/174 [2:01:16<2:17:09, 100.35s/it]\n",
      "  0%|          | 0/181851 [00:00<?, ?it/s]\u001b[A\n",
      "100%|██████████| 181851/181851 [00:00<00:00, 500409.96it/s]\u001b[A\n",
      "  0%|          | 0/181851 [00:00<?, ?it/s]\u001b[A\n",
      " 36%|███▌      | 65304/181851 [00:00<00:00, 653029.72it/s]\u001b[A"
     ]
    },
    {
     "name": "stdout",
     "output_type": "stream",
     "text": [
      "Sparse dummy orders shape: \n",
      "(181851, 228)\n"
     ]
    },
    {
     "name": "stderr",
     "output_type": "stream",
     "text": [
      "\n",
      " 70%|██████▉   | 127087/181851 [00:00<00:00, 642053.55it/s]\u001b[A\n",
      "100%|██████████| 181851/181851 [00:00<00:00, 626433.88it/s]\u001b[A"
     ]
    },
    {
     "name": "stdout",
     "output_type": "stream",
     "text": [
      "Sparse dummy values shape: \n",
      "(181851, 93)\n"
     ]
    },
    {
     "name": "stderr",
     "output_type": "stream",
     "text": [
      "\n",
      "0it [00:00, ?it/s]\u001b[A\n",
      "3783it [00:00, 37820.48it/s]\u001b[A\n",
      "7647it [00:00, 38060.47it/s]\u001b[A\n",
      "11558it [00:00, 38369.03it/s]\u001b[A\n",
      "15382it [00:00, 38329.31it/s]\u001b[A\n",
      "19224it [00:00, 38356.45it/s]\u001b[A\n",
      "23057it [00:00, 38347.51it/s]\u001b[A\n",
      "26909it [00:00, 38397.93it/s]\u001b[A\n",
      "30747it [00:00, 38389.67it/s]\u001b[A\n",
      "34574it [00:00, 38353.02it/s]\u001b[A\n",
      "38467it [00:01, 38522.38it/s]\u001b[A\n",
      "42387it [00:01, 38720.77it/s]\u001b[A\n",
      "46263it [00:01, 38732.24it/s]\u001b[A\n",
      "50155it [00:01, 38787.97it/s]\u001b[A\n",
      "54005it [00:01, 38700.28it/s]\u001b[A\n",
      "57856it [00:01, 38642.59it/s]\u001b[A\n",
      " 53%|█████▎    | 93/174 [2:03:01<2:17:11, 101.62s/it]\n",
      "  0%|          | 0/181851 [00:00<?, ?it/s]\u001b[A\n",
      "100%|██████████| 181851/181851 [00:00<00:00, 513249.39it/s]\u001b[A\n",
      "  0%|          | 0/181851 [00:00<?, ?it/s]\u001b[A\n",
      " 36%|███▌      | 65868/181851 [00:00<00:00, 658671.21it/s]"
     ]
    },
    {
     "name": "stdout",
     "output_type": "stream",
     "text": [
      "Sparse dummy orders shape: \n",
      "(181851, 232)\n"
     ]
    },
    {
     "name": "stderr",
     "output_type": "stream",
     "text": [
      "\u001b[A\n",
      " 71%|███████▏  | 129596/181851 [00:00<00:00, 652101.41it/s]\u001b[A\n",
      "100%|██████████| 181851/181851 [00:00<00:00, 635539.05it/s]\u001b[A"
     ]
    },
    {
     "name": "stdout",
     "output_type": "stream",
     "text": [
      "Sparse dummy values shape: \n",
      "(181851, 93)\n"
     ]
    },
    {
     "name": "stderr",
     "output_type": "stream",
     "text": [
      "\n",
      "0it [00:00, ?it/s]\u001b[A\n",
      "3720it [00:00, 37192.23it/s]\u001b[A\n",
      "7491it [00:00, 37345.78it/s]\u001b[A\n",
      "11302it [00:00, 37571.64it/s]\u001b[A\n",
      "15052it [00:00, 37547.92it/s]\u001b[A\n",
      "18795it [00:00, 37512.45it/s]\u001b[A\n",
      "22610it [00:00, 37700.25it/s]\u001b[A\n",
      "26376it [00:00, 37685.83it/s]\u001b[A\n",
      "30121it [00:00, 37613.67it/s]\u001b[A\n",
      "33883it [00:00, 37614.56it/s]\u001b[A\n",
      "37721it [00:01, 37838.79it/s]\u001b[A\n",
      "41527it [00:01, 37902.35it/s]\u001b[A\n",
      "45303it [00:01, 37858.90it/s]\u001b[A\n",
      "49104it [00:01, 37902.65it/s]\u001b[A\n",
      "52884it [00:01, 37871.08it/s]\u001b[A\n",
      "56647it [00:01, 37754.63it/s]\u001b[A\n",
      " 54%|█████▍    | 94/174 [2:04:46<2:16:43, 102.54s/it]\n",
      "  0%|          | 0/181851 [00:00<?, ?it/s]\u001b[A\n",
      "100%|██████████| 181851/181851 [00:00<00:00, 509341.49it/s]\u001b[A\n",
      "  0%|          | 0/181851 [00:00<?, ?it/s]\u001b[A\n",
      " 36%|███▋      | 66337/181851 [00:00<00:00, 663369.05it/s]"
     ]
    },
    {
     "name": "stdout",
     "output_type": "stream",
     "text": [
      "Sparse dummy orders shape: \n",
      "(181851, 234)\n"
     ]
    },
    {
     "name": "stderr",
     "output_type": "stream",
     "text": [
      "\u001b[A\n",
      " 71%|███████▏  | 129650/181851 [00:00<00:00, 653997.55it/s]\u001b[A\n",
      "100%|██████████| 181851/181851 [00:00<00:00, 640158.84it/s]\u001b[A"
     ]
    },
    {
     "name": "stdout",
     "output_type": "stream",
     "text": [
      "Sparse dummy values shape: \n",
      "(181851, 93)\n"
     ]
    },
    {
     "name": "stderr",
     "output_type": "stream",
     "text": [
      "\n",
      "0it [00:00, ?it/s]\u001b[A\n",
      "3783it [00:00, 37829.04it/s]\u001b[A\n",
      "7643it [00:00, 38056.98it/s]\u001b[A\n",
      "11483it [00:00, 38157.54it/s]\u001b[A\n",
      "15302it [00:00, 38165.27it/s]\u001b[A\n",
      "19090it [00:00, 38079.00it/s]\u001b[A\n",
      "22895it [00:00, 38068.78it/s]\u001b[A\n",
      "26788it [00:00, 38321.40it/s]\u001b[A\n",
      "30603it [00:00, 38267.88it/s]\u001b[A\n",
      "34406it [00:00, 38195.28it/s]\u001b[A\n",
      "38186it [00:01, 38074.01it/s]\u001b[A\n",
      "42075it [00:01, 38313.55it/s]\u001b[A\n",
      "45833it [00:01, 38059.25it/s]\u001b[A\n",
      "49631it [00:01, 38032.53it/s]\u001b[A\n",
      "53486it [00:01, 38183.91it/s]\u001b[A\n",
      "57280it [00:01, 36655.73it/s]\u001b[A\n",
      " 55%|█████▍    | 95/174 [2:06:31<2:15:59, 103.28s/it]\n",
      "  0%|          | 0/181851 [00:00<?, ?it/s]\u001b[A\n",
      "100%|██████████| 181851/181851 [00:00<00:00, 490285.03it/s]\u001b[A\n",
      "  0%|          | 0/181851 [00:00<?, ?it/s]\u001b[A\n",
      " 35%|███▌      | 64092/181851 [00:00<00:00, 640912.97it/s]"
     ]
    },
    {
     "name": "stdout",
     "output_type": "stream",
     "text": [
      "Sparse dummy orders shape: \n",
      "(181851, 238)\n"
     ]
    },
    {
     "name": "stderr",
     "output_type": "stream",
     "text": [
      "\u001b[A\n",
      " 70%|██████▉   | 126857/181851 [00:00<00:00, 636874.86it/s]\u001b[A\n",
      "100%|██████████| 181851/181851 [00:00<00:00, 624364.78it/s]\u001b[A"
     ]
    },
    {
     "name": "stdout",
     "output_type": "stream",
     "text": [
      "Sparse dummy values shape: \n",
      "(181851, 93)\n"
     ]
    },
    {
     "name": "stderr",
     "output_type": "stream",
     "text": [
      "\n",
      "0it [00:00, ?it/s]\u001b[A\n",
      "3743it [00:00, 37424.24it/s]\u001b[A\n",
      "7551it [00:00, 37616.65it/s]\u001b[A\n",
      "11326it [00:00, 37654.58it/s]\u001b[A\n",
      "15125it [00:00, 37752.58it/s]\u001b[A\n",
      "18840it [00:00, 37568.23it/s]\u001b[A\n",
      "22659it [00:00, 37750.74it/s]\u001b[A\n",
      "26501it [00:00, 37946.38it/s]\u001b[A\n",
      "30286it [00:00, 37915.66it/s]\u001b[A\n",
      "34053it [00:00, 37840.63it/s]\u001b[A\n",
      "37801it [00:01, 37730.70it/s]\u001b[A\n",
      "41560it [00:01, 37686.41it/s]\u001b[A\n",
      "45350it [00:01, 37747.99it/s]\u001b[A\n",
      "49092it [00:01, 37648.59it/s]\u001b[A\n",
      "52930it [00:01, 37864.90it/s]\u001b[A\n",
      "56714it [00:01, 37855.02it/s]\u001b[A\n",
      " 55%|█████▌    | 96/174 [2:08:16<2:15:02, 103.88s/it]\n",
      "  0%|          | 0/181851 [00:00<?, ?it/s]\u001b[A\n",
      "100%|██████████| 181851/181851 [00:00<00:00, 501885.43it/s]\u001b[A\n",
      "  0%|          | 0/181851 [00:00<?, ?it/s]\u001b[A\n",
      " 36%|███▌      | 65279/181851 [00:00<00:00, 652784.40it/s]"
     ]
    },
    {
     "name": "stdout",
     "output_type": "stream",
     "text": [
      "Sparse dummy orders shape: \n",
      "(181851, 240)\n"
     ]
    },
    {
     "name": "stderr",
     "output_type": "stream",
     "text": [
      "\u001b[A\n",
      " 71%|███████   | 128502/181851 [00:00<00:00, 646477.40it/s]\u001b[A\n",
      "100%|██████████| 181851/181851 [00:00<00:00, 636182.58it/s]\u001b[A"
     ]
    },
    {
     "name": "stdout",
     "output_type": "stream",
     "text": [
      "Sparse dummy values shape: \n",
      "(181851, 93)\n"
     ]
    },
    {
     "name": "stderr",
     "output_type": "stream",
     "text": [
      "\n",
      "0it [00:00, ?it/s]\u001b[A\n",
      "3698it [00:00, 36971.40it/s]\u001b[A\n",
      "7466it [00:00, 37179.73it/s]\u001b[A\n",
      "11244it [00:00, 37356.70it/s]\u001b[A\n",
      "15022it [00:00, 37481.72it/s]\u001b[A\n",
      "18812it [00:00, 37604.75it/s]\u001b[A\n",
      "22590it [00:00, 37655.50it/s]\u001b[A\n",
      "26390it [00:00, 37756.40it/s]\u001b[A\n",
      "30169it [00:00, 37766.24it/s]\u001b[A\n",
      "34019it [00:00, 37981.71it/s]\u001b[A\n",
      "37829it [00:01, 38015.12it/s]\u001b[A\n",
      "41648it [00:01, 38066.26it/s]\u001b[A\n",
      "45420it [00:01, 37960.85it/s]\u001b[A\n",
      "49248it [00:01, 38055.59it/s]\u001b[A\n",
      "53052it [00:01, 38048.55it/s]\u001b[A\n",
      "56874it [00:01, 38098.45it/s]\u001b[A\n",
      " 56%|█████▌    | 97/174 [2:10:00<2:13:29, 104.02s/it]\n",
      "  0%|          | 0/181851 [00:00<?, ?it/s]\u001b[A\n",
      "100%|██████████| 181851/181851 [00:00<00:00, 512477.96it/s]\u001b[A\n",
      "  0%|          | 0/181851 [00:00<?, ?it/s]\u001b[A\n",
      " 36%|███▌      | 64635/181851 [00:00<00:00, 646344.45it/s]"
     ]
    },
    {
     "name": "stdout",
     "output_type": "stream",
     "text": [
      "Sparse dummy orders shape: \n",
      "(181851, 244)\n"
     ]
    },
    {
     "name": "stderr",
     "output_type": "stream",
     "text": [
      "\u001b[A\n",
      " 71%|███████   | 128561/181851 [00:00<00:00, 644200.55it/s]\u001b[A\n",
      "100%|██████████| 181851/181851 [00:00<00:00, 633883.75it/s]\u001b[A"
     ]
    },
    {
     "name": "stdout",
     "output_type": "stream",
     "text": [
      "Sparse dummy values shape: \n",
      "(181851, 93)\n"
     ]
    },
    {
     "name": "stderr",
     "output_type": "stream",
     "text": [
      "\n",
      "0it [00:00, ?it/s]\u001b[A\n",
      "3735it [00:00, 37348.08it/s]\u001b[A\n",
      "7536it [00:00, 37542.29it/s]\u001b[A\n",
      "11330it [00:00, 37657.88it/s]\u001b[A\n",
      "15090it [00:00, 37638.00it/s]\u001b[A\n",
      "18806it [00:00, 37491.27it/s]\u001b[A\n",
      "22528it [00:00, 37408.03it/s]\u001b[A\n",
      "26290it [00:00, 37470.63it/s]\u001b[A\n",
      "30034it [00:00, 37458.82it/s]\u001b[A\n",
      "33816it [00:00, 37563.84it/s]\u001b[A\n",
      "37583it [00:01, 37595.59it/s]\u001b[A\n",
      "41325it [00:01, 37540.24it/s]\u001b[A\n",
      "45090it [00:01, 37570.65it/s]\u001b[A\n",
      "48838it [00:01, 37540.97it/s]\u001b[A\n",
      "52598it [00:01, 37556.42it/s]\u001b[A\n",
      "56329it [00:01, 37428.69it/s]\u001b[A\n",
      " 56%|█████▋    | 98/174 [2:11:45<2:11:55, 104.16s/it]\n",
      "  0%|          | 0/181851 [00:00<?, ?it/s]\u001b[A\n",
      "100%|██████████| 181851/181851 [00:00<00:00, 504087.53it/s]\u001b[A\n",
      "  0%|          | 0/181851 [00:00<?, ?it/s]\u001b[A\n",
      " 36%|███▌      | 65780/181851 [00:00<00:00, 657794.35it/s]"
     ]
    },
    {
     "name": "stdout",
     "output_type": "stream",
     "text": [
      "Sparse dummy orders shape: \n",
      "(181851, 244)\n"
     ]
    },
    {
     "name": "stderr",
     "output_type": "stream",
     "text": [
      "\u001b[A\n",
      " 71%|███████   | 129026/181851 [00:00<00:00, 649982.23it/s]\u001b[A\n",
      "100%|██████████| 181851/181851 [00:00<00:00, 636951.32it/s]\u001b[A"
     ]
    },
    {
     "name": "stdout",
     "output_type": "stream",
     "text": [
      "Sparse dummy values shape: \n",
      "(181851, 93)\n"
     ]
    },
    {
     "name": "stderr",
     "output_type": "stream",
     "text": [
      "\n",
      "0it [00:00, ?it/s]\u001b[A\n",
      "3759it [00:00, 37586.45it/s]\u001b[A\n",
      "7524it [00:00, 37602.87it/s]\u001b[A\n",
      "11281it [00:00, 37590.46it/s]\u001b[A\n",
      "15056it [00:00, 37635.56it/s]\u001b[A\n",
      "18849it [00:00, 37722.94it/s]\u001b[A\n",
      "22576it [00:00, 37585.46it/s]\u001b[A\n",
      "26306it [00:00, 37498.21it/s]\u001b[A\n",
      "29795it [00:00, 36674.75it/s]\u001b[A\n",
      "33498it [00:00, 36778.58it/s]\u001b[A\n",
      "37232it [00:01, 36944.82it/s]\u001b[A\n",
      "40965it [00:01, 37058.83it/s]\u001b[A\n",
      "44658it [00:01, 37017.92it/s]\u001b[A\n",
      "48352it [00:01, 36992.14it/s]\u001b[A\n",
      "52058it [00:01, 37012.08it/s]\u001b[A\n",
      "55755it [00:01, 36996.47it/s]\u001b[A\n",
      "59438it [00:01, 36879.54it/s]\u001b[A\n",
      " 57%|█████▋    | 99/174 [2:13:28<2:09:57, 103.97s/it]\n",
      "  0%|          | 0/181851 [00:00<?, ?it/s]\u001b[A\n",
      "100%|██████████| 181851/181851 [00:00<00:00, 488415.76it/s]\u001b[A\n",
      "  0%|          | 0/181851 [00:00<?, ?it/s]\u001b[A\n",
      " 36%|███▌      | 65077/181851 [00:00<00:00, 650708.56it/s]"
     ]
    },
    {
     "name": "stdout",
     "output_type": "stream",
     "text": [
      "Sparse dummy orders shape: \n",
      "(181851, 244)\n"
     ]
    },
    {
     "name": "stderr",
     "output_type": "stream",
     "text": [
      "\u001b[A\n",
      " 71%|███████   | 129309/181851 [00:00<00:00, 648166.46it/s]\u001b[A\n",
      "100%|██████████| 181851/181851 [00:00<00:00, 637172.14it/s]\u001b[A"
     ]
    },
    {
     "name": "stdout",
     "output_type": "stream",
     "text": [
      "Sparse dummy values shape: \n",
      "(181851, 93)\n"
     ]
    },
    {
     "name": "stderr",
     "output_type": "stream",
     "text": [
      "\n",
      "0it [00:00, ?it/s]\u001b[A\n",
      "3719it [00:00, 37183.65it/s]\u001b[A\n",
      "7466it [00:00, 37268.44it/s]\u001b[A\n",
      "11235it [00:00, 37393.03it/s]\u001b[A\n",
      "14987it [00:00, 37429.06it/s]\u001b[A\n",
      "18741it [00:00, 37461.35it/s]\u001b[A\n",
      "22492it [00:00, 37475.75it/s]\u001b[A\n",
      "26259it [00:00, 37532.04it/s]\u001b[A\n",
      "30039it [00:00, 37610.00it/s]\u001b[A\n",
      "33586it [00:00, 36396.39it/s]\u001b[A\n",
      "37104it [00:01, 36020.10it/s]\u001b[A\n",
      "40616it [00:01, 35622.04it/s]\u001b[A\n",
      "44111it [00:01, 34874.97it/s]\u001b[A\n",
      "47619it [00:01, 34933.90it/s]\u001b[A\n",
      "51168it [00:01, 35096.86it/s]\u001b[A\n",
      "54806it [00:01, 35470.53it/s]\u001b[A\n",
      "58566it [00:01, 36083.37it/s]\u001b[A\n",
      " 57%|█████▋    | 100/174 [2:15:13<2:08:37, 104.29s/it]\n",
      "  0%|          | 0/181851 [00:00<?, ?it/s]\u001b[A\n",
      "100%|██████████| 181851/181851 [00:00<00:00, 503326.11it/s]\u001b[A\n",
      "  0%|          | 0/181851 [00:00<?, ?it/s]\u001b[A\n",
      " 36%|███▌      | 65154/181851 [00:00<00:00, 651534.41it/s]"
     ]
    },
    {
     "name": "stdout",
     "output_type": "stream",
     "text": [
      "Sparse dummy orders shape: \n",
      "(181851, 244)\n"
     ]
    },
    {
     "name": "stderr",
     "output_type": "stream",
     "text": [
      "\u001b[A\n",
      " 71%|███████   | 128848/181851 [00:00<00:00, 647086.06it/s]\u001b[A\n",
      "100%|██████████| 181851/181851 [00:00<00:00, 636655.72it/s]\u001b[A"
     ]
    },
    {
     "name": "stdout",
     "output_type": "stream",
     "text": [
      "Sparse dummy values shape: \n",
      "(181851, 93)\n"
     ]
    },
    {
     "name": "stderr",
     "output_type": "stream",
     "text": [
      "\n",
      "0it [00:00, ?it/s]\u001b[A\n",
      "3757it [00:00, 37566.18it/s]\u001b[A\n",
      "7557it [00:00, 37693.69it/s]\u001b[A\n",
      "11346it [00:00, 37752.35it/s]\u001b[A\n",
      "15148it [00:00, 37827.50it/s]\u001b[A\n",
      "18945it [00:00, 37869.07it/s]\u001b[A\n",
      "22744it [00:00, 37902.73it/s]\u001b[A\n",
      "26533it [00:00, 37897.70it/s]\u001b[A\n",
      "30393it [00:00, 38103.26it/s]\u001b[A\n",
      "34010it [00:00, 37500.21it/s]\u001b[A\n",
      "37647it [00:01, 37152.74it/s]\u001b[A\n",
      "41390it [00:01, 37234.94it/s]\u001b[A\n",
      "45157it [00:01, 37362.55it/s]\u001b[A\n",
      "48921it [00:01, 37444.38it/s]\u001b[A\n",
      "52680it [00:01, 37487.80it/s]\u001b[A\n",
      "56434it [00:01, 37501.66it/s]\u001b[A\n",
      " 58%|█████▊    | 101/174 [2:16:58<2:06:55, 104.32s/it]\n",
      "  0%|          | 0/181851 [00:00<?, ?it/s]\u001b[A\n",
      "100%|██████████| 181851/181851 [00:00<00:00, 489359.91it/s]\u001b[A\n",
      "  0%|          | 0/181851 [00:00<?, ?it/s]\u001b[A\n",
      " 36%|███▌      | 65314/181851 [00:00<00:00, 653135.95it/s]"
     ]
    },
    {
     "name": "stdout",
     "output_type": "stream",
     "text": [
      "Sparse dummy orders shape: \n",
      "(181851, 252)\n"
     ]
    },
    {
     "name": "stderr",
     "output_type": "stream",
     "text": [
      "\u001b[A\n",
      " 71%|███████   | 128374/181851 [00:00<00:00, 646207.55it/s]\u001b[A\n",
      "100%|██████████| 181851/181851 [00:00<00:00, 630618.71it/s]\u001b[A"
     ]
    },
    {
     "name": "stdout",
     "output_type": "stream",
     "text": [
      "Sparse dummy values shape: \n",
      "(181851, 93)\n"
     ]
    },
    {
     "name": "stderr",
     "output_type": "stream",
     "text": [
      "\n",
      "0it [00:00, ?it/s]\u001b[A\n",
      "3776it [00:00, 37756.53it/s]\u001b[A\n",
      "7571it [00:00, 37813.19it/s]\u001b[A\n",
      "11381it [00:00, 37897.38it/s]\u001b[A\n",
      "15188it [00:00, 37947.74it/s]\u001b[A\n",
      "18994it [00:00, 37978.65it/s]\u001b[A\n",
      "22756it [00:00, 37869.48it/s]\u001b[A\n",
      "26584it [00:00, 37989.94it/s]\u001b[A\n",
      "30445it [00:00, 38172.30it/s]\u001b[A\n",
      "34301it [00:00, 38284.97it/s]\u001b[A\n",
      "38134it [00:01, 38298.07it/s]\u001b[A\n",
      "41858it [00:01, 37395.44it/s]\u001b[A\n",
      "45611it [00:01, 37434.57it/s]\u001b[A\n",
      "49306it [00:01, 36903.80it/s]\u001b[A\n",
      "53176it [00:01, 37422.20it/s]\u001b[A\n",
      "56898it [00:01, 37107.90it/s]\u001b[A\n",
      " 59%|█████▊    | 102/174 [2:18:42<2:05:19, 104.44s/it]\n",
      "  0%|          | 0/181851 [00:00<?, ?it/s]\u001b[A\n",
      "100%|██████████| 181851/181851 [00:00<00:00, 513095.75it/s]\u001b[A\n",
      "  0%|          | 0/181851 [00:00<?, ?it/s]\u001b[A\n",
      " 37%|███▋      | 67651/181851 [00:00<00:00, 676509.03it/s]"
     ]
    },
    {
     "name": "stdout",
     "output_type": "stream",
     "text": [
      "Sparse dummy orders shape: \n",
      "(181851, 252)\n"
     ]
    },
    {
     "name": "stderr",
     "output_type": "stream",
     "text": [
      "\u001b[A\n",
      " 72%|███████▏  | 130336/181851 [00:00<00:00, 660802.57it/s]\u001b[A\n",
      "100%|██████████| 181851/181851 [00:00<00:00, 641112.86it/s]\u001b[A"
     ]
    },
    {
     "name": "stdout",
     "output_type": "stream",
     "text": [
      "Sparse dummy values shape: \n",
      "(181851, 93)\n"
     ]
    },
    {
     "name": "stderr",
     "output_type": "stream",
     "text": [
      "\n",
      "0it [00:00, ?it/s]\u001b[A\n",
      "3696it [00:00, 36955.37it/s]\u001b[A\n",
      "7446it [00:00, 37116.57it/s]\u001b[A\n",
      "11212it [00:00, 37277.40it/s]\u001b[A\n",
      "14931it [00:00, 37248.61it/s]\u001b[A\n",
      "18692it [00:00, 37353.79it/s]\u001b[A\n",
      "22409it [00:00, 37297.48it/s]\u001b[A\n",
      "26145it [00:00, 37316.04it/s]\u001b[A\n",
      "29906it [00:00, 37402.64it/s]\u001b[A\n",
      "33681it [00:00, 37503.41it/s]\u001b[A\n",
      "37470it [00:01, 37618.33it/s]\u001b[A\n",
      "41228it [00:01, 37606.08it/s]\u001b[A\n",
      "44969it [00:01, 37544.71it/s]\u001b[A\n",
      "48689it [00:01, 37439.45it/s]\u001b[A\n",
      "52448it [00:01, 37482.81it/s]\u001b[A\n",
      "56172it [00:01, 37376.19it/s]\u001b[A\n",
      "59912it [00:01, 37383.20it/s]\u001b[A\n",
      " 59%|█████▉    | 103/174 [2:20:26<2:03:27, 104.32s/it]\n",
      "  0%|          | 0/181851 [00:00<?, ?it/s]\u001b[A\n",
      "100%|██████████| 181851/181851 [00:00<00:00, 512515.15it/s]\u001b[A\n",
      "  0%|          | 0/181851 [00:00<?, ?it/s]\u001b[A\n",
      " 37%|███▋      | 66751/181851 [00:00<00:00, 667501.09it/s]"
     ]
    },
    {
     "name": "stdout",
     "output_type": "stream",
     "text": [
      "Sparse dummy orders shape: \n",
      "(181851, 252)\n"
     ]
    },
    {
     "name": "stderr",
     "output_type": "stream",
     "text": [
      "\u001b[A\n",
      " 73%|███████▎  | 132167/181851 [00:00<00:00, 663439.28it/s]\u001b[A\n",
      "100%|██████████| 181851/181851 [00:00<00:00, 652359.76it/s]\u001b[A"
     ]
    },
    {
     "name": "stdout",
     "output_type": "stream",
     "text": [
      "Sparse dummy values shape: \n",
      "(181851, 93)\n"
     ]
    },
    {
     "name": "stderr",
     "output_type": "stream",
     "text": [
      "\n",
      "0it [00:00, ?it/s]\u001b[A\n",
      "3692it [00:00, 36914.84it/s]\u001b[A\n",
      "7426it [00:00, 37039.23it/s]\u001b[A\n",
      "11172it [00:00, 37162.78it/s]\u001b[A\n",
      "14906it [00:00, 37213.18it/s]\u001b[A\n",
      "18627it [00:00, 37209.31it/s]\u001b[A\n",
      "22332it [00:00, 37160.88it/s]\u001b[A\n",
      "26076it [00:00, 37241.91it/s]\u001b[A\n",
      "29839it [00:00, 37356.79it/s]\u001b[A\n",
      "33544it [00:00, 37263.37it/s]\u001b[A\n",
      "37248it [00:01, 37194.51it/s]\u001b[A\n",
      "40912it [00:01, 37026.12it/s]\u001b[A\n",
      "44613it [00:01, 37021.24it/s]\u001b[A\n",
      "48265it [00:01, 36866.86it/s]\u001b[A\n",
      "52022it [00:01, 37071.24it/s]\u001b[A\n",
      "55786it [00:01, 37238.17it/s]\u001b[A\n",
      "59555it [00:01, 37372.53it/s]\u001b[A\n",
      " 60%|█████▉    | 104/174 [2:22:11<2:01:38, 104.27s/it]\n",
      "  0%|          | 0/181851 [00:00<?, ?it/s]\u001b[A\n",
      "100%|██████████| 181851/181851 [00:00<00:00, 500298.36it/s]\u001b[A\n",
      "  0%|          | 0/181851 [00:00<?, ?it/s]\u001b[A\n",
      " 36%|███▋      | 65949/181851 [00:00<00:00, 659481.19it/s]"
     ]
    },
    {
     "name": "stdout",
     "output_type": "stream",
     "text": [
      "Sparse dummy orders shape: \n",
      "(181851, 254)\n"
     ]
    },
    {
     "name": "stderr",
     "output_type": "stream",
     "text": [
      "\u001b[A\n",
      " 71%|███████▏  | 130004/181851 [00:00<00:00, 653683.66it/s]\u001b[A\n",
      "100%|██████████| 181851/181851 [00:00<00:00, 639214.62it/s]\u001b[A"
     ]
    },
    {
     "name": "stdout",
     "output_type": "stream",
     "text": [
      "Sparse dummy values shape: \n",
      "(181851, 93)\n"
     ]
    },
    {
     "name": "stderr",
     "output_type": "stream",
     "text": [
      "\n",
      "0it [00:00, ?it/s]\u001b[A\n",
      "3668it [00:00, 36677.76it/s]\u001b[A\n",
      "7367it [00:00, 36770.47it/s]\u001b[A\n",
      "11060it [00:00, 36816.54it/s]\u001b[A\n",
      "14771it [00:00, 36902.58it/s]\u001b[A\n",
      "18502it [00:00, 37021.70it/s]\u001b[A\n",
      "22292it [00:00, 37278.30it/s]\u001b[A\n",
      "26094it [00:00, 37496.15it/s]\u001b[A\n",
      "29543it [00:00, 36151.03it/s]\u001b[A\n",
      "33133it [00:00, 36072.62it/s]\u001b[A\n",
      "36600it [00:01, 35633.68it/s]\u001b[A\n",
      "40144it [00:01, 35574.34it/s]\u001b[A\n",
      "43681it [00:01, 35510.79it/s]\u001b[A\n",
      "47198it [00:01, 35407.77it/s]\u001b[A\n",
      "50706it [00:01, 34929.67it/s]\u001b[A\n",
      "54416it [00:01, 35545.84it/s]\u001b[A\n",
      "58057it [00:01, 35798.98it/s]\u001b[A\n",
      " 60%|██████    | 105/174 [2:23:55<2:00:07, 104.45s/it]\n",
      "  0%|          | 0/181851 [00:00<?, ?it/s]\u001b[A\n",
      "100%|██████████| 181851/181851 [00:00<00:00, 501240.64it/s]\u001b[A\n",
      "  0%|          | 0/181851 [00:00<?, ?it/s]\u001b[A\n",
      " 37%|███▋      | 66607/181851 [00:00<00:00, 666069.05it/s]"
     ]
    },
    {
     "name": "stdout",
     "output_type": "stream",
     "text": [
      "Sparse dummy orders shape: \n",
      "(181851, 254)\n"
     ]
    },
    {
     "name": "stderr",
     "output_type": "stream",
     "text": [
      "\u001b[A\n",
      " 73%|███████▎  | 131915/181851 [00:00<00:00, 662117.64it/s]\u001b[A\n",
      "100%|██████████| 181851/181851 [00:00<00:00, 649391.06it/s]\u001b[A"
     ]
    },
    {
     "name": "stdout",
     "output_type": "stream",
     "text": [
      "Sparse dummy values shape: \n",
      "(181851, 93)\n"
     ]
    },
    {
     "name": "stderr",
     "output_type": "stream",
     "text": [
      "\n",
      "0it [00:00, ?it/s]\u001b[A\n",
      "3647it [00:00, 36468.38it/s]\u001b[A\n",
      "7327it [00:00, 36564.88it/s]\u001b[A\n",
      "11158it [00:00, 37068.37it/s]\u001b[A\n",
      "14990it [00:00, 37432.59it/s]\u001b[A\n",
      "18796it [00:00, 37617.65it/s]\u001b[A\n",
      "22608it [00:00, 37766.92it/s]\u001b[A\n",
      "26453it [00:00, 37968.43it/s]\u001b[A\n",
      "30293it [00:00, 38096.30it/s]\u001b[A\n",
      "34120it [00:00, 38145.75it/s]\u001b[A\n",
      "37963it [00:01, 38228.66it/s]\u001b[A\n",
      "41775it [00:01, 38194.37it/s]\u001b[A\n",
      "45580it [00:01, 38150.38it/s]\u001b[A\n",
      "49417it [00:01, 38213.89it/s]\u001b[A\n",
      "53265it [00:01, 38290.70it/s]\u001b[A\n",
      "57108it [00:01, 38330.40it/s]\u001b[A\n",
      " 61%|██████    | 106/174 [2:25:40<1:58:27, 104.52s/it]\n",
      "  0%|          | 0/181851 [00:00<?, ?it/s]\u001b[A\n",
      "100%|██████████| 181851/181851 [00:00<00:00, 503362.98it/s]\u001b[A\n",
      "  0%|          | 0/181851 [00:00<?, ?it/s]\u001b[A\n",
      " 36%|███▌      | 64890/181851 [00:00<00:00, 648891.34it/s]"
     ]
    },
    {
     "name": "stdout",
     "output_type": "stream",
     "text": [
      "Sparse dummy orders shape: \n",
      "(181851, 260)\n"
     ]
    },
    {
     "name": "stderr",
     "output_type": "stream",
     "text": [
      "\u001b[A\n",
      " 70%|███████   | 128031/181851 [00:00<00:00, 643543.51it/s]\u001b[A\n",
      "100%|██████████| 181851/181851 [00:00<00:00, 625304.05it/s]\u001b[A"
     ]
    },
    {
     "name": "stdout",
     "output_type": "stream",
     "text": [
      "Sparse dummy values shape: \n",
      "(181851, 93)\n"
     ]
    },
    {
     "name": "stderr",
     "output_type": "stream",
     "text": [
      "\n",
      "0it [00:00, ?it/s]\u001b[A\n",
      "3757it [00:00, 37560.45it/s]\u001b[A\n",
      "7568it [00:00, 37723.26it/s]\u001b[A\n",
      "11368it [00:00, 37805.06it/s]\u001b[A\n",
      "15139it [00:00, 37775.85it/s]\u001b[A\n",
      "18934it [00:00, 37825.24it/s]\u001b[A\n",
      "22739it [00:00, 37889.89it/s]\u001b[A\n",
      "26540it [00:00, 37924.58it/s]\u001b[A\n",
      "30327it [00:00, 37905.41it/s]\u001b[A\n",
      "34121it [00:00, 37913.00it/s]\u001b[A\n",
      "37921it [00:01, 37937.63it/s]\u001b[A\n",
      "41712it [00:01, 37928.40it/s]\u001b[A\n",
      "45478it [00:01, 37845.31it/s]\u001b[A\n",
      "49278it [00:01, 37889.25it/s]\u001b[A\n",
      "53039it [00:01, 37804.32it/s]\u001b[A\n",
      "56840it [00:01, 37864.31it/s]\u001b[A\n",
      " 61%|██████▏   | 107/174 [2:27:24<1:56:39, 104.46s/it]\n",
      "  0%|          | 0/181851 [00:00<?, ?it/s]\u001b[A\n",
      "100%|██████████| 181851/181851 [00:00<00:00, 510052.67it/s]\u001b[A\n",
      "  0%|          | 0/181851 [00:00<?, ?it/s]\u001b[A\n",
      " 36%|███▌      | 65621/181851 [00:00<00:00, 656205.93it/s]"
     ]
    },
    {
     "name": "stdout",
     "output_type": "stream",
     "text": [
      "Sparse dummy orders shape: \n",
      "(181851, 281)\n"
     ]
    },
    {
     "name": "stderr",
     "output_type": "stream",
     "text": [
      "\u001b[A\n",
      " 72%|███████▏  | 130539/181851 [00:00<00:00, 654079.12it/s]\u001b[A\n",
      "100%|██████████| 181851/181851 [00:00<00:00, 644646.27it/s]\u001b[A"
     ]
    },
    {
     "name": "stdout",
     "output_type": "stream",
     "text": [
      "Sparse dummy values shape: \n",
      "(181851, 93)\n"
     ]
    },
    {
     "name": "stderr",
     "output_type": "stream",
     "text": [
      "\n",
      "0it [00:00, ?it/s]\u001b[A\n",
      "3699it [00:00, 36978.40it/s]\u001b[A\n",
      "7422it [00:00, 37052.27it/s]\u001b[A\n",
      "11159it [00:00, 37145.55it/s]\u001b[A\n",
      "14950it [00:00, 37368.34it/s]\u001b[A\n",
      "18683it [00:00, 37354.97it/s]\u001b[A\n",
      "22409it [00:00, 37325.91it/s]\u001b[A\n",
      "26192it [00:00, 37474.48it/s]\u001b[A\n",
      "29940it [00:00, 37474.46it/s]\u001b[A\n",
      "33674it [00:00, 37433.28it/s]\u001b[A\n",
      "37456it [00:01, 37544.95it/s]\u001b[A\n",
      "41200it [00:01, 37512.69it/s]\u001b[A\n",
      "45015it [00:01, 37699.41it/s]\u001b[A\n",
      "48800it [00:01, 37742.13it/s]\u001b[A\n",
      "52602it [00:01, 37823.43it/s]\u001b[A\n",
      "56386it [00:01, 37825.81it/s]\u001b[A\n",
      " 62%|██████▏   | 108/174 [2:29:10<1:55:11, 104.72s/it]\n",
      "  0%|          | 0/181851 [00:00<?, ?it/s]\u001b[A\n",
      "100%|██████████| 181851/181851 [00:00<00:00, 500761.17it/s]\u001b[A\n",
      "  0%|          | 0/181851 [00:00<?, ?it/s]\u001b[A\n",
      " 36%|███▌      | 65556/181851 [00:00<00:00, 655551.25it/s]"
     ]
    },
    {
     "name": "stdout",
     "output_type": "stream",
     "text": [
      "Sparse dummy orders shape: \n",
      "(181851, 281)\n"
     ]
    },
    {
     "name": "stderr",
     "output_type": "stream",
     "text": [
      "\u001b[A\n",
      " 72%|███████▏  | 130408/181851 [00:00<00:00, 653423.75it/s]\u001b[A\n",
      "100%|██████████| 181851/181851 [00:00<00:00, 637701.66it/s]\u001b[A"
     ]
    },
    {
     "name": "stdout",
     "output_type": "stream",
     "text": [
      "Sparse dummy values shape: \n",
      "(181851, 93)\n"
     ]
    },
    {
     "name": "stderr",
     "output_type": "stream",
     "text": [
      "\n",
      "0it [00:00, ?it/s]\u001b[A\n",
      "3629it [00:00, 36282.16it/s]\u001b[A\n",
      "7301it [00:00, 36410.59it/s]\u001b[A\n",
      "10952it [00:00, 36438.21it/s]\u001b[A\n",
      "14665it [00:00, 36641.97it/s]\u001b[A\n",
      "18383it [00:00, 36799.27it/s]\u001b[A\n",
      "22087it [00:00, 36869.39it/s]\u001b[A\n",
      "25765it [00:00, 36840.90it/s]\u001b[A\n",
      "29423it [00:00, 36762.20it/s]\u001b[A\n",
      "33067it [00:00, 36663.37it/s]\u001b[A\n",
      "36692it [00:01, 36537.07it/s]\u001b[A\n",
      "40360it [00:01, 36578.35it/s]\u001b[A\n",
      "44055it [00:01, 36687.66it/s]\u001b[A\n",
      "47759it [00:01, 36791.75it/s]\u001b[A\n",
      "51479it [00:01, 36911.01it/s]\u001b[A\n",
      "55166it [00:01, 36896.44it/s]\u001b[A\n",
      "58852it [00:01, 36885.06it/s]\u001b[A\n",
      " 63%|██████▎   | 109/174 [2:30:55<1:53:32, 104.80s/it]\n",
      "  0%|          | 0/181851 [00:00<?, ?it/s]\u001b[A\n",
      "100%|██████████| 181851/181851 [00:00<00:00, 499020.51it/s]\u001b[A\n",
      "  0%|          | 0/181851 [00:00<?, ?it/s]\u001b[A\n",
      " 36%|███▌      | 64931/181851 [00:00<00:00, 649307.52it/s]"
     ]
    },
    {
     "name": "stdout",
     "output_type": "stream",
     "text": [
      "Sparse dummy orders shape: \n",
      "(181851, 293)\n"
     ]
    },
    {
     "name": "stderr",
     "output_type": "stream",
     "text": [
      "\u001b[A\n",
      " 71%|███████   | 128611/181851 [00:00<00:00, 645503.70it/s]\u001b[A\n",
      "100%|██████████| 181851/181851 [00:00<00:00, 634354.01it/s]\u001b[A"
     ]
    },
    {
     "name": "stdout",
     "output_type": "stream",
     "text": [
      "Sparse dummy values shape: \n",
      "(181851, 93)\n"
     ]
    },
    {
     "name": "stderr",
     "output_type": "stream",
     "text": [
      "\n",
      "0it [00:00, ?it/s]\u001b[A\n",
      "3624it [00:00, 36237.36it/s]\u001b[A\n",
      "7365it [00:00, 36580.52it/s]\u001b[A\n",
      "11050it [00:00, 36658.38it/s]\u001b[A\n",
      "14279it [00:00, 35228.42it/s]\u001b[A\n",
      "17794it [00:00, 35203.20it/s]\u001b[A\n",
      "21305it [00:00, 35173.23it/s]\u001b[A\n",
      "24886it [00:00, 35360.28it/s]\u001b[A\n",
      "28493it [00:00, 35567.85it/s]\u001b[A\n",
      "32056it [00:00, 35584.60it/s]\u001b[A\n",
      "35666it [00:01, 35721.24it/s]\u001b[A\n",
      "39300it [00:01, 35903.03it/s]\u001b[A\n",
      "43031it [00:01, 36312.24it/s]\u001b[A\n",
      "46624it [00:01, 36194.07it/s]\u001b[A\n",
      "50210it [00:01, 36043.98it/s]\u001b[A\n",
      "53932it [00:01, 36385.33it/s]\u001b[A\n",
      "57587it [00:01, 36433.13it/s]\u001b[A\n",
      " 63%|██████▎   | 110/174 [2:32:40<1:51:56, 104.94s/it]\n",
      "  0%|          | 0/181851 [00:00<?, ?it/s]\u001b[A\n",
      "100%|██████████| 181851/181851 [00:00<00:00, 502228.13it/s]\u001b[A\n",
      "  0%|          | 0/181851 [00:00<?, ?it/s]\u001b[A\n",
      " 36%|███▌      | 65401/181851 [00:00<00:00, 654007.51it/s]\u001b[A"
     ]
    },
    {
     "name": "stdout",
     "output_type": "stream",
     "text": [
      "Sparse dummy orders shape: \n",
      "(181851, 293)\n"
     ]
    },
    {
     "name": "stderr",
     "output_type": "stream",
     "text": [
      "\n",
      " 72%|███████▏  | 130479/181851 [00:00<00:00, 653034.21it/s]\u001b[A\n",
      "100%|██████████| 181851/181851 [00:00<00:00, 644904.63it/s]\u001b[A"
     ]
    },
    {
     "name": "stdout",
     "output_type": "stream",
     "text": [
      "Sparse dummy values shape: \n",
      "(181851, 93)\n"
     ]
    },
    {
     "name": "stderr",
     "output_type": "stream",
     "text": [
      "\n",
      "0it [00:00, ?it/s]\u001b[A\n",
      "3657it [00:00, 36563.85it/s]\u001b[A\n",
      "7409it [00:00, 36845.21it/s]\u001b[A\n",
      "11130it [00:00, 36953.80it/s]\u001b[A\n",
      "14848it [00:00, 37019.51it/s]\u001b[A\n",
      "18589it [00:00, 37133.80it/s]\u001b[A\n",
      "22346it [00:00, 37260.80it/s]\u001b[A\n",
      "26131it [00:00, 37434.53it/s]\u001b[A\n",
      "29857it [00:00, 37381.47it/s]\u001b[A\n",
      "33385it [00:00, 36357.47it/s]\u001b[A\n",
      "37185it [00:01, 36833.96it/s]\u001b[A\n",
      "40983it [00:01, 37169.36it/s]\u001b[A\n",
      "44765it [00:01, 37361.33it/s]\u001b[A\n",
      "48500it [00:01, 37356.71it/s]\u001b[A\n",
      "52203it [00:01, 37210.22it/s]\u001b[A\n",
      "55916it [00:01, 37184.35it/s]\u001b[A\n",
      "59684it [00:01, 37331.07it/s]\u001b[A\n",
      " 64%|██████▍   | 111/174 [2:34:25<1:50:11, 104.95s/it]\n",
      "  0%|          | 0/181851 [00:00<?, ?it/s]\u001b[A\n",
      "100%|██████████| 181851/181851 [00:00<00:00, 506067.85it/s]\u001b[A\n",
      "  0%|          | 0/181851 [00:00<?, ?it/s]\u001b[A\n",
      " 36%|███▌      | 65184/181851 [00:00<00:00, 651834.41it/s]"
     ]
    },
    {
     "name": "stdout",
     "output_type": "stream",
     "text": [
      "Sparse dummy orders shape: \n",
      "(181851, 293)\n"
     ]
    },
    {
     "name": "stderr",
     "output_type": "stream",
     "text": [
      "\u001b[A\n",
      " 72%|███████▏  | 131337/181851 [00:00<00:00, 654710.52it/s]\u001b[A\n",
      "100%|██████████| 181851/181851 [00:00<00:00, 650394.44it/s]\u001b[A"
     ]
    },
    {
     "name": "stdout",
     "output_type": "stream",
     "text": [
      "Sparse dummy values shape: \n",
      "(181851, 93)\n"
     ]
    },
    {
     "name": "stderr",
     "output_type": "stream",
     "text": [
      "\n",
      "0it [00:00, ?it/s]\u001b[A\n",
      "3758it [00:00, 37570.81it/s]\u001b[A\n",
      "7568it [00:00, 37726.16it/s]\u001b[A\n",
      "11371it [00:00, 37815.25it/s]\u001b[A\n",
      "15166it [00:00, 37853.24it/s]\u001b[A\n",
      "18982it [00:00, 37944.19it/s]\u001b[A\n",
      "22811it [00:00, 38046.04it/s]\u001b[A\n",
      "26592it [00:00, 37972.89it/s]\u001b[A\n",
      "30409it [00:00, 38029.13it/s]\u001b[A\n",
      "34206it [00:00, 38010.76it/s]\u001b[A\n",
      "38005it [00:01, 38002.55it/s]\u001b[A\n",
      "41806it [00:01, 38003.39it/s]\u001b[A\n",
      "45649it [00:01, 38129.68it/s]\u001b[A\n",
      "49417it [00:01, 37992.57it/s]\u001b[A\n",
      "53196it [00:01, 37931.34it/s]\u001b[A\n",
      "56991it [00:01, 37936.35it/s]\u001b[A\n",
      " 64%|██████▍   | 112/174 [2:36:10<1:48:34, 105.07s/it]\n",
      "  0%|          | 0/181851 [00:00<?, ?it/s]\u001b[A\n",
      "100%|██████████| 181851/181851 [00:00<00:00, 500590.27it/s]\u001b[A\n",
      "  0%|          | 0/181851 [00:00<?, ?it/s]\u001b[A\n",
      " 36%|███▋      | 66293/181851 [00:00<00:00, 662929.05it/s]"
     ]
    },
    {
     "name": "stdout",
     "output_type": "stream",
     "text": [
      "Sparse dummy orders shape: \n",
      "(181851, 293)\n"
     ]
    },
    {
     "name": "stderr",
     "output_type": "stream",
     "text": [
      "\u001b[A\n",
      " 73%|███████▎  | 132339/181851 [00:00<00:00, 662181.37it/s]\u001b[A\n",
      "100%|██████████| 181851/181851 [00:00<00:00, 651137.90it/s]\u001b[A"
     ]
    },
    {
     "name": "stdout",
     "output_type": "stream",
     "text": [
      "Sparse dummy values shape: \n",
      "(181851, 93)\n"
     ]
    },
    {
     "name": "stderr",
     "output_type": "stream",
     "text": [
      "\n",
      "0it [00:00, ?it/s]\u001b[A\n",
      "3690it [00:00, 36892.47it/s]\u001b[A\n",
      "7447it [00:00, 37091.27it/s]\u001b[A\n",
      "11150it [00:00, 37072.22it/s]\u001b[A\n",
      "14879it [00:00, 37133.62it/s]\u001b[A\n",
      "18614it [00:00, 37195.84it/s]\u001b[A\n",
      "22374it [00:00, 37315.95it/s]\u001b[A\n",
      "26145it [00:00, 37431.76it/s]\u001b[A\n",
      "29966it [00:00, 37661.07it/s]\u001b[A\n",
      "33656it [00:00, 37429.30it/s]\u001b[A\n",
      "37298it [00:01, 37120.53it/s]\u001b[A\n",
      "41034it [00:01, 37189.46it/s]\u001b[A\n",
      "44715it [00:01, 37073.48it/s]\u001b[A\n",
      "48376it [00:01, 36930.66it/s]\u001b[A\n",
      "52043it [00:01, 36849.62it/s]\u001b[A\n",
      "55712it [00:01, 36799.44it/s]\u001b[A\n",
      "59403it [00:01, 36831.99it/s]\u001b[A\n",
      " 65%|██████▍   | 113/174 [2:37:56<1:46:51, 105.10s/it]\n",
      "  0%|          | 0/181851 [00:00<?, ?it/s]\u001b[A\n",
      "100%|██████████| 181851/181851 [00:00<00:00, 486882.15it/s]\u001b[A\n",
      "  0%|          | 0/181851 [00:00<?, ?it/s]\u001b[A\n",
      " 36%|███▌      | 64853/181851 [00:00<00:00, 648524.43it/s]"
     ]
    },
    {
     "name": "stdout",
     "output_type": "stream",
     "text": [
      "Sparse dummy orders shape: \n",
      "(181851, 306)\n"
     ]
    },
    {
     "name": "stderr",
     "output_type": "stream",
     "text": [
      "\u001b[A\n",
      " 72%|███████▏  | 130076/181851 [00:00<00:00, 649630.47it/s]\u001b[A\n",
      "100%|██████████| 181851/181851 [00:00<00:00, 637144.99it/s]\u001b[A"
     ]
    },
    {
     "name": "stdout",
     "output_type": "stream",
     "text": [
      "Sparse dummy values shape: \n",
      "(181851, 93)\n"
     ]
    },
    {
     "name": "stderr",
     "output_type": "stream",
     "text": [
      "\n",
      "0it [00:00, ?it/s]\u001b[A\n",
      "3672it [00:00, 36715.66it/s]\u001b[A\n",
      "7459it [00:00, 37052.13it/s]\u001b[A\n",
      "11194it [00:00, 37140.26it/s]\u001b[A\n",
      "14937it [00:00, 37226.51it/s]\u001b[A\n",
      "18604it [00:00, 37056.09it/s]\u001b[A\n",
      "22382it [00:00, 37269.61it/s]\u001b[A\n",
      "26194it [00:00, 37519.22it/s]\u001b[A\n",
      "30016it [00:00, 37725.44it/s]\u001b[A\n",
      "33786it [00:00, 37715.61it/s]\u001b[A\n",
      "37581it [00:01, 37785.17it/s]\u001b[A\n",
      "41325it [00:01, 37680.78it/s]\u001b[A\n",
      "45113it [00:01, 37739.61it/s]\u001b[A\n",
      "48888it [00:01, 37741.41it/s]\u001b[A\n",
      "52689it [00:01, 37821.28it/s]\u001b[A\n",
      "56467it [00:01, 37808.41it/s]\u001b[A\n",
      " 66%|██████▌   | 114/174 [2:39:42<1:45:38, 105.64s/it]\n",
      "  0%|          | 0/181851 [00:00<?, ?it/s]\u001b[A\n",
      "100%|██████████| 181851/181851 [00:00<00:00, 504106.19it/s]\u001b[A\n",
      "  0%|          | 0/181851 [00:00<?, ?it/s]\u001b[A\n",
      " 37%|███▋      | 67513/181851 [00:00<00:00, 675122.60it/s]"
     ]
    },
    {
     "name": "stdout",
     "output_type": "stream",
     "text": [
      "Sparse dummy orders shape: \n",
      "(181851, 306)\n"
     ]
    },
    {
     "name": "stderr",
     "output_type": "stream",
     "text": [
      "\u001b[A\n",
      " 74%|███████▎  | 133863/181851 [00:00<00:00, 671591.54it/s]\u001b[A\n",
      "100%|██████████| 181851/181851 [00:00<00:00, 656406.44it/s]\u001b[A"
     ]
    },
    {
     "name": "stdout",
     "output_type": "stream",
     "text": [
      "Sparse dummy values shape: \n",
      "(181851, 93)\n"
     ]
    },
    {
     "name": "stderr",
     "output_type": "stream",
     "text": [
      "\n",
      "0it [00:00, ?it/s]\u001b[A\n",
      "3765it [00:00, 37645.19it/s]\u001b[A\n",
      "7557it [00:00, 37726.42it/s]\u001b[A\n",
      "11335it [00:00, 37740.17it/s]\u001b[A\n",
      "15131it [00:00, 37803.09it/s]\u001b[A\n",
      "18919it [00:00, 37826.06it/s]\u001b[A\n",
      "22700it [00:00, 37818.46it/s]\u001b[A\n",
      "26465it [00:00, 37766.04it/s]\u001b[A\n",
      "30204it [00:00, 37651.64it/s]\u001b[A\n",
      "33970it [00:00, 37653.02it/s]\u001b[A\n",
      "37810it [00:01, 37873.15it/s]\u001b[A\n",
      "41628it [00:01, 37962.56it/s]\u001b[A\n",
      "45413it [00:01, 37928.30it/s]\u001b[A\n",
      "49232it [00:01, 38004.39it/s]\u001b[A\n",
      "53043it [00:01, 38034.93it/s]\u001b[A\n",
      "56855it [00:01, 38059.04it/s]\u001b[A\n",
      " 66%|██████▌   | 115/174 [2:41:28<1:43:52, 105.63s/it]\n",
      "  0%|          | 0/181851 [00:00<?, ?it/s]\u001b[A\n",
      "100%|██████████| 181851/181851 [00:00<00:00, 507742.48it/s]\u001b[A\n",
      "  0%|          | 0/181851 [00:00<?, ?it/s]\u001b[A\n",
      " 37%|███▋      | 66806/181851 [00:00<00:00, 668059.04it/s]"
     ]
    },
    {
     "name": "stdout",
     "output_type": "stream",
     "text": [
      "Sparse dummy orders shape: \n",
      "(181851, 308)\n"
     ]
    },
    {
     "name": "stderr",
     "output_type": "stream",
     "text": [
      "\u001b[A\n",
      " 73%|███████▎  | 132071/181851 [00:00<00:00, 663359.70it/s]\u001b[A\n",
      "100%|██████████| 181851/181851 [00:00<00:00, 650987.29it/s]\u001b[A"
     ]
    },
    {
     "name": "stdout",
     "output_type": "stream",
     "text": [
      "Sparse dummy values shape: \n",
      "(181851, 93)\n"
     ]
    },
    {
     "name": "stderr",
     "output_type": "stream",
     "text": [
      "\n",
      "0it [00:00, ?it/s]\u001b[A\n",
      "3725it [00:00, 37245.42it/s]\u001b[A\n",
      "7497it [00:00, 37386.44it/s]\u001b[A\n",
      "11291it [00:00, 37548.79it/s]\u001b[A\n",
      "15052it [00:00, 37566.53it/s]\u001b[A\n",
      "18829it [00:00, 37626.63it/s]\u001b[A\n",
      "22451it [00:00, 37192.57it/s]\u001b[A\n",
      "26176it [00:00, 37208.20it/s]\u001b[A\n",
      "29954it [00:00, 37376.65it/s]\u001b[A\n",
      "33581it [00:00, 37036.69it/s]\u001b[A\n",
      "37208it [00:01, 36800.86it/s]\u001b[A\n",
      "40890it [00:01, 36805.48it/s]\u001b[A\n",
      "44605it [00:01, 36907.54it/s]\u001b[A\n",
      "48334it [00:01, 37019.05it/s]\u001b[A\n",
      "52050it [00:01, 37060.89it/s]\u001b[A\n",
      "55760it [00:01, 37043.87it/s]\u001b[A\n",
      "59467it [00:01, 37048.88it/s]\u001b[A\n",
      " 67%|██████▋   | 116/174 [2:43:12<1:41:35, 105.10s/it]\n",
      "  0%|          | 0/181851 [00:00<?, ?it/s]\u001b[A\n",
      "100%|██████████| 181851/181851 [00:00<00:00, 488464.24it/s]\u001b[A\n",
      "  0%|          | 0/181851 [00:00<?, ?it/s]\u001b[A\n",
      " 36%|███▌      | 64959/181851 [00:00<00:00, 649587.52it/s]"
     ]
    },
    {
     "name": "stdout",
     "output_type": "stream",
     "text": [
      "Sparse dummy orders shape: \n",
      "(181851, 308)\n"
     ]
    },
    {
     "name": "stderr",
     "output_type": "stream",
     "text": [
      "\u001b[A\n",
      " 72%|███████▏  | 130923/181851 [00:00<00:00, 652568.36it/s]\u001b[A\n",
      "100%|██████████| 181851/181851 [00:00<00:00, 644740.00it/s]\u001b[A"
     ]
    },
    {
     "name": "stdout",
     "output_type": "stream",
     "text": [
      "Sparse dummy values shape: \n",
      "(181851, 93)\n"
     ]
    },
    {
     "name": "stderr",
     "output_type": "stream",
     "text": [
      "\n",
      "0it [00:00, ?it/s]\u001b[A\n",
      "3732it [00:00, 37313.99it/s]\u001b[A\n",
      "7498it [00:00, 37416.95it/s]\u001b[A\n",
      "11275it [00:00, 37519.40it/s]\u001b[A\n",
      "15035it [00:00, 37541.87it/s]\u001b[A\n",
      "18795it [00:00, 37558.04it/s]\u001b[A\n",
      "22521it [00:00, 37467.71it/s]\u001b[A\n",
      "26287it [00:00, 37523.25it/s]\u001b[A\n",
      "30070it [00:00, 37612.06it/s]\u001b[A\n",
      "33831it [00:00, 37608.52it/s]\u001b[A\n",
      "37630it [00:01, 37721.82it/s]\u001b[A\n",
      "41415it [00:01, 37759.44it/s]\u001b[A\n",
      "45216it [00:01, 37831.85it/s]\u001b[A\n",
      "49002it [00:01, 37838.54it/s]\u001b[A\n",
      "52777it [00:01, 37809.75it/s]\u001b[A\n",
      "56545it [00:01, 37770.47it/s]\u001b[A\n",
      " 67%|██████▋   | 117/174 [2:44:57<1:39:50, 105.09s/it]\n",
      "  0%|          | 0/181851 [00:00<?, ?it/s]\u001b[A\n",
      "100%|██████████| 181851/181851 [00:00<00:00, 337484.55it/s]\u001b[A\n",
      "  0%|          | 0/181851 [00:00<?, ?it/s]\u001b[A\n",
      " 36%|███▌      | 65416/181851 [00:00<00:00, 654155.94it/s]"
     ]
    },
    {
     "name": "stdout",
     "output_type": "stream",
     "text": [
      "Sparse dummy orders shape: \n",
      "(181851, 377)\n"
     ]
    },
    {
     "name": "stderr",
     "output_type": "stream",
     "text": [
      "\u001b[A\n",
      " 70%|██████▉   | 126848/181851 [00:00<00:00, 641670.36it/s]\u001b[A\n",
      "100%|██████████| 181851/181851 [00:00<00:00, 628148.20it/s]\u001b[A"
     ]
    },
    {
     "name": "stdout",
     "output_type": "stream",
     "text": [
      "Sparse dummy values shape: \n",
      "(181851, 93)\n"
     ]
    },
    {
     "name": "stderr",
     "output_type": "stream",
     "text": [
      "\n",
      "0it [00:00, ?it/s]\u001b[A\n",
      "3713it [00:00, 37122.42it/s]\u001b[A\n",
      "7422it [00:00, 37111.64it/s]\u001b[A\n",
      "11157it [00:00, 37180.24it/s]\u001b[A\n",
      "14832it [00:00, 37047.96it/s]\u001b[A\n",
      "18566it [00:00, 37134.34it/s]\u001b[A\n",
      "22278it [00:00, 37127.63it/s]\u001b[A\n",
      "25994it [00:00, 37135.96it/s]\u001b[A\n",
      "29807it [00:00, 37427.12it/s]\u001b[A\n",
      "33549it [00:00, 37423.47it/s]\u001b[A\n",
      "37266it [00:01, 37344.07it/s]\u001b[A\n",
      "40994it [00:01, 37323.82it/s]\u001b[A\n",
      "44769it [00:01, 37449.10it/s]\u001b[A\n",
      "48463it [00:01, 36830.83it/s]\u001b[A\n",
      "52308it [00:01, 37299.48it/s]\u001b[A\n",
      "56131it [00:01, 37572.14it/s]\u001b[A\n",
      "59914it [00:01, 37646.83it/s]\u001b[A\n",
      " 68%|██████▊   | 118/174 [2:47:01<1:43:23, 110.77s/it]\n",
      "  0%|          | 0/181851 [00:00<?, ?it/s]\u001b[A\n",
      "100%|██████████| 181851/181851 [00:00<00:00, 294847.97it/s]\u001b[A\n",
      "  0%|          | 0/181851 [00:00<?, ?it/s]\u001b[A\n",
      " 34%|███▎      | 61271/181851 [00:00<00:00, 612704.74it/s]"
     ]
    },
    {
     "name": "stdout",
     "output_type": "stream",
     "text": [
      "Sparse dummy orders shape: \n",
      "(181851, 388)\n"
     ]
    },
    {
     "name": "stderr",
     "output_type": "stream",
     "text": [
      "\u001b[A\n",
      " 67%|██████▋   | 122174/181851 [00:00<00:00, 611596.53it/s]\u001b[A\n",
      "100%|██████████| 181851/181851 [00:00<00:00, 612147.12it/s]\u001b[A"
     ]
    },
    {
     "name": "stdout",
     "output_type": "stream",
     "text": [
      "Sparse dummy values shape: \n",
      "(181851, 93)\n"
     ]
    },
    {
     "name": "stderr",
     "output_type": "stream",
     "text": [
      "\n",
      "0it [00:00, ?it/s]\u001b[A\n",
      "3753it [00:00, 37521.36it/s]\u001b[A\n",
      "7536it [00:00, 37612.20it/s]\u001b[A\n",
      "11303it [00:00, 37626.68it/s]\u001b[A\n",
      "15039it [00:00, 37543.92it/s]\u001b[A\n",
      "18767it [00:00, 37462.23it/s]\u001b[A\n",
      "22489it [00:00, 37388.81it/s]\u001b[A\n",
      "26248it [00:00, 37446.21it/s]\u001b[A\n",
      "29991it [00:00, 37441.17it/s]\u001b[A\n",
      "33749it [00:00, 37481.35it/s]\u001b[A\n",
      "37554it [00:01, 37648.67it/s]\u001b[A\n",
      "41380it [00:01, 37828.04it/s]\u001b[A\n",
      "45201it [00:01, 37941.65it/s]\u001b[A\n",
      "48982it [00:01, 37900.17it/s]\u001b[A\n",
      "52783it [00:01, 37931.16it/s]\u001b[A\n",
      "56551it [00:01, 35600.45it/s]\u001b[A\n",
      " 68%|██████▊   | 119/174 [2:49:10<1:46:34, 116.27s/it]\n",
      "  0%|          | 0/181851 [00:00<?, ?it/s]\u001b[A\n",
      "100%|██████████| 181851/181851 [00:00<00:00, 295746.91it/s]\u001b[A\n",
      "  0%|          | 0/181851 [00:00<?, ?it/s]\u001b[A\n",
      " 34%|███▍      | 61903/181851 [00:00<00:00, 619027.64it/s]"
     ]
    },
    {
     "name": "stdout",
     "output_type": "stream",
     "text": [
      "Sparse dummy orders shape: \n",
      "(181851, 388)\n"
     ]
    },
    {
     "name": "stderr",
     "output_type": "stream",
     "text": [
      "\u001b[A\n",
      " 68%|██████▊   | 123346/181851 [00:00<00:00, 617638.65it/s]\u001b[A\n",
      "100%|██████████| 181851/181851 [00:00<00:00, 617624.43it/s]\u001b[A"
     ]
    },
    {
     "name": "stdout",
     "output_type": "stream",
     "text": [
      "Sparse dummy values shape: \n",
      "(181851, 93)\n"
     ]
    },
    {
     "name": "stderr",
     "output_type": "stream",
     "text": [
      "\n",
      "0it [00:00, ?it/s]\u001b[A\n",
      "3714it [00:00, 37134.63it/s]\u001b[A\n",
      "7450it [00:00, 37200.46it/s]\u001b[A\n",
      "11209it [00:00, 37314.87it/s]\u001b[A\n",
      "14991it [00:00, 37463.48it/s]\u001b[A\n",
      "18732it [00:00, 37446.55it/s]\u001b[A\n",
      "22482it [00:00, 37461.29it/s]\u001b[A\n",
      "26273it [00:00, 37592.29it/s]\u001b[A\n",
      "30059it [00:00, 37670.71it/s]\u001b[A\n",
      "33907it [00:00, 37908.28it/s]\u001b[A\n",
      "37744it [00:01, 38043.18it/s]\u001b[A\n",
      "41558it [00:01, 38071.26it/s]\u001b[A\n",
      "45308it [00:01, 37895.23it/s]\u001b[A\n",
      "49057it [00:01, 37769.95it/s]\u001b[A\n",
      "52821it [00:01, 37730.37it/s]\u001b[A\n",
      "56609it [00:01, 37772.34it/s]\u001b[A\n",
      " 69%|██████▉   | 120/174 [2:51:19<1:48:04, 120.09s/it]\n",
      "  0%|          | 0/181851 [00:00<?, ?it/s]\u001b[A\n",
      "100%|██████████| 181851/181851 [00:00<00:00, 299239.94it/s]\u001b[A\n",
      "  0%|          | 0/181851 [00:00<?, ?it/s]\u001b[A\n",
      " 34%|███▍      | 62498/181851 [00:00<00:00, 624971.66it/s]"
     ]
    },
    {
     "name": "stdout",
     "output_type": "stream",
     "text": [
      "Sparse dummy orders shape: \n",
      "(181851, 388)\n"
     ]
    },
    {
     "name": "stderr",
     "output_type": "stream",
     "text": [
      "\u001b[A\n",
      " 68%|██████▊   | 123656/181851 [00:00<00:00, 620890.46it/s]\u001b[A\n",
      "100%|██████████| 181851/181851 [00:00<00:00, 616993.42it/s]\u001b[A"
     ]
    },
    {
     "name": "stdout",
     "output_type": "stream",
     "text": [
      "Sparse dummy values shape: \n",
      "(181851, 93)\n"
     ]
    },
    {
     "name": "stderr",
     "output_type": "stream",
     "text": [
      "\n",
      "0it [00:00, ?it/s]\u001b[A\n",
      "3704it [00:00, 37035.62it/s]\u001b[A\n",
      "7464it [00:00, 37200.79it/s]\u001b[A\n",
      "11242it [00:00, 37370.81it/s]\u001b[A\n",
      "15031it [00:00, 37524.31it/s]\u001b[A\n",
      "18829it [00:00, 37659.29it/s]\u001b[A\n",
      "22585it [00:00, 37627.54it/s]\u001b[A\n",
      "26390it [00:00, 37751.13it/s]\u001b[A\n",
      "29861it [00:00, 36509.78it/s]\u001b[A\n",
      "33407it [00:00, 36187.25it/s]\u001b[A\n",
      "37070it [00:01, 36318.55it/s]\u001b[A\n",
      "40631it [00:01, 36100.46it/s]\u001b[A\n",
      "44172it [00:01, 35797.38it/s]\u001b[A\n",
      "47741it [00:01, 35764.95it/s]\u001b[A\n",
      "51385it [00:01, 35962.07it/s]\u001b[A\n",
      "55095it [00:01, 36294.36it/s]\u001b[A\n",
      "58760it [00:01, 36398.84it/s]\u001b[A\n",
      " 70%|██████▉   | 121/174 [2:53:28<1:48:23, 122.71s/it]\n",
      "  0%|          | 0/181851 [00:00<?, ?it/s]\u001b[A\n",
      "100%|██████████| 181851/181851 [00:00<00:00, 285684.89it/s]\u001b[A\n",
      "  0%|          | 0/181851 [00:00<?, ?it/s]\u001b[A\n",
      " 34%|███▍      | 61733/181851 [00:00<00:00, 617329.12it/s]"
     ]
    },
    {
     "name": "stdout",
     "output_type": "stream",
     "text": [
      "Sparse dummy orders shape: \n",
      "(181851, 440)\n"
     ]
    },
    {
     "name": "stderr",
     "output_type": "stream",
     "text": [
      "\u001b[A\n",
      " 67%|██████▋   | 122433/181851 [00:00<00:00, 614192.06it/s]\u001b[A\n",
      "100%|██████████| 181851/181851 [00:00<00:00, 615094.23it/s]\u001b[A"
     ]
    },
    {
     "name": "stdout",
     "output_type": "stream",
     "text": [
      "Sparse dummy values shape: \n",
      "(181851, 93)\n"
     ]
    },
    {
     "name": "stderr",
     "output_type": "stream",
     "text": [
      "\n",
      "0it [00:00, ?it/s]\u001b[A\n",
      "3718it [00:00, 37171.08it/s]\u001b[A\n",
      "7500it [00:00, 37359.96it/s]\u001b[A\n",
      "11295it [00:00, 37534.60it/s]\u001b[A\n",
      "15080it [00:00, 37627.85it/s]\u001b[A\n",
      "18860it [00:00, 37677.03it/s]\u001b[A\n",
      "22608it [00:00, 37615.23it/s]\u001b[A\n",
      "26379it [00:00, 37642.14it/s]\u001b[A\n",
      "30175it [00:00, 37734.40it/s]\u001b[A\n",
      "33987it [00:00, 37847.36it/s]\u001b[A\n",
      "37830it [00:01, 38019.55it/s]\u001b[A\n",
      "41639it [00:01, 38038.28it/s]\u001b[A\n",
      "45454it [00:01, 38071.25it/s]\u001b[A\n",
      "49306it [00:01, 38201.94it/s]\u001b[A\n",
      "53133it [00:01, 38219.77it/s]\u001b[A\n",
      "56930it [00:01, 37906.26it/s]\u001b[A\n",
      " 70%|███████   | 122/174 [2:55:43<1:49:32, 126.40s/it]\n",
      "  0%|          | 0/181851 [00:00<?, ?it/s]\u001b[A\n",
      "100%|██████████| 181851/181851 [00:00<00:00, 293845.99it/s]\u001b[A\n",
      "  0%|          | 0/181851 [00:00<?, ?it/s]\u001b[A\n",
      " 35%|███▍      | 63520/181851 [00:00<00:00, 635191.52it/s]"
     ]
    },
    {
     "name": "stdout",
     "output_type": "stream",
     "text": [
      "Sparse dummy orders shape: \n",
      "(181851, 440)\n"
     ]
    },
    {
     "name": "stderr",
     "output_type": "stream",
     "text": [
      "\u001b[A\n",
      " 69%|██████▉   | 126024/181851 [00:00<00:00, 632111.33it/s]\u001b[A\n",
      "100%|██████████| 181851/181851 [00:00<00:00, 628523.47it/s]\u001b[A"
     ]
    },
    {
     "name": "stdout",
     "output_type": "stream",
     "text": [
      "Sparse dummy values shape: \n",
      "(181851, 93)\n"
     ]
    },
    {
     "name": "stderr",
     "output_type": "stream",
     "text": [
      "\n",
      "0it [00:00, ?it/s]\u001b[A\n",
      "3721it [00:00, 37204.71it/s]\u001b[A\n",
      "7457it [00:00, 37250.83it/s]\u001b[A\n",
      "11185it [00:00, 37259.45it/s]\u001b[A\n",
      "14893it [00:00, 37203.55it/s]\u001b[A\n",
      "18641it [00:00, 37284.05it/s]\u001b[A\n",
      "22363it [00:00, 37262.31it/s]\u001b[A\n",
      "26182it [00:00, 37532.49it/s]\u001b[A\n",
      "29986it [00:00, 37681.13it/s]\u001b[A\n",
      "33811it [00:00, 37848.25it/s]\u001b[A\n",
      "37660it [00:01, 38037.45it/s]\u001b[A\n",
      "41466it [00:01, 38042.29it/s]\u001b[A\n",
      "45291it [00:01, 38103.54it/s]\u001b[A\n",
      "49121it [00:01, 38160.94it/s]\u001b[A\n",
      "52986it [00:01, 38304.19it/s]\u001b[A\n",
      "56854it [00:01, 38414.29it/s]\u001b[A\n",
      " 71%|███████   | 123/174 [2:57:58<1:49:42, 129.06s/it]\n",
      "  0%|          | 0/181851 [00:00<?, ?it/s]\u001b[A\n",
      "100%|██████████| 181851/181851 [00:00<00:00, 289655.66it/s]\u001b[A\n",
      "  0%|          | 0/181851 [00:00<?, ?it/s]\u001b[A\n",
      " 34%|███▍      | 62133/181851 [00:00<00:00, 621329.11it/s]"
     ]
    },
    {
     "name": "stdout",
     "output_type": "stream",
     "text": [
      "Sparse dummy orders shape: \n",
      "(181851, 440)\n"
     ]
    },
    {
     "name": "stderr",
     "output_type": "stream",
     "text": [
      "\u001b[A\n",
      " 68%|██████▊   | 123297/181851 [00:00<00:00, 618389.14it/s]\u001b[A\n",
      "100%|██████████| 181851/181851 [00:00<00:00, 614889.44it/s]\u001b[A"
     ]
    },
    {
     "name": "stdout",
     "output_type": "stream",
     "text": [
      "Sparse dummy values shape: \n",
      "(181851, 93)\n"
     ]
    },
    {
     "name": "stderr",
     "output_type": "stream",
     "text": [
      "\n",
      "0it [00:00, ?it/s]\u001b[A\n",
      "3811it [00:00, 38106.22it/s]\u001b[A\n",
      "7636it [00:00, 38147.05it/s]\u001b[A\n",
      "11444it [00:00, 38126.78it/s]\u001b[A\n",
      "15253it [00:00, 38113.92it/s]\u001b[A\n",
      "19050it [00:00, 38070.07it/s]\u001b[A\n",
      "22852it [00:00, 38054.99it/s]\u001b[A\n",
      "26656it [00:00, 38050.34it/s]\u001b[A\n",
      "30441it [00:00, 37988.47it/s]\u001b[A\n",
      "34253it [00:00, 38026.90it/s]\u001b[A\n",
      "38103it [00:01, 38166.42it/s]\u001b[A\n",
      "41954it [00:01, 38268.15it/s]\u001b[A\n",
      "45785it [00:01, 38277.97it/s]\u001b[A\n",
      "49565it [00:01, 38131.76it/s]\u001b[A\n",
      "53343it [00:01, 38024.22it/s]\u001b[A\n",
      "57135it [00:01, 37990.48it/s]\u001b[A\n",
      " 71%|███████▏  | 124/174 [3:00:12<1:48:50, 130.60s/it]\n",
      "  0%|          | 0/181851 [00:00<?, ?it/s]\u001b[A\n",
      "100%|██████████| 181851/181851 [00:00<00:00, 293476.95it/s]\u001b[A\n",
      "  0%|          | 0/181851 [00:00<?, ?it/s]\u001b[A\n",
      " 35%|███▍      | 63324/181851 [00:00<00:00, 633228.53it/s]"
     ]
    },
    {
     "name": "stdout",
     "output_type": "stream",
     "text": [
      "Sparse dummy orders shape: \n",
      "(181851, 446)\n"
     ]
    },
    {
     "name": "stderr",
     "output_type": "stream",
     "text": [
      "\u001b[A\n",
      " 69%|██████▉   | 125298/181851 [00:00<00:00, 629119.53it/s]\u001b[A\n",
      "100%|██████████| 181851/181851 [00:00<00:00, 625922.90it/s]\u001b[A"
     ]
    },
    {
     "name": "stdout",
     "output_type": "stream",
     "text": [
      "Sparse dummy values shape: \n",
      "(181851, 93)\n"
     ]
    },
    {
     "name": "stderr",
     "output_type": "stream",
     "text": [
      "\n",
      "0it [00:00, ?it/s]\u001b[A\n",
      "3760it [00:00, 37594.21it/s]\u001b[A\n",
      "7550it [00:00, 37684.55it/s]\u001b[A\n",
      "11362it [00:00, 37812.81it/s]\u001b[A\n",
      "15137it [00:00, 37793.87it/s]\u001b[A\n",
      "18899it [00:00, 37741.53it/s]\u001b[A\n",
      "22659it [00:00, 37698.32it/s]\u001b[A\n",
      "26495it [00:00, 37893.78it/s]\u001b[A\n",
      "30337it [00:00, 38048.36it/s]\u001b[A\n",
      "34167it [00:00, 38121.89it/s]\u001b[A\n",
      "37995it [00:01, 38167.78it/s]\u001b[A\n",
      "41829it [00:01, 38218.94it/s]\u001b[A\n",
      "45655it [00:01, 38230.63it/s]\u001b[A\n",
      "49484it [00:01, 38246.38it/s]\u001b[A\n",
      "53275it [00:01, 38142.11it/s]\u001b[A\n",
      "57124it [00:01, 38244.52it/s]\u001b[A\n",
      " 72%|███████▏  | 125/174 [3:02:26<1:47:28, 131.60s/it]\n",
      "  0%|          | 0/181851 [00:00<?, ?it/s]\u001b[A\n",
      "100%|██████████| 181851/181851 [00:00<00:00, 290506.91it/s]\u001b[A\n",
      "  0%|          | 0/181851 [00:00<?, ?it/s]\u001b[A\n",
      " 35%|███▍      | 62924/181851 [00:00<00:00, 629236.10it/s]"
     ]
    },
    {
     "name": "stdout",
     "output_type": "stream",
     "text": [
      "Sparse dummy orders shape: \n",
      "(181851, 446)\n"
     ]
    },
    {
     "name": "stderr",
     "output_type": "stream",
     "text": [
      "\u001b[A\n",
      " 68%|██████▊   | 123697/181851 [00:00<00:00, 622624.03it/s]\u001b[A\n",
      "100%|██████████| 181851/181851 [00:00<00:00, 613305.80it/s]\u001b[A"
     ]
    },
    {
     "name": "stdout",
     "output_type": "stream",
     "text": [
      "Sparse dummy values shape: \n",
      "(181851, 93)\n"
     ]
    },
    {
     "name": "stderr",
     "output_type": "stream",
     "text": [
      "\n",
      "0it [00:00, ?it/s]\u001b[A\n",
      "3688it [00:00, 36876.08it/s]\u001b[A\n",
      "7419it [00:00, 37002.73it/s]\u001b[A\n",
      "11196it [00:00, 37228.53it/s]\u001b[A\n",
      "14928it [00:00, 37255.56it/s]\u001b[A\n",
      "18329it [00:00, 36217.24it/s]\u001b[A\n",
      "22054it [00:00, 36519.96it/s]\u001b[A\n",
      "25826it [00:00, 36869.21it/s]\u001b[A\n",
      "29513it [00:00, 36868.03it/s]\u001b[A\n",
      "33144it [00:00, 36698.55it/s]\u001b[A\n",
      "36793it [00:01, 36633.11it/s]\u001b[A\n",
      "40556it [00:01, 36925.07it/s]\u001b[A\n",
      "44300it [00:01, 37076.07it/s]\u001b[A\n",
      "48056it [00:01, 37217.47it/s]\u001b[A\n",
      "51815it [00:01, 37327.13it/s]\u001b[A\n",
      "55612it [00:01, 37517.20it/s]\u001b[A\n",
      "59348it [00:01, 37319.94it/s]\u001b[A\n",
      " 72%|███████▏  | 126/174 [3:04:41<1:45:54, 132.38s/it]\n",
      "  0%|          | 0/181851 [00:00<?, ?it/s]\u001b[A\n",
      "100%|██████████| 181851/181851 [00:00<00:00, 286641.81it/s]\u001b[A\n",
      "  0%|          | 0/181851 [00:00<?, ?it/s]\u001b[A\n",
      " 36%|███▌      | 64918/181851 [00:00<00:00, 649174.43it/s]"
     ]
    },
    {
     "name": "stdout",
     "output_type": "stream",
     "text": [
      "Sparse dummy orders shape: \n",
      "(181851, 446)\n"
     ]
    },
    {
     "name": "stderr",
     "output_type": "stream",
     "text": [
      "\u001b[A\n",
      " 70%|██████▉   | 127288/181851 [00:00<00:00, 641315.96it/s]\u001b[A\n",
      "100%|██████████| 181851/181851 [00:00<00:00, 630944.22it/s]\u001b[A"
     ]
    },
    {
     "name": "stdout",
     "output_type": "stream",
     "text": [
      "Sparse dummy values shape: \n",
      "(181851, 93)\n"
     ]
    },
    {
     "name": "stderr",
     "output_type": "stream",
     "text": [
      "\n",
      "0it [00:00, ?it/s]\u001b[A\n",
      "3740it [00:00, 37393.97it/s]\u001b[A\n",
      "7517it [00:00, 37504.06it/s]\u001b[A\n",
      "11286it [00:00, 37558.64it/s]\u001b[A\n",
      "15057it [00:00, 37601.22it/s]\u001b[A\n",
      "18777it [00:00, 37477.75it/s]\u001b[A\n",
      "22423it [00:00, 37165.73it/s]\u001b[A\n",
      "26240it [00:00, 37459.75it/s]\u001b[A\n",
      "30070it [00:00, 37706.90it/s]\u001b[A\n",
      "33882it [00:00, 37829.07it/s]\u001b[A\n",
      "37804it [00:01, 38233.70it/s]\u001b[A\n",
      "41711it [00:01, 38479.71it/s]\u001b[A\n",
      "45576it [00:01, 38528.23it/s]\u001b[A\n",
      "49411it [00:01, 38472.97it/s]\u001b[A\n",
      "53232it [00:01, 38391.59it/s]\u001b[A\n",
      "57056it [00:01, 38343.22it/s]\u001b[A\n",
      " 73%|███████▎  | 127/174 [3:06:54<1:44:04, 132.85s/it]\n",
      "  0%|          | 0/181851 [00:00<?, ?it/s]\u001b[A\n",
      "100%|██████████| 181851/181851 [00:00<00:00, 292040.22it/s]\u001b[A\n",
      "  0%|          | 0/181851 [00:00<?, ?it/s]\u001b[A\n",
      " 35%|███▌      | 64040/181851 [00:00<00:00, 640392.98it/s]"
     ]
    },
    {
     "name": "stdout",
     "output_type": "stream",
     "text": [
      "Sparse dummy orders shape: \n",
      "(181851, 446)\n"
     ]
    },
    {
     "name": "stderr",
     "output_type": "stream",
     "text": [
      "\u001b[A\n",
      " 70%|██████▉   | 126486/181851 [00:00<00:00, 635528.08it/s]\u001b[A\n",
      "100%|██████████| 181851/181851 [00:00<00:00, 629176.22it/s]\u001b[A"
     ]
    },
    {
     "name": "stdout",
     "output_type": "stream",
     "text": [
      "Sparse dummy values shape: \n",
      "(181851, 93)\n"
     ]
    },
    {
     "name": "stderr",
     "output_type": "stream",
     "text": [
      "\n",
      "0it [00:00, ?it/s]\u001b[A\n",
      "3675it [00:00, 36744.95it/s]\u001b[A\n",
      "7368it [00:00, 36800.10it/s]\u001b[A\n",
      "11010it [00:00, 36683.14it/s]\u001b[A\n",
      "14742it [00:00, 36870.76it/s]\u001b[A\n",
      "18504it [00:00, 37090.35it/s]\u001b[A\n",
      "22190it [00:00, 37018.22it/s]\u001b[A\n",
      "25876it [00:00, 36969.61it/s]\u001b[A\n",
      "29598it [00:00, 37044.25it/s]\u001b[A\n",
      "33325it [00:00, 37109.90it/s]\u001b[A\n",
      "37110it [00:01, 37328.12it/s]\u001b[A\n",
      "40867it [00:01, 37399.09it/s]\u001b[A\n",
      "44617it [00:01, 37427.71it/s]\u001b[A\n",
      "48327it [00:01, 37326.76it/s]\u001b[A\n",
      "52044it [00:01, 37277.81it/s]\u001b[A\n",
      "55762it [00:01, 37246.18it/s]\u001b[A\n",
      "59478it [00:01, 37217.74it/s]\u001b[A\n",
      " 74%|███████▎  | 128/174 [3:09:07<1:41:50, 132.83s/it]\n",
      "  0%|          | 0/181851 [00:00<?, ?it/s]\u001b[A\n",
      "100%|██████████| 181851/181851 [00:00<00:00, 183872.31it/s]\u001b[A\n",
      "  0%|          | 0/181851 [00:00<?, ?it/s]\u001b[A\n",
      " 34%|███▎      | 61047/181851 [00:00<00:00, 610464.76it/s]\u001b[A"
     ]
    },
    {
     "name": "stdout",
     "output_type": "stream",
     "text": [
      "Sparse dummy orders shape: \n",
      "(181851, 521)\n"
     ]
    },
    {
     "name": "stderr",
     "output_type": "stream",
     "text": [
      "\n",
      " 67%|██████▋   | 122368/181851 [00:00<00:00, 611283.74it/s]\u001b[A\n",
      "100%|██████████| 181851/181851 [00:00<00:00, 615195.94it/s]\u001b[A"
     ]
    },
    {
     "name": "stdout",
     "output_type": "stream",
     "text": [
      "Sparse dummy values shape: \n",
      "(181851, 93)\n"
     ]
    },
    {
     "name": "stderr",
     "output_type": "stream",
     "text": [
      "\n",
      "0it [00:00, ?it/s]\u001b[A\n",
      "3717it [00:00, 37169.77it/s]\u001b[A\n",
      "7416it [00:00, 37113.91it/s]\u001b[A\n",
      "11110it [00:00, 37059.34it/s]\u001b[A\n",
      "14823it [00:00, 37080.10it/s]\u001b[A\n",
      "18524it [00:00, 37058.81it/s]\u001b[A\n",
      "22238it [00:00, 37081.92it/s]\u001b[A\n",
      "26005it [00:00, 37254.94it/s]\u001b[A\n",
      "29754it [00:00, 37322.98it/s]\u001b[A\n",
      "33473it [00:00, 37281.21it/s]\u001b[A\n",
      "37250it [00:01, 37423.71it/s]\u001b[A\n",
      "40995it [00:01, 37430.51it/s]\u001b[A\n",
      "44781it [00:01, 37557.49it/s]\u001b[A\n",
      "48544it [00:01, 37576.35it/s]\u001b[A\n",
      "52310it [00:01, 37600.42it/s]\u001b[A\n",
      "56091it [00:01, 37660.08it/s]\u001b[A\n",
      "59880it [00:01, 37728.00it/s]\u001b[A\n",
      " 74%|███████▍  | 129/174 [3:11:54<1:47:21, 143.13s/it]\n",
      "  0%|          | 0/181851 [00:00<?, ?it/s]\u001b[A\n",
      "100%|██████████| 181851/181851 [00:00<00:00, 185739.87it/s]\u001b[A\n",
      "  0%|          | 0/181851 [00:00<?, ?it/s]\u001b[A\n",
      " 34%|███▎      | 61097/181851 [00:00<00:00, 610967.67it/s]"
     ]
    },
    {
     "name": "stdout",
     "output_type": "stream",
     "text": [
      "Sparse dummy orders shape: \n",
      "(181851, 521)\n"
     ]
    },
    {
     "name": "stderr",
     "output_type": "stream",
     "text": [
      "\u001b[A\n",
      " 67%|██████▋   | 122556/181851 [00:00<00:00, 612048.31it/s]\u001b[A\n",
      "100%|██████████| 181851/181851 [00:00<00:00, 609559.20it/s]\u001b[A"
     ]
    },
    {
     "name": "stdout",
     "output_type": "stream",
     "text": [
      "Sparse dummy values shape: \n",
      "(181851, 93)\n"
     ]
    },
    {
     "name": "stderr",
     "output_type": "stream",
     "text": [
      "\n",
      "0it [00:00, ?it/s]\u001b[A\n",
      "3736it [00:00, 37359.06it/s]\u001b[A\n",
      "7472it [00:00, 37358.15it/s]\u001b[A\n",
      "11204it [00:00, 37344.70it/s]\u001b[A\n",
      "14982it [00:00, 37473.98it/s]\u001b[A\n",
      "18742it [00:00, 37509.22it/s]\u001b[A\n",
      "22451it [00:00, 37381.56it/s]\u001b[A\n",
      "26206it [00:00, 37431.46it/s]\u001b[A\n",
      "29974it [00:00, 37504.17it/s]\u001b[A\n",
      "33695it [00:00, 37413.21it/s]\u001b[A\n",
      "37497it [00:01, 37591.96it/s]\u001b[A\n",
      "41327it [00:01, 37800.50it/s]\u001b[A\n",
      "45097it [00:01, 37768.41it/s]\u001b[A\n",
      "48895it [00:01, 37829.87it/s]\u001b[A\n",
      "52735it [00:01, 37996.88it/s]\u001b[A\n",
      "56519it [00:01, 37949.66it/s]\u001b[A\n",
      " 75%|███████▍  | 130/174 [3:14:43<1:50:31, 150.71s/it]\n",
      "  0%|          | 0/181851 [00:00<?, ?it/s]\u001b[A\n",
      "100%|██████████| 181851/181851 [00:00<00:00, 187590.71it/s]\u001b[A\n",
      "  0%|          | 0/181851 [00:00<?, ?it/s]\u001b[A\n",
      " 33%|███▎      | 59908/181851 [00:00<00:00, 599076.29it/s]"
     ]
    },
    {
     "name": "stdout",
     "output_type": "stream",
     "text": [
      "Sparse dummy orders shape: \n",
      "(181851, 530)\n"
     ]
    },
    {
     "name": "stderr",
     "output_type": "stream",
     "text": [
      "\u001b[A\n",
      " 66%|██████▌   | 120265/181851 [00:00<00:00, 600415.39it/s]\u001b[A\n",
      "100%|█████████▉| 181254/181851 [00:00<00:00, 603226.47it/s]\u001b[A\n",
      "100%|██████████| 181851/181851 [00:00<00:00, 599929.98it/s]\u001b[A"
     ]
    },
    {
     "name": "stdout",
     "output_type": "stream",
     "text": [
      "Sparse dummy values shape: \n",
      "(181851, 93)\n"
     ]
    },
    {
     "name": "stderr",
     "output_type": "stream",
     "text": [
      "\n",
      "0it [00:00, ?it/s]\u001b[A\n",
      "3783it [00:00, 37829.31it/s]\u001b[A\n",
      "7623it [00:00, 37997.07it/s]\u001b[A\n",
      "11419it [00:00, 37983.13it/s]\u001b[A\n",
      "15230it [00:00, 38019.27it/s]\u001b[A\n",
      "19022it [00:00, 37988.93it/s]\u001b[A\n",
      "22827it [00:00, 38004.66it/s]\u001b[A\n",
      "26631it [00:00, 38013.88it/s]\u001b[A\n",
      "30510it [00:00, 38240.94it/s]\u001b[A\n",
      "34237it [00:00, 37941.66it/s]\u001b[A\n",
      "38052it [00:01, 37999.90it/s]\u001b[A\n",
      "41867it [00:01, 38044.00it/s]\u001b[A\n",
      "45674it [00:01, 38050.67it/s]\u001b[A\n",
      "49519it [00:01, 38169.39it/s]\u001b[A\n",
      "53317it [00:01, 38111.97it/s]\u001b[A\n",
      "57128it [00:01, 38109.70it/s]\u001b[A\n",
      " 75%|███████▌  | 131/174 [3:17:34<1:52:30, 156.99s/it]\n",
      "  0%|          | 0/181851 [00:00<?, ?it/s]\u001b[A\n",
      "100%|██████████| 181851/181851 [00:00<00:00, 188567.31it/s]\u001b[A\n",
      "  0%|          | 0/181851 [00:00<?, ?it/s]\u001b[A\n",
      " 34%|███▎      | 61100/181851 [00:00<00:00, 610997.67it/s]"
     ]
    },
    {
     "name": "stdout",
     "output_type": "stream",
     "text": [
      "Sparse dummy orders shape: \n",
      "(181851, 530)\n"
     ]
    },
    {
     "name": "stderr",
     "output_type": "stream",
     "text": [
      "\u001b[A\n",
      " 67%|██████▋   | 122269/181851 [00:00<00:00, 611204.50it/s]\u001b[A\n",
      "100%|██████████| 181851/181851 [00:00<00:00, 612453.84it/s]\u001b[A"
     ]
    },
    {
     "name": "stdout",
     "output_type": "stream",
     "text": [
      "Sparse dummy values shape: \n",
      "(181851, 93)\n"
     ]
    },
    {
     "name": "stderr",
     "output_type": "stream",
     "text": [
      "\n",
      "0it [00:00, ?it/s]\u001b[A\n",
      "3698it [00:00, 36972.72it/s]\u001b[A\n",
      "7487it [00:00, 37240.86it/s]\u001b[A\n",
      "11278it [00:00, 37438.59it/s]\u001b[A\n",
      "15118it [00:00, 37721.32it/s]\u001b[A\n",
      "18912it [00:00, 37785.38it/s]\u001b[A\n",
      "22680it [00:00, 37752.55it/s]\u001b[A\n",
      "26453it [00:00, 37744.58it/s]\u001b[A\n",
      "30294it [00:00, 37941.73it/s]\u001b[A\n",
      "34109it [00:00, 38002.06it/s]\u001b[A\n",
      "37906it [00:01, 37990.90it/s]\u001b[A\n",
      "41675it [00:01, 37898.39it/s]\u001b[A\n",
      "45429it [00:01, 37787.83it/s]\u001b[A\n",
      "49163it [00:01, 37650.85it/s]\u001b[A\n",
      "52913it [00:01, 37603.10it/s]\u001b[A\n",
      "56649it [00:01, 37516.53it/s]\u001b[A\n",
      " 76%|███████▌  | 132/174 [3:20:25<1:52:43, 161.03s/it]\n",
      "  0%|          | 0/181851 [00:00<?, ?it/s]\u001b[A\n",
      "100%|██████████| 181851/181851 [00:00<00:00, 185601.07it/s]\u001b[A\n",
      "  0%|          | 0/181851 [00:00<?, ?it/s]\u001b[A\n",
      " 33%|███▎      | 60593/181851 [00:00<00:00, 605926.24it/s]"
     ]
    },
    {
     "name": "stdout",
     "output_type": "stream",
     "text": [
      "Sparse dummy orders shape: \n",
      "(181851, 539)\n"
     ]
    },
    {
     "name": "stderr",
     "output_type": "stream",
     "text": [
      "\u001b[A\n",
      " 67%|██████▋   | 121954/181851 [00:00<00:00, 608209.54it/s]\u001b[A\n",
      "100%|██████████| 181851/181851 [00:00<00:00, 612135.82it/s]\u001b[A"
     ]
    },
    {
     "name": "stdout",
     "output_type": "stream",
     "text": [
      "Sparse dummy values shape: \n",
      "(181851, 93)\n"
     ]
    },
    {
     "name": "stderr",
     "output_type": "stream",
     "text": [
      "\n",
      "0it [00:00, ?it/s]\u001b[A\n",
      "3478it [00:00, 34772.49it/s]\u001b[A\n",
      "7299it [00:00, 35735.79it/s]\u001b[A\n",
      "11007it [00:00, 36127.51it/s]\u001b[A\n",
      "14816it [00:00, 36692.32it/s]\u001b[A\n",
      "18618it [00:00, 37078.60it/s]\u001b[A\n",
      "22425it [00:00, 37367.94it/s]\u001b[A\n",
      "26225it [00:00, 37552.75it/s]\u001b[A\n",
      "30009it [00:00, 37636.23it/s]\u001b[A\n",
      "33803it [00:00, 37726.64it/s]\u001b[A\n",
      "37593it [00:01, 37778.33it/s]\u001b[A\n",
      "41429it [00:01, 37948.32it/s]\u001b[A\n",
      "45188it [00:01, 37839.47it/s]\u001b[A\n",
      "49017it [00:01, 37972.74it/s]\u001b[A\n",
      "52841it [00:01, 38050.75it/s]\u001b[A\n",
      "56623it [00:01, 37932.82it/s]\u001b[A\n",
      " 76%|███████▋  | 133/174 [3:23:17<1:52:19, 164.37s/it]\n",
      "  0%|          | 0/181851 [00:00<?, ?it/s]\u001b[A\n",
      "100%|██████████| 181851/181851 [00:00<00:00, 186409.66it/s]\u001b[A\n",
      "  0%|          | 0/181851 [00:00<?, ?it/s]\u001b[A\n",
      " 34%|███▍      | 61686/181851 [00:00<00:00, 616856.18it/s]"
     ]
    },
    {
     "name": "stdout",
     "output_type": "stream",
     "text": [
      "Sparse dummy orders shape: \n",
      "(181851, 593)\n"
     ]
    },
    {
     "name": "stderr",
     "output_type": "stream",
     "text": [
      "\u001b[A\n",
      " 68%|██████▊   | 123759/181851 [00:00<00:00, 618012.97it/s]\u001b[A\n",
      "100%|██████████| 181851/181851 [00:00<00:00, 620265.30it/s]\u001b[A"
     ]
    },
    {
     "name": "stdout",
     "output_type": "stream",
     "text": [
      "Sparse dummy values shape: \n",
      "(181851, 93)\n"
     ]
    },
    {
     "name": "stderr",
     "output_type": "stream",
     "text": [
      "\n",
      "0it [00:00, ?it/s]\u001b[A\n",
      "3716it [00:00, 37152.42it/s]\u001b[A\n",
      "7508it [00:00, 37378.87it/s]\u001b[A\n",
      "11267it [00:00, 37440.18it/s]\u001b[A\n",
      "15021it [00:00, 37467.86it/s]\u001b[A\n",
      "18768it [00:00, 37466.74it/s]\u001b[A\n",
      "22477it [00:00, 37351.91it/s]\u001b[A\n",
      "26198it [00:00, 37307.79it/s]\u001b[A\n",
      "29933it [00:00, 37317.97it/s]\u001b[A\n",
      "33676it [00:00, 37349.33it/s]\u001b[A\n",
      "37436it [00:01, 37421.53it/s]\u001b[A\n",
      "41287it [00:01, 37739.63it/s]\u001b[A\n",
      "45151it [00:01, 38003.31it/s]\u001b[A\n",
      "49017it [00:01, 38195.44it/s]\u001b[A\n",
      "52825it [00:01, 38159.10it/s]\u001b[A\n",
      "56650it [00:01, 38185.27it/s]\u001b[A\n",
      " 77%|███████▋  | 134/174 [3:26:09<1:51:04, 166.62s/it]\n",
      "  0%|          | 0/181851 [00:00<?, ?it/s]\u001b[A\n",
      "100%|██████████| 181851/181851 [00:00<00:00, 187108.02it/s]\u001b[A\n",
      "  0%|          | 0/181851 [00:00<?, ?it/s]\u001b[A\n",
      " 34%|███▍      | 61690/181851 [00:00<00:00, 616893.23it/s]"
     ]
    },
    {
     "name": "stdout",
     "output_type": "stream",
     "text": [
      "Sparse dummy orders shape: \n",
      "(181851, 593)\n"
     ]
    },
    {
     "name": "stderr",
     "output_type": "stream",
     "text": [
      "\u001b[A\n",
      " 68%|██████▊   | 123178/181851 [00:00<00:00, 616285.41it/s]\u001b[A\n",
      "100%|██████████| 181851/181851 [00:00<00:00, 619841.89it/s]\u001b[A"
     ]
    },
    {
     "name": "stdout",
     "output_type": "stream",
     "text": [
      "Sparse dummy values shape: \n",
      "(181851, 93)\n"
     ]
    },
    {
     "name": "stderr",
     "output_type": "stream",
     "text": [
      "\n",
      "0it [00:00, ?it/s]\u001b[A\n",
      "3681it [00:00, 36803.28it/s]\u001b[A\n",
      "7442it [00:00, 37039.51it/s]\u001b[A\n",
      "11187it [00:00, 37161.11it/s]\u001b[A\n",
      "14912it [00:00, 37186.34it/s]\u001b[A\n",
      "18627it [00:00, 37173.92it/s]\u001b[A\n",
      "22365it [00:00, 37232.89it/s]\u001b[A\n",
      "26114it [00:00, 37308.84it/s]\u001b[A\n",
      "29874it [00:00, 37393.41it/s]\u001b[A\n",
      "33700it [00:00, 37647.66it/s]\u001b[A\n",
      "37538it [00:01, 37860.47it/s]\u001b[A\n",
      "41367it [00:01, 37985.90it/s]\u001b[A\n",
      "45154it [00:01, 37931.87it/s]\u001b[A\n",
      "48955it [00:01, 37953.01it/s]\u001b[A\n",
      "52750it [00:01, 37951.06it/s]\u001b[A\n",
      "56521it [00:01, 37786.86it/s]\u001b[A\n",
      " 78%|███████▊  | 135/174 [3:29:02<1:49:33, 168.55s/it]\n",
      "  0%|          | 0/181851 [00:00<?, ?it/s]\u001b[A\n",
      "100%|██████████| 181851/181851 [00:00<00:00, 188842.44it/s]\u001b[A\n",
      "  0%|          | 0/181851 [00:00<?, ?it/s]\u001b[A\n",
      " 34%|███▎      | 61340/181851 [00:00<00:00, 613394.74it/s]"
     ]
    },
    {
     "name": "stdout",
     "output_type": "stream",
     "text": [
      "Sparse dummy orders shape: \n",
      "(181851, 593)\n"
     ]
    },
    {
     "name": "stderr",
     "output_type": "stream",
     "text": [
      "\u001b[A\n",
      " 67%|██████▋   | 122733/181851 [00:00<00:00, 613552.76it/s]\u001b[A\n",
      "100%|██████████| 181851/181851 [00:00<00:00, 616787.37it/s]\u001b[A"
     ]
    },
    {
     "name": "stdout",
     "output_type": "stream",
     "text": [
      "Sparse dummy values shape: \n",
      "(181851, 93)\n"
     ]
    },
    {
     "name": "stderr",
     "output_type": "stream",
     "text": [
      "\n",
      "0it [00:00, ?it/s]\u001b[A\n",
      "3709it [00:00, 37078.90it/s]\u001b[A\n",
      "7439it [00:00, 37142.34it/s]\u001b[A\n",
      "11190it [00:00, 37249.03it/s]\u001b[A\n",
      "14960it [00:00, 37381.90it/s]\u001b[A\n",
      "18707it [00:00, 37406.91it/s]\u001b[A\n",
      "22459it [00:00, 37440.11it/s]\u001b[A\n",
      "26213it [00:00, 37468.21it/s]\u001b[A\n",
      "29954it [00:00, 37450.31it/s]\u001b[A\n",
      "33830it [00:00, 37833.02it/s]\u001b[A\n",
      "37737it [00:01, 38194.19it/s]\u001b[A\n",
      "41569it [00:01, 38229.21it/s]\u001b[A\n",
      "45386it [00:01, 38208.79it/s]\u001b[A\n",
      "49219it [00:01, 38244.40it/s]\u001b[A\n",
      "53096it [00:01, 38400.10it/s]\u001b[A\n",
      "56951it [00:01, 38443.12it/s]\u001b[A\n",
      " 78%|███████▊  | 136/174 [3:31:55<1:47:37, 169.94s/it]\n",
      "  0%|          | 0/181851 [00:00<?, ?it/s]\u001b[A\n",
      "100%|██████████| 181851/181851 [00:00<00:00, 187354.92it/s]\u001b[A\n",
      "  0%|          | 0/181851 [00:00<?, ?it/s]\u001b[A\n",
      " 34%|███▍      | 61407/181851 [00:00<00:00, 614064.73it/s]"
     ]
    },
    {
     "name": "stdout",
     "output_type": "stream",
     "text": [
      "Sparse dummy orders shape: \n",
      "(181851, 593)\n"
     ]
    },
    {
     "name": "stderr",
     "output_type": "stream",
     "text": [
      "\u001b[A\n",
      " 68%|██████▊   | 123304/181851 [00:00<00:00, 615526.55it/s]\u001b[A\n",
      "100%|██████████| 181851/181851 [00:00<00:00, 618607.22it/s]\u001b[A"
     ]
    },
    {
     "name": "stdout",
     "output_type": "stream",
     "text": [
      "Sparse dummy values shape: \n",
      "(181851, 93)\n"
     ]
    },
    {
     "name": "stderr",
     "output_type": "stream",
     "text": [
      "\n",
      "0it [00:00, ?it/s]\u001b[A\n",
      "3748it [00:00, 37478.43it/s]\u001b[A\n",
      "7524it [00:00, 37560.65it/s]\u001b[A\n",
      "11299it [00:00, 37616.68it/s]\u001b[A\n",
      "15055it [00:00, 37597.11it/s]\u001b[A\n",
      "18805it [00:00, 37567.48it/s]\u001b[A\n",
      "22510it [00:00, 37408.49it/s]\u001b[A\n",
      "26268it [00:00, 37455.04it/s]\u001b[A\n",
      "29988it [00:00, 37376.10it/s]\u001b[A\n",
      "33683it [00:00, 37246.10it/s]\u001b[A\n",
      "37477it [00:01, 37449.99it/s]\u001b[A\n",
      "41193it [00:01, 37359.71it/s]\u001b[A\n",
      "44975it [00:01, 37496.49it/s]\u001b[A\n",
      "48674it [00:01, 37342.05it/s]\u001b[A\n",
      "52396it [00:01, 37302.37it/s]\u001b[A\n",
      "56102it [00:01, 37175.33it/s]\u001b[A\n",
      "59803it [00:01, 37080.46it/s]\u001b[A\n",
      " 79%|███████▊  | 137/174 [3:34:51<1:45:53, 171.72s/it]\n",
      "  0%|          | 0/181851 [00:00<?, ?it/s]\u001b[A\n",
      "100%|██████████| 181851/181851 [00:00<00:00, 184193.48it/s]\u001b[A\n",
      "  0%|          | 0/181851 [00:00<?, ?it/s]\u001b[A\n",
      " 33%|███▎      | 60333/181851 [00:00<00:00, 603326.26it/s]"
     ]
    },
    {
     "name": "stdout",
     "output_type": "stream",
     "text": [
      "Sparse dummy orders shape: \n",
      "(181851, 607)\n"
     ]
    },
    {
     "name": "stderr",
     "output_type": "stream",
     "text": [
      "\u001b[A\n",
      " 67%|██████▋   | 120979/181851 [00:00<00:00, 604260.56it/s]\u001b[A\n",
      "100%|██████████| 181851/181851 [00:00<00:00, 603206.06it/s]\u001b[A"
     ]
    },
    {
     "name": "stdout",
     "output_type": "stream",
     "text": [
      "Sparse dummy values shape: \n",
      "(181851, 93)\n"
     ]
    },
    {
     "name": "stderr",
     "output_type": "stream",
     "text": [
      "\n",
      "0it [00:00, ?it/s]\u001b[A\n",
      "3713it [00:00, 37127.82it/s]\u001b[A\n",
      "7494it [00:00, 37329.81it/s]\u001b[A\n",
      "11210it [00:00, 37276.31it/s]\u001b[A\n",
      "14941it [00:00, 37285.59it/s]\u001b[A\n",
      "18792it [00:00, 37642.59it/s]\u001b[A\n",
      "22618it [00:00, 37823.64it/s]\u001b[A\n",
      "26449it [00:00, 37966.67it/s]\u001b[A\n",
      "30269it [00:00, 38035.27it/s]\u001b[A\n",
      "34066it [00:00, 38015.29it/s]\u001b[A\n",
      "37916it [00:01, 38158.67it/s]\u001b[A\n",
      "41763it [00:01, 38249.24it/s]\u001b[A\n",
      "45577it [00:01, 38214.63it/s]\u001b[A\n",
      "49430it [00:01, 38306.72it/s]\u001b[A\n",
      "53269it [00:01, 38329.02it/s]\u001b[A\n",
      "57077it [00:01, 38234.95it/s]\u001b[A\n",
      " 79%|███████▉  | 138/174 [3:37:45<1:43:25, 172.38s/it]\n",
      "  0%|          | 0/181851 [00:00<?, ?it/s]\u001b[A\n",
      "100%|██████████| 181851/181851 [00:00<00:00, 183969.08it/s]\u001b[A\n",
      "  0%|          | 0/181851 [00:00<?, ?it/s]\u001b[A\n",
      " 35%|███▍      | 63062/181851 [00:00<00:00, 630617.59it/s]"
     ]
    },
    {
     "name": "stdout",
     "output_type": "stream",
     "text": [
      "Sparse dummy orders shape: \n",
      "(181851, 654)\n"
     ]
    },
    {
     "name": "stderr",
     "output_type": "stream",
     "text": [
      "\u001b[A\n",
      " 69%|██████▊   | 124856/181851 [00:00<00:00, 626758.85it/s]\u001b[A\n",
      "100%|██████████| 181851/181851 [00:00<00:00, 620181.58it/s]\u001b[A"
     ]
    },
    {
     "name": "stdout",
     "output_type": "stream",
     "text": [
      "Sparse dummy values shape: \n",
      "(181851, 93)\n"
     ]
    },
    {
     "name": "stderr",
     "output_type": "stream",
     "text": [
      "\n",
      "0it [00:00, ?it/s]\u001b[A\n",
      "3657it [00:00, 36564.19it/s]\u001b[A\n",
      "7335it [00:00, 36628.18it/s]\u001b[A\n",
      "11096it [00:00, 36914.57it/s]\u001b[A\n",
      "14816it [00:00, 36999.51it/s]\u001b[A\n",
      "18584it [00:00, 37199.29it/s]\u001b[A\n",
      "22268it [00:00, 37089.50it/s]\u001b[A\n",
      "26029it [00:00, 37241.69it/s]\u001b[A\n",
      "29805it [00:00, 37394.79it/s]\u001b[A\n",
      "33513it [00:00, 37297.25it/s]\u001b[A\n",
      "37223it [00:01, 37237.68it/s]\u001b[A\n",
      "40946it [00:01, 37235.17it/s]\u001b[A\n",
      "44689it [00:01, 37291.56it/s]\u001b[A\n",
      "48421it [00:01, 37297.86it/s]\u001b[A\n",
      "52164it [00:01, 37334.91it/s]\u001b[A\n",
      "55889it [00:01, 37308.50it/s]\u001b[A\n",
      "59603it [00:01, 37186.64it/s]\u001b[A\n",
      " 80%|███████▉  | 139/174 [3:40:51<1:43:00, 176.59s/it]\n",
      "  0%|          | 0/181851 [00:00<?, ?it/s]\u001b[A\n",
      "100%|██████████| 181851/181851 [00:01<00:00, 165558.99it/s]\u001b[A\n",
      "  0%|          | 0/181851 [00:00<?, ?it/s]\u001b[A\n",
      " 33%|███▎      | 60846/181851 [00:00<00:00, 608450.43it/s]"
     ]
    },
    {
     "name": "stdout",
     "output_type": "stream",
     "text": [
      "Sparse dummy orders shape: \n",
      "(181851, 680)\n"
     ]
    },
    {
     "name": "stderr",
     "output_type": "stream",
     "text": [
      "\u001b[A\n",
      " 66%|██████▋   | 120737/181851 [00:00<00:00, 605555.40it/s]\u001b[A\n",
      "100%|█████████▉| 181845/181851 [00:00<00:00, 607200.27it/s]\u001b[A\n",
      "100%|██████████| 181851/181851 [00:00<00:00, 604173.14it/s]\u001b[A"
     ]
    },
    {
     "name": "stdout",
     "output_type": "stream",
     "text": [
      "Sparse dummy values shape: \n",
      "(181851, 93)\n"
     ]
    },
    {
     "name": "stderr",
     "output_type": "stream",
     "text": [
      "\n",
      "0it [00:00, ?it/s]\u001b[A\n",
      "3748it [00:00, 37477.80it/s]\u001b[A\n",
      "7545it [00:00, 37622.69it/s]\u001b[A\n",
      "11358it [00:00, 37771.01it/s]\u001b[A\n",
      "15160it [00:00, 37842.52it/s]\u001b[A\n",
      "18960it [00:00, 37889.07it/s]\u001b[A\n",
      "22760it [00:00, 37919.88it/s]\u001b[A\n",
      "26573it [00:00, 37982.06it/s]\u001b[A\n",
      "30436it [00:00, 38171.95it/s]\u001b[A\n",
      "34289it [00:00, 38278.10it/s]\u001b[A\n",
      "38136it [00:01, 38333.24it/s]\u001b[A\n",
      "41944it [00:01, 38256.65it/s]\u001b[A\n",
      "45745it [00:01, 38179.95it/s]\u001b[A\n",
      "49541it [00:01, 38112.61it/s]\u001b[A\n",
      "53349it [00:01, 38102.26it/s]\u001b[A\n",
      "57153it [00:01, 38083.22it/s]\u001b[A\n",
      " 80%|████████  | 140/174 [3:44:09<1:43:40, 182.97s/it]\n",
      "  0%|          | 0/181851 [00:00<?, ?it/s]\u001b[A\n",
      "100%|██████████| 181851/181851 [00:01<00:00, 171025.32it/s]\u001b[A\n",
      "  0%|          | 0/181851 [00:00<?, ?it/s]\u001b[A\n",
      " 34%|███▍      | 61634/181851 [00:00<00:00, 616337.65it/s]"
     ]
    },
    {
     "name": "stdout",
     "output_type": "stream",
     "text": [
      "Sparse dummy orders shape: \n",
      "(181851, 680)\n"
     ]
    },
    {
     "name": "stderr",
     "output_type": "stream",
     "text": [
      "\u001b[A\n",
      " 68%|██████▊   | 123530/181851 [00:00<00:00, 617121.75it/s]\u001b[A\n",
      "100%|██████████| 181851/181851 [00:00<00:00, 617854.57it/s]\u001b[A"
     ]
    },
    {
     "name": "stdout",
     "output_type": "stream",
     "text": [
      "Sparse dummy values shape: \n",
      "(181851, 93)\n"
     ]
    },
    {
     "name": "stderr",
     "output_type": "stream",
     "text": [
      "\n",
      "0it [00:00, ?it/s]\u001b[A\n",
      "3709it [00:00, 37084.38it/s]\u001b[A\n",
      "7491it [00:00, 37299.55it/s]\u001b[A\n",
      "11257it [00:00, 37404.61it/s]\u001b[A\n",
      "15059it [00:00, 37585.35it/s]\u001b[A\n",
      "18822it [00:00, 37597.08it/s]\u001b[A\n",
      "22616it [00:00, 37696.77it/s]\u001b[A\n",
      "26396it [00:00, 37727.10it/s]\u001b[A\n",
      "30221it [00:00, 37881.96it/s]\u001b[A\n",
      "33973it [00:00, 37770.34it/s]\u001b[A\n",
      "37771it [00:01, 37830.74it/s]\u001b[A\n",
      "41539it [00:01, 37784.43it/s]\u001b[A\n",
      "45316it [00:01, 37777.84it/s]\u001b[A\n",
      "49071it [00:01, 37707.37it/s]\u001b[A\n",
      "52811it [00:01, 37611.93it/s]\u001b[A\n",
      "56598it [00:01, 37688.75it/s]\u001b[A\n",
      " 81%|████████  | 141/174 [3:47:25<1:42:40, 186.69s/it]\n",
      "  0%|          | 0/181851 [00:00<?, ?it/s]\u001b[A\n",
      "100%|██████████| 181851/181851 [00:01<00:00, 164713.30it/s]\u001b[A\n",
      "  0%|          | 0/181851 [00:00<?, ?it/s]\u001b[A\n",
      " 34%|███▍      | 61379/181851 [00:00<00:00, 613780.34it/s]\u001b[A"
     ]
    },
    {
     "name": "stdout",
     "output_type": "stream",
     "text": [
      "Sparse dummy orders shape: \n",
      "(181851, 741)\n"
     ]
    },
    {
     "name": "stderr",
     "output_type": "stream",
     "text": [
      "\n",
      " 67%|██████▋   | 121972/181851 [00:00<00:00, 611401.05it/s]\u001b[A\n",
      "100%|██████████| 181851/181851 [00:00<00:00, 611489.01it/s]\u001b[A"
     ]
    },
    {
     "name": "stdout",
     "output_type": "stream",
     "text": [
      "Sparse dummy values shape: \n",
      "(181851, 93)\n"
     ]
    },
    {
     "name": "stderr",
     "output_type": "stream",
     "text": [
      "\n",
      "0it [00:00, ?it/s]\u001b[A\n",
      "3745it [00:00, 37442.36it/s]\u001b[A\n",
      "7500it [00:00, 37472.67it/s]\u001b[A\n",
      "11218it [00:00, 37383.91it/s]\u001b[A\n",
      "14921it [00:00, 37276.45it/s]\u001b[A\n",
      "18622it [00:00, 37195.99it/s]\u001b[A\n",
      "22353it [00:00, 37228.19it/s]\u001b[A\n",
      "26129it [00:00, 37383.91it/s]\u001b[A\n",
      "29956it [00:00, 37643.13it/s]\u001b[A\n",
      "33750it [00:00, 37729.27it/s]\u001b[A\n",
      "37530it [00:01, 37750.02it/s]\u001b[A\n",
      "41400it [00:01, 38028.22it/s]\u001b[A\n",
      "45213it [00:01, 38057.67it/s]\u001b[A\n",
      "49005it [00:01, 38014.37it/s]\u001b[A\n",
      "52771it [00:01, 37867.30it/s]\u001b[A\n",
      "56536it [00:01, 37801.45it/s]\u001b[A\n",
      " 82%|████████▏ | 142/174 [3:50:43<1:41:27, 190.23s/it]\n",
      "  0%|          | 0/181851 [00:00<?, ?it/s]\u001b[A\n",
      "100%|██████████| 181851/181851 [00:01<00:00, 166625.10it/s]\u001b[A\n",
      "  0%|          | 0/181851 [00:00<?, ?it/s]\u001b[A\n",
      " 34%|███▎      | 61272/181851 [00:00<00:00, 612716.20it/s]"
     ]
    },
    {
     "name": "stdout",
     "output_type": "stream",
     "text": [
      "Sparse dummy orders shape: \n",
      "(181851, 747)\n"
     ]
    },
    {
     "name": "stderr",
     "output_type": "stream",
     "text": [
      "\u001b[A\n",
      " 67%|██████▋   | 122686/181851 [00:00<00:00, 613141.07it/s]\u001b[A\n",
      "100%|██████████| 181851/181851 [00:00<00:00, 617109.24it/s]\u001b[A"
     ]
    },
    {
     "name": "stdout",
     "output_type": "stream",
     "text": [
      "Sparse dummy values shape: \n",
      "(181851, 93)\n"
     ]
    },
    {
     "name": "stderr",
     "output_type": "stream",
     "text": [
      "\n",
      "0it [00:00, ?it/s]\u001b[A\n",
      "3725it [00:00, 37244.80it/s]\u001b[A\n",
      "7522it [00:00, 37457.14it/s]\u001b[A\n",
      "11310it [00:00, 37581.42it/s]\u001b[A\n",
      "15108it [00:00, 37698.92it/s]\u001b[A\n",
      "18905it [00:00, 37778.34it/s]\u001b[A\n",
      "22676it [00:00, 37756.69it/s]\u001b[A\n",
      "26442it [00:00, 37725.86it/s]\u001b[A\n",
      "30223it [00:00, 37749.83it/s]\u001b[A\n",
      "34079it [00:00, 37988.89it/s]\u001b[A\n",
      "37906it [00:01, 38071.12it/s]\u001b[A\n",
      "41689it [00:01, 37996.54it/s]\u001b[A\n",
      "45480it [00:01, 37968.40it/s]\u001b[A\n",
      "49261it [00:01, 37918.11it/s]\u001b[A\n",
      "53024it [00:01, 37830.95it/s]\u001b[A\n",
      "56804it [00:01, 37818.89it/s]\u001b[A\n",
      " 82%|████████▏ | 143/174 [3:53:58<1:39:05, 191.78s/it]\n",
      "  0%|          | 0/181851 [00:00<?, ?it/s]\u001b[A\n",
      "100%|██████████| 181851/181851 [00:01<00:00, 165148.61it/s]\u001b[A\n",
      "  0%|          | 0/181851 [00:00<?, ?it/s]\u001b[A\n",
      " 33%|███▎      | 60610/181851 [00:00<00:00, 606099.13it/s]"
     ]
    },
    {
     "name": "stdout",
     "output_type": "stream",
     "text": [
      "Sparse dummy orders shape: \n",
      "(181851, 765)\n"
     ]
    },
    {
     "name": "stderr",
     "output_type": "stream",
     "text": [
      "\u001b[A\n",
      " 67%|██████▋   | 121412/181851 [00:00<00:00, 606663.03it/s]\u001b[A\n",
      "100%|██████████| 181851/181851 [00:00<00:00, 609469.09it/s]\u001b[A"
     ]
    },
    {
     "name": "stdout",
     "output_type": "stream",
     "text": [
      "Sparse dummy values shape: \n",
      "(181851, 93)\n"
     ]
    },
    {
     "name": "stderr",
     "output_type": "stream",
     "text": [
      "\n",
      "0it [00:00, ?it/s]\u001b[A\n",
      "3733it [00:00, 37327.19it/s]\u001b[A\n",
      "7468it [00:00, 37333.48it/s]\u001b[A\n",
      "11269it [00:00, 37531.44it/s]\u001b[A\n",
      "15063it [00:00, 37651.78it/s]\u001b[A\n",
      "18808it [00:00, 37590.03it/s]\u001b[A\n",
      "22538it [00:00, 37501.37it/s]\u001b[A\n",
      "26302it [00:00, 37541.34it/s]\u001b[A\n",
      "30085it [00:00, 37624.62it/s]\u001b[A\n",
      "33832it [00:00, 37578.00it/s]\u001b[A\n",
      "37600it [00:01, 37607.70it/s]\u001b[A\n",
      "41383it [00:01, 37672.32it/s]\u001b[A\n",
      "45181it [00:01, 37762.48it/s]\u001b[A\n",
      "48953it [00:01, 37747.00it/s]\u001b[A\n",
      "52740it [00:01, 37781.57it/s]\u001b[A\n",
      "56500it [00:01, 37725.30it/s]\u001b[A\n",
      " 83%|████████▎ | 144/174 [3:57:16<1:36:46, 193.56s/it]\n",
      "  0%|          | 0/181851 [00:00<?, ?it/s]\u001b[A\n",
      "100%|██████████| 181851/181851 [00:01<00:00, 165282.49it/s]\u001b[A\n",
      "  0%|          | 0/181851 [00:00<?, ?it/s]\u001b[A\n",
      " 33%|███▎      | 59757/181851 [00:00<00:00, 597563.45it/s]"
     ]
    },
    {
     "name": "stdout",
     "output_type": "stream",
     "text": [
      "Sparse dummy orders shape: \n",
      "(181851, 770)\n"
     ]
    },
    {
     "name": "stderr",
     "output_type": "stream",
     "text": [
      "\u001b[A\n",
      " 66%|██████▌   | 120397/181851 [00:00<00:00, 600184.87it/s]\u001b[A\n",
      "100%|██████████| 181851/181851 [00:00<00:00, 607704.46it/s]\u001b[A"
     ]
    },
    {
     "name": "stdout",
     "output_type": "stream",
     "text": [
      "Sparse dummy values shape: \n",
      "(181851, 93)\n"
     ]
    },
    {
     "name": "stderr",
     "output_type": "stream",
     "text": [
      "\n",
      "0it [00:00, ?it/s]\u001b[A\n",
      "3709it [00:00, 37081.99it/s]\u001b[A\n",
      "7473it [00:00, 37245.23it/s]\u001b[A\n",
      "11278it [00:00, 37480.49it/s]\u001b[A\n",
      "15022it [00:00, 37467.46it/s]\u001b[A\n",
      "18833it [00:00, 37653.95it/s]\u001b[A\n",
      "22569it [00:00, 37561.19it/s]\u001b[A\n",
      "26307it [00:00, 37504.02it/s]\u001b[A\n",
      "30106it [00:00, 37648.17it/s]\u001b[A\n",
      "33881it [00:00, 37677.43it/s]\u001b[A\n",
      "37748it [00:01, 37968.44it/s]\u001b[A\n",
      "41563it [00:01, 38022.27it/s]\u001b[A\n",
      "45390it [00:01, 38095.91it/s]\u001b[A\n",
      "49191it [00:01, 38068.47it/s]\u001b[A\n",
      "52963it [00:01, 37943.55it/s]\u001b[A\n",
      "56766it [00:01, 37967.17it/s]\u001b[A\n",
      " 83%|████████▎ | 145/174 [4:00:33<1:33:58, 194.44s/it]\n",
      "  0%|          | 0/181851 [00:00<?, ?it/s]\u001b[A\n",
      "100%|██████████| 181851/181851 [00:01<00:00, 164751.90it/s]\u001b[A\n",
      "  0%|          | 0/181851 [00:00<?, ?it/s]\u001b[A\n",
      " 34%|███▍      | 61579/181851 [00:00<00:00, 615789.12it/s]"
     ]
    },
    {
     "name": "stdout",
     "output_type": "stream",
     "text": [
      "Sparse dummy orders shape: \n",
      "(181851, 770)\n"
     ]
    },
    {
     "name": "stderr",
     "output_type": "stream",
     "text": [
      "\u001b[A\n",
      " 68%|██████▊   | 123382/181851 [00:00<00:00, 616458.53it/s]\u001b[A\n",
      "100%|██████████| 181851/181851 [00:00<00:00, 618224.15it/s]\u001b[A"
     ]
    },
    {
     "name": "stdout",
     "output_type": "stream",
     "text": [
      "Sparse dummy values shape: \n",
      "(181851, 93)\n"
     ]
    },
    {
     "name": "stderr",
     "output_type": "stream",
     "text": [
      "\n",
      "0it [00:00, ?it/s]\u001b[A\n",
      "3736it [00:00, 37359.06it/s]\u001b[A\n",
      "7496it [00:00, 37430.84it/s]\u001b[A\n",
      "11231it [00:00, 37404.77it/s]\u001b[A\n",
      "14933it [00:00, 37286.58it/s]\u001b[A\n",
      "18671it [00:00, 37313.39it/s]\u001b[A\n",
      "22398it [00:00, 37298.35it/s]\u001b[A\n",
      "26137it [00:00, 37323.75it/s]\u001b[A\n",
      "29789it [00:00, 37077.98it/s]\u001b[A\n",
      "33494it [00:00, 37069.09it/s]\u001b[A\n",
      "37258it [00:01, 37238.18it/s]\u001b[A\n",
      "41000it [00:01, 37291.67it/s]\u001b[A\n",
      "44742it [00:01, 37327.66it/s]\u001b[A\n",
      "48424it [00:01, 36404.57it/s]\u001b[A\n",
      "52034it [00:01, 35538.92it/s]\u001b[A\n",
      "55623it [00:01, 35643.03it/s]\u001b[A\n",
      "59176it [00:01, 35434.62it/s]\u001b[A\n",
      " 84%|████████▍ | 146/174 [4:03:48<1:30:52, 194.73s/it]\n",
      "  0%|          | 0/181851 [00:00<?, ?it/s]\u001b[A\n",
      "100%|██████████| 181851/181851 [00:01<00:00, 139025.50it/s]\u001b[A\n",
      "  0%|          | 0/181851 [00:00<?, ?it/s]\u001b[A\n",
      " 34%|███▎      | 61237/181851 [00:00<00:00, 612360.36it/s]"
     ]
    },
    {
     "name": "stdout",
     "output_type": "stream",
     "text": [
      "Sparse dummy orders shape: \n",
      "(181851, 854)\n"
     ]
    },
    {
     "name": "stderr",
     "output_type": "stream",
     "text": [
      "\u001b[A\n",
      " 67%|██████▋   | 121763/181851 [00:00<00:00, 610211.24it/s]\u001b[A\n",
      "100%|██████████| 181851/181851 [00:00<00:00, 612326.50it/s]\u001b[A"
     ]
    },
    {
     "name": "stdout",
     "output_type": "stream",
     "text": [
      "Sparse dummy values shape: \n",
      "(181851, 93)\n"
     ]
    },
    {
     "name": "stderr",
     "output_type": "stream",
     "text": [
      "\n",
      "0it [00:00, ?it/s]\u001b[A\n",
      "3684it [00:00, 36835.38it/s]\u001b[A\n",
      "7463it [00:00, 37114.98it/s]\u001b[A\n",
      "11292it [00:00, 37458.39it/s]\u001b[A\n",
      "15068it [00:00, 37545.86it/s]\u001b[A\n",
      "18875it [00:00, 37700.85it/s]\u001b[A\n",
      "22638it [00:00, 37676.71it/s]\u001b[A\n",
      "26422it [00:00, 37724.33it/s]\u001b[A\n",
      "30217it [00:00, 37791.68it/s]\u001b[A\n",
      "33930it [00:00, 37589.39it/s]\u001b[A\n",
      "37713it [00:01, 37659.60it/s]\u001b[A\n",
      "41444it [00:01, 37551.58it/s]\u001b[A\n",
      "45245it [00:01, 37687.93it/s]\u001b[A\n",
      "49016it [00:01, 37693.34it/s]\u001b[A\n",
      "52750it [00:01, 37525.29it/s]\u001b[A\n",
      "56512it [00:01, 37550.15it/s]\u001b[A\n",
      " 84%|████████▍ | 147/174 [4:07:28<1:31:01, 202.26s/it]\n",
      "  0%|          | 0/181851 [00:00<?, ?it/s]\u001b[A\n",
      "100%|██████████| 181851/181851 [00:01<00:00, 140807.04it/s]\u001b[A\n",
      "  0%|          | 0/181851 [00:00<?, ?it/s]\u001b[A\n",
      " 34%|███▍      | 62659/181851 [00:00<00:00, 626589.10it/s]"
     ]
    },
    {
     "name": "stdout",
     "output_type": "stream",
     "text": [
      "Sparse dummy orders shape: \n",
      "(181851, 854)\n"
     ]
    },
    {
     "name": "stderr",
     "output_type": "stream",
     "text": [
      "\u001b[A\n",
      " 69%|██████▉   | 125151/181851 [00:00<00:00, 626087.17it/s]\u001b[A\n",
      "100%|██████████| 181851/181851 [00:00<00:00, 626835.95it/s]\u001b[A"
     ]
    },
    {
     "name": "stdout",
     "output_type": "stream",
     "text": [
      "Sparse dummy values shape: \n",
      "(181851, 93)\n"
     ]
    },
    {
     "name": "stderr",
     "output_type": "stream",
     "text": [
      "\n",
      "0it [00:00, ?it/s]\u001b[A\n",
      "3761it [00:00, 37605.55it/s]\u001b[A\n",
      "7488it [00:00, 37503.08it/s]\u001b[A\n",
      "11244it [00:00, 37519.69it/s]\u001b[A\n",
      "14947it [00:00, 37370.58it/s]\u001b[A\n",
      "18694it [00:00, 37397.56it/s]\u001b[A\n",
      "22444it [00:00, 37426.02it/s]\u001b[A\n",
      "26155it [00:00, 37328.33it/s]\u001b[A\n",
      "29897it [00:00, 37355.58it/s]\u001b[A\n",
      "33606it [00:00, 37275.25it/s]\u001b[A\n",
      "37311it [00:01, 37205.47it/s]\u001b[A\n",
      "41032it [00:01, 37202.37it/s]\u001b[A\n",
      "44781it [00:01, 37285.50it/s]\u001b[A\n",
      "48458it [00:01, 37038.58it/s]\u001b[A\n",
      "52301it [00:01, 37444.20it/s]\u001b[A\n",
      "56203it [00:01, 37901.37it/s]\u001b[A\n",
      " 85%|████████▌ | 148/174 [4:11:04<1:29:23, 206.29s/it]\n",
      "  0%|          | 0/181851 [00:00<?, ?it/s]\u001b[A\n",
      "100%|██████████| 181851/181851 [00:01<00:00, 142071.04it/s]\u001b[A\n",
      "  0%|          | 0/181851 [00:00<?, ?it/s]\u001b[A\n",
      " 34%|███▎      | 61347/181851 [00:00<00:00, 613463.27it/s]"
     ]
    },
    {
     "name": "stdout",
     "output_type": "stream",
     "text": [
      "Sparse dummy orders shape: \n",
      "(181851, 866)\n"
     ]
    },
    {
     "name": "stderr",
     "output_type": "stream",
     "text": [
      "\u001b[A\n",
      " 68%|██████▊   | 123721/181851 [00:00<00:00, 616507.68it/s]\u001b[A\n",
      "100%|██████████| 181851/181851 [00:00<00:00, 619980.94it/s]\u001b[A"
     ]
    },
    {
     "name": "stdout",
     "output_type": "stream",
     "text": [
      "Sparse dummy values shape: \n",
      "(181851, 93)\n"
     ]
    },
    {
     "name": "stderr",
     "output_type": "stream",
     "text": [
      "\n",
      "0it [00:00, ?it/s]\u001b[A\n",
      "3686it [00:00, 36850.63it/s]\u001b[A\n",
      "7440it [00:00, 37053.08it/s]\u001b[A\n",
      "11180it [00:00, 37153.03it/s]\u001b[A\n",
      "14947it [00:00, 37304.89it/s]\u001b[A\n",
      "18709it [00:00, 37396.03it/s]\u001b[A\n",
      "22425it [00:00, 37322.51it/s]\u001b[A\n",
      "26260it [00:00, 37623.86it/s]\u001b[A\n",
      "30106it [00:00, 37869.16it/s]\u001b[A\n",
      "33951it [00:00, 38039.39it/s]\u001b[A\n",
      "37777it [00:01, 38103.96it/s]\u001b[A\n",
      "41575it [00:01, 38065.50it/s]\u001b[A\n",
      "45392it [00:01, 38094.46it/s]\u001b[A\n",
      "49168it [00:01, 37992.04it/s]\u001b[A\n",
      "52961it [00:01, 37971.97it/s]\u001b[A\n",
      "56734it [00:01, 37889.51it/s]\u001b[A\n",
      " 86%|████████▌ | 149/174 [4:14:44<1:27:45, 210.60s/it]\n",
      "  0%|          | 0/181851 [00:00<?, ?it/s]\u001b[A\n",
      "100%|██████████| 181851/181851 [00:01<00:00, 138937.67it/s]\u001b[A\n",
      "  0%|          | 0/181851 [00:00<?, ?it/s]\u001b[A\n",
      " 34%|███▎      | 61305/181851 [00:00<00:00, 613041.82it/s]"
     ]
    },
    {
     "name": "stdout",
     "output_type": "stream",
     "text": [
      "Sparse dummy orders shape: \n",
      "(181851, 866)\n"
     ]
    },
    {
     "name": "stderr",
     "output_type": "stream",
     "text": [
      "\u001b[A\n",
      " 68%|██████▊   | 122950/181851 [00:00<00:00, 614057.86it/s]\u001b[A\n",
      "100%|██████████| 181851/181851 [00:00<00:00, 614581.77it/s]\u001b[A"
     ]
    },
    {
     "name": "stdout",
     "output_type": "stream",
     "text": [
      "Sparse dummy values shape: \n",
      "(181851, 93)\n"
     ]
    },
    {
     "name": "stderr",
     "output_type": "stream",
     "text": [
      "\n",
      "0it [00:00, ?it/s]\u001b[A\n",
      "3712it [00:00, 37110.83it/s]\u001b[A\n",
      "7461it [00:00, 37221.25it/s]\u001b[A\n",
      "11219it [00:00, 37325.88it/s]\u001b[A\n",
      "14922it [00:00, 37233.93it/s]\u001b[A\n",
      "18677it [00:00, 37326.45it/s]\u001b[A\n",
      "22398it [00:00, 37290.62it/s]\u001b[A\n",
      "26098it [00:00, 37199.94it/s]\u001b[A\n",
      "29791it [00:00, 37117.84it/s]\u001b[A\n",
      "33506it [00:00, 37125.82it/s]\u001b[A\n",
      "37260it [00:01, 37246.40it/s]\u001b[A\n",
      "40939it [00:01, 37107.58it/s]\u001b[A\n",
      "44577it [00:01, 36833.10it/s]\u001b[A\n",
      "48321it [00:01, 37011.51it/s]\u001b[A\n",
      "52068it [00:01, 37146.30it/s]\u001b[A\n",
      "55820it [00:01, 37254.99it/s]\u001b[A\n",
      "59561it [00:01, 37300.41it/s]\u001b[A\n",
      " 86%|████████▌ | 150/174 [4:18:26<1:25:32, 213.84s/it]\n",
      "  0%|          | 0/181851 [00:00<?, ?it/s]\u001b[A\n",
      "100%|██████████| 181851/181851 [00:01<00:00, 136990.93it/s]\u001b[A\n",
      "  0%|          | 0/181851 [00:00<?, ?it/s]\u001b[A\n",
      " 33%|███▎      | 60754/181851 [00:00<00:00, 607536.23it/s]\u001b[A"
     ]
    },
    {
     "name": "stdout",
     "output_type": "stream",
     "text": [
      "Sparse dummy orders shape: \n",
      "(181851, 877)\n"
     ]
    },
    {
     "name": "stderr",
     "output_type": "stream",
     "text": [
      "\n",
      " 67%|██████▋   | 121571/181851 [00:00<00:00, 607724.66it/s]\u001b[A\n",
      "100%|██████████| 181851/181851 [00:00<00:00, 610129.20it/s]\u001b[A"
     ]
    },
    {
     "name": "stdout",
     "output_type": "stream",
     "text": [
      "Sparse dummy values shape: \n",
      "(181851, 93)\n"
     ]
    },
    {
     "name": "stderr",
     "output_type": "stream",
     "text": [
      "\n",
      "0it [00:00, ?it/s]\u001b[A\n",
      "3757it [00:00, 37564.93it/s]\u001b[A\n",
      "7512it [00:00, 37559.68it/s]\u001b[A\n",
      "11277it [00:00, 37584.78it/s]\u001b[A\n",
      "15021it [00:00, 37538.63it/s]\u001b[A\n",
      "18784it [00:00, 37563.70it/s]\u001b[A\n",
      "22527it [00:00, 37521.19it/s]\u001b[A\n",
      "26280it [00:00, 37523.25it/s]\u001b[A\n",
      "30010it [00:00, 37454.01it/s]\u001b[A\n",
      "33734it [00:00, 37387.01it/s]\u001b[A\n",
      "37509it [00:01, 37493.35it/s]\u001b[A\n",
      "41279it [00:01, 37553.30it/s]\u001b[A\n",
      "45001it [00:01, 37450.24it/s]\u001b[A\n",
      "48713it [00:01, 37349.70it/s]\u001b[A\n",
      "52454it [00:01, 37367.12it/s]\u001b[A\n",
      "56305it [00:01, 37702.20it/s]\u001b[A\n",
      " 87%|████████▋ | 151/174 [4:22:04<1:22:26, 215.09s/it]\n",
      "  0%|          | 0/181851 [00:00<?, ?it/s]\u001b[A\n",
      "100%|██████████| 181851/181851 [00:01<00:00, 138984.36it/s]\u001b[A\n",
      "  0%|          | 0/181851 [00:00<?, ?it/s]\u001b[A\n",
      " 34%|███▎      | 60922/181851 [00:00<00:00, 609217.68it/s]\u001b[A"
     ]
    },
    {
     "name": "stdout",
     "output_type": "stream",
     "text": [
      "Sparse dummy orders shape: \n",
      "(181851, 877)\n"
     ]
    },
    {
     "name": "stderr",
     "output_type": "stream",
     "text": [
      "\n",
      " 67%|██████▋   | 122129/181851 [00:00<00:00, 610069.88it/s]\u001b[A\n",
      "100%|██████████| 181851/181851 [00:00<00:00, 608228.31it/s]\u001b[A"
     ]
    },
    {
     "name": "stdout",
     "output_type": "stream",
     "text": [
      "Sparse dummy values shape: \n",
      "(181851, 93)\n"
     ]
    },
    {
     "name": "stderr",
     "output_type": "stream",
     "text": [
      "\n",
      "0it [00:00, ?it/s]\u001b[A\n",
      "3668it [00:00, 36678.02it/s]\u001b[A\n",
      "7426it [00:00, 36941.24it/s]\u001b[A\n",
      "11192it [00:00, 37152.28it/s]\u001b[A\n",
      "14917it [00:00, 37180.30it/s]\u001b[A\n",
      "18652it [00:00, 37230.93it/s]\u001b[A\n",
      "22367it [00:00, 37205.24it/s]\u001b[A\n",
      "26054it [00:00, 37101.48it/s]\u001b[A\n",
      "29752it [00:00, 37062.54it/s]\u001b[A\n",
      "33544it [00:00, 37314.98it/s]\u001b[A\n",
      "37305it [00:01, 37400.22it/s]\u001b[A\n",
      "41028it [00:01, 37346.16it/s]\u001b[A\n",
      "44838it [00:01, 37568.35it/s]\u001b[A\n",
      "48553it [00:01, 37441.30it/s]\u001b[A\n",
      "52263it [00:01, 37280.65it/s]\u001b[A\n",
      "56083it [00:01, 37551.31it/s]\u001b[A\n",
      "59847it [00:01, 37573.91it/s]\u001b[A\n",
      " 87%|████████▋ | 152/174 [4:25:40<1:19:00, 215.46s/it]\n",
      "  0%|          | 0/181851 [00:00<?, ?it/s]\u001b[A\n",
      "100%|██████████| 181851/181851 [00:01<00:00, 138195.37it/s]\u001b[A\n",
      "  0%|          | 0/181851 [00:00<?, ?it/s]\u001b[A\n",
      " 33%|███▎      | 60415/181851 [00:00<00:00, 604144.81it/s]"
     ]
    },
    {
     "name": "stdout",
     "output_type": "stream",
     "text": [
      "Sparse dummy orders shape: \n",
      "(181851, 877)\n"
     ]
    },
    {
     "name": "stderr",
     "output_type": "stream",
     "text": [
      "\u001b[A\n",
      " 66%|██████▋   | 120925/181851 [00:00<00:00, 604429.07it/s]\u001b[A\n",
      "100%|██████████| 181851/181851 [00:00<00:00, 603015.30it/s]\u001b[A"
     ]
    },
    {
     "name": "stdout",
     "output_type": "stream",
     "text": [
      "Sparse dummy values shape: \n",
      "(181851, 93)\n"
     ]
    },
    {
     "name": "stderr",
     "output_type": "stream",
     "text": [
      "\n",
      "0it [00:00, ?it/s]\u001b[A\n",
      "3769it [00:00, 37681.77it/s]\u001b[A\n",
      "7593it [00:00, 37845.60it/s]\u001b[A\n",
      "11375it [00:00, 37835.33it/s]\u001b[A\n",
      "15197it [00:00, 37948.47it/s]\u001b[A\n",
      "18974it [00:00, 37894.08it/s]\u001b[A\n",
      "22895it [00:00, 38277.01it/s]\u001b[A\n",
      "26761it [00:00, 38388.83it/s]\u001b[A\n",
      "30609it [00:00, 38414.72it/s]\u001b[A\n",
      "34440it [00:00, 38382.57it/s]\u001b[A\n",
      "38284it [00:01, 38397.98it/s]\u001b[A\n",
      "42133it [00:01, 38423.99it/s]\u001b[A\n",
      "45986it [00:01, 38454.01it/s]\u001b[A\n",
      "49796it [00:01, 38346.63it/s]\u001b[A\n",
      "53607it [00:01, 38274.58it/s]\u001b[A\n",
      "57485it [00:01, 38422.89it/s]\u001b[A\n",
      " 88%|████████▊ | 153/174 [4:29:20<1:15:50, 216.70s/it]\n",
      "  0%|          | 0/181851 [00:00<?, ?it/s]\u001b[A\n",
      "100%|██████████| 181851/181851 [00:01<00:00, 136140.15it/s]\u001b[A\n",
      "  0%|          | 0/181851 [00:00<?, ?it/s]\u001b[A\n",
      " 33%|███▎      | 59704/181851 [00:00<00:00, 597033.45it/s]"
     ]
    },
    {
     "name": "stdout",
     "output_type": "stream",
     "text": [
      "Sparse dummy orders shape: \n",
      "(181851, 877)\n"
     ]
    },
    {
     "name": "stderr",
     "output_type": "stream",
     "text": [
      "\u001b[A\n",
      " 67%|██████▋   | 121663/181851 [00:00<00:00, 603624.55it/s]\u001b[A\n",
      "100%|██████████| 181851/181851 [00:00<00:00, 611718.04it/s]\u001b[A"
     ]
    },
    {
     "name": "stdout",
     "output_type": "stream",
     "text": [
      "Sparse dummy values shape: \n",
      "(181851, 93)\n"
     ]
    },
    {
     "name": "stderr",
     "output_type": "stream",
     "text": [
      "\n",
      "0it [00:00, ?it/s]\u001b[A\n",
      "3702it [00:00, 37019.68it/s]\u001b[A\n",
      "7434it [00:00, 37109.25it/s]\u001b[A\n",
      "11197it [00:00, 37263.31it/s]\u001b[A\n",
      "14990it [00:00, 37458.76it/s]\u001b[A\n",
      "18722it [00:00, 37415.75it/s]\u001b[A\n",
      "22539it [00:00, 37637.82it/s]\u001b[A\n",
      "26296it [00:00, 37617.22it/s]\u001b[A\n",
      "30032it [00:00, 37539.40it/s]\u001b[A\n",
      "33830it [00:00, 37668.51it/s]\u001b[A\n",
      "37593it [00:01, 37655.83it/s]\u001b[A\n",
      "41357it [00:01, 37650.60it/s]\u001b[A\n",
      "45064it [00:01, 37473.29it/s]\u001b[A\n",
      "48845it [00:01, 37570.87it/s]\u001b[A\n",
      "52629it [00:01, 37649.43it/s]\u001b[A\n",
      "56371it [00:01, 37578.10it/s]\u001b[A\n",
      " 89%|████████▊ | 154/174 [4:32:57<1:12:15, 216.78s/it]\n",
      "  0%|          | 0/181851 [00:00<?, ?it/s]\u001b[A\n",
      "100%|██████████| 181851/181851 [00:01<00:00, 138374.45it/s]\u001b[A\n",
      "  0%|          | 0/181851 [00:00<?, ?it/s]\u001b[A\n",
      " 33%|███▎      | 60861/181851 [00:00<00:00, 608601.87it/s]"
     ]
    },
    {
     "name": "stdout",
     "output_type": "stream",
     "text": [
      "Sparse dummy orders shape: \n",
      "(181851, 877)\n"
     ]
    },
    {
     "name": "stderr",
     "output_type": "stream",
     "text": [
      "\u001b[A\n",
      " 67%|██████▋   | 121513/181851 [00:00<00:00, 607973.37it/s]\u001b[A\n",
      "100%|█████████▉| 181845/181851 [00:00<00:00, 606568.27it/s]\u001b[A\n",
      "100%|██████████| 181851/181851 [00:00<00:00, 603319.61it/s]\u001b[A"
     ]
    },
    {
     "name": "stdout",
     "output_type": "stream",
     "text": [
      "Sparse dummy values shape: \n",
      "(181851, 93)\n"
     ]
    },
    {
     "name": "stderr",
     "output_type": "stream",
     "text": [
      "\n",
      "0it [00:00, ?it/s]\u001b[A\n",
      "3705it [00:00, 37037.23it/s]\u001b[A\n",
      "7455it [00:00, 37172.84it/s]\u001b[A\n",
      "11178it [00:00, 37188.39it/s]\u001b[A\n",
      "14947it [00:00, 37335.25it/s]\u001b[A\n",
      "18713it [00:00, 37429.97it/s]\u001b[A\n",
      "22513it [00:00, 37597.43it/s]\u001b[A\n",
      "26272it [00:00, 37593.30it/s]\u001b[A\n",
      "30142it [00:00, 37917.95it/s]\u001b[A\n",
      "33989it [00:00, 38081.66it/s]\u001b[A\n",
      "37813it [00:01, 38126.37it/s]\u001b[A\n",
      "41610it [00:01, 38077.70it/s]\u001b[A\n",
      "45405it [00:01, 38039.15it/s]\u001b[A\n",
      "49231it [00:01, 38104.98it/s]\u001b[A\n",
      "53041it [00:01, 38103.47it/s]\u001b[A\n",
      "56834it [00:01, 38048.63it/s]\u001b[A\n",
      " 89%|████████▉ | 155/174 [4:36:36<1:08:55, 217.68s/it]\n",
      "  0%|          | 0/181851 [00:00<?, ?it/s]\u001b[A\n",
      "100%|██████████| 181851/181851 [00:01<00:00, 138542.77it/s]\u001b[A\n",
      "  0%|          | 0/181851 [00:00<?, ?it/s]\u001b[A\n",
      " 33%|███▎      | 60019/181851 [00:00<00:00, 600184.85it/s]"
     ]
    },
    {
     "name": "stdout",
     "output_type": "stream",
     "text": [
      "Sparse dummy orders shape: \n",
      "(181851, 877)\n"
     ]
    },
    {
     "name": "stderr",
     "output_type": "stream",
     "text": [
      "\u001b[A\n",
      " 66%|██████▋   | 120658/181851 [00:00<00:00, 602030.62it/s]\u001b[A\n",
      "100%|██████████| 181851/181851 [00:00<00:00, 609721.95it/s]\u001b[A"
     ]
    },
    {
     "name": "stdout",
     "output_type": "stream",
     "text": [
      "Sparse dummy values shape: \n",
      "(181851, 93)\n"
     ]
    },
    {
     "name": "stderr",
     "output_type": "stream",
     "text": [
      "\n",
      "0it [00:00, ?it/s]\u001b[A\n",
      "3655it [00:00, 36549.16it/s]\u001b[A\n",
      "7405it [00:00, 36829.04it/s]\u001b[A\n",
      "11162it [00:00, 37047.99it/s]\u001b[A\n",
      "14907it [00:00, 37167.19it/s]\u001b[A\n",
      "18646it [00:00, 37231.80it/s]\u001b[A\n",
      "22397it [00:00, 37313.51it/s]\u001b[A\n",
      "26197it [00:00, 37514.57it/s]\u001b[A\n",
      "29997it [00:00, 37658.58it/s]\u001b[A\n",
      "33815it [00:00, 37812.31it/s]\u001b[A\n",
      "37638it [00:01, 37935.48it/s]\u001b[A\n",
      "41475it [00:01, 38062.57it/s]\u001b[A\n",
      "45297it [00:01, 38105.84it/s]\u001b[A\n",
      "49111it [00:01, 38114.87it/s]\u001b[A\n",
      "52966it [00:01, 38243.62it/s]\u001b[A\n",
      "56766it [00:01, 38051.43it/s]\u001b[A\n",
      " 90%|████████▉ | 156/174 [4:40:16<1:05:26, 218.15s/it]\n",
      "  0%|          | 0/181851 [00:00<?, ?it/s]\u001b[A\n",
      "100%|██████████| 181851/181851 [00:01<00:00, 139341.04it/s]\u001b[A\n",
      "  0%|          | 0/181851 [00:00<?, ?it/s]\u001b[A\n",
      " 33%|███▎      | 60504/181851 [00:00<00:00, 605034.81it/s]"
     ]
    },
    {
     "name": "stdout",
     "output_type": "stream",
     "text": [
      "Sparse dummy orders shape: \n",
      "(181851, 889)\n"
     ]
    },
    {
     "name": "stderr",
     "output_type": "stream",
     "text": [
      "\u001b[A\n",
      " 66%|██████▋   | 120690/181851 [00:00<00:00, 604078.16it/s]\u001b[A\n",
      "100%|██████████| 181851/181851 [00:00<00:00, 607652.17it/s]\u001b[A"
     ]
    },
    {
     "name": "stdout",
     "output_type": "stream",
     "text": [
      "Sparse dummy values shape: \n",
      "(181851, 93)\n"
     ]
    },
    {
     "name": "stderr",
     "output_type": "stream",
     "text": [
      "\n",
      "0it [00:00, ?it/s]\u001b[A\n",
      "3738it [00:00, 37369.17it/s]\u001b[A\n",
      "7491it [00:00, 37416.94it/s]\u001b[A\n",
      "11242it [00:00, 37442.09it/s]\u001b[A\n",
      "14946it [00:00, 37319.91it/s]\u001b[A\n",
      "18711it [00:00, 37416.37it/s]\u001b[A\n",
      "22261it [00:00, 36819.66it/s]\u001b[A\n",
      "25714it [00:00, 36099.00it/s]\u001b[A\n",
      "29361it [00:00, 36208.33it/s]\u001b[A\n",
      "33002it [00:00, 36266.51it/s]\u001b[A\n",
      "36717it [00:01, 36525.46it/s]\u001b[A\n",
      "40411it [00:01, 36646.67it/s]\u001b[A\n",
      "44084it [00:01, 36670.43it/s]\u001b[A\n",
      "47846it [00:01, 36949.36it/s]\u001b[A\n",
      "51561it [00:01, 37007.33it/s]\u001b[A\n",
      "55308it [00:01, 37143.88it/s]\u001b[A\n",
      "59006it [00:01, 37092.00it/s]\u001b[A\n",
      " 90%|█████████ | 157/174 [4:43:52<1:01:39, 217.61s/it]\n",
      "  0%|          | 0/181851 [00:00<?, ?it/s]\u001b[A\n",
      "100%|██████████| 181851/181851 [00:01<00:00, 135666.07it/s]\u001b[A\n",
      "  0%|          | 0/181851 [00:00<?, ?it/s]\u001b[A\n",
      " 34%|███▎      | 61217/181851 [00:00<00:00, 612166.21it/s]"
     ]
    },
    {
     "name": "stdout",
     "output_type": "stream",
     "text": [
      "Sparse dummy orders shape: \n",
      "(181851, 906)\n"
     ]
    },
    {
     "name": "stderr",
     "output_type": "stream",
     "text": [
      "\u001b[A\n",
      " 67%|██████▋   | 122008/181851 [00:00<00:00, 610881.96it/s]\u001b[A\n",
      "100%|██████████| 181851/181851 [00:00<00:00, 611410.10it/s]\u001b[A"
     ]
    },
    {
     "name": "stdout",
     "output_type": "stream",
     "text": [
      "Sparse dummy values shape: \n",
      "(181851, 93)\n"
     ]
    },
    {
     "name": "stderr",
     "output_type": "stream",
     "text": [
      "\n",
      "0it [00:00, ?it/s]\u001b[A\n",
      "3705it [00:00, 37045.88it/s]\u001b[A\n",
      "7423it [00:00, 37084.26it/s]\u001b[A\n",
      "11178it [00:00, 37222.30it/s]\u001b[A\n",
      "14932it [00:00, 37315.78it/s]\u001b[A\n",
      "18689it [00:00, 37389.32it/s]\u001b[A\n",
      "21806it [00:00, 35264.07it/s]\u001b[A\n",
      "25564it [00:00, 35925.84it/s]\u001b[A\n",
      "29366it [00:00, 36527.56it/s]\u001b[A\n",
      "33133it [00:00, 36861.88it/s]\u001b[A\n",
      "36873it [00:01, 37019.10it/s]\u001b[A\n",
      "40693it [00:01, 37364.59it/s]\u001b[A\n",
      "44480it [00:01, 37512.63it/s]\u001b[A\n",
      "48219it [00:01, 37475.36it/s]\u001b[A\n",
      "52037it [00:01, 37682.69it/s]\u001b[A\n",
      "55823it [00:01, 37735.39it/s]\u001b[A\n",
      "59581it [00:01, 37568.33it/s]\u001b[A\n",
      " 91%|█████████ | 158/174 [4:47:29<57:59, 217.47s/it]  \n",
      "  0%|          | 0/181851 [00:00<?, ?it/s]\u001b[A\n",
      "100%|██████████| 181851/181851 [00:01<00:00, 136023.37it/s]\u001b[A\n",
      "  0%|          | 0/181851 [00:00<?, ?it/s]\u001b[A\n",
      " 33%|███▎      | 60358/181851 [00:00<00:00, 603571.94it/s]"
     ]
    },
    {
     "name": "stdout",
     "output_type": "stream",
     "text": [
      "Sparse dummy orders shape: \n",
      "(181851, 906)\n"
     ]
    },
    {
     "name": "stderr",
     "output_type": "stream",
     "text": [
      "\u001b[A\n",
      " 67%|██████▋   | 121181/181851 [00:00<00:00, 604959.44it/s]\u001b[A\n",
      "100%|██████████| 181851/181851 [00:00<00:00, 606492.07it/s]\u001b[A"
     ]
    },
    {
     "name": "stdout",
     "output_type": "stream",
     "text": [
      "Sparse dummy values shape: \n",
      "(181851, 93)\n"
     ]
    },
    {
     "name": "stderr",
     "output_type": "stream",
     "text": [
      "\n",
      "0it [00:00, ?it/s]\u001b[A\n",
      "3689it [00:00, 36887.92it/s]\u001b[A\n",
      "7388it [00:00, 36917.44it/s]\u001b[A\n",
      "11101it [00:00, 36980.78it/s]\u001b[A\n",
      "14872it [00:00, 37193.85it/s]\u001b[A\n",
      "18694it [00:00, 37493.27it/s]\u001b[A\n",
      "22608it [00:00, 37970.11it/s]\u001b[A\n",
      "26454it [00:00, 38113.86it/s]\u001b[A\n",
      "30305it [00:00, 38231.34it/s]\u001b[A\n",
      "34143it [00:00, 38275.52it/s]\u001b[A\n",
      "38006it [00:01, 38378.85it/s]\u001b[A\n",
      "41850it [00:01, 38396.17it/s]\u001b[A\n",
      "45721it [00:01, 38487.30it/s]\u001b[A\n",
      "49598it [00:01, 38569.41it/s]\u001b[A\n",
      "53460it [00:01, 38583.73it/s]\u001b[A\n",
      "57294it [00:01, 38435.00it/s]\u001b[A\n",
      " 91%|█████████▏| 159/174 [4:51:04<54:09, 216.63s/it]\n",
      "  0%|          | 0/181851 [00:00<?, ?it/s]\u001b[A\n",
      "100%|██████████| 181851/181851 [00:01<00:00, 138463.02it/s]\u001b[A\n",
      "  0%|          | 0/181851 [00:00<?, ?it/s]\u001b[A\n",
      " 33%|███▎      | 60472/181851 [00:00<00:00, 604711.93it/s]"
     ]
    },
    {
     "name": "stdout",
     "output_type": "stream",
     "text": [
      "Sparse dummy orders shape: \n",
      "(181851, 913)\n"
     ]
    },
    {
     "name": "stderr",
     "output_type": "stream",
     "text": [
      "\u001b[A\n",
      " 66%|██████▌   | 120165/181851 [00:00<00:00, 602353.69it/s]\u001b[A\n",
      "100%|█████████▉| 181338/181851 [00:00<00:00, 605134.72it/s]\u001b[A\n",
      "100%|██████████| 181851/181851 [00:00<00:00, 600417.35it/s]\u001b[A"
     ]
    },
    {
     "name": "stdout",
     "output_type": "stream",
     "text": [
      "Sparse dummy values shape: \n",
      "(181851, 93)\n"
     ]
    },
    {
     "name": "stderr",
     "output_type": "stream",
     "text": [
      "\n",
      "0it [00:00, ?it/s]\u001b[A\n",
      "3652it [00:00, 36511.07it/s]\u001b[A\n",
      "7326it [00:00, 36579.22it/s]\u001b[A\n",
      "11020it [00:00, 36685.81it/s]\u001b[A\n",
      "14760it [00:00, 36896.52it/s]\u001b[A\n",
      "18501it [00:00, 37047.88it/s]\u001b[A\n",
      "22220it [00:00, 37090.33it/s]\u001b[A\n",
      "25967it [00:00, 37201.77it/s]\u001b[A\n",
      "29725it [00:00, 37312.17it/s]\u001b[A\n",
      "33509it [00:00, 37466.51it/s]\u001b[A\n",
      "37259it [00:01, 37476.24it/s]\u001b[A\n",
      "41024it [00:01, 37525.99it/s]\u001b[A\n",
      "44759it [00:01, 37471.77it/s]\u001b[A\n",
      "48483it [00:01, 37401.70it/s]\u001b[A\n",
      "52220it [00:01, 37390.00it/s]\u001b[A\n",
      "55935it [00:01, 37311.66it/s]\u001b[A\n",
      "59663it [00:01, 37300.78it/s]\u001b[A\n",
      " 92%|█████████▏| 160/174 [4:54:38<50:23, 216.00s/it]\n",
      "  0%|          | 0/181851 [00:00<?, ?it/s]\u001b[A\n",
      "100%|██████████| 181851/181851 [00:01<00:00, 138100.89it/s]\u001b[A\n",
      "  0%|          | 0/181851 [00:00<?, ?it/s]\u001b[A\n",
      " 34%|███▍      | 62060/181851 [00:00<00:00, 620597.63it/s]"
     ]
    },
    {
     "name": "stdout",
     "output_type": "stream",
     "text": [
      "Sparse dummy orders shape: \n",
      "(181851, 918)\n"
     ]
    },
    {
     "name": "stderr",
     "output_type": "stream",
     "text": [
      "\u001b[A\n",
      " 68%|██████▊   | 123463/181851 [00:00<00:00, 618611.03it/s]\u001b[A\n",
      "100%|██████████| 181851/181851 [00:00<00:00, 618463.77it/s]\u001b[A"
     ]
    },
    {
     "name": "stdout",
     "output_type": "stream",
     "text": [
      "Sparse dummy values shape: \n",
      "(181851, 93)\n"
     ]
    },
    {
     "name": "stderr",
     "output_type": "stream",
     "text": [
      "\n",
      "0it [00:00, ?it/s]\u001b[A\n",
      "3707it [00:00, 37064.11it/s]\u001b[A\n",
      "7470it [00:00, 37231.86it/s]\u001b[A\n",
      "11233it [00:00, 37347.69it/s]\u001b[A\n",
      "14963it [00:00, 37331.00it/s]\u001b[A\n",
      "18695it [00:00, 37327.69it/s]\u001b[A\n",
      "22473it [00:00, 37461.56it/s]\u001b[A\n",
      "26234it [00:00, 37505.42it/s]\u001b[A\n",
      "30005it [00:00, 37565.07it/s]\u001b[A\n",
      "33753it [00:00, 37536.16it/s]\u001b[A\n",
      "37565it [00:01, 37707.33it/s]\u001b[A\n",
      "41311it [00:01, 37628.85it/s]\u001b[A\n",
      "45096it [00:01, 37692.33it/s]\u001b[A\n",
      "48815it [00:01, 37526.97it/s]\u001b[A\n",
      "52539it [00:01, 37440.35it/s]\u001b[A\n",
      "56259it [00:01, 37332.47it/s]\u001b[A\n",
      " 93%|█████████▎| 161/174 [4:58:14<46:45, 215.78s/it]\n",
      "  0%|          | 0/181851 [00:00<?, ?it/s]\u001b[A\n",
      "100%|██████████| 181851/181851 [00:01<00:00, 137372.72it/s]\u001b[A\n",
      "  0%|          | 0/181851 [00:00<?, ?it/s]\u001b[A\n",
      " 34%|███▎      | 61305/181851 [00:00<00:00, 613049.12it/s]"
     ]
    },
    {
     "name": "stdout",
     "output_type": "stream",
     "text": [
      "Sparse dummy orders shape: \n",
      "(181851, 925)\n"
     ]
    },
    {
     "name": "stderr",
     "output_type": "stream",
     "text": [
      "\u001b[A\n",
      " 66%|██████▋   | 120808/181851 [00:00<00:00, 607528.67it/s]\u001b[A\n",
      "100%|██████████| 181851/181851 [00:00<00:00, 607363.79it/s]\u001b[A"
     ]
    },
    {
     "name": "stdout",
     "output_type": "stream",
     "text": [
      "Sparse dummy values shape: \n",
      "(181851, 93)\n"
     ]
    },
    {
     "name": "stderr",
     "output_type": "stream",
     "text": [
      "\n",
      "0it [00:00, ?it/s]\u001b[A\n",
      "3634it [00:00, 36338.74it/s]\u001b[A\n",
      "7386it [00:00, 36684.06it/s]\u001b[A\n",
      "11069it [00:00, 36724.38it/s]\u001b[A\n",
      "14783it [00:00, 36846.34it/s]\u001b[A\n",
      "18495it [00:00, 36925.11it/s]\u001b[A\n",
      "22215it [00:00, 37005.92it/s]\u001b[A\n",
      "25922it [00:00, 37022.67it/s]\u001b[A\n",
      "29661it [00:00, 37130.99it/s]\u001b[A\n",
      "33389it [00:00, 37174.28it/s]\u001b[A\n",
      "37104it [00:01, 37165.65it/s]\u001b[A\n",
      "40830it [00:01, 37191.12it/s]\u001b[A\n",
      "44528it [00:01, 37126.34it/s]\u001b[A\n",
      "48230it [00:01, 37092.13it/s]\u001b[A\n",
      "51941it [00:01, 37095.96it/s]\u001b[A\n",
      "55681it [00:01, 37185.58it/s]\u001b[A\n",
      "59403it [00:01, 37191.89it/s]\u001b[A\n",
      " 93%|█████████▎| 162/174 [5:01:48<43:06, 215.50s/it]\n",
      "  0%|          | 0/181851 [00:00<?, ?it/s]\u001b[A\n",
      "100%|██████████| 181851/181851 [00:01<00:00, 137593.02it/s]\u001b[A\n",
      "  0%|          | 0/181851 [00:00<?, ?it/s]\u001b[A\n",
      " 34%|███▎      | 61350/181851 [00:00<00:00, 613499.12it/s]"
     ]
    },
    {
     "name": "stdout",
     "output_type": "stream",
     "text": [
      "Sparse dummy orders shape: \n",
      "(181851, 925)\n"
     ]
    },
    {
     "name": "stderr",
     "output_type": "stream",
     "text": [
      "\u001b[A\n",
      " 68%|██████▊   | 123111/181851 [00:00<00:00, 614725.49it/s]\u001b[A\n",
      "100%|██████████| 181851/181851 [00:00<00:00, 618152.51it/s]\u001b[A"
     ]
    },
    {
     "name": "stdout",
     "output_type": "stream",
     "text": [
      "Sparse dummy values shape: \n",
      "(181851, 93)\n"
     ]
    },
    {
     "name": "stderr",
     "output_type": "stream",
     "text": [
      "\n",
      "0it [00:00, ?it/s]\u001b[A\n",
      "3751it [00:00, 37503.51it/s]\u001b[A\n",
      "7513it [00:00, 37536.60it/s]\u001b[A\n",
      "11264it [00:00, 37525.13it/s]\u001b[A\n",
      "15043it [00:00, 37601.91it/s]\u001b[A\n",
      "18797it [00:00, 37580.66it/s]\u001b[A\n",
      "22487it [00:00, 37370.90it/s]\u001b[A\n",
      "25909it [00:00, 36366.16it/s]\u001b[A\n",
      "29319it [00:00, 35653.87it/s]\u001b[A\n",
      "32764it [00:00, 35281.65it/s]\u001b[A\n",
      "36185it [00:01, 34952.77it/s]\u001b[A\n",
      "39580it [00:01, 34531.41it/s]\u001b[A\n",
      "42998it [00:01, 34422.86it/s]\u001b[A\n",
      "46392it [00:01, 34011.82it/s]\u001b[A\n",
      "50089it [00:01, 34844.88it/s]\u001b[A\n",
      "53842it [00:01, 35608.23it/s]\u001b[A\n",
      "57521it [00:01, 35952.76it/s]\u001b[A\n",
      " 94%|█████████▎| 163/174 [5:05:24<39:30, 215.46s/it]\n",
      "  0%|          | 0/181851 [00:00<?, ?it/s]\u001b[A\n",
      "100%|██████████| 181851/181851 [00:01<00:00, 138957.49it/s]\u001b[A\n",
      "  0%|          | 0/181851 [00:00<?, ?it/s]\u001b[A\n",
      " 33%|███▎      | 60110/181851 [00:00<00:00, 601093.41it/s]"
     ]
    },
    {
     "name": "stdout",
     "output_type": "stream",
     "text": [
      "Sparse dummy orders shape: \n",
      "(181851, 925)\n"
     ]
    },
    {
     "name": "stderr",
     "output_type": "stream",
     "text": [
      "\u001b[A\n",
      " 66%|██████▋   | 120650/181851 [00:00<00:00, 602376.11it/s]\u001b[A\n",
      "100%|█████████▉| 181702/181851 [00:00<00:00, 604795.26it/s]\u001b[A\n",
      "100%|██████████| 181851/181851 [00:00<00:00, 601807.29it/s]\u001b[A"
     ]
    },
    {
     "name": "stdout",
     "output_type": "stream",
     "text": [
      "Sparse dummy values shape: \n",
      "(181851, 93)\n"
     ]
    },
    {
     "name": "stderr",
     "output_type": "stream",
     "text": [
      "\n",
      "0it [00:00, ?it/s]\u001b[A\n",
      "3657it [00:00, 36569.25it/s]\u001b[A\n",
      "7449it [00:00, 36962.26it/s]\u001b[A\n",
      "11241it [00:00, 37244.16it/s]\u001b[A\n",
      "14997it [00:00, 37336.77it/s]\u001b[A\n",
      "18742it [00:00, 37369.80it/s]\u001b[A\n",
      "22495it [00:00, 37415.14it/s]\u001b[A\n",
      "26264it [00:00, 37494.84it/s]\u001b[A\n",
      "30053it [00:00, 37609.88it/s]\u001b[A\n",
      "33793it [00:00, 37545.28it/s]\u001b[A\n",
      "37559it [00:01, 37579.04it/s]\u001b[A\n",
      "41316it [00:01, 37576.29it/s]\u001b[A\n",
      "45051it [00:01, 37507.69it/s]\u001b[A\n",
      "48795it [00:01, 37487.13it/s]\u001b[A\n",
      "52547it [00:01, 37496.57it/s]\u001b[A\n",
      "56280it [00:01, 37445.65it/s]\u001b[A\n",
      " 94%|█████████▍| 164/174 [5:08:57<35:48, 214.81s/it]\n",
      "  0%|          | 0/181851 [00:00<?, ?it/s]\u001b[A\n",
      "100%|██████████| 181851/181851 [00:01<00:00, 139502.36it/s]\u001b[A\n",
      "  0%|          | 0/181851 [00:00<?, ?it/s]\u001b[A\n",
      " 34%|███▍      | 62218/181851 [00:00<00:00, 622174.66it/s]"
     ]
    },
    {
     "name": "stdout",
     "output_type": "stream",
     "text": [
      "Sparse dummy orders shape: \n",
      "(181851, 925)\n"
     ]
    },
    {
     "name": "stderr",
     "output_type": "stream",
     "text": [
      "\u001b[A\n",
      " 68%|██████▊   | 122983/181851 [00:00<00:00, 617742.81it/s]\u001b[A\n",
      "100%|██████████| 181851/181851 [00:00<00:00, 616297.97it/s]\u001b[A"
     ]
    },
    {
     "name": "stdout",
     "output_type": "stream",
     "text": [
      "Sparse dummy values shape: \n",
      "(181851, 93)\n"
     ]
    },
    {
     "name": "stderr",
     "output_type": "stream",
     "text": [
      "\n",
      "0it [00:00, ?it/s]\u001b[A\n",
      "3675it [00:00, 36744.87it/s]\u001b[A\n",
      "7411it [00:00, 36924.64it/s]\u001b[A\n",
      "11159it [00:00, 37088.55it/s]\u001b[A\n",
      "14891it [00:00, 37154.44it/s]\u001b[A\n",
      "18756it [00:00, 37588.60it/s]\u001b[A\n",
      "22595it [00:00, 37825.31it/s]\u001b[A\n",
      "26435it [00:00, 37995.70it/s]\u001b[A\n",
      "30320it [00:00, 38247.76it/s]\u001b[A\n",
      "34196it [00:00, 38397.73it/s]\u001b[A\n",
      "38034it [00:01, 38392.09it/s]\u001b[A\n",
      "41900it [00:01, 38470.88it/s]\u001b[A\n",
      "45764it [00:01, 38518.89it/s]\u001b[A\n",
      "49637it [00:01, 38579.60it/s]\u001b[A\n",
      "53521it [00:01, 38657.01it/s]\u001b[A\n",
      "57447it [00:01, 38834.42it/s]\u001b[A\n",
      " 95%|█████████▍| 165/174 [5:12:32<32:12, 214.74s/it]\n",
      "  0%|          | 0/181851 [00:00<?, ?it/s]\u001b[A\n",
      "100%|██████████| 181851/181851 [00:01<00:00, 138309.56it/s]\u001b[A\n",
      "  0%|          | 0/181851 [00:00<?, ?it/s]\u001b[A\n",
      " 34%|███▍      | 61501/181851 [00:00<00:00, 615003.26it/s]"
     ]
    },
    {
     "name": "stdout",
     "output_type": "stream",
     "text": [
      "Sparse dummy orders shape: \n",
      "(181851, 936)\n"
     ]
    },
    {
     "name": "stderr",
     "output_type": "stream",
     "text": [
      "\u001b[A\n",
      " 67%|██████▋   | 122486/181851 [00:00<00:00, 613445.69it/s]\u001b[A\n",
      "100%|██████████| 181851/181851 [00:00<00:00, 612491.71it/s]\u001b[A"
     ]
    },
    {
     "name": "stdout",
     "output_type": "stream",
     "text": [
      "Sparse dummy values shape: \n",
      "(181851, 93)\n"
     ]
    },
    {
     "name": "stderr",
     "output_type": "stream",
     "text": [
      "\n",
      "0it [00:00, ?it/s]\u001b[A\n",
      "3749it [00:00, 37481.46it/s]\u001b[A\n",
      "7519it [00:00, 37546.23it/s]\u001b[A\n",
      "11252it [00:00, 37480.03it/s]\u001b[A\n",
      "15010it [00:00, 37507.97it/s]\u001b[A\n",
      "18807it [00:00, 37642.63it/s]\u001b[A\n",
      "22588it [00:00, 37691.40it/s]\u001b[A\n",
      "26382it [00:00, 37764.28it/s]\u001b[A\n",
      "30175it [00:00, 37813.15it/s]\u001b[A\n",
      "33942it [00:00, 37767.34it/s]\u001b[A\n",
      "37738it [00:01, 37823.14it/s]\u001b[A\n",
      "41548it [00:01, 37905.16it/s]\u001b[A\n",
      "45265it [00:01, 37348.09it/s]\u001b[A\n",
      "49081it [00:01, 37587.09it/s]\u001b[A\n",
      "52924it [00:01, 37835.53it/s]\u001b[A\n",
      "56726it [00:01, 37888.00it/s]\u001b[A\n",
      " 95%|█████████▌| 166/174 [5:16:06<28:36, 214.55s/it]\n",
      "  0%|          | 0/181851 [00:00<?, ?it/s]\u001b[A\n",
      "100%|██████████| 181851/181851 [00:01<00:00, 137622.94it/s]\u001b[A\n",
      "  0%|          | 0/181851 [00:00<?, ?it/s]\u001b[A\n",
      " 34%|███▍      | 61882/181851 [00:00<00:00, 618819.11it/s]"
     ]
    },
    {
     "name": "stdout",
     "output_type": "stream",
     "text": [
      "Sparse dummy orders shape: \n",
      "(181851, 936)\n"
     ]
    },
    {
     "name": "stderr",
     "output_type": "stream",
     "text": [
      "\u001b[A\n",
      " 68%|██████▊   | 123268/181851 [00:00<00:00, 617321.39it/s]\u001b[A\n",
      "100%|██████████| 181851/181851 [00:00<00:00, 616598.39it/s]\u001b[A"
     ]
    },
    {
     "name": "stdout",
     "output_type": "stream",
     "text": [
      "Sparse dummy values shape: \n",
      "(181851, 93)\n"
     ]
    },
    {
     "name": "stderr",
     "output_type": "stream",
     "text": [
      "\n",
      "0it [00:00, ?it/s]\u001b[A\n",
      "3712it [00:00, 37118.71it/s]\u001b[A\n",
      "7472it [00:00, 37260.01it/s]\u001b[A\n",
      "11263it [00:00, 37450.23it/s]\u001b[A\n",
      "15001it [00:00, 37428.72it/s]\u001b[A\n",
      "18770it [00:00, 37506.60it/s]\u001b[A\n",
      "22539it [00:00, 37560.13it/s]\u001b[A\n",
      "26286it [00:00, 37532.57it/s]\u001b[A\n",
      "30122it [00:00, 37774.46it/s]\u001b[A\n",
      "33901it [00:00, 37777.37it/s]\u001b[A\n",
      "37687it [00:01, 37800.70it/s]\u001b[A\n",
      "41363it [00:01, 36357.64it/s]\u001b[A\n",
      "44938it [00:01, 36170.19it/s]\u001b[A\n",
      "48688it [00:01, 36558.62it/s]\u001b[A\n",
      "52315it [00:01, 36406.26it/s]\u001b[A\n",
      "56002it [00:01, 36542.61it/s]\u001b[A\n",
      "59883it [00:01, 37191.97it/s]\u001b[A\n",
      " 96%|█████████▌| 167/174 [5:19:39<24:58, 214.08s/it]\n",
      "  0%|          | 0/181851 [00:00<?, ?it/s]\u001b[A\n",
      "100%|██████████| 181851/181851 [00:01<00:00, 135898.07it/s]\u001b[A\n",
      "  0%|          | 0/181851 [00:00<?, ?it/s]\u001b[A\n",
      " 33%|███▎      | 60601/181851 [00:00<00:00, 606004.80it/s]"
     ]
    },
    {
     "name": "stdout",
     "output_type": "stream",
     "text": [
      "Sparse dummy orders shape: \n",
      "(181851, 942)\n"
     ]
    },
    {
     "name": "stderr",
     "output_type": "stream",
     "text": [
      "\u001b[A\n",
      " 67%|██████▋   | 120936/181851 [00:00<00:00, 605204.78it/s]\u001b[A\n",
      "100%|██████████| 181851/181851 [00:00<00:00, 607565.53it/s]\u001b[A"
     ]
    },
    {
     "name": "stdout",
     "output_type": "stream",
     "text": [
      "Sparse dummy values shape: \n",
      "(181851, 93)\n"
     ]
    },
    {
     "name": "stderr",
     "output_type": "stream",
     "text": [
      "\n",
      "0it [00:00, ?it/s]\u001b[A\n",
      "3727it [00:00, 37267.19it/s]\u001b[A\n",
      "7502it [00:00, 37408.17it/s]\u001b[A\n",
      "11305it [00:00, 37590.67it/s]\u001b[A\n",
      "15073it [00:00, 37614.72it/s]\u001b[A\n",
      "18855it [00:00, 37674.42it/s]\u001b[A\n",
      "22376it [00:00, 36898.16it/s]\u001b[A\n",
      "25632it [00:00, 35095.80it/s]\u001b[A\n",
      "29114it [00:00, 35011.00it/s]\u001b[A\n",
      "32909it [00:00, 35841.26it/s]\u001b[A\n",
      "36714it [00:01, 36475.91it/s]\u001b[A\n",
      "40468it [00:01, 36787.50it/s]\u001b[A\n",
      "44224it [00:01, 37015.74it/s]\u001b[A\n",
      "48009it [00:01, 37260.20it/s]\u001b[A\n",
      "51799it [00:01, 37448.63it/s]\u001b[A\n",
      "55636it [00:01, 37719.07it/s]\u001b[A\n",
      "59483it [00:01, 37941.21it/s]\u001b[A\n",
      " 97%|█████████▋| 168/174 [5:23:12<21:22, 213.72s/it]\n",
      "  0%|          | 0/181851 [00:00<?, ?it/s]\u001b[A\n",
      "100%|██████████| 181851/181851 [00:01<00:00, 139118.76it/s]\u001b[A\n",
      "  0%|          | 0/181851 [00:00<?, ?it/s]\u001b[A\n",
      " 34%|███▍      | 61934/181851 [00:00<00:00, 619331.73it/s]"
     ]
    },
    {
     "name": "stdout",
     "output_type": "stream",
     "text": [
      "Sparse dummy orders shape: \n",
      "(181851, 945)\n"
     ]
    },
    {
     "name": "stderr",
     "output_type": "stream",
     "text": [
      "\u001b[A\n",
      " 68%|██████▊   | 123165/181851 [00:00<00:00, 617208.09it/s]\u001b[A\n",
      "100%|██████████| 181851/181851 [00:00<00:00, 615082.33it/s]\u001b[A"
     ]
    },
    {
     "name": "stdout",
     "output_type": "stream",
     "text": [
      "Sparse dummy values shape: \n",
      "(181851, 93)\n"
     ]
    },
    {
     "name": "stderr",
     "output_type": "stream",
     "text": [
      "\n",
      "0it [00:00, ?it/s]\u001b[A\n",
      "3754it [00:00, 37535.20it/s]\u001b[A\n",
      "7478it [00:00, 37444.90it/s]\u001b[A\n",
      "11225it [00:00, 37450.83it/s]\u001b[A\n",
      "14910it [00:00, 37266.93it/s]\u001b[A\n",
      "18632it [00:00, 37250.21it/s]\u001b[A\n",
      "22359it [00:00, 37253.38it/s]\u001b[A\n",
      "26092it [00:00, 37274.00it/s]\u001b[A\n",
      "29800it [00:00, 37214.56it/s]\u001b[A\n",
      "33514it [00:00, 37191.88it/s]\u001b[A\n",
      "37307it [00:01, 37407.68it/s]\u001b[A\n",
      "41067it [00:01, 37462.88it/s]\u001b[A\n",
      "44864it [00:01, 37612.03it/s]\u001b[A\n",
      "48642it [00:01, 37660.37it/s]\u001b[A\n",
      "52422it [00:01, 37701.16it/s]\u001b[A\n",
      "56206it [00:01, 37741.75it/s]\u001b[A\n",
      "59963it [00:01, 37644.83it/s]\u001b[A\n",
      " 97%|█████████▋| 169/174 [5:26:44<17:46, 213.32s/it]\n",
      "  0%|          | 0/181851 [00:00<?, ?it/s]\u001b[A\n",
      "100%|██████████| 181851/181851 [00:01<00:00, 140617.57it/s]\u001b[A\n",
      "  0%|          | 0/181851 [00:00<?, ?it/s]\u001b[A\n",
      " 34%|███▍      | 61741/181851 [00:00<00:00, 617409.12it/s]"
     ]
    },
    {
     "name": "stdout",
     "output_type": "stream",
     "text": [
      "Sparse dummy orders shape: \n",
      "(181851, 945)\n"
     ]
    },
    {
     "name": "stderr",
     "output_type": "stream",
     "text": [
      "\u001b[A\n",
      " 67%|██████▋   | 122618/181851 [00:00<00:00, 614791.48it/s]\u001b[A\n",
      "100%|██████████| 181851/181851 [00:00<00:00, 616985.94it/s]\u001b[A"
     ]
    },
    {
     "name": "stdout",
     "output_type": "stream",
     "text": [
      "Sparse dummy values shape: \n",
      "(181851, 93)\n"
     ]
    },
    {
     "name": "stderr",
     "output_type": "stream",
     "text": [
      "\n",
      "0it [00:00, ?it/s]\u001b[A\n",
      "3740it [00:00, 37394.42it/s]\u001b[A\n",
      "7486it [00:00, 37411.70it/s]\u001b[A\n",
      "11273it [00:00, 37545.56it/s]\u001b[A\n",
      "15069it [00:00, 37666.17it/s]\u001b[A\n",
      "18840it [00:00, 37677.24it/s]\u001b[A\n",
      "22627it [00:00, 37734.82it/s]\u001b[A\n",
      "26342it [00:00, 37555.86it/s]\u001b[A\n",
      "30058it [00:00, 37434.18it/s]\u001b[A\n",
      "33759it [00:00, 37304.63it/s]\u001b[A\n",
      "37544it [00:01, 37463.81it/s]\u001b[A\n",
      "41186it [00:01, 36778.02it/s]\u001b[A\n",
      "44891it [00:01, 36856.74it/s]\u001b[A\n",
      "48585it [00:01, 36880.42it/s]\u001b[A\n",
      "52239it [00:01, 36749.97it/s]\u001b[A\n",
      "55913it [00:01, 36745.38it/s]\u001b[A\n",
      "59613it [00:01, 36819.58it/s]\u001b[A\n",
      " 98%|█████████▊| 170/174 [5:30:18<14:14, 213.60s/it]\n",
      "  0%|          | 0/181851 [00:00<?, ?it/s]\u001b[A\n",
      "100%|██████████| 181851/181851 [00:01<00:00, 105099.40it/s]\u001b[A\n",
      "  0%|          | 0/181851 [00:00<?, ?it/s]\u001b[A\n",
      " 34%|███▍      | 61480/181851 [00:00<00:00, 614796.19it/s]"
     ]
    },
    {
     "name": "stdout",
     "output_type": "stream",
     "text": [
      "Sparse dummy orders shape: \n",
      "(181851, 1042)\n"
     ]
    },
    {
     "name": "stderr",
     "output_type": "stream",
     "text": [
      "\u001b[A\n",
      " 68%|██████▊   | 123483/181851 [00:00<00:00, 616355.02it/s]\u001b[A\n",
      "100%|██████████| 181851/181851 [00:00<00:00, 621598.27it/s]\u001b[A"
     ]
    },
    {
     "name": "stdout",
     "output_type": "stream",
     "text": [
      "Sparse dummy values shape: \n",
      "(181851, 93)\n"
     ]
    },
    {
     "name": "stderr",
     "output_type": "stream",
     "text": [
      "\n",
      "0it [00:00, ?it/s]\u001b[A\n",
      "3758it [00:00, 37567.85it/s]\u001b[A\n",
      "7528it [00:00, 37605.56it/s]\u001b[A\n",
      "11290it [00:00, 37609.53it/s]\u001b[A\n",
      "15034it [00:00, 37557.90it/s]\u001b[A\n",
      "18794it [00:00, 37570.10it/s]\u001b[A\n",
      "22265it [00:00, 36661.73it/s]\u001b[A\n",
      "26099it [00:00, 37148.41it/s]\u001b[A\n",
      "29927it [00:00, 37478.31it/s]\u001b[A\n",
      "33631it [00:00, 37343.13it/s]\u001b[A\n",
      "37296it [00:01, 37131.71it/s]\u001b[A\n",
      "41097it [00:01, 37390.50it/s]\u001b[A\n",
      "44934it [00:01, 37678.54it/s]\u001b[A\n",
      "48695it [00:01, 37655.35it/s]\u001b[A\n",
      "52495it [00:01, 37755.97it/s]\u001b[A\n",
      "56247it [00:01, 35733.14it/s]\u001b[A\n",
      "59858it [00:01, 35843.12it/s]\u001b[A\n",
      " 98%|█████████▊| 171/174 [5:34:16<11:02, 220.73s/it]\n",
      "  0%|          | 0/181851 [00:00<?, ?it/s]\u001b[A\n",
      "100%|██████████| 181851/181851 [00:01<00:00, 103855.20it/s]\u001b[A\n",
      "  0%|          | 0/181851 [00:00<?, ?it/s]\u001b[A\n",
      " 34%|███▍      | 61425/181851 [00:00<00:00, 614247.66it/s]\u001b[A"
     ]
    },
    {
     "name": "stdout",
     "output_type": "stream",
     "text": [
      "Sparse dummy orders shape: \n",
      "(181851, 1042)\n"
     ]
    },
    {
     "name": "stderr",
     "output_type": "stream",
     "text": [
      "\n",
      " 67%|██████▋   | 122690/181851 [00:00<00:00, 613765.90it/s]\u001b[A\n",
      "100%|██████████| 181851/181851 [00:00<00:00, 614352.57it/s]\u001b[A"
     ]
    },
    {
     "name": "stdout",
     "output_type": "stream",
     "text": [
      "Sparse dummy values shape: \n",
      "(181851, 93)\n"
     ]
    },
    {
     "name": "stderr",
     "output_type": "stream",
     "text": [
      "\n",
      "0it [00:00, ?it/s]\u001b[A\n",
      "3692it [00:00, 36914.67it/s]\u001b[A\n",
      "7449it [00:00, 37106.35it/s]\u001b[A\n",
      "11174it [00:00, 37147.48it/s]\u001b[A\n",
      "14901it [00:00, 37183.29it/s]\u001b[A\n",
      "18629it [00:00, 37210.51it/s]\u001b[A\n",
      "22365it [00:00, 37252.69it/s]\u001b[A\n",
      "26071it [00:00, 37192.76it/s]\u001b[A\n",
      "29662it [00:00, 36792.60it/s]\u001b[A\n",
      "33310it [00:00, 36696.05it/s]\u001b[A\n",
      "37008it [00:01, 36778.30it/s]\u001b[A\n",
      "40694it [00:01, 36802.57it/s]\u001b[A\n",
      "44316it [00:01, 36625.30it/s]\u001b[A\n",
      "48039it [00:01, 36798.43it/s]\u001b[A\n",
      "51786it [00:01, 36996.82it/s]\u001b[A\n",
      "55488it [00:01, 37002.91it/s]\u001b[A\n",
      "59172it [00:01, 36887.20it/s]\u001b[A\n",
      " 99%|█████████▉| 172/174 [5:38:18<07:34, 227.12s/it]\n",
      "  0%|          | 0/181851 [00:00<?, ?it/s]\u001b[A\n",
      "100%|██████████| 181851/181851 [00:01<00:00, 104338.58it/s]\u001b[A\n",
      "  0%|          | 0/181851 [00:00<?, ?it/s]\u001b[A\n",
      " 33%|███▎      | 60231/181851 [00:00<00:00, 602293.34it/s]"
     ]
    },
    {
     "name": "stdout",
     "output_type": "stream",
     "text": [
      "Sparse dummy orders shape: \n",
      "(181851, 1042)\n"
     ]
    },
    {
     "name": "stderr",
     "output_type": "stream",
     "text": [
      "\u001b[A\n",
      " 66%|██████▌   | 120123/181851 [00:00<00:00, 601275.37it/s]\u001b[A\n",
      " 98%|█████████▊| 178618/181851 [00:00<00:00, 596282.61it/s]\u001b[A\n",
      "100%|██████████| 181851/181851 [00:00<00:00, 591641.10it/s]\u001b[A"
     ]
    },
    {
     "name": "stdout",
     "output_type": "stream",
     "text": [
      "Sparse dummy values shape: \n",
      "(181851, 93)\n"
     ]
    },
    {
     "name": "stderr",
     "output_type": "stream",
     "text": [
      "\n",
      "0it [00:00, ?it/s]\u001b[A\n",
      "3737it [00:00, 37367.10it/s]\u001b[A\n",
      "7529it [00:00, 37528.70it/s]\u001b[A\n",
      "11340it [00:00, 37699.20it/s]\u001b[A\n",
      "15124it [00:00, 37738.52it/s]\u001b[A\n",
      "18919it [00:00, 37798.98it/s]\u001b[A\n",
      "22557it [00:00, 37359.14it/s]\u001b[A\n",
      "26060it [00:00, 36628.25it/s]\u001b[A\n",
      "29677it [00:00, 36487.26it/s]\u001b[A\n",
      "33313it [00:00, 36448.19it/s]\u001b[A\n",
      "36945it [00:01, 36408.81it/s]\u001b[A\n",
      "40584it [00:01, 36401.51it/s]\u001b[A\n",
      "44325it [00:01, 36697.77it/s]\u001b[A\n",
      "48016it [00:01, 36760.49it/s]\u001b[A\n",
      "51694it [00:01, 36765.14it/s]\u001b[A\n",
      "55407it [00:01, 36873.28it/s]\u001b[A\n",
      "59229it [00:01, 37265.23it/s]\u001b[A\n",
      " 99%|█████████▉| 173/174 [5:42:19<03:51, 231.28s/it]\n",
      "  0%|          | 0/181851 [00:00<?, ?it/s]\u001b[A\n",
      "100%|██████████| 181851/181851 [00:01<00:00, 105141.96it/s]\u001b[A\n",
      "  0%|          | 0/181851 [00:00<?, ?it/s]\u001b[A\n",
      " 33%|███▎      | 60156/181851 [00:00<00:00, 601559.14it/s]"
     ]
    },
    {
     "name": "stdout",
     "output_type": "stream",
     "text": [
      "Sparse dummy orders shape: \n",
      "(181851, 1042)\n"
     ]
    },
    {
     "name": "stderr",
     "output_type": "stream",
     "text": [
      "\u001b[A\n",
      " 66%|██████▋   | 120908/181851 [00:00<00:00, 603334.82it/s]\u001b[A\n",
      " 99%|█████████▉| 180462/181851 [00:00<00:00, 600974.34it/s]\u001b[A\n",
      "100%|██████████| 181851/181851 [00:00<00:00, 599926.68it/s]\u001b[A"
     ]
    },
    {
     "name": "stdout",
     "output_type": "stream",
     "text": [
      "Sparse dummy values shape: \n",
      "(181851, 93)\n"
     ]
    },
    {
     "name": "stderr",
     "output_type": "stream",
     "text": [
      "\n",
      "0it [00:00, ?it/s]\u001b[A\n",
      "3723it [00:00, 37227.20it/s]\u001b[A\n",
      "7434it [00:00, 37190.02it/s]\u001b[A\n",
      "11147it [00:00, 37171.39it/s]\u001b[A\n",
      "14902it [00:00, 37282.36it/s]\u001b[A\n",
      "18641it [00:00, 37314.51it/s]\u001b[A\n",
      "22341it [00:00, 37219.08it/s]\u001b[A\n",
      "26040it [00:00, 37149.21it/s]\u001b[A\n",
      "29682it [00:00, 36925.03it/s]\u001b[A\n",
      "33386it [00:00, 36957.32it/s]\u001b[A\n",
      "37139it [00:01, 37126.66it/s]\u001b[A\n",
      "40892it [00:01, 37244.22it/s]\u001b[A\n",
      "44544it [00:01, 37020.56it/s]\u001b[A\n",
      "48196it [00:01, 36813.14it/s]\u001b[A\n",
      "51979it [00:01, 37112.24it/s]\u001b[A\n",
      "55667it [00:01, 36914.48it/s]\u001b[A\n",
      "59400it [00:01, 37037.83it/s]\u001b[A\n",
      "100%|██████████| 174/174 [5:46:19<00:00, 233.95s/it]"
     ]
    },
    {
     "name": "stdout",
     "output_type": "stream",
     "text": [
      "CPU times: user 5h 45min 31s, sys: 26 s, total: 5h 45min 57s\n",
      "Wall time: 5h 46min 19s\n"
     ]
    },
    {
     "name": "stderr",
     "output_type": "stream",
     "text": [
      "\n"
     ]
    }
   ],
   "source": [
    "%%time\n",
    "\n",
    "real_keys = []\n",
    "o_shapes = []\n",
    "o_averages = []\n",
    "o_tp = []\n",
    "\n",
    "for key in tqdm(order_keys):\n",
    "    real_keys.append(key)\n",
    "    if len(real_keys) < 2:\n",
    "        continue\n",
    "\n",
    "    order_data_top_100 = []\n",
    "\n",
    "    for row_index in range(len(order_data)):\n",
    "        tmp_row = {}\n",
    "        for key in order_data[row_index].keys():\n",
    "            if key in real_keys:\n",
    "                tmp_row[key] = order_data[row_index][key]\n",
    "        if row_index in main_top_100.index:\n",
    "            order_data_top_100.append(tmp_row)\n",
    "\n",
    "    l_parser.reassign_orders_values(order_data_top_100, values_data_top_100)\n",
    "\n",
    "    full_sparce_dummy = l_parser.prepare_data(orders_vectorizer, values_vectorizer, important_keys_set, fit_dict=True)\n",
    "\n",
    "    X_train, X_test, y_train, y_test = train_test_split(full_sparce_dummy, y, test_size=0.33, random_state=42)\n",
    "\n",
    "    clf = OneVsRestClassifier(LogisticRegression(random_state=42, C=100))\n",
    "    clf.fit(X_train, y_train)\n",
    "    \n",
    "    pred = ThresholdPredictions(user_agent_list=list_ua, clf=clf)\n",
    "    y_test_names, y_predicted, compare_answers, answers_count = pred.predict(X_test, y_test, 0.024072)\n",
    "    \n",
    "    o_shapes.append(full_sparce_dummy.shape[1])\n",
    "    o_averages.append(np.average(answers_count))\n",
    "    o_tp.append(np.sum(compare_answers) / y_test.shape[0])"
   ]
  },
  {
   "cell_type": "code",
   "execution_count": 87,
   "metadata": {},
   "outputs": [
    {
     "data": {
      "image/png": "[encoded data removed]",
      "text/plain": [
       "<matplotlib.figure.Figure at 0x7f7f44e35080>"
      ]
     },
     "metadata": {},
     "output_type": "display_data"
    }
   ],
   "source": [
    "plot(range(1, len(order_keys)), o_tp, '-g', label='True Positive');\n",
    "\n",
    "scatter(41, o_tp[40], color='red');\n",
    "scatter(52, o_tp[51], color='red');\n",
    "\n",
    "scatter(42, o_tp[41], color='red');\n",
    "scatter(46, o_tp[45], color='red');\n",
    "scatter(47, o_tp[46], color='red');\n",
    "scatter(48, o_tp[47], color='red');\n",
    "\n",
    "scatter(88, o_tp[87], color='red');\n",
    "scatter(89, o_tp[88], color='red');\n",
    "\n",
    "scatter(116, o_tp[115], color='red');\n",
    "scatter(118, o_tp[117], color='red');\n",
    "\n",
    "scatter(127, o_tp[126], color='red');\n",
    "scatter(128, o_tp[127], color='red');"
   ]
  },
  {
   "cell_type": "code",
   "execution_count": 32,
   "metadata": {},
   "outputs": [
    {
     "data": {
      "image/png": "[encoded data removed]",
      "text/plain": [
       "<matplotlib.figure.Figure at 0x7f7eef62ed30>"
      ]
     },
     "metadata": {},
     "output_type": "display_data"
    }
   ],
   "source": [
    "plot(range(1, len(order_keys)), np.array(o_averages), '-r', label='Answers Count (Average)');"
   ]
  },
  {
   "cell_type": "code",
   "execution_count": 33,
   "metadata": {},
   "outputs": [
    {
     "data": {
      "image/png": "[encoded data removed]",
      "text/plain": [
       "<matplotlib.figure.Figure at 0x7f7f3a484c88>"
      ]
     },
     "metadata": {},
     "output_type": "display_data"
    }
   ],
   "source": [
    "plot(range(1, len(order_keys)), np.array(o_shapes), '-b', label='Order features shape');"
   ]
  },
  {
   "cell_type": "markdown",
   "metadata": {},
   "source": [
    "### Select greatest keys"
   ]
  },
  {
   "cell_type": "code",
   "execution_count": 141,
   "metadata": {},
   "outputs": [
    {
     "data": {
      "text/plain": [
       "['X-Ucbrowser-Ua',\n",
       " 'Upgrade-Insecure-Requests',\n",
       " 'X-Original-Url',\n",
       " 'Drm-Version',\n",
       " 'Useragent',\n",
       " 'Accept',\n",
       " 'Save-Data',\n",
       " 'If-Modified-Since',\n",
       " 'X-Liveinternetapplications',\n",
       " 'Wap-Connection',\n",
       " 'O2gw-Id',\n",
       " 'Host',\n",
       " 'X-Pocket-Parser',\n",
       " 'Connection',\n",
       " 'Giga-Transport',\n",
       " 'User-Agent',\n",
       " 'From',\n",
       " 'X-Requestfrom',\n",
       " 'Accept-Encoding']"
      ]
     },
     "execution_count": 141,
     "metadata": {},
     "output_type": "execute_result"
    }
   ],
   "source": [
    "real_keys = list(order_keys)\n",
    "important_order_keys = []\n",
    "\n",
    "for n in range(41, 53):\n",
    "    important_order_keys.append(real_keys[n])\n",
    "    \n",
    "for n in range(88, 90):\n",
    "    important_order_keys.append(real_keys[n])\n",
    "    \n",
    "for n in range(116, 119):\n",
    "    important_order_keys.append(real_keys[n])\n",
    "    \n",
    "for n in range(127, 129):\n",
    "    important_order_keys.append(real_keys[n])\n",
    "    \n",
    "important_order_keys"
   ]
  },
  {
   "cell_type": "code",
   "execution_count": 142,
   "metadata": {},
   "outputs": [
    {
     "name": "stderr",
     "output_type": "stream",
     "text": [
      "100%|██████████| 181851/181851 [00:00<00:00, 205218.25it/s]\n",
      " 32%|███▏      | 57471/181851 [00:00<00:00, 574707.81it/s]"
     ]
    },
    {
     "name": "stdout",
     "output_type": "stream",
     "text": [
      "Sparse dummy orders shape: \n",
      "(181851, 84)\n"
     ]
    },
    {
     "name": "stderr",
     "output_type": "stream",
     "text": [
      "100%|██████████| 181851/181851 [00:00<00:00, 586750.71it/s]\n"
     ]
    },
    {
     "name": "stdout",
     "output_type": "stream",
     "text": [
      "Sparse dummy values shape: \n",
      "(181851, 93)\n"
     ]
    },
    {
     "name": "stderr",
     "output_type": "stream",
     "text": [
      "60011it [00:01, 37828.72it/s]\n"
     ]
    },
    {
     "name": "stdout",
     "output_type": "stream",
     "text": [
      "sparse_dummy_values.shape: (181851, 177)\n",
      "Answers Count (Average) = 5.03685990901668\n",
      "True Positive = 0.9663561680358601\n"
     ]
    },
    {
     "data": {
      "text/html": [
       "<div>\n",
       "<style>\n",
       "    .dataframe thead tr:only-child th {\n",
       "        text-align: right;\n",
       "    }\n",
       "\n",
       "    .dataframe thead th {\n",
       "        text-align: left;\n",
       "    }\n",
       "\n",
       "    .dataframe tbody tr th {\n",
       "        vertical-align: top;\n",
       "    }\n",
       "</style>\n",
       "<table border=\"1\" class=\"dataframe\">\n",
       "  <thead>\n",
       "    <tr>\n",
       "      <th></th>\n",
       "      <th>test</th>\n",
       "      <th>predicted</th>\n",
       "      <th>correctness</th>\n",
       "      <th>count</th>\n",
       "    </tr>\n",
       "    <tr>\n",
       "      <th></th>\n",
       "      <th>0</th>\n",
       "      <th>1</th>\n",
       "      <th>0</th>\n",
       "      <th>0</th>\n",
       "    </tr>\n",
       "  </thead>\n",
       "  <tbody>\n",
       "    <tr>\n",
       "      <th>0</th>\n",
       "      <td>Mozilla/5.0 (Windows NT 6.3; Win64; x64) Apple...</td>\n",
       "      <td>[Mozilla/5.0 (Windows NT 6.3; Win64; x64) Appl...</td>\n",
       "      <td>True</td>\n",
       "      <td>1</td>\n",
       "    </tr>\n",
       "    <tr>\n",
       "      <th>1</th>\n",
       "      <td>netEstate NE Crawler (+http://www.website-date...</td>\n",
       "      <td>[Mozilla/5.0 (compatible; Yahoo! Slurp; http:/...</td>\n",
       "      <td>True</td>\n",
       "      <td>7</td>\n",
       "    </tr>\n",
       "    <tr>\n",
       "      <th>2</th>\n",
       "      <td>Mozilla/5.0 (iPhone; CPU iPhone OS 10_2_1 like...</td>\n",
       "      <td>[Mozilla/5.0 (compatible; Yahoo! Slurp; http:/...</td>\n",
       "      <td>True</td>\n",
       "      <td>15</td>\n",
       "    </tr>\n",
       "    <tr>\n",
       "      <th>3</th>\n",
       "      <td>Mozilla/5.0 (compatible; MJ12bot/v1.4.7; http:...</td>\n",
       "      <td>[Mozilla/5.0 (compatible; MJ12bot/v1.4.7; http...</td>\n",
       "      <td>True</td>\n",
       "      <td>1</td>\n",
       "    </tr>\n",
       "    <tr>\n",
       "      <th>4</th>\n",
       "      <td>Mozilla/5.0 (compatible; Yahoo! Slurp; http://...</td>\n",
       "      <td>[Mozilla/5.0 (compatible; Yahoo! Slurp; http:/...</td>\n",
       "      <td>True</td>\n",
       "      <td>15</td>\n",
       "    </tr>\n",
       "    <tr>\n",
       "      <th>...</th>\n",
       "      <td>...</td>\n",
       "      <td>...</td>\n",
       "      <td>...</td>\n",
       "      <td>...</td>\n",
       "    </tr>\n",
       "    <tr>\n",
       "      <th>60006</th>\n",
       "      <td>Mozilla/5.0 (Windows NT 6.1) AppleWebKit/537.3...</td>\n",
       "      <td>[Mozilla/5.0 (Windows NT 6.1) AppleWebKit/537....</td>\n",
       "      <td>True</td>\n",
       "      <td>1</td>\n",
       "    </tr>\n",
       "    <tr>\n",
       "      <th>60007</th>\n",
       "      <td>Mozilla/5.0 (iPad; CPU OS 9_3_5 like Mac OS X)...</td>\n",
       "      <td>[Mozilla/5.0 (iPad; CPU OS 9_3_5 like Mac OS X...</td>\n",
       "      <td>True</td>\n",
       "      <td>1</td>\n",
       "    </tr>\n",
       "    <tr>\n",
       "      <th>60008</th>\n",
       "      <td>Mozilla/5.0 (iPad; CPU OS 9_3_5 like Mac OS X)...</td>\n",
       "      <td>[Mozilla/5.0 (iPad; CPU OS 9_3_5 like Mac OS X...</td>\n",
       "      <td>True</td>\n",
       "      <td>1</td>\n",
       "    </tr>\n",
       "    <tr>\n",
       "      <th>60009</th>\n",
       "      <td>Mozilla/5.0 (iPad; CPU OS 10_2_1 like Mac OS X...</td>\n",
       "      <td>[Mozilla/5.0 (iPad; CPU OS 10_2_1 like Mac OS ...</td>\n",
       "      <td>True</td>\n",
       "      <td>2</td>\n",
       "    </tr>\n",
       "    <tr>\n",
       "      <th>60010</th>\n",
       "      <td>StackRambler/2.0 (MSIE incompatible; Top100)</td>\n",
       "      <td>[Mozilla/5.0 (Windows NT 6.1) AppleWebKit/537....</td>\n",
       "      <td>True</td>\n",
       "      <td>5</td>\n",
       "    </tr>\n",
       "  </tbody>\n",
       "</table>\n",
       "<p>60011 rows × 4 columns</p>\n",
       "</div>"
      ],
      "text/plain": [
       "                                                    test  \\\n",
       "                                                       0   \n",
       "0      Mozilla/5.0 (Windows NT 6.3; Win64; x64) Apple...   \n",
       "1      netEstate NE Crawler (+http://www.website-date...   \n",
       "2      Mozilla/5.0 (iPhone; CPU iPhone OS 10_2_1 like...   \n",
       "3      Mozilla/5.0 (compatible; MJ12bot/v1.4.7; http:...   \n",
       "4      Mozilla/5.0 (compatible; Yahoo! Slurp; http://...   \n",
       "...                                                  ...   \n",
       "60006  Mozilla/5.0 (Windows NT 6.1) AppleWebKit/537.3...   \n",
       "60007  Mozilla/5.0 (iPad; CPU OS 9_3_5 like Mac OS X)...   \n",
       "60008  Mozilla/5.0 (iPad; CPU OS 9_3_5 like Mac OS X)...   \n",
       "60009  Mozilla/5.0 (iPad; CPU OS 10_2_1 like Mac OS X...   \n",
       "60010       StackRambler/2.0 (MSIE incompatible; Top100)   \n",
       "\n",
       "                                               predicted correctness count  \n",
       "                                                       1           0     0  \n",
       "0      [Mozilla/5.0 (Windows NT 6.3; Win64; x64) Appl...        True     1  \n",
       "1      [Mozilla/5.0 (compatible; Yahoo! Slurp; http:/...        True     7  \n",
       "2      [Mozilla/5.0 (compatible; Yahoo! Slurp; http:/...        True    15  \n",
       "3      [Mozilla/5.0 (compatible; MJ12bot/v1.4.7; http...        True     1  \n",
       "4      [Mozilla/5.0 (compatible; Yahoo! Slurp; http:/...        True    15  \n",
       "...                                                  ...         ...   ...  \n",
       "60006  [Mozilla/5.0 (Windows NT 6.1) AppleWebKit/537....        True     1  \n",
       "60007  [Mozilla/5.0 (iPad; CPU OS 9_3_5 like Mac OS X...        True     1  \n",
       "60008  [Mozilla/5.0 (iPad; CPU OS 9_3_5 like Mac OS X...        True     1  \n",
       "60009  [Mozilla/5.0 (iPad; CPU OS 10_2_1 like Mac OS ...        True     2  \n",
       "60010  [Mozilla/5.0 (Windows NT 6.1) AppleWebKit/537....        True     5  \n",
       "\n",
       "[60011 rows x 4 columns]"
      ]
     },
     "execution_count": 142,
     "metadata": {},
     "output_type": "execute_result"
    }
   ],
   "source": [
    "order_keys = set(important_order_keys)\n",
    "\n",
    "order_data_top_100 = []\n",
    "\n",
    "for row_index in range(len(order_data)):\n",
    "    tmp_row = {}\n",
    "    for key in order_data[row_index].keys():\n",
    "        if key in set(important_order_keys):\n",
    "            tmp_row[key] = order_data[row_index][key]\n",
    "    if row_index in main_top_100.index:\n",
    "        order_data_top_100.append(tmp_row)\n",
    "\n",
    "l_parser.reassign_orders_values(order_data_top_100, values_data_top_100)\n",
    "\n",
    "full_sparce_dummy = l_parser.prepare_data(orders_vectorizer, values_vectorizer, important_keys_set, fit_dict=True)\n",
    "\n",
    "X_train, X_test, y_train, y_test = train_test_split(full_sparce_dummy, y, test_size=0.33, random_state=42)\n",
    "\n",
    "clf = OneVsRestClassifier(LogisticRegression(random_state=42, C=100))\n",
    "clf.fit(X_train, y_train)\n",
    "    \n",
    "pred = ThresholdPredictions(user_agent_list=list_ua, clf=clf)\n",
    "y_test_names, y_predicted, compare_answers, answers_count = pred.predict(X_test, y_test, 0.024072)\n",
    "\n",
    "compare_frame = pd.concat(\n",
    "    [\n",
    "        y_test_names,\n",
    "        y_predicted, \n",
    "        pd.DataFrame(compare_answers), \n",
    "        pd.DataFrame(answers_count)\n",
    "    ], keys=['test', 'predicted', 'correctness', 'count'], axis=1, join='inner')\n",
    "\n",
    "#print('Headers: ' + str(' '.join(important_keys)))\n",
    "print('sparse_dummy_values.shape: ' + str(full_sparce_dummy.shape))\n",
    "print(\"Answers Count (Average) = {0}\".format(np.average(answers_count)))\n",
    "smart_accuracy = numpy.sum(compare_answers) / y_test.shape[0]\n",
    "print(\"True Positive = {0}\".format(smart_accuracy))\n",
    "compare_frame"
   ]
  },
  {
   "cell_type": "code",
   "execution_count": 75,
   "metadata": {},
   "outputs": [
    {
     "data": {
      "text/plain": [
       "['X-Ucbrowser-Ua',\n",
       " 'Upgrade-Insecure-Requests',\n",
       " 'X-Original-Url',\n",
       " 'Drm-Version',\n",
       " 'Useragent',\n",
       " 'Accept',\n",
       " 'Save-Data',\n",
       " 'If-Modified-Since',\n",
       " 'X-Liveinternetapplications',\n",
       " 'Wap-Connection',\n",
       " 'O2gw-Id',\n",
       " 'Host']"
      ]
     },
     "execution_count": 75,
     "metadata": {},
     "output_type": "execute_result"
    }
   ],
   "source": [
    "important_order_keys = []\n",
    "\n",
    "for n in range(41, 53):\n",
    "    important_order_keys.append(real_keys[n])\n",
    "    \n",
    "important_order_keys"
   ]
  },
  {
   "cell_type": "code",
   "execution_count": 76,
   "metadata": {},
   "outputs": [
    {
     "name": "stderr",
     "output_type": "stream",
     "text": [
      "100%|██████████| 181851/181851 [00:01<00:00, 101628.77it/s]\n",
      " 30%|██▉       | 54468/181851 [00:00<00:00, 544672.73it/s]"
     ]
    },
    {
     "name": "stdout",
     "output_type": "stream",
     "text": [
      "Sparse dummy orders shape: \n",
      "(181851, 1042)\n"
     ]
    },
    {
     "name": "stderr",
     "output_type": "stream",
     "text": [
      "100%|██████████| 181851/181851 [00:00<00:00, 562430.46it/s]\n"
     ]
    },
    {
     "name": "stdout",
     "output_type": "stream",
     "text": [
      "Sparse dummy values shape: \n",
      "(181851, 93)\n"
     ]
    },
    {
     "name": "stderr",
     "output_type": "stream",
     "text": [
      "60011it [00:01, 35122.46it/s]\n"
     ]
    },
    {
     "name": "stdout",
     "output_type": "stream",
     "text": [
      "sparse_dummy_values.shape: (181851, 1135)\n",
      "Answers Count (Average) = 4.587975537818067\n",
      "True Positive = 0.9598240322607522\n"
     ]
    },
    {
     "data": {
      "text/html": [
       "<div>\n",
       "<style>\n",
       "    .dataframe thead tr:only-child th {\n",
       "        text-align: right;\n",
       "    }\n",
       "\n",
       "    .dataframe thead th {\n",
       "        text-align: left;\n",
       "    }\n",
       "\n",
       "    .dataframe tbody tr th {\n",
       "        vertical-align: top;\n",
       "    }\n",
       "</style>\n",
       "<table border=\"1\" class=\"dataframe\">\n",
       "  <thead>\n",
       "    <tr>\n",
       "      <th></th>\n",
       "      <th>test</th>\n",
       "      <th>predicted</th>\n",
       "      <th>correctness</th>\n",
       "      <th>count</th>\n",
       "    </tr>\n",
       "    <tr>\n",
       "      <th></th>\n",
       "      <th>0</th>\n",
       "      <th>1</th>\n",
       "      <th>0</th>\n",
       "      <th>0</th>\n",
       "    </tr>\n",
       "  </thead>\n",
       "  <tbody>\n",
       "    <tr>\n",
       "      <th>0</th>\n",
       "      <td>Mozilla/5.0 (Windows NT 6.3; Win64; x64) Apple...</td>\n",
       "      <td>[Mozilla/5.0 (Windows NT 6.3; Win64; x64) Appl...</td>\n",
       "      <td>True</td>\n",
       "      <td>1</td>\n",
       "    </tr>\n",
       "    <tr>\n",
       "      <th>1</th>\n",
       "      <td>netEstate NE Crawler (+http://www.website-date...</td>\n",
       "      <td>[Mozilla/5.0 (compatible; Yahoo! Slurp; http:/...</td>\n",
       "      <td>True</td>\n",
       "      <td>5</td>\n",
       "    </tr>\n",
       "    <tr>\n",
       "      <th>2</th>\n",
       "      <td>Mozilla/5.0 (iPhone; CPU iPhone OS 10_2_1 like...</td>\n",
       "      <td>[Mozilla/5.0 (compatible; Yahoo! Slurp; http:/...</td>\n",
       "      <td>True</td>\n",
       "      <td>14</td>\n",
       "    </tr>\n",
       "    <tr>\n",
       "      <th>3</th>\n",
       "      <td>Mozilla/5.0 (compatible; MJ12bot/v1.4.7; http:...</td>\n",
       "      <td>[Mozilla/5.0 (compatible; MJ12bot/v1.4.7; http...</td>\n",
       "      <td>True</td>\n",
       "      <td>1</td>\n",
       "    </tr>\n",
       "    <tr>\n",
       "      <th>4</th>\n",
       "      <td>Mozilla/5.0 (compatible; Yahoo! Slurp; http://...</td>\n",
       "      <td>[Mozilla/5.0 (compatible; Yahoo! Slurp; http:/...</td>\n",
       "      <td>True</td>\n",
       "      <td>14</td>\n",
       "    </tr>\n",
       "    <tr>\n",
       "      <th>...</th>\n",
       "      <td>...</td>\n",
       "      <td>...</td>\n",
       "      <td>...</td>\n",
       "      <td>...</td>\n",
       "    </tr>\n",
       "    <tr>\n",
       "      <th>60006</th>\n",
       "      <td>Mozilla/5.0 (Windows NT 6.1) AppleWebKit/537.3...</td>\n",
       "      <td>[Mozilla/5.0 (Windows NT 6.1) AppleWebKit/537....</td>\n",
       "      <td>True</td>\n",
       "      <td>1</td>\n",
       "    </tr>\n",
       "    <tr>\n",
       "      <th>60007</th>\n",
       "      <td>Mozilla/5.0 (iPad; CPU OS 9_3_5 like Mac OS X)...</td>\n",
       "      <td>[Mozilla/5.0 (iPad; CPU OS 9_3_5 like Mac OS X...</td>\n",
       "      <td>True</td>\n",
       "      <td>1</td>\n",
       "    </tr>\n",
       "    <tr>\n",
       "      <th>60008</th>\n",
       "      <td>Mozilla/5.0 (iPad; CPU OS 9_3_5 like Mac OS X)...</td>\n",
       "      <td>[Mozilla/5.0 (iPad; CPU OS 9_3_5 like Mac OS X...</td>\n",
       "      <td>True</td>\n",
       "      <td>1</td>\n",
       "    </tr>\n",
       "    <tr>\n",
       "      <th>60009</th>\n",
       "      <td>Mozilla/5.0 (iPad; CPU OS 10_2_1 like Mac OS X...</td>\n",
       "      <td>[Mozilla/5.0 (iPad; CPU OS 10_2_1 like Mac OS ...</td>\n",
       "      <td>True</td>\n",
       "      <td>2</td>\n",
       "    </tr>\n",
       "    <tr>\n",
       "      <th>60010</th>\n",
       "      <td>StackRambler/2.0 (MSIE incompatible; Top100)</td>\n",
       "      <td>[Mozilla/5.0 (Windows NT 6.1) AppleWebKit/537....</td>\n",
       "      <td>True</td>\n",
       "      <td>5</td>\n",
       "    </tr>\n",
       "  </tbody>\n",
       "</table>\n",
       "<p>60011 rows × 4 columns</p>\n",
       "</div>"
      ],
      "text/plain": [
       "                                                    test  \\\n",
       "                                                       0   \n",
       "0      Mozilla/5.0 (Windows NT 6.3; Win64; x64) Apple...   \n",
       "1      netEstate NE Crawler (+http://www.website-date...   \n",
       "2      Mozilla/5.0 (iPhone; CPU iPhone OS 10_2_1 like...   \n",
       "3      Mozilla/5.0 (compatible; MJ12bot/v1.4.7; http:...   \n",
       "4      Mozilla/5.0 (compatible; Yahoo! Slurp; http://...   \n",
       "...                                                  ...   \n",
       "60006  Mozilla/5.0 (Windows NT 6.1) AppleWebKit/537.3...   \n",
       "60007  Mozilla/5.0 (iPad; CPU OS 9_3_5 like Mac OS X)...   \n",
       "60008  Mozilla/5.0 (iPad; CPU OS 9_3_5 like Mac OS X)...   \n",
       "60009  Mozilla/5.0 (iPad; CPU OS 10_2_1 like Mac OS X...   \n",
       "60010       StackRambler/2.0 (MSIE incompatible; Top100)   \n",
       "\n",
       "                                               predicted correctness count  \n",
       "                                                       1           0     0  \n",
       "0      [Mozilla/5.0 (Windows NT 6.3; Win64; x64) Appl...        True     1  \n",
       "1      [Mozilla/5.0 (compatible; Yahoo! Slurp; http:/...        True     5  \n",
       "2      [Mozilla/5.0 (compatible; Yahoo! Slurp; http:/...        True    14  \n",
       "3      [Mozilla/5.0 (compatible; MJ12bot/v1.4.7; http...        True     1  \n",
       "4      [Mozilla/5.0 (compatible; Yahoo! Slurp; http:/...        True    14  \n",
       "...                                                  ...         ...   ...  \n",
       "60006  [Mozilla/5.0 (Windows NT 6.1) AppleWebKit/537....        True     1  \n",
       "60007  [Mozilla/5.0 (iPad; CPU OS 9_3_5 like Mac OS X...        True     1  \n",
       "60008  [Mozilla/5.0 (iPad; CPU OS 9_3_5 like Mac OS X...        True     1  \n",
       "60009  [Mozilla/5.0 (iPad; CPU OS 10_2_1 like Mac OS ...        True     2  \n",
       "60010  [Mozilla/5.0 (Windows NT 6.1) AppleWebKit/537....        True     5  \n",
       "\n",
       "[60011 rows x 4 columns]"
      ]
     },
     "execution_count": 76,
     "metadata": {},
     "output_type": "execute_result"
    }
   ],
   "source": [
    "order_keys = set(important_order_keys)\n",
    "\n",
    "order_data_top_100 = []\n",
    "\n",
    "for row_index in range(len(order_data)):\n",
    "    tmp_row = {}\n",
    "    for key in order_data[row_index].keys():\n",
    "        if key in real_keys:\n",
    "            tmp_row[key] = order_data[row_index][key]\n",
    "    if row_index in main_top_100.index:\n",
    "        order_data_top_100.append(tmp_row)\n",
    "\n",
    "l_parser.reassign_orders_values(order_data_top_100, values_data_top_100)\n",
    "\n",
    "full_sparce_dummy = l_parser.prepare_data(orders_vectorizer, values_vectorizer, important_keys_set, fit_dict=True)\n",
    "\n",
    "X_train, X_test, y_train, y_test = train_test_split(full_sparce_dummy, y, test_size=0.33, random_state=42)\n",
    "\n",
    "clf = OneVsRestClassifier(LogisticRegression(random_state=42, C=100))\n",
    "clf.fit(X_train, y_train)\n",
    "    \n",
    "pred = ThresholdPredictions(user_agent_list=list_ua, clf=clf)\n",
    "y_test_names, y_predicted, compare_answers, answers_count = pred.predict(X_test, y_test, 0.024072)\n",
    "\n",
    "compare_frame = pd.concat(\n",
    "    [\n",
    "        y_test_names,\n",
    "        y_predicted, \n",
    "        pd.DataFrame(compare_answers), \n",
    "        pd.DataFrame(answers_count)\n",
    "    ], keys=['test', 'predicted', 'correctness', 'count'], axis=1, join='inner')\n",
    "\n",
    "#print('Headers: ' + str(' '.join(important_keys)))\n",
    "print('sparse_dummy_values.shape: ' + str(full_sparce_dummy.shape))\n",
    "print(\"Answers Count (Average) = {0}\".format(np.average(answers_count)))\n",
    "smart_accuracy = numpy.sum(compare_answers) / y_test.shape[0]\n",
    "print(\"True Positive = {0}\".format(smart_accuracy))\n",
    "compare_frame"
   ]
  },
  {
   "cell_type": "code",
   "execution_count": 77,
   "metadata": {
    "collapsed": true
   },
   "outputs": [],
   "source": [
    "important_order_keys = []\n",
    "\n",
    "for n in range(41, 53):\n",
    "    important_order_keys.append(real_keys[n])\n",
    "\n",
    "important_order_keys.append(real_keys[90])\n",
    "important_order_keys.append(real_keys[119])\n",
    "important_order_keys.append(real_keys[129])"
   ]
  },
  {
   "cell_type": "code",
   "execution_count": 78,
   "metadata": {},
   "outputs": [
    {
     "name": "stderr",
     "output_type": "stream",
     "text": [
      "100%|██████████| 181851/181851 [00:01<00:00, 102105.93it/s]\n",
      " 33%|███▎      | 59786/181851 [00:00<00:00, 597854.87it/s]"
     ]
    },
    {
     "name": "stdout",
     "output_type": "stream",
     "text": [
      "Sparse dummy orders shape: \n",
      "(181851, 1042)\n"
     ]
    },
    {
     "name": "stderr",
     "output_type": "stream",
     "text": [
      "100%|██████████| 181851/181851 [00:00<00:00, 563213.30it/s]\n"
     ]
    },
    {
     "name": "stdout",
     "output_type": "stream",
     "text": [
      "Sparse dummy values shape: \n",
      "(181851, 93)\n"
     ]
    },
    {
     "name": "stderr",
     "output_type": "stream",
     "text": [
      "60011it [00:01, 38875.93it/s]"
     ]
    },
    {
     "name": "stdout",
     "output_type": "stream",
     "text": [
      "sparse_dummy_values.shape: (181851, 1135)\n",
      "Answers Count (Average) = 4.587975537818067\n",
      "True Positive = 0.9598240322607522\n"
     ]
    },
    {
     "name": "stderr",
     "output_type": "stream",
     "text": [
      "\n"
     ]
    },
    {
     "data": {
      "text/html": [
       "<div>\n",
       "<style>\n",
       "    .dataframe thead tr:only-child th {\n",
       "        text-align: right;\n",
       "    }\n",
       "\n",
       "    .dataframe thead th {\n",
       "        text-align: left;\n",
       "    }\n",
       "\n",
       "    .dataframe tbody tr th {\n",
       "        vertical-align: top;\n",
       "    }\n",
       "</style>\n",
       "<table border=\"1\" class=\"dataframe\">\n",
       "  <thead>\n",
       "    <tr>\n",
       "      <th></th>\n",
       "      <th>test</th>\n",
       "      <th>predicted</th>\n",
       "      <th>correctness</th>\n",
       "      <th>count</th>\n",
       "    </tr>\n",
       "    <tr>\n",
       "      <th></th>\n",
       "      <th>0</th>\n",
       "      <th>1</th>\n",
       "      <th>0</th>\n",
       "      <th>0</th>\n",
       "    </tr>\n",
       "  </thead>\n",
       "  <tbody>\n",
       "    <tr>\n",
       "      <th>0</th>\n",
       "      <td>Mozilla/5.0 (Windows NT 6.3; Win64; x64) Apple...</td>\n",
       "      <td>[Mozilla/5.0 (Windows NT 6.3; Win64; x64) Appl...</td>\n",
       "      <td>True</td>\n",
       "      <td>1</td>\n",
       "    </tr>\n",
       "    <tr>\n",
       "      <th>1</th>\n",
       "      <td>netEstate NE Crawler (+http://www.website-date...</td>\n",
       "      <td>[Mozilla/5.0 (compatible; Yahoo! Slurp; http:/...</td>\n",
       "      <td>True</td>\n",
       "      <td>5</td>\n",
       "    </tr>\n",
       "    <tr>\n",
       "      <th>2</th>\n",
       "      <td>Mozilla/5.0 (iPhone; CPU iPhone OS 10_2_1 like...</td>\n",
       "      <td>[Mozilla/5.0 (compatible; Yahoo! Slurp; http:/...</td>\n",
       "      <td>True</td>\n",
       "      <td>14</td>\n",
       "    </tr>\n",
       "    <tr>\n",
       "      <th>3</th>\n",
       "      <td>Mozilla/5.0 (compatible; MJ12bot/v1.4.7; http:...</td>\n",
       "      <td>[Mozilla/5.0 (compatible; MJ12bot/v1.4.7; http...</td>\n",
       "      <td>True</td>\n",
       "      <td>1</td>\n",
       "    </tr>\n",
       "    <tr>\n",
       "      <th>4</th>\n",
       "      <td>Mozilla/5.0 (compatible; Yahoo! Slurp; http://...</td>\n",
       "      <td>[Mozilla/5.0 (compatible; Yahoo! Slurp; http:/...</td>\n",
       "      <td>True</td>\n",
       "      <td>14</td>\n",
       "    </tr>\n",
       "    <tr>\n",
       "      <th>...</th>\n",
       "      <td>...</td>\n",
       "      <td>...</td>\n",
       "      <td>...</td>\n",
       "      <td>...</td>\n",
       "    </tr>\n",
       "    <tr>\n",
       "      <th>60006</th>\n",
       "      <td>Mozilla/5.0 (Windows NT 6.1) AppleWebKit/537.3...</td>\n",
       "      <td>[Mozilla/5.0 (Windows NT 6.1) AppleWebKit/537....</td>\n",
       "      <td>True</td>\n",
       "      <td>1</td>\n",
       "    </tr>\n",
       "    <tr>\n",
       "      <th>60007</th>\n",
       "      <td>Mozilla/5.0 (iPad; CPU OS 9_3_5 like Mac OS X)...</td>\n",
       "      <td>[Mozilla/5.0 (iPad; CPU OS 9_3_5 like Mac OS X...</td>\n",
       "      <td>True</td>\n",
       "      <td>1</td>\n",
       "    </tr>\n",
       "    <tr>\n",
       "      <th>60008</th>\n",
       "      <td>Mozilla/5.0 (iPad; CPU OS 9_3_5 like Mac OS X)...</td>\n",
       "      <td>[Mozilla/5.0 (iPad; CPU OS 9_3_5 like Mac OS X...</td>\n",
       "      <td>True</td>\n",
       "      <td>1</td>\n",
       "    </tr>\n",
       "    <tr>\n",
       "      <th>60009</th>\n",
       "      <td>Mozilla/5.0 (iPad; CPU OS 10_2_1 like Mac OS X...</td>\n",
       "      <td>[Mozilla/5.0 (iPad; CPU OS 10_2_1 like Mac OS ...</td>\n",
       "      <td>True</td>\n",
       "      <td>2</td>\n",
       "    </tr>\n",
       "    <tr>\n",
       "      <th>60010</th>\n",
       "      <td>StackRambler/2.0 (MSIE incompatible; Top100)</td>\n",
       "      <td>[Mozilla/5.0 (Windows NT 6.1) AppleWebKit/537....</td>\n",
       "      <td>True</td>\n",
       "      <td>5</td>\n",
       "    </tr>\n",
       "  </tbody>\n",
       "</table>\n",
       "<p>60011 rows × 4 columns</p>\n",
       "</div>"
      ],
      "text/plain": [
       "                                                    test  \\\n",
       "                                                       0   \n",
       "0      Mozilla/5.0 (Windows NT 6.3; Win64; x64) Apple...   \n",
       "1      netEstate NE Crawler (+http://www.website-date...   \n",
       "2      Mozilla/5.0 (iPhone; CPU iPhone OS 10_2_1 like...   \n",
       "3      Mozilla/5.0 (compatible; MJ12bot/v1.4.7; http:...   \n",
       "4      Mozilla/5.0 (compatible; Yahoo! Slurp; http://...   \n",
       "...                                                  ...   \n",
       "60006  Mozilla/5.0 (Windows NT 6.1) AppleWebKit/537.3...   \n",
       "60007  Mozilla/5.0 (iPad; CPU OS 9_3_5 like Mac OS X)...   \n",
       "60008  Mozilla/5.0 (iPad; CPU OS 9_3_5 like Mac OS X)...   \n",
       "60009  Mozilla/5.0 (iPad; CPU OS 10_2_1 like Mac OS X...   \n",
       "60010       StackRambler/2.0 (MSIE incompatible; Top100)   \n",
       "\n",
       "                                               predicted correctness count  \n",
       "                                                       1           0     0  \n",
       "0      [Mozilla/5.0 (Windows NT 6.3; Win64; x64) Appl...        True     1  \n",
       "1      [Mozilla/5.0 (compatible; Yahoo! Slurp; http:/...        True     5  \n",
       "2      [Mozilla/5.0 (compatible; Yahoo! Slurp; http:/...        True    14  \n",
       "3      [Mozilla/5.0 (compatible; MJ12bot/v1.4.7; http...        True     1  \n",
       "4      [Mozilla/5.0 (compatible; Yahoo! Slurp; http:/...        True    14  \n",
       "...                                                  ...         ...   ...  \n",
       "60006  [Mozilla/5.0 (Windows NT 6.1) AppleWebKit/537....        True     1  \n",
       "60007  [Mozilla/5.0 (iPad; CPU OS 9_3_5 like Mac OS X...        True     1  \n",
       "60008  [Mozilla/5.0 (iPad; CPU OS 9_3_5 like Mac OS X...        True     1  \n",
       "60009  [Mozilla/5.0 (iPad; CPU OS 10_2_1 like Mac OS ...        True     2  \n",
       "60010  [Mozilla/5.0 (Windows NT 6.1) AppleWebKit/537....        True     5  \n",
       "\n",
       "[60011 rows x 4 columns]"
      ]
     },
     "execution_count": 78,
     "metadata": {},
     "output_type": "execute_result"
    }
   ],
   "source": [
    "order_keys = set(important_order_keys)\n",
    "\n",
    "order_data_top_100 = []\n",
    "\n",
    "for row_index in range(len(order_data)):\n",
    "    tmp_row = {}\n",
    "    for key in order_data[row_index].keys():\n",
    "        if key in real_keys:\n",
    "            tmp_row[key] = order_data[row_index][key]\n",
    "    if row_index in main_top_100.index:\n",
    "        order_data_top_100.append(tmp_row)\n",
    "\n",
    "l_parser.reassign_orders_values(order_data_top_100, values_data_top_100)\n",
    "\n",
    "full_sparce_dummy = l_parser.prepare_data(orders_vectorizer, values_vectorizer, important_keys_set, fit_dict=True)\n",
    "\n",
    "X_train, X_test, y_train, y_test = train_test_split(full_sparce_dummy, y, test_size=0.33, random_state=42)\n",
    "\n",
    "clf = OneVsRestClassifier(LogisticRegression(random_state=42, C=100))\n",
    "clf.fit(X_train, y_train)\n",
    "    \n",
    "pred = ThresholdPredictions(user_agent_list=list_ua, clf=clf)\n",
    "y_test_names, y_predicted, compare_answers, answers_count = pred.predict(X_test, y_test, 0.024072)\n",
    "\n",
    "compare_frame = pd.concat(\n",
    "    [\n",
    "        y_test_names,\n",
    "        y_predicted, \n",
    "        pd.DataFrame(compare_answers), \n",
    "        pd.DataFrame(answers_count)\n",
    "    ], keys=['test', 'predicted', 'correctness', 'count'], axis=1, join='inner')\n",
    "\n",
    "#print('Headers: ' + str(' '.join(important_keys)))\n",
    "print('sparse_dummy_values.shape: ' + str(full_sparce_dummy.shape))\n",
    "print(\"Answers Count (Average) = {0}\".format(np.average(answers_count)))\n",
    "smart_accuracy = numpy.sum(compare_answers) / y_test.shape[0]\n",
    "print(\"True Positive = {0}\".format(smart_accuracy))\n",
    "compare_frame"
   ]
  },
  {
   "cell_type": "code",
   "execution_count": 91,
   "metadata": {},
   "outputs": [
    {
     "data": {
      "text/plain": [
       "['Upgrade-Insecure-Requests',\n",
       " 'Accept',\n",
       " 'Save-Data',\n",
       " 'If-Modified-Since',\n",
       " 'Host',\n",
       " 'Connection',\n",
       " 'From',\n",
       " 'Accept-Encoding']"
      ]
     },
     "execution_count": 91,
     "metadata": {},
     "output_type": "execute_result"
    }
   ],
   "source": [
    "important_order_keys = []\n",
    "\n",
    "important_order_keys.append(real_keys[42])\n",
    "important_order_keys.append(real_keys[46])\n",
    "important_order_keys.append(real_keys[47])\n",
    "important_order_keys.append(real_keys[48])\n",
    "important_order_keys.append(real_keys[52])\n",
    "important_order_keys.append(real_keys[89])\n",
    "important_order_keys.append(real_keys[118])\n",
    "important_order_keys.append(real_keys[128])\n",
    "\n",
    "important_order_keys"
   ]
  },
  {
   "cell_type": "code",
   "execution_count": 92,
   "metadata": {},
   "outputs": [
    {
     "name": "stderr",
     "output_type": "stream",
     "text": [
      "100%|██████████| 181851/181851 [00:01<00:00, 97584.87it/s]\n",
      " 31%|███       | 56483/181851 [00:00<00:00, 564819.77it/s]"
     ]
    },
    {
     "name": "stdout",
     "output_type": "stream",
     "text": [
      "Sparse dummy orders shape: \n",
      "(181851, 1042)\n"
     ]
    },
    {
     "name": "stderr",
     "output_type": "stream",
     "text": [
      "100%|██████████| 181851/181851 [00:00<00:00, 526629.00it/s]\n"
     ]
    },
    {
     "name": "stdout",
     "output_type": "stream",
     "text": [
      "Sparse dummy values shape: \n",
      "(181851, 93)\n"
     ]
    },
    {
     "name": "stderr",
     "output_type": "stream",
     "text": [
      "60011it [00:01, 36309.84it/s]"
     ]
    },
    {
     "name": "stdout",
     "output_type": "stream",
     "text": [
      "sparse_dummy_values.shape: (181851, 1135)\n",
      "Answers Count (Average) = 4.587975537818067\n",
      "True Positive = 0.9598240322607522\n"
     ]
    },
    {
     "name": "stderr",
     "output_type": "stream",
     "text": [
      "\n"
     ]
    },
    {
     "data": {
      "text/html": [
       "<div>\n",
       "<style>\n",
       "    .dataframe thead tr:only-child th {\n",
       "        text-align: right;\n",
       "    }\n",
       "\n",
       "    .dataframe thead th {\n",
       "        text-align: left;\n",
       "    }\n",
       "\n",
       "    .dataframe tbody tr th {\n",
       "        vertical-align: top;\n",
       "    }\n",
       "</style>\n",
       "<table border=\"1\" class=\"dataframe\">\n",
       "  <thead>\n",
       "    <tr>\n",
       "      <th></th>\n",
       "      <th>test</th>\n",
       "      <th>predicted</th>\n",
       "      <th>correctness</th>\n",
       "      <th>count</th>\n",
       "    </tr>\n",
       "    <tr>\n",
       "      <th></th>\n",
       "      <th>0</th>\n",
       "      <th>1</th>\n",
       "      <th>0</th>\n",
       "      <th>0</th>\n",
       "    </tr>\n",
       "  </thead>\n",
       "  <tbody>\n",
       "    <tr>\n",
       "      <th>0</th>\n",
       "      <td>Mozilla/5.0 (Windows NT 6.3; Win64; x64) Apple...</td>\n",
       "      <td>[Mozilla/5.0 (Windows NT 6.3; Win64; x64) Appl...</td>\n",
       "      <td>True</td>\n",
       "      <td>1</td>\n",
       "    </tr>\n",
       "    <tr>\n",
       "      <th>1</th>\n",
       "      <td>netEstate NE Crawler (+http://www.website-date...</td>\n",
       "      <td>[Mozilla/5.0 (compatible; Yahoo! Slurp; http:/...</td>\n",
       "      <td>True</td>\n",
       "      <td>5</td>\n",
       "    </tr>\n",
       "    <tr>\n",
       "      <th>2</th>\n",
       "      <td>Mozilla/5.0 (iPhone; CPU iPhone OS 10_2_1 like...</td>\n",
       "      <td>[Mozilla/5.0 (compatible; Yahoo! Slurp; http:/...</td>\n",
       "      <td>True</td>\n",
       "      <td>14</td>\n",
       "    </tr>\n",
       "    <tr>\n",
       "      <th>3</th>\n",
       "      <td>Mozilla/5.0 (compatible; MJ12bot/v1.4.7; http:...</td>\n",
       "      <td>[Mozilla/5.0 (compatible; MJ12bot/v1.4.7; http...</td>\n",
       "      <td>True</td>\n",
       "      <td>1</td>\n",
       "    </tr>\n",
       "    <tr>\n",
       "      <th>4</th>\n",
       "      <td>Mozilla/5.0 (compatible; Yahoo! Slurp; http://...</td>\n",
       "      <td>[Mozilla/5.0 (compatible; Yahoo! Slurp; http:/...</td>\n",
       "      <td>True</td>\n",
       "      <td>14</td>\n",
       "    </tr>\n",
       "    <tr>\n",
       "      <th>...</th>\n",
       "      <td>...</td>\n",
       "      <td>...</td>\n",
       "      <td>...</td>\n",
       "      <td>...</td>\n",
       "    </tr>\n",
       "    <tr>\n",
       "      <th>60006</th>\n",
       "      <td>Mozilla/5.0 (Windows NT 6.1) AppleWebKit/537.3...</td>\n",
       "      <td>[Mozilla/5.0 (Windows NT 6.1) AppleWebKit/537....</td>\n",
       "      <td>True</td>\n",
       "      <td>1</td>\n",
       "    </tr>\n",
       "    <tr>\n",
       "      <th>60007</th>\n",
       "      <td>Mozilla/5.0 (iPad; CPU OS 9_3_5 like Mac OS X)...</td>\n",
       "      <td>[Mozilla/5.0 (iPad; CPU OS 9_3_5 like Mac OS X...</td>\n",
       "      <td>True</td>\n",
       "      <td>1</td>\n",
       "    </tr>\n",
       "    <tr>\n",
       "      <th>60008</th>\n",
       "      <td>Mozilla/5.0 (iPad; CPU OS 9_3_5 like Mac OS X)...</td>\n",
       "      <td>[Mozilla/5.0 (iPad; CPU OS 9_3_5 like Mac OS X...</td>\n",
       "      <td>True</td>\n",
       "      <td>1</td>\n",
       "    </tr>\n",
       "    <tr>\n",
       "      <th>60009</th>\n",
       "      <td>Mozilla/5.0 (iPad; CPU OS 10_2_1 like Mac OS X...</td>\n",
       "      <td>[Mozilla/5.0 (iPad; CPU OS 10_2_1 like Mac OS ...</td>\n",
       "      <td>True</td>\n",
       "      <td>2</td>\n",
       "    </tr>\n",
       "    <tr>\n",
       "      <th>60010</th>\n",
       "      <td>StackRambler/2.0 (MSIE incompatible; Top100)</td>\n",
       "      <td>[Mozilla/5.0 (Windows NT 6.1) AppleWebKit/537....</td>\n",
       "      <td>True</td>\n",
       "      <td>5</td>\n",
       "    </tr>\n",
       "  </tbody>\n",
       "</table>\n",
       "<p>60011 rows × 4 columns</p>\n",
       "</div>"
      ],
      "text/plain": [
       "                                                    test  \\\n",
       "                                                       0   \n",
       "0      Mozilla/5.0 (Windows NT 6.3; Win64; x64) Apple...   \n",
       "1      netEstate NE Crawler (+http://www.website-date...   \n",
       "2      Mozilla/5.0 (iPhone; CPU iPhone OS 10_2_1 like...   \n",
       "3      Mozilla/5.0 (compatible; MJ12bot/v1.4.7; http:...   \n",
       "4      Mozilla/5.0 (compatible; Yahoo! Slurp; http://...   \n",
       "...                                                  ...   \n",
       "60006  Mozilla/5.0 (Windows NT 6.1) AppleWebKit/537.3...   \n",
       "60007  Mozilla/5.0 (iPad; CPU OS 9_3_5 like Mac OS X)...   \n",
       "60008  Mozilla/5.0 (iPad; CPU OS 9_3_5 like Mac OS X)...   \n",
       "60009  Mozilla/5.0 (iPad; CPU OS 10_2_1 like Mac OS X...   \n",
       "60010       StackRambler/2.0 (MSIE incompatible; Top100)   \n",
       "\n",
       "                                               predicted correctness count  \n",
       "                                                       1           0     0  \n",
       "0      [Mozilla/5.0 (Windows NT 6.3; Win64; x64) Appl...        True     1  \n",
       "1      [Mozilla/5.0 (compatible; Yahoo! Slurp; http:/...        True     5  \n",
       "2      [Mozilla/5.0 (compatible; Yahoo! Slurp; http:/...        True    14  \n",
       "3      [Mozilla/5.0 (compatible; MJ12bot/v1.4.7; http...        True     1  \n",
       "4      [Mozilla/5.0 (compatible; Yahoo! Slurp; http:/...        True    14  \n",
       "...                                                  ...         ...   ...  \n",
       "60006  [Mozilla/5.0 (Windows NT 6.1) AppleWebKit/537....        True     1  \n",
       "60007  [Mozilla/5.0 (iPad; CPU OS 9_3_5 like Mac OS X...        True     1  \n",
       "60008  [Mozilla/5.0 (iPad; CPU OS 9_3_5 like Mac OS X...        True     1  \n",
       "60009  [Mozilla/5.0 (iPad; CPU OS 10_2_1 like Mac OS ...        True     2  \n",
       "60010  [Mozilla/5.0 (Windows NT 6.1) AppleWebKit/537....        True     5  \n",
       "\n",
       "[60011 rows x 4 columns]"
      ]
     },
     "execution_count": 92,
     "metadata": {},
     "output_type": "execute_result"
    }
   ],
   "source": [
    "order_keys = set(important_order_keys)\n",
    "\n",
    "order_data_top_100 = []\n",
    "\n",
    "for row_index in range(len(order_data)):\n",
    "    tmp_row = {}\n",
    "    for key in order_data[row_index].keys():\n",
    "        if key in real_keys:\n",
    "            tmp_row[key] = order_data[row_index][key]\n",
    "    if row_index in main_top_100.index:\n",
    "        order_data_top_100.append(tmp_row)\n",
    "\n",
    "l_parser.reassign_orders_values(order_data_top_100, values_data_top_100)\n",
    "\n",
    "full_sparce_dummy = l_parser.prepare_data(orders_vectorizer, values_vectorizer, important_keys_set, fit_dict=True)\n",
    "\n",
    "X_train, X_test, y_train, y_test = train_test_split(full_sparce_dummy, y, test_size=0.33, random_state=42)\n",
    "\n",
    "clf = OneVsRestClassifier(LogisticRegression(random_state=42, C=100))\n",
    "clf.fit(X_train, y_train)\n",
    "    \n",
    "pred = ThresholdPredictions(user_agent_list=list_ua, clf=clf)\n",
    "y_test_names, y_predicted, compare_answers, answers_count = pred.predict(X_test, y_test, 0.024072)\n",
    "\n",
    "compare_frame = pd.concat(\n",
    "    [\n",
    "        y_test_names,\n",
    "        y_predicted, \n",
    "        pd.DataFrame(compare_answers), \n",
    "        pd.DataFrame(answers_count)\n",
    "    ], keys=['test', 'predicted', 'correctness', 'count'], axis=1, join='inner')\n",
    "\n",
    "#print('Headers: ' + str(' '.join(important_keys)))\n",
    "print('sparse_dummy_values.shape: ' + str(full_sparce_dummy.shape))\n",
    "print(\"Answers Count (Average) = {0}\".format(np.average(answers_count)))\n",
    "smart_accuracy = numpy.sum(compare_answers) / y_test.shape[0]\n",
    "print(\"True Positive = {0}\".format(smart_accuracy))\n",
    "compare_frame"
   ]
  },
  {
   "cell_type": "code",
   "execution_count": 93,
   "metadata": {},
   "outputs": [
    {
     "name": "stderr",
     "output_type": "stream",
     "text": [
      "  0%|          | 0/8 [00:00<?, ?it/s]\n",
      "  0%|          | 0/181851 [00:00<?, ?it/s]\u001b[A\n",
      "100%|██████████| 181851/181851 [00:00<00:00, 897347.71it/s]\u001b[A\n",
      "  0%|          | 0/181851 [00:00<?, ?it/s]\u001b[A\n",
      " 33%|███▎      | 60584/181851 [00:00<00:00, 605833.36it/s]\u001b[A"
     ]
    },
    {
     "name": "stdout",
     "output_type": "stream",
     "text": [
      "Sparse dummy orders shape: \n",
      "(181851, 2)\n"
     ]
    },
    {
     "name": "stderr",
     "output_type": "stream",
     "text": [
      "\n",
      " 65%|██████▍   | 117902/181851 [00:00<00:00, 595650.34it/s]\u001b[A\n",
      " 98%|█████████▊| 178600/181851 [00:00<00:00, 599004.33it/s]\u001b[A\n",
      "100%|██████████| 181851/181851 [00:00<00:00, 593628.93it/s]\u001b[A"
     ]
    },
    {
     "name": "stdout",
     "output_type": "stream",
     "text": [
      "Sparse dummy values shape: \n",
      "(181851, 93)\n"
     ]
    },
    {
     "name": "stderr",
     "output_type": "stream",
     "text": [
      "\n",
      "0it [00:00, ?it/s]\u001b[A\n",
      "3604it [00:00, 36035.82it/s]\u001b[A\n",
      "7194it [00:00, 35994.85it/s]\u001b[A\n",
      "10892it [00:00, 36284.06it/s]\u001b[A\n",
      "14568it [00:00, 36424.31it/s]\u001b[A\n",
      "18223it [00:00, 36460.30it/s]\u001b[A\n",
      "21819it [00:00, 36306.90it/s]\u001b[A\n",
      "25121it [00:00, 35037.83it/s]\u001b[A\n",
      "28497it [00:00, 34642.46it/s]\u001b[A\n",
      "32108it [00:00, 35068.15it/s]\u001b[A\n",
      "35564it [00:01, 34911.91it/s]\u001b[A\n",
      "38998it [00:01, 34735.94it/s]\u001b[A\n",
      "42596it [00:01, 35099.43it/s]\u001b[A\n",
      "46217it [00:01, 35423.21it/s]\u001b[A\n",
      "49876it [00:01, 35762.47it/s]\u001b[A\n",
      "53472it [00:01, 35817.86it/s]\u001b[A\n",
      "57149it [00:01, 36098.07it/s]\u001b[A\n",
      " 25%|██▌       | 2/8 [01:03<03:11, 31.88s/it]\n",
      "  0%|          | 0/181851 [00:00<?, ?it/s]\u001b[A\n",
      "100%|██████████| 181851/181851 [00:00<00:00, 880758.22it/s]\u001b[A\n",
      "  0%|          | 0/181851 [00:00<?, ?it/s]\u001b[A\n",
      " 34%|███▍      | 62708/181851 [00:00<00:00, 627071.63it/s]"
     ]
    },
    {
     "name": "stdout",
     "output_type": "stream",
     "text": [
      "Sparse dummy orders shape: \n",
      "(181851, 6)\n"
     ]
    },
    {
     "name": "stderr",
     "output_type": "stream",
     "text": [
      "\u001b[A\n",
      " 68%|██████▊   | 124264/181851 [00:00<00:00, 623570.65it/s]\u001b[A\n",
      "100%|██████████| 181851/181851 [00:00<00:00, 614895.39it/s]\u001b[A"
     ]
    },
    {
     "name": "stdout",
     "output_type": "stream",
     "text": [
      "Sparse dummy values shape: \n",
      "(181851, 93)\n"
     ]
    },
    {
     "name": "stderr",
     "output_type": "stream",
     "text": [
      "\n",
      "0it [00:00, ?it/s]\u001b[A\n",
      "3595it [00:00, 35944.81it/s]\u001b[A\n",
      "7228it [00:00, 36058.82it/s]\u001b[A\n",
      "10845it [00:00, 36090.80it/s]\u001b[A\n",
      "14433it [00:00, 36025.19it/s]\u001b[A\n",
      "17993it [00:00, 35894.82it/s]\u001b[A\n",
      "21610it [00:00, 35975.20it/s]\u001b[A\n",
      "25225it [00:00, 36025.73it/s]\u001b[A\n",
      "28922it [00:00, 36302.62it/s]\u001b[A\n",
      "32692it [00:00, 36708.54it/s]\u001b[A\n",
      "36408it [00:01, 36842.49it/s]\u001b[A\n",
      "40086it [00:01, 36821.31it/s]\u001b[A\n",
      "43777it [00:01, 36846.96it/s]\u001b[A\n",
      "47452it [00:01, 36812.69it/s]\u001b[A\n",
      "51143it [00:01, 36838.47it/s]\u001b[A\n",
      "54804it [00:01, 36766.68it/s]\u001b[A\n",
      "58464it [00:01, 36632.42it/s]\u001b[A\n",
      " 38%|███▊      | 3/8 [02:07<03:27, 41.50s/it]\n",
      "  0%|          | 0/181851 [00:00<?, ?it/s]\u001b[A\n",
      "100%|██████████| 181851/181851 [00:00<00:00, 543620.66it/s]\u001b[A\n",
      "  0%|          | 0/181851 [00:00<?, ?it/s]\u001b[A\n",
      " 37%|███▋      | 66602/181851 [00:00<00:00, 666017.46it/s]"
     ]
    },
    {
     "name": "stdout",
     "output_type": "stream",
     "text": [
      "Sparse dummy orders shape: \n",
      "(181851, 12)\n"
     ]
    },
    {
     "name": "stderr",
     "output_type": "stream",
     "text": [
      "\u001b[A\n",
      " 73%|███████▎  | 132573/181851 [00:00<00:00, 664110.39it/s]\u001b[A\n",
      "100%|██████████| 181851/181851 [00:00<00:00, 663712.48it/s]\u001b[A"
     ]
    },
    {
     "name": "stdout",
     "output_type": "stream",
     "text": [
      "Sparse dummy values shape: \n",
      "(181851, 93)\n"
     ]
    },
    {
     "name": "stderr",
     "output_type": "stream",
     "text": [
      "\n",
      "0it [00:00, ?it/s]\u001b[A\n",
      "3723it [00:00, 37228.08it/s]\u001b[A\n",
      "7492it [00:00, 37365.21it/s]\u001b[A\n",
      "11257it [00:00, 37447.54it/s]\u001b[A\n",
      "15043it [00:00, 37569.46it/s]\u001b[A\n",
      "18821it [00:00, 37631.93it/s]\u001b[A\n",
      "22594it [00:00, 37660.50it/s]\u001b[A\n",
      "26434it [00:00, 37876.63it/s]\u001b[A\n",
      "30225it [00:00, 37884.51it/s]\u001b[A\n",
      "33890it [00:00, 37504.12it/s]\u001b[A\n",
      "37653it [00:01, 37541.46it/s]\u001b[A\n",
      "41428it [00:01, 37603.44it/s]\u001b[A\n",
      "45160it [00:01, 37517.70it/s]\u001b[A\n",
      "48913it [00:01, 37516.92it/s]\u001b[A\n",
      "52713it [00:01, 37660.37it/s]\u001b[A\n",
      "56455it [00:01, 37470.79it/s]\u001b[A\n",
      " 50%|█████     | 4/8 [03:18<03:21, 50.37s/it]\n",
      "  0%|          | 0/181851 [00:00<?, ?it/s]\u001b[A\n",
      "100%|██████████| 181851/181851 [00:00<00:00, 482790.73it/s]\u001b[A\n",
      "  0%|          | 0/181851 [00:00<?, ?it/s]\u001b[A\n",
      " 36%|███▋      | 66258/181851 [00:00<00:00, 662571.15it/s]"
     ]
    },
    {
     "name": "stdout",
     "output_type": "stream",
     "text": [
      "Sparse dummy orders shape: \n",
      "(181851, 18)\n"
     ]
    },
    {
     "name": "stderr",
     "output_type": "stream",
     "text": [
      "\u001b[A\n",
      " 73%|███████▎  | 131878/181851 [00:00<00:00, 660645.14it/s]\u001b[A\n",
      "100%|██████████| 181851/181851 [00:00<00:00, 659423.81it/s]\u001b[A"
     ]
    },
    {
     "name": "stdout",
     "output_type": "stream",
     "text": [
      "Sparse dummy values shape: \n",
      "(181851, 93)\n"
     ]
    },
    {
     "name": "stderr",
     "output_type": "stream",
     "text": [
      "\n",
      "0it [00:00, ?it/s]\u001b[A\n",
      "3711it [00:00, 37109.15it/s]\u001b[A\n",
      "7509it [00:00, 37364.64it/s]\u001b[A\n",
      "11336it [00:00, 37630.96it/s]\u001b[A\n",
      "15127it [00:00, 37713.18it/s]\u001b[A\n",
      "18889it [00:00, 37683.49it/s]\u001b[A\n",
      "22658it [00:00, 37684.75it/s]\u001b[A\n",
      "26429it [00:00, 37692.04it/s]\u001b[A\n",
      "30010it [00:00, 37104.95it/s]\u001b[A\n",
      "33671it [00:00, 36952.36it/s]\u001b[A\n",
      "37431it [00:01, 37142.76it/s]\u001b[A\n",
      "41088it [00:01, 36968.10it/s]\u001b[A\n",
      "44833it [00:01, 37110.17it/s]\u001b[A\n",
      "48598it [00:01, 37267.99it/s]\u001b[A\n",
      "52365it [00:01, 37387.67it/s]\u001b[A\n",
      "56174it [00:01, 37594.88it/s]\u001b[A\n",
      "59927it [00:01, 37572.74it/s]\u001b[A\n",
      " 62%|██████▎   | 5/8 [04:35<02:54, 58.33s/it]\n",
      "  0%|          | 0/181851 [00:00<?, ?it/s]\u001b[A\n",
      "100%|██████████| 181851/181851 [00:00<00:00, 420022.61it/s]\u001b[A\n",
      "  0%|          | 0/181851 [00:00<?, ?it/s]\u001b[A\n",
      " 37%|███▋      | 67816/181851 [00:00<00:00, 678155.80it/s]"
     ]
    },
    {
     "name": "stdout",
     "output_type": "stream",
     "text": [
      "Sparse dummy orders shape: \n",
      "(181851, 27)\n"
     ]
    },
    {
     "name": "stderr",
     "output_type": "stream",
     "text": [
      "\u001b[A\n",
      " 73%|███████▎  | 133319/181851 [00:00<00:00, 671048.10it/s]\u001b[A\n",
      "100%|██████████| 181851/181851 [00:00<00:00, 669777.31it/s]\u001b[A"
     ]
    },
    {
     "name": "stdout",
     "output_type": "stream",
     "text": [
      "Sparse dummy values shape: \n",
      "(181851, 93)\n"
     ]
    },
    {
     "name": "stderr",
     "output_type": "stream",
     "text": [
      "\n",
      "0it [00:00, ?it/s]\u001b[A\n",
      "3724it [00:00, 37234.09it/s]\u001b[A\n",
      "7482it [00:00, 37335.21it/s]\u001b[A\n",
      "11249it [00:00, 37432.48it/s]\u001b[A\n",
      "14974it [00:00, 37376.51it/s]\u001b[A\n",
      "18725it [00:00, 37416.31it/s]\u001b[A\n",
      "22247it [00:00, 36724.32it/s]\u001b[A\n",
      "25852it [00:00, 36516.96it/s]\u001b[A\n",
      "29576it [00:00, 36730.07it/s]\u001b[A\n",
      "33230it [00:00, 36671.95it/s]\u001b[A\n",
      "37025it [00:01, 37042.73it/s]\u001b[A\n",
      "40806it [00:01, 37267.61it/s]\u001b[A\n",
      "44590it [00:01, 37436.53it/s]\u001b[A\n",
      "48284it [00:01, 37073.27it/s]\u001b[A\n",
      "52026it [00:01, 37175.80it/s]\u001b[A\n",
      "55795it [00:01, 37327.77it/s]\u001b[A\n",
      "59530it [00:01, 37331.75it/s]\u001b[A\n",
      " 75%|███████▌  | 6/8 [05:58<02:11, 65.63s/it]\n",
      "  0%|          | 0/181851 [00:00<?, ?it/s]\u001b[A\n",
      "100%|██████████| 181851/181851 [00:00<00:00, 367222.49it/s]\u001b[A\n",
      "  0%|          | 0/181851 [00:00<?, ?it/s]\u001b[A\n",
      " 36%|███▌      | 64680/181851 [00:00<00:00, 646794.45it/s]"
     ]
    },
    {
     "name": "stdout",
     "output_type": "stream",
     "text": [
      "Sparse dummy orders shape: \n",
      "(181851, 38)\n"
     ]
    },
    {
     "name": "stderr",
     "output_type": "stream",
     "text": [
      "\u001b[A\n",
      " 72%|███████▏  | 130432/181851 [00:00<00:00, 649974.00it/s]\u001b[A\n",
      "100%|██████████| 181851/181851 [00:00<00:00, 657512.11it/s]\u001b[A"
     ]
    },
    {
     "name": "stdout",
     "output_type": "stream",
     "text": [
      "Sparse dummy values shape: \n",
      "(181851, 93)\n"
     ]
    },
    {
     "name": "stderr",
     "output_type": "stream",
     "text": [
      "\n",
      "0it [00:00, ?it/s]\u001b[A\n",
      "3713it [00:00, 37127.56it/s]\u001b[A\n",
      "7459it [00:00, 37224.19it/s]\u001b[A\n",
      "11215it [00:00, 37322.75it/s]\u001b[A\n",
      "14931it [00:00, 37271.70it/s]\u001b[A\n",
      "18670it [00:00, 37306.59it/s]\u001b[A\n",
      "22365it [00:00, 37197.64it/s]\u001b[A\n",
      "26067it [00:00, 37142.77it/s]\u001b[A\n",
      "29776it [00:00, 37125.42it/s]\u001b[A\n",
      "33520it [00:00, 37218.43it/s]\u001b[A\n",
      "37219it [00:01, 37148.87it/s]\u001b[A\n",
      "40935it [00:01, 37149.21it/s]\u001b[A\n",
      "44687it [00:01, 37257.20it/s]\u001b[A\n",
      "48405it [00:01, 37233.91it/s]\u001b[A\n",
      "52155it [00:01, 37311.68it/s]\u001b[A\n",
      "55864it [00:01, 37244.29it/s]\u001b[A\n",
      "59608it [00:01, 37302.75it/s]\u001b[A\n",
      " 88%|████████▊ | 7/8 [07:35<01:14, 74.95s/it]\n",
      "  0%|          | 0/181851 [00:00<?, ?it/s]\u001b[A\n",
      "100%|██████████| 181851/181851 [00:00<00:00, 311431.36it/s]\u001b[A\n",
      "  0%|          | 0/181851 [00:00<?, ?it/s]\u001b[A\n",
      " 36%|███▋      | 66102/181851 [00:00<00:00, 661011.17it/s]"
     ]
    },
    {
     "name": "stdout",
     "output_type": "stream",
     "text": [
      "Sparse dummy orders shape: \n",
      "(181851, 51)\n"
     ]
    },
    {
     "name": "stderr",
     "output_type": "stream",
     "text": [
      "\u001b[A\n",
      " 73%|███████▎  | 132061/181851 [00:00<00:00, 660564.02it/s]\u001b[A\n",
      "100%|██████████| 181851/181851 [00:00<00:00, 658956.66it/s]\u001b[A"
     ]
    },
    {
     "name": "stdout",
     "output_type": "stream",
     "text": [
      "Sparse dummy values shape: \n",
      "(181851, 93)\n"
     ]
    },
    {
     "name": "stderr",
     "output_type": "stream",
     "text": [
      "\n",
      "0it [00:00, ?it/s]\u001b[A\n",
      "3663it [00:00, 36622.00it/s]\u001b[A\n",
      "7372it [00:00, 36759.26it/s]\u001b[A\n",
      "11091it [00:00, 36887.18it/s]\u001b[A\n",
      "14824it [00:00, 37017.62it/s]\u001b[A\n",
      "18545it [00:00, 37072.25it/s]\u001b[A\n",
      "22280it [00:00, 37155.10it/s]\u001b[A\n",
      "26018it [00:00, 37221.61it/s]\u001b[A\n",
      "29830it [00:00, 37485.21it/s]\u001b[A\n",
      "33532it [00:00, 37342.17it/s]\u001b[A\n",
      "37261it [00:01, 37324.91it/s]\u001b[A\n",
      "40936it [00:01, 37149.63it/s]\u001b[A\n",
      "44691it [00:01, 37268.22it/s]\u001b[A\n",
      "48393it [00:01, 37191.25it/s]\u001b[A\n",
      "52190it [00:01, 37420.16it/s]\u001b[A\n",
      "55908it [00:01, 37167.68it/s]\u001b[A\n",
      "59637it [00:01, 37202.89it/s]\u001b[A\n",
      "100%|██████████| 8/8 [09:20<00:00, 83.98s/it]"
     ]
    },
    {
     "name": "stdout",
     "output_type": "stream",
     "text": [
      "CPU times: user 9min 18s, sys: 896 ms, total: 9min 19s\n",
      "Wall time: 9min 20s\n"
     ]
    },
    {
     "name": "stderr",
     "output_type": "stream",
     "text": [
      "\n"
     ]
    }
   ],
   "source": [
    "%%time\n",
    "\n",
    "real_keys = []\n",
    "o_shapes = []\n",
    "o_averages = []\n",
    "o_tp = []\n",
    "\n",
    "for key in tqdm(order_keys):\n",
    "    real_keys.append(key)\n",
    "    if len(real_keys) < 2:\n",
    "        continue\n",
    "\n",
    "    order_data_top_100 = []\n",
    "\n",
    "    for row_index in range(len(order_data)):\n",
    "        tmp_row = {}\n",
    "        for key in order_data[row_index].keys():\n",
    "            if key in real_keys:\n",
    "                tmp_row[key] = order_data[row_index][key]\n",
    "        if row_index in main_top_100.index:\n",
    "            order_data_top_100.append(tmp_row)\n",
    "\n",
    "    l_parser.reassign_orders_values(order_data_top_100, values_data_top_100)\n",
    "\n",
    "    full_sparce_dummy = l_parser.prepare_data(orders_vectorizer, values_vectorizer, important_keys_set, fit_dict=True)\n",
    "\n",
    "    X_train, X_test, y_train, y_test = train_test_split(full_sparce_dummy, y, test_size=0.33, random_state=42)\n",
    "\n",
    "    clf = OneVsRestClassifier(LogisticRegression(random_state=42, C=100))\n",
    "    clf.fit(X_train, y_train)\n",
    "    \n",
    "    pred = ThresholdPredictions(user_agent_list=list_ua, clf=clf)\n",
    "    y_test_names, y_predicted, compare_answers, answers_count = pred.predict(X_test, y_test, 0.024072)\n",
    "    \n",
    "    o_shapes.append(full_sparce_dummy.shape[1])\n",
    "    o_averages.append(np.average(answers_count))\n",
    "    o_tp.append(np.sum(compare_answers) / y_test.shape[0])"
   ]
  },
  {
   "cell_type": "code",
   "execution_count": 94,
   "metadata": {},
   "outputs": [
    {
     "data": {
      "image/png": "[encoded data removed]",
      "text/plain": [
       "<matplotlib.figure.Figure at 0x7f7f3b6df8d0>"
      ]
     },
     "metadata": {},
     "output_type": "display_data"
    }
   ],
   "source": [
    "plot(range(1, len(order_keys)), o_tp, '-g', label='True Positive');"
   ]
  },
  {
   "cell_type": "code",
   "execution_count": 95,
   "metadata": {},
   "outputs": [
    {
     "data": {
      "image/png": "[encoded data removed]",
      "text/plain": [
       "<matplotlib.figure.Figure at 0x7f7f291c7a20>"
      ]
     },
     "metadata": {},
     "output_type": "display_data"
    }
   ],
   "source": [
    "plot(range(1, len(order_keys)), np.array(o_averages), '-r', label='Answers Count (Average)');"
   ]
  },
  {
   "cell_type": "code",
   "execution_count": 145,
   "metadata": {},
   "outputs": [],
   "source": [
    "\"\"\"\n",
    "important_order_keys = [\n",
    "    'Upgrade-Insecure-Requests',\n",
    "    'Accept',\n",
    "    'If-Modified-Since',\n",
    "    'Host',\n",
    "    'Connection',\n",
    "    'From',\n",
    "    'Accept-Encoding']\n",
    "\"\"\"\n",
    "important_order_keys = [\n",
    "    'X-Ucbrowser-Ua',\n",
    "    'Upgrade-Insecure-Requests',\n",
    "    'X-Original-Url',\n",
    "    'Drm-Version',\n",
    "    'Useragent',\n",
    "    'Accept',\n",
    "    'Save-Data',\n",
    "    'If-Modified-Since',\n",
    "    'X-Liveinternetapplications',\n",
    "    'Wap-Connection',\n",
    "    'O2gw-Id',\n",
    "    'Host',\n",
    "    'X-Pocket-Parser',\n",
    "    'Connection',\n",
    "    'Giga-Transport',\n",
    "    'User-Agent',\n",
    "    'From',\n",
    "    'X-Requestfrom',\n",
    "    'Accept-Encoding'\n",
    "]"
   ]
  },
  {
   "cell_type": "code",
   "execution_count": null,
   "metadata": {
    "scrolled": true
   },
   "outputs": [
    {
     "name": "stderr",
     "output_type": "stream",
     "text": [
      "  0%|          | 0/19 [00:00<?, ?it/s]\n",
      "  0%|          | 0/181851 [00:00<?, ?it/s]\u001b[A\n",
      "100%|██████████| 181851/181851 [00:00<00:00, 995385.95it/s]\u001b[A\n",
      "  0%|          | 0/181851 [00:00<?, ?it/s]\u001b[A\n",
      " 33%|███▎      | 60451/181851 [00:00<00:00, 604507.69it/s]"
     ]
    },
    {
     "name": "stdout",
     "output_type": "stream",
     "text": [
      "Sparse dummy orders shape: \n",
      "(181851, 0)\n"
     ]
    },
    {
     "name": "stderr",
     "output_type": "stream",
     "text": [
      "\u001b[A\n",
      " 67%|██████▋   | 122430/181851 [00:00<00:00, 609011.12it/s]\u001b[A\n",
      "100%|██████████| 181851/181851 [00:00<00:00, 619408.49it/s]\u001b[A"
     ]
    },
    {
     "name": "stdout",
     "output_type": "stream",
     "text": [
      "Sparse dummy values shape: \n",
      "(181851, 93)\n"
     ]
    },
    {
     "name": "stderr",
     "output_type": "stream",
     "text": [
      "\n",
      "0it [00:00, ?it/s]\u001b[A\n",
      "3836it [00:00, 38359.58it/s]\u001b[A\n",
      "7718it [00:00, 38494.93it/s]\u001b[A\n",
      "11563it [00:00, 38480.73it/s]\u001b[A\n",
      "15441it [00:00, 38569.32it/s]\u001b[A\n",
      "19335it [00:00, 38679.30it/s]\u001b[A\n",
      "23199it [00:00, 38666.68it/s]\u001b[A\n",
      "27039it [00:00, 38586.19it/s]\u001b[A\n",
      "30891it [00:00, 38565.80it/s]\u001b[A\n",
      "34755it [00:00, 38587.43it/s]\u001b[A\n",
      "38586it [00:01, 38503.52it/s]\u001b[A\n",
      "42395it [00:01, 38377.54it/s]\u001b[A\n",
      "46215it [00:01, 38323.81it/s]\u001b[A\n",
      "50056it [00:01, 38349.45it/s]\u001b[A\n",
      "53861it [00:01, 38258.06it/s]\u001b[A\n",
      "57713it [00:01, 38333.57it/s]\u001b[A\n",
      "  5%|▌         | 1/19 [00:58<17:24, 58.01s/it]\n",
      "  0%|          | 0/181851 [00:00<?, ?it/s]\u001b[A\n",
      "100%|██████████| 181851/181851 [00:00<00:00, 1022607.48it/s]\u001b[A\n",
      "  0%|          | 0/181851 [00:00<?, ?it/s]\u001b[A\n",
      " 36%|███▋      | 66132/181851 [00:00<00:00, 661309.59it/s]\u001b[A"
     ]
    },
    {
     "name": "stdout",
     "output_type": "stream",
     "text": [
      "Sparse dummy orders shape: \n",
      "(181851, 0)\n"
     ]
    },
    {
     "name": "stderr",
     "output_type": "stream",
     "text": [
      "\n",
      " 73%|███████▎  | 131854/181851 [00:00<00:00, 660074.25it/s]\u001b[A\n",
      "100%|██████████| 181851/181851 [00:00<00:00, 663997.90it/s]\u001b[A"
     ]
    },
    {
     "name": "stdout",
     "output_type": "stream",
     "text": [
      "Sparse dummy values shape: \n",
      "(181851, 93)\n"
     ]
    },
    {
     "name": "stderr",
     "output_type": "stream",
     "text": [
      "\n",
      "0it [00:00, ?it/s]\u001b[A\n",
      "3862it [00:00, 38613.78it/s]\u001b[A\n",
      "7743it [00:00, 38671.62it/s]\u001b[A\n",
      "11631it [00:00, 38731.76it/s]\u001b[A\n",
      "15514it [00:00, 38759.64it/s]\u001b[A\n",
      "19406it [00:00, 38806.57it/s]\u001b[A\n",
      "23288it [00:00, 38808.33it/s]\u001b[A\n",
      "27148it [00:00, 38745.08it/s]\u001b[A\n",
      "30879it [00:00, 38300.15it/s]\u001b[A\n",
      "34731it [00:00, 38365.58it/s]\u001b[A\n",
      "38591it [00:01, 38433.92it/s]\u001b[A\n",
      "42439it [00:01, 38446.10it/s]\u001b[A\n",
      "46315it [00:01, 38537.96it/s]\u001b[A\n",
      "50178it [00:01, 38564.66it/s]\u001b[A\n",
      "54019it [00:01, 38516.32it/s]\u001b[A\n",
      "57845it [00:01, 38163.57it/s]\u001b[A\n",
      " 11%|█         | 2/19 [01:52<16:08, 56.96s/it]\n",
      "  0%|          | 0/181851 [00:00<?, ?it/s]\u001b[A\n",
      "100%|██████████| 181851/181851 [00:00<00:00, 989030.54it/s]\u001b[A\n",
      "  0%|          | 0/181851 [00:00<?, ?it/s]\u001b[A\n",
      " 37%|███▋      | 68067/181851 [00:00<00:00, 680662.54it/s]"
     ]
    },
    {
     "name": "stdout",
     "output_type": "stream",
     "text": [
      "Sparse dummy orders shape: \n",
      "(181851, 0)\n"
     ]
    },
    {
     "name": "stderr",
     "output_type": "stream",
     "text": [
      "\u001b[A\n",
      " 74%|███████▍  | 135207/181851 [00:00<00:00, 677856.76it/s]\u001b[A\n",
      "100%|██████████| 181851/181851 [00:00<00:00, 679283.02it/s]\u001b[A"
     ]
    },
    {
     "name": "stdout",
     "output_type": "stream",
     "text": [
      "Sparse dummy values shape: \n",
      "(181851, 93)\n"
     ]
    },
    {
     "name": "stderr",
     "output_type": "stream",
     "text": [
      "\n",
      "0it [00:00, ?it/s]\u001b[A\n",
      "3649it [00:00, 36488.64it/s]\u001b[A\n",
      "7334it [00:00, 36593.32it/s]\u001b[A\n",
      "11099it [00:00, 36902.19it/s]\u001b[A\n",
      "14818it [00:00, 36985.87it/s]\u001b[A\n",
      "18548it [00:00, 37077.11it/s]\u001b[A\n",
      "22252it [00:00, 37064.49it/s]\u001b[A\n",
      "25982it [00:00, 37133.23it/s]\u001b[A\n",
      "29741it [00:00, 37268.52it/s]\u001b[A\n",
      "33385it [00:00, 37014.03it/s]\u001b[A\n",
      "37128it [00:01, 37137.62it/s]\u001b[A\n",
      "40891it [00:01, 37282.03it/s]\u001b[A\n",
      "44650it [00:01, 37373.00it/s]\u001b[A\n",
      "48452it [00:01, 37564.33it/s]\u001b[A\n",
      "52208it [00:01, 37561.89it/s]\u001b[A\n",
      "55940it [00:01, 37318.69it/s]\u001b[A\n",
      "59721it [00:01, 37463.66it/s]\u001b[A\n",
      " 16%|█▌        | 3/19 [02:49<15:12, 57.00s/it]\n",
      "  0%|          | 0/181851 [00:00<?, ?it/s]\u001b[A\n",
      "100%|██████████| 181851/181851 [00:00<00:00, 952033.00it/s]\u001b[A\n",
      "  0%|          | 0/181851 [00:00<?, ?it/s]\u001b[A\n",
      " 35%|███▌      | 63912/181851 [00:00<00:00, 639112.99it/s]"
     ]
    },
    {
     "name": "stdout",
     "output_type": "stream",
     "text": [
      "Sparse dummy orders shape: \n",
      "(181851, 2)\n"
     ]
    },
    {
     "name": "stderr",
     "output_type": "stream",
     "text": [
      "\u001b[A\n",
      " 71%|███████   | 128975/181851 [00:00<00:00, 642524.78it/s]\u001b[A\n",
      "100%|██████████| 181851/181851 [00:00<00:00, 644812.49it/s]\u001b[A"
     ]
    },
    {
     "name": "stdout",
     "output_type": "stream",
     "text": [
      "Sparse dummy values shape: \n",
      "(181851, 93)\n"
     ]
    },
    {
     "name": "stderr",
     "output_type": "stream",
     "text": [
      "\n",
      "0it [00:00, ?it/s]\u001b[A\n",
      "3762it [00:00, 37617.52it/s]\u001b[A\n",
      "7597it [00:00, 37831.68it/s]\u001b[A\n",
      "11368it [00:00, 37792.31it/s]\u001b[A\n",
      "15138it [00:00, 37762.31it/s]\u001b[A\n",
      "18887it [00:00, 37678.97it/s]\u001b[A\n",
      "22609it [00:00, 37537.40it/s]\u001b[A\n",
      "26253it [00:00, 37199.84it/s]\u001b[A\n",
      "30005it [00:00, 37294.53it/s]\u001b[A\n",
      "33611it [00:00, 36913.21it/s]\u001b[A\n",
      "37317it [00:01, 36955.02it/s]\u001b[A\n",
      "40953it [00:01, 36774.01it/s]\u001b[A\n",
      "44697it [00:01, 36969.65it/s]\u001b[A\n",
      "48464it [00:01, 37174.63it/s]\u001b[A\n",
      "52240it [00:01, 37346.54it/s]\u001b[A\n",
      "56019it [00:01, 37476.36it/s]\u001b[A\n",
      "59750it [00:01, 37409.75it/s]\u001b[A\n",
      " 21%|██        | 4/19 [03:49<14:29, 57.94s/it]\n",
      "  0%|          | 0/181851 [00:00<?, ?it/s]\u001b[A\n",
      "100%|██████████| 181851/181851 [00:00<00:00, 957255.58it/s]\u001b[A\n",
      "  0%|          | 0/181851 [00:00<?, ?it/s]\u001b[A\n",
      " 35%|███▌      | 64015/181851 [00:00<00:00, 640144.51it/s]"
     ]
    },
    {
     "name": "stdout",
     "output_type": "stream",
     "text": [
      "Sparse dummy orders shape: \n",
      "(181851, 2)\n"
     ]
    },
    {
     "name": "stderr",
     "output_type": "stream",
     "text": [
      "\u001b[A\n",
      " 70%|███████   | 128015/181851 [00:00<00:00, 640099.50it/s]\u001b[A\n",
      "100%|██████████| 181851/181851 [00:00<00:00, 639872.06it/s]\u001b[A"
     ]
    },
    {
     "name": "stdout",
     "output_type": "stream",
     "text": [
      "Sparse dummy values shape: \n",
      "(181851, 93)\n"
     ]
    },
    {
     "name": "stderr",
     "output_type": "stream",
     "text": [
      "\n",
      "0it [00:00, ?it/s]\u001b[A\n",
      "3758it [00:00, 37566.42it/s]\u001b[A\n",
      "7559it [00:00, 37696.30it/s]\u001b[A\n",
      "11302it [00:00, 37615.97it/s]\u001b[A\n",
      "15098it [00:00, 37716.55it/s]\u001b[A\n",
      "18874it [00:00, 37726.81it/s]\u001b[A\n",
      "22658it [00:00, 37759.76it/s]\u001b[A\n",
      "26408it [00:00, 37680.09it/s]\u001b[A\n",
      "30180it [00:00, 37691.01it/s]\u001b[A\n",
      "33948it [00:00, 37687.13it/s]\u001b[A\n",
      "37737it [00:01, 37747.07it/s]\u001b[A\n",
      "41548it [00:01, 37853.43it/s]\u001b[A\n",
      "45260it [00:01, 37615.44it/s]\u001b[A\n",
      "49021it [00:01, 37612.90it/s]\u001b[A\n",
      "52867it [00:01, 37860.22it/s]\u001b[A\n",
      "56653it [00:01, 37858.70it/s]\u001b[A\n",
      " 26%|██▋       | 5/19 [04:49<13:40, 58.58s/it]\n",
      "  0%|          | 0/181851 [00:00<?, ?it/s]\u001b[A\n",
      "100%|██████████| 181851/181851 [00:00<00:00, 913589.33it/s]\u001b[A\n",
      "  0%|          | 0/181851 [00:00<?, ?it/s]\u001b[A\n",
      " 35%|███▍      | 63466/181851 [00:00<00:00, 634654.55it/s]\u001b[A"
     ]
    },
    {
     "name": "stdout",
     "output_type": "stream",
     "text": [
      "Sparse dummy orders shape: \n",
      "(181851, 2)\n"
     ]
    },
    {
     "name": "stderr",
     "output_type": "stream",
     "text": [
      "\n",
      " 70%|███████   | 127339/181851 [00:00<00:00, 635869.63it/s]\u001b[A\n",
      "100%|██████████| 181851/181851 [00:00<00:00, 640442.65it/s]\u001b[A"
     ]
    },
    {
     "name": "stdout",
     "output_type": "stream",
     "text": [
      "Sparse dummy values shape: \n",
      "(181851, 93)\n"
     ]
    },
    {
     "name": "stderr",
     "output_type": "stream",
     "text": [
      "\n",
      "0it [00:00, ?it/s]\u001b[A\n",
      "3736it [00:00, 37357.19it/s]\u001b[A\n",
      "7499it [00:00, 37438.49it/s]\u001b[A\n",
      "11302it [00:00, 37613.43it/s]\u001b[A\n",
      "15079it [00:00, 37659.09it/s]\u001b[A\n",
      "18854it [00:00, 37683.53it/s]\u001b[A\n",
      "22292it [00:00, 36626.57it/s]\u001b[A\n",
      "25982it [00:00, 36705.83it/s]\u001b[A\n",
      "29761it [00:00, 37023.23it/s]\u001b[A\n",
      "33319it [00:00, 36576.46it/s]\u001b[A\n",
      "37078it [00:01, 36873.74it/s]\u001b[A\n",
      "40752it [00:01, 36833.13it/s]\u001b[A\n",
      "44396it [00:01, 36713.94it/s]\u001b[A\n",
      "48107it [00:01, 36829.71it/s]\u001b[A\n",
      "51756it [00:01, 36576.14it/s]\u001b[A\n",
      "55402it [00:01, 36540.86it/s]\u001b[A\n",
      "59205it [00:01, 36974.22it/s]\u001b[A\n",
      " 32%|███▏      | 6/19 [05:50<12:48, 59.10s/it]\n",
      "  0%|          | 0/181851 [00:00<?, ?it/s]\u001b[A\n",
      "100%|██████████| 181851/181851 [00:00<00:00, 929495.43it/s]\u001b[A\n",
      "  0%|          | 0/181851 [00:00<?, ?it/s]\u001b[A\n",
      " 35%|███▌      | 64073/181851 [00:00<00:00, 640726.03it/s]"
     ]
    },
    {
     "name": "stdout",
     "output_type": "stream",
     "text": [
      "Sparse dummy orders shape: \n",
      "(181851, 6)\n"
     ]
    },
    {
     "name": "stderr",
     "output_type": "stream",
     "text": [
      "\u001b[A\n",
      " 70%|███████   | 128107/181851 [00:00<00:00, 640608.98it/s]\u001b[A\n",
      "100%|██████████| 181851/181851 [00:00<00:00, 642295.18it/s]\u001b[A"
     ]
    },
    {
     "name": "stdout",
     "output_type": "stream",
     "text": [
      "Sparse dummy values shape: \n",
      "(181851, 93)\n"
     ]
    },
    {
     "name": "stderr",
     "output_type": "stream",
     "text": [
      "\n",
      "0it [00:00, ?it/s]\u001b[A\n",
      "3741it [00:00, 37402.19it/s]\u001b[A\n",
      "7511it [00:00, 37490.94it/s]\u001b[A\n",
      "11256it [00:00, 37476.17it/s]\u001b[A\n",
      "15041it [00:00, 37586.67it/s]\u001b[A\n",
      "18799it [00:00, 37582.61it/s]\u001b[A\n",
      "22559it [00:00, 37585.55it/s]\u001b[A\n",
      "26308it [00:00, 37556.28it/s]\u001b[A\n",
      "30064it [00:00, 37555.07it/s]\u001b[A\n",
      "33917it [00:00, 37841.04it/s]\u001b[A\n",
      "37695it [00:01, 37821.61it/s]\u001b[A\n",
      "41504it [00:01, 37901.44it/s]\u001b[A\n",
      "45275it [00:01, 37842.57it/s]\u001b[A\n",
      "49054it [00:01, 37825.14it/s]\u001b[A\n",
      "52808it [00:01, 37737.50it/s]\u001b[A\n",
      "56583it [00:01, 37739.64it/s]\u001b[A\n",
      " 37%|███▋      | 7/19 [06:52<11:59, 59.93s/it]\n",
      "  0%|          | 0/181851 [00:00<?, ?it/s]\u001b[A\n",
      "100%|██████████| 181851/181851 [00:00<00:00, 929858.04it/s]\u001b[A\n",
      "  0%|          | 0/181851 [00:00<?, ?it/s]\u001b[A\n",
      " 36%|███▌      | 64589/181851 [00:00<00:00, 645887.54it/s]"
     ]
    },
    {
     "name": "stdout",
     "output_type": "stream",
     "text": [
      "Sparse dummy orders shape: \n",
      "(181851, 7)\n"
     ]
    },
    {
     "name": "stderr",
     "output_type": "stream",
     "text": [
      "\u001b[A\n",
      " 71%|███████   | 128494/181851 [00:00<00:00, 643818.36it/s]\u001b[A\n",
      "100%|██████████| 181851/181851 [00:00<00:00, 638098.58it/s]\u001b[A"
     ]
    },
    {
     "name": "stdout",
     "output_type": "stream",
     "text": [
      "Sparse dummy values shape: \n",
      "(181851, 93)\n"
     ]
    },
    {
     "name": "stderr",
     "output_type": "stream",
     "text": [
      "\n",
      "0it [00:00, ?it/s]\u001b[A\n",
      "3737it [00:00, 37365.49it/s]\u001b[A\n",
      "7514it [00:00, 37484.48it/s]\u001b[A\n",
      "11297it [00:00, 37586.07it/s]\u001b[A\n",
      "15040it [00:00, 37537.80it/s]\u001b[A\n",
      "18836it [00:00, 37661.85it/s]\u001b[A\n",
      "22559it [00:00, 37527.44it/s]\u001b[A\n",
      "26326it [00:00, 37568.10it/s]\u001b[A\n",
      "30086it [00:00, 37576.44it/s]\u001b[A\n",
      "33770it [00:00, 37351.63it/s]\u001b[A\n",
      "37531it [00:01, 37427.90it/s]\u001b[A\n",
      "41297it [00:01, 37495.00it/s]\u001b[A\n",
      "45072it [00:01, 37570.91it/s]\u001b[A\n",
      "48842it [00:01, 37609.47it/s]\u001b[A\n",
      "52619it [00:01, 37657.17it/s]\u001b[A\n",
      "56380it [00:01, 37642.64it/s]\u001b[A\n",
      " 42%|████▏     | 8/19 [07:53<11:04, 60.44s/it]\n",
      "  0%|          | 0/181851 [00:00<?, ?it/s]\u001b[A\n",
      "100%|██████████| 181851/181851 [00:00<00:00, 926736.44it/s]\u001b[A\n",
      "  0%|          | 0/181851 [00:00<?, ?it/s]\u001b[A\n",
      " 35%|███▌      | 64326/181851 [00:00<00:00, 643256.01it/s]"
     ]
    },
    {
     "name": "stdout",
     "output_type": "stream",
     "text": [
      "Sparse dummy orders shape: \n",
      "(181851, 7)\n"
     ]
    },
    {
     "name": "stderr",
     "output_type": "stream",
     "text": [
      "\u001b[A\n",
      " 70%|███████   | 127794/181851 [00:00<00:00, 640657.31it/s]\u001b[A\n",
      "100%|██████████| 181851/181851 [00:00<00:00, 625752.93it/s]\u001b[A"
     ]
    },
    {
     "name": "stdout",
     "output_type": "stream",
     "text": [
      "Sparse dummy values shape: \n",
      "(181851, 93)\n"
     ]
    },
    {
     "name": "stderr",
     "output_type": "stream",
     "text": [
      "\n",
      "0it [00:00, ?it/s]\u001b[A\n",
      "3700it [00:00, 36999.51it/s]\u001b[A\n",
      "7379it [00:00, 36936.02it/s]\u001b[A\n",
      "11112it [00:00, 37053.21it/s]\u001b[A\n",
      "14894it [00:00, 37277.43it/s]\u001b[A\n",
      "18621it [00:00, 37272.62it/s]\u001b[A\n",
      "22411it [00:00, 37457.41it/s]\u001b[A\n",
      "26164it [00:00, 37477.78it/s]\u001b[A\n",
      "29909it [00:00, 37469.37it/s]\u001b[A\n",
      "33609it [00:00, 37326.03it/s]\u001b[A\n",
      "37343it [00:01, 37329.88it/s]\u001b[A\n",
      "40972it [00:01, 36249.42it/s]\u001b[A\n",
      "44531it [00:01, 35811.50it/s]\u001b[A\n",
      "48211it [00:01, 36102.34it/s]\u001b[A\n",
      "51881it [00:01, 36277.95it/s]\u001b[A\n",
      "55594it [00:01, 36527.90it/s]\u001b[A\n",
      "59275it [00:01, 36610.39it/s]\u001b[A\n",
      " 47%|████▋     | 9/19 [08:55<10:08, 60.80s/it]\n",
      "  0%|          | 0/181851 [00:00<?, ?it/s]\u001b[A\n",
      "100%|██████████| 181851/181851 [00:00<00:00, 899034.74it/s]\u001b[A\n",
      "  0%|          | 0/181851 [00:00<?, ?it/s]\u001b[A\n",
      " 34%|███▎      | 61238/181851 [00:00<00:00, 612376.20it/s]"
     ]
    },
    {
     "name": "stdout",
     "output_type": "stream",
     "text": [
      "Sparse dummy orders shape: \n",
      "(181851, 7)\n"
     ]
    },
    {
     "name": "stderr",
     "output_type": "stream",
     "text": [
      "\u001b[A\n",
      " 68%|██████▊   | 122953/181851 [00:00<00:00, 613799.87it/s]\u001b[A\n",
      "100%|██████████| 181851/181851 [00:00<00:00, 616516.66it/s]\u001b[A"
     ]
    },
    {
     "name": "stdout",
     "output_type": "stream",
     "text": [
      "Sparse dummy values shape: \n",
      "(181851, 93)\n"
     ]
    }
   ],
   "source": [
    "%%time\n",
    "\n",
    "order_keys = set(important_order_keys)\n",
    "\n",
    "real_keys = []\n",
    "o_shapes = []\n",
    "o_averages = []\n",
    "o_tp = []\n",
    "\n",
    "for key in tqdm(order_keys):\n",
    "    real_keys.append(key)\n",
    "    #if len(real_keys) < 2:\n",
    "    #    continue\n",
    "\n",
    "    order_data_top_100 = []\n",
    "\n",
    "    for row_index in range(len(order_data)):\n",
    "        tmp_row = {}\n",
    "        for key in order_data[row_index].keys():\n",
    "            if key in real_keys:\n",
    "                tmp_row[key] = order_data[row_index][key]\n",
    "        if row_index in main_top_100.index:\n",
    "            order_data_top_100.append(tmp_row)\n",
    "\n",
    "    l_parser.reassign_orders_values(order_data_top_100, values_data_top_100)\n",
    "\n",
    "    full_sparce_dummy = l_parser.prepare_data(orders_vectorizer, values_vectorizer, important_keys_set, fit_dict=True)\n",
    "\n",
    "    X_train, X_test, y_train, y_test = train_test_split(full_sparce_dummy, y, test_size=0.33, random_state=42)\n",
    "\n",
    "    clf = OneVsRestClassifier(LogisticRegression(random_state=42, C=100))\n",
    "    clf.fit(X_train, y_train)\n",
    "    \n",
    "    pred = ThresholdPredictions(user_agent_list=list_ua, clf=clf)\n",
    "    y_test_names, y_predicted, compare_answers, answers_count = pred.predict(X_test, y_test, 0.024072)\n",
    "    \n",
    "    o_shapes.append(full_sparce_dummy.shape[1])\n",
    "    o_averages.append(np.average(answers_count))\n",
    "    o_tp.append(np.sum(compare_answers) / y_test.shape[0])"
   ]
  },
  {
   "cell_type": "code",
   "execution_count": null,
   "metadata": {},
   "outputs": [],
   "source": [
    "plot(range(len(order_keys)), o_tp, '-g', label='True Positive');\n",
    "\n",
    "o_tp[-1]"
   ]
  },
  {
   "cell_type": "code",
   "execution_count": null,
   "metadata": {},
   "outputs": [],
   "source": [
    "plot(range(len(order_keys)), np.array(o_averages), '-r', label='Answers Count (Average)');\n",
    "\n",
    "o_averages[-1]"
   ]
  },
  {
   "cell_type": "code",
   "execution_count": null,
   "metadata": {},
   "outputs": [],
   "source": [
    "plot(range(len(order_keys)), np.array(o_shapes), '-b', label='Order features shape');\n",
    "\n",
    "o_shapes[-1]"
   ]
  },
  {
   "cell_type": "code",
   "execution_count": 144,
   "metadata": {},
   "outputs": [
    {
     "name": "stderr",
     "output_type": "stream",
     "text": [
      "100%|██████████| 181851/181851 [00:00<00:00, 318767.81it/s]\n",
      " 37%|███▋      | 67593/181851 [00:00<00:00, 675929.03it/s]"
     ]
    },
    {
     "name": "stdout",
     "output_type": "stream",
     "text": [
      "Sparse dummy orders shape: \n",
      "(181851, 40)\n"
     ]
    },
    {
     "name": "stderr",
     "output_type": "stream",
     "text": [
      "100%|██████████| 181851/181851 [00:00<00:00, 652037.98it/s]\n"
     ]
    },
    {
     "name": "stdout",
     "output_type": "stream",
     "text": [
      "Sparse dummy values shape: \n",
      "(181851, 93)\n"
     ]
    },
    {
     "name": "stderr",
     "output_type": "stream",
     "text": [
      "60011it [00:01, 37062.87it/s]"
     ]
    },
    {
     "name": "stdout",
     "output_type": "stream",
     "text": [
      "sparse_dummy_values.shape: (181851, 133)\n",
      "Answers Count (Average) = 5.111612870973655\n",
      "True Positive = 0.9649230974321374\n"
     ]
    },
    {
     "name": "stderr",
     "output_type": "stream",
     "text": [
      "\n"
     ]
    },
    {
     "data": {
      "text/html": [
       "<div>\n",
       "<style>\n",
       "    .dataframe thead tr:only-child th {\n",
       "        text-align: right;\n",
       "    }\n",
       "\n",
       "    .dataframe thead th {\n",
       "        text-align: left;\n",
       "    }\n",
       "\n",
       "    .dataframe tbody tr th {\n",
       "        vertical-align: top;\n",
       "    }\n",
       "</style>\n",
       "<table border=\"1\" class=\"dataframe\">\n",
       "  <thead>\n",
       "    <tr>\n",
       "      <th></th>\n",
       "      <th>test</th>\n",
       "      <th>predicted</th>\n",
       "      <th>correctness</th>\n",
       "      <th>count</th>\n",
       "    </tr>\n",
       "    <tr>\n",
       "      <th></th>\n",
       "      <th>0</th>\n",
       "      <th>1</th>\n",
       "      <th>0</th>\n",
       "      <th>0</th>\n",
       "    </tr>\n",
       "  </thead>\n",
       "  <tbody>\n",
       "    <tr>\n",
       "      <th>0</th>\n",
       "      <td>Mozilla/5.0 (Windows NT 6.3; Win64; x64) Apple...</td>\n",
       "      <td>[Mozilla/5.0 (Windows NT 6.3; Win64; x64) Appl...</td>\n",
       "      <td>True</td>\n",
       "      <td>1</td>\n",
       "    </tr>\n",
       "    <tr>\n",
       "      <th>1</th>\n",
       "      <td>netEstate NE Crawler (+http://www.website-date...</td>\n",
       "      <td>[Mozilla/5.0 (compatible; Yahoo! Slurp; http:/...</td>\n",
       "      <td>True</td>\n",
       "      <td>6</td>\n",
       "    </tr>\n",
       "    <tr>\n",
       "      <th>2</th>\n",
       "      <td>Mozilla/5.0 (iPhone; CPU iPhone OS 10_2_1 like...</td>\n",
       "      <td>[Mozilla/5.0 (compatible; Yahoo! Slurp; http:/...</td>\n",
       "      <td>True</td>\n",
       "      <td>15</td>\n",
       "    </tr>\n",
       "    <tr>\n",
       "      <th>3</th>\n",
       "      <td>Mozilla/5.0 (compatible; MJ12bot/v1.4.7; http:...</td>\n",
       "      <td>[Mozilla/5.0 (compatible; MJ12bot/v1.4.7; http...</td>\n",
       "      <td>True</td>\n",
       "      <td>1</td>\n",
       "    </tr>\n",
       "    <tr>\n",
       "      <th>4</th>\n",
       "      <td>Mozilla/5.0 (compatible; Yahoo! Slurp; http://...</td>\n",
       "      <td>[Mozilla/5.0 (compatible; Yahoo! Slurp; http:/...</td>\n",
       "      <td>True</td>\n",
       "      <td>15</td>\n",
       "    </tr>\n",
       "    <tr>\n",
       "      <th>...</th>\n",
       "      <td>...</td>\n",
       "      <td>...</td>\n",
       "      <td>...</td>\n",
       "      <td>...</td>\n",
       "    </tr>\n",
       "    <tr>\n",
       "      <th>60006</th>\n",
       "      <td>Mozilla/5.0 (Windows NT 6.1) AppleWebKit/537.3...</td>\n",
       "      <td>[Mozilla/5.0 (Windows NT 6.1; rv:51.0) Gecko/2...</td>\n",
       "      <td>True</td>\n",
       "      <td>2</td>\n",
       "    </tr>\n",
       "    <tr>\n",
       "      <th>60007</th>\n",
       "      <td>Mozilla/5.0 (iPad; CPU OS 9_3_5 like Mac OS X)...</td>\n",
       "      <td>[Mozilla/5.0 (iPad; CPU OS 9_3_5 like Mac OS X...</td>\n",
       "      <td>True</td>\n",
       "      <td>1</td>\n",
       "    </tr>\n",
       "    <tr>\n",
       "      <th>60008</th>\n",
       "      <td>Mozilla/5.0 (iPad; CPU OS 9_3_5 like Mac OS X)...</td>\n",
       "      <td>[Mozilla/5.0 (iPad; CPU OS 9_3_5 like Mac OS X...</td>\n",
       "      <td>True</td>\n",
       "      <td>1</td>\n",
       "    </tr>\n",
       "    <tr>\n",
       "      <th>60009</th>\n",
       "      <td>Mozilla/5.0 (iPad; CPU OS 10_2_1 like Mac OS X...</td>\n",
       "      <td>[Mozilla/5.0 (iPad; CPU OS 10_2_1 like Mac OS ...</td>\n",
       "      <td>True</td>\n",
       "      <td>2</td>\n",
       "    </tr>\n",
       "    <tr>\n",
       "      <th>60010</th>\n",
       "      <td>StackRambler/2.0 (MSIE incompatible; Top100)</td>\n",
       "      <td>[Mozilla/5.0 (Windows NT 6.1) AppleWebKit/537....</td>\n",
       "      <td>True</td>\n",
       "      <td>5</td>\n",
       "    </tr>\n",
       "  </tbody>\n",
       "</table>\n",
       "<p>60011 rows × 4 columns</p>\n",
       "</div>"
      ],
      "text/plain": [
       "                                                    test  \\\n",
       "                                                       0   \n",
       "0      Mozilla/5.0 (Windows NT 6.3; Win64; x64) Apple...   \n",
       "1      netEstate NE Crawler (+http://www.website-date...   \n",
       "2      Mozilla/5.0 (iPhone; CPU iPhone OS 10_2_1 like...   \n",
       "3      Mozilla/5.0 (compatible; MJ12bot/v1.4.7; http:...   \n",
       "4      Mozilla/5.0 (compatible; Yahoo! Slurp; http://...   \n",
       "...                                                  ...   \n",
       "60006  Mozilla/5.0 (Windows NT 6.1) AppleWebKit/537.3...   \n",
       "60007  Mozilla/5.0 (iPad; CPU OS 9_3_5 like Mac OS X)...   \n",
       "60008  Mozilla/5.0 (iPad; CPU OS 9_3_5 like Mac OS X)...   \n",
       "60009  Mozilla/5.0 (iPad; CPU OS 10_2_1 like Mac OS X...   \n",
       "60010       StackRambler/2.0 (MSIE incompatible; Top100)   \n",
       "\n",
       "                                               predicted correctness count  \n",
       "                                                       1           0     0  \n",
       "0      [Mozilla/5.0 (Windows NT 6.3; Win64; x64) Appl...        True     1  \n",
       "1      [Mozilla/5.0 (compatible; Yahoo! Slurp; http:/...        True     6  \n",
       "2      [Mozilla/5.0 (compatible; Yahoo! Slurp; http:/...        True    15  \n",
       "3      [Mozilla/5.0 (compatible; MJ12bot/v1.4.7; http...        True     1  \n",
       "4      [Mozilla/5.0 (compatible; Yahoo! Slurp; http:/...        True    15  \n",
       "...                                                  ...         ...   ...  \n",
       "60006  [Mozilla/5.0 (Windows NT 6.1; rv:51.0) Gecko/2...        True     2  \n",
       "60007  [Mozilla/5.0 (iPad; CPU OS 9_3_5 like Mac OS X...        True     1  \n",
       "60008  [Mozilla/5.0 (iPad; CPU OS 9_3_5 like Mac OS X...        True     1  \n",
       "60009  [Mozilla/5.0 (iPad; CPU OS 10_2_1 like Mac OS ...        True     2  \n",
       "60010  [Mozilla/5.0 (Windows NT 6.1) AppleWebKit/537....        True     5  \n",
       "\n",
       "[60011 rows x 4 columns]"
      ]
     },
     "execution_count": 144,
     "metadata": {},
     "output_type": "execute_result"
    }
   ],
   "source": [
    "order_keys = set(important_order_keys)\n",
    "\n",
    "order_data_top_100 = []\n",
    "\n",
    "for row_index in range(len(order_data)):\n",
    "    tmp_row = {}\n",
    "    for key in order_data[row_index].keys():\n",
    "        if key in order_keys:\n",
    "            tmp_row[key] = order_data[row_index][key]\n",
    "    if row_index in main_top_100.index:\n",
    "        order_data_top_100.append(tmp_row)\n",
    "\n",
    "l_parser.reassign_orders_values(order_data_top_100, values_data_top_100)\n",
    "\n",
    "full_sparce_dummy = l_parser.prepare_data(orders_vectorizer, values_vectorizer, important_keys_set, fit_dict=True)\n",
    "\n",
    "X_train, X_test, y_train, y_test = train_test_split(full_sparce_dummy, y, test_size=0.33, random_state=42)\n",
    "\n",
    "clf = OneVsRestClassifier(LogisticRegression(random_state=42, C=100))\n",
    "clf.fit(X_train, y_train)\n",
    "    \n",
    "pred = ThresholdPredictions(user_agent_list=list_ua, clf=clf)\n",
    "y_test_names, y_predicted, compare_answers, answers_count = pred.predict(X_test, y_test, 0.024072)\n",
    "\n",
    "compare_frame = pd.concat(\n",
    "    [\n",
    "        y_test_names,\n",
    "        y_predicted, \n",
    "        pd.DataFrame(compare_answers), \n",
    "        pd.DataFrame(answers_count)\n",
    "    ], keys=['test', 'predicted', 'correctness', 'count'], axis=1, join='inner')\n",
    "\n",
    "#print('Headers: ' + str(' '.join(important_keys)))\n",
    "print('sparse_dummy_values.shape: ' + str(full_sparce_dummy.shape))\n",
    "print(\"Answers Count (Average) = {0}\".format(np.average(answers_count)))\n",
    "smart_accuracy = numpy.sum(compare_answers) / y_test.shape[0]\n",
    "print(\"True Positive = {0}\".format(smart_accuracy))\n",
    "compare_frame"
   ]
  },
  {
   "cell_type": "markdown",
   "metadata": {},
   "source": [
    "## Conclusion\n",
    "\n",
    "\n",
    "important_order_keys are\n",
    "\n",
    "```\n",
    "{\n",
    "    'Upgrade-Insecure-Requests',\n",
    "    'Accept',\n",
    "    'If-Modified-Since',\n",
    "    'Host',\n",
    "    'Connection',\n",
    "    'From',\n",
    "    'Accept-Encoding'\n",
    "}\n",
    "```"
   ]
  },
  {
   "cell_type": "code",
   "execution_count": null,
   "metadata": {
    "collapsed": true
   },
   "outputs": [],
   "source": []
  }
 ],
 "metadata": {
  "kernelspec": {
   "display_name": "Python 3",
   "language": "python",
   "name": "python3"
  },
  "language_info": {
   "codemirror_mode": {
    "name": "ipython",
    "version": 3
   },
   "file_extension": ".py",
   "mimetype": "text/x-python",
   "name": "python",
   "nbconvert_exporter": "python",
   "pygments_lexer": "ipython3",
   "version": "3.6.1"
  }
 },
 "nbformat": 4,
 "nbformat_minor": 2
}

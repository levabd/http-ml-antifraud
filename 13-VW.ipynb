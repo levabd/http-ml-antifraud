{
 "cells": [
  {
   "cell_type": "code",
   "execution_count": 1,
   "metadata": {},
   "outputs": [
    {
     "name": "stdout",
     "output_type": "stream",
     "text": [
      "Num weight bits = 18\r\n",
      "learning rate = 0.5\r\n",
      "initial_t = 0\r\n",
      "power_t = 0.5\r\n",
      "using no cache\r\n",
      "Reading datafile = \r\n",
      "num sources = 1\r\n",
      "\r\n",
      "\r\n",
      "VW options:\r\n",
      "  --random_seed arg                     seed random number generator\r\n",
      "  --ring_size arg                       size of example ring\r\n",
      "\r\n",
      "Update options:\r\n",
      "  -l [ --learning_rate ] arg            Set learning rate\r\n",
      "  --power_t arg                         t power value\r\n",
      "  --decay_learning_rate arg             Set Decay factor for learning_rate \r\n"
     ]
    }
   ],
   "source": [
    "!vw -h | head -n10"
   ]
  },
  {
   "cell_type": "code",
   "execution_count": 2,
   "metadata": {},
   "outputs": [
    {
     "name": "stdout",
     "output_type": "stream",
     "text": [
      "Populating the interactive namespace from numpy and matplotlib\n"
     ]
    },
    {
     "name": "stderr",
     "output_type": "stream",
     "text": [
      "/home/levabd/anaconda3/lib/python3.6/site-packages/IPython/core/magics/pylab.py:161: UserWarning: pylab import has clobbered these variables: ['plt']\n",
      "`%matplotlib` prevents importing * from pylab and numpy\n",
      "  \"\\n`%matplotlib` prevents importing * from pylab and numpy\"\n"
     ]
    }
   ],
   "source": [
    "import pandas as pd\n",
    "import numpy as np\n",
    "\n",
    "import scipy.sparse\n",
    "import sklearn.feature_extraction\n",
    "\n",
    "import matplotlib.pylab as plt\n",
    "%matplotlib inline\n",
    "\n",
    "from tqdm import tqdm\n",
    "import platform\n",
    "\n",
    "pd.set_option(\"display.max_rows\", 10)\n",
    "pd.set_option('display.max_columns', 1100)\n",
    "\n",
    "import os\n",
    "\n",
    "%pylab inline\n",
    "warnings.filterwarnings('ignore')"
   ]
  },
  {
   "cell_type": "markdown",
   "metadata": {},
   "source": [
    "# Load and transform data"
   ]
  },
  {
   "cell_type": "code",
   "execution_count": 3,
   "metadata": {},
   "outputs": [
    {
     "data": {
      "text/html": [
       "<div>\n",
       "<style>\n",
       "    .dataframe thead tr:only-child th {\n",
       "        text-align: right;\n",
       "    }\n",
       "\n",
       "    .dataframe thead th {\n",
       "        text-align: left;\n",
       "    }\n",
       "\n",
       "    .dataframe tbody tr th {\n",
       "        vertical-align: top;\n",
       "    }\n",
       "</style>\n",
       "<table border=\"1\" class=\"dataframe\">\n",
       "  <thead>\n",
       "    <tr style=\"text-align: right;\">\n",
       "      <th></th>\n",
       "      <th>device_class_code</th>\n",
       "      <th>ip</th>\n",
       "      <th>os_code</th>\n",
       "      <th>os_family_code</th>\n",
       "      <th>timestamp</th>\n",
       "      <th>ua_class_code</th>\n",
       "      <th>ua_family_code</th>\n",
       "      <th>ua_string</th>\n",
       "      <th>ua_version</th>\n",
       "    </tr>\n",
       "  </thead>\n",
       "  <tbody>\n",
       "    <tr>\n",
       "      <th>0</th>\n",
       "      <td>desktop</td>\n",
       "      <td>95.181.252.91</td>\n",
       "      <td>windows_7</td>\n",
       "      <td>windows</td>\n",
       "      <td>1485900038</td>\n",
       "      <td>browser</td>\n",
       "      <td>chrome</td>\n",
       "      <td>Mozilla/5.0 (Windows NT 6.1) AppleWebKit/537.3...</td>\n",
       "      <td>chrome55.0.2883.87</td>\n",
       "    </tr>\n",
       "    <tr>\n",
       "      <th>1</th>\n",
       "      <td>smartphone</td>\n",
       "      <td>31.148.3.19</td>\n",
       "      <td>android_4_4</td>\n",
       "      <td>android</td>\n",
       "      <td>1485900079</td>\n",
       "      <td>mobile_browser</td>\n",
       "      <td>chrome_mobile</td>\n",
       "      <td>Mozilla/5.0 (Linux; Android 4.4.2; Zera S Buil...</td>\n",
       "      <td>chrome_mobile49.0.2623.105</td>\n",
       "    </tr>\n",
       "    <tr>\n",
       "      <th>2</th>\n",
       "      <td>desktop</td>\n",
       "      <td>188.162.183.66</td>\n",
       "      <td>windows_7</td>\n",
       "      <td>windows</td>\n",
       "      <td>1485900103</td>\n",
       "      <td>browser</td>\n",
       "      <td>firefox</td>\n",
       "      <td>Mozilla/5.0 (Windows NT 6.1; WOW64; rv:51.0) G...</td>\n",
       "      <td>firefox51.0</td>\n",
       "    </tr>\n",
       "    <tr>\n",
       "      <th>3</th>\n",
       "      <td>desktop</td>\n",
       "      <td>37.144.52.103</td>\n",
       "      <td>windows_xp</td>\n",
       "      <td>windows</td>\n",
       "      <td>1485900105</td>\n",
       "      <td>browser</td>\n",
       "      <td>ie</td>\n",
       "      <td>Mozilla/4.0 (compatible; MSIE 8.0; Windows NT ...</td>\n",
       "      <td>ie8.0</td>\n",
       "    </tr>\n",
       "    <tr>\n",
       "      <th>4</th>\n",
       "      <td>desktop</td>\n",
       "      <td>91.201.178.51</td>\n",
       "      <td>windows_8_1</td>\n",
       "      <td>windows</td>\n",
       "      <td>1485900108</td>\n",
       "      <td>browser</td>\n",
       "      <td>opera</td>\n",
       "      <td>Mozilla/5.0 (Windows NT 6.3; WOW64) AppleWebKi...</td>\n",
       "      <td>opera40.0.2308.81</td>\n",
       "    </tr>\n",
       "    <tr>\n",
       "      <th>...</th>\n",
       "      <td>...</td>\n",
       "      <td>...</td>\n",
       "      <td>...</td>\n",
       "      <td>...</td>\n",
       "      <td>...</td>\n",
       "      <td>...</td>\n",
       "      <td>...</td>\n",
       "      <td>...</td>\n",
       "      <td>...</td>\n",
       "    </tr>\n",
       "    <tr>\n",
       "      <th>571140</th>\n",
       "      <td>smartphone</td>\n",
       "      <td>89.237.103.208</td>\n",
       "      <td>android_6</td>\n",
       "      <td>android</td>\n",
       "      <td>1488585286</td>\n",
       "      <td>mobile_browser</td>\n",
       "      <td>chrome_mobile</td>\n",
       "      <td>Mozilla/5.0 (Linux; Android 6.0.1; SM-G925F Bu...</td>\n",
       "      <td>chrome_mobile56.0.2924.87</td>\n",
       "    </tr>\n",
       "    <tr>\n",
       "      <th>571141</th>\n",
       "      <td>desktop</td>\n",
       "      <td>141.0.12.169</td>\n",
       "      <td>windows_98</td>\n",
       "      <td>windows</td>\n",
       "      <td>1488585377</td>\n",
       "      <td>browser</td>\n",
       "      <td>opera</td>\n",
       "      <td>Mozilla/4.0 (Windows 98; US) Opera 12.16 [en]</td>\n",
       "      <td>opera12.16</td>\n",
       "    </tr>\n",
       "    <tr>\n",
       "      <th>571142</th>\n",
       "      <td>desktop</td>\n",
       "      <td>131.253.24.147</td>\n",
       "      <td>windows_7</td>\n",
       "      <td>windows</td>\n",
       "      <td>1488585395</td>\n",
       "      <td>browser</td>\n",
       "      <td>ie</td>\n",
       "      <td>Mozilla/5.0 (compatible; MSIE 9.0; Windows NT ...</td>\n",
       "      <td>ie9.0</td>\n",
       "    </tr>\n",
       "    <tr>\n",
       "      <th>571143</th>\n",
       "      <td>desktop</td>\n",
       "      <td>176.195.122.100</td>\n",
       "      <td>windows_7</td>\n",
       "      <td>windows</td>\n",
       "      <td>1488585447</td>\n",
       "      <td>browser</td>\n",
       "      <td>ie</td>\n",
       "      <td>Mozilla/4.0 (compatible; MSIE 8.0; Windows NT ...</td>\n",
       "      <td>ie8.0</td>\n",
       "    </tr>\n",
       "    <tr>\n",
       "      <th>571144</th>\n",
       "      <td>desktop</td>\n",
       "      <td>95.108.133.194</td>\n",
       "      <td>windows_8</td>\n",
       "      <td>windows</td>\n",
       "      <td>1488585571</td>\n",
       "      <td>browser</td>\n",
       "      <td>yandex-browser</td>\n",
       "      <td>Mozilla/5.0 (Windows NT 6.2; WOW64) AppleWebKi...</td>\n",
       "      <td>yandex-browser17.1.0.2034</td>\n",
       "    </tr>\n",
       "  </tbody>\n",
       "</table>\n",
       "<p>571145 rows × 9 columns</p>\n",
       "</div>"
      ],
      "text/plain": [
       "       device_class_code               ip      os_code os_family_code  \\\n",
       "0                desktop    95.181.252.91    windows_7        windows   \n",
       "1             smartphone      31.148.3.19  android_4_4        android   \n",
       "2                desktop   188.162.183.66    windows_7        windows   \n",
       "3                desktop    37.144.52.103   windows_xp        windows   \n",
       "4                desktop    91.201.178.51  windows_8_1        windows   \n",
       "...                  ...              ...          ...            ...   \n",
       "571140        smartphone   89.237.103.208    android_6        android   \n",
       "571141           desktop     141.0.12.169   windows_98        windows   \n",
       "571142           desktop   131.253.24.147    windows_7        windows   \n",
       "571143           desktop  176.195.122.100    windows_7        windows   \n",
       "571144           desktop   95.108.133.194    windows_8        windows   \n",
       "\n",
       "         timestamp   ua_class_code  ua_family_code  \\\n",
       "0       1485900038         browser          chrome   \n",
       "1       1485900079  mobile_browser   chrome_mobile   \n",
       "2       1485900103         browser         firefox   \n",
       "3       1485900105         browser              ie   \n",
       "4       1485900108         browser           opera   \n",
       "...            ...             ...             ...   \n",
       "571140  1488585286  mobile_browser   chrome_mobile   \n",
       "571141  1488585377         browser           opera   \n",
       "571142  1488585395         browser              ie   \n",
       "571143  1488585447         browser              ie   \n",
       "571144  1488585571         browser  yandex-browser   \n",
       "\n",
       "                                                ua_string  \\\n",
       "0       Mozilla/5.0 (Windows NT 6.1) AppleWebKit/537.3...   \n",
       "1       Mozilla/5.0 (Linux; Android 4.4.2; Zera S Buil...   \n",
       "2       Mozilla/5.0 (Windows NT 6.1; WOW64; rv:51.0) G...   \n",
       "3       Mozilla/4.0 (compatible; MSIE 8.0; Windows NT ...   \n",
       "4       Mozilla/5.0 (Windows NT 6.3; WOW64) AppleWebKi...   \n",
       "...                                                   ...   \n",
       "571140  Mozilla/5.0 (Linux; Android 6.0.1; SM-G925F Bu...   \n",
       "571141      Mozilla/4.0 (Windows 98; US) Opera 12.16 [en]   \n",
       "571142  Mozilla/5.0 (compatible; MSIE 9.0; Windows NT ...   \n",
       "571143  Mozilla/4.0 (compatible; MSIE 8.0; Windows NT ...   \n",
       "571144  Mozilla/5.0 (Windows NT 6.2; WOW64) AppleWebKi...   \n",
       "\n",
       "                        ua_version  \n",
       "0               chrome55.0.2883.87  \n",
       "1       chrome_mobile49.0.2623.105  \n",
       "2                      firefox51.0  \n",
       "3                            ie8.0  \n",
       "4                opera40.0.2308.81  \n",
       "...                            ...  \n",
       "571140   chrome_mobile56.0.2924.87  \n",
       "571141                  opera12.16  \n",
       "571142                       ie9.0  \n",
       "571143                       ie8.0  \n",
       "571144   yandex-browser17.1.0.2034  \n",
       "\n",
       "[571145 rows x 9 columns]"
      ]
     },
     "execution_count": 3,
     "metadata": {},
     "output_type": "execute_result"
    }
   ],
   "source": [
    "main_data = np.load('df/main_data.npy').tolist()\n",
    "values_data = np.load('df/values_data.npy').tolist()\n",
    "order_data = np.load('df/order_data.npy').tolist()\n",
    "\n",
    "main_df = pd.DataFrame(main_data)\n",
    "\n",
    "main_df"
   ]
  },
  {
   "cell_type": "code",
   "execution_count": 56,
   "metadata": {},
   "outputs": [
    {
     "name": "stderr",
     "output_type": "stream",
     "text": [
      "100%|██████████| 571145/571145 [00:01<00:00, 441163.18it/s]\n",
      "100%|██████████| 571145/571145 [00:02<00:00, 205301.09it/s]\n",
      " 11%|█         | 63738/571145 [00:00<00:00, 637377.57it/s]"
     ]
    },
    {
     "name": "stdout",
     "output_type": "stream",
     "text": [
      "Sparse dummy orders shape: \n",
      "(571145, 50)\n"
     ]
    },
    {
     "name": "stderr",
     "output_type": "stream",
     "text": [
      "100%|██████████| 571145/571145 [00:00<00:00, 654477.30it/s]\n"
     ]
    },
    {
     "name": "stdout",
     "output_type": "stream",
     "text": [
      "Sparse dummy values shape: \n",
      "(571145, 516)\n"
     ]
    }
   ],
   "source": [
    "important_values_keys_set = {\n",
    "    'Accept', \n",
    "    'Accept-Charset', \n",
    "    'Accept-Encoding'\n",
    "}\n",
    "important_orders_keys_set = {\n",
    "    'Upgrade-Insecure-Requests',\n",
    "    'Accept', \n",
    "    'If-Modified-Since',\n",
    "    'Host', \n",
    "    'Connection', \n",
    "    'User-Agent', \n",
    "    'From', \n",
    "    'Accept-Encoding' \n",
    "}\n",
    "\n",
    "orders_vectorizer = sklearn.feature_extraction.DictVectorizer(sparse=True, dtype=float)\n",
    "values_vectorizer = sklearn.feature_extraction.DictVectorizer(sparse=True, dtype=float)\n",
    "\n",
    "labels = main_df.ua_string.value_counts().index.tolist()\n",
    "labels.append('NaN')\n",
    "\n",
    "from lib.parsers.logParser import LogParser\n",
    "\n",
    "l_parser = LogParser(log_folder='Logs/')\n",
    "l_parser.reassign_orders_values(order_data, values_data)\n",
    "full_sparce_dummy = l_parser.prepare_data(orders_vectorizer, values_vectorizer, important_orders_keys_set, important_values_keys_set, fit_dict=True)\n",
    "\n",
    "#lb = preprocessing.LabelBinarizer(sparse_output=True)\n",
    "lb = preprocessing.LabelEncoder()\n",
    "lb.fit(labels)\n",
    "y = lb.transform(main_df.ua_string.fillna('NaN'))"
   ]
  },
  {
   "cell_type": "code",
   "execution_count": 57,
   "metadata": {
    "collapsed": true
   },
   "outputs": [],
   "source": [
    "from sklearn.model_selection import train_test_split\n",
    "\n",
    "X_train, X_test, y_train, y_test = train_test_split(full_sparce_dummy, y, test_size=0.33, random_state=42)"
   ]
  },
  {
   "cell_type": "code",
   "execution_count": 58,
   "metadata": {},
   "outputs": [
    {
     "data": {
      "text/plain": [
       "array([27045,  3534,  6761, ..., 35042, 26779, 27045])"
      ]
     },
     "execution_count": 58,
     "metadata": {},
     "output_type": "execute_result"
    }
   ],
   "source": [
    "y_train"
   ]
  },
  {
   "cell_type": "code",
   "execution_count": 59,
   "metadata": {},
   "outputs": [
    {
     "name": "stderr",
     "output_type": "stream",
     "text": [
      "100%|██████████| 382667/382667 [11:58<00:00, 532.34it/s]\n"
     ]
    }
   ],
   "source": [
    "train_filename = 'vw/headers.train.vw'\n",
    "test_filename = 'vw/headers.test.vw'\n",
    "\n",
    "#y_tr = y_train.reset_index(drop=True)\n",
    "ftr = open(train_filename, \"w\")\n",
    "for row in tqdm(range(X_train.shape[0])):\n",
    "    s = str(y_train[row]) + \" | \"\n",
    "    for i, value in enumerate(X_train.getrow(row).toarray()[0]):\n",
    "        s += str(i) + \":\" + str(value) + \" \"\n",
    "    print(s, file=ftr)\n",
    "    \n",
    "ftr.close()"
   ]
  },
  {
   "cell_type": "code",
   "execution_count": 60,
   "metadata": {},
   "outputs": [
    {
     "name": "stderr",
     "output_type": "stream",
     "text": [
      "100%|██████████| 188478/188478 [06:26<00:00, 530.49it/s]\n"
     ]
    }
   ],
   "source": [
    "#y_ts = y_test.reset_index(drop=True)\n",
    "\n",
    "fts = open(test_filename, \"w\")\n",
    "for row in tqdm(range(X_test.shape[0])):\n",
    "    s = str(y_test[row]) + \" | \"\n",
    "    for i, value in enumerate(X_test.getrow(row).toarray()[0]):\n",
    "        s += str(i) + \":\" + str(value) + \" \"\n",
    "    print(s, file=fts)\n",
    "    \n",
    "fts.close()"
   ]
  },
  {
   "cell_type": "code",
   "execution_count": 62,
   "metadata": {},
   "outputs": [
    {
     "name": "stdout",
     "output_type": "stream",
     "text": [
      "27045 | 0:0 1:0 2:0 3:0 4:0 5:0 6:0 7:1 8:0 9:0 10\r\n",
      "3534 | 0:1 1:0 2:0 3:0 4:0 5:0 6:0 7:0 8:0 9:0 10:\r\n",
      "6761 | 0:1 1:0 2:0 3:0 4:0 5:0 6:0 7:0 8:0 9:0 10:\r\n",
      "35430 | 0:0 1:0 2:0 3:0 4:0 5:0 6:0 7:0 8:0 9:0 10\r\n",
      "24958 | 0:0 1:0 2:0 3:0 4:0 5:0 6:0 7:0 8:0 9:0 10\r\n"
     ]
    }
   ],
   "source": [
    "!head -n 5 vw/headers.train.vw | cut -c 1-50"
   ]
  },
  {
   "cell_type": "markdown",
   "metadata": {},
   "source": [
    "## Train VW\n",
    "\n",
    "#### Which loss function should I use?\n",
    "\n",
    "If the problem is a binary classification (i.e. labels are -1 and +1) your choices should be Logistic or Hinge loss (although Squared loss may work as well). If you want VW to report the 0-1 loss instead of the logistic/hinge loss, add --binary. Example: spam vs non-spam, odds of click vs no-click.\n",
    "For binary classification where you need to know the posterior probabilities, use --loss_function logistic --link logistic.\n",
    "\n",
    "If the problem is a regression problem, meaning the target label you're trying to predict is a real value -- you should be using Squared or Quantile loss. \n",
    "\n",
    "Example: revenue, height, weight. If you're trying to minimize the mean error, use squared-loss. See: http://en.wikipedia.org/wiki/Least_squares. \n",
    "\n",
    "If OTOH you're trying to predict rank/order and you don't mind the mean error to increase as long as you get the relative order correct, you need to minimize the error vs the median (or any other quantile), in this case, you should use quantile-loss. See: http://en.wikipedia.org/wiki/Quantile_regression\n",
    "\n",
    "**Важно!!!!**\n",
    "Было бы классно использовать --loss_function logistic --link logistic. Тогда мы бы получили вероятностные предсказания. Но мы к сожалению прогнозируем кучу классов а не бинарную\n",
    "\n",
    "Вариант добавить юзерагентов или браузеров в классификацию. Но это почти то же самое что наша вторая модель и улучшние скорости с помощью VW весьма бессмысленно"
   ]
  },
  {
   "cell_type": "code",
   "execution_count": 66,
   "metadata": {},
   "outputs": [
    {
     "name": "stdout",
     "output_type": "stream",
     "text": [
      "CPU times: user 628 ms, sys: 64 ms, total: 692 ms\n",
      "Wall time: 37.9 s\n"
     ]
    }
   ],
   "source": [
    "%%time\n",
    "\n",
    "!vw -d vw/headers.train.vw -f vw/model.vw --loss_function quantile --passes 100 -c -k 2> vw/train.log"
   ]
  },
  {
   "cell_type": "markdown",
   "metadata": {},
   "source": [
    "## Very fast"
   ]
  },
  {
   "cell_type": "code",
   "execution_count": 68,
   "metadata": {},
   "outputs": [
    {
     "name": "stdout",
     "output_type": "stream",
     "text": [
      "final_regressor = vw/model.vw\r\n",
      "Num weight bits = 18\r\n",
      "learning rate = 0.5\r\n",
      "initial_t = 0\r\n",
      "power_t = 0.5\r\n",
      "decay_learning_rate = 1\r\n",
      "creating cache_file = vw/headers.train.vw.cache\r\n",
      "Reading datafile = vw/headers.train.vw\r\n",
      "num sources = 1\r\n",
      "average  since         example        example  current  current  current\r\n",
      "loss     last          counter         weight    label  predict features\r\n",
      "13522.500000 13522.500000            1            1.0 27045.0000   0.0000        5\r\n",
      "7644.694092 1766.888184            2            2.0 3534.0000   0.2236        9\r\n",
      "9095.930847 10547.167603            4            4.0 35430.0000   0.4614        1\r\n",
      "11497.277802 13898.624756            8            8.0 28063.0000   3.5956        9\r\n",
      "12342.315807 13187.353813           16           16.0 34323.0000   4.9855        9\r\n",
      "13610.973059 14879.630310           32           32.0 29020.0000   9.8947        9\r\n",
      "13390.124441 13169.275823           64           64.0 27958.0000   9.1504        9\r\n",
      "12545.818460 11701.512480          128          128.0 37541.0000  14.8889        9\r\n",
      "12437.595052 12329.371643          256          256.0 27045.0000  14.7252        5\r\n"
     ]
    }
   ],
   "source": [
    "!head -n20 vw/train.log"
   ]
  },
  {
   "cell_type": "code",
   "execution_count": 70,
   "metadata": {},
   "outputs": [
    {
     "name": "stdout",
     "output_type": "stream",
     "text": [
      "2284.162598\n",
      "8478.969727\n",
      "8690.013672\n",
      "CPU times: user 100 ms, sys: 32 ms, total: 132 ms\n",
      "Wall time: 6.42 s\n"
     ]
    }
   ],
   "source": [
    "%%time\n",
    "\n",
    "!vw -d vw/headers.test.vw -i vw/model.vw -t -p vw/output.csv --quiet\n",
    "!head -n3 vw/output.csv"
   ]
  },
  {
   "cell_type": "code",
   "execution_count": 78,
   "metadata": {},
   "outputs": [
    {
     "name": "stdout",
     "output_type": "stream",
     "text": [
      "188478\n"
     ]
    },
    {
     "data": {
      "text/plain": [
       "0         2284.162598\n",
       "1         8478.969727\n",
       "2         8690.013672\n",
       "3         8690.013672\n",
       "4         4325.060547\n",
       "             ...     \n",
       "188473    7166.357422\n",
       "188474    5633.684082\n",
       "188475    5602.121582\n",
       "188476    9216.000000\n",
       "188477    4148.028320\n",
       "Name: 0, Length: 188478, dtype: float64"
      ]
     },
     "execution_count": 78,
     "metadata": {},
     "output_type": "execute_result"
    }
   ],
   "source": [
    "y_hat = pd.read_csv('vw/output.csv', header=None)\n",
    "print(len(y_test))\n",
    "y_hat[0]"
   ]
  },
  {
   "cell_type": "code",
   "execution_count": 85,
   "metadata": {},
   "outputs": [
    {
     "data": {
      "text/html": [
       "<div>\n",
       "<style>\n",
       "    .dataframe thead tr:only-child th {\n",
       "        text-align: right;\n",
       "    }\n",
       "\n",
       "    .dataframe thead th {\n",
       "        text-align: left;\n",
       "    }\n",
       "\n",
       "    .dataframe tbody tr th {\n",
       "        vertical-align: top;\n",
       "    }\n",
       "</style>\n",
       "<table border=\"1\" class=\"dataframe\">\n",
       "  <thead>\n",
       "    <tr style=\"text-align: right;\">\n",
       "      <th></th>\n",
       "      <th>Predicted</th>\n",
       "      <th>Real</th>\n",
       "      <th>Success</th>\n",
       "    </tr>\n",
       "  </thead>\n",
       "  <tbody>\n",
       "    <tr>\n",
       "      <th>0</th>\n",
       "      <td>2284.0</td>\n",
       "      <td>35220</td>\n",
       "      <td>False</td>\n",
       "    </tr>\n",
       "    <tr>\n",
       "      <th>1</th>\n",
       "      <td>8479.0</td>\n",
       "      <td>27987</td>\n",
       "      <td>False</td>\n",
       "    </tr>\n",
       "    <tr>\n",
       "      <th>2</th>\n",
       "      <td>8690.0</td>\n",
       "      <td>12675</td>\n",
       "      <td>False</td>\n",
       "    </tr>\n",
       "    <tr>\n",
       "      <th>3</th>\n",
       "      <td>8690.0</td>\n",
       "      <td>11535</td>\n",
       "      <td>False</td>\n",
       "    </tr>\n",
       "    <tr>\n",
       "      <th>4</th>\n",
       "      <td>4325.0</td>\n",
       "      <td>26779</td>\n",
       "      <td>False</td>\n",
       "    </tr>\n",
       "    <tr>\n",
       "      <th>...</th>\n",
       "      <td>...</td>\n",
       "      <td>...</td>\n",
       "      <td>...</td>\n",
       "    </tr>\n",
       "    <tr>\n",
       "      <th>188473</th>\n",
       "      <td>7166.0</td>\n",
       "      <td>29532</td>\n",
       "      <td>False</td>\n",
       "    </tr>\n",
       "    <tr>\n",
       "      <th>188474</th>\n",
       "      <td>5634.0</td>\n",
       "      <td>34242</td>\n",
       "      <td>False</td>\n",
       "    </tr>\n",
       "    <tr>\n",
       "      <th>188475</th>\n",
       "      <td>5602.0</td>\n",
       "      <td>23341</td>\n",
       "      <td>False</td>\n",
       "    </tr>\n",
       "    <tr>\n",
       "      <th>188476</th>\n",
       "      <td>9216.0</td>\n",
       "      <td>26242</td>\n",
       "      <td>False</td>\n",
       "    </tr>\n",
       "    <tr>\n",
       "      <th>188477</th>\n",
       "      <td>4148.0</td>\n",
       "      <td>27045</td>\n",
       "      <td>False</td>\n",
       "    </tr>\n",
       "  </tbody>\n",
       "</table>\n",
       "<p>188478 rows × 3 columns</p>\n",
       "</div>"
      ],
      "text/plain": [
       "        Predicted   Real  Success\n",
       "0          2284.0  35220    False\n",
       "1          8479.0  27987    False\n",
       "2          8690.0  12675    False\n",
       "3          8690.0  11535    False\n",
       "4          4325.0  26779    False\n",
       "...           ...    ...      ...\n",
       "188473     7166.0  29532    False\n",
       "188474     5634.0  34242    False\n",
       "188475     5602.0  23341    False\n",
       "188476     9216.0  26242    False\n",
       "188477     4148.0  27045    False\n",
       "\n",
       "[188478 rows x 3 columns]"
      ]
     },
     "execution_count": 85,
     "metadata": {},
     "output_type": "execute_result"
    }
   ],
   "source": [
    "y_hat['Real'] = y_test\n",
    "y_hat.columns = ['Predicted', 'Real']\n",
    "y_hat = y_hat.round({'Predicted': 0})\n",
    "y_hat['Success'] = y_hat.Predicted == y_hat.Real\n",
    "y_hat"
   ]
  },
  {
   "cell_type": "code",
   "execution_count": 90,
   "metadata": {},
   "outputs": [
    {
     "data": {
      "text/plain": [
       "False    188478\n",
       "Name: Success, dtype: int64"
      ]
     },
     "execution_count": 90,
     "metadata": {},
     "output_type": "execute_result"
    }
   ],
   "source": [
    "y_hat['Success'].value_counts()"
   ]
  },
  {
   "cell_type": "markdown",
   "metadata": {},
   "source": [
    "### As we see linear models not very effective for multiclass header predictions\n",
    "\n",
    "I think VW not very useful in this case"
   ]
  },
  {
   "cell_type": "code",
   "execution_count": null,
   "metadata": {
    "collapsed": true
   },
   "outputs": [],
   "source": []
  }
 ],
 "metadata": {
  "kernelspec": {
   "display_name": "Python 3",
   "language": "python",
   "name": "python3"
  },
  "language_info": {
   "codemirror_mode": {
    "name": "ipython",
    "version": 3
   },
   "file_extension": ".py",
   "mimetype": "text/x-python",
   "name": "python",
   "nbconvert_exporter": "python",
   "pygments_lexer": "ipython3",
   "version": "3.6.1"
  }
 },
 "nbformat": 4,
 "nbformat_minor": 2
}

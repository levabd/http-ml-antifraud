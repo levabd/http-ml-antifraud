{
 "cells": [
  {
   "cell_type": "code",
   "execution_count": 2,
   "metadata": {},
   "outputs": [
    {
     "name": "stdout",
     "output_type": "stream",
     "text": [
      "Populating the interactive namespace from numpy and matplotlib\n"
     ]
    }
   ],
   "source": [
    "import pandas as pd\n",
    "import numpy as np\n",
    "\n",
    "import scipy.sparse\n",
    "import sklearn.feature_extraction\n",
    "\n",
    "import matplotlib.pylab as plt\n",
    "%matplotlib inline\n",
    "\n",
    "from tqdm import tqdm\n",
    "import platform\n",
    "\n",
    "pd.set_option(\"display.max_rows\", 10)\n",
    "pd.set_option('display.max_columns', 1100)\n",
    "\n",
    "import os\n",
    "\n",
    "%pylab inline\n",
    "warnings.filterwarnings('ignore')"
   ]
  },
  {
   "cell_type": "code",
   "execution_count": 3,
   "metadata": {},
   "outputs": [
    {
     "name": "stderr",
     "output_type": "stream",
     "text": [
      "  6%|▋         | 8/127 [00:06<01:54,  1.04it/s]"
     ]
    },
    {
     "name": "stdout",
     "output_type": "stream",
     "text": [
      "Shape: (185747, 3)\n"
     ]
    },
    {
     "name": "stderr",
     "output_type": "stream",
     "text": [
      "\n"
     ]
    },
    {
     "data": {
      "text/html": [
       "<div>\n",
       "<style>\n",
       "    .dataframe thead tr:only-child th {\n",
       "        text-align: right;\n",
       "    }\n",
       "\n",
       "    .dataframe thead th {\n",
       "        text-align: left;\n",
       "    }\n",
       "\n",
       "    .dataframe tbody tr th {\n",
       "        vertical-align: top;\n",
       "    }\n",
       "</style>\n",
       "<table border=\"1\" class=\"dataframe\">\n",
       "  <thead>\n",
       "    <tr style=\"text-align: right;\">\n",
       "      <th></th>\n",
       "      <th>User_Agent</th>\n",
       "      <th>id</th>\n",
       "      <th>ip</th>\n",
       "    </tr>\n",
       "  </thead>\n",
       "  <tbody>\n",
       "    <tr>\n",
       "      <th>0</th>\n",
       "      <td>Mozilla/5.0 (Windows NT 5.1; rv:7.0.1) Gecko/2...</td>\n",
       "      <td>1487714409</td>\n",
       "      <td>87.236.194.115</td>\n",
       "    </tr>\n",
       "    <tr>\n",
       "      <th>1</th>\n",
       "      <td>Mozilla/5.0 (Windows NT 5.1; rv:7.0.1) Gecko/2...</td>\n",
       "      <td>1487714409</td>\n",
       "      <td>109.201.133.100</td>\n",
       "    </tr>\n",
       "    <tr>\n",
       "      <th>2</th>\n",
       "      <td>HybridBot (hybrid.ru/about. If our bot caused ...</td>\n",
       "      <td>1487714425</td>\n",
       "      <td>212.8.236.60</td>\n",
       "    </tr>\n",
       "    <tr>\n",
       "      <th>3</th>\n",
       "      <td>NaN</td>\n",
       "      <td>1487714479</td>\n",
       "      <td>192.151.150.42</td>\n",
       "    </tr>\n",
       "    <tr>\n",
       "      <th>4</th>\n",
       "      <td>NaN</td>\n",
       "      <td>1487714482</td>\n",
       "      <td>192.151.150.42</td>\n",
       "    </tr>\n",
       "  </tbody>\n",
       "</table>\n",
       "</div>"
      ],
      "text/plain": [
       "                                          User_Agent          id  \\\n",
       "0  Mozilla/5.0 (Windows NT 5.1; rv:7.0.1) Gecko/2...  1487714409   \n",
       "1  Mozilla/5.0 (Windows NT 5.1; rv:7.0.1) Gecko/2...  1487714409   \n",
       "2  HybridBot (hybrid.ru/about. If our bot caused ...  1487714425   \n",
       "3                                                NaN  1487714479   \n",
       "4                                                NaN  1487714482   \n",
       "\n",
       "                ip  \n",
       "0   87.236.194.115  \n",
       "1  109.201.133.100  \n",
       "2     212.8.236.60  \n",
       "3   192.151.150.42  \n",
       "4   192.151.150.42  "
      ]
     },
     "execution_count": 3,
     "metadata": {},
     "output_type": "execute_result"
    }
   ],
   "source": [
    "from logParser import ParseLogsFromFolder\n",
    "\n",
    "main_data, values_data, order_data = ParseLogsFromFolder('Logs/', 0, 10, only_order=False)\n",
    "\n",
    "main = pd.DataFrame(main_data)\n",
    "del(main_data)\n",
    "del(values_data)\n",
    "print('Shape: ' + str(main.shape))\n",
    "main.head()"
   ]
  },
  {
   "cell_type": "code",
   "execution_count": 5,
   "metadata": {
    "collapsed": true
   },
   "outputs": [],
   "source": [
    "main_top_100 = main[main.User_Agent.isin(main.User_Agent.value_counts()[:100].index)]\n",
    "#del(main)\n",
    "\n",
    "top_ua = main.User_Agent.value_counts()[:100].index.tolist()\n",
    "\n",
    "orders_vectorizer = sklearn.feature_extraction.DictVectorizer(sparse=True, dtype=float)\n",
    "sparse_orders = orders_vectorizer.fit_transform(order_data).astype(np.int8)\n",
    "del(order_data)"
   ]
  },
  {
   "cell_type": "markdown",
   "metadata": {},
   "source": [
    "## Dummy Features Preparation"
   ]
  },
  {
   "cell_type": "code",
   "execution_count": 6,
   "metadata": {},
   "outputs": [
    {
     "name": "stderr",
     "output_type": "stream",
     "text": [
      "100%|██████████| 113512/113512 [03:44<00:00, 504.74it/s]\n"
     ]
    }
   ],
   "source": [
    "sparse_orders_top_100 = sparse_orders[main_top_100.index]\n",
    "from itertools import combinations\n",
    "\n",
    "pairs_dict_list = []\n",
    "for row_index in tqdm(range(sparse_orders_top_100.shape[0]), mininterval=2):\n",
    "    pairs_dict = {}\n",
    "    for pair_first, pair_second in combinations(sparse_orders_top_100[row_index].indices, 2):\n",
    "        name_first = orders_vectorizer.feature_names_[pair_first]\n",
    "        name_second = orders_vectorizer.feature_names_[pair_second]\n",
    "        if sparse_orders_top_100[row_index, pair_first] < sparse_orders_top_100[row_index, pair_second]:\n",
    "            pairs_dict['{0} < {1}'.format(name_first, name_second)] = 1\n",
    "        else:\n",
    "            pairs_dict['{0} < {1}'.format(name_second, name_first)] = 1\n",
    "    pairs_dict_list.append(pairs_dict)"
   ]
  },
  {
   "cell_type": "code",
   "execution_count": 1,
   "metadata": {},
   "outputs": [
    {
     "ename": "NameError",
     "evalue": "name 'sklearn' is not defined",
     "output_type": "error",
     "traceback": [
      "\u001b[0;31m---------------------------------------------------------------------------\u001b[0m",
      "\u001b[0;31mNameError\u001b[0m                                 Traceback (most recent call last)",
      "\u001b[0;32m<ipython-input-1-1365c37d7c2c>\u001b[0m in \u001b[0;36m<module>\u001b[0;34m()\u001b[0m\n\u001b[0;32m----> 1\u001b[0;31m \u001b[0mdummy_vectorizer\u001b[0m \u001b[0;34m=\u001b[0m \u001b[0msklearn\u001b[0m\u001b[0;34m.\u001b[0m\u001b[0mfeature_extraction\u001b[0m\u001b[0;34m.\u001b[0m\u001b[0mDictVectorizer\u001b[0m\u001b[0;34m(\u001b[0m\u001b[0msparse\u001b[0m\u001b[0;34m=\u001b[0m\u001b[0;32mTrue\u001b[0m\u001b[0;34m,\u001b[0m \u001b[0mdtype\u001b[0m\u001b[0;34m=\u001b[0m\u001b[0mfloat\u001b[0m\u001b[0;34m)\u001b[0m\u001b[0;34m\u001b[0m\u001b[0m\n\u001b[0m\u001b[1;32m      2\u001b[0m \u001b[0msparse_dummy\u001b[0m \u001b[0;34m=\u001b[0m \u001b[0mdummy_vectorizer\u001b[0m\u001b[0;34m.\u001b[0m\u001b[0mfit_transform\u001b[0m\u001b[0;34m(\u001b[0m\u001b[0mpairs_dict_list\u001b[0m\u001b[0;34m)\u001b[0m\u001b[0;34m.\u001b[0m\u001b[0mastype\u001b[0m\u001b[0;34m(\u001b[0m\u001b[0mnp\u001b[0m\u001b[0;34m.\u001b[0m\u001b[0mint8\u001b[0m\u001b[0;34m)\u001b[0m\u001b[0;34m\u001b[0m\u001b[0m\n\u001b[1;32m      3\u001b[0m \u001b[0mprint\u001b[0m\u001b[0;34m(\u001b[0m\u001b[0mtype\u001b[0m\u001b[0;34m(\u001b[0m\u001b[0msparse_dummy\u001b[0m\u001b[0;34m)\u001b[0m\u001b[0;34m)\u001b[0m\u001b[0;34m\u001b[0m\u001b[0m\n\u001b[1;32m      4\u001b[0m \u001b[0mprint\u001b[0m\u001b[0;34m(\u001b[0m\u001b[0;34m'Sparse dummy shape: \\n{0}'\u001b[0m\u001b[0;34m.\u001b[0m\u001b[0mformat\u001b[0m\u001b[0;34m(\u001b[0m\u001b[0msparse_dummy\u001b[0m\u001b[0;34m.\u001b[0m\u001b[0mshape\u001b[0m\u001b[0;34m)\u001b[0m\u001b[0;34m)\u001b[0m\u001b[0;34m\u001b[0m\u001b[0m\n\u001b[1;32m      5\u001b[0m \u001b[0mprint\u001b[0m\u001b[0;34m(\u001b[0m\u001b[0;34m'User Agent shape: \\n{0}'\u001b[0m\u001b[0;34m.\u001b[0m\u001b[0mformat\u001b[0m\u001b[0;34m(\u001b[0m\u001b[0mmain_top_100\u001b[0m\u001b[0;34m.\u001b[0m\u001b[0mUser_Agent\u001b[0m\u001b[0;34m.\u001b[0m\u001b[0mshape\u001b[0m\u001b[0;34m)\u001b[0m\u001b[0;34m)\u001b[0m\u001b[0;34m\u001b[0m\u001b[0m\n",
      "\u001b[0;31mNameError\u001b[0m: name 'sklearn' is not defined"
     ]
    }
   ],
   "source": [
    "dummy_vectorizer = sklearn.feature_extraction.DictVectorizer(sparse=True, dtype=float)\n",
    "sparse_dummy = dummy_vectorizer.fit_transform(pairs_dict_list).astype(np.int8)\n",
    "print(type(sparse_dummy))\n",
    "print('Sparse dummy shape: \\n{0}'.format(sparse_dummy.shape))\n",
    "print('User Agent shape: \\n{0}'.format(main_top_100.User_Agent.shape))"
   ]
  },
  {
   "cell_type": "markdown",
   "metadata": {},
   "source": [
    "## TF-IDF Features Preparation"
   ]
  },
  {
   "cell_type": "code",
   "execution_count": 11,
   "metadata": {},
   "outputs": [
    {
     "name": "stdout",
     "output_type": "stream",
     "text": [
      "(113512, 780)\n",
      "<class 'scipy.sparse.csr.csr_matrix'>\n"
     ]
    }
   ],
   "source": [
    "tf_idf_vectorizer = sklearn.feature_extraction.text.TfidfTransformer()\n",
    "tf_idf = tf_idf_vectorizer.fit_transform(sparse_dummy)\n",
    "print(tf_idf.shape)\n",
    "print(type(tf_idf))"
   ]
  },
  {
   "cell_type": "markdown",
   "metadata": {},
   "source": [
    "## Merged Features"
   ]
  },
  {
   "cell_type": "code",
   "execution_count": 23,
   "metadata": {
    "collapsed": true
   },
   "outputs": [],
   "source": [
    "from scipy.sparse import hstack\n",
    "merged = hstack((sparse_dummy, tf_idf)).tocsr()"
   ]
  },
  {
   "cell_type": "code",
   "execution_count": 24,
   "metadata": {},
   "outputs": [
    {
     "name": "stdout",
     "output_type": "stream",
     "text": [
      "Sparse dummy: \n",
      "  (0, 0)\t1\n",
      "  (0, 64)\t1\n",
      "  (0, 65)\t1\n",
      "  (0, 66)\t1\n",
      "  (0, 116)\t1\n",
      "  (0, 117)\t1\n",
      "Sparse tf-idf: \n",
      "  (0, 117)\t0.475177018993\n",
      "  (0, 116)\t0.418039527723\n",
      "  (0, 66)\t0.254858386256\n",
      "  (0, 65)\t0.474763342134\n",
      "  (0, 64)\t0.301955604503\n",
      "  (0, 0)\t0.466818528673\n",
      "Merged: \n",
      "  (0, 0)\t1.0\n",
      "  (0, 64)\t1.0\n",
      "  (0, 65)\t1.0\n",
      "  (0, 66)\t1.0\n",
      "  (0, 116)\t1.0\n",
      "  (0, 117)\t1.0\n",
      "  (0, 780)\t0.466818528673\n",
      "  (0, 844)\t0.301955604503\n",
      "  (0, 845)\t0.474763342134\n",
      "  (0, 846)\t0.254858386256\n",
      "  (0, 896)\t0.418039527723\n",
      "  (0, 897)\t0.475177018993\n"
     ]
    }
   ],
   "source": [
    "print('Sparse dummy: \\n{0}'.format(sparse_dummy[:1]))\n",
    "print('Sparse tf-idf: \\n{0}'.format(tf_idf[:1]))\n",
    "print('Merged: \\n{0}'.format(merged[:1]))"
   ]
  },
  {
   "cell_type": "markdown",
   "metadata": {},
   "source": [
    "## Build cross-val predictions and comparison"
   ]
  },
  {
   "cell_type": "code",
   "execution_count": 15,
   "metadata": {},
   "outputs": [
    {
     "data": {
      "text/plain": [
       "(113512, 100)"
      ]
     },
     "execution_count": 15,
     "metadata": {},
     "output_type": "execute_result"
    }
   ],
   "source": [
    "from sklearn.model_selection import GridSearchCV, cross_val_predict, cross_val_score, train_test_split, KFold\n",
    "from sklearn.linear_model import LogisticRegression\n",
    "from sklearn.metrics import roc_auc_score, roc_curve, f1_score, make_scorer\n",
    "from sklearn.multiclass import OneVsRestClassifier\n",
    "from sklearn import preprocessing\n",
    "\n",
    "lb = preprocessing.LabelBinarizer()\n",
    "lb.fit(top_ua)\n",
    "y = lb.transform(main_top_100.User_Agent)\n",
    "y.shape"
   ]
  },
  {
   "cell_type": "code",
   "execution_count": 157,
   "metadata": {},
   "outputs": [
    {
     "data": {
      "text/plain": [
       "{'auto_stop_pval': 0,\n",
       " 'depth': 6,\n",
       " 'feature_border_type': 'MinEntropy',\n",
       " 'has_time': False,\n",
       " 'iterations': 100,\n",
       " 'l2_leaf_reg': 3,\n",
       " 'learning_rate': 0.03,\n",
       " 'loss_function': 'Logloss',\n",
       " 'name': 'experiment',\n",
       " 'random_strength': 1,\n",
       " 'rsm': 1,\n",
       " 'store_all_simple_ctr': False,\n",
       " 'use_best_model': False,\n",
       " 'verbose': False}"
      ]
     },
     "execution_count": 157,
     "metadata": {},
     "output_type": "execute_result"
    }
   ],
   "source": [
    "cb_clf.estimator.get_params()"
   ]
  },
  {
   "cell_type": "code",
   "execution_count": 161,
   "metadata": {},
   "outputs": [
    {
     "name": "stdout",
     "output_type": "stream",
     "text": [
      "{'name': 'experiment', 'random_strength': 1, 'has_time': False, 'store_all_simple_ctr': False, 'verbose': False, 'use_best_model': False, 'auto_stop_pval': 0, 'feature_border_type': 'MinEntropy', 'loss_function': 'Logloss', 'rsm': 1, 'l2_leaf_reg': 3, 'depth': 3, 'learning_rate': 1, 'iterations': 10}\n",
      "CPU times: user 3h 19min 48s, sys: 4min 36s, total: 3h 24min 24s\n",
      "Wall time: 1h 33min 5s\n"
     ]
    }
   ],
   "source": [
    "from catboost import CatBoostClassifier\n",
    "cb_clf = OneVsRestClassifier(CatBoostClassifier(iterations=10, depth=3, learning_rate=1))\n",
    "print(cb_clf.estimator.get_params())\n",
    "%time y_hat_dummy = cross_val_predict(cb_clf, sparse_dummy.toarray(), y, method='predict_proba')"
   ]
  },
  {
   "cell_type": "code",
   "execution_count": 164,
   "metadata": {},
   "outputs": [
    {
     "name": "stdout",
     "output_type": "stream",
     "text": [
      "0.7796532525195574 7.60654380154\n",
      "0.9474416801747833 7.95218126718\n"
     ]
    }
   ],
   "source": [
    "print(thresholded_score(0.0083, y, y_hat_dummy),  mean_answers(0.0083, y_hat_dummy))\n",
    "print(thresholded_score(0.0083, y, y_hat_tf_idf), mean_answers(0.0083, y_hat_tf_idf))"
   ]
  },
  {
   "cell_type": "code",
   "execution_count": 17,
   "metadata": {},
   "outputs": [
    {
     "name": "stdout",
     "output_type": "stream",
     "text": [
      "CPU times: user 1.66 s, sys: 591 ms, total: 2.26 s\n",
      "Wall time: 2min 25s\n",
      "CPU times: user 1.57 s, sys: 745 ms, total: 2.32 s\n",
      "Wall time: 1min 36s\n"
     ]
    }
   ],
   "source": [
    "clf = OneVsRestClassifier(LogisticRegression(C=100))\n",
    "%time y_hat_dummy = cross_val_predict(clf, sparse_dummy, y, method='predict_proba', n_jobs=-1)\n",
    "\n",
    "tf_clf = OneVsRestClassifier(LogisticRegression(C=100))\n",
    "%time y_hat_tf_idf = cross_val_predict(tf_clf, tf_idf, y, method='predict_proba', n_jobs=-1)"
   ]
  },
  {
   "cell_type": "code",
   "execution_count": 25,
   "metadata": {},
   "outputs": [
    {
     "name": "stdout",
     "output_type": "stream",
     "text": [
      "CPU times: user 2.02 s, sys: 1.01 s, total: 3.03 s\n",
      "Wall time: 3min 49s\n"
     ]
    }
   ],
   "source": [
    "merged_clf = OneVsRestClassifier(LogisticRegression(C=100))\n",
    "%time y_hat_merged = cross_val_predict(merged_clf, merged, y, method='predict_proba', n_jobs=-1)"
   ]
  },
  {
   "cell_type": "code",
   "execution_count": 107,
   "metadata": {
    "collapsed": true
   },
   "outputs": [],
   "source": [
    "def get_f1_score(alpha, y, y_hat):\n",
    "    return f1_score(y, (y_hat > alpha).astype('int'), average='samples')\n",
    "\n",
    "def mean_answers(alpha, y_cross_val):\n",
    "    return np.mean([len(list(filter(lambda i: i>alpha, y_obs))) for y_obs in y_cross_val])\n",
    "\n",
    "def thresholded_score(alpha, y, y_cross_val):\n",
    "    \"\"\"\n",
    "    :param alpha: Threshold\n",
    "    :param y: y sample\n",
    "    :param y_cross_val: y from cross_val_predict\n",
    "    :return: true if at least one predicted User Agent equal true User Agent\n",
    "    \"\"\"\n",
    "    correct_answers = 0\n",
    "    for y_index, y_label in enumerate(np.argmax(y, axis=1)):\n",
    "        if y_label in np.argwhere(y_cross_val[y_index] > alpha):\n",
    "            correct_answers += 1\n",
    "\n",
    "    return correct_answers / len(y)"
   ]
  },
  {
   "cell_type": "code",
   "execution_count": 26,
   "metadata": {},
   "outputs": [
    {
     "name": "stderr",
     "output_type": "stream",
     "text": [
      "100%|██████████| 51/51 [00:49<00:00,  1.06it/s]\n"
     ]
    }
   ],
   "source": [
    "threshold_grid = np.linspace(0, 0.5, 51)\n",
    "dummy_f1 = [get_f1_score(alpha, y, y_hat_dummy) for alpha in tqdm(threshold_grid)]\n",
    "tf_idf_f1 = [get_f1_score(alpha, y, y_hat_tf_idf) for alpha in tqdm(threshold_grid)]\n",
    "merged_f1 = [get_f1_score(alpha, y, y_hat_merged) for alpha in tqdm(threshold_grid)]"
   ]
  },
  {
   "cell_type": "code",
   "execution_count": 29,
   "metadata": {},
   "outputs": [
    {
     "data": {
      "image/png": "[encoded data removed]",
      "text/plain": [
       "<matplotlib.figure.Figure at 0x7f600dcbfba8>"
      ]
     },
     "metadata": {},
     "output_type": "display_data"
    }
   ],
   "source": [
    "plt.figure(figsize=(16,4))\n",
    "plt.plot(threshold_grid[1:], dummy_f1[1:], '-p', label='dummy')\n",
    "plt.plot(threshold_grid[1:], tf_idf_f1[1:], '-p', label='tf-idf')\n",
    "plt.plot(threshold_grid[1:], merged_f1[1:], '-p', label='merged')\n",
    "plt.title('F1-score comparison')\n",
    "plt.ylabel('F1-score')\n",
    "plt.xlabel('threshold')\n",
    "plt.legend()\n",
    "plt.show()"
   ]
  },
  {
   "cell_type": "code",
   "execution_count": 52,
   "metadata": {},
   "outputs": [
    {
     "name": "stdout",
     "output_type": "stream",
     "text": [
      "0.9474416801747833 7.95218126718\n",
      "0.7394196208330397 1.76797166819\n",
      "0.5939548241595602 0.716488124604\n"
     ]
    }
   ],
   "source": [
    "print(thresholded_score(0.0083, y, y_hat_tf_idf), mean_answers(0.0083, y_hat_tf_idf))\n",
    "print(thresholded_score(0.08, y, y_hat_tf_idf), mean_answers(0.08, y_hat_tf_idf))\n",
    "print(thresholded_score(0.5, y, y_hat_tf_idf), mean_answers(0.5, y_hat_tf_idf))"
   ]
  },
  {
   "cell_type": "code",
   "execution_count": 31,
   "metadata": {},
   "outputs": [
    {
     "name": "stderr",
     "output_type": "stream",
     "text": [
      "100%|██████████| 41/41 [02:47<00:00,  4.05s/it]\n",
      "100%|██████████| 41/41 [02:50<00:00,  4.32s/it]\n",
      "100%|██████████| 41/41 [02:54<00:00,  4.28s/it]\n"
     ]
    }
   ],
   "source": [
    "threshold_grid = np.linspace(0, 0.4, 41)\n",
    "dummy_threshold_score = [thresholded_score(alpha, y, y_hat_dummy) for alpha in tqdm(threshold_grid)]\n",
    "tf_idf_threshold_score = [thresholded_score(alpha, y, y_hat_tf_idf) for alpha in tqdm(threshold_grid)]\n",
    "merged_threshold_score = [thresholded_score(alpha, y, y_hat_merged) for alpha in tqdm(threshold_grid)]"
   ]
  },
  {
   "cell_type": "code",
   "execution_count": 32,
   "metadata": {},
   "outputs": [
    {
     "data": {
      "image/png": "[encoded data removed]",
      "text/plain": [
       "<matplotlib.figure.Figure at 0x7f60085db8d0>"
      ]
     },
     "metadata": {},
     "output_type": "display_data"
    }
   ],
   "source": [
    "plt.figure(figsize=(16,4))\n",
    "plt.plot(threshold_grid[1:], dummy_threshold_score[1:], '-p', label='dummy')\n",
    "plt.plot(threshold_grid[1:], tf_idf_threshold_score[1:], '-p', label='tf-idf')\n",
    "plt.plot(threshold_grid[1:], merged_threshold_score[1:], '-p', label='merged')\n",
    "\n",
    "plt.title('Threshold accuracy comparison')\n",
    "plt.ylabel('Accuracy')\n",
    "plt.xlabel('threshold')\n",
    "plt.legend()\n",
    "plt.show()"
   ]
  },
  {
   "cell_type": "code",
   "execution_count": 108,
   "metadata": {},
   "outputs": [
    {
     "name": "stderr",
     "output_type": "stream",
     "text": [
      "100%|██████████| 41/41 [02:24<00:00,  3.42s/it]\n",
      "100%|██████████| 41/41 [02:22<00:00,  3.45s/it]\n",
      "100%|██████████| 41/41 [02:22<00:00,  3.41s/it]\n"
     ]
    }
   ],
   "source": [
    "threshold_grid = np.linspace(0, 0.4, 41)\n",
    "dummy_mean_answers = [mean_answers(alpha, y_hat_dummy) for alpha in tqdm(threshold_grid)]\n",
    "tf_idf_mean_answers = [mean_answers(alpha, y_hat_tf_idf) for alpha in tqdm(threshold_grid)]\n",
    "merged_mean_answers = [mean_answers(alpha, y_hat_merged) for alpha in tqdm(threshold_grid)]"
   ]
  },
  {
   "cell_type": "code",
   "execution_count": 109,
   "metadata": {},
   "outputs": [
    {
     "data": {
      "image/png": "[encoded data removed]",
      "text/plain": [
       "<matplotlib.figure.Figure at 0x7f600adcd048>"
      ]
     },
     "metadata": {},
     "output_type": "display_data"
    }
   ],
   "source": [
    "plt.figure(figsize=(16,4))\n",
    "plt.plot(threshold_grid[1:], dummy_mean_answers[1:], label='dummy')\n",
    "plt.plot(threshold_grid[1:], tf_idf_mean_answers[1:], label='dummy')\n",
    "plt.plot(threshold_grid[1:], merged_mean_answers[1:], label='dummy')\n",
    "plt.title('Mean answers comparison')\n",
    "plt.xlabel('threshold')\n",
    "plt.ylabel('mean answers count')\n",
    "plt.show()"
   ]
  },
  {
   "cell_type": "code",
   "execution_count": 111,
   "metadata": {},
   "outputs": [
    {
     "name": "stdout",
     "output_type": "stream",
     "text": [
      "0.7288920995137078 1.62241877511\n",
      "0.7291740080343928 1.65876735499\n",
      "0.7296585383043203 1.65103248996\n"
     ]
    }
   ],
   "source": [
    "t = 0.1\n",
    "print(thresholded_score(t, y, y_hat_tf_idf), mean_answers(t, y_hat_tf_idf))\n",
    "print(thresholded_score(t, y, y_hat_dummy), mean_answers(t, y_hat_dummy))\n",
    "print(thresholded_score(t, y, y_hat_merged), mean_answers(t, y_hat_merged))"
   ]
  },
  {
   "cell_type": "code",
   "execution_count": 112,
   "metadata": {},
   "outputs": [
    {
     "name": "stdout",
     "output_type": "stream",
     "text": [
      "0.9474416801747833 7.95218126718\n",
      "0.9439706815138488 7.87966030023\n",
      "0.9438385368947776 7.87765170202\n"
     ]
    }
   ],
   "source": [
    "t = 0.0083\n",
    "print(thresholded_score(t, y, y_hat_tf_idf), mean_answers(t, y_hat_tf_idf))\n",
    "print(thresholded_score(t, y, y_hat_dummy), mean_answers(t, y_hat_dummy))\n",
    "print(thresholded_score(t, y, y_hat_merged), mean_answers(t, y_hat_merged))"
   ]
  },
  {
   "cell_type": "markdown",
   "metadata": {},
   "source": [
    "## PCA"
   ]
  },
  {
   "cell_type": "code",
   "execution_count": 115,
   "metadata": {},
   "outputs": [
    {
     "data": {
      "text/plain": [
       "(113512, 780)"
      ]
     },
     "execution_count": 115,
     "metadata": {},
     "output_type": "execute_result"
    }
   ],
   "source": [
    "tf_idf.shape"
   ]
  },
  {
   "cell_type": "code",
   "execution_count": 116,
   "metadata": {
    "collapsed": true
   },
   "outputs": [],
   "source": [
    "tf_idf_dense = tf_idf.todense()"
   ]
  },
  {
   "cell_type": "code",
   "execution_count": 118,
   "metadata": {},
   "outputs": [
    {
     "data": {
      "text/plain": [
       "(113512, 20)"
      ]
     },
     "execution_count": 118,
     "metadata": {},
     "output_type": "execute_result"
    }
   ],
   "source": [
    "from sklearn.decomposition import PCA\n",
    "pca = PCA(n_components=20)\n",
    "pca_tf_idf = pca.fit_transform(tf_idf_dense)\n",
    "pca_tf_idf.shape"
   ]
  },
  {
   "cell_type": "code",
   "execution_count": 119,
   "metadata": {},
   "outputs": [
    {
     "name": "stdout",
     "output_type": "stream",
     "text": [
      "CPU times: user 1.69 s, sys: 943 ms, total: 2.63 s\n",
      "Wall time: 1min 54s\n"
     ]
    }
   ],
   "source": [
    "pca_clf = OneVsRestClassifier(LogisticRegression(C=100))\n",
    "%time y_hat_pca = cross_val_predict(pca_clf, pca_tf_idf, y, method='predict_proba', n_jobs=-1)"
   ]
  },
  {
   "cell_type": "code",
   "execution_count": 120,
   "metadata": {},
   "outputs": [
    {
     "name": "stdout",
     "output_type": "stream",
     "text": [
      "0.6986838395940518 1.61700084573\n"
     ]
    }
   ],
   "source": [
    "t = 0.1\n",
    "print(thresholded_score(t, y, y_hat_pca), mean_answers(t, y_hat_pca))"
   ]
  },
  {
   "cell_type": "code",
   "execution_count": 121,
   "metadata": {},
   "outputs": [
    {
     "name": "stdout",
     "output_type": "stream",
     "text": [
      "0.568087368149\n"
     ]
    }
   ],
   "source": [
    "print (get_f1_score(alpha=t, y=y, y_hat=y_hat_pca))"
   ]
  },
  {
   "cell_type": "code",
   "execution_count": 123,
   "metadata": {},
   "outputs": [
    {
     "name": "stdout",
     "output_type": "stream",
     "text": [
      "CPU times: user 2.46 s, sys: 1.46 s, total: 3.92 s\n",
      "Wall time: 4min 54s\n"
     ]
    }
   ],
   "source": [
    "merged_pca = hstack((sparse_dummy, pca_tf_idf)).tocsr()\n",
    "merged_pca_clf = OneVsRestClassifier(LogisticRegression(C=100))\n",
    "%time y_hat_merged_pca = cross_val_predict(merged_pca_clf, merged_pca, y, method='predict_proba', n_jobs=-1)"
   ]
  },
  {
   "cell_type": "code",
   "execution_count": 126,
   "metadata": {},
   "outputs": [
    {
     "name": "stdout",
     "output_type": "stream",
     "text": [
      "0.7288920995137078 1.62241877511\n",
      "0.7291740080343928 1.65876735499\n",
      "0.7296585383043203 1.65103248996\n",
      "0.729200436958207 1.65178130947\n"
     ]
    }
   ],
   "source": [
    "t = 0.1\n",
    "print(thresholded_score(t, y, y_hat_tf_idf), mean_answers(t, y_hat_tf_idf))\n",
    "print(thresholded_score(t, y, y_hat_dummy), mean_answers(t, y_hat_dummy))\n",
    "print(thresholded_score(t, y, y_hat_merged), mean_answers(t, y_hat_merged))\n",
    "print(thresholded_score(t, y, y_hat_merged_pca), mean_answers(t, y_hat_merged_pca))"
   ]
  },
  {
   "cell_type": "code",
   "execution_count": 125,
   "metadata": {},
   "outputs": [
    {
     "name": "stdout",
     "output_type": "stream",
     "text": [
      "0.9474416801747833 7.95218126718\n",
      "0.9439706815138488 7.87966030023\n",
      "0.9438385368947776 7.87765170202\n",
      "0.9440059200789344 7.87695574036\n"
     ]
    }
   ],
   "source": [
    "t = 0.0083\n",
    "print(thresholded_score(t, y, y_hat_tf_idf), mean_answers(t, y_hat_tf_idf))\n",
    "print(thresholded_score(t, y, y_hat_dummy), mean_answers(t, y_hat_dummy))\n",
    "print(thresholded_score(t, y, y_hat_merged), mean_answers(t, y_hat_merged))\n",
    "print(thresholded_score(t, y, y_hat_merged_pca), mean_answers(t, y_hat_merged_pca))"
   ]
  },
  {
   "cell_type": "markdown",
   "metadata": {},
   "source": [
    "## Naive Bayes"
   ]
  },
  {
   "cell_type": "code",
   "execution_count": 131,
   "metadata": {},
   "outputs": [
    {
     "data": {
      "text/plain": [
       "scipy.sparse.csr.csr_matrix"
      ]
     },
     "execution_count": 131,
     "metadata": {},
     "output_type": "execute_result"
    }
   ],
   "source": [
    "type(merged_pca)"
   ]
  },
  {
   "cell_type": "code",
   "execution_count": 132,
   "metadata": {},
   "outputs": [
    {
     "name": "stdout",
     "output_type": "stream",
     "text": [
      "  (0, 0)\t1.0\n",
      "  (0, 64)\t1.0\n",
      "  (0, 65)\t1.0\n",
      "  (0, 66)\t1.0\n",
      "  (0, 116)\t1.0\n",
      "  (0, 117)\t1.0\n",
      "  (0, 780)\t-0.23797751544\n",
      "  (0, 781)\t0.174043103131\n",
      "  (0, 782)\t0.254797741096\n",
      "  (0, 783)\t0.838218646493\n",
      "  (0, 784)\t-0.0710474229814\n",
      "  (0, 785)\t-0.202299420578\n",
      "  (0, 786)\t0.0292785051366\n",
      "  (0, 787)\t-0.00432150488822\n",
      "  (0, 788)\t0.0471003796121\n",
      "  (0, 789)\t-0.00823344779755\n",
      "  (0, 790)\t0.0170656973588\n",
      "  (0, 791)\t-0.026728284163\n",
      "  (0, 792)\t0.0417455515195\n",
      "  (0, 793)\t-0.00838017885207\n",
      "  (0, 794)\t-0.00620228531239\n",
      "  (0, 795)\t-0.0309038500595\n",
      "  (0, 796)\t-0.00752583920674\n",
      "  (0, 797)\t0.0146896647993\n",
      "  (0, 798)\t-0.0300231066202\n",
      "  (0, 799)\t0.00495671365444\n"
     ]
    }
   ],
   "source": [
    "print(merged_pca[:1])"
   ]
  },
  {
   "cell_type": "code",
   "execution_count": null,
   "metadata": {
    "collapsed": true
   },
   "outputs": [],
   "source": [
    "from sklearn.naive_bayes import GaussianNB\n",
    "gaussian_clf = OneVsRestClassifier(GaussianNB())\n",
    "cross_val_predict(gaussian_clf, data_view, y, method='predict_proba', n_jobs=-1)"
   ]
  },
  {
   "cell_type": "code",
   "execution_count": 135,
   "metadata": {},
   "outputs": [
    {
     "name": "stdout",
     "output_type": "stream",
     "text": [
      "dummy\n",
      "CPU times: user 1.36 s, sys: 875 ms, total: 2.23 s\n",
      "Wall time: 7.18 s\n",
      "tf-idf\n",
      "CPU times: user 1.46 s, sys: 876 ms, total: 2.34 s\n",
      "Wall time: 7.69 s\n",
      "merged\n",
      "CPU times: user 1.54 s, sys: 857 ms, total: 2.39 s\n",
      "Wall time: 8.95 s\n"
     ]
    }
   ],
   "source": [
    "from sklearn.naive_bayes import MultinomialNB\n",
    "bayes_clf = OneVsRestClassifier(MultinomialNB())\n",
    "data = {'dummy': sparse_dummy,\n",
    "        'tf-idf': tf_idf,\n",
    "        'merged': merged,\n",
    "#         'merged_pca': merged_pca\n",
    "       }\n",
    "\n",
    "clf_labels = {}\n",
    "for data_name, data_view in data.items():\n",
    "    print(data_name)\n",
    "    %time clf_labels[data_name] = cross_val_predict(bayes_clf, data_view, y, method='predict_proba', n_jobs=-1)"
   ]
  },
  {
   "cell_type": "code",
   "execution_count": 137,
   "metadata": {},
   "outputs": [
    {
     "name": "stdout",
     "output_type": "stream",
     "text": [
      "dummy 0.9310381281274227 12.8112005779\n",
      "tf-idf 0.8770526464162379 10.7037758122\n",
      "merged 0.9338572133342731 12.7134487984\n"
     ]
    }
   ],
   "source": [
    "t = 0.0083\n",
    "for name, res in clf_labels.items():\n",
    "    print(name, thresholded_score(t, y, res), mean_answers(t, res))"
   ]
  },
  {
   "cell_type": "code",
   "execution_count": null,
   "metadata": {},
   "outputs": [
    {
     "name": "stdout",
     "output_type": "stream",
     "text": [
      "dummy\n",
      "CPU times: user 2.67 s, sys: 1.27 s, total: 3.94 s\n",
      "Wall time: 5min 3s\n",
      "tf-idf\n",
      "CPU times: user 7.61 s, sys: 2.65 s, total: 10.3 s\n",
      "Wall time: 4min 53s\n",
      "merged\n"
     ]
    }
   ],
   "source": [
    "from sklearn.naive_bayes import GaussianNB\n",
    "gauss_clf = OneVsRestClassifier(GaussianNB())\n",
    "data = {'dummy': sparse_dummy,\n",
    "        'tf-idf': tf_idf,\n",
    "        'merged': merged,\n",
    "#         'merged_pca': merged_pca\n",
    "       }\n",
    "\n",
    "clf_labels = {}\n",
    "for data_name, data_view in data.items():\n",
    "    print(data_name)\n",
    "    %time clf_labels[data_name] = cross_val_predict(gauss_clf, data_view.toarray(), y, method='predict_proba', n_jobs=-1)"
   ]
  },
  {
   "cell_type": "markdown",
   "metadata": {},
   "source": [
    "## Blending"
   ]
  }
 ],
 "metadata": {
  "kernelspec": {
   "display_name": "Python 3",
   "language": "python",
   "name": "python3"
  },
  "language_info": {
   "codemirror_mode": {
    "name": "ipython",
    "version": 3
   },
   "file_extension": ".py",
   "mimetype": "text/x-python",
   "name": "python",
   "nbconvert_exporter": "python",
   "pygments_lexer": "ipython3",
   "version": "3.6.1"
  }
 },
 "nbformat": 4,
 "nbformat_minor": 2
}

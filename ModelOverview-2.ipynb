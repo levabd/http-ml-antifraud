{
 "cells": [
  {
   "cell_type": "code",
   "execution_count": 2,
   "metadata": {},
   "outputs": [
    {
     "name": "stdout",
     "output_type": "stream",
     "text": [
      "Populating the interactive namespace from numpy and matplotlib\n"
     ]
    }
   ],
   "source": [
    "import pandas as pd\n",
    "import numpy as np\n",
    "\n",
    "import scipy.sparse\n",
    "import sklearn.feature_extraction\n",
    "\n",
    "# import matplotlib.pylab as plt\n",
    "%matplotlib inline\n",
    "\n",
    "from tqdm import tqdm\n",
    "import platform\n",
    "\n",
    "pd.set_option(\"display.max_rows\", 10)\n",
    "pd.set_option('display.max_columns', 1100)\n",
    "\n",
    "import os\n",
    "\n",
    "%pylab inline\n",
    "warnings.filterwarnings('ignore')"
   ]
  },
  {
   "cell_type": "markdown",
   "metadata": {},
   "source": [
    "### Loading data from logs"
   ]
  },
  {
   "cell_type": "code",
   "execution_count": 3,
   "metadata": {},
   "outputs": [
    {
     "name": "stderr",
     "output_type": "stream",
     "text": [
      "  8%|▊         | 10/127 [00:18<03:51,  1.98s/it]"
     ]
    },
    {
     "name": "stdout",
     "output_type": "stream",
     "text": [
      "Shape: (289269, 3)\n"
     ]
    },
    {
     "data": {
      "text/html": [
       "<div>\n",
       "<style>\n",
       "    .dataframe thead tr:only-child th {\n",
       "        text-align: right;\n",
       "    }\n",
       "\n",
       "    .dataframe thead th {\n",
       "        text-align: left;\n",
       "    }\n",
       "\n",
       "    .dataframe tbody tr th {\n",
       "        vertical-align: top;\n",
       "    }\n",
       "</style>\n",
       "<table border=\"1\" class=\"dataframe\">\n",
       "  <thead>\n",
       "    <tr style=\"text-align: right;\">\n",
       "      <th></th>\n",
       "      <th>User_Agent</th>\n",
       "      <th>id</th>\n",
       "      <th>ip</th>\n",
       "    </tr>\n",
       "  </thead>\n",
       "  <tbody>\n",
       "    <tr>\n",
       "      <th>0</th>\n",
       "      <td>Mozilla/5.0 (Windows NT 6.1) AppleWebKit/537.3...</td>\n",
       "      <td>1485900038</td>\n",
       "      <td>95.181.252.91</td>\n",
       "    </tr>\n",
       "    <tr>\n",
       "      <th>1</th>\n",
       "      <td>Mozilla/5.0 (compatible; bingbot/2.0; +http://...</td>\n",
       "      <td>1485900047</td>\n",
       "      <td>40.77.167.74</td>\n",
       "    </tr>\n",
       "    <tr>\n",
       "      <th>2</th>\n",
       "      <td>Mozilla/5.0 (Linux; Android 4.4.2; Zera S Buil...</td>\n",
       "      <td>1485900079</td>\n",
       "      <td>31.148.3.19</td>\n",
       "    </tr>\n",
       "    <tr>\n",
       "      <th>3</th>\n",
       "      <td>Mozilla/5.0 (Windows NT 6.1; WOW64; rv:51.0) G...</td>\n",
       "      <td>1485900103</td>\n",
       "      <td>188.162.183.66</td>\n",
       "    </tr>\n",
       "    <tr>\n",
       "      <th>4</th>\n",
       "      <td>Mozilla/4.0 (compatible; MSIE 8.0; Windows NT ...</td>\n",
       "      <td>1485900105</td>\n",
       "      <td>37.144.52.103</td>\n",
       "    </tr>\n",
       "  </tbody>\n",
       "</table>\n",
       "</div>"
      ],
      "text/plain": [
       "                                          User_Agent          id  \\\n",
       "0  Mozilla/5.0 (Windows NT 6.1) AppleWebKit/537.3...  1485900038   \n",
       "1  Mozilla/5.0 (compatible; bingbot/2.0; +http://...  1485900047   \n",
       "2  Mozilla/5.0 (Linux; Android 4.4.2; Zera S Buil...  1485900079   \n",
       "3  Mozilla/5.0 (Windows NT 6.1; WOW64; rv:51.0) G...  1485900103   \n",
       "4  Mozilla/4.0 (compatible; MSIE 8.0; Windows NT ...  1485900105   \n",
       "\n",
       "               ip  \n",
       "0   95.181.252.91  \n",
       "1    40.77.167.74  \n",
       "2     31.148.3.19  \n",
       "3  188.162.183.66  \n",
       "4   37.144.52.103  "
      ]
     },
     "execution_count": 3,
     "metadata": {},
     "output_type": "execute_result"
    }
   ],
   "source": [
    "from logParser import ParseLogsFromFolder\n",
    "\n",
    "main_data, values_data, order_data = ParseLogsFromFolder('Logs/', 0, 10, only_order=False)\n",
    "\n",
    "main = pd.DataFrame(main_data)\n",
    "del(main_data)\n",
    "# del(values_data)\n",
    "print('Shape: ' + str(main.shape))\n",
    "main.head()"
   ]
  },
  {
   "cell_type": "markdown",
   "metadata": {},
   "source": [
    "### Top User Agents Choosing"
   ]
  },
  {
   "cell_type": "code",
   "execution_count": 4,
   "metadata": {},
   "outputs": [],
   "source": [
    "main_top_100 = main[main.User_Agent.isin(main.User_Agent.value_counts()[:100].index)]\n",
    "\n",
    "top_ua = main.User_Agent.value_counts()[:100].index.tolist()"
   ]
  },
  {
   "cell_type": "markdown",
   "metadata": {},
   "source": [
    "### Value dummy preparation"
   ]
  },
  {
   "cell_type": "code",
   "execution_count": 5,
   "metadata": {},
   "outputs": [
    {
     "name": "stderr",
     "output_type": "stream",
     "text": [
      "\n",
      "  0%|          | 0/289269 [00:00<?, ?it/s]\u001b[A\n",
      " 52%|█████▏    | 151019/289269 [00:01<00:01, 125848.54it/s]\u001b[A\n",
      "100%|██████████| 289269/289269 [00:02<00:00, 142854.97it/s]\u001b[A"
     ]
    },
    {
     "name": "stdout",
     "output_type": "stream",
     "text": [
      "  (0, 81)\t1\n",
      "  (0, 337)\t1\n",
      "  (1, 72)\t1\n",
      "  (1, 107)\t1\n",
      "  (2, 72)\t1\n",
      "  (2, 271)\t1\n"
     ]
    }
   ],
   "source": [
    "good_value_keys = {'Accept', 'Accept-Encoding', 'Accept-Charset'}\n",
    "good_values_data = []\n",
    "for record in tqdm(values_data, mininterval=1.2):\n",
    "    good_values_data.append(\n",
    "        {key: value for key, value in record.items() if key in good_value_keys})\n",
    "del(values_data)\n",
    "\n",
    "values_vectorizer = sklearn.feature_extraction.DictVectorizer(sparse=True, dtype=float)\n",
    "sparse_values = values_vectorizer.fit_transform(good_values_data).astype(np.int16)\n",
    "\n",
    "sparse_values = sparse_values[main_top_100.index]\n",
    "print(sparse_values[:3])"
   ]
  },
  {
   "cell_type": "code",
   "execution_count": 5,
   "metadata": {},
   "outputs": [
    {
     "data": {
      "text/plain": [
       "(181851, 361)"
      ]
     },
     "execution_count": 5,
     "metadata": {},
     "output_type": "execute_result"
    }
   ],
   "source": [
    "sparse_values.shape"
   ]
  },
  {
   "cell_type": "code",
   "execution_count": 6,
   "metadata": {},
   "outputs": [
    {
     "data": {
      "text/plain": [
       "(181851, 3)"
      ]
     },
     "execution_count": 6,
     "metadata": {},
     "output_type": "execute_result"
    }
   ],
   "source": [
    "categorical_values = pd.DataFrame(good_values_data)\n",
    "categorical_values = categorical_values.iloc[main_top_100.index]\n",
    "categorical_values.shape"
   ]
  },
  {
   "cell_type": "markdown",
   "metadata": {},
   "source": [
    "### Order dummy Preparation"
   ]
  },
  {
   "cell_type": "code",
   "execution_count": 7,
   "metadata": {
    "collapsed": true
   },
   "outputs": [],
   "source": [
    "orders_vectorizer = sklearn.feature_extraction.DictVectorizer(sparse=True, dtype=float)\n",
    "sparse_orders = orders_vectorizer.fit_transform(order_data).astype(np.int8)\n",
    "del(order_data)"
   ]
  },
  {
   "cell_type": "code",
   "execution_count": 8,
   "metadata": {},
   "outputs": [
    {
     "name": "stderr",
     "output_type": "stream",
     "text": [
      "\n",
      "  0%|          | 0/181851 [00:00<?, ?it/s]\u001b[A\n",
      "  1%|          | 1109/181851 [00:03<08:09, 369.21it/s]\u001b[A\n",
      "  1%|          | 2129/181851 [00:06<08:19, 359.87it/s]\u001b[A\n",
      "100%|██████████| 181851/181851 [09:19<00:00, 324.82it/s]\n"
     ]
    }
   ],
   "source": [
    "sparse_orders_top_100 = sparse_orders[main_top_100.index]\n",
    "from itertools import combinations\n",
    "\n",
    "pairs_dict_list = []\n",
    "for row_index in tqdm(range(sparse_orders_top_100.shape[0]), mininterval=3):\n",
    "    pairs_dict = {}\n",
    "    for pair_first, pair_second in combinations(sparse_orders_top_100[row_index].indices, 2):\n",
    "        name_first = orders_vectorizer.feature_names_[pair_first]\n",
    "        name_second = orders_vectorizer.feature_names_[pair_second]\n",
    "        if sparse_orders_top_100[row_index, pair_first] < sparse_orders_top_100[row_index, pair_second]:\n",
    "            pairs_dict['{0} < {1}'.format(name_first, name_second)] = 1\n",
    "        else:\n",
    "            pairs_dict['{0} < {1}'.format(name_second, name_first)] = 1\n",
    "    pairs_dict_list.append(pairs_dict)"
   ]
  },
  {
   "cell_type": "code",
   "execution_count": 9,
   "metadata": {},
   "outputs": [
    {
     "name": "stdout",
     "output_type": "stream",
     "text": [
      "<class 'scipy.sparse.csr.csr_matrix'>\n",
      "Sparse dummy shape: \n",
      "(181851, 1042)\n",
      "User Agent shape: \n",
      "(181851,)\n"
     ]
    }
   ],
   "source": [
    "dummy_vectorizer = sklearn.feature_extraction.DictVectorizer(sparse=True, dtype=float)\n",
    "sparse_orders = dummy_vectorizer.fit_transform(pairs_dict_list).astype(np.int8)\n",
    "print(type(sparse_orders))\n",
    "print('Sparse dummy shape: \\n{0}'.format(sparse_orders.shape))\n",
    "print('User Agent shape: \\n{0}'.format(main_top_100.User_Agent.shape))"
   ]
  },
  {
   "cell_type": "markdown",
   "metadata": {},
   "source": [
    "### TF-IDF Features Preparation"
   ]
  },
  {
   "cell_type": "code",
   "execution_count": 10,
   "metadata": {},
   "outputs": [
    {
     "name": "stdout",
     "output_type": "stream",
     "text": [
      "(181851, 1042)\n",
      "<class 'scipy.sparse.csr.csr_matrix'>\n"
     ]
    }
   ],
   "source": [
    "tf_idf_vectorizer = sklearn.feature_extraction.text.TfidfTransformer()\n",
    "sparse_tf_idf = tf_idf_vectorizer.fit_transform(sparse_orders)\n",
    "print(sparse_tf_idf.shape)\n",
    "print(type(sparse_tf_idf))"
   ]
  },
  {
   "cell_type": "markdown",
   "metadata": {},
   "source": [
    "### Principal Components Analysis"
   ]
  },
  {
   "cell_type": "code",
   "execution_count": 11,
   "metadata": {},
   "outputs": [],
   "source": [
    "from sklearn.decomposition import PCA\n",
    "pca = PCA(n_components=20)\n",
    "\n",
    "dense_values = sparse_values.todense()\n",
    "dense_orders = sparse_orders.todense()\n",
    "dense_tf_idf = sparse_tf_idf.todense()"
   ]
  },
  {
   "cell_type": "code",
   "execution_count": 12,
   "metadata": {},
   "outputs": [
    {
     "name": "stdout",
     "output_type": "stream",
     "text": [
      "CPU times: user 4min 22s, sys: 26.7 s, total: 4min 49s\n",
      "Wall time: 45.6 s\n"
     ]
    }
   ],
   "source": [
    "%%time\n",
    "pca_orders = pca.fit_transform(dense_orders)\n",
    "pca_values = pca.fit_transform(dense_values)\n",
    "pca_tf_idf = pca.fit_transform(dense_tf_idf)"
   ]
  },
  {
   "cell_type": "markdown",
   "metadata": {},
   "source": [
    "Итого у нас есть 7 разных представлений данных:\n",
    "\n",
    "- sparse_orders - dummy\n",
    "- sparse_values - dummy\n",
    "- sparse_tf_idf - real\n",
    "- pca_orders - real\n",
    "- pca_values -real\n",
    "- pca_tf_idf -real\n",
    "- categorical_values - categorical\n",
    "\n",
    "На этих данных и их комбинациях хочу попробовать несколько принципиально разных классификаторов:\n",
    "\n",
    "- **LogisticRegression**(or other linear like Lasso, Ridge) - for all\n",
    "- **MultinomialNaiveBayes** - for dummy - very fast\n",
    "- **XGBClassifier** - for real\n",
    "- **CatBoostClassifier** - for pca - very slow\n",
    "- **Blanding**\n",
    "\n",
    "**Порог** положительного класса - 0.024\n",
    "\n",
    "**Меры качества** - f1-score, accuracy and mean_answers "
   ]
  },
  {
   "cell_type": "markdown",
   "metadata": {},
   "source": [
    "### Merging"
   ]
  },
  {
   "cell_type": "code",
   "execution_count": 13,
   "metadata": {},
   "outputs": [
    {
     "name": "stdout",
     "output_type": "stream",
     "text": [
      "CPU times: user 3.12 s, sys: 71.9 ms, total: 3.19 s\n",
      "Wall time: 3.19 s\n"
     ]
    }
   ],
   "source": [
    "%%time\n",
    "\n",
    "from scipy.sparse import hstack\n",
    "\n",
    "sparse_orders_values = hstack((sparse_orders, sparse_values)).tocsr()\n",
    "sparse_tfidf_values = hstack((sparse_tf_idf, sparse_values)).tocsr()\n",
    "sparse_all = hstack((sparse_orders, sparse_tf_idf, sparse_values)).tocsr()\n",
    "\n"
   ]
  },
  {
   "cell_type": "markdown",
   "metadata": {},
   "source": [
    "# LogisticRegression"
   ]
  },
  {
   "cell_type": "code",
   "execution_count": 16,
   "metadata": {},
   "outputs": [
    {
     "data": {
      "text/plain": [
       "(181851, 100)"
      ]
     },
     "execution_count": 16,
     "metadata": {},
     "output_type": "execute_result"
    }
   ],
   "source": [
    "from sklearn.model_selection import GridSearchCV, cross_val_predict, cross_val_score, train_test_split, KFold\n",
    "from sklearn.linear_model import LogisticRegression\n",
    "from sklearn.metrics import roc_auc_score, roc_curve, f1_score, make_scorer\n",
    "from sklearn.multiclass import OneVsRestClassifier\n",
    "from sklearn import preprocessing\n",
    "\n",
    "lb = preprocessing.LabelBinarizer()\n",
    "lb.fit(top_ua)\n",
    "y = lb.transform(main_top_100.User_Agent)\n",
    "y.shape"
   ]
  },
  {
   "cell_type": "code",
   "execution_count": 19,
   "metadata": {
    "collapsed": true
   },
   "outputs": [],
   "source": [
    "all_data = {\n",
    "    'sparse_orders': sparse_orders,\n",
    "    'sparse_values': sparse_values,\n",
    "    'sparse_tf_idf': sparse_tf_idf,\n",
    "    'pca_orders': pca_orders,\n",
    "    'pca_values': pca_values,\n",
    "    'pca_tf_idf': pca_tf_idf,\n",
    "    'sparse_orders_values': sparse_orders_values,\n",
    "    'sparse_tfidf_values': sparse_tfidf_values,\n",
    "    'sparse_all': sparse_all\n",
    "}"
   ]
  },
  {
   "cell_type": "code",
   "execution_count": 20,
   "metadata": {},
   "outputs": [
    {
     "name": "stdout",
     "output_type": "stream",
     "text": [
      "sparse_orders\n",
      "CPU times: user 3.25 s, sys: 697 ms, total: 3.95 s\n",
      "Wall time: 6min 8s\n",
      "sparse_values\n",
      "CPU times: user 2.74 s, sys: 703 ms, total: 3.44 s\n",
      "Wall time: 1min 28s\n",
      "sparse_tf_idf\n",
      "CPU times: user 2.87 s, sys: 737 ms, total: 3.6 s\n",
      "Wall time: 3min 45s\n",
      "pca_orders\n",
      "CPU times: user 3.1 s, sys: 717 ms, total: 3.82 s\n",
      "Wall time: 5min 36s\n",
      "pca_values\n",
      "CPU times: user 2.99 s, sys: 695 ms, total: 3.69 s\n",
      "Wall time: 3min 27s\n",
      "pca_tf_idf\n",
      "CPU times: user 3.03 s, sys: 708 ms, total: 3.73 s\n",
      "Wall time: 4min 15s\n",
      "sparse_orders_values\n",
      "CPU times: user 2.97 s, sys: 654 ms, total: 3.63 s\n",
      "Wall time: 6min 5s\n",
      "sparse_tfidf_values\n",
      "CPU times: user 2.68 s, sys: 532 ms, total: 3.22 s\n",
      "Wall time: 4min 1s\n",
      "sparse_all\n",
      "CPU times: user 3.58 s, sys: 662 ms, total: 4.24 s\n",
      "Wall time: 9min 33s\n"
     ]
    }
   ],
   "source": [
    "predicted_cross_val_labels = {}\n",
    "clf = OneVsRestClassifier(LogisticRegression(C=100))\n",
    "for data_name, data_view in all_data.items():\n",
    "    print(data_name)\n",
    "    %time predicted_cross_val_labels[data_name] = cross_val_predict(clf, data_view, y, method='predict_proba', n_jobs=10)"
   ]
  },
  {
   "cell_type": "code",
   "execution_count": 14,
   "metadata": {
    "collapsed": true
   },
   "outputs": [],
   "source": [
    "def get_f1_score(alpha, y, y_hat):\n",
    "    return f1_score(y, (y_hat > alpha).astype('int'), average='samples')\n",
    "\n",
    "def mean_answers(alpha, y_cross_val):\n",
    "    return np.mean([len(list(filter(lambda i: i>alpha, y_obs))) for y_obs in y_cross_val])\n",
    "\n",
    "def thresholded_score(alpha, y, y_cross_val):\n",
    "    \"\"\"\n",
    "    :param alpha: Threshold\n",
    "    :param y: y sample\n",
    "    :param y_cross_val: y from cross_val_predict\n",
    "    :return: true if at least one predicted User Agent equal true User Agent\n",
    "    \"\"\"\n",
    "    correct_answers = 0\n",
    "    for y_index, y_label in enumerate(np.argmax(y, axis=1)):\n",
    "        if y_label in np.argwhere(y_cross_val[y_index] > alpha):\n",
    "            correct_answers += 1\n",
    "\n",
    "    return correct_answers / len(y)"
   ]
  },
  {
   "cell_type": "code",
   "execution_count": 23,
   "metadata": {},
   "outputs": [
    {
     "name": "stderr",
     "output_type": "stream",
     "text": [
      "100%|██████████| 9/9 [02:00<00:00, 13.31s/it]\n"
     ]
    }
   ],
   "source": [
    "logistic_f1_score = {}\n",
    "logistic_mean_answers = {}\n",
    "logistic_threshold_score = {}\n",
    "threshold = 0.024\n",
    "for name, predicted_labels in tqdm(predicted_cross_val_labels.items()):\n",
    "    logistic_f1_score[name] = get_f1_score(threshold, y, predicted_labels)\n",
    "    logistic_mean_answers[name] = mean_answers(threshold, predicted_labels)\n",
    "    logistic_threshold_score[name] = thresholded_score(threshold, y, predicted_labels)"
   ]
  },
  {
   "cell_type": "code",
   "execution_count": 24,
   "metadata": {},
   "outputs": [
    {
     "data": {
      "text/plain": [
       "{'pca_orders': 0.54281028891275374,\n",
       " 'pca_tf_idf': 0.52263168655588799,\n",
       " 'pca_values': 0.41769524752285597,\n",
       " 'sparse_all': 0.61512667257857145,\n",
       " 'sparse_orders': 0.57264899723701346,\n",
       " 'sparse_orders_values': 0.61449762404110297,\n",
       " 'sparse_tf_idf': 0.57175708390988234,\n",
       " 'sparse_tfidf_values': 0.61501543657590452,\n",
       " 'sparse_values': 0.42241808004754056}"
      ]
     },
     "execution_count": 24,
     "metadata": {},
     "output_type": "execute_result"
    }
   ],
   "source": [
    "logistic_f1_score"
   ]
  },
  {
   "cell_type": "code",
   "execution_count": 25,
   "metadata": {},
   "outputs": [
    {
     "data": {
      "text/plain": [
       "{'pca_orders': 5.1480222819781032,\n",
       " 'pca_tf_idf': 5.2009447294763298,\n",
       " 'pca_values': 6.6392981066917418,\n",
       " 'sparse_all': 4.6049238112520694,\n",
       " 'sparse_orders': 5.033263495938983,\n",
       " 'sparse_orders_values': 4.6126884097420415,\n",
       " 'sparse_tf_idf': 5.0067142880710032,\n",
       " 'sparse_tfidf_values': 4.6131283303363739,\n",
       " 'sparse_values': 6.6436038295087734}"
      ]
     },
     "execution_count": 25,
     "metadata": {},
     "output_type": "execute_result"
    }
   ],
   "source": [
    "logistic_mean_answers"
   ]
  },
  {
   "cell_type": "code",
   "execution_count": 26,
   "metadata": {},
   "outputs": [
    {
     "data": {
      "text/plain": [
       "{'pca_orders': 0.8951009342813622,\n",
       " 'pca_tf_idf': 0.877493112493195,\n",
       " 'pca_values': 0.883063607018933,\n",
       " 'sparse_all': 0.9288098498221071,\n",
       " 'sparse_orders': 0.9053180900847397,\n",
       " 'sparse_orders_values': 0.9289638220301235,\n",
       " 'sparse_tf_idf': 0.9059009848722306,\n",
       " 'sparse_tfidf_values': 0.9302945818279801,\n",
       " 'sparse_values': 0.8861210551495455}"
      ]
     },
     "execution_count": 26,
     "metadata": {},
     "output_type": "execute_result"
    }
   ],
   "source": [
    "logistic_threshold_score"
   ]
  },
  {
   "cell_type": "markdown",
   "metadata": {},
   "source": [
    "На данном пороге лучшие результаты, когда в выборке есть sparse_values"
   ]
  },
  {
   "cell_type": "code",
   "execution_count": 44,
   "metadata": {},
   "outputs": [
    {
     "data": {
      "text/plain": [
       "(181851, 40)"
      ]
     },
     "execution_count": 44,
     "metadata": {},
     "output_type": "execute_result"
    }
   ],
   "source": [
    "np.hstack((pca_orders, pca_values)).shape"
   ]
  },
  {
   "cell_type": "code",
   "execution_count": 19,
   "metadata": {},
   "outputs": [],
   "source": [
    "from xgboost import XGBClassifier\n",
    "\n",
    "xgb_params = {\n",
    "    'learning_rate': 1,\n",
    "    'max_depth': 3,\n",
    "    'objective': 'reg:linear',\n",
    "}\n",
    "\n",
    "xgb_clf = OneVsRestClassifier(XGBClassifier(**xgb_params, n_estimators=10))\n",
    "\n",
    "xgb_labels = cross_val_predict(\n",
    "    xgb_clf, \n",
    "    np.hstack((pca_orders, pca_values)),\n",
    "    y, method='predict_proba')"
   ]
  },
  {
   "cell_type": "code",
   "execution_count": null,
   "metadata": {},
   "outputs": [],
   "source": [
    "from xgboost import XGBClassifier\n",
    "\n",
    "xgb_params = {\n",
    "    'learning_rate': 0.05,\n",
    "    'max_depth': 5,\n",
    "    'subsample': 0.7,\n",
    "    'colsample_bytree': 0.7,\n",
    "    'objective': 'reg:linear',\n",
    "    'silent': 1\n",
    "}\n",
    "\n",
    "xgb_clf = OneVsRestClassifier(XGBClassifier(**xgb_params, n_estimators=100))\n",
    "xgb_labels = cross_val_predict(\n",
    "    xgb_clf, \n",
    "    np.hstack((pca_orders, pca_values)),\n",
    "    y, method='predict_proba', n_jobs=10)\n",
    "\n"
   ]
  }
 ],
 "metadata": {
  "kernelspec": {
   "display_name": "Python 3",
   "language": "python",
   "name": "python3"
  },
  "language_info": {
   "codemirror_mode": {
    "name": "ipython",
    "version": 3
   },
   "file_extension": ".py",
   "mimetype": "text/x-python",
   "name": "python",
   "nbconvert_exporter": "python",
   "pygments_lexer": "ipython3",
   "version": "3.6.1"
  }
 },
 "nbformat": 4,
 "nbformat_minor": 2
}

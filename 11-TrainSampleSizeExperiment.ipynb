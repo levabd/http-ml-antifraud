{
 "cells": [
  {
   "cell_type": "markdown",
   "metadata": {},
   "source": [
    "Also we try to determine the optimal volume of the training sample.\n",
    "\n",
    "- Threshold vas fixed at 0.00075\n",
    "- We try to hold first kind error about 0.05\n",
    "\n",
    "**Here are results:**\n",
    "\n",
    "| Training sample volume | Training time | First Kind Error | Second Kind Error |               Comments                | Conclusion |\n",
    "|------------------------|---------------|------------------|-------------------|---------------------------------------|------------|\n",
    "| 20 000 | ~30min | 0.050925 | 0.1667 | First 20 000 rows from first log file | Pretty fine and fast train |\n",
    "| 877 616 | ~50hours | - | - | First 30 log files  | Too long fitting |\n",
    "| 571145 |  |  |  | First 30 log files with filtered crawlers  | Оverfitting |\n",
    "|  |  |  |  | First 30 log files with filtered crawlers  | Оverfitting |"
   ]
  },
  {
   "cell_type": "code",
   "execution_count": 1,
   "metadata": {},
   "outputs": [
    {
     "name": "stdout",
     "output_type": "stream",
     "text": [
      "Populating the interactive namespace from numpy and matplotlib\n"
     ]
    },
    {
     "name": "stderr",
     "output_type": "stream",
     "text": [
      "/home/levabd/anaconda3/lib/python3.6/site-packages/IPython/core/magics/pylab.py:161: UserWarning: pylab import has clobbered these variables: ['plt']\n",
      "`%matplotlib` prevents importing * from pylab and numpy\n",
      "  \"\\n`%matplotlib` prevents importing * from pylab and numpy\"\n"
     ]
    }
   ],
   "source": [
    "import pandas as pd\n",
    "import numpy as np\n",
    "\n",
    "import scipy.sparse\n",
    "import sklearn.feature_extraction\n",
    "\n",
    "import matplotlib.pylab as plt\n",
    "%matplotlib inline\n",
    "\n",
    "from tqdm import tqdm\n",
    "import platform\n",
    "\n",
    "pd.set_option(\"display.max_rows\", 10)\n",
    "pd.set_option('display.max_columns', 1100)\n",
    "\n",
    "import os\n",
    "\n",
    "%pylab inline\n",
    "warnings.filterwarnings('ignore')"
   ]
  },
  {
   "cell_type": "code",
   "execution_count": 2,
   "metadata": {},
   "outputs": [
    {
     "data": {
      "text/html": [
       "<div>\n",
       "<style>\n",
       "    .dataframe thead tr:only-child th {\n",
       "        text-align: right;\n",
       "    }\n",
       "\n",
       "    .dataframe thead th {\n",
       "        text-align: left;\n",
       "    }\n",
       "\n",
       "    .dataframe tbody tr th {\n",
       "        vertical-align: top;\n",
       "    }\n",
       "</style>\n",
       "<table border=\"1\" class=\"dataframe\">\n",
       "  <thead>\n",
       "    <tr style=\"text-align: right;\">\n",
       "      <th></th>\n",
       "      <th>device_class_code</th>\n",
       "      <th>ip</th>\n",
       "      <th>os_code</th>\n",
       "      <th>os_family_code</th>\n",
       "      <th>timestamp</th>\n",
       "      <th>ua_class_code</th>\n",
       "      <th>ua_family_code</th>\n",
       "      <th>ua_string</th>\n",
       "      <th>ua_version</th>\n",
       "    </tr>\n",
       "  </thead>\n",
       "  <tbody>\n",
       "    <tr>\n",
       "      <th>0</th>\n",
       "      <td>desktop</td>\n",
       "      <td>95.181.252.91</td>\n",
       "      <td>windows_7</td>\n",
       "      <td>windows</td>\n",
       "      <td>1485900038</td>\n",
       "      <td>browser</td>\n",
       "      <td>chrome</td>\n",
       "      <td>Mozilla/5.0 (Windows NT 6.1) AppleWebKit/537.3...</td>\n",
       "      <td>chrome55.0.2883.87</td>\n",
       "    </tr>\n",
       "    <tr>\n",
       "      <th>1</th>\n",
       "      <td>smartphone</td>\n",
       "      <td>31.148.3.19</td>\n",
       "      <td>android_4_4</td>\n",
       "      <td>android</td>\n",
       "      <td>1485900079</td>\n",
       "      <td>mobile_browser</td>\n",
       "      <td>chrome_mobile</td>\n",
       "      <td>Mozilla/5.0 (Linux; Android 4.4.2; Zera S Buil...</td>\n",
       "      <td>chrome_mobile49.0.2623.105</td>\n",
       "    </tr>\n",
       "    <tr>\n",
       "      <th>2</th>\n",
       "      <td>desktop</td>\n",
       "      <td>188.162.183.66</td>\n",
       "      <td>windows_7</td>\n",
       "      <td>windows</td>\n",
       "      <td>1485900103</td>\n",
       "      <td>browser</td>\n",
       "      <td>firefox</td>\n",
       "      <td>Mozilla/5.0 (Windows NT 6.1; WOW64; rv:51.0) G...</td>\n",
       "      <td>firefox51.0</td>\n",
       "    </tr>\n",
       "    <tr>\n",
       "      <th>3</th>\n",
       "      <td>desktop</td>\n",
       "      <td>37.144.52.103</td>\n",
       "      <td>windows_xp</td>\n",
       "      <td>windows</td>\n",
       "      <td>1485900105</td>\n",
       "      <td>browser</td>\n",
       "      <td>ie</td>\n",
       "      <td>Mozilla/4.0 (compatible; MSIE 8.0; Windows NT ...</td>\n",
       "      <td>ie8.0</td>\n",
       "    </tr>\n",
       "    <tr>\n",
       "      <th>4</th>\n",
       "      <td>desktop</td>\n",
       "      <td>91.201.178.51</td>\n",
       "      <td>windows_8_1</td>\n",
       "      <td>windows</td>\n",
       "      <td>1485900108</td>\n",
       "      <td>browser</td>\n",
       "      <td>opera</td>\n",
       "      <td>Mozilla/5.0 (Windows NT 6.3; WOW64) AppleWebKi...</td>\n",
       "      <td>opera40.0.2308.81</td>\n",
       "    </tr>\n",
       "    <tr>\n",
       "      <th>...</th>\n",
       "      <td>...</td>\n",
       "      <td>...</td>\n",
       "      <td>...</td>\n",
       "      <td>...</td>\n",
       "      <td>...</td>\n",
       "      <td>...</td>\n",
       "      <td>...</td>\n",
       "      <td>...</td>\n",
       "      <td>...</td>\n",
       "    </tr>\n",
       "    <tr>\n",
       "      <th>571140</th>\n",
       "      <td>smartphone</td>\n",
       "      <td>89.237.103.208</td>\n",
       "      <td>android_6</td>\n",
       "      <td>android</td>\n",
       "      <td>1488585286</td>\n",
       "      <td>mobile_browser</td>\n",
       "      <td>chrome_mobile</td>\n",
       "      <td>Mozilla/5.0 (Linux; Android 6.0.1; SM-G925F Bu...</td>\n",
       "      <td>chrome_mobile56.0.2924.87</td>\n",
       "    </tr>\n",
       "    <tr>\n",
       "      <th>571141</th>\n",
       "      <td>desktop</td>\n",
       "      <td>141.0.12.169</td>\n",
       "      <td>windows_98</td>\n",
       "      <td>windows</td>\n",
       "      <td>1488585377</td>\n",
       "      <td>browser</td>\n",
       "      <td>opera</td>\n",
       "      <td>Mozilla/4.0 (Windows 98; US) Opera 12.16 [en]</td>\n",
       "      <td>opera12.16</td>\n",
       "    </tr>\n",
       "    <tr>\n",
       "      <th>571142</th>\n",
       "      <td>desktop</td>\n",
       "      <td>131.253.24.147</td>\n",
       "      <td>windows_7</td>\n",
       "      <td>windows</td>\n",
       "      <td>1488585395</td>\n",
       "      <td>browser</td>\n",
       "      <td>ie</td>\n",
       "      <td>Mozilla/5.0 (compatible; MSIE 9.0; Windows NT ...</td>\n",
       "      <td>ie9.0</td>\n",
       "    </tr>\n",
       "    <tr>\n",
       "      <th>571143</th>\n",
       "      <td>desktop</td>\n",
       "      <td>176.195.122.100</td>\n",
       "      <td>windows_7</td>\n",
       "      <td>windows</td>\n",
       "      <td>1488585447</td>\n",
       "      <td>browser</td>\n",
       "      <td>ie</td>\n",
       "      <td>Mozilla/4.0 (compatible; MSIE 8.0; Windows NT ...</td>\n",
       "      <td>ie8.0</td>\n",
       "    </tr>\n",
       "    <tr>\n",
       "      <th>571144</th>\n",
       "      <td>desktop</td>\n",
       "      <td>95.108.133.194</td>\n",
       "      <td>windows_8</td>\n",
       "      <td>windows</td>\n",
       "      <td>1488585571</td>\n",
       "      <td>browser</td>\n",
       "      <td>yandex-browser</td>\n",
       "      <td>Mozilla/5.0 (Windows NT 6.2; WOW64) AppleWebKi...</td>\n",
       "      <td>yandex-browser17.1.0.2034</td>\n",
       "    </tr>\n",
       "  </tbody>\n",
       "</table>\n",
       "<p>571145 rows × 9 columns</p>\n",
       "</div>"
      ],
      "text/plain": [
       "       device_class_code               ip      os_code os_family_code  \\\n",
       "0                desktop    95.181.252.91    windows_7        windows   \n",
       "1             smartphone      31.148.3.19  android_4_4        android   \n",
       "2                desktop   188.162.183.66    windows_7        windows   \n",
       "3                desktop    37.144.52.103   windows_xp        windows   \n",
       "4                desktop    91.201.178.51  windows_8_1        windows   \n",
       "...                  ...              ...          ...            ...   \n",
       "571140        smartphone   89.237.103.208    android_6        android   \n",
       "571141           desktop     141.0.12.169   windows_98        windows   \n",
       "571142           desktop   131.253.24.147    windows_7        windows   \n",
       "571143           desktop  176.195.122.100    windows_7        windows   \n",
       "571144           desktop   95.108.133.194    windows_8        windows   \n",
       "\n",
       "         timestamp   ua_class_code  ua_family_code  \\\n",
       "0       1485900038         browser          chrome   \n",
       "1       1485900079  mobile_browser   chrome_mobile   \n",
       "2       1485900103         browser         firefox   \n",
       "3       1485900105         browser              ie   \n",
       "4       1485900108         browser           opera   \n",
       "...            ...             ...             ...   \n",
       "571140  1488585286  mobile_browser   chrome_mobile   \n",
       "571141  1488585377         browser           opera   \n",
       "571142  1488585395         browser              ie   \n",
       "571143  1488585447         browser              ie   \n",
       "571144  1488585571         browser  yandex-browser   \n",
       "\n",
       "                                                ua_string  \\\n",
       "0       Mozilla/5.0 (Windows NT 6.1) AppleWebKit/537.3...   \n",
       "1       Mozilla/5.0 (Linux; Android 4.4.2; Zera S Buil...   \n",
       "2       Mozilla/5.0 (Windows NT 6.1; WOW64; rv:51.0) G...   \n",
       "3       Mozilla/4.0 (compatible; MSIE 8.0; Windows NT ...   \n",
       "4       Mozilla/5.0 (Windows NT 6.3; WOW64) AppleWebKi...   \n",
       "...                                                   ...   \n",
       "571140  Mozilla/5.0 (Linux; Android 6.0.1; SM-G925F Bu...   \n",
       "571141      Mozilla/4.0 (Windows 98; US) Opera 12.16 [en]   \n",
       "571142  Mozilla/5.0 (compatible; MSIE 9.0; Windows NT ...   \n",
       "571143  Mozilla/4.0 (compatible; MSIE 8.0; Windows NT ...   \n",
       "571144  Mozilla/5.0 (Windows NT 6.2; WOW64) AppleWebKi...   \n",
       "\n",
       "                        ua_version  \n",
       "0               chrome55.0.2883.87  \n",
       "1       chrome_mobile49.0.2623.105  \n",
       "2                      firefox51.0  \n",
       "3                            ie8.0  \n",
       "4                opera40.0.2308.81  \n",
       "...                            ...  \n",
       "571140   chrome_mobile56.0.2924.87  \n",
       "571141                  opera12.16  \n",
       "571142                       ie9.0  \n",
       "571143                       ie8.0  \n",
       "571144   yandex-browser17.1.0.2034  \n",
       "\n",
       "[571145 rows x 9 columns]"
      ]
     },
     "execution_count": 2,
     "metadata": {},
     "output_type": "execute_result"
    }
   ],
   "source": [
    "main_data = np.load('df/main_data.npy').tolist()\n",
    "values_data = np.load('df/values_data.npy').tolist()\n",
    "order_data = np.load('df/order_data.npy').tolist()\n",
    "\n",
    "main_df = pd.DataFrame(main_data)\n",
    "\n",
    "main_df"
   ]
  },
  {
   "cell_type": "code",
   "execution_count": 3,
   "metadata": {},
   "outputs": [
    {
     "name": "stderr",
     "output_type": "stream",
     "text": [
      "100%|██████████| 571145/571145 [00:01<00:00, 290486.66it/s]\n",
      "100%|██████████| 571145/571145 [00:03<00:00, 144245.02it/s]\n",
      "  7%|▋         | 40843/571145 [00:00<00:01, 378458.18it/s]"
     ]
    },
    {
     "name": "stdout",
     "output_type": "stream",
     "text": [
      "Sparse dummy orders shape: \n",
      "(571145, 50)\n"
     ]
    },
    {
     "name": "stderr",
     "output_type": "stream",
     "text": [
      "100%|██████████| 571145/571145 [00:01<00:00, 326922.56it/s]\n"
     ]
    },
    {
     "name": "stdout",
     "output_type": "stream",
     "text": [
      "Sparse dummy values shape: \n",
      "(571145, 516)\n"
     ]
    }
   ],
   "source": [
    "important_values_keys_set = {\n",
    "    'Accept', \n",
    "    'Accept-Charset', \n",
    "    'Accept-Encoding'\n",
    "}\n",
    "important_orders_keys_set = {\n",
    "    'Upgrade-Insecure-Requests',\n",
    "    'Accept', \n",
    "    'If-Modified-Since',\n",
    "    'Host', \n",
    "    'Connection', \n",
    "    'User-Agent', \n",
    "    'From', \n",
    "    'Accept-Encoding' \n",
    "}\n",
    "\n",
    "orders_vectorizer = sklearn.feature_extraction.DictVectorizer(sparse=True, dtype=float)\n",
    "values_vectorizer = sklearn.feature_extraction.DictVectorizer(sparse=True, dtype=float)\n",
    "\n",
    "list_ua = pd.DataFrame(main_data).ua_string.value_counts().index.tolist()\n",
    "\n",
    "# For NaN Useragent\n",
    "list_ua.append('NaN')\n",
    "\n",
    "from lib.parsers.logParser import LogParser\n",
    "\n",
    "l_parser = LogParser(log_folder='Logs/')\n",
    "l_parser.reassign_orders_values(order_data, values_data)\n",
    "full_sparce_dummy = l_parser.prepare_data(orders_vectorizer, values_vectorizer, important_orders_keys_set, important_values_keys_set, fit_dict=True)\n",
    "\n",
    "from sklearn import preprocessing\n",
    "\n",
    "lb = preprocessing.LabelBinarizer(sparse_output=True)\n",
    "lb.fit(list_ua)\n",
    "y = lb.transform(pd.DataFrame(main_data).ua_string.fillna('NaN'))"
   ]
  },
  {
   "cell_type": "markdown",
   "metadata": {},
   "source": [
    "### Train model"
   ]
  },
  {
   "cell_type": "code",
   "execution_count": null,
   "metadata": {},
   "outputs": [],
   "source": [
    "%%time\n",
    "\n",
    "from sklearn.linear_model import LogisticRegression\n",
    "from sklearn.multiclass import OneVsRestClassifier\n",
    "\n",
    "smart_clf = OneVsRestClassifier(LogisticRegression(C=100))\n",
    "smart_clf.fit(full_sparce_dummy, y)"
   ]
  },
  {
   "cell_type": "markdown",
   "metadata": {},
   "source": [
    "## Test part\n",
    "\n",
    "### Prepare data (50/50 bots and human mixed)"
   ]
  },
  {
   "cell_type": "code",
   "execution_count": null,
   "metadata": {
    "collapsed": true
   },
   "outputs": [],
   "source": [
    "# -- HUMANS --\n",
    "\n",
    "l_parser = LogParser(log_folder='Logs/')\n",
    "\n",
    "main_data, values_data, order_data = l_parser.parse_train_sample(45, 46)\n",
    "\n",
    "# -- BOTS --\n",
    "\n",
    "l_parser = LogParser(log_folder='Logs/')\n",
    "\n",
    "main_bot_data = np.load('df/main2_bot_data.npy').tolist()\n",
    "values_bot_data = np.load('df/values2_bot_data.npy').tolist()\n",
    "order_bot_data = np.load('df/order2_bot_data.npy').tolist()\n",
    "\n",
    "main_all = pd.DataFrame(main_data[:20000] + main_bot_data[:20000].to_dict('records'))\n",
    "main_all['is_human'] = False\n",
    "main_all.loc[0:19999,'is_human'] = True\n",
    "\n",
    "values_all = values_data[:20000] + values_bot_data[:20000]\n",
    "order_all = order_data[:20000] + order_bot_data[:20000]\n",
    "\n",
    "list_all_ua = main_all.User_Agent.value_counts().index.tolist()\n",
    "\n",
    "# For NaN Useragent\n",
    "list_all_ua.append('0')\n",
    "\n",
    "l_parser.reassign_orders_values(order_all, values_all)\n",
    "\n",
    "test_sparce_dummy = l_parser.prepare_data(orders_vectorizer, values_vectorizer, important_orders_keys_set, important_values_keys_set, fit_dict=False)\n",
    "\n",
    "lb_test = preprocessing.LabelBinarizer(sparse_output=True)\n",
    "lb_test.fit(list_all_ua)\n",
    "y_test = lb_test.transform(main_all.User_Agent.fillna('0'))\n",
    "\n",
    "test_sparce_dummy.shape"
   ]
  },
  {
   "cell_type": "markdown",
   "metadata": {},
   "source": [
    "### Test predictions proba (Threshold 0.024)"
   ]
  },
  {
   "cell_type": "code",
   "execution_count": null,
   "metadata": {
    "collapsed": true
   },
   "outputs": [],
   "source": [
    "from lib.thresholdPredictions import ThresholdPredictions\n",
    "\n",
    "pred = ThresholdPredictions(user_agent_list=lb.classes_.tolist(), full_user_agent_list=lb_test.classes_.tolist(), clf=smart_clf)\n",
    "y_test_names, y_predicted, compare_answers, is_bot, answers_count = pred.bot_predict(test_sparce_dummy, y_test, 0.024072, sparce_y=True)"
   ]
  },
  {
   "cell_type": "code",
   "execution_count": null,
   "metadata": {
    "collapsed": true
   },
   "outputs": [],
   "source": [
    "compare_frame = pd.concat(\n",
    "    [\n",
    "        pd.DataFrame(y_test_names),\n",
    "        y_predicted, \n",
    "        pd.DataFrame(compare_answers),  \n",
    "        #pd.DataFrame(main_all[['is_human']]), \n",
    "        pd.DataFrame(is_bot), \n",
    "        pd.DataFrame(answers_count)\n",
    "    ], keys=['test', 'predicted', 'correctness', 'is_bot_predicted', 'count'], axis=1, join='inner')\n",
    "\n",
    "    \n",
    "compare_frame['is_human'] = False\n",
    "compare_frame.loc[0:19999,'is_human'] = True\n",
    "compare_frame"
   ]
  },
  {
   "cell_type": "code",
   "execution_count": null,
   "metadata": {
    "collapsed": true
   },
   "outputs": [],
   "source": [
    "from sklearn.metrics import confusion_matrix, roc_curve, auc\n",
    "\n",
    "headers_cm = confusion_matrix(~compare_frame.is_human, compare_frame.is_bot_predicted)"
   ]
  },
  {
   "cell_type": "code",
   "execution_count": null,
   "metadata": {
    "collapsed": true
   },
   "outputs": [],
   "source": [
    "headers_FP = headers_cm.sum(axis=0) - np.diag(headers_cm)  \n",
    "headers_FN = headers_cm.sum(axis=1) - np.diag(headers_cm)\n",
    "headers_TP = np.diag(headers_cm)\n",
    "headers_TN = headers_cm.sum() - (headers_FP + headers_FN + headers_TP)"
   ]
  },
  {
   "cell_type": "code",
   "execution_count": null,
   "metadata": {
    "collapsed": true
   },
   "outputs": [],
   "source": [
    "print('TP: {}'.format(headers_TP))\n",
    "print('TN: {}'.format(headers_TN))\n",
    "print(\"FP: {}\".format(headers_FP))\n",
    "print(\"FN: {}\".format(headers_FN))\n",
    "print(\"Accuracy (ACC): {}\".format((headers_TP + headers_TN) / (headers_TP + headers_TN + headers_FP + headers_FN)))\n",
    "print(\"Sensitivity, hit rate, recall, or true positive rate (TPR): {}\".format(headers_TP / (headers_TP + headers_FN)))\n",
    "print(\"Precision or positive predictive value (PPV): {}\".format(headers_TP / (headers_TP + headers_FP)))"
   ]
  },
  {
   "cell_type": "code",
   "execution_count": null,
   "metadata": {
    "collapsed": true
   },
   "outputs": [],
   "source": [
    "first_kind_error = []\n",
    "second_kind_error = []\n",
    "for i, bot_prediction in enumerate(is_bot):\n",
    "    cur_first_kind_error = False\n",
    "    cur_second_kind_error = False\n",
    "    if bot_prediction and i<20000:\n",
    "        cur_first_kind_error = True\n",
    "    if not bot_prediction and i>19999:\n",
    "        cur_second_kind_error = True\n",
    "    first_kind_error.append(cur_first_kind_error)\n",
    "    second_kind_error.append(cur_second_kind_error)    \n",
    "\n",
    "compare_frame['first_kind_error'] = first_kind_error\n",
    "compare_frame['second_kind_error'] = second_kind_error\n",
    "compare_frame"
   ]
  },
  {
   "cell_type": "code",
   "execution_count": null,
   "metadata": {
    "collapsed": true
   },
   "outputs": [],
   "source": [
    "print('Ошибка первого рода (когда мы принимаем нормального пользователя за бота): {}'.format(sum(first_kind_error) / y_test.shape[0]))\n",
    "print('Ошибка второго рода (когда мы принимаем бота за нормального пользователя): {}'.format(sum(second_kind_error) / y_test.shape[0]))"
   ]
  },
  {
   "cell_type": "markdown",
   "metadata": {},
   "source": [
    "### Threshold 0.00075"
   ]
  },
  {
   "cell_type": "code",
   "execution_count": 61,
   "metadata": {},
   "outputs": [
    {
     "name": "stderr",
     "output_type": "stream",
     "text": [
      "40000it [00:03, 10086.17it/s]\n"
     ]
    }
   ],
   "source": [
    "pred = ThresholdPredictions(user_agent_list=lb.classes_.tolist(), full_user_agent_list=lb_test.classes_.tolist(), clf=smart_clf)\n",
    "y_test_names, y_predicted, compare_answers, is_bot, answers_count = pred.bot_predict(test_sparce_dummy, y_test, 0.00078, sparce_y=True)"
   ]
  },
  {
   "cell_type": "code",
   "execution_count": 62,
   "metadata": {},
   "outputs": [
    {
     "name": "stdout",
     "output_type": "stream",
     "text": [
      "TP: [17963 13332]\n",
      "TN: [13332 17963]\n",
      "FP: [6668 2037]\n",
      "FN: [2037 6668]\n",
      "Accuracy (ACC): [ 0.782375  0.782375]\n",
      "Sensitivity, hit rate, recall, or true positive rate (TPR): [ 0.89815  0.6666 ]\n",
      "Precision or positive predictive value (PPV): [ 0.72928424  0.86746047]\n",
      "Ошибка первого рода (когда мы принимаем нормального пользователя за бота): 0.050925\n",
      "Ошибка второго рода (когда мы принимаем бота за нормального пользователя): 0.1667\n"
     ]
    }
   ],
   "source": [
    "compare_frame = pd.concat(\n",
    "    [\n",
    "        pd.DataFrame(y_test_names),\n",
    "        y_predicted, \n",
    "        pd.DataFrame(compare_answers),  \n",
    "        #pd.DataFrame(main_all[['is_human']]), \n",
    "        pd.DataFrame(is_bot), \n",
    "        pd.DataFrame(answers_count)\n",
    "    ], keys=['test', 'predicted', 'correctness', 'is_bot_predicted', 'count'], axis=1, join='inner')\n",
    "\n",
    "    \n",
    "compare_frame['is_human'] = False\n",
    "compare_frame.loc[0:19999,'is_human'] = True\n",
    "\n",
    "headers_cm = confusion_matrix(~compare_frame.is_human, compare_frame.is_bot_predicted)\n",
    "\n",
    "headers_FP = headers_cm.sum(axis=0) - np.diag(headers_cm)  \n",
    "headers_FN = headers_cm.sum(axis=1) - np.diag(headers_cm)\n",
    "headers_TP = np.diag(headers_cm)\n",
    "headers_TN = headers_cm.sum() - (headers_FP + headers_FN + headers_TP)\n",
    "\n",
    "print('TP: {}'.format(headers_TP))\n",
    "print('TN: {}'.format(headers_TN))\n",
    "print(\"FP: {}\".format(headers_FP))\n",
    "print(\"FN: {}\".format(headers_FN))\n",
    "print(\"Accuracy (ACC): {}\".format((headers_TP + headers_TN) / (headers_TP + headers_TN + headers_FP + headers_FN)))\n",
    "print(\"Sensitivity, hit rate, recall, or true positive rate (TPR): {}\".format(headers_TP / (headers_TP + headers_FN)))\n",
    "print(\"Precision or positive predictive value (PPV): {}\".format(headers_TP / (headers_TP + headers_FP)))\n",
    "\n",
    "first_kind_error = []\n",
    "second_kind_error = []\n",
    "for i, bot_prediction in enumerate(is_bot):\n",
    "    cur_first_kind_error = False\n",
    "    cur_second_kind_error = False\n",
    "    if bot_prediction and i<20000:\n",
    "        cur_first_kind_error = True\n",
    "    if not bot_prediction and i>19999:\n",
    "        cur_second_kind_error = True\n",
    "    first_kind_error.append(cur_first_kind_error)\n",
    "    second_kind_error.append(cur_second_kind_error)    \n",
    "\n",
    "compare_frame['first_kind_error'] = first_kind_error\n",
    "compare_frame['second_kind_error'] = second_kind_error\n",
    "\n",
    "print('Ошибка первого рода (когда мы принимаем нормального пользователя за бота): {}'.format(sum(first_kind_error) / y_test.shape[0]))\n",
    "print('Ошибка второго рода (когда мы принимаем бота за нормального пользователя): {}'.format(sum(second_kind_error) / y_test.shape[0]))"
   ]
  },
  {
   "cell_type": "code",
   "execution_count": null,
   "metadata": {
    "collapsed": true
   },
   "outputs": [],
   "source": []
  }
 ],
 "metadata": {
  "kernelspec": {
   "display_name": "Python 3",
   "language": "python",
   "name": "python3"
  },
  "language_info": {
   "codemirror_mode": {
    "name": "ipython",
    "version": 3
   },
   "file_extension": ".py",
   "mimetype": "text/x-python",
   "name": "python",
   "nbconvert_exporter": "python",
   "pygments_lexer": "ipython3",
   "version": "3.6.1"
  }
 },
 "nbformat": 4,
 "nbformat_minor": 2
}

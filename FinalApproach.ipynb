{
 "cells": [
  {
   "cell_type": "code",
   "execution_count": 1,
   "metadata": {
    "scrolled": true
   },
   "outputs": [
    {
     "name": "stdout",
     "output_type": "stream",
     "text": [
      "Populating the interactive namespace from numpy and matplotlib\n"
     ]
    },
    {
     "name": "stderr",
     "output_type": "stream",
     "text": [
      "/home/levabd/anaconda3/lib/python3.6/site-packages/IPython/core/magics/pylab.py:161: UserWarning: pylab import has clobbered these variables: ['plt']\n",
      "`%matplotlib` prevents importing * from pylab and numpy\n",
      "  \"\\n`%matplotlib` prevents importing * from pylab and numpy\"\n"
     ]
    }
   ],
   "source": [
    "import pandas as pd\n",
    "import numpy as np\n",
    "\n",
    "import scipy.sparse\n",
    "import sklearn.feature_extraction\n",
    "\n",
    "import matplotlib.pylab as plt\n",
    "%matplotlib inline\n",
    "\n",
    "from tqdm import tqdm\n",
    "import platform\n",
    "\n",
    "pd.set_option(\"display.max_rows\", 10)\n",
    "pd.set_option('display.max_columns', 1100)\n",
    "\n",
    "import os\n",
    "\n",
    "%pylab inline\n",
    "warnings.filterwarnings('ignore')"
   ]
  },
  {
   "cell_type": "markdown",
   "metadata": {},
   "source": [
    "### В матрице Main table всего 3 столбца, которые глобально характеризуют хэдэр"
   ]
  },
  {
   "cell_type": "code",
   "execution_count": 2,
   "metadata": {},
   "outputs": [
    {
     "name": "stderr",
     "output_type": "stream",
     "text": [
      "  7%|▋         | 9/127 [00:06<01:22,  1.43it/s]\n"
     ]
    },
    {
     "name": "stdout",
     "output_type": "stream",
     "text": [
      "Shape: (289269, 3)\n"
     ]
    },
    {
     "data": {
      "text/html": [
       "<div>\n",
       "<style>\n",
       "    .dataframe thead tr:only-child th {\n",
       "        text-align: right;\n",
       "    }\n",
       "\n",
       "    .dataframe thead th {\n",
       "        text-align: left;\n",
       "    }\n",
       "\n",
       "    .dataframe tbody tr th {\n",
       "        vertical-align: top;\n",
       "    }\n",
       "</style>\n",
       "<table border=\"1\" class=\"dataframe\">\n",
       "  <thead>\n",
       "    <tr style=\"text-align: right;\">\n",
       "      <th></th>\n",
       "      <th>User_Agent</th>\n",
       "      <th>id</th>\n",
       "      <th>ip</th>\n",
       "    </tr>\n",
       "  </thead>\n",
       "  <tbody>\n",
       "    <tr>\n",
       "      <th>0</th>\n",
       "      <td>Mozilla/5.0 (Windows NT 6.1) AppleWebKit/537.3...</td>\n",
       "      <td>1485900038</td>\n",
       "      <td>95.181.252.91</td>\n",
       "    </tr>\n",
       "    <tr>\n",
       "      <th>1</th>\n",
       "      <td>Mozilla/5.0 (compatible; bingbot/2.0; +http://...</td>\n",
       "      <td>1485900047</td>\n",
       "      <td>40.77.167.74</td>\n",
       "    </tr>\n",
       "    <tr>\n",
       "      <th>2</th>\n",
       "      <td>Mozilla/5.0 (Linux; Android 4.4.2; Zera S Buil...</td>\n",
       "      <td>1485900079</td>\n",
       "      <td>31.148.3.19</td>\n",
       "    </tr>\n",
       "    <tr>\n",
       "      <th>3</th>\n",
       "      <td>Mozilla/5.0 (Windows NT 6.1; WOW64; rv:51.0) G...</td>\n",
       "      <td>1485900103</td>\n",
       "      <td>188.162.183.66</td>\n",
       "    </tr>\n",
       "    <tr>\n",
       "      <th>4</th>\n",
       "      <td>Mozilla/4.0 (compatible; MSIE 8.0; Windows NT ...</td>\n",
       "      <td>1485900105</td>\n",
       "      <td>37.144.52.103</td>\n",
       "    </tr>\n",
       "  </tbody>\n",
       "</table>\n",
       "</div>"
      ],
      "text/plain": [
       "                                          User_Agent          id  \\\n",
       "0  Mozilla/5.0 (Windows NT 6.1) AppleWebKit/537.3...  1485900038   \n",
       "1  Mozilla/5.0 (compatible; bingbot/2.0; +http://...  1485900047   \n",
       "2  Mozilla/5.0 (Linux; Android 4.4.2; Zera S Buil...  1485900079   \n",
       "3  Mozilla/5.0 (Windows NT 6.1; WOW64; rv:51.0) G...  1485900103   \n",
       "4  Mozilla/4.0 (compatible; MSIE 8.0; Windows NT ...  1485900105   \n",
       "\n",
       "               ip  \n",
       "0   95.181.252.91  \n",
       "1    40.77.167.74  \n",
       "2     31.148.3.19  \n",
       "3  188.162.183.66  \n",
       "4   37.144.52.103  "
      ]
     },
     "execution_count": 2,
     "metadata": {},
     "output_type": "execute_result"
    }
   ],
   "source": [
    "from logParser import ParseLogsFromFolder\n",
    "\n",
    "main_data, values_data, order_data = ParseLogsFromFolder('Logs/', 1, 10, only_order=False)\n",
    "\n",
    "main = pd.DataFrame(main_data)\n",
    "del(main_data)\n",
    "print('Shape: ' + str(main.shape))\n",
    "main.head()"
   ]
  },
  {
   "cell_type": "code",
   "execution_count": 3,
   "metadata": {},
   "outputs": [
    {
     "name": "stdout",
     "output_type": "stream",
     "text": [
      "Хэдэры первых 100 юзер-агентов составляют: 62.87%\n",
      "Сохраним индексы хэдэров из топ-100\n"
     ]
    }
   ],
   "source": [
    "print('Хэдэры первых 100 юзер-агентов составляют: {:.2%}'.format(\n",
    "    main.User_Agent.value_counts()[:100].sum() / main.shape[0]))\n",
    "\n",
    "print('Сохраним индексы хэдэров из топ-100')\n",
    "main_top_100 = main[main.User_Agent.isin(main.User_Agent.value_counts()[:100].index)]\n",
    "#del(main)\n",
    "\n",
    "top_ua = main.User_Agent.value_counts()[:100].index.tolist()"
   ]
  },
  {
   "cell_type": "code",
   "execution_count": 4,
   "metadata": {},
   "outputs": [
    {
     "name": "stdout",
     "output_type": "stream",
     "text": [
      "В order_data содержится информация о взаимном расположении ключей.\n",
      "Переведем ее к типу csr с помощью DictVectorizer\n"
     ]
    }
   ],
   "source": [
    "print('В order_data содержится информация о взаимном расположении ключей.')\n",
    "print('Переведем ее к типу csr с помощью DictVectorizer')\n",
    "orders_vectorizer = sklearn.feature_extraction.DictVectorizer(sparse=True, dtype=float)\n",
    "sparse_orders = orders_vectorizer.fit_transform(order_data).astype(np.int8)\n",
    "del(order_data)"
   ]
  },
  {
   "cell_type": "markdown",
   "metadata": {},
   "source": [
    "Можно было бы сразу создать нужную нам спарс матрицу с признаками попарным сравнением порядков. Однако в этом случае придется думать, как бы запомнить какой признак, что значит.\n",
    "\n",
    "Так что я решил не думать и сделать по аналогии с вышеприведенным преобразованием: с созданием соответствующего списка словарей и DictVectorizer-a"
   ]
  },
  {
   "cell_type": "code",
   "execution_count": 5,
   "metadata": {},
   "outputs": [
    {
     "name": "stderr",
     "output_type": "stream",
     "text": [
      "100%|██████████| 181851/181851 [02:34<00:00, 1178.52it/s]\n"
     ]
    }
   ],
   "source": [
    "from itertools import combinations\n",
    "\n",
    "sparse_orders_top_100 = sparse_orders[main_top_100.index]\n",
    "\n",
    "pairs_dict_list = []\n",
    "for row_index in tqdm(range(sparse_orders_top_100.shape[0]), mininterval=2):\n",
    "    pairs_dict = {}\n",
    "    for pair_first, pair_second in combinations(sparse_orders_top_100[row_index].indices, 2):\n",
    "        name_first = orders_vectorizer.feature_names_[pair_first]\n",
    "        name_second = orders_vectorizer.feature_names_[pair_second]\n",
    "        if sparse_orders_top_100[row_index, pair_first] < sparse_orders_top_100[row_index, pair_second]:\n",
    "            pairs_dict['{0} < {1}'.format(name_first, name_second)] = 1\n",
    "        else:\n",
    "            pairs_dict['{0} < {1}'.format(name_second, name_first)] = 1\n",
    "    pairs_dict_list.append(pairs_dict)"
   ]
  },
  {
   "cell_type": "code",
   "execution_count": 6,
   "metadata": {},
   "outputs": [
    {
     "name": "stdout",
     "output_type": "stream",
     "text": [
      "<class 'scipy.sparse.csr.csr_matrix'>\n",
      "Sparse dummy shape: \n",
      "(181851, 1042)\n",
      "User Agent shape: \n",
      "(181851,)\n"
     ]
    }
   ],
   "source": [
    "dummy_vectorizer = sklearn.feature_extraction.DictVectorizer(sparse=True, dtype=float)\n",
    "sparse_dummy = dummy_vectorizer.fit_transform(pairs_dict_list).astype(np.int8)\n",
    "print(type(sparse_dummy))\n",
    "print('Sparse dummy shape: \\n{0}'.format(sparse_dummy.shape))\n",
    "print('User Agent shape: \\n{0}'.format(main_top_100.User_Agent.shape))"
   ]
  },
  {
   "cell_type": "code",
   "execution_count": 7,
   "metadata": {
    "collapsed": true
   },
   "outputs": [],
   "source": [
    "from sklearn.model_selection import GridSearchCV, cross_val_predict, cross_val_score, train_test_split, KFold\n",
    "from sklearn.linear_model import LogisticRegression\n",
    "from sklearn.metrics import roc_auc_score, roc_curve, f1_score, make_scorer\n",
    "from sklearn.multiclass import OneVsRestClassifier\n",
    "from sklearn import preprocessing\n",
    "\n",
    "#y = main_top_100.User_Agent\n",
    "\n",
    "lb = preprocessing.LabelBinarizer()\n",
    "lb.fit(top_ua)\n",
    "y = lb.transform(main_top_100.User_Agent)\n",
    "\n",
    "#binarizer = MultiLabelBinarizer()\n",
    "#y = binarizer.fit_transform(main_top_100.User_Agent.apply(lambda x: code_ua(x)))\n",
    "#y.shape"
   ]
  },
  {
   "cell_type": "code",
   "execution_count": 8,
   "metadata": {
    "collapsed": true
   },
   "outputs": [],
   "source": [
    "X_train, X_test, y_train, y_test = train_test_split(sparse_dummy, y, test_size=0.33, random_state=42)"
   ]
  },
  {
   "cell_type": "markdown",
   "metadata": {},
   "source": [
    "### Логистическая регрессия с hold-out валидацией"
   ]
  },
  {
   "cell_type": "code",
   "execution_count": 9,
   "metadata": {},
   "outputs": [
    {
     "name": "stdout",
     "output_type": "stream",
     "text": [
      "OneVsRestClassifier(estimator=LogisticRegression(C=1.0, class_weight=None, dual=False, fit_intercept=True,\n",
      "          intercept_scaling=1, max_iter=100, multi_class='ovr', n_jobs=1,\n",
      "          penalty='l2', random_state=42, solver='liblinear', tol=0.0001,\n",
      "          verbose=0, warm_start=False),\n",
      "          n_jobs=1)\n",
      "CPU times: user 1min 57s, sys: 40 ms, total: 1min 57s\n",
      "Wall time: 1min 57s\n"
     ]
    }
   ],
   "source": [
    "%%time\n",
    "clf = OneVsRestClassifier(LogisticRegression(random_state=42))\n",
    "clf.fit(X_train, y_train)\n",
    "answer = clf.predict(X_test)\n",
    "print(clf)"
   ]
  },
  {
   "cell_type": "code",
   "execution_count": 12,
   "metadata": {},
   "outputs": [
    {
     "name": "stdout",
     "output_type": "stream",
     "text": [
      "Accuracy score 0.5613470863674993\n",
      "F1 score 0.5616470313775808\n"
     ]
    }
   ],
   "source": [
    "from sklearn.metrics import accuracy_score\n",
    "\n",
    "print(\"Accuracy score {0}\".format(accuracy_score(y_true=y_test, y_pred=answer)))\n",
    "print(\"F1 score {0}\".format(f1_score(y_true=y_test, y_pred=answer, average='samples')))"
   ]
  },
  {
   "cell_type": "markdown",
   "metadata": {},
   "source": [
    "## Тупой классификатор"
   ]
  },
  {
   "cell_type": "code",
   "execution_count": 13,
   "metadata": {
    "collapsed": true
   },
   "outputs": [],
   "source": [
    "def return_ua(index):\n",
    "    return top_ua[index]"
   ]
  },
  {
   "cell_type": "code",
   "execution_count": 14,
   "metadata": {
    "collapsed": true
   },
   "outputs": [],
   "source": [
    "def return_prediction_ua(predictions):\n",
    "    ua_list = []\n",
    "    for i, label in enumerate(predictions):\n",
    "        if label == 1:\n",
    "            ua_list.append(return_ua(i))\n",
    "    return ua_list"
   ]
  },
  {
   "cell_type": "code",
   "execution_count": 17,
   "metadata": {},
   "outputs": [
    {
     "data": {
      "text/html": [
       "<div>\n",
       "<style>\n",
       "    .dataframe thead tr:only-child th {\n",
       "        text-align: right;\n",
       "    }\n",
       "\n",
       "    .dataframe thead th {\n",
       "        text-align: left;\n",
       "    }\n",
       "\n",
       "    .dataframe tbody tr th {\n",
       "        vertical-align: top;\n",
       "    }\n",
       "</style>\n",
       "<table border=\"1\" class=\"dataframe\">\n",
       "  <thead>\n",
       "    <tr style=\"text-align: right;\">\n",
       "      <th></th>\n",
       "      <th>0</th>\n",
       "      <th>0</th>\n",
       "      <th>0</th>\n",
       "    </tr>\n",
       "  </thead>\n",
       "  <tbody>\n",
       "    <tr>\n",
       "      <th>0</th>\n",
       "      <td>[Mozilla/5.0 (Windows NT 6.3; Win64; x64) Appl...</td>\n",
       "      <td>[Mozilla/5.0 (Windows NT 6.3; Win64; x64) Appl...</td>\n",
       "      <td>True</td>\n",
       "    </tr>\n",
       "    <tr>\n",
       "      <th>1</th>\n",
       "      <td>[netEstate NE Crawler (+http://www.website-dat...</td>\n",
       "      <td>[]</td>\n",
       "      <td>False</td>\n",
       "    </tr>\n",
       "    <tr>\n",
       "      <th>2</th>\n",
       "      <td>[Mozilla/5.0 (iPhone; CPU iPhone OS 10_2_1 lik...</td>\n",
       "      <td>[]</td>\n",
       "      <td>False</td>\n",
       "    </tr>\n",
       "    <tr>\n",
       "      <th>3</th>\n",
       "      <td>[Mozilla/5.0 (compatible; MJ12bot/v1.4.7; http...</td>\n",
       "      <td>[Mozilla/5.0 (compatible; MJ12bot/v1.4.7; http...</td>\n",
       "      <td>True</td>\n",
       "    </tr>\n",
       "    <tr>\n",
       "      <th>4</th>\n",
       "      <td>[Mozilla/5.0 (compatible; Yahoo! Slurp; http:/...</td>\n",
       "      <td>[]</td>\n",
       "      <td>False</td>\n",
       "    </tr>\n",
       "    <tr>\n",
       "      <th>...</th>\n",
       "      <td>...</td>\n",
       "      <td>...</td>\n",
       "      <td>...</td>\n",
       "    </tr>\n",
       "    <tr>\n",
       "      <th>60006</th>\n",
       "      <td>[Mozilla/5.0 (Windows NT 6.1) AppleWebKit/537....</td>\n",
       "      <td>[Mozilla/5.0 (Windows NT 6.1) AppleWebKit/537....</td>\n",
       "      <td>True</td>\n",
       "    </tr>\n",
       "    <tr>\n",
       "      <th>60007</th>\n",
       "      <td>[Mozilla/5.0 (iPad; CPU OS 9_3_5 like Mac OS X...</td>\n",
       "      <td>[Mozilla/5.0 (iPad; CPU OS 9_3_5 like Mac OS X...</td>\n",
       "      <td>True</td>\n",
       "    </tr>\n",
       "    <tr>\n",
       "      <th>60008</th>\n",
       "      <td>[Mozilla/5.0 (iPad; CPU OS 9_3_5 like Mac OS X...</td>\n",
       "      <td>[Mozilla/5.0 (iPad; CPU OS 9_3_5 like Mac OS X...</td>\n",
       "      <td>True</td>\n",
       "    </tr>\n",
       "    <tr>\n",
       "      <th>60009</th>\n",
       "      <td>[Mozilla/5.0 (iPad; CPU OS 10_2_1 like Mac OS ...</td>\n",
       "      <td>[Mozilla/5.0 (iPad; CPU OS 10_2_1 like Mac OS ...</td>\n",
       "      <td>True</td>\n",
       "    </tr>\n",
       "    <tr>\n",
       "      <th>60010</th>\n",
       "      <td>[StackRambler/2.0 (MSIE incompatible; Top100)]</td>\n",
       "      <td>[]</td>\n",
       "      <td>False</td>\n",
       "    </tr>\n",
       "  </tbody>\n",
       "</table>\n",
       "<p>60011 rows × 3 columns</p>\n",
       "</div>"
      ],
      "text/plain": [
       "                                                       0  \\\n",
       "0      [Mozilla/5.0 (Windows NT 6.3; Win64; x64) Appl...   \n",
       "1      [netEstate NE Crawler (+http://www.website-dat...   \n",
       "2      [Mozilla/5.0 (iPhone; CPU iPhone OS 10_2_1 lik...   \n",
       "3      [Mozilla/5.0 (compatible; MJ12bot/v1.4.7; http...   \n",
       "4      [Mozilla/5.0 (compatible; Yahoo! Slurp; http:/...   \n",
       "...                                                  ...   \n",
       "60006  [Mozilla/5.0 (Windows NT 6.1) AppleWebKit/537....   \n",
       "60007  [Mozilla/5.0 (iPad; CPU OS 9_3_5 like Mac OS X...   \n",
       "60008  [Mozilla/5.0 (iPad; CPU OS 9_3_5 like Mac OS X...   \n",
       "60009  [Mozilla/5.0 (iPad; CPU OS 10_2_1 like Mac OS ...   \n",
       "60010     [StackRambler/2.0 (MSIE incompatible; Top100)]   \n",
       "\n",
       "                                                       0      0  \n",
       "0      [Mozilla/5.0 (Windows NT 6.3; Win64; x64) Appl...   True  \n",
       "1                                                     []  False  \n",
       "2                                                     []  False  \n",
       "3      [Mozilla/5.0 (compatible; MJ12bot/v1.4.7; http...   True  \n",
       "4                                                     []  False  \n",
       "...                                                  ...    ...  \n",
       "60006  [Mozilla/5.0 (Windows NT 6.1) AppleWebKit/537....   True  \n",
       "60007  [Mozilla/5.0 (iPad; CPU OS 9_3_5 like Mac OS X...   True  \n",
       "60008  [Mozilla/5.0 (iPad; CPU OS 9_3_5 like Mac OS X...   True  \n",
       "60009  [Mozilla/5.0 (iPad; CPU OS 10_2_1 like Mac OS ...   True  \n",
       "60010                                                 []  False  \n",
       "\n",
       "[60011 rows x 3 columns]"
      ]
     },
     "execution_count": 17,
     "metadata": {},
     "output_type": "execute_result"
    }
   ],
   "source": [
    "y_test_names = pd.DataFrame(y_test).apply(lambda l: return_prediction_ua(l), axis=1)\n",
    "y_predicted = pd.DataFrame(answer).apply(lambda l: return_prediction_ua(l), axis=1)\n",
    "\n",
    "compare_answers = []\n",
    "for i, y_tst in enumerate(y_test_names):\n",
    "    current_answer = True\n",
    "    for j, tst_val in enumerate(y_tst):\n",
    "        if tst_val not in y_predicted[i]:\n",
    "            current_answer = False\n",
    "    compare_answers.append(current_answer)\n",
    "\n",
    "pd.concat([pd.DataFrame(y_test_names), pd.DataFrame(y_predicted), pd.DataFrame(compare_answers)], axis=1)"
   ]
  },
  {
   "cell_type": "markdown",
   "metadata": {},
   "source": [
    "### Настроим коэффициент регуляризации в логистической регрессии на точность \n",
    "\n",
    "Настраивать будем на кросс-валидации по 5 фолдам"
   ]
  },
  {
   "cell_type": "code",
   "execution_count": 18,
   "metadata": {},
   "outputs": [
    {
     "name": "stdout",
     "output_type": "stream",
     "text": [
      "{'estimator__C': 100.0}\n",
      "0.549494575753\n",
      "CPU times: user 6min 15s, sys: 1.01 s, total: 6min 16s\n",
      "Wall time: 1h 31min 57s\n"
     ]
    }
   ],
   "source": [
    "%%time\n",
    "\n",
    "params = {'estimator__C': np.logspace(-5, 5, 11)}\n",
    "\n",
    "model = OneVsRestClassifier(LogisticRegression())\n",
    "gs = GridSearchCV(model, params, n_jobs=-1, scoring='f1_samples', cv=5)\n",
    "gs.fit(sparse_dummy, y)\n",
    "print(gs.best_params_)\n",
    "print(gs.best_score_)"
   ]
  },
  {
   "cell_type": "code",
   "execution_count": 19,
   "metadata": {},
   "outputs": [
    {
     "data": {
      "text/html": [
       "<div>\n",
       "<style>\n",
       "    .dataframe thead tr:only-child th {\n",
       "        text-align: right;\n",
       "    }\n",
       "\n",
       "    .dataframe thead th {\n",
       "        text-align: left;\n",
       "    }\n",
       "\n",
       "    .dataframe tbody tr th {\n",
       "        vertical-align: top;\n",
       "    }\n",
       "</style>\n",
       "<table border=\"1\" class=\"dataframe\">\n",
       "  <thead>\n",
       "    <tr style=\"text-align: right;\">\n",
       "      <th></th>\n",
       "      <th>mean_test_score</th>\n",
       "      <th>params</th>\n",
       "    </tr>\n",
       "  </thead>\n",
       "  <tbody>\n",
       "    <tr>\n",
       "      <th>7</th>\n",
       "      <td>0.549495</td>\n",
       "      <td>{'estimator__C': 100.0}</td>\n",
       "    </tr>\n",
       "    <tr>\n",
       "      <th>10</th>\n",
       "      <td>0.549242</td>\n",
       "      <td>{'estimator__C': 100000.0}</td>\n",
       "    </tr>\n",
       "    <tr>\n",
       "      <th>8</th>\n",
       "      <td>0.549190</td>\n",
       "      <td>{'estimator__C': 1000.0}</td>\n",
       "    </tr>\n",
       "    <tr>\n",
       "      <th>9</th>\n",
       "      <td>0.549149</td>\n",
       "      <td>{'estimator__C': 10000.0}</td>\n",
       "    </tr>\n",
       "    <tr>\n",
       "      <th>6</th>\n",
       "      <td>0.548842</td>\n",
       "      <td>{'estimator__C': 10.0}</td>\n",
       "    </tr>\n",
       "    <tr>\n",
       "      <th>...</th>\n",
       "      <td>...</td>\n",
       "      <td>...</td>\n",
       "    </tr>\n",
       "    <tr>\n",
       "      <th>4</th>\n",
       "      <td>0.534970</td>\n",
       "      <td>{'estimator__C': 0.1}</td>\n",
       "    </tr>\n",
       "    <tr>\n",
       "      <th>3</th>\n",
       "      <td>0.500140</td>\n",
       "      <td>{'estimator__C': 0.01}</td>\n",
       "    </tr>\n",
       "    <tr>\n",
       "      <th>2</th>\n",
       "      <td>0.332464</td>\n",
       "      <td>{'estimator__C': 0.001}</td>\n",
       "    </tr>\n",
       "    <tr>\n",
       "      <th>1</th>\n",
       "      <td>0.215088</td>\n",
       "      <td>{'estimator__C': 0.0001}</td>\n",
       "    </tr>\n",
       "    <tr>\n",
       "      <th>0</th>\n",
       "      <td>0.000000</td>\n",
       "      <td>{'estimator__C': 1e-05}</td>\n",
       "    </tr>\n",
       "  </tbody>\n",
       "</table>\n",
       "<p>11 rows × 2 columns</p>\n",
       "</div>"
      ],
      "text/plain": [
       "    mean_test_score                      params\n",
       "7          0.549495     {'estimator__C': 100.0}\n",
       "10         0.549242  {'estimator__C': 100000.0}\n",
       "8          0.549190    {'estimator__C': 1000.0}\n",
       "9          0.549149   {'estimator__C': 10000.0}\n",
       "6          0.548842      {'estimator__C': 10.0}\n",
       "..              ...                         ...\n",
       "4          0.534970       {'estimator__C': 0.1}\n",
       "3          0.500140      {'estimator__C': 0.01}\n",
       "2          0.332464     {'estimator__C': 0.001}\n",
       "1          0.215088    {'estimator__C': 0.0001}\n",
       "0          0.000000     {'estimator__C': 1e-05}\n",
       "\n",
       "[11 rows x 2 columns]"
      ]
     },
     "execution_count": 19,
     "metadata": {},
     "output_type": "execute_result"
    }
   ],
   "source": [
    "pd.DataFrame(gs.cv_results_)[['mean_test_score', 'params']].sort_values('mean_test_score', ascending=False)"
   ]
  },
  {
   "cell_type": "markdown",
   "metadata": {},
   "source": [
    "Результаты печальные, что в общем-то ожидаемо, ведь эти модели не так уж хороши на столь разреженных пространствах\n",
    "Подбор параметров по сетке в принципе мог бы и улучшить результат, однако в целом порядок понятен"
   ]
  },
  {
   "cell_type": "markdown",
   "metadata": {},
   "source": [
    "### Переход к новой парадигме многоклассовой многолейблинговой классификации\n",
    "\n",
    "Решая данную задачу, неявно мы предпологаем, что каждый хэдэр принадлежит ровно одному юзер-агенту, а несовпадение фактического и предсказанного классов говорит о том, что данный хэдэр является ботом. Ввиду строгости этого правила, ошибка первого рода становится очень большой, что недопустимо с точки зрения бизнеса.\n",
    "\n",
    "Следует разрешить хэдэрам принадлежать сразу нескольким классам. Целевая переменная в этом случае у нас будет не просто юзер агентом, а некоторым вектором принадлежности определенного хэдэра ко всем юзер-агентом. В частности, в нашем случае этот вектор будет размерности (1, 100), а на всех тренировочных объектах у нас будет ровно одна единица и 99 нулей.\n",
    "\n",
    "В такой постановке задачи, наши модели должны выдавать некоторый вектор вероятностей принадлежности объекта к определенному классу, затем для окончательного ответа нужно подобрать некоторые пороги для каждого элемента вектора.\n",
    "\n",
    "Кстати, на такой задаче, TF-IDF, судя по аналогичным задачам из анализа текстов, сыграет намного более лучшим образом, чем просто порядковые признаки."
   ]
  },
  {
   "cell_type": "markdown",
   "metadata": {},
   "source": [
    "## Выбор порога\n",
    "\n",
    "* При вызове ```predict``` возвращается 1, если вероятность принадлежности к классу больше $0.5$\n",
    "* Можно выбирать порог самому через кросс-валидацию"
   ]
  },
  {
   "cell_type": "code",
   "execution_count": 20,
   "metadata": {},
   "outputs": [
    {
     "name": "stdout",
     "output_type": "stream",
     "text": [
      "CPU times: user 11min 25s, sys: 244 ms, total: 11min 25s\n",
      "Wall time: 11min 25s\n"
     ]
    }
   ],
   "source": [
    "clf = OneVsRestClassifier(LogisticRegression(random_state=42, C=100)) #C=100000\n",
    "%time y_hat_dummy = cross_val_predict(clf, sparse_dummy, y, method='predict_proba')"
   ]
  },
  {
   "cell_type": "code",
   "execution_count": 21,
   "metadata": {
    "collapsed": true
   },
   "outputs": [],
   "source": [
    "def get_score(alpha, y, y_hat):\n",
    "    return f1_score(y, (y_hat > alpha).astype('int'), average='samples')"
   ]
  },
  {
   "cell_type": "markdown",
   "metadata": {},
   "source": [
    "## Выбор порога для Dummy\n",
    "\n",
    "* Качество с порогом по умолчанию — $F1=0.56$\n",
    "* Качество с подобранным порогом — $F1=0.6189$ (Гиперпараметр C=100000, что ожидаемо)\n",
    "* Качество с подобранным порогом — $F1=0.6185$ (Гиперпараметр C=100, что странно на самом деле, но быстро)"
   ]
  },
  {
   "cell_type": "code",
   "execution_count": 22,
   "metadata": {
    "collapsed": true
   },
   "outputs": [],
   "source": [
    "import matplotlib.pyplot as plt\n",
    "plt.rcParams[\"figure.figsize\"] = (20, 5)\n",
    "\n",
    "from matplotlib.pyplot import *"
   ]
  },
  {
   "cell_type": "code",
   "execution_count": 23,
   "metadata": {},
   "outputs": [
    {
     "name": "stdout",
     "output_type": "stream",
     "text": [
      "0.618536717615\n",
      "0.0848484848485\n"
     ]
    },
    {
     "data": {
      "image/png": "[encoded data removed]",
      "text/plain": [
       "<matplotlib.figure.Figure at 0x7f2c7d6ceba8>"
      ]
     },
     "metadata": {},
     "output_type": "display_data"
    }
   ],
   "source": [
    "alphas = np.linspace(0.0, 0.6, 100)\n",
    "scores = [get_score(alpha, y, y_hat_dummy) for alpha in alphas]\n",
    "\n",
    "plot(alphas, scores);\n",
    "scatter(alphas[np.argmax(scores)], np.max(scores));\n",
    "ylabel('F1-score')\n",
    "xlabel('alpha')\n",
    "\n",
    "\n",
    "print(np.max(scores))\n",
    "print(alphas[np.argmax(scores)])\n",
    "\n",
    "alpha = alphas[np.argmax(scores)]"
   ]
  },
  {
   "cell_type": "markdown",
   "metadata": {},
   "source": [
    "### Умный классификатор учитывающий пороги"
   ]
  },
  {
   "cell_type": "code",
   "execution_count": 24,
   "metadata": {},
   "outputs": [
    {
     "name": "stdout",
     "output_type": "stream",
     "text": [
      "<function clf at 0x7f2cca55c730>\n",
      "CPU times: user 4min, sys: 32 ms, total: 4min\n",
      "Wall time: 4min\n"
     ]
    }
   ],
   "source": [
    "%%time\n",
    "smart_clf = OneVsRestClassifier(LogisticRegression(random_state=42, C=100))\n",
    "smart_clf.fit(X_train, y_train)\n",
    "answer = smart_clf.predict(X_test)\n",
    "print(clf)"
   ]
  },
  {
   "cell_type": "code",
   "execution_count": 25,
   "metadata": {},
   "outputs": [
    {
     "name": "stdout",
     "output_type": "stream",
     "text": [
      "Accuracy score 0.5640132642348903\n",
      "F1 score 0.5644826226302955\n"
     ]
    }
   ],
   "source": [
    "print(\"Accuracy score {0}\".format(accuracy_score(y_true=y_test, y_pred=answer)))\n",
    "print(\"F1 score {0}\".format(f1_score(y_true=y_test, y_pred=answer, average='samples')))"
   ]
  },
  {
   "cell_type": "code",
   "execution_count": 26,
   "metadata": {
    "collapsed": true
   },
   "outputs": [],
   "source": [
    "def return_thresolded_prediction_ua(predictions, alpha):\n",
    "    ua_list = []\n",
    "    for i, proba in enumerate(predictions):\n",
    "        if proba > alpha:\n",
    "            ua_list.append(return_ua(i))\n",
    "    return ua_list"
   ]
  },
  {
   "cell_type": "markdown",
   "metadata": {},
   "source": [
    "### А теперь предсказания по настоящему"
   ]
  },
  {
   "cell_type": "code",
   "execution_count": 27,
   "metadata": {
    "collapsed": true
   },
   "outputs": [],
   "source": [
    "pd.set_option('display.width', 1000)\n",
    "pd.set_option('display.expand_frame_repr', True)\n",
    "\n",
    "def smart_prediction(clf, X_test, y_test, alpha):\n",
    "    predictions_proba = clf.predict_proba(X_test)\n",
    "\n",
    "    y_test_names = pd.DataFrame(y_test).apply(lambda l: return_prediction_ua(l), axis=1)\n",
    "    y_predicted = pd.DataFrame(predictions_proba).apply(lambda l: return_thresolded_prediction_ua(l, alpha), axis=1)\n",
    "\n",
    "    compare_answers = []\n",
    "    for i, y_tst in enumerate(y_test_names):\n",
    "        current_answer = True\n",
    "        for j, tst_val in enumerate(y_tst):\n",
    "            if tst_val not in y_predicted[i]:\n",
    "                current_answer = False\n",
    "        compare_answers.append(current_answer)\n",
    "        \n",
    "    return y_test_names, y_predicted, compare_answers\n"
   ]
  },
  {
   "cell_type": "code",
   "execution_count": 28,
   "metadata": {
    "scrolled": true
   },
   "outputs": [
    {
     "data": {
      "text/plain": [
       "['Mozilla/5.0 (compatible; MJ12bot/v1.4.7; http://mj12bot.com/)']"
      ]
     },
     "execution_count": 28,
     "metadata": {},
     "output_type": "execute_result"
    }
   ],
   "source": [
    "y_test_names, y_predicted, compare_answers = smart_prediction(smart_clf, X_test, y_test, alpha)\n",
    "\n",
    "compare_frame = pd.concat(\n",
    "    [\n",
    "        y_test_names,\n",
    "        y_predicted, \n",
    "        pd.DataFrame(compare_answers)\n",
    "    ], keys=['test', 'predicted', 'correctness'], axis=1, join='inner')\n",
    "\n",
    "compare_frame.predicted.iloc[3][1]"
   ]
  },
  {
   "cell_type": "code",
   "execution_count": 29,
   "metadata": {},
   "outputs": [
    {
     "data": {
      "text/plain": [
       "0.80610221459399112"
      ]
     },
     "execution_count": 29,
     "metadata": {},
     "output_type": "execute_result"
    }
   ],
   "source": [
    "smart_accuracy = numpy.sum(compare_answers) / y_test.shape[0]\n",
    "smart_accuracy"
   ]
  },
  {
   "cell_type": "markdown",
   "metadata": {},
   "source": [
    "### Неплохая «Глупая» классификация вышла (80% угаданных)\n",
    "\n",
    "### Попробуем NaiveBayes"
   ]
  },
  {
   "cell_type": "code",
   "execution_count": 30,
   "metadata": {},
   "outputs": [
    {
     "name": "stdout",
     "output_type": "stream",
     "text": [
      "Accuracy score 0.26031894152738666\n",
      "F1 score 0.4965621141397161\n",
      "CPU times: user 3.11 s, sys: 120 ms, total: 3.23 s\n",
      "Wall time: 3.93 s\n"
     ]
    }
   ],
   "source": [
    "%%time\n",
    "from sklearn.naive_bayes import MultinomialNB\n",
    "\n",
    "nb_clf = OneVsRestClassifier(MultinomialNB(), n_jobs=-1)\n",
    "nb_clf.fit(X_train, y_train)\n",
    "nb_answer = nb_clf.predict(X_test)\n",
    "print(\"Accuracy score {0}\".format(accuracy_score(y_true=y_test, y_pred=nb_answer)))\n",
    "print(\"F1 score {0}\".format(f1_score(y_true=y_test, y_pred=nb_answer, average='samples')))"
   ]
  },
  {
   "cell_type": "markdown",
   "metadata": {},
   "source": [
    "**Результат не самый лучший, зато вычисления ну очень быстрые**\n",
    "\n",
    "**Попробуем так же с порогами поизвращаться**"
   ]
  },
  {
   "cell_type": "code",
   "execution_count": 31,
   "metadata": {
    "collapsed": true
   },
   "outputs": [],
   "source": [
    "params = {'estimator__alpha': np.logspace(-5, 5, 11)}\n",
    "\n",
    "clf = OneVsRestClassifier(MultinomialNB())\n",
    "cv = GridSearchCV(clf, params, n_jobs=-1, scoring=make_scorer(f1_score, average='samples'), cv=5)\n",
    "cv.fit(X_train, y_train);"
   ]
  },
  {
   "cell_type": "code",
   "execution_count": 32,
   "metadata": {},
   "outputs": [
    {
     "data": {
      "text/html": [
       "<div>\n",
       "<style>\n",
       "    .dataframe thead tr:only-child th {\n",
       "        text-align: right;\n",
       "    }\n",
       "\n",
       "    .dataframe thead th {\n",
       "        text-align: left;\n",
       "    }\n",
       "\n",
       "    .dataframe tbody tr th {\n",
       "        vertical-align: top;\n",
       "    }\n",
       "</style>\n",
       "<table border=\"1\" class=\"dataframe\">\n",
       "  <thead>\n",
       "    <tr style=\"text-align: right;\">\n",
       "      <th></th>\n",
       "      <th>mean_test_score</th>\n",
       "      <th>params</th>\n",
       "    </tr>\n",
       "  </thead>\n",
       "  <tbody>\n",
       "    <tr>\n",
       "      <th>0</th>\n",
       "      <td>0.506275</td>\n",
       "      <td>{'estimator__alpha': 1e-05}</td>\n",
       "    </tr>\n",
       "    <tr>\n",
       "      <th>1</th>\n",
       "      <td>0.506166</td>\n",
       "      <td>{'estimator__alpha': 0.0001}</td>\n",
       "    </tr>\n",
       "    <tr>\n",
       "      <th>2</th>\n",
       "      <td>0.505763</td>\n",
       "      <td>{'estimator__alpha': 0.001}</td>\n",
       "    </tr>\n",
       "    <tr>\n",
       "      <th>3</th>\n",
       "      <td>0.505121</td>\n",
       "      <td>{'estimator__alpha': 0.01}</td>\n",
       "    </tr>\n",
       "    <tr>\n",
       "      <th>5</th>\n",
       "      <td>0.499057</td>\n",
       "      <td>{'estimator__alpha': 1.0}</td>\n",
       "    </tr>\n",
       "    <tr>\n",
       "      <th>...</th>\n",
       "      <td>...</td>\n",
       "      <td>...</td>\n",
       "    </tr>\n",
       "    <tr>\n",
       "      <th>6</th>\n",
       "      <td>0.477966</td>\n",
       "      <td>{'estimator__alpha': 10.0}</td>\n",
       "    </tr>\n",
       "    <tr>\n",
       "      <th>7</th>\n",
       "      <td>0.334823</td>\n",
       "      <td>{'estimator__alpha': 100.0}</td>\n",
       "    </tr>\n",
       "    <tr>\n",
       "      <th>8</th>\n",
       "      <td>0.188592</td>\n",
       "      <td>{'estimator__alpha': 1000.0}</td>\n",
       "    </tr>\n",
       "    <tr>\n",
       "      <th>9</th>\n",
       "      <td>0.000000</td>\n",
       "      <td>{'estimator__alpha': 10000.0}</td>\n",
       "    </tr>\n",
       "    <tr>\n",
       "      <th>10</th>\n",
       "      <td>0.000000</td>\n",
       "      <td>{'estimator__alpha': 100000.0}</td>\n",
       "    </tr>\n",
       "  </tbody>\n",
       "</table>\n",
       "<p>11 rows × 2 columns</p>\n",
       "</div>"
      ],
      "text/plain": [
       "    mean_test_score                          params\n",
       "0          0.506275     {'estimator__alpha': 1e-05}\n",
       "1          0.506166    {'estimator__alpha': 0.0001}\n",
       "2          0.505763     {'estimator__alpha': 0.001}\n",
       "3          0.505121      {'estimator__alpha': 0.01}\n",
       "5          0.499057       {'estimator__alpha': 1.0}\n",
       "..              ...                             ...\n",
       "6          0.477966      {'estimator__alpha': 10.0}\n",
       "7          0.334823     {'estimator__alpha': 100.0}\n",
       "8          0.188592    {'estimator__alpha': 1000.0}\n",
       "9          0.000000   {'estimator__alpha': 10000.0}\n",
       "10         0.000000  {'estimator__alpha': 100000.0}\n",
       "\n",
       "[11 rows x 2 columns]"
      ]
     },
     "execution_count": 32,
     "metadata": {},
     "output_type": "execute_result"
    }
   ],
   "source": [
    "pd.DataFrame(cv.cv_results_)[['mean_test_score', 'params']].sort_values('mean_test_score', ascending=False)"
   ]
  },
  {
   "cell_type": "code",
   "execution_count": 33,
   "metadata": {},
   "outputs": [
    {
     "name": "stdout",
     "output_type": "stream",
     "text": [
      "CPU times: user 12.5 s, sys: 332 ms, total: 12.8 s\n",
      "Wall time: 12.9 s\n"
     ]
    }
   ],
   "source": [
    "clf = OneVsRestClassifier(MultinomialNB(alpha=0.0001))\n",
    "%time y_hat_dummy = cross_val_predict(clf, sparse_dummy, y, method='predict_proba')"
   ]
  },
  {
   "cell_type": "code",
   "execution_count": 34,
   "metadata": {},
   "outputs": [
    {
     "name": "stdout",
     "output_type": "stream",
     "text": [
      "0.498712433818\n",
      "0.593939393939\n"
     ]
    },
    {
     "data": {
      "image/png": "[encoded data removed]",
      "text/plain": [
       "<matplotlib.figure.Figure at 0x7f2c7c973ef0>"
      ]
     },
     "metadata": {},
     "output_type": "display_data"
    }
   ],
   "source": [
    "alphas = np.linspace(0.0, 0.6, 100)\n",
    "scores = [get_score(alpha, y, y_hat_dummy) for alpha in alphas]\n",
    "\n",
    "plot(alphas, scores);\n",
    "scatter(alphas[np.argmax(scores)], np.max(scores));\n",
    "ylabel('F1-score')\n",
    "xlabel('alpha')\n",
    "\n",
    "\n",
    "print(np.max(scores))\n",
    "print(alphas[np.argmax(scores)])\n",
    "\n",
    "mb_alpha = alphas[np.argmax(scores)]"
   ]
  },
  {
   "cell_type": "code",
   "execution_count": 35,
   "metadata": {},
   "outputs": [
    {
     "name": "stdout",
     "output_type": "stream",
     "text": [
      "CPU times: user 0 ns, sys: 0 ns, total: 0 ns\n",
      "Wall time: 4.53 µs\n"
     ]
    }
   ],
   "source": [
    "%time \n",
    "mb_smart_clf = OneVsRestClassifier(MultinomialNB(alpha=0.0001))\n",
    "mb_smart_clf.fit(X_train, y_train)\n",
    "answer = smart_clf.predict(X_test)\n",
    "\n",
    "y_test_names, y_predicted, mb_compare_answers = smart_prediction(mb_smart_clf, X_test, y_test, mb_alpha)"
   ]
  },
  {
   "cell_type": "code",
   "execution_count": 36,
   "metadata": {},
   "outputs": [
    {
     "data": {
      "text/plain": [
       "['Mozilla/5.0 (Windows NT 6.1) AppleWebKit/537.36 (KHTML, like Gecko) Chrome/55.0.2883.87 Safari/537.36',\n",
       " 'Mozilla/5.0 (Windows NT 6.1; WOW64; rv:38.0) Gecko/20100101 Firefox/38.0',\n",
       " 'Mozilla/5.0 (compatible; Yahoo! Slurp; http://help.yahoo.com/help/us/ysearch/slurp)',\n",
       " 'Mediapartners-Google',\n",
       " 'Mozilla/5.0 (iPhone; CPU iPhone OS 10_2_1 like Mac OS X) AppleWebKit/602.4.6 (KHTML, like Gecko) Version/10.0 Mobile/14D27 Safari/602.1',\n",
       " 'Mozilla/5.0 (Windows NT 5.1) AppleWebKit/537.36 (KHTML, like Gecko) Chrome/49.0.2623.112 Safari/537.36',\n",
       " 'Mozilla/5.0 (Windows NT 6.1; WOW64; rv:51.0) Gecko/20100101 Firefox/51.0',\n",
       " 'Mozilla/5.0 (Windows NT 10.0; WOW64) AppleWebKit/537.36 (KHTML, like Gecko) Chrome/55.0.2883.95 YaBrowser/17.1.0.2034 Yowser/2.5 Safari/537.36',\n",
       " 'Mozilla/5.0 (iPhone; CPU iPhone OS 10_2 like Mac OS X) AppleWebKit/602.3.12 (KHTML, like Gecko) Version/10.0 Mobile/14C92 Safari/602.1',\n",
       " 'Mozilla/5.0 (Windows NT 6.1; rv:43.0) Gecko/20100101 Firefox/43.0',\n",
       " 'Mozilla/5.0 (Windows NT 10.0; WOW64) AppleWebKit/537.36 (KHTML, like Gecko) Chrome/55.0.2883.87 Safari/537.36',\n",
       " 'Mozilla/5.0 (Windows NT 6.1; Win64; x64) AppleWebKit/537.36 (KHTML, like Gecko) Chrome/55.0.2883.87 Safari/537.36',\n",
       " 'Mozilla/5.0 (Windows NT 6.1; WOW64; Trident/7.0; rv:11.0) like Gecko',\n",
       " 'Mozilla/5.0 (compatible; SputnikBot/2.3; +http://corp.sputnik.ru/webmaster)',\n",
       " 'Mozilla/5.0 (Windows NT 6.3; WOW64) AppleWebKit/537.36 (KHTML, like Gecko) Chrome/55.0.2883.95 YaBrowser/17.1.0.2034 Yowser/2.5 Safari/537.36',\n",
       " 'netEstate NE Crawler (+http://www.website-datenbank.de/)',\n",
       " 'Mozilla/5.0 (Windows NT 6.1; Win64; x64) AppleWebKit/537.36 (KHTML, like Gecko) Chrome/56.0.2924.87 Safari/537.36',\n",
       " 'Mozilla/5.0 (Windows NT 10.0; Win64; x64) AppleWebKit/537.36 (KHTML, like Gecko) Chrome/51.0.2704.79 Safari/537.36 Edge/14.14393',\n",
       " 'Mozilla/5.0 (Windows NT 6.3; WOW64) AppleWebKit/537.36 (KHTML, like Gecko) Chrome/55.0.2883.87 Safari/537.36',\n",
       " 'Mozilla/5.0 (Windows NT 10.0; WOW64; rv:51.0) Gecko/20100101 Firefox/51.0',\n",
       " 'Mozilla/5.0 (Windows NT 10.0; Win64; x64) AppleWebKit/537.36 (KHTML, like Gecko) Chrome/56.0.2924.87 Safari/537.36',\n",
       " 'Tiny Tiny RSS/17.1 (60e97d9) (http://tt-rss.org/)',\n",
       " 'Mozilla/5.0 (compatible; YandexMetrika/2.0; +http://yandex.com/bots mtmon01i.yandex.ru)',\n",
       " 'Mozilla/5.0 (compatible; YandexMetrika/2.0; +http://yandex.com/bots mtmon01g.yandex.ru)',\n",
       " 'Mozilla/4.0 (compatible; MSIE 6.0; Windows NT 5.1)',\n",
       " 'Mozilla/5.0 (compatible; Linux x86_64; Mail.RU_Bot/2.0; +http://go.mail.ru/help/robots)',\n",
       " 'Mozilla/5.0 (Windows NT 6.3; WOW64) AppleWebKit/537.36 (KHTML, like Gecko) Chrome/56.0.2924.87 Safari/537.36',\n",
       " 'Mozilla/5.0 (compatible; Baiduspider/2.0; +http://www.baidu.com/search/spider.html)']"
      ]
     },
     "execution_count": 36,
     "metadata": {},
     "output_type": "execute_result"
    }
   ],
   "source": [
    "mb_compare_frame = pd.concat(\n",
    "    [\n",
    "        y_test_names,\n",
    "        y_predicted, \n",
    "        pd.DataFrame(mb_compare_answers)\n",
    "    ], keys=['test', 'predicted', 'correctness'], axis=1, join='inner')\n",
    "\n",
    "first_answer = mb_compare_frame.predicted.iloc[1][1]\n",
    "mb_compare_frame.predicted.iloc[2][1]"
   ]
  },
  {
   "cell_type": "code",
   "execution_count": 37,
   "metadata": {},
   "outputs": [
    {
     "data": {
      "text/plain": [
       "0.90603389378613919"
      ]
     },
     "execution_count": 37,
     "metadata": {},
     "output_type": "execute_result"
    }
   ],
   "source": [
    "mb_smart_accuracy = numpy.sum(mb_compare_answers) / y_test.shape[0]\n",
    "mb_smart_accuracy"
   ]
  },
  {
   "cell_type": "markdown",
   "metadata": {},
   "source": [
    "### Неплохой «Глупый Байес» (90% угаданных)\n",
    "\n",
    "Но получилось слишком много вероятных вариантов, потому точность будет низкой. Потому использовать Байеса в дальнейшем не очень хочется"
   ]
  },
  {
   "cell_type": "markdown",
   "metadata": {},
   "source": [
    "## Tf-Idf\n",
    "\n",
    "Значение Tf-Idf для каждого пары документ-слово состоит из двух компонент:\n",
    "* Term frequency — логарифм встречаемости слова в документе\n",
    "$$tf(t, d) = \\log n_{t,d}$$\n",
    "\n",
    "* Inverse Document frequency — логарифм обратной доли документов в которых встретилось данное слово\n",
    "$$idf(t, D) = \\log \\frac{ \\mid D \\mid}{\\mid \\{ d_i \\in D \\mid t \\in d_i \\} \\mid}$$\n",
    "\n",
    "* Tf-Idf — кобминация tf и idf\n",
    "$$ TfIdf(t, d, D) = tf(t, d) * idf(t, D)$$"
   ]
  },
  {
   "cell_type": "code",
   "execution_count": 38,
   "metadata": {},
   "outputs": [
    {
     "name": "stdout",
     "output_type": "stream",
     "text": [
      "(181851, 1042)\n",
      "<class 'scipy.sparse.csr.csr_matrix'>\n",
      "  (0, 1)\t1\n",
      "  (0, 2)\t1\n",
      "  (0, 23)\t1\n",
      "  (0, 71)\t1\n",
      "  (0, 535)\t1\n",
      "  (0, 536)\t1\n",
      "  (0, 645)\t1\n",
      "  (0, 646)\t1\n",
      "  (0, 647)\t1\n",
      "  (0, 660)\t1\n",
      "  (0, 663)\t1\n",
      "  (0, 684)\t1\n",
      "  (0, 686)\t1\n",
      "  (0, 687)\t1\n",
      "  (0, 706)\t1\n",
      "  (0, 706)\t0.27615587655\n",
      "  (0, 687)\t0.243136142345\n",
      "  (0, 686)\t0.220008834592\n",
      "  (0, 684)\t0.264015084982\n",
      "  (0, 663)\t0.277554936539\n",
      "  (0, 660)\t0.286043115875\n",
      "  (0, 647)\t0.277650955254\n",
      "  (0, 646)\t0.281143440928\n",
      "  (0, 645)\t0.286671249375\n",
      "  (0, 536)\t0.277057295913\n",
      "  (0, 535)\t0.267453235376\n",
      "  (0, 71)\t0.218371154508\n",
      "  (0, 23)\t0.252327164808\n",
      "  (0, 2)\t0.228119132158\n",
      "  (0, 1)\t0.194062155613\n"
     ]
    }
   ],
   "source": [
    "tf_idf_vectorizer = sklearn.feature_extraction.text.TfidfTransformer()\n",
    "tf_idf = tf_idf_vectorizer.fit_transform(sparse_dummy)\n",
    "print(tf_idf.shape)\n",
    "print(type(tf_idf))\n",
    "print(sparse_dummy[:1])\n",
    "print(tf_idf[:1])"
   ]
  },
  {
   "cell_type": "markdown",
   "metadata": {},
   "source": [
    "** Логистическая регрессия по tf-idf**"
   ]
  },
  {
   "cell_type": "code",
   "execution_count": 39,
   "metadata": {},
   "outputs": [
    {
     "name": "stdout",
     "output_type": "stream",
     "text": [
      "CPU times: user 100 ms, sys: 0 ns, total: 100 ms\n",
      "Wall time: 99.5 ms\n"
     ]
    }
   ],
   "source": [
    "%%time\n",
    "X_train, X_test, y_train, y_test = train_test_split(tf_idf, y, test_size=0.33, random_state=42)"
   ]
  },
  {
   "cell_type": "code",
   "execution_count": 40,
   "metadata": {},
   "outputs": [
    {
     "name": "stdout",
     "output_type": "stream",
     "text": [
      "Accuracy score 0.5541983969605573\n",
      "F1 score 0.5542095060350046\n"
     ]
    }
   ],
   "source": [
    "tf_clf = OneVsRestClassifier(LogisticRegression(random_state=42), n_jobs=-1)\n",
    "tf_clf.fit(X_train, y_train)\n",
    "tf_answer = tf_clf.predict(X_test)\n",
    "print(\"Accuracy score {0}\".format(accuracy_score(y_true=y_test, y_pred=tf_answer)))\n",
    "print(\"F1 score {0}\".format(f1_score(y_true=y_test, y_pred=tf_answer, average='samples')))"
   ]
  },
  {
   "cell_type": "code",
   "execution_count": 41,
   "metadata": {
    "collapsed": true
   },
   "outputs": [],
   "source": [
    "params = {'estimator__C': np.logspace(-5, 5, 11)}\n",
    "\n",
    "clf = OneVsRestClassifier(LogisticRegression())\n",
    "cv = GridSearchCV(clf, params, n_jobs=-1, scoring=make_scorer(f1_score, average='samples'), cv=5)\n",
    "cv.fit(X_train, y_train);"
   ]
  },
  {
   "cell_type": "code",
   "execution_count": 42,
   "metadata": {},
   "outputs": [
    {
     "data": {
      "text/html": [
       "<div>\n",
       "<style>\n",
       "    .dataframe thead tr:only-child th {\n",
       "        text-align: right;\n",
       "    }\n",
       "\n",
       "    .dataframe thead th {\n",
       "        text-align: left;\n",
       "    }\n",
       "\n",
       "    .dataframe tbody tr th {\n",
       "        vertical-align: top;\n",
       "    }\n",
       "</style>\n",
       "<table border=\"1\" class=\"dataframe\">\n",
       "  <thead>\n",
       "    <tr style=\"text-align: right;\">\n",
       "      <th></th>\n",
       "      <th>mean_test_score</th>\n",
       "      <th>params</th>\n",
       "    </tr>\n",
       "  </thead>\n",
       "  <tbody>\n",
       "    <tr>\n",
       "      <th>10</th>\n",
       "      <td>0.566710</td>\n",
       "      <td>{'estimator__C': 100000.0}</td>\n",
       "    </tr>\n",
       "    <tr>\n",
       "      <th>9</th>\n",
       "      <td>0.566684</td>\n",
       "      <td>{'estimator__C': 10000.0}</td>\n",
       "    </tr>\n",
       "    <tr>\n",
       "      <th>8</th>\n",
       "      <td>0.566622</td>\n",
       "      <td>{'estimator__C': 1000.0}</td>\n",
       "    </tr>\n",
       "    <tr>\n",
       "      <th>7</th>\n",
       "      <td>0.566140</td>\n",
       "      <td>{'estimator__C': 100.0}</td>\n",
       "    </tr>\n",
       "    <tr>\n",
       "      <th>6</th>\n",
       "      <td>0.563042</td>\n",
       "      <td>{'estimator__C': 10.0}</td>\n",
       "    </tr>\n",
       "    <tr>\n",
       "      <th>...</th>\n",
       "      <td>...</td>\n",
       "      <td>...</td>\n",
       "    </tr>\n",
       "    <tr>\n",
       "      <th>4</th>\n",
       "      <td>0.530827</td>\n",
       "      <td>{'estimator__C': 0.1}</td>\n",
       "    </tr>\n",
       "    <tr>\n",
       "      <th>3</th>\n",
       "      <td>0.413846</td>\n",
       "      <td>{'estimator__C': 0.01}</td>\n",
       "    </tr>\n",
       "    <tr>\n",
       "      <th>2</th>\n",
       "      <td>0.010292</td>\n",
       "      <td>{'estimator__C': 0.001}</td>\n",
       "    </tr>\n",
       "    <tr>\n",
       "      <th>0</th>\n",
       "      <td>0.000000</td>\n",
       "      <td>{'estimator__C': 1e-05}</td>\n",
       "    </tr>\n",
       "    <tr>\n",
       "      <th>1</th>\n",
       "      <td>0.000000</td>\n",
       "      <td>{'estimator__C': 0.0001}</td>\n",
       "    </tr>\n",
       "  </tbody>\n",
       "</table>\n",
       "<p>11 rows × 2 columns</p>\n",
       "</div>"
      ],
      "text/plain": [
       "    mean_test_score                      params\n",
       "10         0.566710  {'estimator__C': 100000.0}\n",
       "9          0.566684   {'estimator__C': 10000.0}\n",
       "8          0.566622    {'estimator__C': 1000.0}\n",
       "7          0.566140     {'estimator__C': 100.0}\n",
       "6          0.563042      {'estimator__C': 10.0}\n",
       "..              ...                         ...\n",
       "4          0.530827       {'estimator__C': 0.1}\n",
       "3          0.413846      {'estimator__C': 0.01}\n",
       "2          0.010292     {'estimator__C': 0.001}\n",
       "0          0.000000     {'estimator__C': 1e-05}\n",
       "1          0.000000    {'estimator__C': 0.0001}\n",
       "\n",
       "[11 rows x 2 columns]"
      ]
     },
     "execution_count": 42,
     "metadata": {},
     "output_type": "execute_result"
    }
   ],
   "source": [
    "pd.DataFrame(cv.cv_results_)[['mean_test_score', 'params']].sort_values('mean_test_score', ascending=False)"
   ]
  },
  {
   "cell_type": "markdown",
   "metadata": {},
   "source": [
    "## И снова выберем порог"
   ]
  },
  {
   "cell_type": "code",
   "execution_count": 43,
   "metadata": {},
   "outputs": [
    {
     "name": "stdout",
     "output_type": "stream",
     "text": [
      "CPU times: user 17min 24s, sys: 1.03 s, total: 17min 25s\n",
      "Wall time: 17min 28s\n"
     ]
    }
   ],
   "source": [
    "tf_clf = OneVsRestClassifier(LogisticRegression(C=100000))\n",
    "%time y_hat_tf_idf = cross_val_predict(tf_clf, tf_idf, y, method='predict_proba')"
   ]
  },
  {
   "cell_type": "code",
   "execution_count": 44,
   "metadata": {
    "collapsed": true
   },
   "outputs": [],
   "source": [
    "def get_score(alpha, y, y_hat):\n",
    "    return f1_score(y, (y_hat > alpha).astype('int'), average='samples')"
   ]
  },
  {
   "cell_type": "markdown",
   "metadata": {},
   "source": [
    "## Выбор порога для Dummy\n",
    "\n",
    "* Качество с порогом по умолчанию — $F1=0.55$\n",
    "* Качество с подобранным порогом — $F1=0.61$"
   ]
  },
  {
   "cell_type": "code",
   "execution_count": 45,
   "metadata": {},
   "outputs": [
    {
     "name": "stdout",
     "output_type": "stream",
     "text": [
      "0.619837595108\n",
      "0.0848484848485\n"
     ]
    },
    {
     "data": {
      "image/png": "[encoded data removed]",
      "text/plain": [
       "<matplotlib.figure.Figure at 0x7f2c8175cc88>"
      ]
     },
     "metadata": {},
     "output_type": "display_data"
    }
   ],
   "source": [
    "alphas = np.linspace(0.0, 0.1, 100)\n",
    "scores = [get_score(alpha, y, y_hat_tf_idf) for alpha in alphas]\n",
    "\n",
    "plot(alphas, scores);\n",
    "scatter(alphas[np.argmax(scores)], np.max(scores));\n",
    "ylabel('F1-score')\n",
    "xlabel('alpha')\n",
    "\n",
    "\n",
    "print(np.max(scores))\n",
    "print(alphas[np.argmax(scores)])\n",
    "\n",
    "tf_alpha = alphas[np.argmax(scores)]"
   ]
  },
  {
   "cell_type": "code",
   "execution_count": 46,
   "metadata": {},
   "outputs": [
    {
     "name": "stdout",
     "output_type": "stream",
     "text": [
      "CPU times: user 6min 8s, sys: 112 ms, total: 6min 8s\n",
      "Wall time: 6min 9s\n"
     ]
    }
   ],
   "source": [
    "%%time\n",
    "smart_tf_clf = OneVsRestClassifier(LogisticRegression(random_state=42, C=100000))\n",
    "smart_tf_clf.fit(X_train, y_train)\n",
    "tf_answer = smart_tf_clf.predict(X_test)"
   ]
  },
  {
   "cell_type": "code",
   "execution_count": 47,
   "metadata": {
    "collapsed": true
   },
   "outputs": [],
   "source": [
    "y_tf_test_names, y_tf_predicted, tf_compare_answers = smart_prediction(smart_clf, X_test, y_test, tf_alpha)"
   ]
  },
  {
   "cell_type": "code",
   "execution_count": 48,
   "metadata": {},
   "outputs": [
    {
     "data": {
      "text/plain": [
       "[]"
      ]
     },
     "execution_count": 48,
     "metadata": {},
     "output_type": "execute_result"
    }
   ],
   "source": [
    "tf_compare_frame = pd.concat(\n",
    "    [\n",
    "        y_tf_test_names,\n",
    "        y_tf_predicted, \n",
    "        pd.DataFrame(tf_compare_answers)\n",
    "    ], keys=['test', 'predicted', 'correctness'], axis=1, join='inner')\n",
    "\n",
    "tf_compare_frame.predicted.iloc[2][1]"
   ]
  },
  {
   "cell_type": "code",
   "execution_count": 49,
   "metadata": {},
   "outputs": [
    {
     "data": {
      "text/plain": [
       "0.30974321374414693"
      ]
     },
     "execution_count": 49,
     "metadata": {},
     "output_type": "execute_result"
    }
   ],
   "source": [
    "smart_tf_accuracy = numpy.sum(tf_compare_answers) / y_test.shape[0]\n",
    "smart_tf_accuracy"
   ]
  }
 ],
 "metadata": {
  "kernelspec": {
   "display_name": "Python 3",
   "language": "python",
   "name": "python3"
  },
  "language_info": {
   "codemirror_mode": {
    "name": "ipython",
    "version": 3
   },
   "file_extension": ".py",
   "mimetype": "text/x-python",
   "name": "python",
   "nbconvert_exporter": "python",
   "pygments_lexer": "ipython3",
   "version": "3.6.1"
  }
 },
 "nbformat": 4,
 "nbformat_minor": 2
}
